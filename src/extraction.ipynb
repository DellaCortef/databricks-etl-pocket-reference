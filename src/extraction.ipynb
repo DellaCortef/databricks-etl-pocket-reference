{
 "cells": [
  {
   "cell_type": "code",
   "execution_count": 0,
   "metadata": {
    "application/vnd.databricks.v1+cell": {
     "cellMetadata": {
      "byteLimit": 2048000,
      "rowLimit": 10000
     },
     "inputWidgets": {},
     "nuid": "968b25f6-2e32-43d4-a9bf-b9f1206cdf77",
     "showTitle": false,
     "tableResultSettingsMap": {},
     "title": ""
    }
   },
   "outputs": [
    {
     "output_type": "stream",
     "name": "stdout",
     "output_type": "stream",
     "text": [
      "Collecting tqdm\n  Obtaining dependency information for tqdm from https://files.pythonhosted.org/packages/d0/30/dc54f88dd4a2b5dc8a0279bdd7270e735851848b762aeb1c1184ed1f6b14/tqdm-4.67.1-py3-none-any.whl.metadata\n  Using cached tqdm-4.67.1-py3-none-any.whl.metadata (57 kB)\nUsing cached tqdm-4.67.1-py3-none-any.whl (78 kB)\nInstalling collected packages: tqdm\nSuccessfully installed tqdm-4.67.1\n\u001B[43mNote: you may need to restart the kernel using %restart_python or dbutils.library.restartPython() to use updated packages.\u001B[0m\n"
     ]
    }
   ],
   "source": [
    "# Install necessary libs\n",
    "#%pip install tqdm"
   ]
  },
  {
   "cell_type": "code",
   "execution_count": 0,
   "metadata": {
    "application/vnd.databricks.v1+cell": {
     "cellMetadata": {
      "byteLimit": 2048000,
      "rowLimit": 10000
     },
     "inputWidgets": {},
     "nuid": "59ccd438-2a3b-49a9-b4b9-bf0a5a55d243",
     "showTitle": false,
     "tableResultSettingsMap": {},
     "title": ""
    }
   },
   "outputs": [],
   "source": [
    "# Importing necessary lubs\n",
    "import time\n",
    "import json\n",
    "import requests\n",
    "from tqdm import tqdm\n",
    "from pyspark.sql import SparkSession\n",
    "from multiprocessing import Pool, cpu_count\n",
    "from pyspark.sql.types import StructType, StructField, StringType, IntegerType, ArrayType, BooleanType\n",
    "\n",
    "# Initialize Spark session\n",
    "spark = SparkSession.builder.getOrCreate()"
   ]
  },
  {
   "cell_type": "code",
   "execution_count": 0,
   "metadata": {
    "application/vnd.databricks.v1+cell": {
     "cellMetadata": {
      "byteLimit": 2048000,
      "rowLimit": 10000
     },
     "inputWidgets": {},
     "nuid": "eab05450-fb8f-41d7-ab07-d6baa6482fb6",
     "showTitle": false,
     "tableResultSettingsMap": {},
     "title": ""
    }
   },
   "outputs": [
    {
     "output_type": "stream",
     "name": "stderr",
     "output_type": "stream",
     "text": [
      "\rFetching Pokémon Data:   0%|          | 0/3 [00:00<?, ?it/s]\rFetching Pokémon Data:  33%|███▎      | 1/3 [00:00<00:00,  6.24it/s]\rFetching Pokémon Data:  67%|██████▋   | 2/3 [00:00<00:00,  4.17it/s]\rFetching Pokémon Data: 100%|██████████| 3/3 [00:00<00:00,  6.55it/s]\n"
     ]
    },
    {
     "output_type": "display_data",
     "data": {
      "text/html": [
       "<style scoped>\n",
       "  .table-result-container {\n",
       "    max-height: 300px;\n",
       "    overflow: auto;\n",
       "  }\n",
       "  table, th, td {\n",
       "    border: 1px solid black;\n",
       "    border-collapse: collapse;\n",
       "  }\n",
       "  th, td {\n",
       "    padding: 5px;\n",
       "  }\n",
       "  th {\n",
       "    text-align: left;\n",
       "  }\n",
       "</style><div class='table-result-container'><table class='table-result'><thead style='background-color: white'><tr><th>id</th><th>name</th><th>base_experience</th><th>height</th><th>weight</th></tr></thead><tbody><tr><td>1</td><td>bulbasaur</td><td>64</td><td>7</td><td>69</td></tr><tr><td>2</td><td>ivysaur</td><td>142</td><td>10</td><td>130</td></tr><tr><td>3</td><td>venusaur</td><td>263</td><td>20</td><td>1000</td></tr></tbody></table></div>"
      ]
     },
     "metadata": {
      "application/vnd.databricks.v1+output": {
       "addedWidgets": {},
       "aggData": [],
       "aggError": "",
       "aggOverflow": false,
       "aggSchema": [],
       "aggSeriesLimitReached": false,
       "aggType": "",
       "arguments": {},
       "columnCustomDisplayInfos": {},
       "data": [
        [
         1,
         "bulbasaur",
         64,
         7,
         69
        ],
        [
         2,
         "ivysaur",
         142,
         10,
         130
        ],
        [
         3,
         "venusaur",
         263,
         20,
         1000
        ]
       ],
       "datasetInfos": [],
       "dbfsResultPath": null,
       "isJsonSchema": true,
       "metadata": {},
       "overflow": false,
       "plotOptions": {
        "customPlotOptions": {},
        "displayType": "table",
        "pivotAggregation": null,
        "pivotColumns": null,
        "xColumns": null,
        "yColumns": null
       },
       "removedWidgets": [],
       "schema": [
        {
         "metadata": "{}",
         "name": "id",
         "type": "\"integer\""
        },
        {
         "metadata": "{}",
         "name": "name",
         "type": "\"string\""
        },
        {
         "metadata": "{}",
         "name": "base_experience",
         "type": "\"integer\""
        },
        {
         "metadata": "{}",
         "name": "height",
         "type": "\"integer\""
        },
        {
         "metadata": "{}",
         "name": "weight",
         "type": "\"integer\""
        }
       ],
       "type": "table"
      }
     },
     "output_type": "display_data"
    }
   ],
   "source": [
    "# Function to fetch data\n",
    "def fetch_data(url):\n",
    "    response = requests.get(url).json()\n",
    "    return {\n",
    "        \"id\": response.get(\"id\"),\n",
    "        \"name\": response.get(\"name\"),\n",
    "        \"base_experience\": response.get(\"base_experience\"),\n",
    "        \"height\": response.get(\"height\"),\n",
    "        \"weight\": response.get(\"weight\"),\n",
    "        # Add other fields as needed\n",
    "    }\n",
    "\n",
    "# Example list of Pokémon URLs (replace with actual URLs)\n",
    "urls = [\n",
    "    \"https://pokeapi.co/api/v2/pokemon/1/\",\n",
    "    \"https://pokeapi.co/api/v2/pokemon/2/\",\n",
    "    \"https://pokeapi.co/api/v2/pokemon/3/\",\n",
    "]\n",
    "\n",
    "# Use tqdm for progress bar and multiprocessing to fetch data\n",
    "with Pool(4) as p:\n",
    "    pokemon_data = list(tqdm(p.imap(fetch_data, urls), total=len(urls), desc=\"Fetching Pokémon Data\"))\n",
    "\n",
    "# Define schema explicitly\n",
    "schema = StructType([\n",
    "    StructField(\"id\", IntegerType(), True),\n",
    "    StructField(\"name\", StringType(), True),\n",
    "    StructField(\"base_experience\", IntegerType(), True),\n",
    "    StructField(\"height\", IntegerType(), True),\n",
    "    StructField(\"weight\", IntegerType(), True),\n",
    "    # Define other fields as needed\n",
    "])\n",
    "\n",
    "# Create Spark DataFrame with the defined schema\n",
    "pokemon_df = spark.createDataFrame(pokemon_data, schema=schema)\n",
    "\n",
    "# Display the DataFrame\n",
    "pokemon_df.display()"
   ]
  },
  {
   "cell_type": "code",
   "execution_count": 0,
   "metadata": {
    "application/vnd.databricks.v1+cell": {
     "cellMetadata": {
      "byteLimit": 2048000,
      "rowLimit": 10000
     },
     "inputWidgets": {},
     "nuid": "4025fdc6-5ece-4b02-913d-560972c81d58",
     "showTitle": false,
     "tableResultSettingsMap": {},
     "title": ""
    }
   },
   "outputs": [
    {
     "output_type": "stream",
     "name": "stderr",
     "output_type": "stream",
     "text": [
      "\rFetching Pokémon Data:   0%|          | 0/1302 [00:00<?, ?it/s]\rFetching Pokémon Data:   0%|          | 1/1302 [00:00<04:20,  5.00it/s]\rFetching Pokémon Data:   0%|          | 5/1302 [00:00<01:32, 14.07it/s]\rFetching Pokémon Data:   1%|          | 7/1302 [00:00<01:56, 11.09it/s]\rFetching Pokémon Data:   1%|          | 12/1302 [00:00<01:26, 14.90it/s]\rFetching Pokémon Data:   1%|▏         | 17/1302 [00:01<01:23, 15.35it/s]\rFetching Pokémon Data:   2%|▏         | 21/1302 [00:01<01:12, 17.63it/s]\rFetching Pokémon Data:   2%|▏         | 23/1302 [00:01<01:16, 16.81it/s]\rFetching Pokémon Data:   2%|▏         | 27/1302 [00:01<01:10, 18.14it/s]\rFetching Pokémon Data:   2%|▏         | 29/1302 [00:01<01:09, 18.37it/s]\rFetching Pokémon Data:   2%|▏         | 32/1302 [00:01<01:01, 20.65it/s]\rFetching Pokémon Data:   3%|▎         | 35/1302 [00:02<01:01, 20.71it/s]\rFetching Pokémon Data:   3%|▎         | 38/1302 [00:02<01:05, 19.35it/s]\rFetching Pokémon Data:   3%|▎         | 41/1302 [00:02<01:04, 19.51it/s]\rFetching Pokémon Data:   3%|▎         | 44/1302 [00:02<01:28, 14.19it/s]\rFetching Pokémon Data:   4%|▎         | 48/1302 [00:02<01:27, 14.36it/s]\rFetching Pokémon Data:   4%|▍         | 50/1302 [00:03<01:29, 13.93it/s]\rFetching Pokémon Data:   4%|▍         | 56/1302 [00:03<01:01, 20.19it/s]\rFetching Pokémon Data:   5%|▍         | 59/1302 [00:03<01:04, 19.25it/s]\rFetching Pokémon Data:   5%|▍         | 62/1302 [00:03<01:15, 16.51it/s]\rFetching Pokémon Data:   5%|▍         | 65/1302 [00:04<01:26, 14.34it/s]\rFetching Pokémon Data:   5%|▌         | 71/1302 [00:04<01:01, 19.86it/s]\rFetching Pokémon Data:   6%|▌         | 74/1302 [00:04<01:03, 19.34it/s]\rFetching Pokémon Data:   6%|▌         | 77/1302 [00:04<01:15, 16.28it/s]\rFetching Pokémon Data:   6%|▌         | 79/1302 [00:04<01:15, 16.26it/s]\rFetching Pokémon Data:   6%|▋         | 83/1302 [00:05<01:18, 15.59it/s]\rFetching Pokémon Data:   7%|▋         | 87/1302 [00:05<01:15, 16.16it/s]\rFetching Pokémon Data:   7%|▋         | 90/1302 [00:05<01:22, 14.60it/s]\rFetching Pokémon Data:   7%|▋         | 94/1302 [00:05<01:08, 17.57it/s]\rFetching Pokémon Data:   7%|▋         | 97/1302 [00:05<01:21, 14.79it/s]\rFetching Pokémon Data:   8%|▊         | 99/1302 [00:06<01:26, 13.88it/s]\rFetching Pokémon Data:   8%|▊         | 104/1302 [00:06<01:00, 19.77it/s]\rFetching Pokémon Data:   8%|▊         | 107/1302 [00:06<00:59, 19.99it/s]\rFetching Pokémon Data:   8%|▊         | 110/1302 [00:06<01:01, 19.36it/s]\rFetching Pokémon Data:   9%|▊         | 113/1302 [00:06<01:21, 14.64it/s]\rFetching Pokémon Data:   9%|▉         | 115/1302 [00:07<01:25, 13.94it/s]\rFetching Pokémon Data:   9%|▉         | 119/1302 [00:07<01:08, 17.24it/s]\rFetching Pokémon Data:   9%|▉         | 121/1302 [00:07<01:10, 16.65it/s]\rFetching Pokémon Data:  10%|▉         | 124/1302 [00:07<01:07, 17.41it/s]\rFetching Pokémon Data:  10%|▉         | 128/1302 [00:07<00:57, 20.32it/s]\rFetching Pokémon Data:  10%|█         | 131/1302 [00:07<01:11, 16.44it/s]\rFetching Pokémon Data:  10%|█         | 134/1302 [00:07<01:04, 18.19it/s]\rFetching Pokémon Data:  11%|█         | 137/1302 [00:08<00:58, 19.77it/s]\rFetching Pokémon Data:  11%|█         | 140/1302 [00:08<01:03, 18.16it/s]\rFetching Pokémon Data:  11%|█         | 144/1302 [00:08<01:04, 18.05it/s]\rFetching Pokémon Data:  11%|█▏        | 147/1302 [00:08<01:02, 18.35it/s]\rFetching Pokémon Data:  11%|█▏        | 149/1302 [00:08<01:19, 14.45it/s]\rFetching Pokémon Data:  12%|█▏        | 151/1302 [00:09<01:25, 13.42it/s]\rFetching Pokémon Data:  12%|█▏        | 153/1302 [00:09<01:37, 11.75it/s]\rFetching Pokémon Data:  12%|█▏        | 155/1302 [00:09<01:35, 11.97it/s]\rFetching Pokémon Data:  12%|█▏        | 161/1302 [00:09<01:05, 17.30it/s]\rFetching Pokémon Data:  13%|█▎        | 163/1302 [00:09<01:05, 17.43it/s]\rFetching Pokémon Data:  13%|█▎        | 166/1302 [00:10<01:27, 13.04it/s]\rFetching Pokémon Data:  13%|█▎        | 170/1302 [00:10<01:06, 17.05it/s]\rFetching Pokémon Data:  13%|█▎        | 173/1302 [00:10<01:11, 15.86it/s]\rFetching Pokémon Data:  14%|█▎        | 176/1302 [00:10<01:12, 15.56it/s]\rFetching Pokémon Data:  14%|█▎        | 178/1302 [00:10<01:26, 13.02it/s]\rFetching Pokémon Data:  14%|█▍        | 181/1302 [00:11<01:25, 13.18it/s]\rFetching Pokémon Data:  14%|█▍        | 185/1302 [00:11<01:40, 11.10it/s]\rFetching Pokémon Data:  15%|█▍        | 191/1302 [00:11<01:08, 16.20it/s]\rFetching Pokémon Data:  15%|█▍        | 194/1302 [00:12<01:18, 14.16it/s]\rFetching Pokémon Data:  15%|█▌        | 198/1302 [00:12<01:04, 17.06it/s]\rFetching Pokémon Data:  15%|█▌        | 201/1302 [00:12<01:04, 17.01it/s]\rFetching Pokémon Data:  16%|█▌        | 203/1302 [00:12<01:12, 15.08it/s]\rFetching Pokémon Data:  16%|█▌        | 206/1302 [00:12<01:25, 12.87it/s]\rFetching Pokémon Data:  16%|█▌        | 208/1302 [00:13<01:24, 12.89it/s]\rFetching Pokémon Data:  16%|█▋        | 212/1302 [00:13<01:18, 13.97it/s]\rFetching Pokémon Data:  17%|█▋        | 218/1302 [00:13<01:15, 14.34it/s]\rFetching Pokémon Data:  17%|█▋        | 222/1302 [00:13<01:07, 15.94it/s]\rFetching Pokémon Data:  17%|█▋        | 224/1302 [00:14<01:05, 16.37it/s]\rFetching Pokémon Data:  17%|█▋        | 226/1302 [00:14<01:22, 12.99it/s]\rFetching Pokémon Data:  18%|█▊        | 230/1302 [00:14<01:26, 12.45it/s]\rFetching Pokémon Data:  18%|█▊        | 234/1302 [00:14<01:12, 14.82it/s]\rFetching Pokémon Data:  18%|█▊        | 237/1302 [00:15<01:17, 13.71it/s]\rFetching Pokémon Data:  19%|█▊        | 242/1302 [00:15<01:06, 15.86it/s]\rFetching Pokémon Data:  19%|█▊        | 244/1302 [00:15<01:16, 13.90it/s]\rFetching Pokémon Data:  19%|█▉        | 247/1302 [00:15<01:20, 13.11it/s]\rFetching Pokémon Data:  19%|█▉        | 253/1302 [00:15<00:56, 18.64it/s]\rFetching Pokémon Data:  20%|█▉        | 256/1302 [00:16<01:05, 16.06it/s]\rFetching Pokémon Data:  20%|█▉        | 258/1302 [00:16<01:03, 16.47it/s]\rFetching Pokémon Data:  20%|█▉        | 260/1302 [00:16<01:18, 13.28it/s]\rFetching Pokémon Data:  20%|██        | 263/1302 [00:16<01:27, 11.90it/s]\rFetching Pokémon Data:  21%|██        | 267/1302 [00:17<01:10, 14.58it/s]\rFetching Pokémon Data:  21%|██        | 269/1302 [00:17<01:07, 15.25it/s]\rFetching Pokémon Data:  21%|██        | 271/1302 [00:17<01:16, 13.51it/s]\rFetching Pokémon Data:  21%|██        | 275/1302 [00:17<01:18, 13.16it/s]\rFetching Pokémon Data:  21%|██▏       | 277/1302 [00:17<01:18, 13.07it/s]\rFetching Pokémon Data:  22%|██▏       | 282/1302 [00:18<01:03, 16.02it/s]\rFetching Pokémon Data:  22%|██▏       | 284/1302 [00:18<01:17, 13.13it/s]\rFetching Pokémon Data:  22%|██▏       | 287/1302 [00:18<01:07, 15.03it/s]\rFetching Pokémon Data:  22%|██▏       | 289/1302 [00:18<01:23, 12.15it/s]\rFetching Pokémon Data:  22%|██▏       | 292/1302 [00:18<01:13, 13.71it/s]\rFetching Pokémon Data:  23%|██▎       | 297/1302 [00:19<01:05, 15.32it/s]\rFetching Pokémon Data:  23%|██▎       | 299/1302 [00:19<01:10, 14.30it/s]\rFetching Pokémon Data:  23%|██▎       | 303/1302 [00:19<01:12, 13.71it/s]\rFetching Pokémon Data:  24%|██▎       | 309/1302 [00:20<01:09, 14.34it/s]\rFetching Pokémon Data:  24%|██▍       | 314/1302 [00:20<00:59, 16.50it/s]\rFetching Pokémon Data:  24%|██▍       | 316/1302 [00:20<01:05, 15.03it/s]\rFetching Pokémon Data:  25%|██▍       | 320/1302 [00:20<01:17, 12.70it/s]\rFetching Pokémon Data:  25%|██▍       | 325/1302 [00:21<01:09, 14.04it/s]\rFetching Pokémon Data:  25%|██▌       | 329/1302 [00:21<01:06, 14.58it/s]\rFetching Pokémon Data:  25%|██▌       | 331/1302 [00:21<01:20, 12.12it/s]\rFetching Pokémon Data:  26%|██▌       | 334/1302 [00:21<01:10, 13.76it/s]\rFetching Pokémon Data:  26%|██▌       | 337/1302 [00:21<00:59, 16.14it/s]\rFetching Pokémon Data:  26%|██▌       | 339/1302 [00:22<01:03, 15.19it/s]\rFetching Pokémon Data:  26%|██▌       | 341/1302 [00:22<01:16, 12.56it/s]\rFetching Pokémon Data:  27%|██▋       | 346/1302 [00:22<00:50, 18.97it/s]\rFetching Pokémon Data:  27%|██▋       | 349/1302 [00:22<00:59, 16.07it/s]\rFetching Pokémon Data:  27%|██▋       | 352/1302 [00:22<01:02, 15.13it/s]\rFetching Pokémon Data:  27%|██▋       | 356/1302 [00:23<01:01, 15.39it/s]\rFetching Pokémon Data:  28%|██▊       | 359/1302 [00:23<00:53, 17.57it/s]\rFetching Pokémon Data:  28%|██▊       | 362/1302 [00:23<01:12, 13.02it/s]\rFetching Pokémon Data:  28%|██▊       | 367/1302 [00:23<00:51, 18.06it/s]\rFetching Pokémon Data:  28%|██▊       | 370/1302 [00:24<01:02, 14.96it/s]\rFetching Pokémon Data:  29%|██▊       | 373/1302 [00:24<01:13, 12.68it/s]\rFetching Pokémon Data:  29%|██▉       | 377/1302 [00:24<01:10, 13.05it/s]\rFetching Pokémon Data:  29%|██▉       | 381/1302 [00:24<01:03, 14.50it/s]\rFetching Pokémon Data:  29%|██▉       | 383/1302 [00:25<01:04, 14.15it/s]\rFetching Pokémon Data:  30%|██▉       | 385/1302 [00:25<01:02, 14.67it/s]\rFetching Pokémon Data:  30%|██▉       | 388/1302 [00:25<01:01, 14.88it/s]\rFetching Pokémon Data:  30%|███       | 391/1302 [00:25<01:11, 12.81it/s]\rFetching Pokémon Data:  30%|███       | 393/1302 [00:25<01:07, 13.46it/s]\rFetching Pokémon Data:  30%|███       | 395/1302 [00:26<01:06, 13.60it/s]\rFetching Pokémon Data:  31%|███       | 398/1302 [00:26<01:12, 12.50it/s]\rFetching Pokémon Data:  31%|███       | 403/1302 [00:26<01:11, 12.50it/s]\rFetching Pokémon Data:  31%|███▏      | 407/1302 [00:26<01:02, 14.34it/s]\rFetching Pokémon Data:  31%|███▏      | 409/1302 [00:27<01:00, 14.80it/s]\rFetching Pokémon Data:  32%|███▏      | 411/1302 [00:27<01:00, 14.71it/s]\rFetching Pokémon Data:  32%|███▏      | 413/1302 [00:27<01:09, 12.80it/s]\rFetching Pokémon Data:  32%|███▏      | 415/1302 [00:27<01:02, 14.08it/s]\rFetching Pokémon Data:  32%|███▏      | 417/1302 [00:27<01:20, 10.99it/s]\rFetching Pokémon Data:  32%|███▏      | 420/1302 [00:27<01:07, 12.99it/s]\rFetching Pokémon Data:  32%|███▏      | 422/1302 [00:28<01:07, 13.04it/s]\rFetching Pokémon Data:  33%|███▎      | 424/1302 [00:28<01:01, 14.28it/s]\rFetching Pokémon Data:  33%|███▎      | 426/1302 [00:28<00:56, 15.40it/s]\rFetching Pokémon Data:  33%|███▎      | 428/1302 [00:28<00:56, 15.61it/s]\rFetching Pokémon Data:  33%|███▎      | 430/1302 [00:28<01:05, 13.23it/s]\rFetching Pokémon Data:  33%|███▎      | 434/1302 [00:28<00:47, 18.25it/s]\rFetching Pokémon Data:  34%|███▎      | 437/1302 [00:28<00:45, 19.06it/s]\rFetching Pokémon Data:  34%|███▍      | 440/1302 [00:29<01:04, 13.31it/s]\rFetching Pokémon Data:  34%|███▍      | 443/1302 [00:29<01:00, 14.09it/s]\rFetching Pokémon Data:  34%|███▍      | 447/1302 [00:29<01:00, 14.02it/s]\rFetching Pokémon Data:  35%|███▍      | 451/1302 [00:29<00:53, 15.83it/s]\rFetching Pokémon Data:  35%|███▍      | 454/1302 [00:30<00:52, 16.00it/s]\rFetching Pokémon Data:  35%|███▌      | 457/1302 [00:30<00:55, 15.36it/s]\rFetching Pokémon Data:  35%|███▌      | 462/1302 [00:30<01:03, 13.19it/s]\rFetching Pokémon Data:  36%|███▌      | 467/1302 [00:30<00:53, 15.57it/s]\rFetching Pokémon Data:  36%|███▌      | 469/1302 [00:31<00:58, 14.20it/s]\rFetching Pokémon Data:  36%|███▋      | 473/1302 [00:31<00:46, 17.95it/s]\rFetching Pokémon Data:  37%|███▋      | 476/1302 [00:31<01:04, 12.87it/s]\rFetching Pokémon Data:  37%|███▋      | 479/1302 [00:31<01:04, 12.84it/s]\rFetching Pokémon Data:  37%|███▋      | 482/1302 [00:32<01:07, 12.18it/s]\rFetching Pokémon Data:  37%|███▋      | 484/1302 [00:32<01:02, 13.12it/s]\rFetching Pokémon Data:  37%|███▋      | 486/1302 [00:32<01:20, 10.11it/s]\rFetching Pokémon Data:  38%|███▊      | 491/1302 [00:32<00:51, 15.76it/s]\rFetching Pokémon Data:  38%|███▊      | 494/1302 [00:33<00:58, 13.92it/s]\rFetching Pokémon Data:  38%|███▊      | 497/1302 [00:33<01:05, 12.30it/s]\rFetching Pokémon Data:  38%|███▊      | 501/1302 [00:33<00:53, 14.87it/s]\rFetching Pokémon Data:  39%|███▉      | 505/1302 [00:33<01:05, 12.14it/s]\rFetching Pokémon Data:  39%|███▉      | 509/1302 [00:34<01:02, 12.79it/s]\rFetching Pokémon Data:  39%|███▉      | 512/1302 [00:34<00:52, 14.96it/s]\rFetching Pokémon Data:  40%|███▉      | 515/1302 [00:34<00:56, 13.83it/s]\rFetching Pokémon Data:  40%|███▉      | 519/1302 [00:35<01:05, 11.89it/s]\rFetching Pokémon Data:  40%|████      | 524/1302 [00:35<00:53, 14.60it/s]\rFetching Pokémon Data:  40%|████      | 526/1302 [00:35<00:52, 14.69it/s]\rFetching Pokémon Data:  41%|████      | 528/1302 [00:35<01:00, 12.73it/s]\rFetching Pokémon Data:  41%|████      | 532/1302 [00:36<01:07, 11.47it/s]\rFetching Pokémon Data:  41%|████      | 537/1302 [00:36<01:01, 12.49it/s]\rFetching Pokémon Data:  42%|████▏     | 541/1302 [00:36<01:02, 12.12it/s]\rFetching Pokémon Data:  42%|████▏     | 545/1302 [00:36<00:49, 15.42it/s]\rFetching Pokémon Data:  42%|████▏     | 548/1302 [00:37<00:54, 13.84it/s]\rFetching Pokémon Data:  42%|████▏     | 550/1302 [00:37<00:54, 13.68it/s]\rFetching Pokémon Data:  42%|████▏     | 552/1302 [00:37<01:01, 12.17it/s]\rFetching Pokémon Data:  43%|████▎     | 554/1302 [00:37<00:58, 12.79it/s]\rFetching Pokémon Data:  43%|████▎     | 557/1302 [00:37<00:47, 15.56it/s]\rFetching Pokémon Data:  43%|████▎     | 561/1302 [00:38<00:48, 15.16it/s]\rFetching Pokémon Data:  43%|████▎     | 564/1302 [00:38<00:53, 13.71it/s]\rFetching Pokémon Data:  44%|████▎     | 567/1302 [00:38<00:51, 14.28it/s]\rFetching Pokémon Data:  44%|████▍     | 571/1302 [00:38<00:43, 16.83it/s]\rFetching Pokémon Data:  44%|████▍     | 573/1302 [00:38<00:49, 14.82it/s]\rFetching Pokémon Data:  44%|████▍     | 575/1302 [00:39<00:52, 13.75it/s]\rFetching Pokémon Data:  44%|████▍     | 579/1302 [00:39<00:47, 15.16it/s]\rFetching Pokémon Data:  45%|████▍     | 582/1302 [00:39<00:51, 14.02it/s]\rFetching Pokémon Data:  45%|████▍     | 585/1302 [00:39<00:45, 15.92it/s]\rFetching Pokémon Data:  45%|████▌     | 588/1302 [00:39<00:46, 15.29it/s]\rFetching Pokémon Data:  45%|████▌     | 592/1302 [00:40<00:39, 17.82it/s]\rFetching Pokémon Data:  46%|████▌     | 594/1302 [00:40<00:58, 12.04it/s]\rFetching Pokémon Data:  46%|████▌     | 599/1302 [00:40<00:47, 14.69it/s]\rFetching Pokémon Data:  46%|████▋     | 603/1302 [00:41<00:53, 12.98it/s]\rFetching Pokémon Data:  46%|████▋     | 605/1302 [00:41<00:50, 13.72it/s]\rFetching Pokémon Data:  47%|████▋     | 608/1302 [00:41<00:52, 13.21it/s]\rFetching Pokémon Data:  47%|████▋     | 611/1302 [00:41<00:54, 12.70it/s]\rFetching Pokémon Data:  47%|████▋     | 616/1302 [00:41<00:46, 14.87it/s]\rFetching Pokémon Data:  48%|████▊     | 620/1302 [00:42<00:45, 14.83it/s]\rFetching Pokémon Data:  48%|████▊     | 624/1302 [00:42<00:52, 12.91it/s]\rFetching Pokémon Data:  48%|████▊     | 629/1302 [00:42<00:48, 13.75it/s]\rFetching Pokémon Data:  49%|████▊     | 633/1302 [00:42<00:39, 16.86it/s]\rFetching Pokémon Data:  49%|████▉     | 636/1302 [00:43<00:37, 17.57it/s]\rFetching Pokémon Data:  49%|████▉     | 639/1302 [00:43<00:48, 13.68it/s]\rFetching Pokémon Data:  49%|████▉     | 642/1302 [00:43<00:41, 15.75it/s]\rFetching Pokémon Data:  50%|████▉     | 645/1302 [00:43<00:37, 17.49it/s]\rFetching Pokémon Data:  50%|████▉     | 648/1302 [00:44<00:45, 14.42it/s]\rFetching Pokémon Data:  50%|████▉     | 650/1302 [00:44<00:46, 14.17it/s]\rFetching Pokémon Data:  50%|█████     | 652/1302 [00:44<00:49, 13.00it/s]\rFetching Pokémon Data:  50%|█████     | 654/1302 [00:44<00:53, 12.00it/s]\rFetching Pokémon Data:  50%|█████     | 656/1302 [00:44<00:55, 11.73it/s]\rFetching Pokémon Data:  51%|█████     | 658/1302 [00:44<00:57, 11.29it/s]\rFetching Pokémon Data:  51%|█████     | 662/1302 [00:45<00:44, 14.54it/s]\rFetching Pokémon Data:  51%|█████     | 666/1302 [00:45<00:39, 16.22it/s]\rFetching Pokémon Data:  51%|█████▏    | 668/1302 [00:45<00:46, 13.72it/s]\rFetching Pokémon Data:  52%|█████▏    | 672/1302 [00:45<00:41, 15.09it/s]\rFetching Pokémon Data:  52%|█████▏    | 676/1302 [00:46<00:43, 14.32it/s]\rFetching Pokémon Data:  52%|█████▏    | 678/1302 [00:46<00:41, 15.08it/s]\rFetching Pokémon Data:  52%|█████▏    | 681/1302 [00:46<00:48, 12.71it/s]\rFetching Pokémon Data:  52%|█████▏    | 683/1302 [00:46<00:46, 13.27it/s]\rFetching Pokémon Data:  53%|█████▎    | 687/1302 [00:46<00:34, 17.75it/s]\rFetching Pokémon Data:  53%|█████▎    | 690/1302 [00:47<00:44, 13.71it/s]\rFetching Pokémon Data:  53%|█████▎    | 694/1302 [00:47<00:48, 12.44it/s]\rFetching Pokémon Data:  54%|█████▎    | 699/1302 [00:47<00:42, 14.07it/s]\rFetching Pokémon Data:  54%|█████▍    | 703/1302 [00:47<00:35, 16.80it/s]\rFetching Pokémon Data:  54%|█████▍    | 706/1302 [00:48<00:45, 13.10it/s]\rFetching Pokémon Data:  54%|█████▍    | 709/1302 [00:48<00:42, 13.99it/s]\rFetching Pokémon Data:  55%|█████▍    | 713/1302 [00:48<00:33, 17.81it/s]\rFetching Pokémon Data:  55%|█████▍    | 716/1302 [00:48<00:42, 13.85it/s]\rFetching Pokémon Data:  55%|█████▌    | 720/1302 [00:49<00:40, 14.44it/s]\rFetching Pokémon Data:  56%|█████▌    | 725/1302 [00:49<00:37, 15.21it/s]\rFetching Pokémon Data:  56%|█████▌    | 727/1302 [00:49<00:39, 14.59it/s]\rFetching Pokémon Data:  56%|█████▌    | 729/1302 [00:49<00:46, 12.27it/s]\rFetching Pokémon Data:  56%|█████▌    | 732/1302 [00:49<00:38, 14.64it/s]\rFetching Pokémon Data:  56%|█████▋    | 735/1302 [00:50<00:33, 16.97it/s]\rFetching Pokémon Data:  57%|█████▋    | 738/1302 [00:50<00:45, 12.43it/s]\rFetching Pokémon Data:  57%|█████▋    | 741/1302 [00:50<00:45, 12.26it/s]\rFetching Pokémon Data:  57%|█████▋    | 747/1302 [00:50<00:31, 17.88it/s]\rFetching Pokémon Data:  58%|█████▊    | 750/1302 [00:51<00:36, 15.00it/s]\rFetching Pokémon Data:  58%|█████▊    | 752/1302 [00:51<00:34, 15.72it/s]\rFetching Pokémon Data:  58%|█████▊    | 754/1302 [00:51<00:43, 12.46it/s]\rFetching Pokémon Data:  58%|█████▊    | 757/1302 [00:51<00:36, 15.11it/s]\rFetching Pokémon Data:  58%|█████▊    | 759/1302 [00:51<00:38, 14.06it/s]\rFetching Pokémon Data:  59%|█████▊    | 764/1302 [00:52<00:41, 13.10it/s]\rFetching Pokémon Data:  59%|█████▉    | 770/1302 [00:52<00:28, 18.44it/s]\rFetching Pokémon Data:  59%|█████▉    | 773/1302 [00:52<00:37, 14.05it/s]\rFetching Pokémon Data:  60%|█████▉    | 776/1302 [00:53<00:39, 13.40it/s]\rFetching Pokémon Data:  60%|█████▉    | 781/1302 [00:53<00:30, 17.30it/s]\rFetching Pokémon Data:  60%|██████    | 784/1302 [00:53<00:36, 14.03it/s]\rFetching Pokémon Data:  61%|██████    | 788/1302 [00:53<00:37, 13.68it/s]\rFetching Pokémon Data:  61%|██████    | 793/1302 [00:54<00:31, 16.41it/s]\rFetching Pokémon Data:  61%|██████    | 795/1302 [00:54<00:32, 15.38it/s]\rFetching Pokémon Data:  61%|██████▏   | 799/1302 [00:54<00:33, 15.03it/s]\rFetching Pokémon Data:  62%|██████▏   | 801/1302 [00:54<00:32, 15.36it/s]\rFetching Pokémon Data:  62%|██████▏   | 804/1302 [00:54<00:29, 17.17it/s]\rFetching Pokémon Data:  62%|██████▏   | 806/1302 [00:54<00:31, 15.72it/s]\rFetching Pokémon Data:  62%|██████▏   | 808/1302 [00:55<00:33, 14.88it/s]\rFetching Pokémon Data:  62%|██████▏   | 810/1302 [00:55<00:37, 13.00it/s]\rFetching Pokémon Data:  62%|██████▏   | 813/1302 [00:55<00:31, 15.30it/s]\rFetching Pokémon Data:  63%|██████▎   | 815/1302 [00:55<00:30, 15.87it/s]\rFetching Pokémon Data:  63%|██████▎   | 818/1302 [00:55<00:35, 13.82it/s]\rFetching Pokémon Data:  63%|██████▎   | 820/1302 [00:55<00:38, 12.37it/s]\rFetching Pokémon Data:  63%|██████▎   | 822/1302 [00:56<00:39, 12.03it/s]\rFetching Pokémon Data:  63%|██████▎   | 826/1302 [00:56<00:35, 13.23it/s]\rFetching Pokémon Data:  64%|██████▍   | 832/1302 [00:56<00:31, 15.00it/s]\rFetching Pokémon Data:  64%|██████▍   | 834/1302 [00:56<00:35, 13.20it/s]\rFetching Pokémon Data:  64%|██████▍   | 837/1302 [00:57<00:32, 14.31it/s]\rFetching Pokémon Data:  65%|██████▍   | 840/1302 [00:57<00:31, 14.46it/s]\rFetching Pokémon Data:  65%|██████▍   | 842/1302 [00:57<00:34, 13.19it/s]\rFetching Pokémon Data:  65%|██████▍   | 846/1302 [00:57<00:29, 15.69it/s]\rFetching Pokémon Data:  65%|██████▌   | 848/1302 [00:57<00:27, 16.41it/s]\rFetching Pokémon Data:  65%|██████▌   | 850/1302 [00:58<00:30, 14.84it/s]\rFetching Pokémon Data:  65%|██████▌   | 852/1302 [00:58<00:31, 14.26it/s]\rFetching Pokémon Data:  66%|██████▌   | 854/1302 [00:58<00:30, 14.76it/s]\rFetching Pokémon Data:  66%|██████▌   | 856/1302 [00:58<00:32, 13.67it/s]\rFetching Pokémon Data:  66%|██████▌   | 858/1302 [00:58<00:35, 12.55it/s]\rFetching Pokémon Data:  66%|██████▌   | 860/1302 [00:58<00:33, 13.10it/s]\rFetching Pokémon Data:  66%|██████▋   | 864/1302 [00:58<00:24, 17.86it/s]\rFetching Pokémon Data:  67%|██████▋   | 866/1302 [00:59<00:26, 16.61it/s]\rFetching Pokémon Data:  67%|██████▋   | 869/1302 [00:59<00:23, 18.19it/s]\rFetching Pokémon Data:  67%|██████▋   | 871/1302 [00:59<00:34, 12.62it/s]\rFetching Pokémon Data:  67%|██████▋   | 876/1302 [00:59<00:23, 17.99it/s]\rFetching Pokémon Data:  68%|██████▊   | 879/1302 [00:59<00:23, 18.33it/s]\rFetching Pokémon Data:  68%|██████▊   | 882/1302 [01:00<00:25, 16.76it/s]\rFetching Pokémon Data:  68%|██████▊   | 885/1302 [01:00<00:29, 14.16it/s]\rFetching Pokémon Data:  68%|██████▊   | 889/1302 [01:00<00:32, 12.63it/s]\rFetching Pokémon Data:  69%|██████▊   | 893/1302 [01:00<00:29, 13.70it/s]\rFetching Pokémon Data:  69%|██████▉   | 896/1302 [01:01<00:31, 13.01it/s]\rFetching Pokémon Data:  69%|██████▉   | 900/1302 [01:01<00:31, 12.85it/s]\rFetching Pokémon Data:  69%|██████▉   | 903/1302 [01:01<00:27, 14.57it/s]\rFetching Pokémon Data:  70%|██████▉   | 905/1302 [01:01<00:32, 12.26it/s]\rFetching Pokémon Data:  70%|██████▉   | 908/1302 [01:02<00:28, 13.65it/s]\rFetching Pokémon Data:  70%|██████▉   | 911/1302 [01:02<00:28, 13.88it/s]\rFetching Pokémon Data:  70%|███████   | 915/1302 [01:02<00:26, 14.80it/s]\rFetching Pokémon Data:  70%|███████   | 917/1302 [01:02<00:30, 12.71it/s]\rFetching Pokémon Data:  71%|███████   | 921/1302 [01:02<00:25, 15.05it/s]\rFetching Pokémon Data:  71%|███████   | 924/1302 [01:03<00:27, 13.78it/s]\rFetching Pokémon Data:  71%|███████   | 926/1302 [01:03<00:29, 12.91it/s]\rFetching Pokémon Data:  72%|███████▏  | 931/1302 [01:03<00:22, 16.69it/s]\rFetching Pokémon Data:  72%|███████▏  | 934/1302 [01:03<00:19, 18.59it/s]\rFetching Pokémon Data:  72%|███████▏  | 937/1302 [01:04<00:26, 13.56it/s]\rFetching Pokémon Data:  72%|███████▏  | 941/1302 [01:04<00:27, 13.06it/s]\rFetching Pokémon Data:  72%|███████▏  | 943/1302 [01:04<00:26, 13.60it/s]\rFetching Pokémon Data:  73%|███████▎  | 946/1302 [01:04<00:23, 14.97it/s]\rFetching Pokémon Data:  73%|███████▎  | 948/1302 [01:04<00:30, 11.68it/s]\rFetching Pokémon Data:  73%|███████▎  | 951/1302 [01:05<00:25, 13.98it/s]\rFetching Pokémon Data:  73%|███████▎  | 954/1302 [01:05<00:22, 15.46it/s]\rFetching Pokémon Data:  73%|███████▎  | 956/1302 [01:05<00:31, 10.81it/s]\rFetching Pokémon Data:  74%|███████▍  | 962/1302 [01:05<00:24, 13.82it/s]\rFetching Pokémon Data:  74%|███████▍  | 966/1302 [01:06<00:19, 16.99it/s]\rFetching Pokémon Data:  74%|███████▍  | 969/1302 [01:06<00:21, 15.14it/s]\rFetching Pokémon Data:  75%|███████▍  | 972/1302 [01:06<00:24, 13.69it/s]\rFetching Pokémon Data:  75%|███████▍  | 975/1302 [01:06<00:21, 15.36it/s]\rFetching Pokémon Data:  75%|███████▌  | 977/1302 [01:06<00:22, 14.52it/s]\rFetching Pokémon Data:  75%|███████▌  | 979/1302 [01:07<00:25, 12.54it/s]\rFetching Pokémon Data:  75%|███████▌  | 983/1302 [01:07<00:21, 15.15it/s]\rFetching Pokémon Data:  76%|███████▌  | 985/1302 [01:07<00:24, 13.06it/s]\rFetching Pokémon Data:  76%|███████▌  | 989/1302 [01:07<00:23, 13.38it/s]\rFetching Pokémon Data:  76%|███████▌  | 992/1302 [01:07<00:21, 14.66it/s]\rFetching Pokémon Data:  76%|███████▋  | 994/1302 [01:08<00:21, 14.35it/s]\rFetching Pokémon Data:  76%|███████▋  | 996/1302 [01:08<00:24, 12.58it/s]\rFetching Pokémon Data:  77%|███████▋  | 998/1302 [01:08<00:23, 12.77it/s]\rFetching Pokémon Data:  77%|███████▋  | 1003/1302 [01:08<00:23, 12.97it/s]\rFetching Pokémon Data:  77%|███████▋  | 1007/1302 [01:09<00:25, 11.65it/s]\rFetching Pokémon Data:  78%|███████▊  | 1012/1302 [01:09<00:17, 16.30it/s]\rFetching Pokémon Data:  78%|███████▊  | 1015/1302 [01:09<00:19, 14.40it/s]\rFetching Pokémon Data:  78%|███████▊  | 1017/1302 [01:09<00:19, 14.85it/s]\rFetching Pokémon Data:  78%|███████▊  | 1019/1302 [01:10<00:22, 12.59it/s]\rFetching Pokémon Data:  79%|███████▊  | 1024/1302 [01:10<00:21, 12.68it/s]\rFetching Pokémon Data:  79%|███████▉  | 1030/1302 [01:10<00:18, 15.09it/s]\rFetching Pokémon Data:  79%|███████▉  | 1033/1302 [01:10<00:16, 16.02it/s]\rFetching Pokémon Data:  79%|███████▉  | 1035/1302 [01:11<00:19, 14.00it/s]\rFetching Pokémon Data:  80%|███████▉  | 1037/1302 [01:11<00:18, 14.19it/s]\rFetching Pokémon Data:  80%|███████▉  | 1040/1302 [01:11<00:19, 13.74it/s]\rFetching Pokémon Data:  80%|████████  | 1042/1302 [01:11<00:18, 14.15it/s]\rFetching Pokémon Data:  80%|████████  | 1045/1302 [01:11<00:20, 12.75it/s]\rFetching Pokémon Data:  81%|████████  | 1050/1302 [01:12<00:15, 15.77it/s]\rFetching Pokémon Data:  81%|████████  | 1052/1302 [01:12<00:17, 14.00it/s]\rFetching Pokémon Data:  81%|████████  | 1055/1302 [01:12<00:15, 16.27it/s]\rFetching Pokémon Data:  81%|████████  | 1057/1302 [01:12<00:19, 12.80it/s]\rFetching Pokémon Data:  81%|████████▏ | 1060/1302 [01:12<00:15, 15.35it/s]\rFetching Pokémon Data:  82%|████████▏ | 1062/1302 [01:13<00:17, 13.56it/s]\rFetching Pokémon Data:  82%|████████▏ | 1066/1302 [01:13<00:13, 16.90it/s]\rFetching Pokémon Data:  82%|████████▏ | 1068/1302 [01:13<00:17, 13.23it/s]\rFetching Pokémon Data:  82%|████████▏ | 1070/1302 [01:13<00:16, 14.01it/s]\rFetching Pokémon Data:  82%|████████▏ | 1073/1302 [01:13<00:13, 17.03it/s]\rFetching Pokémon Data:  83%|████████▎ | 1075/1302 [01:13<00:13, 16.81it/s]\rFetching Pokémon Data:  83%|████████▎ | 1077/1302 [01:13<00:13, 17.10it/s]\rFetching Pokémon Data:  83%|████████▎ | 1079/1302 [01:14<00:17, 12.67it/s]\rFetching Pokémon Data:  83%|████████▎ | 1081/1302 [01:14<00:16, 13.71it/s]\rFetching Pokémon Data:  83%|████████▎ | 1083/1302 [01:14<00:20, 10.59it/s]\rFetching Pokémon Data:  83%|████████▎ | 1085/1302 [01:14<00:18, 11.68it/s]\rFetching Pokémon Data:  83%|████████▎ | 1087/1302 [01:14<00:22,  9.65it/s]\rFetching Pokémon Data:  84%|████████▎ | 1089/1302 [01:15<00:20, 10.45it/s]\rFetching Pokémon Data:  84%|████████▍ | 1092/1302 [01:15<00:17, 12.20it/s]\rFetching Pokémon Data:  84%|████████▍ | 1096/1302 [01:15<00:12, 16.02it/s]\rFetching Pokémon Data:  84%|████████▍ | 1098/1302 [01:15<00:12, 16.24it/s]\rFetching Pokémon Data:  85%|████████▍ | 1101/1302 [01:15<00:13, 14.38it/s]\rFetching Pokémon Data:  85%|████████▍ | 1103/1302 [01:15<00:13, 14.26it/s]\rFetching Pokémon Data:  85%|████████▍ | 1105/1302 [01:16<00:16, 12.22it/s]\rFetching Pokémon Data:  85%|████████▌ | 1109/1302 [01:16<00:13, 14.50it/s]\rFetching Pokémon Data:  85%|████████▌ | 1111/1302 [01:16<00:16, 11.64it/s]\rFetching Pokémon Data:  86%|████████▌ | 1115/1302 [01:16<00:12, 15.52it/s]\rFetching Pokémon Data:  86%|████████▌ | 1117/1302 [01:16<00:11, 15.75it/s]\rFetching Pokémon Data:  86%|████████▌ | 1120/1302 [01:17<00:12, 14.82it/s]\rFetching Pokémon Data:  86%|████████▋ | 1123/1302 [01:17<00:12, 14.05it/s]\rFetching Pokémon Data:  86%|████████▋ | 1125/1302 [01:17<00:13, 13.01it/s]\rFetching Pokémon Data:  87%|████████▋ | 1128/1302 [01:17<00:12, 13.41it/s]\rFetching Pokémon Data:  87%|████████▋ | 1130/1302 [01:18<00:14, 11.76it/s]\rFetching Pokémon Data:  87%|████████▋ | 1133/1302 [01:18<00:13, 12.97it/s]\rFetching Pokémon Data:  87%|████████▋ | 1137/1302 [01:18<00:11, 13.87it/s]\rFetching Pokémon Data:  87%|████████▋ | 1139/1302 [01:18<00:13, 12.03it/s]\rFetching Pokémon Data:  88%|████████▊ | 1143/1302 [01:18<00:10, 14.96it/s]\rFetching Pokémon Data:  88%|████████▊ | 1146/1302 [01:19<00:09, 16.48it/s]\rFetching Pokémon Data:  88%|████████▊ | 1148/1302 [01:19<00:11, 13.57it/s]\rFetching Pokémon Data:  88%|████████▊ | 1150/1302 [01:19<00:11, 13.15it/s]\rFetching Pokémon Data:  88%|████████▊ | 1152/1302 [01:19<00:10, 14.27it/s]\rFetching Pokémon Data:  89%|████████▊ | 1154/1302 [01:19<00:11, 13.19it/s]\rFetching Pokémon Data:  89%|████████▉ | 1156/1302 [01:19<00:11, 12.19it/s]\rFetching Pokémon Data:  89%|████████▉ | 1159/1302 [01:20<00:10, 13.45it/s]\rFetching Pokémon Data:  89%|████████▉ | 1161/1302 [01:20<00:12, 11.11it/s]\rFetching Pokémon Data:  89%|████████▉ | 1164/1302 [01:20<00:10, 13.73it/s]\rFetching Pokémon Data:  90%|████████▉ | 1168/1302 [01:20<00:11, 11.96it/s]\rFetching Pokémon Data:  90%|█████████ | 1172/1302 [01:21<00:11, 10.85it/s]\rFetching Pokémon Data:  90%|█████████ | 1177/1302 [01:21<00:10, 12.33it/s]\rFetching Pokémon Data:  91%|█████████ | 1179/1302 [01:21<00:10, 11.54it/s]\rFetching Pokémon Data:  91%|█████████ | 1181/1302 [01:22<00:10, 11.50it/s]\rFetching Pokémon Data:  91%|█████████ | 1186/1302 [01:22<00:07, 15.57it/s]\rFetching Pokémon Data:  91%|█████████▏| 1189/1302 [01:22<00:06, 16.89it/s]\rFetching Pokémon Data:  91%|█████████▏| 1191/1302 [01:22<00:07, 15.65it/s]\rFetching Pokémon Data:  92%|█████████▏| 1194/1302 [01:22<00:06, 16.54it/s]\rFetching Pokémon Data:  92%|█████████▏| 1196/1302 [01:22<00:07, 13.36it/s]\rFetching Pokémon Data:  92%|█████████▏| 1198/1302 [01:23<00:07, 13.85it/s]\rFetching Pokémon Data:  92%|█████████▏| 1202/1302 [01:23<00:07, 12.89it/s]\rFetching Pokémon Data:  92%|█████████▏| 1204/1302 [01:23<00:07, 13.63it/s]\rFetching Pokémon Data:  93%|█████████▎| 1207/1302 [01:23<00:05, 16.19it/s]\rFetching Pokémon Data:  93%|█████████▎| 1210/1302 [01:23<00:05, 15.95it/s]\rFetching Pokémon Data:  93%|█████████▎| 1212/1302 [01:24<00:06, 13.90it/s]\rFetching Pokémon Data:  93%|█████████▎| 1214/1302 [01:24<00:06, 13.24it/s]\rFetching Pokémon Data:  93%|█████████▎| 1216/1302 [01:24<00:05, 14.45it/s]\rFetching Pokémon Data:  94%|█████████▎| 1218/1302 [01:24<00:05, 14.13it/s]\rFetching Pokémon Data:  94%|█████████▍| 1221/1302 [01:24<00:06, 12.12it/s]\rFetching Pokémon Data:  94%|█████████▍| 1224/1302 [01:24<00:05, 14.90it/s]\rFetching Pokémon Data:  94%|█████████▍| 1226/1302 [01:25<00:05, 13.25it/s]\rFetching Pokémon Data:  94%|█████████▍| 1230/1302 [01:25<00:05, 14.16it/s]\rFetching Pokémon Data:  95%|█████████▍| 1232/1302 [01:25<00:05, 13.56it/s]\rFetching Pokémon Data:  95%|█████████▍| 1236/1302 [01:25<00:04, 13.47it/s]\rFetching Pokémon Data:  95%|█████████▌| 1239/1302 [01:26<00:04, 13.78it/s]\rFetching Pokémon Data:  95%|█████████▌| 1243/1302 [01:26<00:03, 15.76it/s]\rFetching Pokémon Data:  96%|█████████▌| 1245/1302 [01:26<00:04, 12.33it/s]\rFetching Pokémon Data:  96%|█████████▌| 1250/1302 [01:26<00:03, 14.28it/s]\rFetching Pokémon Data:  96%|█████████▌| 1252/1302 [01:26<00:03, 13.85it/s]\rFetching Pokémon Data:  96%|█████████▋| 1255/1302 [01:27<00:02, 16.21it/s]\rFetching Pokémon Data:  97%|█████████▋| 1257/1302 [01:27<00:02, 16.88it/s]\rFetching Pokémon Data:  97%|█████████▋| 1259/1302 [01:27<00:02, 16.56it/s]\rFetching Pokémon Data:  97%|█████████▋| 1261/1302 [01:27<00:02, 14.25it/s]\rFetching Pokémon Data:  97%|█████████▋| 1265/1302 [01:27<00:02, 13.08it/s]\rFetching Pokémon Data:  97%|█████████▋| 1267/1302 [01:27<00:02, 13.81it/s]\rFetching Pokémon Data:  97%|█████████▋| 1269/1302 [01:28<00:02, 11.10it/s]\rFetching Pokémon Data:  98%|█████████▊| 1272/1302 [01:28<00:02, 12.83it/s]\rFetching Pokémon Data:  98%|█████████▊| 1274/1302 [01:28<00:02, 12.94it/s]\rFetching Pokémon Data:  98%|█████████▊| 1277/1302 [01:28<00:01, 13.04it/s]\rFetching Pokémon Data:  98%|█████████▊| 1281/1302 [01:28<00:01, 15.57it/s]\rFetching Pokémon Data:  99%|█████████▊| 1284/1302 [01:29<00:01, 15.44it/s]\rFetching Pokémon Data:  99%|█████████▉| 1287/1302 [01:29<00:01, 14.08it/s]\rFetching Pokémon Data:  99%|█████████▉| 1291/1302 [01:29<00:00, 13.58it/s]\rFetching Pokémon Data:  99%|█████████▉| 1293/1302 [01:29<00:00, 14.27it/s]\rFetching Pokémon Data: 100%|█████████▉| 1298/1302 [01:30<00:00, 14.01it/s]\rFetching Pokémon Data: 100%|██████████| 1302/1302 [01:30<00:00, 15.52it/s]\rFetching Pokémon Data: 100%|██████████| 1302/1302 [01:30<00:00, 14.40it/s]\n"
     ]
    },
    {
     "output_type": "stream",
     "name": "stdout",
     "output_type": "stream",
     "text": [
      "Reordered schema of the Pokémon DataFrame:\nroot\n |-- id: long (nullable = true)\n |-- name: string (nullable = true)\n |-- abilities: array (nullable = true)\n |    |-- element: string (containsNull = true)\n |-- base_experience: long (nullable = true)\n |-- height: long (nullable = true)\n |-- stats: map (nullable = true)\n |    |-- key: string\n |    |-- value: long (valueContainsNull = true)\n |-- types: array (nullable = true)\n |    |-- element: string (containsNull = true)\n |-- weight: long (nullable = true)\n\n"
     ]
    },
    {
     "output_type": "display_data",
     "data": {
      "text/html": [
       "<style scoped>\n",
       "  .table-result-container {\n",
       "    max-height: 300px;\n",
       "    overflow: auto;\n",
       "  }\n",
       "  table, th, td {\n",
       "    border: 1px solid black;\n",
       "    border-collapse: collapse;\n",
       "  }\n",
       "  th, td {\n",
       "    padding: 5px;\n",
       "  }\n",
       "  th {\n",
       "    text-align: left;\n",
       "  }\n",
       "</style><div class='table-result-container'><table class='table-result'><thead style='background-color: white'><tr><th>id</th><th>name</th><th>abilities</th><th>base_experience</th><th>height</th><th>stats</th><th>types</th><th>weight</th></tr></thead><tbody><tr><td>1</td><td>bulbasaur</td><td>List(overgrow, chlorophyll)</td><td>64</td><td>7</td><td>Map(special-defense -> 65, defense -> 49, special-attack -> 65, attack -> 49, hp -> 45, speed -> 45)</td><td>List(grass, poison)</td><td>69</td></tr><tr><td>2</td><td>ivysaur</td><td>List(overgrow, chlorophyll)</td><td>142</td><td>10</td><td>Map(special-defense -> 80, defense -> 63, special-attack -> 80, attack -> 62, hp -> 60, speed -> 60)</td><td>List(grass, poison)</td><td>130</td></tr><tr><td>3</td><td>venusaur</td><td>List(overgrow, chlorophyll)</td><td>263</td><td>20</td><td>Map(special-defense -> 100, defense -> 83, special-attack -> 100, attack -> 82, hp -> 80, speed -> 80)</td><td>List(grass, poison)</td><td>1000</td></tr><tr><td>4</td><td>charmander</td><td>List(blaze, solar-power)</td><td>62</td><td>6</td><td>Map(special-defense -> 50, defense -> 43, special-attack -> 60, attack -> 52, hp -> 39, speed -> 65)</td><td>List(fire)</td><td>85</td></tr><tr><td>5</td><td>charmeleon</td><td>List(blaze, solar-power)</td><td>142</td><td>11</td><td>Map(special-defense -> 65, defense -> 58, special-attack -> 80, attack -> 64, hp -> 58, speed -> 80)</td><td>List(fire)</td><td>190</td></tr><tr><td>6</td><td>charizard</td><td>List(blaze, solar-power)</td><td>267</td><td>17</td><td>Map(special-defense -> 85, defense -> 78, special-attack -> 109, attack -> 84, hp -> 78, speed -> 100)</td><td>List(fire, flying)</td><td>905</td></tr><tr><td>7</td><td>squirtle</td><td>List(torrent, rain-dish)</td><td>63</td><td>5</td><td>Map(special-defense -> 64, defense -> 65, special-attack -> 50, attack -> 48, hp -> 44, speed -> 43)</td><td>List(water)</td><td>90</td></tr><tr><td>8</td><td>wartortle</td><td>List(torrent, rain-dish)</td><td>142</td><td>10</td><td>Map(special-defense -> 80, defense -> 80, special-attack -> 65, attack -> 63, hp -> 59, speed -> 58)</td><td>List(water)</td><td>225</td></tr><tr><td>9</td><td>blastoise</td><td>List(torrent, rain-dish)</td><td>265</td><td>16</td><td>Map(special-defense -> 105, defense -> 100, special-attack -> 85, attack -> 83, hp -> 79, speed -> 78)</td><td>List(water)</td><td>855</td></tr><tr><td>10</td><td>caterpie</td><td>List(shield-dust, run-away)</td><td>39</td><td>3</td><td>Map(special-defense -> 20, defense -> 35, special-attack -> 20, attack -> 30, hp -> 45, speed -> 45)</td><td>List(bug)</td><td>29</td></tr><tr><td>11</td><td>metapod</td><td>List(shed-skin)</td><td>72</td><td>7</td><td>Map(special-defense -> 25, defense -> 55, special-attack -> 25, attack -> 20, hp -> 50, speed -> 30)</td><td>List(bug)</td><td>99</td></tr><tr><td>12</td><td>butterfree</td><td>List(compound-eyes, tinted-lens)</td><td>198</td><td>11</td><td>Map(special-defense -> 80, defense -> 50, special-attack -> 90, attack -> 45, hp -> 60, speed -> 70)</td><td>List(bug, flying)</td><td>320</td></tr><tr><td>13</td><td>weedle</td><td>List(shield-dust, run-away)</td><td>39</td><td>3</td><td>Map(special-defense -> 20, defense -> 30, special-attack -> 20, attack -> 35, hp -> 40, speed -> 50)</td><td>List(bug, poison)</td><td>32</td></tr><tr><td>14</td><td>kakuna</td><td>List(shed-skin)</td><td>72</td><td>6</td><td>Map(special-defense -> 25, defense -> 50, special-attack -> 25, attack -> 25, hp -> 45, speed -> 35)</td><td>List(bug, poison)</td><td>100</td></tr><tr><td>15</td><td>beedrill</td><td>List(swarm, sniper)</td><td>178</td><td>10</td><td>Map(special-defense -> 80, defense -> 40, special-attack -> 45, attack -> 90, hp -> 65, speed -> 75)</td><td>List(bug, poison)</td><td>295</td></tr><tr><td>16</td><td>pidgey</td><td>List(keen-eye, tangled-feet, big-pecks)</td><td>50</td><td>3</td><td>Map(special-defense -> 35, defense -> 40, special-attack -> 35, attack -> 45, hp -> 40, speed -> 56)</td><td>List(normal, flying)</td><td>18</td></tr><tr><td>17</td><td>pidgeotto</td><td>List(keen-eye, tangled-feet, big-pecks)</td><td>122</td><td>11</td><td>Map(special-defense -> 50, defense -> 55, special-attack -> 50, attack -> 60, hp -> 63, speed -> 71)</td><td>List(normal, flying)</td><td>300</td></tr><tr><td>18</td><td>pidgeot</td><td>List(keen-eye, tangled-feet, big-pecks)</td><td>216</td><td>15</td><td>Map(special-defense -> 70, defense -> 75, special-attack -> 70, attack -> 80, hp -> 83, speed -> 101)</td><td>List(normal, flying)</td><td>395</td></tr><tr><td>19</td><td>rattata</td><td>List(run-away, guts, hustle)</td><td>51</td><td>3</td><td>Map(special-defense -> 35, defense -> 35, special-attack -> 25, attack -> 56, hp -> 30, speed -> 72)</td><td>List(normal)</td><td>35</td></tr><tr><td>20</td><td>raticate</td><td>List(run-away, guts, hustle)</td><td>145</td><td>7</td><td>Map(special-defense -> 70, defense -> 60, special-attack -> 50, attack -> 81, hp -> 55, speed -> 97)</td><td>List(normal)</td><td>185</td></tr><tr><td>21</td><td>spearow</td><td>List(keen-eye, sniper)</td><td>52</td><td>3</td><td>Map(special-defense -> 31, defense -> 30, special-attack -> 31, attack -> 60, hp -> 40, speed -> 70)</td><td>List(normal, flying)</td><td>20</td></tr><tr><td>22</td><td>fearow</td><td>List(keen-eye, sniper)</td><td>155</td><td>12</td><td>Map(special-defense -> 61, defense -> 65, special-attack -> 61, attack -> 90, hp -> 65, speed -> 100)</td><td>List(normal, flying)</td><td>380</td></tr><tr><td>23</td><td>ekans</td><td>List(intimidate, shed-skin, unnerve)</td><td>58</td><td>20</td><td>Map(special-defense -> 54, defense -> 44, special-attack -> 40, attack -> 60, hp -> 35, speed -> 55)</td><td>List(poison)</td><td>69</td></tr><tr><td>24</td><td>arbok</td><td>List(intimidate, shed-skin, unnerve)</td><td>157</td><td>35</td><td>Map(special-defense -> 79, defense -> 69, special-attack -> 65, attack -> 95, hp -> 60, speed -> 80)</td><td>List(poison)</td><td>650</td></tr><tr><td>25</td><td>pikachu</td><td>List(static, lightning-rod)</td><td>112</td><td>4</td><td>Map(special-defense -> 50, defense -> 40, special-attack -> 50, attack -> 55, hp -> 35, speed -> 90)</td><td>List(electric)</td><td>60</td></tr><tr><td>26</td><td>raichu</td><td>List(static, lightning-rod)</td><td>243</td><td>8</td><td>Map(special-defense -> 80, defense -> 55, special-attack -> 90, attack -> 90, hp -> 60, speed -> 110)</td><td>List(electric)</td><td>300</td></tr><tr><td>27</td><td>sandshrew</td><td>List(sand-veil, sand-rush)</td><td>60</td><td>6</td><td>Map(special-defense -> 30, defense -> 85, special-attack -> 20, attack -> 75, hp -> 50, speed -> 40)</td><td>List(ground)</td><td>120</td></tr><tr><td>28</td><td>sandslash</td><td>List(sand-veil, sand-rush)</td><td>158</td><td>10</td><td>Map(special-defense -> 55, defense -> 110, special-attack -> 45, attack -> 100, hp -> 75, speed -> 65)</td><td>List(ground)</td><td>295</td></tr><tr><td>29</td><td>nidoran-f</td><td>List(poison-point, rivalry, hustle)</td><td>55</td><td>4</td><td>Map(special-defense -> 40, defense -> 52, special-attack -> 40, attack -> 47, hp -> 55, speed -> 41)</td><td>List(poison)</td><td>70</td></tr><tr><td>30</td><td>nidorina</td><td>List(poison-point, rivalry, hustle)</td><td>128</td><td>8</td><td>Map(special-defense -> 55, defense -> 67, special-attack -> 55, attack -> 62, hp -> 70, speed -> 56)</td><td>List(poison)</td><td>200</td></tr><tr><td>31</td><td>nidoqueen</td><td>List(poison-point, rivalry, sheer-force)</td><td>253</td><td>13</td><td>Map(special-defense -> 85, defense -> 87, special-attack -> 75, attack -> 92, hp -> 90, speed -> 76)</td><td>List(poison, ground)</td><td>600</td></tr><tr><td>32</td><td>nidoran-m</td><td>List(poison-point, rivalry, hustle)</td><td>55</td><td>5</td><td>Map(special-defense -> 40, defense -> 40, special-attack -> 40, attack -> 57, hp -> 46, speed -> 50)</td><td>List(poison)</td><td>90</td></tr><tr><td>33</td><td>nidorino</td><td>List(poison-point, rivalry, hustle)</td><td>128</td><td>9</td><td>Map(special-defense -> 55, defense -> 57, special-attack -> 55, attack -> 72, hp -> 61, speed -> 65)</td><td>List(poison)</td><td>195</td></tr><tr><td>34</td><td>nidoking</td><td>List(poison-point, rivalry, sheer-force)</td><td>253</td><td>14</td><td>Map(special-defense -> 75, defense -> 77, special-attack -> 85, attack -> 102, hp -> 81, speed -> 85)</td><td>List(poison, ground)</td><td>620</td></tr><tr><td>35</td><td>clefairy</td><td>List(cute-charm, magic-guard, friend-guard)</td><td>113</td><td>6</td><td>Map(special-defense -> 65, defense -> 48, special-attack -> 60, attack -> 45, hp -> 70, speed -> 35)</td><td>List(fairy)</td><td>75</td></tr><tr><td>36</td><td>clefable</td><td>List(cute-charm, magic-guard, unaware)</td><td>242</td><td>13</td><td>Map(special-defense -> 90, defense -> 73, special-attack -> 95, attack -> 70, hp -> 95, speed -> 60)</td><td>List(fairy)</td><td>400</td></tr><tr><td>37</td><td>vulpix</td><td>List(flash-fire, drought)</td><td>60</td><td>6</td><td>Map(special-defense -> 65, defense -> 40, special-attack -> 50, attack -> 41, hp -> 38, speed -> 65)</td><td>List(fire)</td><td>99</td></tr><tr><td>38</td><td>ninetales</td><td>List(flash-fire, drought)</td><td>177</td><td>11</td><td>Map(special-defense -> 100, defense -> 75, special-attack -> 81, attack -> 76, hp -> 73, speed -> 100)</td><td>List(fire)</td><td>199</td></tr><tr><td>39</td><td>jigglypuff</td><td>List(cute-charm, competitive, friend-guard)</td><td>95</td><td>5</td><td>Map(special-defense -> 25, defense -> 20, special-attack -> 45, attack -> 45, hp -> 115, speed -> 20)</td><td>List(normal, fairy)</td><td>55</td></tr><tr><td>40</td><td>wigglytuff</td><td>List(cute-charm, competitive, frisk)</td><td>218</td><td>10</td><td>Map(special-defense -> 50, defense -> 45, special-attack -> 85, attack -> 70, hp -> 140, speed -> 45)</td><td>List(normal, fairy)</td><td>120</td></tr><tr><td>41</td><td>zubat</td><td>List(inner-focus, infiltrator)</td><td>49</td><td>8</td><td>Map(special-defense -> 40, defense -> 35, special-attack -> 30, attack -> 45, hp -> 40, speed -> 55)</td><td>List(poison, flying)</td><td>75</td></tr><tr><td>42</td><td>golbat</td><td>List(inner-focus, infiltrator)</td><td>159</td><td>16</td><td>Map(special-defense -> 75, defense -> 70, special-attack -> 65, attack -> 80, hp -> 75, speed -> 90)</td><td>List(poison, flying)</td><td>550</td></tr><tr><td>43</td><td>oddish</td><td>List(chlorophyll, run-away)</td><td>64</td><td>5</td><td>Map(special-defense -> 65, defense -> 55, special-attack -> 75, attack -> 50, hp -> 45, speed -> 30)</td><td>List(grass, poison)</td><td>54</td></tr><tr><td>44</td><td>gloom</td><td>List(chlorophyll, stench)</td><td>138</td><td>8</td><td>Map(special-defense -> 75, defense -> 70, special-attack -> 85, attack -> 65, hp -> 60, speed -> 40)</td><td>List(grass, poison)</td><td>86</td></tr><tr><td>45</td><td>vileplume</td><td>List(chlorophyll, effect-spore)</td><td>245</td><td>12</td><td>Map(special-defense -> 90, defense -> 85, special-attack -> 110, attack -> 80, hp -> 75, speed -> 50)</td><td>List(grass, poison)</td><td>186</td></tr><tr><td>46</td><td>paras</td><td>List(effect-spore, dry-skin, damp)</td><td>57</td><td>3</td><td>Map(special-defense -> 55, defense -> 55, special-attack -> 45, attack -> 70, hp -> 35, speed -> 25)</td><td>List(bug, grass)</td><td>54</td></tr><tr><td>47</td><td>parasect</td><td>List(effect-spore, dry-skin, damp)</td><td>142</td><td>10</td><td>Map(special-defense -> 80, defense -> 80, special-attack -> 60, attack -> 95, hp -> 60, speed -> 30)</td><td>List(bug, grass)</td><td>295</td></tr><tr><td>48</td><td>venonat</td><td>List(compound-eyes, tinted-lens, run-away)</td><td>61</td><td>10</td><td>Map(special-defense -> 55, defense -> 50, special-attack -> 40, attack -> 55, hp -> 60, speed -> 45)</td><td>List(bug, poison)</td><td>300</td></tr><tr><td>49</td><td>venomoth</td><td>List(shield-dust, tinted-lens, wonder-skin)</td><td>158</td><td>15</td><td>Map(special-defense -> 75, defense -> 60, special-attack -> 90, attack -> 65, hp -> 70, speed -> 90)</td><td>List(bug, poison)</td><td>125</td></tr><tr><td>50</td><td>diglett</td><td>List(sand-veil, arena-trap, sand-force)</td><td>53</td><td>2</td><td>Map(special-defense -> 45, defense -> 25, special-attack -> 35, attack -> 55, hp -> 10, speed -> 95)</td><td>List(ground)</td><td>8</td></tr><tr><td>51</td><td>dugtrio</td><td>List(sand-veil, arena-trap, sand-force)</td><td>149</td><td>7</td><td>Map(special-defense -> 70, defense -> 50, special-attack -> 50, attack -> 100, hp -> 35, speed -> 120)</td><td>List(ground)</td><td>333</td></tr><tr><td>52</td><td>meowth</td><td>List(pickup, technician, unnerve)</td><td>58</td><td>4</td><td>Map(special-defense -> 40, defense -> 35, special-attack -> 40, attack -> 45, hp -> 40, speed -> 90)</td><td>List(normal)</td><td>42</td></tr><tr><td>53</td><td>persian</td><td>List(limber, technician, unnerve)</td><td>154</td><td>10</td><td>Map(special-defense -> 65, defense -> 60, special-attack -> 65, attack -> 70, hp -> 65, speed -> 115)</td><td>List(normal)</td><td>320</td></tr><tr><td>54</td><td>psyduck</td><td>List(damp, cloud-nine, swift-swim)</td><td>64</td><td>8</td><td>Map(special-defense -> 50, defense -> 48, special-attack -> 65, attack -> 52, hp -> 50, speed -> 55)</td><td>List(water)</td><td>196</td></tr><tr><td>55</td><td>golduck</td><td>List(damp, cloud-nine, swift-swim)</td><td>175</td><td>17</td><td>Map(special-defense -> 80, defense -> 78, special-attack -> 95, attack -> 82, hp -> 80, speed -> 85)</td><td>List(water)</td><td>766</td></tr><tr><td>56</td><td>mankey</td><td>List(vital-spirit, anger-point, defiant)</td><td>61</td><td>5</td><td>Map(special-defense -> 45, defense -> 35, special-attack -> 35, attack -> 80, hp -> 40, speed -> 70)</td><td>List(fighting)</td><td>280</td></tr><tr><td>57</td><td>primeape</td><td>List(vital-spirit, anger-point, defiant)</td><td>159</td><td>10</td><td>Map(special-defense -> 70, defense -> 60, special-attack -> 60, attack -> 105, hp -> 65, speed -> 95)</td><td>List(fighting)</td><td>320</td></tr><tr><td>58</td><td>growlithe</td><td>List(intimidate, flash-fire, justified)</td><td>70</td><td>7</td><td>Map(special-defense -> 50, defense -> 45, special-attack -> 70, attack -> 70, hp -> 55, speed -> 60)</td><td>List(fire)</td><td>190</td></tr><tr><td>59</td><td>arcanine</td><td>List(intimidate, flash-fire, justified)</td><td>194</td><td>19</td><td>Map(special-defense -> 80, defense -> 80, special-attack -> 100, attack -> 110, hp -> 90, speed -> 95)</td><td>List(fire)</td><td>1550</td></tr><tr><td>60</td><td>poliwag</td><td>List(water-absorb, damp, swift-swim)</td><td>60</td><td>6</td><td>Map(special-defense -> 40, defense -> 40, special-attack -> 40, attack -> 50, hp -> 40, speed -> 90)</td><td>List(water)</td><td>124</td></tr><tr><td>61</td><td>poliwhirl</td><td>List(water-absorb, damp, swift-swim)</td><td>135</td><td>10</td><td>Map(special-defense -> 50, defense -> 65, special-attack -> 50, attack -> 65, hp -> 65, speed -> 90)</td><td>List(water)</td><td>200</td></tr><tr><td>62</td><td>poliwrath</td><td>List(water-absorb, damp, swift-swim)</td><td>255</td><td>13</td><td>Map(special-defense -> 90, defense -> 95, special-attack -> 70, attack -> 95, hp -> 90, speed -> 70)</td><td>List(water, fighting)</td><td>540</td></tr><tr><td>63</td><td>abra</td><td>List(synchronize, inner-focus, magic-guard)</td><td>62</td><td>9</td><td>Map(special-defense -> 55, defense -> 15, special-attack -> 105, attack -> 20, hp -> 25, speed -> 90)</td><td>List(psychic)</td><td>195</td></tr><tr><td>64</td><td>kadabra</td><td>List(synchronize, inner-focus, magic-guard)</td><td>140</td><td>13</td><td>Map(special-defense -> 70, defense -> 30, special-attack -> 120, attack -> 35, hp -> 40, speed -> 105)</td><td>List(psychic)</td><td>565</td></tr><tr><td>65</td><td>alakazam</td><td>List(synchronize, inner-focus, magic-guard)</td><td>250</td><td>15</td><td>Map(special-defense -> 95, defense -> 45, special-attack -> 135, attack -> 50, hp -> 55, speed -> 120)</td><td>List(psychic)</td><td>480</td></tr><tr><td>66</td><td>machop</td><td>List(guts, no-guard, steadfast)</td><td>61</td><td>8</td><td>Map(special-defense -> 35, defense -> 50, special-attack -> 35, attack -> 80, hp -> 70, speed -> 35)</td><td>List(fighting)</td><td>195</td></tr><tr><td>67</td><td>machoke</td><td>List(guts, no-guard, steadfast)</td><td>142</td><td>15</td><td>Map(special-defense -> 60, defense -> 70, special-attack -> 50, attack -> 100, hp -> 80, speed -> 45)</td><td>List(fighting)</td><td>705</td></tr><tr><td>68</td><td>machamp</td><td>List(guts, no-guard, steadfast)</td><td>253</td><td>16</td><td>Map(special-defense -> 85, defense -> 80, special-attack -> 65, attack -> 130, hp -> 90, speed -> 55)</td><td>List(fighting)</td><td>1300</td></tr><tr><td>69</td><td>bellsprout</td><td>List(chlorophyll, gluttony)</td><td>60</td><td>7</td><td>Map(special-defense -> 30, defense -> 35, special-attack -> 70, attack -> 75, hp -> 50, speed -> 40)</td><td>List(grass, poison)</td><td>40</td></tr><tr><td>70</td><td>weepinbell</td><td>List(chlorophyll, gluttony)</td><td>137</td><td>10</td><td>Map(special-defense -> 45, defense -> 50, special-attack -> 85, attack -> 90, hp -> 65, speed -> 55)</td><td>List(grass, poison)</td><td>64</td></tr><tr><td>71</td><td>victreebel</td><td>List(chlorophyll, gluttony)</td><td>221</td><td>17</td><td>Map(special-defense -> 70, defense -> 65, special-attack -> 100, attack -> 105, hp -> 80, speed -> 70)</td><td>List(grass, poison)</td><td>155</td></tr><tr><td>72</td><td>tentacool</td><td>List(clear-body, liquid-ooze, rain-dish)</td><td>67</td><td>9</td><td>Map(special-defense -> 100, defense -> 35, special-attack -> 50, attack -> 40, hp -> 40, speed -> 70)</td><td>List(water, poison)</td><td>455</td></tr><tr><td>73</td><td>tentacruel</td><td>List(clear-body, liquid-ooze, rain-dish)</td><td>180</td><td>16</td><td>Map(special-defense -> 120, defense -> 65, special-attack -> 80, attack -> 70, hp -> 80, speed -> 100)</td><td>List(water, poison)</td><td>550</td></tr><tr><td>74</td><td>geodude</td><td>List(rock-head, sturdy, sand-veil)</td><td>60</td><td>4</td><td>Map(special-defense -> 30, defense -> 100, special-attack -> 30, attack -> 80, hp -> 40, speed -> 20)</td><td>List(rock, ground)</td><td>200</td></tr><tr><td>75</td><td>graveler</td><td>List(rock-head, sturdy, sand-veil)</td><td>137</td><td>10</td><td>Map(special-defense -> 45, defense -> 115, special-attack -> 45, attack -> 95, hp -> 55, speed -> 35)</td><td>List(rock, ground)</td><td>1050</td></tr><tr><td>76</td><td>golem</td><td>List(rock-head, sturdy, sand-veil)</td><td>223</td><td>14</td><td>Map(special-defense -> 65, defense -> 130, special-attack -> 55, attack -> 120, hp -> 80, speed -> 45)</td><td>List(rock, ground)</td><td>3000</td></tr><tr><td>77</td><td>ponyta</td><td>List(run-away, flash-fire, flame-body)</td><td>82</td><td>10</td><td>Map(special-defense -> 65, defense -> 55, special-attack -> 65, attack -> 85, hp -> 50, speed -> 90)</td><td>List(fire)</td><td>300</td></tr><tr><td>78</td><td>rapidash</td><td>List(run-away, flash-fire, flame-body)</td><td>175</td><td>17</td><td>Map(special-defense -> 80, defense -> 70, special-attack -> 80, attack -> 100, hp -> 65, speed -> 105)</td><td>List(fire)</td><td>950</td></tr><tr><td>79</td><td>slowpoke</td><td>List(oblivious, own-tempo, regenerator)</td><td>63</td><td>12</td><td>Map(special-defense -> 40, defense -> 65, special-attack -> 40, attack -> 65, hp -> 90, speed -> 15)</td><td>List(water, psychic)</td><td>360</td></tr><tr><td>80</td><td>slowbro</td><td>List(oblivious, own-tempo, regenerator)</td><td>172</td><td>16</td><td>Map(special-defense -> 80, defense -> 110, special-attack -> 100, attack -> 75, hp -> 95, speed -> 30)</td><td>List(water, psychic)</td><td>785</td></tr><tr><td>81</td><td>magnemite</td><td>List(magnet-pull, sturdy, analytic)</td><td>65</td><td>3</td><td>Map(special-defense -> 55, defense -> 70, special-attack -> 95, attack -> 35, hp -> 25, speed -> 45)</td><td>List(electric, steel)</td><td>60</td></tr><tr><td>82</td><td>magneton</td><td>List(magnet-pull, sturdy, analytic)</td><td>163</td><td>10</td><td>Map(special-defense -> 70, defense -> 95, special-attack -> 120, attack -> 60, hp -> 50, speed -> 70)</td><td>List(electric, steel)</td><td>600</td></tr><tr><td>83</td><td>farfetchd</td><td>List(keen-eye, inner-focus, defiant)</td><td>132</td><td>8</td><td>Map(special-defense -> 62, defense -> 55, special-attack -> 58, attack -> 90, hp -> 52, speed -> 60)</td><td>List(normal, flying)</td><td>150</td></tr><tr><td>84</td><td>doduo</td><td>List(run-away, early-bird, tangled-feet)</td><td>62</td><td>14</td><td>Map(special-defense -> 35, defense -> 45, special-attack -> 35, attack -> 85, hp -> 35, speed -> 75)</td><td>List(normal, flying)</td><td>392</td></tr><tr><td>85</td><td>dodrio</td><td>List(run-away, early-bird, tangled-feet)</td><td>165</td><td>18</td><td>Map(special-defense -> 60, defense -> 70, special-attack -> 60, attack -> 110, hp -> 60, speed -> 110)</td><td>List(normal, flying)</td><td>852</td></tr><tr><td>86</td><td>seel</td><td>List(thick-fat, hydration, ice-body)</td><td>65</td><td>11</td><td>Map(special-defense -> 70, defense -> 55, special-attack -> 45, attack -> 45, hp -> 65, speed -> 45)</td><td>List(water)</td><td>900</td></tr><tr><td>87</td><td>dewgong</td><td>List(thick-fat, hydration, ice-body)</td><td>166</td><td>17</td><td>Map(special-defense -> 95, defense -> 80, special-attack -> 70, attack -> 70, hp -> 90, speed -> 70)</td><td>List(water, ice)</td><td>1200</td></tr><tr><td>88</td><td>grimer</td><td>List(stench, sticky-hold, poison-touch)</td><td>65</td><td>9</td><td>Map(special-defense -> 50, defense -> 50, special-attack -> 40, attack -> 80, hp -> 80, speed -> 25)</td><td>List(poison)</td><td>300</td></tr><tr><td>89</td><td>muk</td><td>List(stench, sticky-hold, poison-touch)</td><td>175</td><td>12</td><td>Map(special-defense -> 100, defense -> 75, special-attack -> 65, attack -> 105, hp -> 105, speed -> 50)</td><td>List(poison)</td><td>300</td></tr><tr><td>90</td><td>shellder</td><td>List(shell-armor, skill-link, overcoat)</td><td>61</td><td>3</td><td>Map(special-defense -> 25, defense -> 100, special-attack -> 45, attack -> 65, hp -> 30, speed -> 40)</td><td>List(water)</td><td>40</td></tr><tr><td>91</td><td>cloyster</td><td>List(shell-armor, skill-link, overcoat)</td><td>184</td><td>15</td><td>Map(special-defense -> 45, defense -> 180, special-attack -> 85, attack -> 95, hp -> 50, speed -> 70)</td><td>List(water, ice)</td><td>1325</td></tr><tr><td>92</td><td>gastly</td><td>List(levitate)</td><td>62</td><td>13</td><td>Map(special-defense -> 35, defense -> 30, special-attack -> 100, attack -> 35, hp -> 30, speed -> 80)</td><td>List(ghost, poison)</td><td>1</td></tr><tr><td>93</td><td>haunter</td><td>List(levitate)</td><td>142</td><td>16</td><td>Map(special-defense -> 55, defense -> 45, special-attack -> 115, attack -> 50, hp -> 45, speed -> 95)</td><td>List(ghost, poison)</td><td>1</td></tr><tr><td>94</td><td>gengar</td><td>List(cursed-body)</td><td>250</td><td>15</td><td>Map(special-defense -> 75, defense -> 60, special-attack -> 130, attack -> 65, hp -> 60, speed -> 110)</td><td>List(ghost, poison)</td><td>405</td></tr><tr><td>95</td><td>onix</td><td>List(rock-head, sturdy, weak-armor)</td><td>77</td><td>88</td><td>Map(special-defense -> 45, defense -> 160, special-attack -> 30, attack -> 45, hp -> 35, speed -> 70)</td><td>List(rock, ground)</td><td>2100</td></tr><tr><td>96</td><td>drowzee</td><td>List(insomnia, forewarn, inner-focus)</td><td>66</td><td>10</td><td>Map(special-defense -> 90, defense -> 45, special-attack -> 43, attack -> 48, hp -> 60, speed -> 42)</td><td>List(psychic)</td><td>324</td></tr><tr><td>97</td><td>hypno</td><td>List(insomnia, forewarn, inner-focus)</td><td>169</td><td>16</td><td>Map(special-defense -> 115, defense -> 70, special-attack -> 73, attack -> 73, hp -> 85, speed -> 67)</td><td>List(psychic)</td><td>756</td></tr><tr><td>98</td><td>krabby</td><td>List(hyper-cutter, shell-armor, sheer-force)</td><td>65</td><td>4</td><td>Map(special-defense -> 25, defense -> 90, special-attack -> 25, attack -> 105, hp -> 30, speed -> 50)</td><td>List(water)</td><td>65</td></tr><tr><td>99</td><td>kingler</td><td>List(hyper-cutter, shell-armor, sheer-force)</td><td>166</td><td>13</td><td>Map(special-defense -> 50, defense -> 115, special-attack -> 50, attack -> 130, hp -> 55, speed -> 75)</td><td>List(water)</td><td>600</td></tr><tr><td>100</td><td>voltorb</td><td>List(soundproof, static, aftermath)</td><td>66</td><td>5</td><td>Map(special-defense -> 55, defense -> 50, special-attack -> 55, attack -> 30, hp -> 40, speed -> 100)</td><td>List(electric)</td><td>104</td></tr><tr><td>101</td><td>electrode</td><td>List(soundproof, static, aftermath)</td><td>172</td><td>12</td><td>Map(special-defense -> 80, defense -> 70, special-attack -> 80, attack -> 50, hp -> 60, speed -> 150)</td><td>List(electric)</td><td>666</td></tr><tr><td>102</td><td>exeggcute</td><td>List(chlorophyll, harvest)</td><td>65</td><td>4</td><td>Map(special-defense -> 45, defense -> 80, special-attack -> 60, attack -> 40, hp -> 60, speed -> 40)</td><td>List(grass, psychic)</td><td>25</td></tr><tr><td>103</td><td>exeggutor</td><td>List(chlorophyll, harvest)</td><td>186</td><td>20</td><td>Map(special-defense -> 75, defense -> 85, special-attack -> 125, attack -> 95, hp -> 95, speed -> 55)</td><td>List(grass, psychic)</td><td>1200</td></tr><tr><td>104</td><td>cubone</td><td>List(rock-head, lightning-rod, battle-armor)</td><td>64</td><td>4</td><td>Map(special-defense -> 50, defense -> 95, special-attack -> 40, attack -> 50, hp -> 50, speed -> 35)</td><td>List(ground)</td><td>65</td></tr><tr><td>105</td><td>marowak</td><td>List(rock-head, lightning-rod, battle-armor)</td><td>149</td><td>10</td><td>Map(special-defense -> 80, defense -> 110, special-attack -> 50, attack -> 80, hp -> 60, speed -> 45)</td><td>List(ground)</td><td>450</td></tr><tr><td>106</td><td>hitmonlee</td><td>List(limber, reckless, unburden)</td><td>159</td><td>15</td><td>Map(special-defense -> 110, defense -> 53, special-attack -> 35, attack -> 120, hp -> 50, speed -> 87)</td><td>List(fighting)</td><td>498</td></tr><tr><td>107</td><td>hitmonchan</td><td>List(keen-eye, iron-fist, inner-focus)</td><td>159</td><td>14</td><td>Map(special-defense -> 110, defense -> 79, special-attack -> 35, attack -> 105, hp -> 50, speed -> 76)</td><td>List(fighting)</td><td>502</td></tr><tr><td>108</td><td>lickitung</td><td>List(own-tempo, oblivious, cloud-nine)</td><td>77</td><td>12</td><td>Map(special-defense -> 75, defense -> 75, special-attack -> 60, attack -> 55, hp -> 90, speed -> 30)</td><td>List(normal)</td><td>655</td></tr><tr><td>109</td><td>koffing</td><td>List(levitate, neutralizing-gas, stench)</td><td>68</td><td>6</td><td>Map(special-defense -> 45, defense -> 95, special-attack -> 60, attack -> 65, hp -> 40, speed -> 35)</td><td>List(poison)</td><td>10</td></tr><tr><td>110</td><td>weezing</td><td>List(levitate, neutralizing-gas, stench)</td><td>172</td><td>12</td><td>Map(special-defense -> 70, defense -> 120, special-attack -> 85, attack -> 90, hp -> 65, speed -> 60)</td><td>List(poison)</td><td>95</td></tr><tr><td>111</td><td>rhyhorn</td><td>List(lightning-rod, rock-head, reckless)</td><td>69</td><td>10</td><td>Map(special-defense -> 30, defense -> 95, special-attack -> 30, attack -> 85, hp -> 80, speed -> 25)</td><td>List(ground, rock)</td><td>1150</td></tr><tr><td>112</td><td>rhydon</td><td>List(lightning-rod, rock-head, reckless)</td><td>170</td><td>19</td><td>Map(special-defense -> 45, defense -> 120, special-attack -> 45, attack -> 130, hp -> 105, speed -> 40)</td><td>List(ground, rock)</td><td>1200</td></tr><tr><td>113</td><td>chansey</td><td>List(natural-cure, serene-grace, healer)</td><td>395</td><td>11</td><td>Map(special-defense -> 105, defense -> 5, special-attack -> 35, attack -> 5, hp -> 250, speed -> 50)</td><td>List(normal)</td><td>346</td></tr><tr><td>114</td><td>tangela</td><td>List(chlorophyll, leaf-guard, regenerator)</td><td>87</td><td>10</td><td>Map(special-defense -> 40, defense -> 115, special-attack -> 100, attack -> 55, hp -> 65, speed -> 60)</td><td>List(grass)</td><td>350</td></tr><tr><td>115</td><td>kangaskhan</td><td>List(early-bird, scrappy, inner-focus)</td><td>172</td><td>22</td><td>Map(special-defense -> 80, defense -> 80, special-attack -> 40, attack -> 95, hp -> 105, speed -> 90)</td><td>List(normal)</td><td>800</td></tr><tr><td>116</td><td>horsea</td><td>List(swift-swim, sniper, damp)</td><td>59</td><td>4</td><td>Map(special-defense -> 25, defense -> 70, special-attack -> 70, attack -> 40, hp -> 30, speed -> 60)</td><td>List(water)</td><td>80</td></tr><tr><td>117</td><td>seadra</td><td>List(poison-point, sniper, damp)</td><td>154</td><td>12</td><td>Map(special-defense -> 45, defense -> 95, special-attack -> 95, attack -> 65, hp -> 55, speed -> 85)</td><td>List(water)</td><td>250</td></tr><tr><td>118</td><td>goldeen</td><td>List(swift-swim, water-veil, lightning-rod)</td><td>64</td><td>6</td><td>Map(special-defense -> 50, defense -> 60, special-attack -> 35, attack -> 67, hp -> 45, speed -> 63)</td><td>List(water)</td><td>150</td></tr><tr><td>119</td><td>seaking</td><td>List(swift-swim, water-veil, lightning-rod)</td><td>158</td><td>13</td><td>Map(special-defense -> 80, defense -> 65, special-attack -> 65, attack -> 92, hp -> 80, speed -> 68)</td><td>List(water)</td><td>390</td></tr><tr><td>120</td><td>staryu</td><td>List(illuminate, natural-cure, analytic)</td><td>68</td><td>8</td><td>Map(special-defense -> 55, defense -> 55, special-attack -> 70, attack -> 45, hp -> 30, speed -> 85)</td><td>List(water)</td><td>345</td></tr><tr><td>121</td><td>starmie</td><td>List(illuminate, natural-cure, analytic)</td><td>182</td><td>11</td><td>Map(special-defense -> 85, defense -> 85, special-attack -> 100, attack -> 75, hp -> 60, speed -> 115)</td><td>List(water, psychic)</td><td>800</td></tr><tr><td>122</td><td>mr-mime</td><td>List(soundproof, filter, technician)</td><td>161</td><td>13</td><td>Map(special-defense -> 120, defense -> 65, special-attack -> 100, attack -> 45, hp -> 40, speed -> 90)</td><td>List(psychic, fairy)</td><td>545</td></tr><tr><td>123</td><td>scyther</td><td>List(swarm, technician, steadfast)</td><td>100</td><td>15</td><td>Map(special-defense -> 80, defense -> 80, special-attack -> 55, attack -> 110, hp -> 70, speed -> 105)</td><td>List(bug, flying)</td><td>560</td></tr><tr><td>124</td><td>jynx</td><td>List(oblivious, forewarn, dry-skin)</td><td>159</td><td>14</td><td>Map(special-defense -> 95, defense -> 35, special-attack -> 115, attack -> 50, hp -> 65, speed -> 95)</td><td>List(ice, psychic)</td><td>406</td></tr><tr><td>125</td><td>electabuzz</td><td>List(static, vital-spirit)</td><td>172</td><td>11</td><td>Map(special-defense -> 85, defense -> 57, special-attack -> 95, attack -> 83, hp -> 65, speed -> 105)</td><td>List(electric)</td><td>300</td></tr><tr><td>126</td><td>magmar</td><td>List(flame-body, vital-spirit)</td><td>173</td><td>13</td><td>Map(special-defense -> 85, defense -> 57, special-attack -> 100, attack -> 95, hp -> 65, speed -> 93)</td><td>List(fire)</td><td>445</td></tr><tr><td>127</td><td>pinsir</td><td>List(hyper-cutter, mold-breaker, moxie)</td><td>175</td><td>15</td><td>Map(special-defense -> 70, defense -> 100, special-attack -> 55, attack -> 125, hp -> 65, speed -> 85)</td><td>List(bug)</td><td>550</td></tr><tr><td>128</td><td>tauros</td><td>List(intimidate, anger-point, sheer-force)</td><td>172</td><td>14</td><td>Map(special-defense -> 70, defense -> 95, special-attack -> 40, attack -> 100, hp -> 75, speed -> 110)</td><td>List(normal)</td><td>884</td></tr><tr><td>129</td><td>magikarp</td><td>List(swift-swim, rattled)</td><td>40</td><td>9</td><td>Map(special-defense -> 20, defense -> 55, special-attack -> 15, attack -> 10, hp -> 20, speed -> 80)</td><td>List(water)</td><td>100</td></tr><tr><td>130</td><td>gyarados</td><td>List(intimidate, moxie)</td><td>189</td><td>65</td><td>Map(special-defense -> 100, defense -> 79, special-attack -> 60, attack -> 125, hp -> 95, speed -> 81)</td><td>List(water, flying)</td><td>2350</td></tr><tr><td>131</td><td>lapras</td><td>List(water-absorb, shell-armor, hydration)</td><td>187</td><td>25</td><td>Map(special-defense -> 95, defense -> 80, special-attack -> 85, attack -> 85, hp -> 130, speed -> 60)</td><td>List(water, ice)</td><td>2200</td></tr><tr><td>132</td><td>ditto</td><td>List(limber, imposter)</td><td>101</td><td>3</td><td>Map(special-defense -> 48, defense -> 48, special-attack -> 48, attack -> 48, hp -> 48, speed -> 48)</td><td>List(normal)</td><td>40</td></tr><tr><td>133</td><td>eevee</td><td>List(run-away, adaptability, anticipation)</td><td>65</td><td>3</td><td>Map(special-defense -> 65, defense -> 50, special-attack -> 45, attack -> 55, hp -> 55, speed -> 55)</td><td>List(normal)</td><td>65</td></tr><tr><td>134</td><td>vaporeon</td><td>List(water-absorb, hydration)</td><td>184</td><td>10</td><td>Map(special-defense -> 95, defense -> 60, special-attack -> 110, attack -> 65, hp -> 130, speed -> 65)</td><td>List(water)</td><td>290</td></tr><tr><td>135</td><td>jolteon</td><td>List(volt-absorb, quick-feet)</td><td>184</td><td>8</td><td>Map(special-defense -> 95, defense -> 60, special-attack -> 110, attack -> 65, hp -> 65, speed -> 130)</td><td>List(electric)</td><td>245</td></tr><tr><td>136</td><td>flareon</td><td>List(flash-fire, guts)</td><td>184</td><td>9</td><td>Map(special-defense -> 110, defense -> 60, special-attack -> 95, attack -> 130, hp -> 65, speed -> 65)</td><td>List(fire)</td><td>250</td></tr><tr><td>137</td><td>porygon</td><td>List(trace, download, analytic)</td><td>79</td><td>8</td><td>Map(special-defense -> 75, defense -> 70, special-attack -> 85, attack -> 60, hp -> 65, speed -> 40)</td><td>List(normal)</td><td>365</td></tr><tr><td>138</td><td>omanyte</td><td>List(swift-swim, shell-armor, weak-armor)</td><td>71</td><td>4</td><td>Map(special-defense -> 55, defense -> 100, special-attack -> 90, attack -> 40, hp -> 35, speed -> 35)</td><td>List(rock, water)</td><td>75</td></tr><tr><td>139</td><td>omastar</td><td>List(swift-swim, shell-armor, weak-armor)</td><td>173</td><td>10</td><td>Map(special-defense -> 70, defense -> 125, special-attack -> 115, attack -> 60, hp -> 70, speed -> 55)</td><td>List(rock, water)</td><td>350</td></tr><tr><td>140</td><td>kabuto</td><td>List(swift-swim, battle-armor, weak-armor)</td><td>71</td><td>5</td><td>Map(special-defense -> 45, defense -> 90, special-attack -> 55, attack -> 80, hp -> 30, speed -> 55)</td><td>List(rock, water)</td><td>115</td></tr><tr><td>141</td><td>kabutops</td><td>List(swift-swim, battle-armor, weak-armor)</td><td>173</td><td>13</td><td>Map(special-defense -> 70, defense -> 105, special-attack -> 65, attack -> 115, hp -> 60, speed -> 80)</td><td>List(rock, water)</td><td>405</td></tr><tr><td>142</td><td>aerodactyl</td><td>List(rock-head, pressure, unnerve)</td><td>180</td><td>18</td><td>Map(special-defense -> 75, defense -> 65, special-attack -> 60, attack -> 105, hp -> 80, speed -> 130)</td><td>List(rock, flying)</td><td>590</td></tr><tr><td>143</td><td>snorlax</td><td>List(immunity, thick-fat, gluttony)</td><td>189</td><td>21</td><td>Map(special-defense -> 110, defense -> 65, special-attack -> 65, attack -> 110, hp -> 160, speed -> 30)</td><td>List(normal)</td><td>4600</td></tr><tr><td>144</td><td>articuno</td><td>List(pressure, snow-cloak)</td><td>290</td><td>17</td><td>Map(special-defense -> 125, defense -> 100, special-attack -> 95, attack -> 85, hp -> 90, speed -> 85)</td><td>List(ice, flying)</td><td>554</td></tr><tr><td>145</td><td>zapdos</td><td>List(pressure, static)</td><td>290</td><td>16</td><td>Map(special-defense -> 90, defense -> 85, special-attack -> 125, attack -> 90, hp -> 90, speed -> 100)</td><td>List(electric, flying)</td><td>526</td></tr><tr><td>146</td><td>moltres</td><td>List(pressure, flame-body)</td><td>290</td><td>20</td><td>Map(special-defense -> 85, defense -> 90, special-attack -> 125, attack -> 100, hp -> 90, speed -> 90)</td><td>List(fire, flying)</td><td>600</td></tr><tr><td>147</td><td>dratini</td><td>List(shed-skin, marvel-scale)</td><td>60</td><td>18</td><td>Map(special-defense -> 50, defense -> 45, special-attack -> 50, attack -> 64, hp -> 41, speed -> 50)</td><td>List(dragon)</td><td>33</td></tr><tr><td>148</td><td>dragonair</td><td>List(shed-skin, marvel-scale)</td><td>147</td><td>40</td><td>Map(special-defense -> 70, defense -> 65, special-attack -> 70, attack -> 84, hp -> 61, speed -> 70)</td><td>List(dragon)</td><td>165</td></tr><tr><td>149</td><td>dragonite</td><td>List(inner-focus, multiscale)</td><td>300</td><td>22</td><td>Map(special-defense -> 100, defense -> 95, special-attack -> 100, attack -> 134, hp -> 91, speed -> 80)</td><td>List(dragon, flying)</td><td>2100</td></tr><tr><td>150</td><td>mewtwo</td><td>List(pressure, unnerve)</td><td>340</td><td>20</td><td>Map(special-defense -> 90, defense -> 90, special-attack -> 154, attack -> 110, hp -> 106, speed -> 130)</td><td>List(psychic)</td><td>1220</td></tr><tr><td>151</td><td>mew</td><td>List(synchronize)</td><td>300</td><td>4</td><td>Map(special-defense -> 100, defense -> 100, special-attack -> 100, attack -> 100, hp -> 100, speed -> 100)</td><td>List(psychic)</td><td>40</td></tr><tr><td>152</td><td>chikorita</td><td>List(overgrow, leaf-guard)</td><td>64</td><td>9</td><td>Map(special-defense -> 65, defense -> 65, special-attack -> 49, attack -> 49, hp -> 45, speed -> 45)</td><td>List(grass)</td><td>64</td></tr><tr><td>153</td><td>bayleef</td><td>List(overgrow, leaf-guard)</td><td>142</td><td>12</td><td>Map(special-defense -> 80, defense -> 80, special-attack -> 63, attack -> 62, hp -> 60, speed -> 60)</td><td>List(grass)</td><td>158</td></tr><tr><td>154</td><td>meganium</td><td>List(overgrow, leaf-guard)</td><td>236</td><td>18</td><td>Map(special-defense -> 100, defense -> 100, special-attack -> 83, attack -> 82, hp -> 80, speed -> 80)</td><td>List(grass)</td><td>1005</td></tr><tr><td>155</td><td>cyndaquil</td><td>List(blaze, flash-fire)</td><td>62</td><td>5</td><td>Map(special-defense -> 50, defense -> 43, special-attack -> 60, attack -> 52, hp -> 39, speed -> 65)</td><td>List(fire)</td><td>79</td></tr><tr><td>156</td><td>quilava</td><td>List(blaze, flash-fire)</td><td>142</td><td>9</td><td>Map(special-defense -> 65, defense -> 58, special-attack -> 80, attack -> 64, hp -> 58, speed -> 80)</td><td>List(fire)</td><td>190</td></tr><tr><td>157</td><td>typhlosion</td><td>List(blaze, flash-fire)</td><td>240</td><td>17</td><td>Map(special-defense -> 85, defense -> 78, special-attack -> 109, attack -> 84, hp -> 78, speed -> 100)</td><td>List(fire)</td><td>795</td></tr><tr><td>158</td><td>totodile</td><td>List(torrent, sheer-force)</td><td>63</td><td>6</td><td>Map(special-defense -> 48, defense -> 64, special-attack -> 44, attack -> 65, hp -> 50, speed -> 43)</td><td>List(water)</td><td>95</td></tr><tr><td>159</td><td>croconaw</td><td>List(torrent, sheer-force)</td><td>142</td><td>11</td><td>Map(special-defense -> 63, defense -> 80, special-attack -> 59, attack -> 80, hp -> 65, speed -> 58)</td><td>List(water)</td><td>250</td></tr><tr><td>160</td><td>feraligatr</td><td>List(torrent, sheer-force)</td><td>239</td><td>23</td><td>Map(special-defense -> 83, defense -> 100, special-attack -> 79, attack -> 105, hp -> 85, speed -> 78)</td><td>List(water)</td><td>888</td></tr><tr><td>161</td><td>sentret</td><td>List(run-away, keen-eye, frisk)</td><td>43</td><td>8</td><td>Map(special-defense -> 45, defense -> 34, special-attack -> 35, attack -> 46, hp -> 35, speed -> 20)</td><td>List(normal)</td><td>60</td></tr><tr><td>162</td><td>furret</td><td>List(run-away, keen-eye, frisk)</td><td>145</td><td>18</td><td>Map(special-defense -> 55, defense -> 64, special-attack -> 45, attack -> 76, hp -> 85, speed -> 90)</td><td>List(normal)</td><td>325</td></tr><tr><td>163</td><td>hoothoot</td><td>List(insomnia, keen-eye, tinted-lens)</td><td>52</td><td>7</td><td>Map(special-defense -> 56, defense -> 30, special-attack -> 36, attack -> 30, hp -> 60, speed -> 50)</td><td>List(normal, flying)</td><td>212</td></tr><tr><td>164</td><td>noctowl</td><td>List(insomnia, keen-eye, tinted-lens)</td><td>158</td><td>16</td><td>Map(special-defense -> 96, defense -> 50, special-attack -> 86, attack -> 50, hp -> 100, speed -> 70)</td><td>List(normal, flying)</td><td>408</td></tr><tr><td>165</td><td>ledyba</td><td>List(swarm, early-bird, rattled)</td><td>53</td><td>10</td><td>Map(special-defense -> 80, defense -> 30, special-attack -> 40, attack -> 20, hp -> 40, speed -> 55)</td><td>List(bug, flying)</td><td>108</td></tr><tr><td>166</td><td>ledian</td><td>List(swarm, early-bird, iron-fist)</td><td>137</td><td>14</td><td>Map(special-defense -> 110, defense -> 50, special-attack -> 55, attack -> 35, hp -> 55, speed -> 85)</td><td>List(bug, flying)</td><td>356</td></tr><tr><td>167</td><td>spinarak</td><td>List(swarm, insomnia, sniper)</td><td>50</td><td>5</td><td>Map(special-defense -> 40, defense -> 40, special-attack -> 40, attack -> 60, hp -> 40, speed -> 30)</td><td>List(bug, poison)</td><td>85</td></tr><tr><td>168</td><td>ariados</td><td>List(swarm, insomnia, sniper)</td><td>140</td><td>11</td><td>Map(special-defense -> 70, defense -> 70, special-attack -> 60, attack -> 90, hp -> 70, speed -> 40)</td><td>List(bug, poison)</td><td>335</td></tr><tr><td>169</td><td>crobat</td><td>List(inner-focus, infiltrator)</td><td>268</td><td>18</td><td>Map(special-defense -> 80, defense -> 80, special-attack -> 70, attack -> 90, hp -> 85, speed -> 130)</td><td>List(poison, flying)</td><td>750</td></tr><tr><td>170</td><td>chinchou</td><td>List(volt-absorb, illuminate, water-absorb)</td><td>66</td><td>5</td><td>Map(special-defense -> 56, defense -> 38, special-attack -> 56, attack -> 38, hp -> 75, speed -> 67)</td><td>List(water, electric)</td><td>120</td></tr><tr><td>171</td><td>lanturn</td><td>List(volt-absorb, illuminate, water-absorb)</td><td>161</td><td>12</td><td>Map(special-defense -> 76, defense -> 58, special-attack -> 76, attack -> 58, hp -> 125, speed -> 67)</td><td>List(water, electric)</td><td>225</td></tr><tr><td>172</td><td>pichu</td><td>List(static, lightning-rod)</td><td>41</td><td>3</td><td>Map(special-defense -> 35, defense -> 15, special-attack -> 35, attack -> 40, hp -> 20, speed -> 60)</td><td>List(electric)</td><td>20</td></tr><tr><td>173</td><td>cleffa</td><td>List(cute-charm, magic-guard, friend-guard)</td><td>44</td><td>3</td><td>Map(special-defense -> 55, defense -> 28, special-attack -> 45, attack -> 25, hp -> 50, speed -> 15)</td><td>List(fairy)</td><td>30</td></tr><tr><td>174</td><td>igglybuff</td><td>List(cute-charm, competitive, friend-guard)</td><td>42</td><td>3</td><td>Map(special-defense -> 20, defense -> 15, special-attack -> 40, attack -> 30, hp -> 90, speed -> 15)</td><td>List(normal, fairy)</td><td>10</td></tr><tr><td>175</td><td>togepi</td><td>List(hustle, serene-grace, super-luck)</td><td>49</td><td>3</td><td>Map(special-defense -> 65, defense -> 65, special-attack -> 40, attack -> 20, hp -> 35, speed -> 20)</td><td>List(fairy)</td><td>15</td></tr><tr><td>176</td><td>togetic</td><td>List(hustle, serene-grace, super-luck)</td><td>142</td><td>6</td><td>Map(special-defense -> 105, defense -> 85, special-attack -> 80, attack -> 40, hp -> 55, speed -> 40)</td><td>List(fairy, flying)</td><td>32</td></tr><tr><td>177</td><td>natu</td><td>List(synchronize, early-bird, magic-bounce)</td><td>64</td><td>2</td><td>Map(special-defense -> 45, defense -> 45, special-attack -> 70, attack -> 50, hp -> 40, speed -> 70)</td><td>List(psychic, flying)</td><td>20</td></tr><tr><td>178</td><td>xatu</td><td>List(synchronize, early-bird, magic-bounce)</td><td>165</td><td>15</td><td>Map(special-defense -> 70, defense -> 70, special-attack -> 95, attack -> 75, hp -> 65, speed -> 95)</td><td>List(psychic, flying)</td><td>150</td></tr><tr><td>179</td><td>mareep</td><td>List(static, plus)</td><td>56</td><td>6</td><td>Map(special-defense -> 45, defense -> 40, special-attack -> 65, attack -> 40, hp -> 55, speed -> 35)</td><td>List(electric)</td><td>78</td></tr><tr><td>180</td><td>flaaffy</td><td>List(static, plus)</td><td>128</td><td>8</td><td>Map(special-defense -> 60, defense -> 55, special-attack -> 80, attack -> 55, hp -> 70, speed -> 45)</td><td>List(electric)</td><td>133</td></tr><tr><td>181</td><td>ampharos</td><td>List(static, plus)</td><td>230</td><td>14</td><td>Map(special-defense -> 90, defense -> 85, special-attack -> 115, attack -> 75, hp -> 90, speed -> 55)</td><td>List(electric)</td><td>615</td></tr><tr><td>182</td><td>bellossom</td><td>List(chlorophyll, healer)</td><td>245</td><td>4</td><td>Map(special-defense -> 100, defense -> 95, special-attack -> 90, attack -> 80, hp -> 75, speed -> 50)</td><td>List(grass)</td><td>58</td></tr><tr><td>183</td><td>marill</td><td>List(thick-fat, huge-power, sap-sipper)</td><td>88</td><td>4</td><td>Map(special-defense -> 50, defense -> 50, special-attack -> 20, attack -> 20, hp -> 70, speed -> 40)</td><td>List(water, fairy)</td><td>85</td></tr><tr><td>184</td><td>azumarill</td><td>List(thick-fat, huge-power, sap-sipper)</td><td>210</td><td>8</td><td>Map(special-defense -> 80, defense -> 80, special-attack -> 60, attack -> 50, hp -> 100, speed -> 50)</td><td>List(water, fairy)</td><td>285</td></tr><tr><td>185</td><td>sudowoodo</td><td>List(sturdy, rock-head, rattled)</td><td>144</td><td>12</td><td>Map(special-defense -> 65, defense -> 115, special-attack -> 30, attack -> 100, hp -> 70, speed -> 30)</td><td>List(rock)</td><td>380</td></tr><tr><td>186</td><td>politoed</td><td>List(water-absorb, damp, drizzle)</td><td>250</td><td>11</td><td>Map(special-defense -> 100, defense -> 75, special-attack -> 90, attack -> 75, hp -> 90, speed -> 70)</td><td>List(water)</td><td>339</td></tr><tr><td>187</td><td>hoppip</td><td>List(chlorophyll, leaf-guard, infiltrator)</td><td>50</td><td>4</td><td>Map(special-defense -> 55, defense -> 40, special-attack -> 35, attack -> 35, hp -> 35, speed -> 50)</td><td>List(grass, flying)</td><td>5</td></tr><tr><td>188</td><td>skiploom</td><td>List(chlorophyll, leaf-guard, infiltrator)</td><td>119</td><td>6</td><td>Map(special-defense -> 65, defense -> 50, special-attack -> 45, attack -> 45, hp -> 55, speed -> 80)</td><td>List(grass, flying)</td><td>10</td></tr><tr><td>189</td><td>jumpluff</td><td>List(chlorophyll, leaf-guard, infiltrator)</td><td>207</td><td>8</td><td>Map(special-defense -> 95, defense -> 70, special-attack -> 55, attack -> 55, hp -> 75, speed -> 110)</td><td>List(grass, flying)</td><td>30</td></tr><tr><td>190</td><td>aipom</td><td>List(run-away, pickup, skill-link)</td><td>72</td><td>8</td><td>Map(special-defense -> 55, defense -> 55, special-attack -> 40, attack -> 70, hp -> 55, speed -> 85)</td><td>List(normal)</td><td>115</td></tr><tr><td>191</td><td>sunkern</td><td>List(chlorophyll, solar-power, early-bird)</td><td>36</td><td>3</td><td>Map(special-defense -> 30, defense -> 30, special-attack -> 30, attack -> 30, hp -> 30, speed -> 30)</td><td>List(grass)</td><td>18</td></tr><tr><td>192</td><td>sunflora</td><td>List(chlorophyll, solar-power, early-bird)</td><td>149</td><td>8</td><td>Map(special-defense -> 85, defense -> 55, special-attack -> 105, attack -> 75, hp -> 75, speed -> 30)</td><td>List(grass)</td><td>85</td></tr><tr><td>193</td><td>yanma</td><td>List(speed-boost, compound-eyes, frisk)</td><td>78</td><td>12</td><td>Map(special-defense -> 45, defense -> 45, special-attack -> 75, attack -> 65, hp -> 65, speed -> 95)</td><td>List(bug, flying)</td><td>380</td></tr><tr><td>194</td><td>wooper</td><td>List(damp, water-absorb, unaware)</td><td>42</td><td>4</td><td>Map(special-defense -> 25, defense -> 45, special-attack -> 25, attack -> 45, hp -> 55, speed -> 15)</td><td>List(water, ground)</td><td>85</td></tr><tr><td>195</td><td>quagsire</td><td>List(damp, water-absorb, unaware)</td><td>151</td><td>14</td><td>Map(special-defense -> 65, defense -> 85, special-attack -> 65, attack -> 85, hp -> 95, speed -> 35)</td><td>List(water, ground)</td><td>750</td></tr><tr><td>196</td><td>espeon</td><td>List(synchronize, magic-bounce)</td><td>184</td><td>9</td><td>Map(special-defense -> 95, defense -> 60, special-attack -> 130, attack -> 65, hp -> 65, speed -> 110)</td><td>List(psychic)</td><td>265</td></tr><tr><td>197</td><td>umbreon</td><td>List(synchronize, inner-focus)</td><td>184</td><td>10</td><td>Map(special-defense -> 130, defense -> 110, special-attack -> 60, attack -> 65, hp -> 95, speed -> 65)</td><td>List(dark)</td><td>270</td></tr><tr><td>198</td><td>murkrow</td><td>List(insomnia, super-luck, prankster)</td><td>81</td><td>5</td><td>Map(special-defense -> 42, defense -> 42, special-attack -> 85, attack -> 85, hp -> 60, speed -> 91)</td><td>List(dark, flying)</td><td>21</td></tr><tr><td>199</td><td>slowking</td><td>List(oblivious, own-tempo, regenerator)</td><td>172</td><td>20</td><td>Map(special-defense -> 110, defense -> 80, special-attack -> 100, attack -> 75, hp -> 95, speed -> 30)</td><td>List(water, psychic)</td><td>795</td></tr><tr><td>200</td><td>misdreavus</td><td>List(levitate)</td><td>87</td><td>7</td><td>Map(special-defense -> 85, defense -> 60, special-attack -> 85, attack -> 60, hp -> 60, speed -> 85)</td><td>List(ghost)</td><td>10</td></tr><tr><td>201</td><td>unown</td><td>List(levitate)</td><td>118</td><td>5</td><td>Map(special-defense -> 48, defense -> 48, special-attack -> 72, attack -> 72, hp -> 48, speed -> 48)</td><td>List(psychic)</td><td>50</td></tr><tr><td>202</td><td>wobbuffet</td><td>List(shadow-tag, telepathy)</td><td>142</td><td>13</td><td>Map(special-defense -> 58, defense -> 58, special-attack -> 33, attack -> 33, hp -> 190, speed -> 33)</td><td>List(psychic)</td><td>285</td></tr><tr><td>203</td><td>girafarig</td><td>List(inner-focus, early-bird, sap-sipper)</td><td>159</td><td>15</td><td>Map(special-defense -> 65, defense -> 65, special-attack -> 90, attack -> 80, hp -> 70, speed -> 85)</td><td>List(normal, psychic)</td><td>415</td></tr><tr><td>204</td><td>pineco</td><td>List(sturdy, overcoat)</td><td>58</td><td>6</td><td>Map(special-defense -> 35, defense -> 90, special-attack -> 35, attack -> 65, hp -> 50, speed -> 15)</td><td>List(bug)</td><td>72</td></tr><tr><td>205</td><td>forretress</td><td>List(sturdy, overcoat)</td><td>163</td><td>12</td><td>Map(special-defense -> 60, defense -> 140, special-attack -> 60, attack -> 90, hp -> 75, speed -> 40)</td><td>List(bug, steel)</td><td>1258</td></tr><tr><td>206</td><td>dunsparce</td><td>List(serene-grace, run-away, rattled)</td><td>145</td><td>15</td><td>Map(special-defense -> 65, defense -> 70, special-attack -> 65, attack -> 70, hp -> 100, speed -> 45)</td><td>List(normal)</td><td>140</td></tr><tr><td>207</td><td>gligar</td><td>List(hyper-cutter, sand-veil, immunity)</td><td>86</td><td>11</td><td>Map(special-defense -> 65, defense -> 105, special-attack -> 35, attack -> 75, hp -> 65, speed -> 85)</td><td>List(ground, flying)</td><td>648</td></tr><tr><td>208</td><td>steelix</td><td>List(rock-head, sturdy, sheer-force)</td><td>179</td><td>92</td><td>Map(special-defense -> 65, defense -> 200, special-attack -> 55, attack -> 85, hp -> 75, speed -> 30)</td><td>List(steel, ground)</td><td>4000</td></tr><tr><td>209</td><td>snubbull</td><td>List(intimidate, run-away, rattled)</td><td>60</td><td>6</td><td>Map(special-defense -> 40, defense -> 50, special-attack -> 40, attack -> 80, hp -> 60, speed -> 30)</td><td>List(fairy)</td><td>78</td></tr><tr><td>210</td><td>granbull</td><td>List(intimidate, quick-feet, rattled)</td><td>158</td><td>14</td><td>Map(special-defense -> 60, defense -> 75, special-attack -> 60, attack -> 120, hp -> 90, speed -> 45)</td><td>List(fairy)</td><td>487</td></tr><tr><td>211</td><td>qwilfish</td><td>List(poison-point, swift-swim, intimidate)</td><td>88</td><td>5</td><td>Map(special-defense -> 55, defense -> 85, special-attack -> 55, attack -> 95, hp -> 65, speed -> 85)</td><td>List(water, poison)</td><td>39</td></tr><tr><td>212</td><td>scizor</td><td>List(swarm, technician, light-metal)</td><td>175</td><td>18</td><td>Map(special-defense -> 80, defense -> 100, special-attack -> 55, attack -> 130, hp -> 70, speed -> 65)</td><td>List(bug, steel)</td><td>1180</td></tr><tr><td>213</td><td>shuckle</td><td>List(sturdy, gluttony, contrary)</td><td>177</td><td>6</td><td>Map(special-defense -> 230, defense -> 230, special-attack -> 10, attack -> 10, hp -> 20, speed -> 5)</td><td>List(bug, rock)</td><td>205</td></tr><tr><td>214</td><td>heracross</td><td>List(swarm, guts, moxie)</td><td>175</td><td>15</td><td>Map(special-defense -> 95, defense -> 75, special-attack -> 40, attack -> 125, hp -> 80, speed -> 85)</td><td>List(bug, fighting)</td><td>540</td></tr><tr><td>215</td><td>sneasel</td><td>List(inner-focus, keen-eye, pickpocket)</td><td>86</td><td>9</td><td>Map(special-defense -> 75, defense -> 55, special-attack -> 35, attack -> 95, hp -> 55, speed -> 115)</td><td>List(dark, ice)</td><td>280</td></tr><tr><td>216</td><td>teddiursa</td><td>List(pickup, quick-feet, honey-gather)</td><td>66</td><td>6</td><td>Map(special-defense -> 50, defense -> 50, special-attack -> 50, attack -> 80, hp -> 60, speed -> 40)</td><td>List(normal)</td><td>88</td></tr><tr><td>217</td><td>ursaring</td><td>List(guts, quick-feet, unnerve)</td><td>175</td><td>18</td><td>Map(special-defense -> 75, defense -> 75, special-attack -> 75, attack -> 130, hp -> 90, speed -> 55)</td><td>List(normal)</td><td>1258</td></tr><tr><td>218</td><td>slugma</td><td>List(magma-armor, flame-body, weak-armor)</td><td>50</td><td>7</td><td>Map(special-defense -> 40, defense -> 40, special-attack -> 70, attack -> 40, hp -> 40, speed -> 20)</td><td>List(fire)</td><td>350</td></tr><tr><td>219</td><td>magcargo</td><td>List(magma-armor, flame-body, weak-armor)</td><td>151</td><td>8</td><td>Map(special-defense -> 80, defense -> 120, special-attack -> 90, attack -> 50, hp -> 60, speed -> 30)</td><td>List(fire, rock)</td><td>550</td></tr><tr><td>220</td><td>swinub</td><td>List(oblivious, snow-cloak, thick-fat)</td><td>50</td><td>4</td><td>Map(special-defense -> 30, defense -> 40, special-attack -> 30, attack -> 50, hp -> 50, speed -> 50)</td><td>List(ice, ground)</td><td>65</td></tr><tr><td>221</td><td>piloswine</td><td>List(oblivious, snow-cloak, thick-fat)</td><td>158</td><td>11</td><td>Map(special-defense -> 60, defense -> 80, special-attack -> 60, attack -> 100, hp -> 100, speed -> 50)</td><td>List(ice, ground)</td><td>558</td></tr><tr><td>222</td><td>corsola</td><td>List(hustle, natural-cure, regenerator)</td><td>144</td><td>6</td><td>Map(special-defense -> 95, defense -> 95, special-attack -> 65, attack -> 55, hp -> 65, speed -> 35)</td><td>List(water, rock)</td><td>50</td></tr><tr><td>223</td><td>remoraid</td><td>List(hustle, sniper, moody)</td><td>60</td><td>6</td><td>Map(special-defense -> 35, defense -> 35, special-attack -> 65, attack -> 65, hp -> 35, speed -> 65)</td><td>List(water)</td><td>120</td></tr><tr><td>224</td><td>octillery</td><td>List(suction-cups, sniper, moody)</td><td>168</td><td>9</td><td>Map(special-defense -> 75, defense -> 75, special-attack -> 105, attack -> 105, hp -> 75, speed -> 45)</td><td>List(water)</td><td>285</td></tr><tr><td>225</td><td>delibird</td><td>List(vital-spirit, hustle, insomnia)</td><td>116</td><td>9</td><td>Map(special-defense -> 45, defense -> 45, special-attack -> 65, attack -> 55, hp -> 45, speed -> 75)</td><td>List(ice, flying)</td><td>160</td></tr><tr><td>226</td><td>mantine</td><td>List(swift-swim, water-absorb, water-veil)</td><td>170</td><td>21</td><td>Map(special-defense -> 140, defense -> 70, special-attack -> 80, attack -> 40, hp -> 85, speed -> 70)</td><td>List(water, flying)</td><td>2200</td></tr><tr><td>227</td><td>skarmory</td><td>List(keen-eye, sturdy, weak-armor)</td><td>163</td><td>17</td><td>Map(special-defense -> 70, defense -> 140, special-attack -> 40, attack -> 80, hp -> 65, speed -> 70)</td><td>List(steel, flying)</td><td>505</td></tr><tr><td>228</td><td>houndour</td><td>List(early-bird, flash-fire, unnerve)</td><td>66</td><td>6</td><td>Map(special-defense -> 50, defense -> 30, special-attack -> 80, attack -> 60, hp -> 45, speed -> 65)</td><td>List(dark, fire)</td><td>108</td></tr><tr><td>229</td><td>houndoom</td><td>List(early-bird, flash-fire, unnerve)</td><td>175</td><td>14</td><td>Map(special-defense -> 80, defense -> 50, special-attack -> 110, attack -> 90, hp -> 75, speed -> 95)</td><td>List(dark, fire)</td><td>350</td></tr><tr><td>230</td><td>kingdra</td><td>List(swift-swim, sniper, damp)</td><td>270</td><td>18</td><td>Map(special-defense -> 95, defense -> 95, special-attack -> 95, attack -> 95, hp -> 75, speed -> 85)</td><td>List(water, dragon)</td><td>1520</td></tr><tr><td>231</td><td>phanpy</td><td>List(pickup, sand-veil)</td><td>66</td><td>5</td><td>Map(special-defense -> 40, defense -> 60, special-attack -> 40, attack -> 60, hp -> 90, speed -> 40)</td><td>List(ground)</td><td>335</td></tr><tr><td>232</td><td>donphan</td><td>List(sturdy, sand-veil)</td><td>175</td><td>11</td><td>Map(special-defense -> 60, defense -> 120, special-attack -> 60, attack -> 120, hp -> 90, speed -> 50)</td><td>List(ground)</td><td>1200</td></tr><tr><td>233</td><td>porygon2</td><td>List(trace, download, analytic)</td><td>180</td><td>6</td><td>Map(special-defense -> 95, defense -> 90, special-attack -> 105, attack -> 80, hp -> 85, speed -> 60)</td><td>List(normal)</td><td>325</td></tr><tr><td>234</td><td>stantler</td><td>List(intimidate, frisk, sap-sipper)</td><td>163</td><td>14</td><td>Map(special-defense -> 65, defense -> 62, special-attack -> 85, attack -> 95, hp -> 73, speed -> 85)</td><td>List(normal)</td><td>712</td></tr><tr><td>235</td><td>smeargle</td><td>List(own-tempo, technician, moody)</td><td>88</td><td>12</td><td>Map(special-defense -> 45, defense -> 35, special-attack -> 20, attack -> 20, hp -> 55, speed -> 75)</td><td>List(normal)</td><td>580</td></tr><tr><td>236</td><td>tyrogue</td><td>List(guts, steadfast, vital-spirit)</td><td>42</td><td>7</td><td>Map(special-defense -> 35, defense -> 35, special-attack -> 35, attack -> 35, hp -> 35, speed -> 35)</td><td>List(fighting)</td><td>210</td></tr><tr><td>237</td><td>hitmontop</td><td>List(intimidate, technician, steadfast)</td><td>159</td><td>14</td><td>Map(special-defense -> 110, defense -> 95, special-attack -> 35, attack -> 95, hp -> 50, speed -> 70)</td><td>List(fighting)</td><td>480</td></tr><tr><td>238</td><td>smoochum</td><td>List(oblivious, forewarn, hydration)</td><td>61</td><td>4</td><td>Map(special-defense -> 65, defense -> 15, special-attack -> 85, attack -> 30, hp -> 45, speed -> 65)</td><td>List(ice, psychic)</td><td>60</td></tr><tr><td>239</td><td>elekid</td><td>List(static, vital-spirit)</td><td>72</td><td>6</td><td>Map(special-defense -> 55, defense -> 37, special-attack -> 65, attack -> 63, hp -> 45, speed -> 95)</td><td>List(electric)</td><td>235</td></tr><tr><td>240</td><td>magby</td><td>List(flame-body, vital-spirit)</td><td>73</td><td>7</td><td>Map(special-defense -> 55, defense -> 37, special-attack -> 70, attack -> 75, hp -> 45, speed -> 83)</td><td>List(fire)</td><td>214</td></tr><tr><td>241</td><td>miltank</td><td>List(thick-fat, scrappy, sap-sipper)</td><td>172</td><td>12</td><td>Map(special-defense -> 70, defense -> 105, special-attack -> 40, attack -> 80, hp -> 95, speed -> 100)</td><td>List(normal)</td><td>755</td></tr><tr><td>242</td><td>blissey</td><td>List(natural-cure, serene-grace, healer)</td><td>635</td><td>15</td><td>Map(special-defense -> 135, defense -> 10, special-attack -> 75, attack -> 10, hp -> 255, speed -> 55)</td><td>List(normal)</td><td>468</td></tr><tr><td>243</td><td>raikou</td><td>List(pressure, inner-focus)</td><td>290</td><td>19</td><td>Map(special-defense -> 100, defense -> 75, special-attack -> 115, attack -> 85, hp -> 90, speed -> 115)</td><td>List(electric)</td><td>1780</td></tr><tr><td>244</td><td>entei</td><td>List(pressure, inner-focus)</td><td>290</td><td>21</td><td>Map(special-defense -> 75, defense -> 85, special-attack -> 90, attack -> 115, hp -> 115, speed -> 100)</td><td>List(fire)</td><td>1980</td></tr><tr><td>245</td><td>suicune</td><td>List(pressure, inner-focus)</td><td>290</td><td>20</td><td>Map(special-defense -> 115, defense -> 115, special-attack -> 90, attack -> 75, hp -> 100, speed -> 85)</td><td>List(water)</td><td>1870</td></tr><tr><td>246</td><td>larvitar</td><td>List(guts, sand-veil)</td><td>60</td><td>6</td><td>Map(special-defense -> 50, defense -> 50, special-attack -> 45, attack -> 64, hp -> 50, speed -> 41)</td><td>List(rock, ground)</td><td>720</td></tr><tr><td>247</td><td>pupitar</td><td>List(shed-skin)</td><td>144</td><td>12</td><td>Map(special-defense -> 70, defense -> 70, special-attack -> 65, attack -> 84, hp -> 70, speed -> 51)</td><td>List(rock, ground)</td><td>1520</td></tr><tr><td>248</td><td>tyranitar</td><td>List(sand-stream, unnerve)</td><td>300</td><td>20</td><td>Map(special-defense -> 100, defense -> 110, special-attack -> 95, attack -> 134, hp -> 100, speed -> 61)</td><td>List(rock, dark)</td><td>2020</td></tr><tr><td>249</td><td>lugia</td><td>List(pressure, multiscale)</td><td>340</td><td>52</td><td>Map(special-defense -> 154, defense -> 130, special-attack -> 90, attack -> 90, hp -> 106, speed -> 110)</td><td>List(psychic, flying)</td><td>2160</td></tr><tr><td>250</td><td>ho-oh</td><td>List(pressure, regenerator)</td><td>340</td><td>38</td><td>Map(special-defense -> 154, defense -> 90, special-attack -> 110, attack -> 130, hp -> 106, speed -> 90)</td><td>List(fire, flying)</td><td>1990</td></tr><tr><td>251</td><td>celebi</td><td>List(natural-cure)</td><td>300</td><td>6</td><td>Map(special-defense -> 100, defense -> 100, special-attack -> 100, attack -> 100, hp -> 100, speed -> 100)</td><td>List(psychic, grass)</td><td>50</td></tr><tr><td>252</td><td>treecko</td><td>List(overgrow, unburden)</td><td>62</td><td>5</td><td>Map(special-defense -> 55, defense -> 35, special-attack -> 65, attack -> 45, hp -> 40, speed -> 70)</td><td>List(grass)</td><td>50</td></tr><tr><td>253</td><td>grovyle</td><td>List(overgrow, unburden)</td><td>142</td><td>9</td><td>Map(special-defense -> 65, defense -> 45, special-attack -> 85, attack -> 65, hp -> 50, speed -> 95)</td><td>List(grass)</td><td>216</td></tr><tr><td>254</td><td>sceptile</td><td>List(overgrow, unburden)</td><td>265</td><td>17</td><td>Map(special-defense -> 85, defense -> 65, special-attack -> 105, attack -> 85, hp -> 70, speed -> 120)</td><td>List(grass)</td><td>522</td></tr><tr><td>255</td><td>torchic</td><td>List(blaze, speed-boost)</td><td>62</td><td>4</td><td>Map(special-defense -> 50, defense -> 40, special-attack -> 70, attack -> 60, hp -> 45, speed -> 45)</td><td>List(fire)</td><td>25</td></tr><tr><td>256</td><td>combusken</td><td>List(blaze, speed-boost)</td><td>142</td><td>9</td><td>Map(special-defense -> 60, defense -> 60, special-attack -> 85, attack -> 85, hp -> 60, speed -> 55)</td><td>List(fire, fighting)</td><td>195</td></tr><tr><td>257</td><td>blaziken</td><td>List(blaze, speed-boost)</td><td>265</td><td>19</td><td>Map(special-defense -> 70, defense -> 70, special-attack -> 110, attack -> 120, hp -> 80, speed -> 80)</td><td>List(fire, fighting)</td><td>520</td></tr><tr><td>258</td><td>mudkip</td><td>List(torrent, damp)</td><td>62</td><td>4</td><td>Map(special-defense -> 50, defense -> 50, special-attack -> 50, attack -> 70, hp -> 50, speed -> 40)</td><td>List(water)</td><td>76</td></tr><tr><td>259</td><td>marshtomp</td><td>List(torrent, damp)</td><td>142</td><td>7</td><td>Map(special-defense -> 70, defense -> 70, special-attack -> 60, attack -> 85, hp -> 70, speed -> 50)</td><td>List(water, ground)</td><td>280</td></tr><tr><td>260</td><td>swampert</td><td>List(torrent, damp)</td><td>268</td><td>15</td><td>Map(special-defense -> 90, defense -> 90, special-attack -> 85, attack -> 110, hp -> 100, speed -> 60)</td><td>List(water, ground)</td><td>819</td></tr><tr><td>261</td><td>poochyena</td><td>List(run-away, quick-feet, rattled)</td><td>56</td><td>5</td><td>Map(special-defense -> 30, defense -> 35, special-attack -> 30, attack -> 55, hp -> 35, speed -> 35)</td><td>List(dark)</td><td>136</td></tr><tr><td>262</td><td>mightyena</td><td>List(intimidate, quick-feet, moxie)</td><td>147</td><td>10</td><td>Map(special-defense -> 60, defense -> 70, special-attack -> 60, attack -> 90, hp -> 70, speed -> 70)</td><td>List(dark)</td><td>370</td></tr><tr><td>263</td><td>zigzagoon</td><td>List(pickup, gluttony, quick-feet)</td><td>56</td><td>4</td><td>Map(special-defense -> 41, defense -> 41, special-attack -> 30, attack -> 30, hp -> 38, speed -> 60)</td><td>List(normal)</td><td>175</td></tr><tr><td>264</td><td>linoone</td><td>List(pickup, gluttony, quick-feet)</td><td>147</td><td>5</td><td>Map(special-defense -> 61, defense -> 61, special-attack -> 50, attack -> 70, hp -> 78, speed -> 100)</td><td>List(normal)</td><td>325</td></tr><tr><td>265</td><td>wurmple</td><td>List(shield-dust, run-away)</td><td>56</td><td>3</td><td>Map(special-defense -> 30, defense -> 35, special-attack -> 20, attack -> 45, hp -> 45, speed -> 20)</td><td>List(bug)</td><td>36</td></tr><tr><td>266</td><td>silcoon</td><td>List(shed-skin)</td><td>72</td><td>6</td><td>Map(special-defense -> 25, defense -> 55, special-attack -> 25, attack -> 35, hp -> 50, speed -> 15)</td><td>List(bug)</td><td>100</td></tr><tr><td>267</td><td>beautifly</td><td>List(swarm, rivalry)</td><td>178</td><td>10</td><td>Map(special-defense -> 50, defense -> 50, special-attack -> 100, attack -> 70, hp -> 60, speed -> 65)</td><td>List(bug, flying)</td><td>284</td></tr><tr><td>268</td><td>cascoon</td><td>List(shed-skin)</td><td>72</td><td>7</td><td>Map(special-defense -> 25, defense -> 55, special-attack -> 25, attack -> 35, hp -> 50, speed -> 15)</td><td>List(bug)</td><td>115</td></tr><tr><td>269</td><td>dustox</td><td>List(shield-dust, compound-eyes)</td><td>173</td><td>12</td><td>Map(special-defense -> 90, defense -> 70, special-attack -> 50, attack -> 50, hp -> 60, speed -> 65)</td><td>List(bug, poison)</td><td>316</td></tr><tr><td>270</td><td>lotad</td><td>List(swift-swim, rain-dish, own-tempo)</td><td>44</td><td>5</td><td>Map(special-defense -> 50, defense -> 30, special-attack -> 40, attack -> 30, hp -> 40, speed -> 30)</td><td>List(water, grass)</td><td>26</td></tr><tr><td>271</td><td>lombre</td><td>List(swift-swim, rain-dish, own-tempo)</td><td>119</td><td>12</td><td>Map(special-defense -> 70, defense -> 50, special-attack -> 60, attack -> 50, hp -> 60, speed -> 50)</td><td>List(water, grass)</td><td>325</td></tr><tr><td>272</td><td>ludicolo</td><td>List(swift-swim, rain-dish, own-tempo)</td><td>240</td><td>15</td><td>Map(special-defense -> 100, defense -> 70, special-attack -> 90, attack -> 70, hp -> 80, speed -> 70)</td><td>List(water, grass)</td><td>550</td></tr><tr><td>273</td><td>seedot</td><td>List(chlorophyll, early-bird, pickpocket)</td><td>44</td><td>5</td><td>Map(special-defense -> 30, defense -> 50, special-attack -> 30, attack -> 40, hp -> 40, speed -> 30)</td><td>List(grass)</td><td>40</td></tr><tr><td>274</td><td>nuzleaf</td><td>List(chlorophyll, early-bird, pickpocket)</td><td>119</td><td>10</td><td>Map(special-defense -> 40, defense -> 40, special-attack -> 60, attack -> 70, hp -> 70, speed -> 60)</td><td>List(grass, dark)</td><td>280</td></tr><tr><td>275</td><td>shiftry</td><td>List(chlorophyll, wind-rider, pickpocket)</td><td>240</td><td>13</td><td>Map(special-defense -> 60, defense -> 60, special-attack -> 90, attack -> 100, hp -> 90, speed -> 80)</td><td>List(grass, dark)</td><td>596</td></tr><tr><td>276</td><td>taillow</td><td>List(guts, scrappy)</td><td>54</td><td>3</td><td>Map(special-defense -> 30, defense -> 30, special-attack -> 30, attack -> 55, hp -> 40, speed -> 85)</td><td>List(normal, flying)</td><td>23</td></tr><tr><td>277</td><td>swellow</td><td>List(guts, scrappy)</td><td>159</td><td>7</td><td>Map(special-defense -> 50, defense -> 60, special-attack -> 75, attack -> 85, hp -> 60, speed -> 125)</td><td>List(normal, flying)</td><td>198</td></tr><tr><td>278</td><td>wingull</td><td>List(keen-eye, hydration, rain-dish)</td><td>54</td><td>6</td><td>Map(special-defense -> 30, defense -> 30, special-attack -> 55, attack -> 30, hp -> 40, speed -> 85)</td><td>List(water, flying)</td><td>95</td></tr><tr><td>279</td><td>pelipper</td><td>List(keen-eye, drizzle, rain-dish)</td><td>154</td><td>12</td><td>Map(special-defense -> 70, defense -> 100, special-attack -> 95, attack -> 50, hp -> 60, speed -> 65)</td><td>List(water, flying)</td><td>280</td></tr><tr><td>280</td><td>ralts</td><td>List(synchronize, trace, telepathy)</td><td>40</td><td>4</td><td>Map(special-defense -> 35, defense -> 25, special-attack -> 45, attack -> 25, hp -> 28, speed -> 40)</td><td>List(psychic, fairy)</td><td>66</td></tr><tr><td>281</td><td>kirlia</td><td>List(synchronize, trace, telepathy)</td><td>97</td><td>8</td><td>Map(special-defense -> 55, defense -> 35, special-attack -> 65, attack -> 35, hp -> 38, speed -> 50)</td><td>List(psychic, fairy)</td><td>202</td></tr><tr><td>282</td><td>gardevoir</td><td>List(synchronize, trace, telepathy)</td><td>259</td><td>16</td><td>Map(special-defense -> 115, defense -> 65, special-attack -> 125, attack -> 65, hp -> 68, speed -> 80)</td><td>List(psychic, fairy)</td><td>484</td></tr><tr><td>283</td><td>surskit</td><td>List(swift-swim, rain-dish)</td><td>54</td><td>5</td><td>Map(special-defense -> 52, defense -> 32, special-attack -> 50, attack -> 30, hp -> 40, speed -> 65)</td><td>List(bug, water)</td><td>17</td></tr><tr><td>284</td><td>masquerain</td><td>List(intimidate, unnerve)</td><td>159</td><td>8</td><td>Map(special-defense -> 82, defense -> 62, special-attack -> 100, attack -> 60, hp -> 70, speed -> 80)</td><td>List(bug, flying)</td><td>36</td></tr><tr><td>285</td><td>shroomish</td><td>List(effect-spore, poison-heal, quick-feet)</td><td>59</td><td>4</td><td>Map(special-defense -> 60, defense -> 60, special-attack -> 40, attack -> 40, hp -> 60, speed -> 35)</td><td>List(grass)</td><td>45</td></tr><tr><td>286</td><td>breloom</td><td>List(effect-spore, poison-heal, technician)</td><td>161</td><td>12</td><td>Map(special-defense -> 60, defense -> 80, special-attack -> 60, attack -> 130, hp -> 60, speed -> 70)</td><td>List(grass, fighting)</td><td>392</td></tr><tr><td>287</td><td>slakoth</td><td>List(truant)</td><td>56</td><td>8</td><td>Map(special-defense -> 35, defense -> 60, special-attack -> 35, attack -> 60, hp -> 60, speed -> 30)</td><td>List(normal)</td><td>240</td></tr><tr><td>288</td><td>vigoroth</td><td>List(vital-spirit)</td><td>154</td><td>14</td><td>Map(special-defense -> 55, defense -> 80, special-attack -> 55, attack -> 80, hp -> 80, speed -> 90)</td><td>List(normal)</td><td>465</td></tr><tr><td>289</td><td>slaking</td><td>List(truant)</td><td>252</td><td>20</td><td>Map(special-defense -> 65, defense -> 100, special-attack -> 95, attack -> 160, hp -> 150, speed -> 100)</td><td>List(normal)</td><td>1305</td></tr><tr><td>290</td><td>nincada</td><td>List(compound-eyes, run-away)</td><td>53</td><td>5</td><td>Map(special-defense -> 30, defense -> 90, special-attack -> 30, attack -> 45, hp -> 31, speed -> 40)</td><td>List(bug, ground)</td><td>55</td></tr><tr><td>291</td><td>ninjask</td><td>List(speed-boost, infiltrator)</td><td>160</td><td>8</td><td>Map(special-defense -> 50, defense -> 45, special-attack -> 50, attack -> 90, hp -> 61, speed -> 160)</td><td>List(bug, flying)</td><td>120</td></tr><tr><td>292</td><td>shedinja</td><td>List(wonder-guard)</td><td>83</td><td>8</td><td>Map(special-defense -> 30, defense -> 45, special-attack -> 30, attack -> 90, hp -> 1, speed -> 40)</td><td>List(bug, ghost)</td><td>12</td></tr><tr><td>293</td><td>whismur</td><td>List(soundproof, rattled)</td><td>48</td><td>6</td><td>Map(special-defense -> 23, defense -> 23, special-attack -> 51, attack -> 51, hp -> 64, speed -> 28)</td><td>List(normal)</td><td>163</td></tr><tr><td>294</td><td>loudred</td><td>List(soundproof, scrappy)</td><td>126</td><td>10</td><td>Map(special-defense -> 43, defense -> 43, special-attack -> 71, attack -> 71, hp -> 84, speed -> 48)</td><td>List(normal)</td><td>405</td></tr><tr><td>295</td><td>exploud</td><td>List(soundproof, scrappy)</td><td>245</td><td>15</td><td>Map(special-defense -> 73, defense -> 63, special-attack -> 91, attack -> 91, hp -> 104, speed -> 68)</td><td>List(normal)</td><td>840</td></tr><tr><td>296</td><td>makuhita</td><td>List(thick-fat, guts, sheer-force)</td><td>47</td><td>10</td><td>Map(special-defense -> 30, defense -> 30, special-attack -> 20, attack -> 60, hp -> 72, speed -> 25)</td><td>List(fighting)</td><td>864</td></tr><tr><td>297</td><td>hariyama</td><td>List(thick-fat, guts, sheer-force)</td><td>166</td><td>23</td><td>Map(special-defense -> 60, defense -> 60, special-attack -> 40, attack -> 120, hp -> 144, speed -> 50)</td><td>List(fighting)</td><td>2538</td></tr><tr><td>298</td><td>azurill</td><td>List(thick-fat, huge-power, sap-sipper)</td><td>38</td><td>2</td><td>Map(special-defense -> 40, defense -> 40, special-attack -> 20, attack -> 20, hp -> 50, speed -> 20)</td><td>List(normal, fairy)</td><td>20</td></tr><tr><td>299</td><td>nosepass</td><td>List(sturdy, magnet-pull, sand-force)</td><td>75</td><td>10</td><td>Map(special-defense -> 90, defense -> 135, special-attack -> 45, attack -> 45, hp -> 30, speed -> 30)</td><td>List(rock)</td><td>970</td></tr><tr><td>300</td><td>skitty</td><td>List(cute-charm, normalize, wonder-skin)</td><td>52</td><td>6</td><td>Map(special-defense -> 35, defense -> 45, special-attack -> 35, attack -> 45, hp -> 50, speed -> 50)</td><td>List(normal)</td><td>110</td></tr><tr><td>301</td><td>delcatty</td><td>List(cute-charm, normalize, wonder-skin)</td><td>140</td><td>11</td><td>Map(special-defense -> 55, defense -> 65, special-attack -> 55, attack -> 65, hp -> 70, speed -> 90)</td><td>List(normal)</td><td>326</td></tr><tr><td>302</td><td>sableye</td><td>List(keen-eye, stall, prankster)</td><td>133</td><td>5</td><td>Map(special-defense -> 65, defense -> 75, special-attack -> 65, attack -> 75, hp -> 50, speed -> 50)</td><td>List(dark, ghost)</td><td>110</td></tr><tr><td>303</td><td>mawile</td><td>List(hyper-cutter, intimidate, sheer-force)</td><td>133</td><td>6</td><td>Map(special-defense -> 55, defense -> 85, special-attack -> 55, attack -> 85, hp -> 50, speed -> 50)</td><td>List(steel, fairy)</td><td>115</td></tr><tr><td>304</td><td>aron</td><td>List(sturdy, rock-head, heavy-metal)</td><td>66</td><td>4</td><td>Map(special-defense -> 40, defense -> 100, special-attack -> 40, attack -> 70, hp -> 50, speed -> 30)</td><td>List(steel, rock)</td><td>600</td></tr><tr><td>305</td><td>lairon</td><td>List(sturdy, rock-head, heavy-metal)</td><td>151</td><td>9</td><td>Map(special-defense -> 50, defense -> 140, special-attack -> 50, attack -> 90, hp -> 60, speed -> 40)</td><td>List(steel, rock)</td><td>1200</td></tr><tr><td>306</td><td>aggron</td><td>List(sturdy, rock-head, heavy-metal)</td><td>265</td><td>21</td><td>Map(special-defense -> 60, defense -> 180, special-attack -> 60, attack -> 110, hp -> 70, speed -> 50)</td><td>List(steel, rock)</td><td>3600</td></tr><tr><td>307</td><td>meditite</td><td>List(pure-power, telepathy)</td><td>56</td><td>6</td><td>Map(special-defense -> 55, defense -> 55, special-attack -> 40, attack -> 40, hp -> 30, speed -> 60)</td><td>List(fighting, psychic)</td><td>112</td></tr><tr><td>308</td><td>medicham</td><td>List(pure-power, telepathy)</td><td>144</td><td>13</td><td>Map(special-defense -> 75, defense -> 75, special-attack -> 60, attack -> 60, hp -> 60, speed -> 80)</td><td>List(fighting, psychic)</td><td>315</td></tr><tr><td>309</td><td>electrike</td><td>List(static, lightning-rod, minus)</td><td>59</td><td>6</td><td>Map(special-defense -> 40, defense -> 40, special-attack -> 65, attack -> 45, hp -> 40, speed -> 65)</td><td>List(electric)</td><td>152</td></tr><tr><td>310</td><td>manectric</td><td>List(static, lightning-rod, minus)</td><td>166</td><td>15</td><td>Map(special-defense -> 60, defense -> 60, special-attack -> 105, attack -> 75, hp -> 70, speed -> 105)</td><td>List(electric)</td><td>402</td></tr><tr><td>311</td><td>plusle</td><td>List(plus, lightning-rod)</td><td>142</td><td>4</td><td>Map(special-defense -> 75, defense -> 40, special-attack -> 85, attack -> 50, hp -> 60, speed -> 95)</td><td>List(electric)</td><td>42</td></tr><tr><td>312</td><td>minun</td><td>List(minus, volt-absorb)</td><td>142</td><td>4</td><td>Map(special-defense -> 85, defense -> 50, special-attack -> 75, attack -> 40, hp -> 60, speed -> 95)</td><td>List(electric)</td><td>42</td></tr><tr><td>313</td><td>volbeat</td><td>List(illuminate, swarm, prankster)</td><td>151</td><td>7</td><td>Map(special-defense -> 85, defense -> 75, special-attack -> 47, attack -> 73, hp -> 65, speed -> 85)</td><td>List(bug)</td><td>177</td></tr><tr><td>314</td><td>illumise</td><td>List(oblivious, tinted-lens, prankster)</td><td>151</td><td>6</td><td>Map(special-defense -> 85, defense -> 75, special-attack -> 73, attack -> 47, hp -> 65, speed -> 85)</td><td>List(bug)</td><td>177</td></tr><tr><td>315</td><td>roselia</td><td>List(natural-cure, poison-point, leaf-guard)</td><td>140</td><td>3</td><td>Map(special-defense -> 80, defense -> 45, special-attack -> 100, attack -> 60, hp -> 50, speed -> 65)</td><td>List(grass, poison)</td><td>20</td></tr><tr><td>316</td><td>gulpin</td><td>List(liquid-ooze, sticky-hold, gluttony)</td><td>60</td><td>4</td><td>Map(special-defense -> 53, defense -> 53, special-attack -> 43, attack -> 43, hp -> 70, speed -> 40)</td><td>List(poison)</td><td>103</td></tr><tr><td>317</td><td>swalot</td><td>List(liquid-ooze, sticky-hold, gluttony)</td><td>163</td><td>17</td><td>Map(special-defense -> 83, defense -> 83, special-attack -> 73, attack -> 73, hp -> 100, speed -> 55)</td><td>List(poison)</td><td>800</td></tr><tr><td>318</td><td>carvanha</td><td>List(rough-skin, speed-boost)</td><td>61</td><td>8</td><td>Map(special-defense -> 20, defense -> 20, special-attack -> 65, attack -> 90, hp -> 45, speed -> 65)</td><td>List(water, dark)</td><td>208</td></tr><tr><td>319</td><td>sharpedo</td><td>List(rough-skin, speed-boost)</td><td>161</td><td>18</td><td>Map(special-defense -> 40, defense -> 40, special-attack -> 95, attack -> 120, hp -> 70, speed -> 95)</td><td>List(water, dark)</td><td>888</td></tr><tr><td>320</td><td>wailmer</td><td>List(water-veil, oblivious, pressure)</td><td>80</td><td>20</td><td>Map(special-defense -> 35, defense -> 35, special-attack -> 70, attack -> 70, hp -> 130, speed -> 60)</td><td>List(water)</td><td>1300</td></tr><tr><td>321</td><td>wailord</td><td>List(water-veil, oblivious, pressure)</td><td>175</td><td>145</td><td>Map(special-defense -> 45, defense -> 45, special-attack -> 90, attack -> 90, hp -> 170, speed -> 60)</td><td>List(water)</td><td>3980</td></tr><tr><td>322</td><td>numel</td><td>List(oblivious, simple, own-tempo)</td><td>61</td><td>7</td><td>Map(special-defense -> 45, defense -> 40, special-attack -> 65, attack -> 60, hp -> 60, speed -> 35)</td><td>List(fire, ground)</td><td>240</td></tr><tr><td>323</td><td>camerupt</td><td>List(magma-armor, solid-rock, anger-point)</td><td>161</td><td>19</td><td>Map(special-defense -> 75, defense -> 70, special-attack -> 105, attack -> 100, hp -> 70, speed -> 40)</td><td>List(fire, ground)</td><td>2200</td></tr><tr><td>324</td><td>torkoal</td><td>List(white-smoke, drought, shell-armor)</td><td>165</td><td>5</td><td>Map(special-defense -> 70, defense -> 140, special-attack -> 85, attack -> 85, hp -> 70, speed -> 20)</td><td>List(fire)</td><td>804</td></tr><tr><td>325</td><td>spoink</td><td>List(thick-fat, own-tempo, gluttony)</td><td>66</td><td>7</td><td>Map(special-defense -> 80, defense -> 35, special-attack -> 70, attack -> 25, hp -> 60, speed -> 60)</td><td>List(psychic)</td><td>306</td></tr><tr><td>326</td><td>grumpig</td><td>List(thick-fat, own-tempo, gluttony)</td><td>165</td><td>9</td><td>Map(special-defense -> 110, defense -> 65, special-attack -> 90, attack -> 45, hp -> 80, speed -> 80)</td><td>List(psychic)</td><td>715</td></tr><tr><td>327</td><td>spinda</td><td>List(own-tempo, tangled-feet, contrary)</td><td>126</td><td>11</td><td>Map(special-defense -> 60, defense -> 60, special-attack -> 60, attack -> 60, hp -> 60, speed -> 60)</td><td>List(normal)</td><td>50</td></tr><tr><td>328</td><td>trapinch</td><td>List(hyper-cutter, arena-trap, sheer-force)</td><td>58</td><td>7</td><td>Map(special-defense -> 45, defense -> 45, special-attack -> 45, attack -> 100, hp -> 45, speed -> 10)</td><td>List(ground)</td><td>150</td></tr><tr><td>329</td><td>vibrava</td><td>List(levitate)</td><td>119</td><td>11</td><td>Map(special-defense -> 50, defense -> 50, special-attack -> 50, attack -> 70, hp -> 50, speed -> 70)</td><td>List(ground, dragon)</td><td>153</td></tr><tr><td>330</td><td>flygon</td><td>List(levitate)</td><td>260</td><td>20</td><td>Map(special-defense -> 80, defense -> 80, special-attack -> 80, attack -> 100, hp -> 80, speed -> 100)</td><td>List(ground, dragon)</td><td>820</td></tr><tr><td>331</td><td>cacnea</td><td>List(sand-veil, water-absorb)</td><td>67</td><td>4</td><td>Map(special-defense -> 40, defense -> 40, special-attack -> 85, attack -> 85, hp -> 50, speed -> 35)</td><td>List(grass)</td><td>513</td></tr><tr><td>332</td><td>cacturne</td><td>List(sand-veil, water-absorb)</td><td>166</td><td>13</td><td>Map(special-defense -> 60, defense -> 60, special-attack -> 115, attack -> 115, hp -> 70, speed -> 55)</td><td>List(grass, dark)</td><td>774</td></tr><tr><td>333</td><td>swablu</td><td>List(natural-cure, cloud-nine)</td><td>62</td><td>4</td><td>Map(special-defense -> 75, defense -> 60, special-attack -> 40, attack -> 40, hp -> 45, speed -> 50)</td><td>List(normal, flying)</td><td>12</td></tr><tr><td>334</td><td>altaria</td><td>List(natural-cure, cloud-nine)</td><td>172</td><td>11</td><td>Map(special-defense -> 105, defense -> 90, special-attack -> 70, attack -> 70, hp -> 75, speed -> 80)</td><td>List(dragon, flying)</td><td>206</td></tr><tr><td>335</td><td>zangoose</td><td>List(immunity, toxic-boost)</td><td>160</td><td>13</td><td>Map(special-defense -> 60, defense -> 60, special-attack -> 60, attack -> 115, hp -> 73, speed -> 90)</td><td>List(normal)</td><td>403</td></tr><tr><td>336</td><td>seviper</td><td>List(shed-skin, infiltrator)</td><td>160</td><td>27</td><td>Map(special-defense -> 60, defense -> 60, special-attack -> 100, attack -> 100, hp -> 73, speed -> 65)</td><td>List(poison)</td><td>525</td></tr><tr><td>337</td><td>lunatone</td><td>List(levitate)</td><td>161</td><td>10</td><td>Map(special-defense -> 85, defense -> 65, special-attack -> 95, attack -> 55, hp -> 90, speed -> 70)</td><td>List(rock, psychic)</td><td>1680</td></tr><tr><td>338</td><td>solrock</td><td>List(levitate)</td><td>161</td><td>12</td><td>Map(special-defense -> 65, defense -> 85, special-attack -> 55, attack -> 95, hp -> 90, speed -> 70)</td><td>List(rock, psychic)</td><td>1540</td></tr><tr><td>339</td><td>barboach</td><td>List(oblivious, anticipation, hydration)</td><td>58</td><td>4</td><td>Map(special-defense -> 41, defense -> 43, special-attack -> 46, attack -> 48, hp -> 50, speed -> 60)</td><td>List(water, ground)</td><td>19</td></tr><tr><td>340</td><td>whiscash</td><td>List(oblivious, anticipation, hydration)</td><td>164</td><td>9</td><td>Map(special-defense -> 71, defense -> 73, special-attack -> 76, attack -> 78, hp -> 110, speed -> 60)</td><td>List(water, ground)</td><td>236</td></tr><tr><td>341</td><td>corphish</td><td>List(hyper-cutter, shell-armor, adaptability)</td><td>62</td><td>6</td><td>Map(special-defense -> 35, defense -> 65, special-attack -> 50, attack -> 80, hp -> 43, speed -> 35)</td><td>List(water)</td><td>115</td></tr><tr><td>342</td><td>crawdaunt</td><td>List(hyper-cutter, shell-armor, adaptability)</td><td>164</td><td>11</td><td>Map(special-defense -> 55, defense -> 85, special-attack -> 90, attack -> 120, hp -> 63, speed -> 55)</td><td>List(water, dark)</td><td>328</td></tr><tr><td>343</td><td>baltoy</td><td>List(levitate)</td><td>60</td><td>5</td><td>Map(special-defense -> 70, defense -> 55, special-attack -> 40, attack -> 40, hp -> 40, speed -> 55)</td><td>List(ground, psychic)</td><td>215</td></tr><tr><td>344</td><td>claydol</td><td>List(levitate)</td><td>175</td><td>15</td><td>Map(special-defense -> 120, defense -> 105, special-attack -> 70, attack -> 70, hp -> 60, speed -> 75)</td><td>List(ground, psychic)</td><td>1080</td></tr><tr><td>345</td><td>lileep</td><td>List(suction-cups, storm-drain)</td><td>71</td><td>10</td><td>Map(special-defense -> 87, defense -> 77, special-attack -> 61, attack -> 41, hp -> 66, speed -> 23)</td><td>List(rock, grass)</td><td>238</td></tr><tr><td>346</td><td>cradily</td><td>List(suction-cups, storm-drain)</td><td>173</td><td>15</td><td>Map(special-defense -> 107, defense -> 97, special-attack -> 81, attack -> 81, hp -> 86, speed -> 43)</td><td>List(rock, grass)</td><td>604</td></tr><tr><td>347</td><td>anorith</td><td>List(battle-armor, swift-swim)</td><td>71</td><td>7</td><td>Map(special-defense -> 50, defense -> 50, special-attack -> 40, attack -> 95, hp -> 45, speed -> 75)</td><td>List(rock, bug)</td><td>125</td></tr><tr><td>348</td><td>armaldo</td><td>List(battle-armor, swift-swim)</td><td>173</td><td>15</td><td>Map(special-defense -> 80, defense -> 100, special-attack -> 70, attack -> 125, hp -> 75, speed -> 45)</td><td>List(rock, bug)</td><td>682</td></tr><tr><td>349</td><td>feebas</td><td>List(swift-swim, oblivious, adaptability)</td><td>40</td><td>6</td><td>Map(special-defense -> 55, defense -> 20, special-attack -> 10, attack -> 15, hp -> 20, speed -> 80)</td><td>List(water)</td><td>74</td></tr><tr><td>350</td><td>milotic</td><td>List(marvel-scale, competitive, cute-charm)</td><td>189</td><td>62</td><td>Map(special-defense -> 125, defense -> 79, special-attack -> 100, attack -> 60, hp -> 95, speed -> 81)</td><td>List(water)</td><td>1620</td></tr><tr><td>351</td><td>castform</td><td>List(forecast)</td><td>147</td><td>3</td><td>Map(special-defense -> 70, defense -> 70, special-attack -> 70, attack -> 70, hp -> 70, speed -> 70)</td><td>List(normal)</td><td>8</td></tr><tr><td>352</td><td>kecleon</td><td>List(color-change, protean)</td><td>154</td><td>10</td><td>Map(special-defense -> 120, defense -> 70, special-attack -> 60, attack -> 90, hp -> 60, speed -> 40)</td><td>List(normal)</td><td>220</td></tr><tr><td>353</td><td>shuppet</td><td>List(insomnia, frisk, cursed-body)</td><td>59</td><td>6</td><td>Map(special-defense -> 33, defense -> 35, special-attack -> 63, attack -> 75, hp -> 44, speed -> 45)</td><td>List(ghost)</td><td>23</td></tr><tr><td>354</td><td>banette</td><td>List(insomnia, frisk, cursed-body)</td><td>159</td><td>11</td><td>Map(special-defense -> 63, defense -> 65, special-attack -> 83, attack -> 115, hp -> 64, speed -> 65)</td><td>List(ghost)</td><td>125</td></tr><tr><td>355</td><td>duskull</td><td>List(levitate, frisk)</td><td>59</td><td>8</td><td>Map(special-defense -> 90, defense -> 90, special-attack -> 30, attack -> 40, hp -> 20, speed -> 25)</td><td>List(ghost)</td><td>150</td></tr><tr><td>356</td><td>dusclops</td><td>List(pressure, frisk)</td><td>159</td><td>16</td><td>Map(special-defense -> 130, defense -> 130, special-attack -> 60, attack -> 70, hp -> 40, speed -> 25)</td><td>List(ghost)</td><td>306</td></tr><tr><td>357</td><td>tropius</td><td>List(chlorophyll, solar-power, harvest)</td><td>161</td><td>20</td><td>Map(special-defense -> 87, defense -> 83, special-attack -> 72, attack -> 68, hp -> 99, speed -> 51)</td><td>List(grass, flying)</td><td>1000</td></tr><tr><td>358</td><td>chimecho</td><td>List(levitate)</td><td>159</td><td>6</td><td>Map(special-defense -> 90, defense -> 80, special-attack -> 95, attack -> 50, hp -> 75, speed -> 65)</td><td>List(psychic)</td><td>10</td></tr><tr><td>359</td><td>absol</td><td>List(pressure, super-luck, justified)</td><td>163</td><td>12</td><td>Map(special-defense -> 60, defense -> 60, special-attack -> 75, attack -> 130, hp -> 65, speed -> 75)</td><td>List(dark)</td><td>470</td></tr><tr><td>360</td><td>wynaut</td><td>List(shadow-tag, telepathy)</td><td>52</td><td>6</td><td>Map(special-defense -> 48, defense -> 48, special-attack -> 23, attack -> 23, hp -> 95, speed -> 23)</td><td>List(psychic)</td><td>140</td></tr><tr><td>361</td><td>snorunt</td><td>List(inner-focus, ice-body, moody)</td><td>60</td><td>7</td><td>Map(special-defense -> 50, defense -> 50, special-attack -> 50, attack -> 50, hp -> 50, speed -> 50)</td><td>List(ice)</td><td>168</td></tr><tr><td>362</td><td>glalie</td><td>List(inner-focus, ice-body, moody)</td><td>168</td><td>15</td><td>Map(special-defense -> 80, defense -> 80, special-attack -> 80, attack -> 80, hp -> 80, speed -> 80)</td><td>List(ice)</td><td>2565</td></tr><tr><td>363</td><td>spheal</td><td>List(thick-fat, ice-body, oblivious)</td><td>58</td><td>8</td><td>Map(special-defense -> 50, defense -> 50, special-attack -> 55, attack -> 40, hp -> 70, speed -> 25)</td><td>List(ice, water)</td><td>395</td></tr><tr><td>364</td><td>sealeo</td><td>List(thick-fat, ice-body, oblivious)</td><td>144</td><td>11</td><td>Map(special-defense -> 70, defense -> 70, special-attack -> 75, attack -> 60, hp -> 90, speed -> 45)</td><td>List(ice, water)</td><td>876</td></tr><tr><td>365</td><td>walrein</td><td>List(thick-fat, ice-body, oblivious)</td><td>265</td><td>14</td><td>Map(special-defense -> 90, defense -> 90, special-attack -> 95, attack -> 80, hp -> 110, speed -> 65)</td><td>List(ice, water)</td><td>1506</td></tr><tr><td>366</td><td>clamperl</td><td>List(shell-armor, rattled)</td><td>69</td><td>4</td><td>Map(special-defense -> 55, defense -> 85, special-attack -> 74, attack -> 64, hp -> 35, speed -> 32)</td><td>List(water)</td><td>525</td></tr><tr><td>367</td><td>huntail</td><td>List(swift-swim, water-veil)</td><td>170</td><td>17</td><td>Map(special-defense -> 75, defense -> 105, special-attack -> 94, attack -> 104, hp -> 55, speed -> 52)</td><td>List(water)</td><td>270</td></tr><tr><td>368</td><td>gorebyss</td><td>List(swift-swim, hydration)</td><td>170</td><td>18</td><td>Map(special-defense -> 75, defense -> 105, special-attack -> 114, attack -> 84, hp -> 55, speed -> 52)</td><td>List(water)</td><td>226</td></tr><tr><td>369</td><td>relicanth</td><td>List(swift-swim, rock-head, sturdy)</td><td>170</td><td>10</td><td>Map(special-defense -> 65, defense -> 130, special-attack -> 45, attack -> 90, hp -> 100, speed -> 55)</td><td>List(water, rock)</td><td>234</td></tr><tr><td>370</td><td>luvdisc</td><td>List(swift-swim, hydration)</td><td>116</td><td>6</td><td>Map(special-defense -> 65, defense -> 55, special-attack -> 40, attack -> 30, hp -> 43, speed -> 97)</td><td>List(water)</td><td>87</td></tr><tr><td>371</td><td>bagon</td><td>List(rock-head, sheer-force)</td><td>60</td><td>6</td><td>Map(special-defense -> 30, defense -> 60, special-attack -> 40, attack -> 75, hp -> 45, speed -> 50)</td><td>List(dragon)</td><td>421</td></tr><tr><td>372</td><td>shelgon</td><td>List(rock-head, overcoat)</td><td>147</td><td>11</td><td>Map(special-defense -> 50, defense -> 100, special-attack -> 60, attack -> 95, hp -> 65, speed -> 50)</td><td>List(dragon)</td><td>1105</td></tr><tr><td>373</td><td>salamence</td><td>List(intimidate, moxie)</td><td>300</td><td>15</td><td>Map(special-defense -> 80, defense -> 80, special-attack -> 110, attack -> 135, hp -> 95, speed -> 100)</td><td>List(dragon, flying)</td><td>1026</td></tr><tr><td>374</td><td>beldum</td><td>List(clear-body, light-metal)</td><td>60</td><td>6</td><td>Map(special-defense -> 60, defense -> 80, special-attack -> 35, attack -> 55, hp -> 40, speed -> 30)</td><td>List(steel, psychic)</td><td>952</td></tr><tr><td>375</td><td>metang</td><td>List(clear-body, light-metal)</td><td>147</td><td>12</td><td>Map(special-defense -> 80, defense -> 100, special-attack -> 55, attack -> 75, hp -> 60, speed -> 50)</td><td>List(steel, psychic)</td><td>2025</td></tr><tr><td>376</td><td>metagross</td><td>List(clear-body, light-metal)</td><td>300</td><td>16</td><td>Map(special-defense -> 90, defense -> 130, special-attack -> 95, attack -> 135, hp -> 80, speed -> 70)</td><td>List(steel, psychic)</td><td>5500</td></tr><tr><td>377</td><td>regirock</td><td>List(clear-body, sturdy)</td><td>290</td><td>17</td><td>Map(special-defense -> 100, defense -> 200, special-attack -> 50, attack -> 100, hp -> 80, speed -> 50)</td><td>List(rock)</td><td>2300</td></tr><tr><td>378</td><td>regice</td><td>List(clear-body, ice-body)</td><td>290</td><td>18</td><td>Map(special-defense -> 200, defense -> 100, special-attack -> 100, attack -> 50, hp -> 80, speed -> 50)</td><td>List(ice)</td><td>1750</td></tr><tr><td>379</td><td>registeel</td><td>List(clear-body, light-metal)</td><td>290</td><td>19</td><td>Map(special-defense -> 150, defense -> 150, special-attack -> 75, attack -> 75, hp -> 80, speed -> 50)</td><td>List(steel)</td><td>2050</td></tr><tr><td>380</td><td>latias</td><td>List(levitate)</td><td>300</td><td>14</td><td>Map(special-defense -> 130, defense -> 90, special-attack -> 110, attack -> 80, hp -> 80, speed -> 110)</td><td>List(dragon, psychic)</td><td>400</td></tr><tr><td>381</td><td>latios</td><td>List(levitate)</td><td>300</td><td>20</td><td>Map(special-defense -> 110, defense -> 80, special-attack -> 130, attack -> 90, hp -> 80, speed -> 110)</td><td>List(dragon, psychic)</td><td>600</td></tr><tr><td>382</td><td>kyogre</td><td>List(drizzle)</td><td>335</td><td>45</td><td>Map(special-defense -> 140, defense -> 90, special-attack -> 150, attack -> 100, hp -> 100, speed -> 90)</td><td>List(water)</td><td>3520</td></tr><tr><td>383</td><td>groudon</td><td>List(drought)</td><td>335</td><td>35</td><td>Map(special-defense -> 90, defense -> 140, special-attack -> 100, attack -> 150, hp -> 100, speed -> 90)</td><td>List(ground)</td><td>9500</td></tr><tr><td>384</td><td>rayquaza</td><td>List(air-lock)</td><td>340</td><td>70</td><td>Map(special-defense -> 90, defense -> 90, special-attack -> 150, attack -> 150, hp -> 105, speed -> 95)</td><td>List(dragon, flying)</td><td>2065</td></tr><tr><td>385</td><td>jirachi</td><td>List(serene-grace)</td><td>300</td><td>3</td><td>Map(special-defense -> 100, defense -> 100, special-attack -> 100, attack -> 100, hp -> 100, speed -> 100)</td><td>List(steel, psychic)</td><td>11</td></tr><tr><td>386</td><td>deoxys-normal</td><td>List(pressure)</td><td>270</td><td>17</td><td>Map(special-defense -> 50, defense -> 50, special-attack -> 150, attack -> 150, hp -> 50, speed -> 150)</td><td>List(psychic)</td><td>608</td></tr><tr><td>387</td><td>turtwig</td><td>List(overgrow, shell-armor)</td><td>64</td><td>4</td><td>Map(special-defense -> 55, defense -> 64, special-attack -> 45, attack -> 68, hp -> 55, speed -> 31)</td><td>List(grass)</td><td>102</td></tr><tr><td>388</td><td>grotle</td><td>List(overgrow, shell-armor)</td><td>142</td><td>11</td><td>Map(special-defense -> 65, defense -> 85, special-attack -> 55, attack -> 89, hp -> 75, speed -> 36)</td><td>List(grass)</td><td>970</td></tr><tr><td>389</td><td>torterra</td><td>List(overgrow, shell-armor)</td><td>236</td><td>22</td><td>Map(special-defense -> 85, defense -> 105, special-attack -> 75, attack -> 109, hp -> 95, speed -> 56)</td><td>List(grass, ground)</td><td>3100</td></tr><tr><td>390</td><td>chimchar</td><td>List(blaze, iron-fist)</td><td>62</td><td>5</td><td>Map(special-defense -> 44, defense -> 44, special-attack -> 58, attack -> 58, hp -> 44, speed -> 61)</td><td>List(fire)</td><td>62</td></tr><tr><td>391</td><td>monferno</td><td>List(blaze, iron-fist)</td><td>142</td><td>9</td><td>Map(special-defense -> 52, defense -> 52, special-attack -> 78, attack -> 78, hp -> 64, speed -> 81)</td><td>List(fire, fighting)</td><td>220</td></tr><tr><td>392</td><td>infernape</td><td>List(blaze, iron-fist)</td><td>240</td><td>12</td><td>Map(special-defense -> 71, defense -> 71, special-attack -> 104, attack -> 104, hp -> 76, speed -> 108)</td><td>List(fire, fighting)</td><td>550</td></tr><tr><td>393</td><td>piplup</td><td>List(torrent, competitive)</td><td>63</td><td>4</td><td>Map(special-defense -> 56, defense -> 53, special-attack -> 61, attack -> 51, hp -> 53, speed -> 40)</td><td>List(water)</td><td>52</td></tr><tr><td>394</td><td>prinplup</td><td>List(torrent, competitive)</td><td>142</td><td>8</td><td>Map(special-defense -> 76, defense -> 68, special-attack -> 81, attack -> 66, hp -> 64, speed -> 50)</td><td>List(water)</td><td>230</td></tr><tr><td>395</td><td>empoleon</td><td>List(torrent, competitive)</td><td>239</td><td>17</td><td>Map(special-defense -> 101, defense -> 88, special-attack -> 111, attack -> 86, hp -> 84, speed -> 60)</td><td>List(water, steel)</td><td>845</td></tr><tr><td>396</td><td>starly</td><td>List(keen-eye, reckless)</td><td>49</td><td>3</td><td>Map(special-defense -> 30, defense -> 30, special-attack -> 30, attack -> 55, hp -> 40, speed -> 60)</td><td>List(normal, flying)</td><td>20</td></tr><tr><td>397</td><td>staravia</td><td>List(intimidate, reckless)</td><td>119</td><td>6</td><td>Map(special-defense -> 40, defense -> 50, special-attack -> 40, attack -> 75, hp -> 55, speed -> 80)</td><td>List(normal, flying)</td><td>155</td></tr><tr><td>398</td><td>staraptor</td><td>List(intimidate, reckless)</td><td>218</td><td>12</td><td>Map(special-defense -> 60, defense -> 70, special-attack -> 50, attack -> 120, hp -> 85, speed -> 100)</td><td>List(normal, flying)</td><td>249</td></tr><tr><td>399</td><td>bidoof</td><td>List(simple, unaware, moody)</td><td>50</td><td>5</td><td>Map(special-defense -> 40, defense -> 40, special-attack -> 35, attack -> 45, hp -> 59, speed -> 31)</td><td>List(normal)</td><td>200</td></tr><tr><td>400</td><td>bibarel</td><td>List(simple, unaware, moody)</td><td>144</td><td>10</td><td>Map(special-defense -> 60, defense -> 60, special-attack -> 55, attack -> 85, hp -> 79, speed -> 71)</td><td>List(normal, water)</td><td>315</td></tr><tr><td>401</td><td>kricketot</td><td>List(shed-skin, run-away)</td><td>39</td><td>3</td><td>Map(special-defense -> 41, defense -> 41, special-attack -> 25, attack -> 25, hp -> 37, speed -> 25)</td><td>List(bug)</td><td>22</td></tr><tr><td>402</td><td>kricketune</td><td>List(swarm, technician)</td><td>134</td><td>10</td><td>Map(special-defense -> 51, defense -> 51, special-attack -> 55, attack -> 85, hp -> 77, speed -> 65)</td><td>List(bug)</td><td>255</td></tr><tr><td>403</td><td>shinx</td><td>List(rivalry, intimidate, guts)</td><td>53</td><td>5</td><td>Map(special-defense -> 34, defense -> 34, special-attack -> 40, attack -> 65, hp -> 45, speed -> 45)</td><td>List(electric)</td><td>95</td></tr><tr><td>404</td><td>luxio</td><td>List(rivalry, intimidate, guts)</td><td>127</td><td>9</td><td>Map(special-defense -> 49, defense -> 49, special-attack -> 60, attack -> 85, hp -> 60, speed -> 60)</td><td>List(electric)</td><td>305</td></tr><tr><td>405</td><td>luxray</td><td>List(rivalry, intimidate, guts)</td><td>262</td><td>14</td><td>Map(special-defense -> 79, defense -> 79, special-attack -> 95, attack -> 120, hp -> 80, speed -> 70)</td><td>List(electric)</td><td>420</td></tr><tr><td>406</td><td>budew</td><td>List(natural-cure, poison-point, leaf-guard)</td><td>56</td><td>2</td><td>Map(special-defense -> 70, defense -> 35, special-attack -> 50, attack -> 30, hp -> 40, speed -> 55)</td><td>List(grass, poison)</td><td>12</td></tr><tr><td>407</td><td>roserade</td><td>List(natural-cure, poison-point, technician)</td><td>258</td><td>9</td><td>Map(special-defense -> 105, defense -> 65, special-attack -> 125, attack -> 70, hp -> 60, speed -> 90)</td><td>List(grass, poison)</td><td>145</td></tr><tr><td>408</td><td>cranidos</td><td>List(mold-breaker, sheer-force)</td><td>70</td><td>9</td><td>Map(special-defense -> 30, defense -> 40, special-attack -> 30, attack -> 125, hp -> 67, speed -> 58)</td><td>List(rock)</td><td>315</td></tr><tr><td>409</td><td>rampardos</td><td>List(mold-breaker, sheer-force)</td><td>173</td><td>16</td><td>Map(special-defense -> 50, defense -> 60, special-attack -> 65, attack -> 165, hp -> 97, speed -> 58)</td><td>List(rock)</td><td>1025</td></tr><tr><td>410</td><td>shieldon</td><td>List(sturdy, soundproof)</td><td>70</td><td>5</td><td>Map(special-defense -> 88, defense -> 118, special-attack -> 42, attack -> 42, hp -> 30, speed -> 30)</td><td>List(rock, steel)</td><td>570</td></tr><tr><td>411</td><td>bastiodon</td><td>List(sturdy, soundproof)</td><td>173</td><td>13</td><td>Map(special-defense -> 138, defense -> 168, special-attack -> 47, attack -> 52, hp -> 60, speed -> 30)</td><td>List(rock, steel)</td><td>1495</td></tr><tr><td>412</td><td>burmy</td><td>List(shed-skin, overcoat)</td><td>45</td><td>2</td><td>Map(special-defense -> 45, defense -> 45, special-attack -> 29, attack -> 29, hp -> 40, speed -> 36)</td><td>List(bug)</td><td>34</td></tr><tr><td>413</td><td>wormadam-plant</td><td>List(anticipation, overcoat)</td><td>148</td><td>5</td><td>Map(special-defense -> 105, defense -> 85, special-attack -> 79, attack -> 59, hp -> 60, speed -> 36)</td><td>List(bug, grass)</td><td>65</td></tr><tr><td>414</td><td>mothim</td><td>List(swarm, tinted-lens)</td><td>148</td><td>9</td><td>Map(special-defense -> 50, defense -> 50, special-attack -> 94, attack -> 94, hp -> 70, speed -> 66)</td><td>List(bug, flying)</td><td>233</td></tr><tr><td>415</td><td>combee</td><td>List(honey-gather, hustle)</td><td>49</td><td>3</td><td>Map(special-defense -> 42, defense -> 42, special-attack -> 30, attack -> 30, hp -> 30, speed -> 70)</td><td>List(bug, flying)</td><td>55</td></tr><tr><td>416</td><td>vespiquen</td><td>List(pressure, unnerve)</td><td>166</td><td>12</td><td>Map(special-defense -> 102, defense -> 102, special-attack -> 80, attack -> 80, hp -> 70, speed -> 40)</td><td>List(bug, flying)</td><td>385</td></tr><tr><td>417</td><td>pachirisu</td><td>List(run-away, pickup, volt-absorb)</td><td>142</td><td>4</td><td>Map(special-defense -> 90, defense -> 70, special-attack -> 45, attack -> 45, hp -> 60, speed -> 95)</td><td>List(electric)</td><td>39</td></tr><tr><td>418</td><td>buizel</td><td>List(swift-swim, water-veil)</td><td>66</td><td>7</td><td>Map(special-defense -> 30, defense -> 35, special-attack -> 60, attack -> 65, hp -> 55, speed -> 85)</td><td>List(water)</td><td>295</td></tr><tr><td>419</td><td>floatzel</td><td>List(swift-swim, water-veil)</td><td>173</td><td>11</td><td>Map(special-defense -> 50, defense -> 55, special-attack -> 85, attack -> 105, hp -> 85, speed -> 115)</td><td>List(water)</td><td>335</td></tr><tr><td>420</td><td>cherubi</td><td>List(chlorophyll)</td><td>55</td><td>4</td><td>Map(special-defense -> 53, defense -> 45, special-attack -> 62, attack -> 35, hp -> 45, speed -> 35)</td><td>List(grass)</td><td>33</td></tr><tr><td>421</td><td>cherrim</td><td>List(flower-gift)</td><td>158</td><td>5</td><td>Map(special-defense -> 78, defense -> 70, special-attack -> 87, attack -> 60, hp -> 70, speed -> 85)</td><td>List(grass)</td><td>93</td></tr><tr><td>422</td><td>shellos</td><td>List(sticky-hold, storm-drain, sand-force)</td><td>65</td><td>3</td><td>Map(special-defense -> 62, defense -> 48, special-attack -> 57, attack -> 48, hp -> 76, speed -> 34)</td><td>List(water)</td><td>63</td></tr><tr><td>423</td><td>gastrodon</td><td>List(sticky-hold, storm-drain, sand-force)</td><td>166</td><td>9</td><td>Map(special-defense -> 82, defense -> 68, special-attack -> 92, attack -> 83, hp -> 111, speed -> 39)</td><td>List(water, ground)</td><td>299</td></tr><tr><td>424</td><td>ambipom</td><td>List(technician, pickup, skill-link)</td><td>169</td><td>12</td><td>Map(special-defense -> 66, defense -> 66, special-attack -> 60, attack -> 100, hp -> 75, speed -> 115)</td><td>List(normal)</td><td>203</td></tr><tr><td>425</td><td>drifloon</td><td>List(aftermath, unburden, flare-boost)</td><td>70</td><td>4</td><td>Map(special-defense -> 44, defense -> 34, special-attack -> 60, attack -> 50, hp -> 90, speed -> 70)</td><td>List(ghost, flying)</td><td>12</td></tr><tr><td>426</td><td>drifblim</td><td>List(aftermath, unburden, flare-boost)</td><td>174</td><td>12</td><td>Map(special-defense -> 54, defense -> 44, special-attack -> 90, attack -> 80, hp -> 150, speed -> 80)</td><td>List(ghost, flying)</td><td>150</td></tr><tr><td>427</td><td>buneary</td><td>List(run-away, klutz, limber)</td><td>70</td><td>4</td><td>Map(special-defense -> 56, defense -> 44, special-attack -> 44, attack -> 66, hp -> 55, speed -> 85)</td><td>List(normal)</td><td>55</td></tr><tr><td>428</td><td>lopunny</td><td>List(cute-charm, klutz, limber)</td><td>168</td><td>12</td><td>Map(special-defense -> 96, defense -> 84, special-attack -> 54, attack -> 76, hp -> 65, speed -> 105)</td><td>List(normal)</td><td>333</td></tr><tr><td>429</td><td>mismagius</td><td>List(levitate)</td><td>173</td><td>9</td><td>Map(special-defense -> 105, defense -> 60, special-attack -> 105, attack -> 60, hp -> 60, speed -> 105)</td><td>List(ghost)</td><td>44</td></tr><tr><td>430</td><td>honchkrow</td><td>List(insomnia, super-luck, moxie)</td><td>177</td><td>9</td><td>Map(special-defense -> 52, defense -> 52, special-attack -> 105, attack -> 125, hp -> 100, speed -> 71)</td><td>List(dark, flying)</td><td>273</td></tr><tr><td>431</td><td>glameow</td><td>List(limber, own-tempo, keen-eye)</td><td>62</td><td>5</td><td>Map(special-defense -> 37, defense -> 42, special-attack -> 42, attack -> 55, hp -> 49, speed -> 85)</td><td>List(normal)</td><td>39</td></tr><tr><td>432</td><td>purugly</td><td>List(thick-fat, own-tempo, defiant)</td><td>158</td><td>10</td><td>Map(special-defense -> 59, defense -> 64, special-attack -> 64, attack -> 82, hp -> 71, speed -> 112)</td><td>List(normal)</td><td>438</td></tr><tr><td>433</td><td>chingling</td><td>List(levitate)</td><td>57</td><td>2</td><td>Map(special-defense -> 50, defense -> 50, special-attack -> 65, attack -> 30, hp -> 45, speed -> 45)</td><td>List(psychic)</td><td>6</td></tr><tr><td>434</td><td>stunky</td><td>List(stench, aftermath, keen-eye)</td><td>66</td><td>4</td><td>Map(special-defense -> 41, defense -> 47, special-attack -> 41, attack -> 63, hp -> 63, speed -> 74)</td><td>List(poison, dark)</td><td>192</td></tr><tr><td>435</td><td>skuntank</td><td>List(stench, aftermath, keen-eye)</td><td>168</td><td>10</td><td>Map(special-defense -> 61, defense -> 67, special-attack -> 71, attack -> 93, hp -> 103, speed -> 84)</td><td>List(poison, dark)</td><td>380</td></tr><tr><td>436</td><td>bronzor</td><td>List(levitate, heatproof, heavy-metal)</td><td>60</td><td>5</td><td>Map(special-defense -> 86, defense -> 86, special-attack -> 24, attack -> 24, hp -> 57, speed -> 23)</td><td>List(steel, psychic)</td><td>605</td></tr><tr><td>437</td><td>bronzong</td><td>List(levitate, heatproof, heavy-metal)</td><td>175</td><td>13</td><td>Map(special-defense -> 116, defense -> 116, special-attack -> 79, attack -> 89, hp -> 67, speed -> 33)</td><td>List(steel, psychic)</td><td>1870</td></tr><tr><td>438</td><td>bonsly</td><td>List(sturdy, rock-head, rattled)</td><td>58</td><td>5</td><td>Map(special-defense -> 45, defense -> 95, special-attack -> 10, attack -> 80, hp -> 50, speed -> 10)</td><td>List(rock)</td><td>150</td></tr><tr><td>439</td><td>mime-jr</td><td>List(soundproof, filter, technician)</td><td>62</td><td>6</td><td>Map(special-defense -> 90, defense -> 45, special-attack -> 70, attack -> 25, hp -> 20, speed -> 60)</td><td>List(psychic, fairy)</td><td>130</td></tr><tr><td>440</td><td>happiny</td><td>List(natural-cure, serene-grace, friend-guard)</td><td>110</td><td>6</td><td>Map(special-defense -> 65, defense -> 5, special-attack -> 15, attack -> 5, hp -> 100, speed -> 30)</td><td>List(normal)</td><td>244</td></tr><tr><td>441</td><td>chatot</td><td>List(keen-eye, tangled-feet, big-pecks)</td><td>144</td><td>5</td><td>Map(special-defense -> 42, defense -> 45, special-attack -> 92, attack -> 65, hp -> 76, speed -> 91)</td><td>List(normal, flying)</td><td>19</td></tr><tr><td>442</td><td>spiritomb</td><td>List(pressure, infiltrator)</td><td>170</td><td>10</td><td>Map(special-defense -> 108, defense -> 108, special-attack -> 92, attack -> 92, hp -> 50, speed -> 35)</td><td>List(ghost, dark)</td><td>1080</td></tr><tr><td>443</td><td>gible</td><td>List(sand-veil, rough-skin)</td><td>60</td><td>7</td><td>Map(special-defense -> 45, defense -> 45, special-attack -> 40, attack -> 70, hp -> 58, speed -> 42)</td><td>List(dragon, ground)</td><td>205</td></tr><tr><td>444</td><td>gabite</td><td>List(sand-veil, rough-skin)</td><td>144</td><td>14</td><td>Map(special-defense -> 55, defense -> 65, special-attack -> 50, attack -> 90, hp -> 68, speed -> 82)</td><td>List(dragon, ground)</td><td>560</td></tr><tr><td>445</td><td>garchomp</td><td>List(sand-veil, rough-skin)</td><td>300</td><td>19</td><td>Map(special-defense -> 85, defense -> 95, special-attack -> 80, attack -> 130, hp -> 108, speed -> 102)</td><td>List(dragon, ground)</td><td>950</td></tr><tr><td>446</td><td>munchlax</td><td>List(pickup, thick-fat, gluttony)</td><td>78</td><td>6</td><td>Map(special-defense -> 85, defense -> 40, special-attack -> 40, attack -> 85, hp -> 135, speed -> 5)</td><td>List(normal)</td><td>1050</td></tr><tr><td>447</td><td>riolu</td><td>List(steadfast, inner-focus, prankster)</td><td>57</td><td>7</td><td>Map(special-defense -> 40, defense -> 40, special-attack -> 35, attack -> 70, hp -> 40, speed -> 60)</td><td>List(fighting)</td><td>202</td></tr><tr><td>448</td><td>lucario</td><td>List(steadfast, inner-focus, justified)</td><td>184</td><td>12</td><td>Map(special-defense -> 70, defense -> 70, special-attack -> 115, attack -> 110, hp -> 70, speed -> 90)</td><td>List(fighting, steel)</td><td>540</td></tr><tr><td>449</td><td>hippopotas</td><td>List(sand-stream, sand-force)</td><td>66</td><td>8</td><td>Map(special-defense -> 42, defense -> 78, special-attack -> 38, attack -> 72, hp -> 68, speed -> 32)</td><td>List(ground)</td><td>495</td></tr><tr><td>450</td><td>hippowdon</td><td>List(sand-stream, sand-force)</td><td>184</td><td>20</td><td>Map(special-defense -> 72, defense -> 118, special-attack -> 68, attack -> 112, hp -> 108, speed -> 47)</td><td>List(ground)</td><td>3000</td></tr><tr><td>451</td><td>skorupi</td><td>List(battle-armor, sniper, keen-eye)</td><td>66</td><td>8</td><td>Map(special-defense -> 55, defense -> 90, special-attack -> 30, attack -> 50, hp -> 40, speed -> 65)</td><td>List(poison, bug)</td><td>120</td></tr><tr><td>452</td><td>drapion</td><td>List(battle-armor, sniper, keen-eye)</td><td>175</td><td>13</td><td>Map(special-defense -> 75, defense -> 110, special-attack -> 60, attack -> 90, hp -> 70, speed -> 95)</td><td>List(poison, dark)</td><td>615</td></tr><tr><td>453</td><td>croagunk</td><td>List(anticipation, dry-skin, poison-touch)</td><td>60</td><td>7</td><td>Map(special-defense -> 40, defense -> 40, special-attack -> 61, attack -> 61, hp -> 48, speed -> 50)</td><td>List(poison, fighting)</td><td>230</td></tr><tr><td>454</td><td>toxicroak</td><td>List(anticipation, dry-skin, poison-touch)</td><td>172</td><td>13</td><td>Map(special-defense -> 65, defense -> 65, special-attack -> 86, attack -> 106, hp -> 83, speed -> 85)</td><td>List(poison, fighting)</td><td>444</td></tr><tr><td>455</td><td>carnivine</td><td>List(levitate)</td><td>159</td><td>14</td><td>Map(special-defense -> 72, defense -> 72, special-attack -> 90, attack -> 100, hp -> 74, speed -> 46)</td><td>List(grass)</td><td>270</td></tr><tr><td>456</td><td>finneon</td><td>List(swift-swim, storm-drain, water-veil)</td><td>66</td><td>4</td><td>Map(special-defense -> 61, defense -> 56, special-attack -> 49, attack -> 49, hp -> 49, speed -> 66)</td><td>List(water)</td><td>70</td></tr><tr><td>457</td><td>lumineon</td><td>List(swift-swim, storm-drain, water-veil)</td><td>161</td><td>12</td><td>Map(special-defense -> 86, defense -> 76, special-attack -> 69, attack -> 69, hp -> 69, speed -> 91)</td><td>List(water)</td><td>240</td></tr><tr><td>458</td><td>mantyke</td><td>List(swift-swim, water-absorb, water-veil)</td><td>69</td><td>10</td><td>Map(special-defense -> 120, defense -> 50, special-attack -> 60, attack -> 20, hp -> 45, speed -> 50)</td><td>List(water, flying)</td><td>650</td></tr><tr><td>459</td><td>snover</td><td>List(snow-warning, soundproof)</td><td>67</td><td>10</td><td>Map(special-defense -> 60, defense -> 50, special-attack -> 62, attack -> 62, hp -> 60, speed -> 40)</td><td>List(grass, ice)</td><td>505</td></tr><tr><td>460</td><td>abomasnow</td><td>List(snow-warning, soundproof)</td><td>173</td><td>22</td><td>Map(special-defense -> 85, defense -> 75, special-attack -> 92, attack -> 92, hp -> 90, speed -> 60)</td><td>List(grass, ice)</td><td>1355</td></tr><tr><td>461</td><td>weavile</td><td>List(pressure, pickpocket)</td><td>179</td><td>11</td><td>Map(special-defense -> 85, defense -> 65, special-attack -> 45, attack -> 120, hp -> 70, speed -> 125)</td><td>List(dark, ice)</td><td>340</td></tr><tr><td>462</td><td>magnezone</td><td>List(magnet-pull, sturdy, analytic)</td><td>268</td><td>12</td><td>Map(special-defense -> 90, defense -> 115, special-attack -> 130, attack -> 70, hp -> 70, speed -> 60)</td><td>List(electric, steel)</td><td>1800</td></tr><tr><td>463</td><td>lickilicky</td><td>List(own-tempo, oblivious, cloud-nine)</td><td>180</td><td>17</td><td>Map(special-defense -> 95, defense -> 95, special-attack -> 80, attack -> 85, hp -> 110, speed -> 50)</td><td>List(normal)</td><td>1400</td></tr><tr><td>464</td><td>rhyperior</td><td>List(lightning-rod, solid-rock, reckless)</td><td>268</td><td>24</td><td>Map(special-defense -> 55, defense -> 130, special-attack -> 55, attack -> 140, hp -> 115, speed -> 40)</td><td>List(ground, rock)</td><td>2828</td></tr><tr><td>465</td><td>tangrowth</td><td>List(chlorophyll, leaf-guard, regenerator)</td><td>187</td><td>20</td><td>Map(special-defense -> 50, defense -> 125, special-attack -> 110, attack -> 100, hp -> 100, speed -> 50)</td><td>List(grass)</td><td>1286</td></tr><tr><td>466</td><td>electivire</td><td>List(motor-drive, vital-spirit)</td><td>270</td><td>18</td><td>Map(special-defense -> 85, defense -> 67, special-attack -> 95, attack -> 123, hp -> 75, speed -> 95)</td><td>List(electric)</td><td>1386</td></tr><tr><td>467</td><td>magmortar</td><td>List(flame-body, vital-spirit)</td><td>270</td><td>16</td><td>Map(special-defense -> 95, defense -> 67, special-attack -> 125, attack -> 95, hp -> 75, speed -> 83)</td><td>List(fire)</td><td>680</td></tr><tr><td>468</td><td>togekiss</td><td>List(hustle, serene-grace, super-luck)</td><td>273</td><td>15</td><td>Map(special-defense -> 115, defense -> 95, special-attack -> 120, attack -> 50, hp -> 85, speed -> 80)</td><td>List(fairy, flying)</td><td>380</td></tr><tr><td>469</td><td>yanmega</td><td>List(speed-boost, tinted-lens, frisk)</td><td>180</td><td>19</td><td>Map(special-defense -> 56, defense -> 86, special-attack -> 116, attack -> 76, hp -> 86, speed -> 95)</td><td>List(bug, flying)</td><td>515</td></tr><tr><td>470</td><td>leafeon</td><td>List(leaf-guard, chlorophyll)</td><td>184</td><td>10</td><td>Map(special-defense -> 65, defense -> 130, special-attack -> 60, attack -> 110, hp -> 65, speed -> 95)</td><td>List(grass)</td><td>255</td></tr><tr><td>471</td><td>glaceon</td><td>List(snow-cloak, ice-body)</td><td>184</td><td>8</td><td>Map(special-defense -> 95, defense -> 110, special-attack -> 130, attack -> 60, hp -> 65, speed -> 65)</td><td>List(ice)</td><td>259</td></tr><tr><td>472</td><td>gliscor</td><td>List(hyper-cutter, sand-veil, poison-heal)</td><td>179</td><td>20</td><td>Map(special-defense -> 75, defense -> 125, special-attack -> 45, attack -> 95, hp -> 75, speed -> 95)</td><td>List(ground, flying)</td><td>425</td></tr><tr><td>473</td><td>mamoswine</td><td>List(oblivious, snow-cloak, thick-fat)</td><td>265</td><td>25</td><td>Map(special-defense -> 60, defense -> 80, special-attack -> 70, attack -> 130, hp -> 110, speed -> 80)</td><td>List(ice, ground)</td><td>2910</td></tr><tr><td>474</td><td>porygon-z</td><td>List(adaptability, download, analytic)</td><td>268</td><td>9</td><td>Map(special-defense -> 75, defense -> 70, special-attack -> 135, attack -> 80, hp -> 85, speed -> 90)</td><td>List(normal)</td><td>340</td></tr><tr><td>475</td><td>gallade</td><td>List(steadfast, sharpness, justified)</td><td>259</td><td>16</td><td>Map(special-defense -> 115, defense -> 65, special-attack -> 65, attack -> 125, hp -> 68, speed -> 80)</td><td>List(psychic, fighting)</td><td>520</td></tr><tr><td>476</td><td>probopass</td><td>List(sturdy, magnet-pull, sand-force)</td><td>184</td><td>14</td><td>Map(special-defense -> 150, defense -> 145, special-attack -> 75, attack -> 55, hp -> 60, speed -> 40)</td><td>List(rock, steel)</td><td>3400</td></tr><tr><td>477</td><td>dusknoir</td><td>List(pressure, frisk)</td><td>263</td><td>22</td><td>Map(special-defense -> 135, defense -> 135, special-attack -> 65, attack -> 100, hp -> 45, speed -> 45)</td><td>List(ghost)</td><td>1066</td></tr><tr><td>478</td><td>froslass</td><td>List(snow-cloak, cursed-body)</td><td>168</td><td>13</td><td>Map(special-defense -> 70, defense -> 70, special-attack -> 80, attack -> 80, hp -> 70, speed -> 110)</td><td>List(ice, ghost)</td><td>266</td></tr><tr><td>479</td><td>rotom</td><td>List(levitate)</td><td>154</td><td>3</td><td>Map(special-defense -> 77, defense -> 77, special-attack -> 95, attack -> 50, hp -> 50, speed -> 91)</td><td>List(electric, ghost)</td><td>3</td></tr><tr><td>480</td><td>uxie</td><td>List(levitate)</td><td>290</td><td>3</td><td>Map(special-defense -> 130, defense -> 130, special-attack -> 75, attack -> 75, hp -> 75, speed -> 95)</td><td>List(psychic)</td><td>3</td></tr><tr><td>481</td><td>mesprit</td><td>List(levitate)</td><td>290</td><td>3</td><td>Map(special-defense -> 105, defense -> 105, special-attack -> 105, attack -> 105, hp -> 80, speed -> 80)</td><td>List(psychic)</td><td>3</td></tr><tr><td>482</td><td>azelf</td><td>List(levitate)</td><td>290</td><td>3</td><td>Map(special-defense -> 70, defense -> 70, special-attack -> 125, attack -> 125, hp -> 75, speed -> 115)</td><td>List(psychic)</td><td>3</td></tr><tr><td>483</td><td>dialga</td><td>List(pressure, telepathy)</td><td>340</td><td>54</td><td>Map(special-defense -> 100, defense -> 120, special-attack -> 150, attack -> 120, hp -> 100, speed -> 90)</td><td>List(steel, dragon)</td><td>6830</td></tr><tr><td>484</td><td>palkia</td><td>List(pressure, telepathy)</td><td>340</td><td>42</td><td>Map(special-defense -> 120, defense -> 100, special-attack -> 150, attack -> 120, hp -> 90, speed -> 100)</td><td>List(water, dragon)</td><td>3360</td></tr><tr><td>485</td><td>heatran</td><td>List(flash-fire, flame-body)</td><td>300</td><td>17</td><td>Map(special-defense -> 106, defense -> 106, special-attack -> 130, attack -> 90, hp -> 91, speed -> 77)</td><td>List(fire, steel)</td><td>4300</td></tr><tr><td>486</td><td>regigigas</td><td>List(slow-start)</td><td>335</td><td>37</td><td>Map(special-defense -> 110, defense -> 110, special-attack -> 80, attack -> 160, hp -> 110, speed -> 100)</td><td>List(normal)</td><td>4200</td></tr><tr><td>487</td><td>giratina-altered</td><td>List(pressure, telepathy)</td><td>340</td><td>45</td><td>Map(special-defense -> 120, defense -> 120, special-attack -> 100, attack -> 100, hp -> 150, speed -> 90)</td><td>List(ghost, dragon)</td><td>7500</td></tr><tr><td>488</td><td>cresselia</td><td>List(levitate)</td><td>300</td><td>15</td><td>Map(special-defense -> 120, defense -> 110, special-attack -> 75, attack -> 70, hp -> 120, speed -> 85)</td><td>List(psychic)</td><td>856</td></tr><tr><td>489</td><td>phione</td><td>List(hydration)</td><td>216</td><td>4</td><td>Map(special-defense -> 80, defense -> 80, special-attack -> 80, attack -> 80, hp -> 80, speed -> 80)</td><td>List(water)</td><td>31</td></tr><tr><td>490</td><td>manaphy</td><td>List(hydration)</td><td>270</td><td>3</td><td>Map(special-defense -> 100, defense -> 100, special-attack -> 100, attack -> 100, hp -> 100, speed -> 100)</td><td>List(water)</td><td>14</td></tr><tr><td>491</td><td>darkrai</td><td>List(bad-dreams)</td><td>270</td><td>15</td><td>Map(special-defense -> 90, defense -> 90, special-attack -> 135, attack -> 90, hp -> 70, speed -> 125)</td><td>List(dark)</td><td>505</td></tr><tr><td>492</td><td>shaymin-land</td><td>List(natural-cure)</td><td>270</td><td>2</td><td>Map(special-defense -> 100, defense -> 100, special-attack -> 100, attack -> 100, hp -> 100, speed -> 100)</td><td>List(grass)</td><td>21</td></tr><tr><td>493</td><td>arceus</td><td>List(multitype)</td><td>324</td><td>32</td><td>Map(special-defense -> 120, defense -> 120, special-attack -> 120, attack -> 120, hp -> 120, speed -> 120)</td><td>List(normal)</td><td>3200</td></tr><tr><td>494</td><td>victini</td><td>List(victory-star)</td><td>300</td><td>4</td><td>Map(special-defense -> 100, defense -> 100, special-attack -> 100, attack -> 100, hp -> 100, speed -> 100)</td><td>List(psychic, fire)</td><td>40</td></tr><tr><td>495</td><td>snivy</td><td>List(overgrow, contrary)</td><td>62</td><td>6</td><td>Map(special-defense -> 55, defense -> 55, special-attack -> 45, attack -> 45, hp -> 45, speed -> 63)</td><td>List(grass)</td><td>81</td></tr><tr><td>496</td><td>servine</td><td>List(overgrow, contrary)</td><td>145</td><td>8</td><td>Map(special-defense -> 75, defense -> 75, special-attack -> 60, attack -> 60, hp -> 60, speed -> 83)</td><td>List(grass)</td><td>160</td></tr><tr><td>497</td><td>serperior</td><td>List(overgrow, contrary)</td><td>238</td><td>33</td><td>Map(special-defense -> 95, defense -> 95, special-attack -> 75, attack -> 75, hp -> 75, speed -> 113)</td><td>List(grass)</td><td>630</td></tr><tr><td>498</td><td>tepig</td><td>List(blaze, thick-fat)</td><td>62</td><td>5</td><td>Map(special-defense -> 45, defense -> 45, special-attack -> 45, attack -> 63, hp -> 65, speed -> 45)</td><td>List(fire)</td><td>99</td></tr><tr><td>499</td><td>pignite</td><td>List(blaze, thick-fat)</td><td>146</td><td>10</td><td>Map(special-defense -> 55, defense -> 55, special-attack -> 70, attack -> 93, hp -> 90, speed -> 55)</td><td>List(fire, fighting)</td><td>555</td></tr><tr><td>500</td><td>emboar</td><td>List(blaze, reckless)</td><td>238</td><td>16</td><td>Map(special-defense -> 65, defense -> 65, special-attack -> 100, attack -> 123, hp -> 110, speed -> 65)</td><td>List(fire, fighting)</td><td>1500</td></tr><tr><td>501</td><td>oshawott</td><td>List(torrent, shell-armor)</td><td>62</td><td>5</td><td>Map(special-defense -> 45, defense -> 45, special-attack -> 63, attack -> 55, hp -> 55, speed -> 45)</td><td>List(water)</td><td>59</td></tr><tr><td>502</td><td>dewott</td><td>List(torrent, shell-armor)</td><td>145</td><td>8</td><td>Map(special-defense -> 60, defense -> 60, special-attack -> 83, attack -> 75, hp -> 75, speed -> 60)</td><td>List(water)</td><td>245</td></tr><tr><td>503</td><td>samurott</td><td>List(torrent, shell-armor)</td><td>238</td><td>15</td><td>Map(special-defense -> 70, defense -> 85, special-attack -> 108, attack -> 100, hp -> 95, speed -> 70)</td><td>List(water)</td><td>946</td></tr><tr><td>504</td><td>patrat</td><td>List(run-away, keen-eye, analytic)</td><td>51</td><td>5</td><td>Map(special-defense -> 39, defense -> 39, special-attack -> 35, attack -> 55, hp -> 45, speed -> 42)</td><td>List(normal)</td><td>116</td></tr><tr><td>505</td><td>watchog</td><td>List(illuminate, keen-eye, analytic)</td><td>147</td><td>11</td><td>Map(special-defense -> 69, defense -> 69, special-attack -> 60, attack -> 85, hp -> 60, speed -> 77)</td><td>List(normal)</td><td>270</td></tr><tr><td>506</td><td>lillipup</td><td>List(vital-spirit, pickup, run-away)</td><td>55</td><td>4</td><td>Map(special-defense -> 45, defense -> 45, special-attack -> 25, attack -> 60, hp -> 45, speed -> 55)</td><td>List(normal)</td><td>41</td></tr><tr><td>507</td><td>herdier</td><td>List(intimidate, sand-rush, scrappy)</td><td>130</td><td>9</td><td>Map(special-defense -> 65, defense -> 65, special-attack -> 35, attack -> 80, hp -> 65, speed -> 60)</td><td>List(normal)</td><td>147</td></tr><tr><td>508</td><td>stoutland</td><td>List(intimidate, sand-rush, scrappy)</td><td>250</td><td>12</td><td>Map(special-defense -> 90, defense -> 90, special-attack -> 45, attack -> 110, hp -> 85, speed -> 80)</td><td>List(normal)</td><td>610</td></tr><tr><td>509</td><td>purrloin</td><td>List(limber, unburden, prankster)</td><td>56</td><td>4</td><td>Map(special-defense -> 37, defense -> 37, special-attack -> 50, attack -> 50, hp -> 41, speed -> 66)</td><td>List(dark)</td><td>101</td></tr><tr><td>510</td><td>liepard</td><td>List(limber, unburden, prankster)</td><td>156</td><td>11</td><td>Map(special-defense -> 50, defense -> 50, special-attack -> 88, attack -> 88, hp -> 64, speed -> 106)</td><td>List(dark)</td><td>375</td></tr><tr><td>511</td><td>pansage</td><td>List(gluttony, overgrow)</td><td>63</td><td>6</td><td>Map(special-defense -> 48, defense -> 48, special-attack -> 53, attack -> 53, hp -> 50, speed -> 64)</td><td>List(grass)</td><td>105</td></tr><tr><td>512</td><td>simisage</td><td>List(gluttony, overgrow)</td><td>174</td><td>11</td><td>Map(special-defense -> 63, defense -> 63, special-attack -> 98, attack -> 98, hp -> 75, speed -> 101)</td><td>List(grass)</td><td>305</td></tr><tr><td>513</td><td>pansear</td><td>List(gluttony, blaze)</td><td>63</td><td>6</td><td>Map(special-defense -> 48, defense -> 48, special-attack -> 53, attack -> 53, hp -> 50, speed -> 64)</td><td>List(fire)</td><td>110</td></tr><tr><td>514</td><td>simisear</td><td>List(gluttony, blaze)</td><td>174</td><td>10</td><td>Map(special-defense -> 63, defense -> 63, special-attack -> 98, attack -> 98, hp -> 75, speed -> 101)</td><td>List(fire)</td><td>280</td></tr><tr><td>515</td><td>panpour</td><td>List(gluttony, torrent)</td><td>63</td><td>6</td><td>Map(special-defense -> 48, defense -> 48, special-attack -> 53, attack -> 53, hp -> 50, speed -> 64)</td><td>List(water)</td><td>135</td></tr><tr><td>516</td><td>simipour</td><td>List(gluttony, torrent)</td><td>174</td><td>10</td><td>Map(special-defense -> 63, defense -> 63, special-attack -> 98, attack -> 98, hp -> 75, speed -> 101)</td><td>List(water)</td><td>290</td></tr><tr><td>517</td><td>munna</td><td>List(forewarn, synchronize, telepathy)</td><td>58</td><td>6</td><td>Map(special-defense -> 55, defense -> 45, special-attack -> 67, attack -> 25, hp -> 76, speed -> 24)</td><td>List(psychic)</td><td>233</td></tr><tr><td>518</td><td>musharna</td><td>List(forewarn, synchronize, telepathy)</td><td>170</td><td>11</td><td>Map(special-defense -> 95, defense -> 85, special-attack -> 107, attack -> 55, hp -> 116, speed -> 29)</td><td>List(psychic)</td><td>605</td></tr><tr><td>519</td><td>pidove</td><td>List(big-pecks, super-luck, rivalry)</td><td>53</td><td>3</td><td>Map(special-defense -> 30, defense -> 50, special-attack -> 36, attack -> 55, hp -> 50, speed -> 43)</td><td>List(normal, flying)</td><td>21</td></tr><tr><td>520</td><td>tranquill</td><td>List(big-pecks, super-luck, rivalry)</td><td>125</td><td>6</td><td>Map(special-defense -> 42, defense -> 62, special-attack -> 50, attack -> 77, hp -> 62, speed -> 65)</td><td>List(normal, flying)</td><td>150</td></tr><tr><td>521</td><td>unfezant</td><td>List(big-pecks, super-luck, rivalry)</td><td>244</td><td>12</td><td>Map(special-defense -> 55, defense -> 80, special-attack -> 65, attack -> 115, hp -> 80, speed -> 93)</td><td>List(normal, flying)</td><td>290</td></tr><tr><td>522</td><td>blitzle</td><td>List(lightning-rod, motor-drive, sap-sipper)</td><td>59</td><td>8</td><td>Map(special-defense -> 32, defense -> 32, special-attack -> 50, attack -> 60, hp -> 45, speed -> 76)</td><td>List(electric)</td><td>298</td></tr><tr><td>523</td><td>zebstrika</td><td>List(lightning-rod, motor-drive, sap-sipper)</td><td>174</td><td>16</td><td>Map(special-defense -> 63, defense -> 63, special-attack -> 80, attack -> 100, hp -> 75, speed -> 116)</td><td>List(electric)</td><td>795</td></tr><tr><td>524</td><td>roggenrola</td><td>List(sturdy, weak-armor, sand-force)</td><td>56</td><td>4</td><td>Map(special-defense -> 25, defense -> 85, special-attack -> 25, attack -> 75, hp -> 55, speed -> 15)</td><td>List(rock)</td><td>180</td></tr><tr><td>525</td><td>boldore</td><td>List(sturdy, weak-armor, sand-force)</td><td>137</td><td>9</td><td>Map(special-defense -> 40, defense -> 105, special-attack -> 50, attack -> 105, hp -> 70, speed -> 20)</td><td>List(rock)</td><td>1020</td></tr><tr><td>526</td><td>gigalith</td><td>List(sturdy, sand-stream, sand-force)</td><td>258</td><td>17</td><td>Map(special-defense -> 80, defense -> 130, special-attack -> 60, attack -> 135, hp -> 85, speed -> 25)</td><td>List(rock)</td><td>2600</td></tr><tr><td>527</td><td>woobat</td><td>List(unaware, klutz, simple)</td><td>65</td><td>4</td><td>Map(special-defense -> 43, defense -> 43, special-attack -> 55, attack -> 45, hp -> 65, speed -> 72)</td><td>List(psychic, flying)</td><td>21</td></tr><tr><td>528</td><td>swoobat</td><td>List(unaware, klutz, simple)</td><td>149</td><td>9</td><td>Map(special-defense -> 55, defense -> 55, special-attack -> 77, attack -> 57, hp -> 67, speed -> 114)</td><td>List(psychic, flying)</td><td>105</td></tr><tr><td>529</td><td>drilbur</td><td>List(sand-rush, sand-force, mold-breaker)</td><td>66</td><td>3</td><td>Map(special-defense -> 45, defense -> 40, special-attack -> 30, attack -> 85, hp -> 60, speed -> 68)</td><td>List(ground)</td><td>85</td></tr><tr><td>530</td><td>excadrill</td><td>List(sand-rush, sand-force, mold-breaker)</td><td>178</td><td>7</td><td>Map(special-defense -> 65, defense -> 60, special-attack -> 50, attack -> 135, hp -> 110, speed -> 88)</td><td>List(ground, steel)</td><td>404</td></tr><tr><td>531</td><td>audino</td><td>List(healer, regenerator, klutz)</td><td>390</td><td>11</td><td>Map(special-defense -> 86, defense -> 86, special-attack -> 60, attack -> 60, hp -> 103, speed -> 50)</td><td>List(normal)</td><td>310</td></tr><tr><td>532</td><td>timburr</td><td>List(guts, sheer-force, iron-fist)</td><td>61</td><td>6</td><td>Map(special-defense -> 35, defense -> 55, special-attack -> 25, attack -> 80, hp -> 75, speed -> 35)</td><td>List(fighting)</td><td>125</td></tr><tr><td>533</td><td>gurdurr</td><td>List(guts, sheer-force, iron-fist)</td><td>142</td><td>12</td><td>Map(special-defense -> 50, defense -> 85, special-attack -> 40, attack -> 105, hp -> 85, speed -> 40)</td><td>List(fighting)</td><td>400</td></tr><tr><td>534</td><td>conkeldurr</td><td>List(guts, sheer-force, iron-fist)</td><td>253</td><td>14</td><td>Map(special-defense -> 65, defense -> 95, special-attack -> 55, attack -> 140, hp -> 105, speed -> 45)</td><td>List(fighting)</td><td>870</td></tr><tr><td>535</td><td>tympole</td><td>List(swift-swim, hydration, water-absorb)</td><td>59</td><td>5</td><td>Map(special-defense -> 40, defense -> 40, special-attack -> 50, attack -> 50, hp -> 50, speed -> 64)</td><td>List(water)</td><td>45</td></tr><tr><td>536</td><td>palpitoad</td><td>List(swift-swim, hydration, water-absorb)</td><td>134</td><td>8</td><td>Map(special-defense -> 55, defense -> 55, special-attack -> 65, attack -> 65, hp -> 75, speed -> 69)</td><td>List(water, ground)</td><td>170</td></tr><tr><td>537</td><td>seismitoad</td><td>List(swift-swim, poison-touch, water-absorb)</td><td>255</td><td>15</td><td>Map(special-defense -> 75, defense -> 75, special-attack -> 85, attack -> 95, hp -> 105, speed -> 74)</td><td>List(water, ground)</td><td>620</td></tr><tr><td>538</td><td>throh</td><td>List(guts, inner-focus, mold-breaker)</td><td>163</td><td>13</td><td>Map(special-defense -> 85, defense -> 85, special-attack -> 30, attack -> 100, hp -> 120, speed -> 45)</td><td>List(fighting)</td><td>555</td></tr><tr><td>539</td><td>sawk</td><td>List(sturdy, inner-focus, mold-breaker)</td><td>163</td><td>14</td><td>Map(special-defense -> 75, defense -> 75, special-attack -> 30, attack -> 125, hp -> 75, speed -> 85)</td><td>List(fighting)</td><td>510</td></tr><tr><td>540</td><td>sewaddle</td><td>List(swarm, chlorophyll, overcoat)</td><td>62</td><td>3</td><td>Map(special-defense -> 60, defense -> 70, special-attack -> 40, attack -> 53, hp -> 45, speed -> 42)</td><td>List(bug, grass)</td><td>25</td></tr><tr><td>541</td><td>swadloon</td><td>List(leaf-guard, chlorophyll, overcoat)</td><td>133</td><td>5</td><td>Map(special-defense -> 80, defense -> 90, special-attack -> 50, attack -> 63, hp -> 55, speed -> 42)</td><td>List(bug, grass)</td><td>73</td></tr><tr><td>542</td><td>leavanny</td><td>List(swarm, chlorophyll, overcoat)</td><td>225</td><td>12</td><td>Map(special-defense -> 80, defense -> 80, special-attack -> 70, attack -> 103, hp -> 75, speed -> 92)</td><td>List(bug, grass)</td><td>205</td></tr><tr><td>543</td><td>venipede</td><td>List(poison-point, swarm, speed-boost)</td><td>52</td><td>4</td><td>Map(special-defense -> 39, defense -> 59, special-attack -> 30, attack -> 45, hp -> 30, speed -> 57)</td><td>List(bug, poison)</td><td>53</td></tr><tr><td>544</td><td>whirlipede</td><td>List(poison-point, swarm, speed-boost)</td><td>126</td><td>12</td><td>Map(special-defense -> 79, defense -> 99, special-attack -> 40, attack -> 55, hp -> 40, speed -> 47)</td><td>List(bug, poison)</td><td>585</td></tr><tr><td>545</td><td>scolipede</td><td>List(poison-point, swarm, speed-boost)</td><td>243</td><td>25</td><td>Map(special-defense -> 69, defense -> 89, special-attack -> 55, attack -> 100, hp -> 60, speed -> 112)</td><td>List(bug, poison)</td><td>2005</td></tr><tr><td>546</td><td>cottonee</td><td>List(prankster, infiltrator, chlorophyll)</td><td>56</td><td>3</td><td>Map(special-defense -> 50, defense -> 60, special-attack -> 37, attack -> 27, hp -> 40, speed -> 66)</td><td>List(grass, fairy)</td><td>6</td></tr><tr><td>547</td><td>whimsicott</td><td>List(prankster, infiltrator, chlorophyll)</td><td>168</td><td>7</td><td>Map(special-defense -> 75, defense -> 85, special-attack -> 77, attack -> 67, hp -> 60, speed -> 116)</td><td>List(grass, fairy)</td><td>66</td></tr><tr><td>548</td><td>petilil</td><td>List(chlorophyll, own-tempo, leaf-guard)</td><td>56</td><td>5</td><td>Map(special-defense -> 50, defense -> 50, special-attack -> 70, attack -> 35, hp -> 45, speed -> 30)</td><td>List(grass)</td><td>66</td></tr><tr><td>549</td><td>lilligant</td><td>List(chlorophyll, own-tempo, leaf-guard)</td><td>168</td><td>11</td><td>Map(special-defense -> 75, defense -> 75, special-attack -> 110, attack -> 60, hp -> 70, speed -> 90)</td><td>List(grass)</td><td>163</td></tr><tr><td>550</td><td>basculin-red-striped</td><td>List(reckless, adaptability, mold-breaker)</td><td>161</td><td>10</td><td>Map(special-defense -> 55, defense -> 65, special-attack -> 80, attack -> 92, hp -> 70, speed -> 98)</td><td>List(water)</td><td>180</td></tr><tr><td>551</td><td>sandile</td><td>List(intimidate, moxie, anger-point)</td><td>58</td><td>7</td><td>Map(special-defense -> 35, defense -> 35, special-attack -> 35, attack -> 72, hp -> 50, speed -> 65)</td><td>List(ground, dark)</td><td>152</td></tr><tr><td>552</td><td>krokorok</td><td>List(intimidate, moxie, anger-point)</td><td>123</td><td>10</td><td>Map(special-defense -> 45, defense -> 45, special-attack -> 45, attack -> 82, hp -> 60, speed -> 74)</td><td>List(ground, dark)</td><td>334</td></tr><tr><td>553</td><td>krookodile</td><td>List(intimidate, moxie, anger-point)</td><td>260</td><td>15</td><td>Map(special-defense -> 70, defense -> 80, special-attack -> 65, attack -> 117, hp -> 95, speed -> 92)</td><td>List(ground, dark)</td><td>963</td></tr><tr><td>554</td><td>darumaka</td><td>List(hustle, inner-focus)</td><td>63</td><td>6</td><td>Map(special-defense -> 45, defense -> 45, special-attack -> 15, attack -> 90, hp -> 70, speed -> 50)</td><td>List(fire)</td><td>375</td></tr><tr><td>555</td><td>darmanitan-standard</td><td>List(sheer-force, zen-mode)</td><td>168</td><td>13</td><td>Map(special-defense -> 55, defense -> 55, special-attack -> 30, attack -> 140, hp -> 105, speed -> 95)</td><td>List(fire)</td><td>929</td></tr><tr><td>556</td><td>maractus</td><td>List(water-absorb, chlorophyll, storm-drain)</td><td>161</td><td>10</td><td>Map(special-defense -> 67, defense -> 67, special-attack -> 106, attack -> 86, hp -> 75, speed -> 60)</td><td>List(grass)</td><td>280</td></tr><tr><td>557</td><td>dwebble</td><td>List(sturdy, shell-armor, weak-armor)</td><td>65</td><td>3</td><td>Map(special-defense -> 35, defense -> 85, special-attack -> 35, attack -> 65, hp -> 50, speed -> 55)</td><td>List(bug, rock)</td><td>145</td></tr><tr><td>558</td><td>crustle</td><td>List(sturdy, shell-armor, weak-armor)</td><td>170</td><td>14</td><td>Map(special-defense -> 75, defense -> 125, special-attack -> 65, attack -> 105, hp -> 70, speed -> 45)</td><td>List(bug, rock)</td><td>2000</td></tr><tr><td>559</td><td>scraggy</td><td>List(shed-skin, moxie, intimidate)</td><td>70</td><td>6</td><td>Map(special-defense -> 70, defense -> 70, special-attack -> 35, attack -> 75, hp -> 50, speed -> 48)</td><td>List(dark, fighting)</td><td>118</td></tr><tr><td>560</td><td>scrafty</td><td>List(shed-skin, moxie, intimidate)</td><td>171</td><td>11</td><td>Map(special-defense -> 115, defense -> 115, special-attack -> 45, attack -> 90, hp -> 65, speed -> 58)</td><td>List(dark, fighting)</td><td>300</td></tr><tr><td>561</td><td>sigilyph</td><td>List(wonder-skin, magic-guard, tinted-lens)</td><td>172</td><td>14</td><td>Map(special-defense -> 80, defense -> 80, special-attack -> 103, attack -> 58, hp -> 72, speed -> 97)</td><td>List(psychic, flying)</td><td>140</td></tr><tr><td>562</td><td>yamask</td><td>List(mummy)</td><td>61</td><td>5</td><td>Map(special-defense -> 65, defense -> 85, special-attack -> 55, attack -> 30, hp -> 38, speed -> 30)</td><td>List(ghost)</td><td>15</td></tr><tr><td>563</td><td>cofagrigus</td><td>List(mummy)</td><td>169</td><td>17</td><td>Map(special-defense -> 105, defense -> 145, special-attack -> 95, attack -> 50, hp -> 58, speed -> 30)</td><td>List(ghost)</td><td>765</td></tr><tr><td>564</td><td>tirtouga</td><td>List(solid-rock, sturdy, swift-swim)</td><td>71</td><td>7</td><td>Map(special-defense -> 45, defense -> 103, special-attack -> 53, attack -> 78, hp -> 54, speed -> 22)</td><td>List(water, rock)</td><td>165</td></tr><tr><td>565</td><td>carracosta</td><td>List(solid-rock, sturdy, swift-swim)</td><td>173</td><td>12</td><td>Map(special-defense -> 65, defense -> 133, special-attack -> 83, attack -> 108, hp -> 74, speed -> 32)</td><td>List(water, rock)</td><td>810</td></tr><tr><td>566</td><td>archen</td><td>List(defeatist)</td><td>71</td><td>5</td><td>Map(special-defense -> 45, defense -> 45, special-attack -> 74, attack -> 112, hp -> 55, speed -> 70)</td><td>List(rock, flying)</td><td>95</td></tr><tr><td>567</td><td>archeops</td><td>List(defeatist)</td><td>177</td><td>14</td><td>Map(special-defense -> 65, defense -> 65, special-attack -> 112, attack -> 140, hp -> 75, speed -> 110)</td><td>List(rock, flying)</td><td>320</td></tr><tr><td>568</td><td>trubbish</td><td>List(stench, sticky-hold, aftermath)</td><td>66</td><td>6</td><td>Map(special-defense -> 62, defense -> 62, special-attack -> 40, attack -> 50, hp -> 50, speed -> 65)</td><td>List(poison)</td><td>310</td></tr><tr><td>569</td><td>garbodor</td><td>List(stench, weak-armor, aftermath)</td><td>166</td><td>19</td><td>Map(special-defense -> 82, defense -> 82, special-attack -> 60, attack -> 95, hp -> 80, speed -> 75)</td><td>List(poison)</td><td>1073</td></tr><tr><td>570</td><td>zorua</td><td>List(illusion)</td><td>66</td><td>7</td><td>Map(special-defense -> 40, defense -> 40, special-attack -> 80, attack -> 65, hp -> 40, speed -> 65)</td><td>List(dark)</td><td>125</td></tr><tr><td>571</td><td>zoroark</td><td>List(illusion)</td><td>179</td><td>16</td><td>Map(special-defense -> 60, defense -> 60, special-attack -> 120, attack -> 105, hp -> 60, speed -> 105)</td><td>List(dark)</td><td>811</td></tr><tr><td>572</td><td>minccino</td><td>List(cute-charm, technician, skill-link)</td><td>60</td><td>4</td><td>Map(special-defense -> 40, defense -> 40, special-attack -> 40, attack -> 50, hp -> 55, speed -> 75)</td><td>List(normal)</td><td>58</td></tr><tr><td>573</td><td>cinccino</td><td>List(cute-charm, technician, skill-link)</td><td>165</td><td>5</td><td>Map(special-defense -> 60, defense -> 60, special-attack -> 65, attack -> 95, hp -> 75, speed -> 115)</td><td>List(normal)</td><td>75</td></tr><tr><td>574</td><td>gothita</td><td>List(frisk, competitive, shadow-tag)</td><td>58</td><td>4</td><td>Map(special-defense -> 65, defense -> 50, special-attack -> 55, attack -> 30, hp -> 45, speed -> 45)</td><td>List(psychic)</td><td>58</td></tr><tr><td>575</td><td>gothorita</td><td>List(frisk, competitive, shadow-tag)</td><td>137</td><td>7</td><td>Map(special-defense -> 85, defense -> 70, special-attack -> 75, attack -> 45, hp -> 60, speed -> 55)</td><td>List(psychic)</td><td>180</td></tr><tr><td>576</td><td>gothitelle</td><td>List(frisk, competitive, shadow-tag)</td><td>245</td><td>15</td><td>Map(special-defense -> 110, defense -> 95, special-attack -> 95, attack -> 55, hp -> 70, speed -> 65)</td><td>List(psychic)</td><td>440</td></tr><tr><td>577</td><td>solosis</td><td>List(overcoat, magic-guard, regenerator)</td><td>58</td><td>3</td><td>Map(special-defense -> 50, defense -> 40, special-attack -> 105, attack -> 30, hp -> 45, speed -> 20)</td><td>List(psychic)</td><td>10</td></tr><tr><td>578</td><td>duosion</td><td>List(overcoat, magic-guard, regenerator)</td><td>130</td><td>6</td><td>Map(special-defense -> 60, defense -> 50, special-attack -> 125, attack -> 40, hp -> 65, speed -> 30)</td><td>List(psychic)</td><td>80</td></tr><tr><td>579</td><td>reuniclus</td><td>List(overcoat, magic-guard, regenerator)</td><td>245</td><td>10</td><td>Map(special-defense -> 85, defense -> 75, special-attack -> 125, attack -> 65, hp -> 110, speed -> 30)</td><td>List(psychic)</td><td>201</td></tr><tr><td>580</td><td>ducklett</td><td>List(keen-eye, big-pecks, hydration)</td><td>61</td><td>5</td><td>Map(special-defense -> 50, defense -> 50, special-attack -> 44, attack -> 44, hp -> 62, speed -> 55)</td><td>List(water, flying)</td><td>55</td></tr><tr><td>581</td><td>swanna</td><td>List(keen-eye, big-pecks, hydration)</td><td>166</td><td>13</td><td>Map(special-defense -> 63, defense -> 63, special-attack -> 87, attack -> 87, hp -> 75, speed -> 98)</td><td>List(water, flying)</td><td>242</td></tr><tr><td>582</td><td>vanillite</td><td>List(ice-body, snow-cloak, weak-armor)</td><td>61</td><td>4</td><td>Map(special-defense -> 60, defense -> 50, special-attack -> 65, attack -> 50, hp -> 36, speed -> 44)</td><td>List(ice)</td><td>57</td></tr><tr><td>583</td><td>vanillish</td><td>List(ice-body, snow-cloak, weak-armor)</td><td>138</td><td>11</td><td>Map(special-defense -> 75, defense -> 65, special-attack -> 80, attack -> 65, hp -> 51, speed -> 59)</td><td>List(ice)</td><td>410</td></tr><tr><td>584</td><td>vanilluxe</td><td>List(ice-body, snow-warning, weak-armor)</td><td>268</td><td>13</td><td>Map(special-defense -> 95, defense -> 85, special-attack -> 110, attack -> 95, hp -> 71, speed -> 79)</td><td>List(ice)</td><td>575</td></tr><tr><td>585</td><td>deerling</td><td>List(chlorophyll, sap-sipper, serene-grace)</td><td>67</td><td>6</td><td>Map(special-defense -> 50, defense -> 50, special-attack -> 40, attack -> 60, hp -> 60, speed -> 75)</td><td>List(normal, grass)</td><td>195</td></tr><tr><td>586</td><td>sawsbuck</td><td>List(chlorophyll, sap-sipper, serene-grace)</td><td>166</td><td>19</td><td>Map(special-defense -> 70, defense -> 70, special-attack -> 60, attack -> 100, hp -> 80, speed -> 95)</td><td>List(normal, grass)</td><td>925</td></tr><tr><td>587</td><td>emolga</td><td>List(static, motor-drive)</td><td>150</td><td>4</td><td>Map(special-defense -> 60, defense -> 60, special-attack -> 75, attack -> 75, hp -> 55, speed -> 103)</td><td>List(electric, flying)</td><td>50</td></tr><tr><td>588</td><td>karrablast</td><td>List(swarm, shed-skin, no-guard)</td><td>63</td><td>5</td><td>Map(special-defense -> 45, defense -> 45, special-attack -> 40, attack -> 75, hp -> 50, speed -> 60)</td><td>List(bug)</td><td>59</td></tr><tr><td>589</td><td>escavalier</td><td>List(swarm, shell-armor, overcoat)</td><td>173</td><td>10</td><td>Map(special-defense -> 105, defense -> 105, special-attack -> 60, attack -> 135, hp -> 70, speed -> 20)</td><td>List(bug, steel)</td><td>330</td></tr><tr><td>590</td><td>foongus</td><td>List(effect-spore, regenerator)</td><td>59</td><td>2</td><td>Map(special-defense -> 55, defense -> 45, special-attack -> 55, attack -> 55, hp -> 69, speed -> 15)</td><td>List(grass, poison)</td><td>10</td></tr><tr><td>591</td><td>amoonguss</td><td>List(effect-spore, regenerator)</td><td>162</td><td>6</td><td>Map(special-defense -> 80, defense -> 70, special-attack -> 85, attack -> 85, hp -> 114, speed -> 30)</td><td>List(grass, poison)</td><td>105</td></tr><tr><td>592</td><td>frillish</td><td>List(water-absorb, cursed-body, damp)</td><td>67</td><td>12</td><td>Map(special-defense -> 85, defense -> 50, special-attack -> 65, attack -> 40, hp -> 55, speed -> 40)</td><td>List(water, ghost)</td><td>330</td></tr><tr><td>593</td><td>jellicent</td><td>List(water-absorb, cursed-body, damp)</td><td>168</td><td>22</td><td>Map(special-defense -> 105, defense -> 70, special-attack -> 85, attack -> 60, hp -> 100, speed -> 60)</td><td>List(water, ghost)</td><td>1350</td></tr><tr><td>594</td><td>alomomola</td><td>List(healer, hydration, regenerator)</td><td>165</td><td>12</td><td>Map(special-defense -> 45, defense -> 80, special-attack -> 40, attack -> 75, hp -> 165, speed -> 65)</td><td>List(water)</td><td>316</td></tr><tr><td>595</td><td>joltik</td><td>List(compound-eyes, unnerve, swarm)</td><td>64</td><td>1</td><td>Map(special-defense -> 50, defense -> 50, special-attack -> 57, attack -> 47, hp -> 50, speed -> 65)</td><td>List(bug, electric)</td><td>6</td></tr><tr><td>596</td><td>galvantula</td><td>List(compound-eyes, unnerve, swarm)</td><td>165</td><td>8</td><td>Map(special-defense -> 60, defense -> 60, special-attack -> 97, attack -> 77, hp -> 70, speed -> 108)</td><td>List(bug, electric)</td><td>143</td></tr><tr><td>597</td><td>ferroseed</td><td>List(iron-barbs)</td><td>61</td><td>6</td><td>Map(special-defense -> 86, defense -> 91, special-attack -> 24, attack -> 50, hp -> 44, speed -> 10)</td><td>List(grass, steel)</td><td>188</td></tr><tr><td>598</td><td>ferrothorn</td><td>List(iron-barbs, anticipation)</td><td>171</td><td>10</td><td>Map(special-defense -> 116, defense -> 131, special-attack -> 54, attack -> 94, hp -> 74, speed -> 20)</td><td>List(grass, steel)</td><td>1100</td></tr><tr><td>599</td><td>klink</td><td>List(plus, minus, clear-body)</td><td>60</td><td>3</td><td>Map(special-defense -> 60, defense -> 70, special-attack -> 45, attack -> 55, hp -> 40, speed -> 30)</td><td>List(steel)</td><td>210</td></tr><tr><td>600</td><td>klang</td><td>List(plus, minus, clear-body)</td><td>154</td><td>6</td><td>Map(special-defense -> 85, defense -> 95, special-attack -> 70, attack -> 80, hp -> 60, speed -> 50)</td><td>List(steel)</td><td>510</td></tr><tr><td>601</td><td>klinklang</td><td>List(plus, minus, clear-body)</td><td>260</td><td>6</td><td>Map(special-defense -> 85, defense -> 115, special-attack -> 70, attack -> 100, hp -> 60, speed -> 90)</td><td>List(steel)</td><td>810</td></tr><tr><td>602</td><td>tynamo</td><td>List(levitate)</td><td>55</td><td>2</td><td>Map(special-defense -> 40, defense -> 40, special-attack -> 45, attack -> 55, hp -> 35, speed -> 60)</td><td>List(electric)</td><td>3</td></tr><tr><td>603</td><td>eelektrik</td><td>List(levitate)</td><td>142</td><td>12</td><td>Map(special-defense -> 70, defense -> 70, special-attack -> 75, attack -> 85, hp -> 65, speed -> 40)</td><td>List(electric)</td><td>220</td></tr><tr><td>604</td><td>eelektross</td><td>List(levitate)</td><td>232</td><td>21</td><td>Map(special-defense -> 80, defense -> 80, special-attack -> 105, attack -> 115, hp -> 85, speed -> 50)</td><td>List(electric)</td><td>805</td></tr><tr><td>605</td><td>elgyem</td><td>List(telepathy, synchronize, analytic)</td><td>67</td><td>5</td><td>Map(special-defense -> 55, defense -> 55, special-attack -> 85, attack -> 55, hp -> 55, speed -> 30)</td><td>List(psychic)</td><td>90</td></tr><tr><td>606</td><td>beheeyem</td><td>List(telepathy, synchronize, analytic)</td><td>170</td><td>10</td><td>Map(special-defense -> 95, defense -> 75, special-attack -> 125, attack -> 75, hp -> 75, speed -> 40)</td><td>List(psychic)</td><td>345</td></tr><tr><td>607</td><td>litwick</td><td>List(flash-fire, flame-body, infiltrator)</td><td>55</td><td>3</td><td>Map(special-defense -> 55, defense -> 55, special-attack -> 65, attack -> 30, hp -> 50, speed -> 20)</td><td>List(ghost, fire)</td><td>31</td></tr><tr><td>608</td><td>lampent</td><td>List(flash-fire, flame-body, infiltrator)</td><td>130</td><td>6</td><td>Map(special-defense -> 60, defense -> 60, special-attack -> 95, attack -> 40, hp -> 60, speed -> 55)</td><td>List(ghost, fire)</td><td>130</td></tr><tr><td>609</td><td>chandelure</td><td>List(flash-fire, flame-body, infiltrator)</td><td>260</td><td>10</td><td>Map(special-defense -> 90, defense -> 90, special-attack -> 145, attack -> 55, hp -> 60, speed -> 80)</td><td>List(ghost, fire)</td><td>343</td></tr><tr><td>610</td><td>axew</td><td>List(rivalry, mold-breaker, unnerve)</td><td>64</td><td>6</td><td>Map(special-defense -> 40, defense -> 60, special-attack -> 30, attack -> 87, hp -> 46, speed -> 57)</td><td>List(dragon)</td><td>180</td></tr><tr><td>611</td><td>fraxure</td><td>List(rivalry, mold-breaker, unnerve)</td><td>144</td><td>10</td><td>Map(special-defense -> 50, defense -> 70, special-attack -> 40, attack -> 117, hp -> 66, speed -> 67)</td><td>List(dragon)</td><td>360</td></tr><tr><td>612</td><td>haxorus</td><td>List(rivalry, mold-breaker, unnerve)</td><td>270</td><td>18</td><td>Map(special-defense -> 70, defense -> 90, special-attack -> 60, attack -> 147, hp -> 76, speed -> 97)</td><td>List(dragon)</td><td>1055</td></tr><tr><td>613</td><td>cubchoo</td><td>List(snow-cloak, slush-rush, rattled)</td><td>61</td><td>5</td><td>Map(special-defense -> 40, defense -> 40, special-attack -> 60, attack -> 70, hp -> 55, speed -> 40)</td><td>List(ice)</td><td>85</td></tr><tr><td>614</td><td>beartic</td><td>List(snow-cloak, slush-rush, swift-swim)</td><td>177</td><td>26</td><td>Map(special-defense -> 80, defense -> 80, special-attack -> 70, attack -> 130, hp -> 95, speed -> 50)</td><td>List(ice)</td><td>2600</td></tr><tr><td>615</td><td>cryogonal</td><td>List(levitate)</td><td>180</td><td>11</td><td>Map(special-defense -> 135, defense -> 50, special-attack -> 95, attack -> 50, hp -> 80, speed -> 105)</td><td>List(ice)</td><td>1480</td></tr><tr><td>616</td><td>shelmet</td><td>List(hydration, shell-armor, overcoat)</td><td>61</td><td>4</td><td>Map(special-defense -> 65, defense -> 85, special-attack -> 40, attack -> 40, hp -> 50, speed -> 25)</td><td>List(bug)</td><td>77</td></tr><tr><td>617</td><td>accelgor</td><td>List(hydration, sticky-hold, unburden)</td><td>173</td><td>8</td><td>Map(special-defense -> 60, defense -> 40, special-attack -> 100, attack -> 70, hp -> 80, speed -> 145)</td><td>List(bug)</td><td>253</td></tr><tr><td>618</td><td>stunfisk</td><td>List(static, limber, sand-veil)</td><td>165</td><td>7</td><td>Map(special-defense -> 99, defense -> 84, special-attack -> 81, attack -> 66, hp -> 109, speed -> 32)</td><td>List(ground, electric)</td><td>110</td></tr><tr><td>619</td><td>mienfoo</td><td>List(inner-focus, regenerator, reckless)</td><td>70</td><td>9</td><td>Map(special-defense -> 50, defense -> 50, special-attack -> 55, attack -> 85, hp -> 45, speed -> 65)</td><td>List(fighting)</td><td>200</td></tr><tr><td>620</td><td>mienshao</td><td>List(inner-focus, regenerator, reckless)</td><td>179</td><td>14</td><td>Map(special-defense -> 60, defense -> 60, special-attack -> 95, attack -> 125, hp -> 65, speed -> 105)</td><td>List(fighting)</td><td>355</td></tr><tr><td>621</td><td>druddigon</td><td>List(rough-skin, sheer-force, mold-breaker)</td><td>170</td><td>16</td><td>Map(special-defense -> 90, defense -> 90, special-attack -> 60, attack -> 120, hp -> 77, speed -> 48)</td><td>List(dragon)</td><td>1390</td></tr><tr><td>622</td><td>golett</td><td>List(iron-fist, klutz, no-guard)</td><td>61</td><td>10</td><td>Map(special-defense -> 50, defense -> 50, special-attack -> 35, attack -> 74, hp -> 59, speed -> 35)</td><td>List(ground, ghost)</td><td>920</td></tr><tr><td>623</td><td>golurk</td><td>List(iron-fist, klutz, no-guard)</td><td>169</td><td>28</td><td>Map(special-defense -> 80, defense -> 80, special-attack -> 55, attack -> 124, hp -> 89, speed -> 55)</td><td>List(ground, ghost)</td><td>3300</td></tr><tr><td>624</td><td>pawniard</td><td>List(defiant, inner-focus, pressure)</td><td>68</td><td>5</td><td>Map(special-defense -> 40, defense -> 70, special-attack -> 40, attack -> 85, hp -> 45, speed -> 60)</td><td>List(dark, steel)</td><td>102</td></tr><tr><td>625</td><td>bisharp</td><td>List(defiant, inner-focus, pressure)</td><td>172</td><td>16</td><td>Map(special-defense -> 70, defense -> 100, special-attack -> 60, attack -> 125, hp -> 65, speed -> 70)</td><td>List(dark, steel)</td><td>700</td></tr><tr><td>626</td><td>bouffalant</td><td>List(reckless, sap-sipper, soundproof)</td><td>172</td><td>16</td><td>Map(special-defense -> 95, defense -> 95, special-attack -> 40, attack -> 110, hp -> 95, speed -> 55)</td><td>List(normal)</td><td>946</td></tr><tr><td>627</td><td>rufflet</td><td>List(keen-eye, sheer-force, hustle)</td><td>70</td><td>5</td><td>Map(special-defense -> 50, defense -> 50, special-attack -> 37, attack -> 83, hp -> 70, speed -> 60)</td><td>List(normal, flying)</td><td>105</td></tr><tr><td>628</td><td>braviary</td><td>List(keen-eye, sheer-force, defiant)</td><td>179</td><td>15</td><td>Map(special-defense -> 75, defense -> 75, special-attack -> 57, attack -> 123, hp -> 100, speed -> 80)</td><td>List(normal, flying)</td><td>410</td></tr><tr><td>629</td><td>vullaby</td><td>List(big-pecks, overcoat, weak-armor)</td><td>74</td><td>5</td><td>Map(special-defense -> 65, defense -> 75, special-attack -> 45, attack -> 55, hp -> 70, speed -> 60)</td><td>List(dark, flying)</td><td>90</td></tr><tr><td>630</td><td>mandibuzz</td><td>List(big-pecks, overcoat, weak-armor)</td><td>179</td><td>12</td><td>Map(special-defense -> 95, defense -> 105, special-attack -> 55, attack -> 65, hp -> 110, speed -> 80)</td><td>List(dark, flying)</td><td>395</td></tr><tr><td>631</td><td>heatmor</td><td>List(gluttony, flash-fire, white-smoke)</td><td>169</td><td>14</td><td>Map(special-defense -> 66, defense -> 66, special-attack -> 105, attack -> 97, hp -> 85, speed -> 65)</td><td>List(fire)</td><td>580</td></tr><tr><td>632</td><td>durant</td><td>List(swarm, hustle, truant)</td><td>169</td><td>3</td><td>Map(special-defense -> 48, defense -> 112, special-attack -> 48, attack -> 109, hp -> 58, speed -> 109)</td><td>List(bug, steel)</td><td>330</td></tr><tr><td>633</td><td>deino</td><td>List(hustle)</td><td>60</td><td>8</td><td>Map(special-defense -> 50, defense -> 50, special-attack -> 45, attack -> 65, hp -> 52, speed -> 38)</td><td>List(dark, dragon)</td><td>173</td></tr><tr><td>634</td><td>zweilous</td><td>List(hustle)</td><td>147</td><td>14</td><td>Map(special-defense -> 70, defense -> 70, special-attack -> 65, attack -> 85, hp -> 72, speed -> 58)</td><td>List(dark, dragon)</td><td>500</td></tr><tr><td>635</td><td>hydreigon</td><td>List(levitate)</td><td>300</td><td>18</td><td>Map(special-defense -> 90, defense -> 90, special-attack -> 125, attack -> 105, hp -> 92, speed -> 98)</td><td>List(dark, dragon)</td><td>1600</td></tr><tr><td>636</td><td>larvesta</td><td>List(flame-body, swarm)</td><td>72</td><td>11</td><td>Map(special-defense -> 55, defense -> 55, special-attack -> 50, attack -> 85, hp -> 55, speed -> 60)</td><td>List(bug, fire)</td><td>288</td></tr><tr><td>637</td><td>volcarona</td><td>List(flame-body, swarm)</td><td>275</td><td>16</td><td>Map(special-defense -> 105, defense -> 65, special-attack -> 135, attack -> 60, hp -> 85, speed -> 100)</td><td>List(bug, fire)</td><td>460</td></tr><tr><td>638</td><td>cobalion</td><td>List(justified)</td><td>290</td><td>21</td><td>Map(special-defense -> 72, defense -> 129, special-attack -> 90, attack -> 90, hp -> 91, speed -> 108)</td><td>List(steel, fighting)</td><td>2500</td></tr><tr><td>639</td><td>terrakion</td><td>List(justified)</td><td>290</td><td>19</td><td>Map(special-defense -> 90, defense -> 90, special-attack -> 72, attack -> 129, hp -> 91, speed -> 108)</td><td>List(rock, fighting)</td><td>2600</td></tr><tr><td>640</td><td>virizion</td><td>List(justified)</td><td>290</td><td>20</td><td>Map(special-defense -> 129, defense -> 72, special-attack -> 90, attack -> 90, hp -> 91, speed -> 108)</td><td>List(grass, fighting)</td><td>2000</td></tr><tr><td>641</td><td>tornadus-incarnate</td><td>List(prankster, defiant)</td><td>290</td><td>15</td><td>Map(special-defense -> 80, defense -> 70, special-attack -> 125, attack -> 115, hp -> 79, speed -> 111)</td><td>List(flying)</td><td>630</td></tr><tr><td>642</td><td>thundurus-incarnate</td><td>List(prankster, defiant)</td><td>290</td><td>15</td><td>Map(special-defense -> 80, defense -> 70, special-attack -> 125, attack -> 115, hp -> 79, speed -> 111)</td><td>List(electric, flying)</td><td>610</td></tr><tr><td>643</td><td>reshiram</td><td>List(turboblaze)</td><td>340</td><td>32</td><td>Map(special-defense -> 120, defense -> 100, special-attack -> 150, attack -> 120, hp -> 100, speed -> 90)</td><td>List(dragon, fire)</td><td>3300</td></tr><tr><td>644</td><td>zekrom</td><td>List(teravolt)</td><td>340</td><td>29</td><td>Map(special-defense -> 100, defense -> 120, special-attack -> 120, attack -> 150, hp -> 100, speed -> 90)</td><td>List(dragon, electric)</td><td>3450</td></tr><tr><td>645</td><td>landorus-incarnate</td><td>List(sand-force, sheer-force)</td><td>300</td><td>15</td><td>Map(special-defense -> 80, defense -> 90, special-attack -> 115, attack -> 125, hp -> 89, speed -> 101)</td><td>List(ground, flying)</td><td>680</td></tr><tr><td>646</td><td>kyurem</td><td>List(pressure)</td><td>330</td><td>30</td><td>Map(special-defense -> 90, defense -> 90, special-attack -> 130, attack -> 130, hp -> 125, speed -> 95)</td><td>List(dragon, ice)</td><td>3250</td></tr><tr><td>647</td><td>keldeo-ordinary</td><td>List(justified)</td><td>290</td><td>14</td><td>Map(special-defense -> 90, defense -> 90, special-attack -> 129, attack -> 72, hp -> 91, speed -> 108)</td><td>List(water, fighting)</td><td>485</td></tr><tr><td>648</td><td>meloetta-aria</td><td>List(serene-grace)</td><td>270</td><td>6</td><td>Map(special-defense -> 128, defense -> 77, special-attack -> 128, attack -> 77, hp -> 100, speed -> 90)</td><td>List(normal, psychic)</td><td>65</td></tr><tr><td>649</td><td>genesect</td><td>List(download)</td><td>300</td><td>15</td><td>Map(special-defense -> 95, defense -> 95, special-attack -> 120, attack -> 120, hp -> 71, speed -> 99)</td><td>List(bug, steel)</td><td>825</td></tr><tr><td>650</td><td>chespin</td><td>List(overgrow, bulletproof)</td><td>63</td><td>4</td><td>Map(special-defense -> 45, defense -> 65, special-attack -> 48, attack -> 61, hp -> 56, speed -> 38)</td><td>List(grass)</td><td>90</td></tr><tr><td>651</td><td>quilladin</td><td>List(overgrow, bulletproof)</td><td>142</td><td>7</td><td>Map(special-defense -> 58, defense -> 95, special-attack -> 56, attack -> 78, hp -> 61, speed -> 57)</td><td>List(grass)</td><td>290</td></tr><tr><td>652</td><td>chesnaught</td><td>List(overgrow, bulletproof)</td><td>239</td><td>16</td><td>Map(special-defense -> 75, defense -> 122, special-attack -> 74, attack -> 107, hp -> 88, speed -> 64)</td><td>List(grass, fighting)</td><td>900</td></tr><tr><td>653</td><td>fennekin</td><td>List(blaze, magician)</td><td>61</td><td>4</td><td>Map(special-defense -> 60, defense -> 40, special-attack -> 62, attack -> 45, hp -> 40, speed -> 60)</td><td>List(fire)</td><td>94</td></tr><tr><td>654</td><td>braixen</td><td>List(blaze, magician)</td><td>143</td><td>10</td><td>Map(special-defense -> 70, defense -> 58, special-attack -> 90, attack -> 59, hp -> 59, speed -> 73)</td><td>List(fire)</td><td>145</td></tr><tr><td>655</td><td>delphox</td><td>List(blaze, magician)</td><td>240</td><td>15</td><td>Map(special-defense -> 100, defense -> 72, special-attack -> 114, attack -> 69, hp -> 75, speed -> 104)</td><td>List(fire, psychic)</td><td>390</td></tr><tr><td>656</td><td>froakie</td><td>List(torrent, protean)</td><td>63</td><td>3</td><td>Map(special-defense -> 44, defense -> 40, special-attack -> 62, attack -> 56, hp -> 41, speed -> 71)</td><td>List(water)</td><td>70</td></tr><tr><td>657</td><td>frogadier</td><td>List(torrent, protean)</td><td>142</td><td>6</td><td>Map(special-defense -> 56, defense -> 52, special-attack -> 83, attack -> 63, hp -> 54, speed -> 97)</td><td>List(water)</td><td>109</td></tr><tr><td>658</td><td>greninja</td><td>List(torrent, protean)</td><td>239</td><td>15</td><td>Map(special-defense -> 71, defense -> 67, special-attack -> 103, attack -> 95, hp -> 72, speed -> 122)</td><td>List(water, dark)</td><td>400</td></tr><tr><td>659</td><td>bunnelby</td><td>List(pickup, cheek-pouch, huge-power)</td><td>47</td><td>4</td><td>Map(special-defense -> 36, defense -> 38, special-attack -> 32, attack -> 36, hp -> 38, speed -> 57)</td><td>List(normal)</td><td>50</td></tr><tr><td>660</td><td>diggersby</td><td>List(pickup, cheek-pouch, huge-power)</td><td>148</td><td>10</td><td>Map(special-defense -> 77, defense -> 77, special-attack -> 50, attack -> 56, hp -> 85, speed -> 78)</td><td>List(normal, ground)</td><td>424</td></tr><tr><td>661</td><td>fletchling</td><td>List(big-pecks, gale-wings)</td><td>56</td><td>3</td><td>Map(special-defense -> 38, defense -> 43, special-attack -> 40, attack -> 50, hp -> 45, speed -> 62)</td><td>List(normal, flying)</td><td>17</td></tr><tr><td>662</td><td>fletchinder</td><td>List(flame-body, gale-wings)</td><td>134</td><td>7</td><td>Map(special-defense -> 52, defense -> 55, special-attack -> 56, attack -> 73, hp -> 62, speed -> 84)</td><td>List(fire, flying)</td><td>160</td></tr><tr><td>663</td><td>talonflame</td><td>List(flame-body, gale-wings)</td><td>175</td><td>12</td><td>Map(special-defense -> 69, defense -> 71, special-attack -> 74, attack -> 81, hp -> 78, speed -> 126)</td><td>List(fire, flying)</td><td>245</td></tr><tr><td>664</td><td>scatterbug</td><td>List(shield-dust, compound-eyes, friend-guard)</td><td>40</td><td>3</td><td>Map(special-defense -> 25, defense -> 40, special-attack -> 27, attack -> 35, hp -> 38, speed -> 35)</td><td>List(bug)</td><td>25</td></tr><tr><td>665</td><td>spewpa</td><td>List(shed-skin, friend-guard)</td><td>75</td><td>3</td><td>Map(special-defense -> 30, defense -> 60, special-attack -> 27, attack -> 22, hp -> 45, speed -> 29)</td><td>List(bug)</td><td>84</td></tr><tr><td>666</td><td>vivillon</td><td>List(shield-dust, compound-eyes, friend-guard)</td><td>185</td><td>12</td><td>Map(special-defense -> 50, defense -> 50, special-attack -> 90, attack -> 52, hp -> 80, speed -> 89)</td><td>List(bug, flying)</td><td>170</td></tr><tr><td>667</td><td>litleo</td><td>List(rivalry, unnerve, moxie)</td><td>74</td><td>6</td><td>Map(special-defense -> 54, defense -> 58, special-attack -> 73, attack -> 50, hp -> 62, speed -> 72)</td><td>List(fire, normal)</td><td>135</td></tr><tr><td>668</td><td>pyroar</td><td>List(rivalry, unnerve, moxie)</td><td>177</td><td>15</td><td>Map(special-defense -> 66, defense -> 72, special-attack -> 109, attack -> 68, hp -> 86, speed -> 106)</td><td>List(fire, normal)</td><td>815</td></tr><tr><td>669</td><td>flabebe</td><td>List(flower-veil, symbiosis)</td><td>61</td><td>1</td><td>Map(special-defense -> 79, defense -> 39, special-attack -> 61, attack -> 38, hp -> 44, speed -> 42)</td><td>List(fairy)</td><td>1</td></tr><tr><td>670</td><td>floette</td><td>List(flower-veil, symbiosis)</td><td>130</td><td>2</td><td>Map(special-defense -> 98, defense -> 47, special-attack -> 75, attack -> 45, hp -> 54, speed -> 52)</td><td>List(fairy)</td><td>9</td></tr><tr><td>671</td><td>florges</td><td>List(flower-veil, symbiosis)</td><td>248</td><td>11</td><td>Map(special-defense -> 154, defense -> 68, special-attack -> 112, attack -> 65, hp -> 78, speed -> 75)</td><td>List(fairy)</td><td>100</td></tr><tr><td>672</td><td>skiddo</td><td>List(sap-sipper, grass-pelt)</td><td>70</td><td>9</td><td>Map(special-defense -> 57, defense -> 48, special-attack -> 62, attack -> 65, hp -> 66, speed -> 52)</td><td>List(grass)</td><td>310</td></tr><tr><td>673</td><td>gogoat</td><td>List(sap-sipper, grass-pelt)</td><td>186</td><td>17</td><td>Map(special-defense -> 81, defense -> 62, special-attack -> 97, attack -> 100, hp -> 123, speed -> 68)</td><td>List(grass)</td><td>910</td></tr><tr><td>674</td><td>pancham</td><td>List(iron-fist, mold-breaker, scrappy)</td><td>70</td><td>6</td><td>Map(special-defense -> 48, defense -> 62, special-attack -> 46, attack -> 82, hp -> 67, speed -> 43)</td><td>List(fighting)</td><td>80</td></tr><tr><td>675</td><td>pangoro</td><td>List(iron-fist, mold-breaker, scrappy)</td><td>173</td><td>21</td><td>Map(special-defense -> 71, defense -> 78, special-attack -> 69, attack -> 124, hp -> 95, speed -> 58)</td><td>List(fighting, dark)</td><td>1360</td></tr><tr><td>676</td><td>furfrou</td><td>List(fur-coat)</td><td>165</td><td>12</td><td>Map(special-defense -> 90, defense -> 60, special-attack -> 65, attack -> 80, hp -> 75, speed -> 102)</td><td>List(normal)</td><td>280</td></tr><tr><td>677</td><td>espurr</td><td>List(keen-eye, infiltrator, own-tempo)</td><td>71</td><td>3</td><td>Map(special-defense -> 60, defense -> 54, special-attack -> 63, attack -> 48, hp -> 62, speed -> 68)</td><td>List(psychic)</td><td>35</td></tr><tr><td>678</td><td>meowstic-male</td><td>List(keen-eye, infiltrator, prankster)</td><td>163</td><td>6</td><td>Map(special-defense -> 81, defense -> 76, special-attack -> 83, attack -> 48, hp -> 74, speed -> 104)</td><td>List(psychic)</td><td>85</td></tr><tr><td>679</td><td>honedge</td><td>List(no-guard)</td><td>65</td><td>8</td><td>Map(special-defense -> 37, defense -> 100, special-attack -> 35, attack -> 80, hp -> 45, speed -> 28)</td><td>List(steel, ghost)</td><td>20</td></tr><tr><td>680</td><td>doublade</td><td>List(no-guard)</td><td>157</td><td>8</td><td>Map(special-defense -> 49, defense -> 150, special-attack -> 45, attack -> 110, hp -> 59, speed -> 35)</td><td>List(steel, ghost)</td><td>45</td></tr><tr><td>681</td><td>aegislash-shield</td><td>List(stance-change)</td><td>250</td><td>17</td><td>Map(special-defense -> 140, defense -> 140, special-attack -> 50, attack -> 50, hp -> 60, speed -> 60)</td><td>List(steel, ghost)</td><td>530</td></tr><tr><td>682</td><td>spritzee</td><td>List(healer, aroma-veil)</td><td>68</td><td>2</td><td>Map(special-defense -> 65, defense -> 60, special-attack -> 63, attack -> 52, hp -> 78, speed -> 23)</td><td>List(fairy)</td><td>5</td></tr><tr><td>683</td><td>aromatisse</td><td>List(healer, aroma-veil)</td><td>162</td><td>8</td><td>Map(special-defense -> 89, defense -> 72, special-attack -> 99, attack -> 72, hp -> 101, speed -> 29)</td><td>List(fairy)</td><td>155</td></tr><tr><td>684</td><td>swirlix</td><td>List(sweet-veil, unburden)</td><td>68</td><td>4</td><td>Map(special-defense -> 57, defense -> 66, special-attack -> 59, attack -> 48, hp -> 62, speed -> 49)</td><td>List(fairy)</td><td>35</td></tr><tr><td>685</td><td>slurpuff</td><td>List(sweet-veil, unburden)</td><td>168</td><td>8</td><td>Map(special-defense -> 75, defense -> 86, special-attack -> 85, attack -> 80, hp -> 82, speed -> 72)</td><td>List(fairy)</td><td>50</td></tr><tr><td>686</td><td>inkay</td><td>List(contrary, suction-cups, infiltrator)</td><td>58</td><td>4</td><td>Map(special-defense -> 46, defense -> 53, special-attack -> 37, attack -> 54, hp -> 53, speed -> 45)</td><td>List(dark, psychic)</td><td>35</td></tr><tr><td>687</td><td>malamar</td><td>List(contrary, suction-cups, infiltrator)</td><td>169</td><td>15</td><td>Map(special-defense -> 75, defense -> 88, special-attack -> 68, attack -> 92, hp -> 86, speed -> 73)</td><td>List(dark, psychic)</td><td>470</td></tr><tr><td>688</td><td>binacle</td><td>List(tough-claws, sniper, pickpocket)</td><td>61</td><td>5</td><td>Map(special-defense -> 56, defense -> 67, special-attack -> 39, attack -> 52, hp -> 42, speed -> 50)</td><td>List(rock, water)</td><td>310</td></tr><tr><td>689</td><td>barbaracle</td><td>List(tough-claws, sniper, pickpocket)</td><td>175</td><td>13</td><td>Map(special-defense -> 86, defense -> 115, special-attack -> 54, attack -> 105, hp -> 72, speed -> 68)</td><td>List(rock, water)</td><td>960</td></tr><tr><td>690</td><td>skrelp</td><td>List(poison-point, poison-touch, adaptability)</td><td>64</td><td>5</td><td>Map(special-defense -> 60, defense -> 60, special-attack -> 60, attack -> 60, hp -> 50, speed -> 30)</td><td>List(poison, water)</td><td>73</td></tr><tr><td>691</td><td>dragalge</td><td>List(poison-point, poison-touch, adaptability)</td><td>173</td><td>18</td><td>Map(special-defense -> 123, defense -> 90, special-attack -> 97, attack -> 75, hp -> 65, speed -> 44)</td><td>List(poison, dragon)</td><td>815</td></tr><tr><td>692</td><td>clauncher</td><td>List(mega-launcher)</td><td>66</td><td>5</td><td>Map(special-defense -> 63, defense -> 62, special-attack -> 58, attack -> 53, hp -> 50, speed -> 44)</td><td>List(water)</td><td>83</td></tr><tr><td>693</td><td>clawitzer</td><td>List(mega-launcher)</td><td>100</td><td>13</td><td>Map(special-defense -> 89, defense -> 88, special-attack -> 120, attack -> 73, hp -> 71, speed -> 59)</td><td>List(water)</td><td>353</td></tr><tr><td>694</td><td>helioptile</td><td>List(dry-skin, sand-veil, solar-power)</td><td>58</td><td>5</td><td>Map(special-defense -> 43, defense -> 33, special-attack -> 61, attack -> 38, hp -> 44, speed -> 70)</td><td>List(electric, normal)</td><td>60</td></tr><tr><td>695</td><td>heliolisk</td><td>List(dry-skin, sand-veil, solar-power)</td><td>168</td><td>10</td><td>Map(special-defense -> 94, defense -> 52, special-attack -> 109, attack -> 55, hp -> 62, speed -> 109)</td><td>List(electric, normal)</td><td>210</td></tr><tr><td>696</td><td>tyrunt</td><td>List(strong-jaw, sturdy)</td><td>72</td><td>8</td><td>Map(special-defense -> 45, defense -> 77, special-attack -> 45, attack -> 89, hp -> 58, speed -> 48)</td><td>List(rock, dragon)</td><td>260</td></tr><tr><td>697</td><td>tyrantrum</td><td>List(strong-jaw, rock-head)</td><td>182</td><td>25</td><td>Map(special-defense -> 59, defense -> 119, special-attack -> 69, attack -> 121, hp -> 82, speed -> 71)</td><td>List(rock, dragon)</td><td>2700</td></tr><tr><td>698</td><td>amaura</td><td>List(refrigerate, snow-warning)</td><td>72</td><td>13</td><td>Map(special-defense -> 63, defense -> 50, special-attack -> 67, attack -> 59, hp -> 77, speed -> 46)</td><td>List(rock, ice)</td><td>252</td></tr><tr><td>699</td><td>aurorus</td><td>List(refrigerate, snow-warning)</td><td>104</td><td>27</td><td>Map(special-defense -> 92, defense -> 72, special-attack -> 99, attack -> 77, hp -> 123, speed -> 58)</td><td>List(rock, ice)</td><td>2250</td></tr><tr><td>700</td><td>sylveon</td><td>List(cute-charm, pixilate)</td><td>184</td><td>10</td><td>Map(special-defense -> 130, defense -> 65, special-attack -> 110, attack -> 65, hp -> 95, speed -> 60)</td><td>List(fairy)</td><td>235</td></tr><tr><td>701</td><td>hawlucha</td><td>List(limber, unburden, mold-breaker)</td><td>175</td><td>8</td><td>Map(special-defense -> 63, defense -> 75, special-attack -> 74, attack -> 92, hp -> 78, speed -> 118)</td><td>List(fighting, flying)</td><td>215</td></tr><tr><td>702</td><td>dedenne</td><td>List(cheek-pouch, pickup, plus)</td><td>151</td><td>2</td><td>Map(special-defense -> 67, defense -> 57, special-attack -> 81, attack -> 58, hp -> 67, speed -> 101)</td><td>List(electric, fairy)</td><td>22</td></tr><tr><td>703</td><td>carbink</td><td>List(clear-body, sturdy)</td><td>100</td><td>3</td><td>Map(special-defense -> 150, defense -> 150, special-attack -> 50, attack -> 50, hp -> 50, speed -> 50)</td><td>List(rock, fairy)</td><td>57</td></tr><tr><td>704</td><td>goomy</td><td>List(sap-sipper, hydration, gooey)</td><td>60</td><td>3</td><td>Map(special-defense -> 75, defense -> 35, special-attack -> 55, attack -> 50, hp -> 45, speed -> 40)</td><td>List(dragon)</td><td>28</td></tr><tr><td>705</td><td>sliggoo</td><td>List(sap-sipper, hydration, gooey)</td><td>158</td><td>8</td><td>Map(special-defense -> 113, defense -> 53, special-attack -> 83, attack -> 75, hp -> 68, speed -> 60)</td><td>List(dragon)</td><td>175</td></tr><tr><td>706</td><td>goodra</td><td>List(sap-sipper, hydration, gooey)</td><td>300</td><td>20</td><td>Map(special-defense -> 150, defense -> 70, special-attack -> 110, attack -> 100, hp -> 90, speed -> 80)</td><td>List(dragon)</td><td>1505</td></tr><tr><td>707</td><td>klefki</td><td>List(prankster, magician)</td><td>165</td><td>2</td><td>Map(special-defense -> 87, defense -> 91, special-attack -> 80, attack -> 80, hp -> 57, speed -> 75)</td><td>List(steel, fairy)</td><td>30</td></tr><tr><td>708</td><td>phantump</td><td>List(natural-cure, frisk, harvest)</td><td>62</td><td>4</td><td>Map(special-defense -> 60, defense -> 48, special-attack -> 50, attack -> 70, hp -> 43, speed -> 38)</td><td>List(ghost, grass)</td><td>70</td></tr><tr><td>709</td><td>trevenant</td><td>List(natural-cure, frisk, harvest)</td><td>166</td><td>15</td><td>Map(special-defense -> 82, defense -> 76, special-attack -> 65, attack -> 110, hp -> 85, speed -> 56)</td><td>List(ghost, grass)</td><td>710</td></tr><tr><td>710</td><td>pumpkaboo-average</td><td>List(pickup, frisk, insomnia)</td><td>67</td><td>4</td><td>Map(special-defense -> 55, defense -> 70, special-attack -> 44, attack -> 66, hp -> 49, speed -> 51)</td><td>List(ghost, grass)</td><td>50</td></tr><tr><td>711</td><td>gourgeist-average</td><td>List(pickup, frisk, insomnia)</td><td>173</td><td>9</td><td>Map(special-defense -> 75, defense -> 122, special-attack -> 58, attack -> 90, hp -> 65, speed -> 84)</td><td>List(ghost, grass)</td><td>125</td></tr><tr><td>712</td><td>bergmite</td><td>List(own-tempo, ice-body, sturdy)</td><td>61</td><td>10</td><td>Map(special-defense -> 35, defense -> 85, special-attack -> 32, attack -> 69, hp -> 55, speed -> 28)</td><td>List(ice)</td><td>995</td></tr><tr><td>713</td><td>avalugg</td><td>List(own-tempo, ice-body, sturdy)</td><td>180</td><td>20</td><td>Map(special-defense -> 46, defense -> 184, special-attack -> 44, attack -> 117, hp -> 95, speed -> 28)</td><td>List(ice)</td><td>5050</td></tr><tr><td>714</td><td>noibat</td><td>List(frisk, infiltrator, telepathy)</td><td>49</td><td>5</td><td>Map(special-defense -> 40, defense -> 35, special-attack -> 45, attack -> 30, hp -> 40, speed -> 55)</td><td>List(flying, dragon)</td><td>80</td></tr><tr><td>715</td><td>noivern</td><td>List(frisk, infiltrator, telepathy)</td><td>187</td><td>15</td><td>Map(special-defense -> 80, defense -> 80, special-attack -> 97, attack -> 70, hp -> 85, speed -> 123)</td><td>List(flying, dragon)</td><td>850</td></tr><tr><td>716</td><td>xerneas</td><td>List(fairy-aura)</td><td>340</td><td>30</td><td>Map(special-defense -> 98, defense -> 95, special-attack -> 131, attack -> 131, hp -> 126, speed -> 99)</td><td>List(fairy)</td><td>2150</td></tr><tr><td>717</td><td>yveltal</td><td>List(dark-aura)</td><td>340</td><td>58</td><td>Map(special-defense -> 98, defense -> 95, special-attack -> 131, attack -> 131, hp -> 126, speed -> 99)</td><td>List(dark, flying)</td><td>2030</td></tr><tr><td>718</td><td>zygarde-50</td><td>List(aura-break)</td><td>300</td><td>50</td><td>Map(special-defense -> 95, defense -> 121, special-attack -> 81, attack -> 100, hp -> 108, speed -> 95)</td><td>List(dragon, ground)</td><td>3050</td></tr><tr><td>719</td><td>diancie</td><td>List(clear-body)</td><td>300</td><td>7</td><td>Map(special-defense -> 150, defense -> 150, special-attack -> 100, attack -> 100, hp -> 50, speed -> 50)</td><td>List(rock, fairy)</td><td>88</td></tr><tr><td>720</td><td>hoopa</td><td>List(magician)</td><td>270</td><td>5</td><td>Map(special-defense -> 130, defense -> 60, special-attack -> 150, attack -> 110, hp -> 80, speed -> 70)</td><td>List(psychic, ghost)</td><td>90</td></tr><tr><td>721</td><td>volcanion</td><td>List(water-absorb)</td><td>300</td><td>17</td><td>Map(special-defense -> 90, defense -> 120, special-attack -> 130, attack -> 110, hp -> 80, speed -> 70)</td><td>List(fire, water)</td><td>1950</td></tr><tr><td>722</td><td>rowlet</td><td>List(overgrow, long-reach)</td><td>64</td><td>3</td><td>Map(special-defense -> 50, defense -> 55, special-attack -> 50, attack -> 55, hp -> 68, speed -> 42)</td><td>List(grass, flying)</td><td>15</td></tr><tr><td>723</td><td>dartrix</td><td>List(overgrow, long-reach)</td><td>147</td><td>7</td><td>Map(special-defense -> 70, defense -> 75, special-attack -> 70, attack -> 75, hp -> 78, speed -> 52)</td><td>List(grass, flying)</td><td>160</td></tr><tr><td>724</td><td>decidueye</td><td>List(overgrow, long-reach)</td><td>265</td><td>16</td><td>Map(special-defense -> 100, defense -> 75, special-attack -> 100, attack -> 107, hp -> 78, speed -> 70)</td><td>List(grass, ghost)</td><td>366</td></tr><tr><td>725</td><td>litten</td><td>List(blaze, intimidate)</td><td>64</td><td>4</td><td>Map(special-defense -> 40, defense -> 40, special-attack -> 60, attack -> 65, hp -> 45, speed -> 70)</td><td>List(fire)</td><td>43</td></tr><tr><td>726</td><td>torracat</td><td>List(blaze, intimidate)</td><td>147</td><td>7</td><td>Map(special-defense -> 50, defense -> 50, special-attack -> 80, attack -> 85, hp -> 65, speed -> 90)</td><td>List(fire)</td><td>250</td></tr><tr><td>727</td><td>incineroar</td><td>List(blaze, intimidate)</td><td>265</td><td>18</td><td>Map(special-defense -> 90, defense -> 90, special-attack -> 80, attack -> 115, hp -> 95, speed -> 60)</td><td>List(fire, dark)</td><td>830</td></tr><tr><td>728</td><td>popplio</td><td>List(torrent, liquid-voice)</td><td>64</td><td>4</td><td>Map(special-defense -> 56, defense -> 54, special-attack -> 66, attack -> 54, hp -> 50, speed -> 40)</td><td>List(water)</td><td>75</td></tr><tr><td>729</td><td>brionne</td><td>List(torrent, liquid-voice)</td><td>147</td><td>6</td><td>Map(special-defense -> 81, defense -> 69, special-attack -> 91, attack -> 69, hp -> 60, speed -> 50)</td><td>List(water)</td><td>175</td></tr><tr><td>730</td><td>primarina</td><td>List(torrent, liquid-voice)</td><td>265</td><td>18</td><td>Map(special-defense -> 116, defense -> 74, special-attack -> 126, attack -> 74, hp -> 80, speed -> 60)</td><td>List(water, fairy)</td><td>440</td></tr><tr><td>731</td><td>pikipek</td><td>List(keen-eye, skill-link, pickup)</td><td>53</td><td>3</td><td>Map(special-defense -> 30, defense -> 30, special-attack -> 30, attack -> 75, hp -> 35, speed -> 65)</td><td>List(normal, flying)</td><td>12</td></tr><tr><td>732</td><td>trumbeak</td><td>List(keen-eye, skill-link, pickup)</td><td>124</td><td>6</td><td>Map(special-defense -> 50, defense -> 50, special-attack -> 40, attack -> 85, hp -> 55, speed -> 75)</td><td>List(normal, flying)</td><td>148</td></tr><tr><td>733</td><td>toucannon</td><td>List(keen-eye, skill-link, sheer-force)</td><td>218</td><td>11</td><td>Map(special-defense -> 75, defense -> 75, special-attack -> 75, attack -> 120, hp -> 80, speed -> 60)</td><td>List(normal, flying)</td><td>260</td></tr><tr><td>734</td><td>yungoos</td><td>List(stakeout, strong-jaw, adaptability)</td><td>51</td><td>4</td><td>Map(special-defense -> 30, defense -> 30, special-attack -> 30, attack -> 70, hp -> 48, speed -> 45)</td><td>List(normal)</td><td>60</td></tr><tr><td>735</td><td>gumshoos</td><td>List(stakeout, strong-jaw, adaptability)</td><td>146</td><td>7</td><td>Map(special-defense -> 60, defense -> 60, special-attack -> 55, attack -> 110, hp -> 88, speed -> 45)</td><td>List(normal)</td><td>142</td></tr><tr><td>736</td><td>grubbin</td><td>List(swarm)</td><td>60</td><td>4</td><td>Map(special-defense -> 45, defense -> 45, special-attack -> 55, attack -> 62, hp -> 47, speed -> 46)</td><td>List(bug)</td><td>44</td></tr><tr><td>737</td><td>charjabug</td><td>List(battery)</td><td>140</td><td>5</td><td>Map(special-defense -> 75, defense -> 95, special-attack -> 55, attack -> 82, hp -> 57, speed -> 36)</td><td>List(bug, electric)</td><td>105</td></tr><tr><td>738</td><td>vikavolt</td><td>List(levitate)</td><td>250</td><td>15</td><td>Map(special-defense -> 75, defense -> 90, special-attack -> 145, attack -> 70, hp -> 77, speed -> 43)</td><td>List(bug, electric)</td><td>450</td></tr><tr><td>739</td><td>crabrawler</td><td>List(hyper-cutter, iron-fist, anger-point)</td><td>68</td><td>6</td><td>Map(special-defense -> 47, defense -> 57, special-attack -> 42, attack -> 82, hp -> 47, speed -> 63)</td><td>List(fighting)</td><td>70</td></tr><tr><td>740</td><td>crabominable</td><td>List(hyper-cutter, iron-fist, anger-point)</td><td>167</td><td>17</td><td>Map(special-defense -> 67, defense -> 77, special-attack -> 62, attack -> 132, hp -> 97, speed -> 43)</td><td>List(fighting, ice)</td><td>1800</td></tr><tr><td>741</td><td>oricorio-baile</td><td>List(dancer)</td><td>167</td><td>6</td><td>Map(special-defense -> 70, defense -> 70, special-attack -> 98, attack -> 70, hp -> 75, speed -> 93)</td><td>List(fire, flying)</td><td>34</td></tr><tr><td>742</td><td>cutiefly</td><td>List(honey-gather, shield-dust, sweet-veil)</td><td>61</td><td>1</td><td>Map(special-defense -> 40, defense -> 40, special-attack -> 55, attack -> 45, hp -> 40, speed -> 84)</td><td>List(bug, fairy)</td><td>2</td></tr><tr><td>743</td><td>ribombee</td><td>List(honey-gather, shield-dust, sweet-veil)</td><td>162</td><td>2</td><td>Map(special-defense -> 70, defense -> 60, special-attack -> 95, attack -> 55, hp -> 60, speed -> 124)</td><td>List(bug, fairy)</td><td>5</td></tr><tr><td>744</td><td>rockruff</td><td>List(keen-eye, vital-spirit, steadfast)</td><td>56</td><td>5</td><td>Map(special-defense -> 40, defense -> 40, special-attack -> 30, attack -> 65, hp -> 45, speed -> 60)</td><td>List(rock)</td><td>92</td></tr><tr><td>745</td><td>lycanroc-midday</td><td>List(keen-eye, sand-rush, steadfast)</td><td>170</td><td>8</td><td>Map(special-defense -> 65, defense -> 65, special-attack -> 55, attack -> 115, hp -> 75, speed -> 112)</td><td>List(rock)</td><td>250</td></tr><tr><td>746</td><td>wishiwashi-solo</td><td>List(schooling)</td><td>61</td><td>2</td><td>Map(special-defense -> 25, defense -> 20, special-attack -> 25, attack -> 20, hp -> 45, speed -> 40)</td><td>List(water)</td><td>3</td></tr><tr><td>747</td><td>mareanie</td><td>List(merciless, limber, regenerator)</td><td>61</td><td>4</td><td>Map(special-defense -> 52, defense -> 62, special-attack -> 43, attack -> 53, hp -> 50, speed -> 45)</td><td>List(poison, water)</td><td>80</td></tr><tr><td>748</td><td>toxapex</td><td>List(merciless, limber, regenerator)</td><td>173</td><td>7</td><td>Map(special-defense -> 142, defense -> 152, special-attack -> 53, attack -> 63, hp -> 50, speed -> 35)</td><td>List(poison, water)</td><td>145</td></tr><tr><td>749</td><td>mudbray</td><td>List(own-tempo, stamina, inner-focus)</td><td>77</td><td>10</td><td>Map(special-defense -> 55, defense -> 70, special-attack -> 45, attack -> 100, hp -> 70, speed -> 45)</td><td>List(ground)</td><td>1100</td></tr><tr><td>750</td><td>mudsdale</td><td>List(own-tempo, stamina, inner-focus)</td><td>175</td><td>25</td><td>Map(special-defense -> 85, defense -> 100, special-attack -> 55, attack -> 125, hp -> 100, speed -> 35)</td><td>List(ground)</td><td>9200</td></tr><tr><td>751</td><td>dewpider</td><td>List(water-bubble, water-absorb)</td><td>54</td><td>3</td><td>Map(special-defense -> 72, defense -> 52, special-attack -> 40, attack -> 40, hp -> 38, speed -> 27)</td><td>List(water, bug)</td><td>40</td></tr><tr><td>752</td><td>araquanid</td><td>List(water-bubble, water-absorb)</td><td>159</td><td>18</td><td>Map(special-defense -> 132, defense -> 92, special-attack -> 50, attack -> 70, hp -> 68, speed -> 42)</td><td>List(water, bug)</td><td>820</td></tr><tr><td>753</td><td>fomantis</td><td>List(leaf-guard, contrary)</td><td>50</td><td>3</td><td>Map(special-defense -> 35, defense -> 35, special-attack -> 50, attack -> 55, hp -> 40, speed -> 35)</td><td>List(grass)</td><td>15</td></tr><tr><td>754</td><td>lurantis</td><td>List(leaf-guard, contrary)</td><td>168</td><td>9</td><td>Map(special-defense -> 90, defense -> 90, special-attack -> 80, attack -> 105, hp -> 70, speed -> 45)</td><td>List(grass)</td><td>185</td></tr><tr><td>755</td><td>morelull</td><td>List(illuminate, effect-spore, rain-dish)</td><td>57</td><td>2</td><td>Map(special-defense -> 75, defense -> 55, special-attack -> 65, attack -> 35, hp -> 40, speed -> 15)</td><td>List(grass, fairy)</td><td>15</td></tr><tr><td>756</td><td>shiinotic</td><td>List(illuminate, effect-spore, rain-dish)</td><td>142</td><td>10</td><td>Map(special-defense -> 100, defense -> 80, special-attack -> 90, attack -> 45, hp -> 60, speed -> 30)</td><td>List(grass, fairy)</td><td>115</td></tr><tr><td>757</td><td>salandit</td><td>List(corrosion, oblivious)</td><td>64</td><td>6</td><td>Map(special-defense -> 40, defense -> 40, special-attack -> 71, attack -> 44, hp -> 48, speed -> 77)</td><td>List(poison, fire)</td><td>48</td></tr><tr><td>758</td><td>salazzle</td><td>List(corrosion, oblivious)</td><td>168</td><td>12</td><td>Map(special-defense -> 60, defense -> 60, special-attack -> 111, attack -> 64, hp -> 68, speed -> 117)</td><td>List(poison, fire)</td><td>222</td></tr><tr><td>759</td><td>stufful</td><td>List(fluffy, klutz, cute-charm)</td><td>68</td><td>5</td><td>Map(special-defense -> 50, defense -> 50, special-attack -> 45, attack -> 75, hp -> 70, speed -> 50)</td><td>List(normal, fighting)</td><td>68</td></tr><tr><td>760</td><td>bewear</td><td>List(fluffy, klutz, unnerve)</td><td>175</td><td>21</td><td>Map(special-defense -> 60, defense -> 80, special-attack -> 55, attack -> 125, hp -> 120, speed -> 60)</td><td>List(normal, fighting)</td><td>1350</td></tr><tr><td>761</td><td>bounsweet</td><td>List(leaf-guard, oblivious, sweet-veil)</td><td>42</td><td>3</td><td>Map(special-defense -> 38, defense -> 38, special-attack -> 30, attack -> 30, hp -> 42, speed -> 32)</td><td>List(grass)</td><td>32</td></tr><tr><td>762</td><td>steenee</td><td>List(leaf-guard, oblivious, sweet-veil)</td><td>102</td><td>7</td><td>Map(special-defense -> 48, defense -> 48, special-attack -> 40, attack -> 40, hp -> 52, speed -> 62)</td><td>List(grass)</td><td>82</td></tr><tr><td>763</td><td>tsareena</td><td>List(leaf-guard, queenly-majesty, sweet-veil)</td><td>255</td><td>12</td><td>Map(special-defense -> 98, defense -> 98, special-attack -> 50, attack -> 120, hp -> 72, speed -> 72)</td><td>List(grass)</td><td>214</td></tr><tr><td>764</td><td>comfey</td><td>List(flower-veil, triage, natural-cure)</td><td>170</td><td>1</td><td>Map(special-defense -> 110, defense -> 90, special-attack -> 82, attack -> 52, hp -> 51, speed -> 100)</td><td>List(fairy)</td><td>3</td></tr><tr><td>765</td><td>oranguru</td><td>List(inner-focus, telepathy, symbiosis)</td><td>172</td><td>15</td><td>Map(special-defense -> 110, defense -> 80, special-attack -> 90, attack -> 60, hp -> 90, speed -> 60)</td><td>List(normal, psychic)</td><td>760</td></tr><tr><td>766</td><td>passimian</td><td>List(receiver, defiant)</td><td>172</td><td>20</td><td>Map(special-defense -> 60, defense -> 90, special-attack -> 40, attack -> 120, hp -> 100, speed -> 80)</td><td>List(fighting)</td><td>828</td></tr><tr><td>767</td><td>wimpod</td><td>List(wimp-out)</td><td>46</td><td>5</td><td>Map(special-defense -> 30, defense -> 40, special-attack -> 20, attack -> 35, hp -> 25, speed -> 80)</td><td>List(bug, water)</td><td>120</td></tr><tr><td>768</td><td>golisopod</td><td>List(emergency-exit)</td><td>186</td><td>20</td><td>Map(special-defense -> 90, defense -> 140, special-attack -> 60, attack -> 125, hp -> 75, speed -> 40)</td><td>List(bug, water)</td><td>1080</td></tr><tr><td>769</td><td>sandygast</td><td>List(water-compaction, sand-veil)</td><td>64</td><td>5</td><td>Map(special-defense -> 45, defense -> 80, special-attack -> 70, attack -> 55, hp -> 55, speed -> 15)</td><td>List(ghost, ground)</td><td>700</td></tr><tr><td>770</td><td>palossand</td><td>List(water-compaction, sand-veil)</td><td>168</td><td>13</td><td>Map(special-defense -> 75, defense -> 110, special-attack -> 100, attack -> 75, hp -> 85, speed -> 35)</td><td>List(ghost, ground)</td><td>2500</td></tr><tr><td>771</td><td>pyukumuku</td><td>List(innards-out, unaware)</td><td>144</td><td>3</td><td>Map(special-defense -> 130, defense -> 130, special-attack -> 30, attack -> 60, hp -> 55, speed -> 5)</td><td>List(water)</td><td>12</td></tr><tr><td>772</td><td>type-null</td><td>List(battle-armor)</td><td>107</td><td>19</td><td>Map(special-defense -> 95, defense -> 95, special-attack -> 95, attack -> 95, hp -> 95, speed -> 59)</td><td>List(normal)</td><td>1205</td></tr><tr><td>773</td><td>silvally</td><td>List(rks-system)</td><td>285</td><td>23</td><td>Map(special-defense -> 95, defense -> 95, special-attack -> 95, attack -> 95, hp -> 95, speed -> 95)</td><td>List(normal)</td><td>1005</td></tr><tr><td>774</td><td>minior-red-meteor</td><td>List(shields-down)</td><td>154</td><td>3</td><td>Map(special-defense -> 100, defense -> 100, special-attack -> 60, attack -> 60, hp -> 60, speed -> 60)</td><td>List(rock, flying)</td><td>400</td></tr><tr><td>775</td><td>komala</td><td>List(comatose)</td><td>168</td><td>4</td><td>Map(special-defense -> 95, defense -> 65, special-attack -> 75, attack -> 115, hp -> 65, speed -> 65)</td><td>List(normal)</td><td>199</td></tr><tr><td>776</td><td>turtonator</td><td>List(shell-armor)</td><td>170</td><td>20</td><td>Map(special-defense -> 85, defense -> 135, special-attack -> 91, attack -> 78, hp -> 60, speed -> 36)</td><td>List(fire, dragon)</td><td>2120</td></tr><tr><td>777</td><td>togedemaru</td><td>List(iron-barbs, lightning-rod, sturdy)</td><td>152</td><td>3</td><td>Map(special-defense -> 73, defense -> 63, special-attack -> 40, attack -> 98, hp -> 65, speed -> 96)</td><td>List(electric, steel)</td><td>33</td></tr><tr><td>778</td><td>mimikyu-disguised</td><td>List(disguise)</td><td>167</td><td>2</td><td>Map(special-defense -> 105, defense -> 80, special-attack -> 50, attack -> 90, hp -> 55, speed -> 96)</td><td>List(ghost, fairy)</td><td>7</td></tr><tr><td>779</td><td>bruxish</td><td>List(dazzling, strong-jaw, wonder-skin)</td><td>166</td><td>9</td><td>Map(special-defense -> 70, defense -> 70, special-attack -> 70, attack -> 105, hp -> 68, speed -> 92)</td><td>List(water, psychic)</td><td>190</td></tr><tr><td>780</td><td>drampa</td><td>List(berserk, sap-sipper, cloud-nine)</td><td>170</td><td>30</td><td>Map(special-defense -> 91, defense -> 85, special-attack -> 135, attack -> 60, hp -> 78, speed -> 36)</td><td>List(normal, dragon)</td><td>1850</td></tr><tr><td>781</td><td>dhelmise</td><td>List(steelworker)</td><td>181</td><td>39</td><td>Map(special-defense -> 90, defense -> 100, special-attack -> 86, attack -> 131, hp -> 70, speed -> 40)</td><td>List(ghost, grass)</td><td>2100</td></tr><tr><td>782</td><td>jangmo-o</td><td>List(bulletproof, soundproof, overcoat)</td><td>60</td><td>6</td><td>Map(special-defense -> 45, defense -> 65, special-attack -> 45, attack -> 55, hp -> 45, speed -> 45)</td><td>List(dragon)</td><td>297</td></tr><tr><td>783</td><td>hakamo-o</td><td>List(bulletproof, soundproof, overcoat)</td><td>147</td><td>12</td><td>Map(special-defense -> 70, defense -> 90, special-attack -> 65, attack -> 75, hp -> 55, speed -> 65)</td><td>List(dragon, fighting)</td><td>470</td></tr><tr><td>784</td><td>kommo-o</td><td>List(bulletproof, soundproof, overcoat)</td><td>300</td><td>16</td><td>Map(special-defense -> 105, defense -> 125, special-attack -> 100, attack -> 110, hp -> 75, speed -> 85)</td><td>List(dragon, fighting)</td><td>782</td></tr><tr><td>785</td><td>tapu-koko</td><td>List(electric-surge, telepathy)</td><td>285</td><td>18</td><td>Map(special-defense -> 75, defense -> 85, special-attack -> 95, attack -> 115, hp -> 70, speed -> 130)</td><td>List(electric, fairy)</td><td>205</td></tr><tr><td>786</td><td>tapu-lele</td><td>List(psychic-surge, telepathy)</td><td>285</td><td>12</td><td>Map(special-defense -> 115, defense -> 75, special-attack -> 130, attack -> 85, hp -> 70, speed -> 95)</td><td>List(psychic, fairy)</td><td>186</td></tr><tr><td>787</td><td>tapu-bulu</td><td>List(grassy-surge, telepathy)</td><td>285</td><td>19</td><td>Map(special-defense -> 95, defense -> 115, special-attack -> 85, attack -> 130, hp -> 70, speed -> 75)</td><td>List(grass, fairy)</td><td>455</td></tr><tr><td>788</td><td>tapu-fini</td><td>List(misty-surge, telepathy)</td><td>285</td><td>13</td><td>Map(special-defense -> 130, defense -> 115, special-attack -> 95, attack -> 75, hp -> 70, speed -> 85)</td><td>List(water, fairy)</td><td>212</td></tr><tr><td>789</td><td>cosmog</td><td>List(unaware)</td><td>40</td><td>2</td><td>Map(special-defense -> 31, defense -> 31, special-attack -> 29, attack -> 29, hp -> 43, speed -> 37)</td><td>List(psychic)</td><td>1</td></tr><tr><td>790</td><td>cosmoem</td><td>List(sturdy)</td><td>140</td><td>1</td><td>Map(special-defense -> 131, defense -> 131, special-attack -> 29, attack -> 29, hp -> 43, speed -> 37)</td><td>List(psychic)</td><td>9999</td></tr><tr><td>791</td><td>solgaleo</td><td>List(full-metal-body)</td><td>340</td><td>34</td><td>Map(special-defense -> 89, defense -> 107, special-attack -> 113, attack -> 137, hp -> 137, speed -> 97)</td><td>List(psychic, steel)</td><td>2300</td></tr><tr><td>792</td><td>lunala</td><td>List(shadow-shield)</td><td>340</td><td>40</td><td>Map(special-defense -> 107, defense -> 89, special-attack -> 137, attack -> 113, hp -> 137, speed -> 97)</td><td>List(psychic, ghost)</td><td>1200</td></tr><tr><td>793</td><td>nihilego</td><td>List(beast-boost)</td><td>285</td><td>12</td><td>Map(special-defense -> 131, defense -> 47, special-attack -> 127, attack -> 53, hp -> 109, speed -> 103)</td><td>List(rock, poison)</td><td>555</td></tr><tr><td>794</td><td>buzzwole</td><td>List(beast-boost)</td><td>285</td><td>24</td><td>Map(special-defense -> 53, defense -> 139, special-attack -> 53, attack -> 139, hp -> 107, speed -> 79)</td><td>List(bug, fighting)</td><td>3336</td></tr><tr><td>795</td><td>pheromosa</td><td>List(beast-boost)</td><td>285</td><td>18</td><td>Map(special-defense -> 37, defense -> 37, special-attack -> 137, attack -> 137, hp -> 71, speed -> 151)</td><td>List(bug, fighting)</td><td>250</td></tr><tr><td>796</td><td>xurkitree</td><td>List(beast-boost)</td><td>285</td><td>38</td><td>Map(special-defense -> 71, defense -> 71, special-attack -> 173, attack -> 89, hp -> 83, speed -> 83)</td><td>List(electric)</td><td>1000</td></tr><tr><td>797</td><td>celesteela</td><td>List(beast-boost)</td><td>285</td><td>92</td><td>Map(special-defense -> 101, defense -> 103, special-attack -> 107, attack -> 101, hp -> 97, speed -> 61)</td><td>List(steel, flying)</td><td>9999</td></tr><tr><td>798</td><td>kartana</td><td>List(beast-boost)</td><td>285</td><td>3</td><td>Map(special-defense -> 31, defense -> 131, special-attack -> 59, attack -> 181, hp -> 59, speed -> 109)</td><td>List(grass, steel)</td><td>1</td></tr><tr><td>799</td><td>guzzlord</td><td>List(beast-boost)</td><td>285</td><td>55</td><td>Map(special-defense -> 53, defense -> 53, special-attack -> 97, attack -> 101, hp -> 223, speed -> 43)</td><td>List(dark, dragon)</td><td>8880</td></tr><tr><td>800</td><td>necrozma</td><td>List(prism-armor)</td><td>300</td><td>24</td><td>Map(special-defense -> 89, defense -> 101, special-attack -> 127, attack -> 107, hp -> 97, speed -> 79)</td><td>List(psychic)</td><td>2300</td></tr><tr><td>801</td><td>magearna</td><td>List(soul-heart)</td><td>300</td><td>10</td><td>Map(special-defense -> 115, defense -> 115, special-attack -> 130, attack -> 95, hp -> 80, speed -> 65)</td><td>List(steel, fairy)</td><td>805</td></tr><tr><td>802</td><td>marshadow</td><td>List(technician)</td><td>300</td><td>7</td><td>Map(special-defense -> 90, defense -> 80, special-attack -> 90, attack -> 125, hp -> 90, speed -> 125)</td><td>List(fighting, ghost)</td><td>222</td></tr><tr><td>803</td><td>poipole</td><td>List(beast-boost)</td><td>210</td><td>6</td><td>Map(special-defense -> 67, defense -> 67, special-attack -> 73, attack -> 73, hp -> 67, speed -> 73)</td><td>List(poison)</td><td>18</td></tr><tr><td>804</td><td>naganadel</td><td>List(beast-boost)</td><td>270</td><td>36</td><td>Map(special-defense -> 73, defense -> 73, special-attack -> 127, attack -> 73, hp -> 73, speed -> 121)</td><td>List(poison, dragon)</td><td>1500</td></tr><tr><td>805</td><td>stakataka</td><td>List(beast-boost)</td><td>285</td><td>55</td><td>Map(special-defense -> 101, defense -> 211, special-attack -> 53, attack -> 131, hp -> 61, speed -> 13)</td><td>List(rock, steel)</td><td>8200</td></tr><tr><td>806</td><td>blacephalon</td><td>List(beast-boost)</td><td>285</td><td>18</td><td>Map(special-defense -> 79, defense -> 53, special-attack -> 151, attack -> 127, hp -> 53, speed -> 107)</td><td>List(fire, ghost)</td><td>130</td></tr><tr><td>807</td><td>zeraora</td><td>List(volt-absorb)</td><td>300</td><td>15</td><td>Map(special-defense -> 80, defense -> 75, special-attack -> 102, attack -> 112, hp -> 88, speed -> 143)</td><td>List(electric)</td><td>445</td></tr><tr><td>808</td><td>meltan</td><td>List(magnet-pull)</td><td>150</td><td>2</td><td>Map(special-defense -> 35, defense -> 65, special-attack -> 55, attack -> 65, hp -> 46, speed -> 34)</td><td>List(steel)</td><td>80</td></tr><tr><td>809</td><td>melmetal</td><td>List(iron-fist)</td><td>300</td><td>25</td><td>Map(special-defense -> 65, defense -> 143, special-attack -> 80, attack -> 143, hp -> 135, speed -> 34)</td><td>List(steel)</td><td>8000</td></tr><tr><td>810</td><td>grookey</td><td>List(overgrow, grassy-surge)</td><td>62</td><td>3</td><td>Map(special-defense -> 40, defense -> 50, special-attack -> 40, attack -> 65, hp -> 50, speed -> 65)</td><td>List(grass)</td><td>50</td></tr><tr><td>811</td><td>thwackey</td><td>List(overgrow, grassy-surge)</td><td>147</td><td>7</td><td>Map(special-defense -> 60, defense -> 70, special-attack -> 55, attack -> 85, hp -> 70, speed -> 80)</td><td>List(grass)</td><td>140</td></tr><tr><td>812</td><td>rillaboom</td><td>List(overgrow, grassy-surge)</td><td>265</td><td>21</td><td>Map(special-defense -> 70, defense -> 90, special-attack -> 60, attack -> 125, hp -> 100, speed -> 85)</td><td>List(grass)</td><td>900</td></tr><tr><td>813</td><td>scorbunny</td><td>List(blaze, libero)</td><td>62</td><td>3</td><td>Map(special-defense -> 40, defense -> 40, special-attack -> 40, attack -> 71, hp -> 50, speed -> 69)</td><td>List(fire)</td><td>45</td></tr><tr><td>814</td><td>raboot</td><td>List(blaze, libero)</td><td>147</td><td>6</td><td>Map(special-defense -> 60, defense -> 60, special-attack -> 55, attack -> 86, hp -> 65, speed -> 94)</td><td>List(fire)</td><td>90</td></tr><tr><td>815</td><td>cinderace</td><td>List(blaze, libero)</td><td>265</td><td>14</td><td>Map(special-defense -> 75, defense -> 75, special-attack -> 65, attack -> 116, hp -> 80, speed -> 119)</td><td>List(fire)</td><td>330</td></tr><tr><td>816</td><td>sobble</td><td>List(torrent, sniper)</td><td>62</td><td>3</td><td>Map(special-defense -> 40, defense -> 40, special-attack -> 70, attack -> 40, hp -> 50, speed -> 70)</td><td>List(water)</td><td>40</td></tr><tr><td>817</td><td>drizzile</td><td>List(torrent, sniper)</td><td>147</td><td>7</td><td>Map(special-defense -> 55, defense -> 55, special-attack -> 95, attack -> 60, hp -> 65, speed -> 90)</td><td>List(water)</td><td>115</td></tr><tr><td>818</td><td>inteleon</td><td>List(torrent, sniper)</td><td>265</td><td>19</td><td>Map(special-defense -> 65, defense -> 65, special-attack -> 125, attack -> 85, hp -> 70, speed -> 120)</td><td>List(water)</td><td>452</td></tr><tr><td>819</td><td>skwovet</td><td>List(cheek-pouch, gluttony)</td><td>55</td><td>3</td><td>Map(special-defense -> 35, defense -> 55, special-attack -> 35, attack -> 55, hp -> 70, speed -> 25)</td><td>List(normal)</td><td>25</td></tr><tr><td>820</td><td>greedent</td><td>List(cheek-pouch, gluttony)</td><td>161</td><td>6</td><td>Map(special-defense -> 75, defense -> 95, special-attack -> 55, attack -> 95, hp -> 120, speed -> 20)</td><td>List(normal)</td><td>60</td></tr><tr><td>821</td><td>rookidee</td><td>List(keen-eye, unnerve, big-pecks)</td><td>49</td><td>2</td><td>Map(special-defense -> 35, defense -> 35, special-attack -> 33, attack -> 47, hp -> 38, speed -> 57)</td><td>List(flying)</td><td>18</td></tr><tr><td>822</td><td>corvisquire</td><td>List(keen-eye, unnerve, big-pecks)</td><td>128</td><td>8</td><td>Map(special-defense -> 55, defense -> 55, special-attack -> 43, attack -> 67, hp -> 68, speed -> 77)</td><td>List(flying)</td><td>160</td></tr><tr><td>823</td><td>corviknight</td><td>List(pressure, unnerve, mirror-armor)</td><td>248</td><td>22</td><td>Map(special-defense -> 85, defense -> 105, special-attack -> 53, attack -> 87, hp -> 98, speed -> 67)</td><td>List(flying, steel)</td><td>750</td></tr><tr><td>824</td><td>blipbug</td><td>List(swarm, compound-eyes, telepathy)</td><td>36</td><td>4</td><td>Map(special-defense -> 45, defense -> 20, special-attack -> 25, attack -> 20, hp -> 25, speed -> 45)</td><td>List(bug)</td><td>80</td></tr><tr><td>825</td><td>dottler</td><td>List(swarm, compound-eyes, telepathy)</td><td>117</td><td>4</td><td>Map(special-defense -> 90, defense -> 80, special-attack -> 50, attack -> 35, hp -> 50, speed -> 30)</td><td>List(bug, psychic)</td><td>195</td></tr><tr><td>826</td><td>orbeetle</td><td>List(swarm, frisk, telepathy)</td><td>253</td><td>4</td><td>Map(special-defense -> 120, defense -> 110, special-attack -> 80, attack -> 45, hp -> 60, speed -> 90)</td><td>List(bug, psychic)</td><td>408</td></tr><tr><td>827</td><td>nickit</td><td>List(run-away, unburden, stakeout)</td><td>49</td><td>6</td><td>Map(special-defense -> 52, defense -> 28, special-attack -> 47, attack -> 28, hp -> 40, speed -> 50)</td><td>List(dark)</td><td>89</td></tr><tr><td>828</td><td>thievul</td><td>List(run-away, unburden, stakeout)</td><td>159</td><td>12</td><td>Map(special-defense -> 92, defense -> 58, special-attack -> 87, attack -> 58, hp -> 70, speed -> 90)</td><td>List(dark)</td><td>199</td></tr><tr><td>829</td><td>gossifleur</td><td>List(cotton-down, regenerator, effect-spore)</td><td>50</td><td>4</td><td>Map(special-defense -> 60, defense -> 60, special-attack -> 40, attack -> 40, hp -> 40, speed -> 10)</td><td>List(grass)</td><td>22</td></tr><tr><td>830</td><td>eldegoss</td><td>List(cotton-down, regenerator, effect-spore)</td><td>161</td><td>5</td><td>Map(special-defense -> 120, defense -> 90, special-attack -> 80, attack -> 50, hp -> 60, speed -> 60)</td><td>List(grass)</td><td>25</td></tr><tr><td>831</td><td>wooloo</td><td>List(fluffy, run-away, bulletproof)</td><td>122</td><td>6</td><td>Map(special-defense -> 45, defense -> 55, special-attack -> 40, attack -> 40, hp -> 42, speed -> 48)</td><td>List(normal)</td><td>60</td></tr><tr><td>832</td><td>dubwool</td><td>List(fluffy, steadfast, bulletproof)</td><td>172</td><td>13</td><td>Map(special-defense -> 90, defense -> 100, special-attack -> 60, attack -> 80, hp -> 72, speed -> 88)</td><td>List(normal)</td><td>430</td></tr><tr><td>833</td><td>chewtle</td><td>List(strong-jaw, shell-armor, swift-swim)</td><td>57</td><td>3</td><td>Map(special-defense -> 38, defense -> 50, special-attack -> 38, attack -> 64, hp -> 50, speed -> 44)</td><td>List(water)</td><td>85</td></tr><tr><td>834</td><td>drednaw</td><td>List(strong-jaw, shell-armor, swift-swim)</td><td>170</td><td>10</td><td>Map(special-defense -> 68, defense -> 90, special-attack -> 48, attack -> 115, hp -> 90, speed -> 74)</td><td>List(water, rock)</td><td>1155</td></tr><tr><td>835</td><td>yamper</td><td>List(ball-fetch, rattled)</td><td>54</td><td>3</td><td>Map(special-defense -> 50, defense -> 50, special-attack -> 40, attack -> 45, hp -> 59, speed -> 26)</td><td>List(electric)</td><td>135</td></tr><tr><td>836</td><td>boltund</td><td>List(strong-jaw, competitive)</td><td>172</td><td>10</td><td>Map(special-defense -> 60, defense -> 60, special-attack -> 90, attack -> 90, hp -> 69, speed -> 121)</td><td>List(electric)</td><td>340</td></tr><tr><td>837</td><td>rolycoly</td><td>List(steam-engine, heatproof, flash-fire)</td><td>48</td><td>3</td><td>Map(special-defense -> 50, defense -> 50, special-attack -> 40, attack -> 40, hp -> 30, speed -> 30)</td><td>List(rock)</td><td>120</td></tr><tr><td>838</td><td>carkol</td><td>List(steam-engine, flame-body, flash-fire)</td><td>144</td><td>11</td><td>Map(special-defense -> 70, defense -> 90, special-attack -> 60, attack -> 60, hp -> 80, speed -> 50)</td><td>List(rock, fire)</td><td>780</td></tr><tr><td>839</td><td>coalossal</td><td>List(steam-engine, flame-body, flash-fire)</td><td>255</td><td>28</td><td>Map(special-defense -> 90, defense -> 120, special-attack -> 80, attack -> 80, hp -> 110, speed -> 30)</td><td>List(rock, fire)</td><td>3105</td></tr><tr><td>840</td><td>applin</td><td>List(ripen, gluttony, bulletproof)</td><td>52</td><td>2</td><td>Map(special-defense -> 40, defense -> 80, special-attack -> 40, attack -> 40, hp -> 40, speed -> 20)</td><td>List(grass, dragon)</td><td>5</td></tr><tr><td>841</td><td>flapple</td><td>List(ripen, gluttony, hustle)</td><td>170</td><td>3</td><td>Map(special-defense -> 60, defense -> 80, special-attack -> 95, attack -> 110, hp -> 70, speed -> 70)</td><td>List(grass, dragon)</td><td>10</td></tr><tr><td>842</td><td>appletun</td><td>List(ripen, gluttony, thick-fat)</td><td>170</td><td>4</td><td>Map(special-defense -> 80, defense -> 80, special-attack -> 100, attack -> 85, hp -> 110, speed -> 30)</td><td>List(grass, dragon)</td><td>130</td></tr><tr><td>843</td><td>silicobra</td><td>List(sand-spit, shed-skin, sand-veil)</td><td>63</td><td>22</td><td>Map(special-defense -> 50, defense -> 75, special-attack -> 35, attack -> 57, hp -> 52, speed -> 46)</td><td>List(ground)</td><td>76</td></tr><tr><td>844</td><td>sandaconda</td><td>List(sand-spit, shed-skin, sand-veil)</td><td>179</td><td>38</td><td>Map(special-defense -> 70, defense -> 125, special-attack -> 65, attack -> 107, hp -> 72, speed -> 71)</td><td>List(ground)</td><td>655</td></tr><tr><td>845</td><td>cramorant</td><td>List(gulp-missile)</td><td>166</td><td>8</td><td>Map(special-defense -> 95, defense -> 55, special-attack -> 85, attack -> 85, hp -> 70, speed -> 85)</td><td>List(flying, water)</td><td>180</td></tr><tr><td>846</td><td>arrokuda</td><td>List(swift-swim, propeller-tail)</td><td>56</td><td>5</td><td>Map(special-defense -> 30, defense -> 40, special-attack -> 40, attack -> 63, hp -> 41, speed -> 66)</td><td>List(water)</td><td>10</td></tr><tr><td>847</td><td>barraskewda</td><td>List(swift-swim, propeller-tail)</td><td>172</td><td>13</td><td>Map(special-defense -> 50, defense -> 60, special-attack -> 60, attack -> 123, hp -> 61, speed -> 136)</td><td>List(water)</td><td>300</td></tr><tr><td>848</td><td>toxel</td><td>List(rattled, static, klutz)</td><td>48</td><td>4</td><td>Map(special-defense -> 35, defense -> 35, special-attack -> 54, attack -> 38, hp -> 40, speed -> 40)</td><td>List(electric, poison)</td><td>110</td></tr><tr><td>849</td><td>toxtricity-amped</td><td>List(punk-rock, plus, technician)</td><td>176</td><td>16</td><td>Map(special-defense -> 70, defense -> 70, special-attack -> 114, attack -> 98, hp -> 75, speed -> 75)</td><td>List(electric, poison)</td><td>400</td></tr><tr><td>850</td><td>sizzlipede</td><td>List(flash-fire, white-smoke, flame-body)</td><td>61</td><td>7</td><td>Map(special-defense -> 50, defense -> 45, special-attack -> 50, attack -> 65, hp -> 50, speed -> 45)</td><td>List(fire, bug)</td><td>10</td></tr><tr><td>851</td><td>centiskorch</td><td>List(flash-fire, white-smoke, flame-body)</td><td>184</td><td>30</td><td>Map(special-defense -> 90, defense -> 65, special-attack -> 90, attack -> 115, hp -> 100, speed -> 65)</td><td>List(fire, bug)</td><td>1200</td></tr><tr><td>852</td><td>clobbopus</td><td>List(limber, technician)</td><td>62</td><td>6</td><td>Map(special-defense -> 50, defense -> 60, special-attack -> 50, attack -> 68, hp -> 50, speed -> 32)</td><td>List(fighting)</td><td>40</td></tr><tr><td>853</td><td>grapploct</td><td>List(limber, technician)</td><td>168</td><td>16</td><td>Map(special-defense -> 80, defense -> 90, special-attack -> 70, attack -> 118, hp -> 80, speed -> 42)</td><td>List(fighting)</td><td>390</td></tr><tr><td>854</td><td>sinistea</td><td>List(weak-armor, cursed-body)</td><td>62</td><td>1</td><td>Map(special-defense -> 54, defense -> 45, special-attack -> 74, attack -> 45, hp -> 40, speed -> 50)</td><td>List(ghost)</td><td>2</td></tr><tr><td>855</td><td>polteageist</td><td>List(weak-armor, cursed-body)</td><td>178</td><td>2</td><td>Map(special-defense -> 114, defense -> 65, special-attack -> 134, attack -> 65, hp -> 60, speed -> 70)</td><td>List(ghost)</td><td>4</td></tr><tr><td>856</td><td>hatenna</td><td>List(healer, anticipation, magic-bounce)</td><td>53</td><td>4</td><td>Map(special-defense -> 53, defense -> 45, special-attack -> 56, attack -> 30, hp -> 42, speed -> 39)</td><td>List(psychic)</td><td>34</td></tr><tr><td>857</td><td>hattrem</td><td>List(healer, anticipation, magic-bounce)</td><td>130</td><td>6</td><td>Map(special-defense -> 73, defense -> 65, special-attack -> 86, attack -> 40, hp -> 57, speed -> 49)</td><td>List(psychic)</td><td>48</td></tr><tr><td>858</td><td>hatterene</td><td>List(healer, anticipation, magic-bounce)</td><td>255</td><td>21</td><td>Map(special-defense -> 103, defense -> 95, special-attack -> 136, attack -> 90, hp -> 57, speed -> 29)</td><td>List(psychic, fairy)</td><td>51</td></tr><tr><td>859</td><td>impidimp</td><td>List(prankster, frisk, pickpocket)</td><td>53</td><td>4</td><td>Map(special-defense -> 40, defense -> 30, special-attack -> 55, attack -> 45, hp -> 45, speed -> 50)</td><td>List(dark, fairy)</td><td>55</td></tr><tr><td>860</td><td>morgrem</td><td>List(prankster, frisk, pickpocket)</td><td>130</td><td>8</td><td>Map(special-defense -> 55, defense -> 45, special-attack -> 75, attack -> 60, hp -> 65, speed -> 70)</td><td>List(dark, fairy)</td><td>125</td></tr><tr><td>861</td><td>grimmsnarl</td><td>List(prankster, frisk, pickpocket)</td><td>255</td><td>15</td><td>Map(special-defense -> 75, defense -> 65, special-attack -> 95, attack -> 120, hp -> 95, speed -> 60)</td><td>List(dark, fairy)</td><td>610</td></tr><tr><td>862</td><td>obstagoon</td><td>List(reckless, guts, defiant)</td><td>260</td><td>16</td><td>Map(special-defense -> 81, defense -> 101, special-attack -> 60, attack -> 90, hp -> 93, speed -> 95)</td><td>List(dark, normal)</td><td>460</td></tr><tr><td>863</td><td>perrserker</td><td>List(battle-armor, tough-claws, steely-spirit)</td><td>154</td><td>8</td><td>Map(special-defense -> 60, defense -> 100, special-attack -> 50, attack -> 110, hp -> 70, speed -> 50)</td><td>List(steel)</td><td>280</td></tr><tr><td>864</td><td>cursola</td><td>List(weak-armor, perish-body)</td><td>179</td><td>10</td><td>Map(special-defense -> 130, defense -> 50, special-attack -> 145, attack -> 95, hp -> 60, speed -> 30)</td><td>List(ghost)</td><td>4</td></tr><tr><td>865</td><td>sirfetchd</td><td>List(steadfast, scrappy)</td><td>177</td><td>8</td><td>Map(special-defense -> 82, defense -> 95, special-attack -> 68, attack -> 135, hp -> 62, speed -> 65)</td><td>List(fighting)</td><td>1170</td></tr><tr><td>866</td><td>mr-rime</td><td>List(tangled-feet, screen-cleaner, ice-body)</td><td>182</td><td>15</td><td>Map(special-defense -> 100, defense -> 75, special-attack -> 110, attack -> 85, hp -> 80, speed -> 70)</td><td>List(ice, psychic)</td><td>582</td></tr><tr><td>867</td><td>runerigus</td><td>List(wandering-spirit)</td><td>169</td><td>16</td><td>Map(special-defense -> 105, defense -> 145, special-attack -> 50, attack -> 95, hp -> 58, speed -> 30)</td><td>List(ground, ghost)</td><td>666</td></tr><tr><td>868</td><td>milcery</td><td>List(sweet-veil, aroma-veil)</td><td>54</td><td>2</td><td>Map(special-defense -> 61, defense -> 40, special-attack -> 50, attack -> 40, hp -> 45, speed -> 34)</td><td>List(fairy)</td><td>3</td></tr><tr><td>869</td><td>alcremie</td><td>List(sweet-veil, aroma-veil)</td><td>173</td><td>3</td><td>Map(special-defense -> 121, defense -> 75, special-attack -> 110, attack -> 60, hp -> 65, speed -> 64)</td><td>List(fairy)</td><td>5</td></tr><tr><td>870</td><td>falinks</td><td>List(battle-armor, defiant)</td><td>165</td><td>30</td><td>Map(special-defense -> 60, defense -> 100, special-attack -> 70, attack -> 100, hp -> 65, speed -> 75)</td><td>List(fighting)</td><td>620</td></tr><tr><td>871</td><td>pincurchin</td><td>List(lightning-rod, electric-surge)</td><td>152</td><td>3</td><td>Map(special-defense -> 85, defense -> 95, special-attack -> 91, attack -> 101, hp -> 48, speed -> 15)</td><td>List(electric)</td><td>10</td></tr><tr><td>872</td><td>snom</td><td>List(shield-dust, ice-scales)</td><td>37</td><td>3</td><td>Map(special-defense -> 30, defense -> 35, special-attack -> 45, attack -> 25, hp -> 30, speed -> 20)</td><td>List(ice, bug)</td><td>38</td></tr><tr><td>873</td><td>frosmoth</td><td>List(shield-dust, ice-scales)</td><td>166</td><td>13</td><td>Map(special-defense -> 90, defense -> 60, special-attack -> 125, attack -> 65, hp -> 70, speed -> 65)</td><td>List(ice, bug)</td><td>420</td></tr><tr><td>874</td><td>stonjourner</td><td>List(power-spot)</td><td>165</td><td>25</td><td>Map(special-defense -> 20, defense -> 135, special-attack -> 20, attack -> 125, hp -> 100, speed -> 70)</td><td>List(rock)</td><td>5200</td></tr><tr><td>875</td><td>eiscue-ice</td><td>List(ice-face)</td><td>165</td><td>14</td><td>Map(special-defense -> 90, defense -> 110, special-attack -> 65, attack -> 80, hp -> 75, speed -> 50)</td><td>List(ice)</td><td>890</td></tr><tr><td>876</td><td>indeedee-male</td><td>List(inner-focus, synchronize, psychic-surge)</td><td>166</td><td>9</td><td>Map(special-defense -> 95, defense -> 55, special-attack -> 105, attack -> 65, hp -> 60, speed -> 95)</td><td>List(psychic, normal)</td><td>280</td></tr><tr><td>877</td><td>morpeko-full-belly</td><td>List(hunger-switch)</td><td>153</td><td>3</td><td>Map(special-defense -> 58, defense -> 58, special-attack -> 70, attack -> 95, hp -> 58, speed -> 97)</td><td>List(electric, dark)</td><td>30</td></tr><tr><td>878</td><td>cufant</td><td>List(sheer-force, heavy-metal)</td><td>66</td><td>12</td><td>Map(special-defense -> 49, defense -> 49, special-attack -> 40, attack -> 80, hp -> 72, speed -> 40)</td><td>List(steel)</td><td>1000</td></tr><tr><td>879</td><td>copperajah</td><td>List(sheer-force, heavy-metal)</td><td>175</td><td>30</td><td>Map(special-defense -> 69, defense -> 69, special-attack -> 80, attack -> 130, hp -> 122, speed -> 30)</td><td>List(steel)</td><td>6500</td></tr><tr><td>880</td><td>dracozolt</td><td>List(volt-absorb, hustle, sand-rush)</td><td>177</td><td>18</td><td>Map(special-defense -> 70, defense -> 90, special-attack -> 80, attack -> 100, hp -> 90, speed -> 75)</td><td>List(electric, dragon)</td><td>1900</td></tr><tr><td>881</td><td>arctozolt</td><td>List(volt-absorb, static, slush-rush)</td><td>177</td><td>23</td><td>Map(special-defense -> 80, defense -> 90, special-attack -> 90, attack -> 100, hp -> 90, speed -> 55)</td><td>List(electric, ice)</td><td>1500</td></tr><tr><td>882</td><td>dracovish</td><td>List(water-absorb, strong-jaw, sand-rush)</td><td>177</td><td>23</td><td>Map(special-defense -> 80, defense -> 100, special-attack -> 70, attack -> 90, hp -> 90, speed -> 75)</td><td>List(water, dragon)</td><td>2150</td></tr><tr><td>883</td><td>arctovish</td><td>List(water-absorb, ice-body, slush-rush)</td><td>177</td><td>20</td><td>Map(special-defense -> 90, defense -> 100, special-attack -> 80, attack -> 90, hp -> 90, speed -> 55)</td><td>List(water, ice)</td><td>1750</td></tr><tr><td>884</td><td>duraludon</td><td>List(light-metal, heavy-metal, stalwart)</td><td>187</td><td>18</td><td>Map(special-defense -> 50, defense -> 115, special-attack -> 120, attack -> 95, hp -> 70, speed -> 85)</td><td>List(steel, dragon)</td><td>400</td></tr><tr><td>885</td><td>dreepy</td><td>List(clear-body, infiltrator, cursed-body)</td><td>54</td><td>5</td><td>Map(special-defense -> 30, defense -> 30, special-attack -> 40, attack -> 60, hp -> 28, speed -> 82)</td><td>List(dragon, ghost)</td><td>20</td></tr><tr><td>886</td><td>drakloak</td><td>List(clear-body, infiltrator, cursed-body)</td><td>144</td><td>14</td><td>Map(special-defense -> 50, defense -> 50, special-attack -> 60, attack -> 80, hp -> 68, speed -> 102)</td><td>List(dragon, ghost)</td><td>110</td></tr><tr><td>887</td><td>dragapult</td><td>List(clear-body, infiltrator, cursed-body)</td><td>300</td><td>30</td><td>Map(special-defense -> 75, defense -> 75, special-attack -> 100, attack -> 120, hp -> 88, speed -> 142)</td><td>List(dragon, ghost)</td><td>500</td></tr><tr><td>888</td><td>zacian</td><td>List(intrepid-sword)</td><td>335</td><td>28</td><td>Map(special-defense -> 115, defense -> 115, special-attack -> 80, attack -> 120, hp -> 92, speed -> 138)</td><td>List(fairy)</td><td>1100</td></tr><tr><td>889</td><td>zamazenta</td><td>List(dauntless-shield)</td><td>335</td><td>29</td><td>Map(special-defense -> 115, defense -> 115, special-attack -> 80, attack -> 120, hp -> 92, speed -> 138)</td><td>List(fighting)</td><td>2100</td></tr><tr><td>890</td><td>eternatus</td><td>List(pressure)</td><td>345</td><td>200</td><td>Map(special-defense -> 95, defense -> 95, special-attack -> 145, attack -> 85, hp -> 140, speed -> 130)</td><td>List(poison, dragon)</td><td>9500</td></tr><tr><td>891</td><td>kubfu</td><td>List(inner-focus)</td><td>77</td><td>6</td><td>Map(special-defense -> 50, defense -> 60, special-attack -> 53, attack -> 90, hp -> 60, speed -> 72)</td><td>List(fighting)</td><td>120</td></tr><tr><td>892</td><td>urshifu-single-strike</td><td>List(unseen-fist)</td><td>275</td><td>19</td><td>Map(special-defense -> 60, defense -> 100, special-attack -> 63, attack -> 130, hp -> 100, speed -> 97)</td><td>List(fighting, dark)</td><td>1050</td></tr><tr><td>893</td><td>zarude</td><td>List(leaf-guard)</td><td>300</td><td>18</td><td>Map(special-defense -> 95, defense -> 105, special-attack -> 70, attack -> 120, hp -> 105, speed -> 105)</td><td>List(dark, grass)</td><td>700</td></tr><tr><td>894</td><td>regieleki</td><td>List(transistor)</td><td>290</td><td>12</td><td>Map(special-defense -> 50, defense -> 50, special-attack -> 100, attack -> 100, hp -> 80, speed -> 200)</td><td>List(electric)</td><td>1450</td></tr><tr><td>895</td><td>regidrago</td><td>List(dragons-maw)</td><td>290</td><td>21</td><td>Map(special-defense -> 50, defense -> 50, special-attack -> 100, attack -> 100, hp -> 200, speed -> 80)</td><td>List(dragon)</td><td>2000</td></tr><tr><td>896</td><td>glastrier</td><td>List(chilling-neigh)</td><td>290</td><td>22</td><td>Map(special-defense -> 110, defense -> 130, special-attack -> 65, attack -> 145, hp -> 100, speed -> 30)</td><td>List(ice)</td><td>8000</td></tr><tr><td>897</td><td>spectrier</td><td>List(grim-neigh)</td><td>290</td><td>20</td><td>Map(special-defense -> 80, defense -> 60, special-attack -> 145, attack -> 65, hp -> 100, speed -> 130)</td><td>List(ghost)</td><td>445</td></tr><tr><td>898</td><td>calyrex</td><td>List(unnerve)</td><td>250</td><td>11</td><td>Map(special-defense -> 80, defense -> 80, special-attack -> 80, attack -> 80, hp -> 100, speed -> 80)</td><td>List(psychic, grass)</td><td>77</td></tr><tr><td>899</td><td>wyrdeer</td><td>List(intimidate, frisk, sap-sipper)</td><td>263</td><td>18</td><td>Map(special-defense -> 75, defense -> 72, special-attack -> 105, attack -> 105, hp -> 103, speed -> 65)</td><td>List(normal, psychic)</td><td>951</td></tr><tr><td>900</td><td>kleavor</td><td>List(swarm, sheer-force, sharpness)</td><td>175</td><td>18</td><td>Map(special-defense -> 70, defense -> 95, special-attack -> 45, attack -> 135, hp -> 70, speed -> 85)</td><td>List(bug, rock)</td><td>890</td></tr><tr><td>901</td><td>ursaluna</td><td>List(guts, bulletproof, unnerve)</td><td>275</td><td>24</td><td>Map(special-defense -> 80, defense -> 105, special-attack -> 45, attack -> 140, hp -> 130, speed -> 50)</td><td>List(ground, normal)</td><td>2900</td></tr><tr><td>902</td><td>basculegion-male</td><td>List(swift-swim, adaptability, mold-breaker)</td><td>265</td><td>30</td><td>Map(special-defense -> 75, defense -> 65, special-attack -> 80, attack -> 112, hp -> 120, speed -> 78)</td><td>List(water, ghost)</td><td>1100</td></tr><tr><td>903</td><td>sneasler</td><td>List(pressure, unburden, poison-touch)</td><td>102</td><td>13</td><td>Map(special-defense -> 80, defense -> 60, special-attack -> 40, attack -> 130, hp -> 80, speed -> 120)</td><td>List(fighting, poison)</td><td>430</td></tr><tr><td>904</td><td>overqwil</td><td>List(poison-point, swift-swim, intimidate)</td><td>179</td><td>25</td><td>Map(special-defense -> 65, defense -> 95, special-attack -> 65, attack -> 115, hp -> 85, speed -> 85)</td><td>List(dark, poison)</td><td>605</td></tr><tr><td>905</td><td>enamorus-incarnate</td><td>List(cute-charm, contrary)</td><td>116</td><td>16</td><td>Map(special-defense -> 80, defense -> 70, special-attack -> 135, attack -> 115, hp -> 74, speed -> 106)</td><td>List(fairy, flying)</td><td>480</td></tr><tr><td>906</td><td>sprigatito</td><td>List(overgrow, protean)</td><td>62</td><td>4</td><td>Map(special-defense -> 45, defense -> 54, special-attack -> 45, attack -> 61, hp -> 40, speed -> 65)</td><td>List(grass)</td><td>41</td></tr><tr><td>907</td><td>floragato</td><td>List(overgrow, protean)</td><td>144</td><td>9</td><td>Map(special-defense -> 63, defense -> 63, special-attack -> 60, attack -> 80, hp -> 61, speed -> 83)</td><td>List(grass)</td><td>122</td></tr><tr><td>908</td><td>meowscarada</td><td>List(overgrow, protean)</td><td>265</td><td>15</td><td>Map(special-defense -> 70, defense -> 70, special-attack -> 81, attack -> 110, hp -> 76, speed -> 123)</td><td>List(grass, dark)</td><td>312</td></tr><tr><td>909</td><td>fuecoco</td><td>List(blaze, unaware)</td><td>62</td><td>4</td><td>Map(special-defense -> 40, defense -> 59, special-attack -> 63, attack -> 45, hp -> 67, speed -> 36)</td><td>List(fire)</td><td>98</td></tr><tr><td>910</td><td>crocalor</td><td>List(blaze, unaware)</td><td>144</td><td>10</td><td>Map(special-defense -> 58, defense -> 78, special-attack -> 90, attack -> 55, hp -> 81, speed -> 49)</td><td>List(fire)</td><td>307</td></tr><tr><td>911</td><td>skeledirge</td><td>List(blaze, unaware)</td><td>265</td><td>16</td><td>Map(special-defense -> 75, defense -> 100, special-attack -> 110, attack -> 75, hp -> 104, speed -> 66)</td><td>List(fire, ghost)</td><td>3265</td></tr><tr><td>912</td><td>quaxly</td><td>List(torrent, moxie)</td><td>62</td><td>5</td><td>Map(special-defense -> 45, defense -> 45, special-attack -> 50, attack -> 65, hp -> 55, speed -> 50)</td><td>List(water)</td><td>61</td></tr><tr><td>913</td><td>quaxwell</td><td>List(torrent, moxie)</td><td>144</td><td>12</td><td>Map(special-defense -> 60, defense -> 65, special-attack -> 65, attack -> 85, hp -> 70, speed -> 65)</td><td>List(water)</td><td>215</td></tr><tr><td>914</td><td>quaquaval</td><td>List(torrent, moxie)</td><td>265</td><td>18</td><td>Map(special-defense -> 75, defense -> 80, special-attack -> 85, attack -> 120, hp -> 85, speed -> 85)</td><td>List(water, fighting)</td><td>619</td></tr><tr><td>915</td><td>lechonk</td><td>List(aroma-veil, gluttony, thick-fat)</td><td>51</td><td>5</td><td>Map(special-defense -> 45, defense -> 40, special-attack -> 35, attack -> 45, hp -> 54, speed -> 35)</td><td>List(normal)</td><td>102</td></tr><tr><td>916</td><td>oinkologne-male</td><td>List(lingering-aroma, gluttony, thick-fat)</td><td>171</td><td>10</td><td>Map(special-defense -> 80, defense -> 75, special-attack -> 59, attack -> 100, hp -> 110, speed -> 65)</td><td>List(normal)</td><td>1200</td></tr><tr><td>917</td><td>tarountula</td><td>List(insomnia, stakeout)</td><td>42</td><td>3</td><td>Map(special-defense -> 40, defense -> 45, special-attack -> 29, attack -> 41, hp -> 35, speed -> 20)</td><td>List(bug)</td><td>40</td></tr><tr><td>918</td><td>spidops</td><td>List(insomnia, stakeout)</td><td>141</td><td>10</td><td>Map(special-defense -> 86, defense -> 92, special-attack -> 52, attack -> 79, hp -> 60, speed -> 35)</td><td>List(bug)</td><td>165</td></tr><tr><td>919</td><td>nymble</td><td>List(swarm, tinted-lens)</td><td>42</td><td>2</td><td>Map(special-defense -> 25, defense -> 40, special-attack -> 21, attack -> 46, hp -> 33, speed -> 45)</td><td>List(bug)</td><td>10</td></tr><tr><td>920</td><td>lokix</td><td>List(swarm, tinted-lens)</td><td>158</td><td>10</td><td>Map(special-defense -> 55, defense -> 78, special-attack -> 52, attack -> 102, hp -> 71, speed -> 92)</td><td>List(bug, dark)</td><td>175</td></tr><tr><td>921</td><td>pawmi</td><td>List(static, natural-cure, iron-fist)</td><td>48</td><td>3</td><td>Map(special-defense -> 25, defense -> 20, special-attack -> 40, attack -> 50, hp -> 45, speed -> 60)</td><td>List(electric)</td><td>25</td></tr><tr><td>922</td><td>pawmo</td><td>List(volt-absorb, natural-cure, iron-fist)</td><td>123</td><td>4</td><td>Map(special-defense -> 40, defense -> 40, special-attack -> 50, attack -> 75, hp -> 60, speed -> 85)</td><td>List(electric, fighting)</td><td>65</td></tr><tr><td>923</td><td>pawmot</td><td>List(volt-absorb, natural-cure, iron-fist)</td><td>245</td><td>9</td><td>Map(special-defense -> 60, defense -> 70, special-attack -> 70, attack -> 115, hp -> 70, speed -> 105)</td><td>List(electric, fighting)</td><td>410</td></tr><tr><td>924</td><td>tandemaus</td><td>List(run-away, pickup, own-tempo)</td><td>61</td><td>3</td><td>Map(special-defense -> 45, defense -> 45, special-attack -> 40, attack -> 50, hp -> 50, speed -> 75)</td><td>List(normal)</td><td>18</td></tr><tr><td>925</td><td>maushold-family-of-four</td><td>List(friend-guard, cheek-pouch, technician)</td><td>165</td><td>3</td><td>Map(special-defense -> 75, defense -> 70, special-attack -> 65, attack -> 75, hp -> 74, speed -> 111)</td><td>List(normal)</td><td>23</td></tr><tr><td>926</td><td>fidough</td><td>List(own-tempo, klutz)</td><td>62</td><td>3</td><td>Map(special-defense -> 55, defense -> 70, special-attack -> 30, attack -> 55, hp -> 37, speed -> 65)</td><td>List(fairy)</td><td>109</td></tr><tr><td>927</td><td>dachsbun</td><td>List(well-baked-body, aroma-veil)</td><td>167</td><td>5</td><td>Map(special-defense -> 80, defense -> 115, special-attack -> 50, attack -> 80, hp -> 57, speed -> 95)</td><td>List(fairy)</td><td>149</td></tr><tr><td>928</td><td>smoliv</td><td>List(early-bird, harvest)</td><td>52</td><td>3</td><td>Map(special-defense -> 51, defense -> 45, special-attack -> 58, attack -> 35, hp -> 41, speed -> 30)</td><td>List(grass, normal)</td><td>65</td></tr><tr><td>929</td><td>dolliv</td><td>List(early-bird, harvest)</td><td>124</td><td>6</td><td>Map(special-defense -> 78, defense -> 60, special-attack -> 78, attack -> 53, hp -> 52, speed -> 33)</td><td>List(grass, normal)</td><td>119</td></tr><tr><td>930</td><td>arboliva</td><td>List(seed-sower, harvest)</td><td>255</td><td>14</td><td>Map(special-defense -> 109, defense -> 90, special-attack -> 125, attack -> 69, hp -> 78, speed -> 39)</td><td>List(grass, normal)</td><td>482</td></tr><tr><td>931</td><td>squawkabilly-green-plumage</td><td>List(intimidate, hustle, guts)</td><td>146</td><td>6</td><td>Map(special-defense -> 51, defense -> 51, special-attack -> 45, attack -> 96, hp -> 82, speed -> 92)</td><td>List(normal, flying)</td><td>24</td></tr><tr><td>932</td><td>nacli</td><td>List(purifying-salt, sturdy, clear-body)</td><td>56</td><td>4</td><td>Map(special-defense -> 35, defense -> 75, special-attack -> 35, attack -> 55, hp -> 55, speed -> 25)</td><td>List(rock)</td><td>160</td></tr><tr><td>933</td><td>naclstack</td><td>List(purifying-salt, sturdy, clear-body)</td><td>124</td><td>6</td><td>Map(special-defense -> 65, defense -> 100, special-attack -> 35, attack -> 60, hp -> 60, speed -> 35)</td><td>List(rock)</td><td>1050</td></tr><tr><td>934</td><td>garganacl</td><td>List(purifying-salt, sturdy, clear-body)</td><td>250</td><td>23</td><td>Map(special-defense -> 90, defense -> 130, special-attack -> 45, attack -> 100, hp -> 100, speed -> 35)</td><td>List(rock)</td><td>2400</td></tr><tr><td>935</td><td>charcadet</td><td>List(flash-fire, flame-body)</td><td>51</td><td>6</td><td>Map(special-defense -> 40, defense -> 40, special-attack -> 50, attack -> 50, hp -> 40, speed -> 35)</td><td>List(fire)</td><td>105</td></tr><tr><td>936</td><td>armarouge</td><td>List(flash-fire, weak-armor)</td><td>263</td><td>15</td><td>Map(special-defense -> 80, defense -> 100, special-attack -> 125, attack -> 60, hp -> 85, speed -> 75)</td><td>List(fire, psychic)</td><td>850</td></tr><tr><td>937</td><td>ceruledge</td><td>List(flash-fire, weak-armor)</td><td>263</td><td>16</td><td>Map(special-defense -> 100, defense -> 80, special-attack -> 60, attack -> 125, hp -> 75, speed -> 85)</td><td>List(fire, ghost)</td><td>620</td></tr><tr><td>938</td><td>tadbulb</td><td>List(own-tempo, static, damp)</td><td>54</td><td>3</td><td>Map(special-defense -> 35, defense -> 41, special-attack -> 59, attack -> 31, hp -> 61, speed -> 45)</td><td>List(electric)</td><td>4</td></tr><tr><td>939</td><td>bellibolt</td><td>List(electromorphosis, static, damp)</td><td>173</td><td>12</td><td>Map(special-defense -> 83, defense -> 91, special-attack -> 103, attack -> 64, hp -> 109, speed -> 45)</td><td>List(electric)</td><td>1130</td></tr><tr><td>940</td><td>wattrel</td><td>List(wind-power, volt-absorb, competitive)</td><td>56</td><td>4</td><td>Map(special-defense -> 40, defense -> 35, special-attack -> 55, attack -> 40, hp -> 40, speed -> 70)</td><td>List(electric, flying)</td><td>36</td></tr><tr><td>941</td><td>kilowattrel</td><td>List(wind-power, volt-absorb, competitive)</td><td>172</td><td>14</td><td>Map(special-defense -> 60, defense -> 60, special-attack -> 105, attack -> 70, hp -> 70, speed -> 125)</td><td>List(electric, flying)</td><td>386</td></tr><tr><td>942</td><td>maschiff</td><td>List(intimidate, run-away, stakeout)</td><td>68</td><td>5</td><td>Map(special-defense -> 51, defense -> 60, special-attack -> 40, attack -> 78, hp -> 60, speed -> 51)</td><td>List(dark)</td><td>160</td></tr><tr><td>943</td><td>mabosstiff</td><td>List(intimidate, guard-dog, stakeout)</td><td>177</td><td>11</td><td>Map(special-defense -> 70, defense -> 90, special-attack -> 60, attack -> 120, hp -> 80, speed -> 85)</td><td>List(dark)</td><td>610</td></tr><tr><td>944</td><td>shroodle</td><td>List(unburden, pickpocket, prankster)</td><td>58</td><td>2</td><td>Map(special-defense -> 35, defense -> 35, special-attack -> 40, attack -> 65, hp -> 40, speed -> 75)</td><td>List(poison, normal)</td><td>7</td></tr><tr><td>945</td><td>grafaiai</td><td>List(unburden, poison-touch, prankster)</td><td>170</td><td>7</td><td>Map(special-defense -> 72, defense -> 65, special-attack -> 80, attack -> 95, hp -> 63, speed -> 110)</td><td>List(poison, normal)</td><td>272</td></tr><tr><td>946</td><td>bramblin</td><td>List(wind-rider, infiltrator)</td><td>55</td><td>6</td><td>Map(special-defense -> 35, defense -> 30, special-attack -> 45, attack -> 65, hp -> 40, speed -> 60)</td><td>List(grass, ghost)</td><td>6</td></tr><tr><td>947</td><td>brambleghast</td><td>List(wind-rider, infiltrator)</td><td>168</td><td>12</td><td>Map(special-defense -> 70, defense -> 70, special-attack -> 80, attack -> 115, hp -> 55, speed -> 90)</td><td>List(grass, ghost)</td><td>60</td></tr><tr><td>948</td><td>toedscool</td><td>List(mycelium-might, mycelium-might)</td><td>67</td><td>9</td><td>Map(special-defense -> 100, defense -> 35, special-attack -> 50, attack -> 40, hp -> 40, speed -> 70)</td><td>List(ground, grass)</td><td>330</td></tr><tr><td>949</td><td>toedscruel</td><td>List(mycelium-might, mycelium-might)</td><td>180</td><td>19</td><td>Map(special-defense -> 120, defense -> 65, special-attack -> 80, attack -> 70, hp -> 80, speed -> 100)</td><td>List(ground, grass)</td><td>580</td></tr><tr><td>950</td><td>klawf</td><td>List(anger-shell, shell-armor, regenerator)</td><td>158</td><td>13</td><td>Map(special-defense -> 55, defense -> 115, special-attack -> 35, attack -> 100, hp -> 70, speed -> 75)</td><td>List(rock)</td><td>790</td></tr><tr><td>951</td><td>capsakid</td><td>List(chlorophyll, insomnia, klutz)</td><td>61</td><td>3</td><td>Map(special-defense -> 40, defense -> 40, special-attack -> 62, attack -> 62, hp -> 50, speed -> 50)</td><td>List(grass)</td><td>30</td></tr><tr><td>952</td><td>scovillain</td><td>List(chlorophyll, insomnia, moody)</td><td>170</td><td>9</td><td>Map(special-defense -> 65, defense -> 65, special-attack -> 108, attack -> 108, hp -> 65, speed -> 75)</td><td>List(grass, fire)</td><td>150</td></tr><tr><td>953</td><td>rellor</td><td>List(compound-eyes, shed-skin)</td><td>54</td><td>2</td><td>Map(special-defense -> 58, defense -> 60, special-attack -> 31, attack -> 50, hp -> 41, speed -> 30)</td><td>List(bug)</td><td>10</td></tr><tr><td>954</td><td>rabsca</td><td>List(synchronize, telepathy)</td><td>165</td><td>3</td><td>Map(special-defense -> 100, defense -> 85, special-attack -> 115, attack -> 50, hp -> 75, speed -> 45)</td><td>List(bug, psychic)</td><td>35</td></tr><tr><td>955</td><td>flittle</td><td>List(anticipation, frisk, speed-boost)</td><td>51</td><td>2</td><td>Map(special-defense -> 30, defense -> 30, special-attack -> 55, attack -> 35, hp -> 30, speed -> 75)</td><td>List(psychic)</td><td>15</td></tr><tr><td>956</td><td>espathra</td><td>List(opportunist, frisk, speed-boost)</td><td>168</td><td>19</td><td>Map(special-defense -> 60, defense -> 60, special-attack -> 101, attack -> 60, hp -> 95, speed -> 105)</td><td>List(psychic)</td><td>900</td></tr><tr><td>957</td><td>tinkatink</td><td>List(mold-breaker, own-tempo, pickpocket)</td><td>59</td><td>4</td><td>Map(special-defense -> 64, defense -> 45, special-attack -> 35, attack -> 45, hp -> 50, speed -> 58)</td><td>List(fairy, steel)</td><td>89</td></tr><tr><td>958</td><td>tinkatuff</td><td>List(mold-breaker, own-tempo, pickpocket)</td><td>133</td><td>7</td><td>Map(special-defense -> 82, defense -> 55, special-attack -> 45, attack -> 55, hp -> 65, speed -> 78)</td><td>List(fairy, steel)</td><td>591</td></tr><tr><td>959</td><td>tinkaton</td><td>List(mold-breaker, own-tempo, pickpocket)</td><td>253</td><td>7</td><td>Map(special-defense -> 105, defense -> 77, special-attack -> 70, attack -> 75, hp -> 85, speed -> 94)</td><td>List(fairy, steel)</td><td>1128</td></tr><tr><td>960</td><td>wiglett</td><td>List(gooey, rattled, sand-veil)</td><td>49</td><td>12</td><td>Map(special-defense -> 25, defense -> 25, special-attack -> 35, attack -> 55, hp -> 10, speed -> 95)</td><td>List(water)</td><td>18</td></tr><tr><td>961</td><td>wugtrio</td><td>List(gooey, rattled, sand-veil)</td><td>149</td><td>12</td><td>Map(special-defense -> 70, defense -> 50, special-attack -> 50, attack -> 100, hp -> 35, speed -> 120)</td><td>List(water)</td><td>54</td></tr><tr><td>962</td><td>bombirdier</td><td>List(big-pecks, keen-eye, rocky-payload)</td><td>243</td><td>15</td><td>Map(special-defense -> 85, defense -> 85, special-attack -> 60, attack -> 103, hp -> 70, speed -> 82)</td><td>List(flying, dark)</td><td>429</td></tr><tr><td>963</td><td>finizen</td><td>List(water-veil, water-veil)</td><td>63</td><td>13</td><td>Map(special-defense -> 40, defense -> 40, special-attack -> 45, attack -> 45, hp -> 70, speed -> 75)</td><td>List(water)</td><td>602</td></tr><tr><td>964</td><td>palafin-zero</td><td>List(zero-to-hero, zero-to-hero)</td><td>160</td><td>13</td><td>Map(special-defense -> 62, defense -> 72, special-attack -> 53, attack -> 70, hp -> 100, speed -> 100)</td><td>List(water)</td><td>602</td></tr><tr><td>965</td><td>varoom</td><td>List(overcoat, slow-start)</td><td>60</td><td>10</td><td>Map(special-defense -> 45, defense -> 63, special-attack -> 30, attack -> 70, hp -> 45, speed -> 47)</td><td>List(steel, poison)</td><td>350</td></tr><tr><td>966</td><td>revavroom</td><td>List(overcoat, filter)</td><td>175</td><td>18</td><td>Map(special-defense -> 67, defense -> 90, special-attack -> 54, attack -> 119, hp -> 80, speed -> 90)</td><td>List(steel, poison)</td><td>1200</td></tr><tr><td>967</td><td>cyclizar</td><td>List(shed-skin, regenerator)</td><td>175</td><td>16</td><td>Map(special-defense -> 65, defense -> 65, special-attack -> 85, attack -> 95, hp -> 70, speed -> 121)</td><td>List(dragon, normal)</td><td>630</td></tr><tr><td>968</td><td>orthworm</td><td>List(earth-eater, sand-veil)</td><td>240</td><td>25</td><td>Map(special-defense -> 55, defense -> 145, special-attack -> 60, attack -> 85, hp -> 70, speed -> 65)</td><td>List(steel)</td><td>3100</td></tr><tr><td>969</td><td>glimmet</td><td>List(toxic-debris, corrosion)</td><td>70</td><td>7</td><td>Map(special-defense -> 60, defense -> 42, special-attack -> 105, attack -> 35, hp -> 48, speed -> 60)</td><td>List(rock, poison)</td><td>80</td></tr><tr><td>970</td><td>glimmora</td><td>List(toxic-debris, corrosion)</td><td>184</td><td>15</td><td>Map(special-defense -> 81, defense -> 90, special-attack -> 130, attack -> 55, hp -> 83, speed -> 86)</td><td>List(rock, poison)</td><td>450</td></tr><tr><td>971</td><td>greavard</td><td>List(pickup, fluffy)</td><td>58</td><td>6</td><td>Map(special-defense -> 55, defense -> 60, special-attack -> 30, attack -> 61, hp -> 50, speed -> 34)</td><td>List(ghost)</td><td>350</td></tr><tr><td>972</td><td>houndstone</td><td>List(sand-rush, fluffy)</td><td>171</td><td>20</td><td>Map(special-defense -> 97, defense -> 100, special-attack -> 50, attack -> 101, hp -> 72, speed -> 68)</td><td>List(ghost)</td><td>150</td></tr><tr><td>973</td><td>flamigo</td><td>List(scrappy, tangled-feet, costar)</td><td>175</td><td>16</td><td>Map(special-defense -> 64, defense -> 74, special-attack -> 75, attack -> 115, hp -> 82, speed -> 90)</td><td>List(flying, fighting)</td><td>370</td></tr><tr><td>974</td><td>cetoddle</td><td>List(thick-fat, snow-cloak, sheer-force)</td><td>67</td><td>12</td><td>Map(special-defense -> 40, defense -> 45, special-attack -> 30, attack -> 68, hp -> 108, speed -> 43)</td><td>List(ice)</td><td>450</td></tr><tr><td>975</td><td>cetitan</td><td>List(thick-fat, slush-rush, sheer-force)</td><td>182</td><td>45</td><td>Map(special-defense -> 55, defense -> 65, special-attack -> 45, attack -> 113, hp -> 170, speed -> 73)</td><td>List(ice)</td><td>7000</td></tr><tr><td>976</td><td>veluza</td><td>List(mold-breaker, sharpness)</td><td>167</td><td>25</td><td>Map(special-defense -> 65, defense -> 73, special-attack -> 78, attack -> 102, hp -> 90, speed -> 70)</td><td>List(water, psychic)</td><td>900</td></tr><tr><td>977</td><td>dondozo</td><td>List(unaware, oblivious, water-veil)</td><td>265</td><td>120</td><td>Map(special-defense -> 65, defense -> 115, special-attack -> 65, attack -> 100, hp -> 150, speed -> 35)</td><td>List(water)</td><td>2200</td></tr><tr><td>978</td><td>tatsugiri-curly</td><td>List(commander, storm-drain)</td><td>166</td><td>3</td><td>Map(special-defense -> 95, defense -> 60, special-attack -> 120, attack -> 50, hp -> 68, speed -> 82)</td><td>List(dragon, water)</td><td>80</td></tr><tr><td>979</td><td>annihilape</td><td>List(vital-spirit, inner-focus, defiant)</td><td>268</td><td>12</td><td>Map(special-defense -> 90, defense -> 80, special-attack -> 50, attack -> 115, hp -> 110, speed -> 90)</td><td>List(fighting, ghost)</td><td>560</td></tr><tr><td>980</td><td>clodsire</td><td>List(poison-point, water-absorb, unaware)</td><td>151</td><td>18</td><td>Map(special-defense -> 100, defense -> 60, special-attack -> 45, attack -> 75, hp -> 130, speed -> 20)</td><td>List(poison, ground)</td><td>2230</td></tr><tr><td>981</td><td>farigiraf</td><td>List(cud-chew, armor-tail, sap-sipper)</td><td>260</td><td>32</td><td>Map(special-defense -> 70, defense -> 70, special-attack -> 110, attack -> 90, hp -> 120, speed -> 60)</td><td>List(normal, psychic)</td><td>1600</td></tr><tr><td>982</td><td>dudunsparce-two-segment</td><td>List(serene-grace, run-away, rattled)</td><td>182</td><td>36</td><td>Map(special-defense -> 75, defense -> 80, special-attack -> 85, attack -> 100, hp -> 125, speed -> 55)</td><td>List(normal)</td><td>392</td></tr><tr><td>983</td><td>kingambit</td><td>List(defiant, supreme-overlord, pressure)</td><td>275</td><td>20</td><td>Map(special-defense -> 85, defense -> 120, special-attack -> 60, attack -> 135, hp -> 100, speed -> 50)</td><td>List(dark, steel)</td><td>1200</td></tr><tr><td>984</td><td>great-tusk</td><td>List(protosynthesis)</td><td>285</td><td>22</td><td>Map(special-defense -> 53, defense -> 131, special-attack -> 53, attack -> 131, hp -> 115, speed -> 87)</td><td>List(ground, fighting)</td><td>3200</td></tr><tr><td>985</td><td>scream-tail</td><td>List(protosynthesis)</td><td>285</td><td>12</td><td>Map(special-defense -> 115, defense -> 99, special-attack -> 65, attack -> 65, hp -> 115, speed -> 111)</td><td>List(fairy, psychic)</td><td>80</td></tr><tr><td>986</td><td>brute-bonnet</td><td>List(protosynthesis)</td><td>285</td><td>12</td><td>Map(special-defense -> 99, defense -> 99, special-attack -> 79, attack -> 127, hp -> 111, speed -> 55)</td><td>List(grass, dark)</td><td>210</td></tr><tr><td>987</td><td>flutter-mane</td><td>List(protosynthesis)</td><td>285</td><td>14</td><td>Map(special-defense -> 135, defense -> 55, special-attack -> 135, attack -> 55, hp -> 55, speed -> 135)</td><td>List(ghost, fairy)</td><td>40</td></tr><tr><td>988</td><td>slither-wing</td><td>List(protosynthesis)</td><td>285</td><td>32</td><td>Map(special-defense -> 105, defense -> 79, special-attack -> 85, attack -> 135, hp -> 85, speed -> 81)</td><td>List(bug, fighting)</td><td>920</td></tr><tr><td>989</td><td>sandy-shocks</td><td>List(protosynthesis)</td><td>285</td><td>23</td><td>Map(special-defense -> 85, defense -> 97, special-attack -> 121, attack -> 81, hp -> 85, speed -> 101)</td><td>List(electric, ground)</td><td>600</td></tr><tr><td>990</td><td>iron-treads</td><td>List(quark-drive)</td><td>285</td><td>9</td><td>Map(special-defense -> 70, defense -> 120, special-attack -> 72, attack -> 112, hp -> 90, speed -> 106)</td><td>List(ground, steel)</td><td>2400</td></tr><tr><td>991</td><td>iron-bundle</td><td>List(quark-drive)</td><td>285</td><td>6</td><td>Map(special-defense -> 60, defense -> 114, special-attack -> 124, attack -> 80, hp -> 56, speed -> 136)</td><td>List(ice, water)</td><td>110</td></tr><tr><td>992</td><td>iron-hands</td><td>List(quark-drive)</td><td>285</td><td>18</td><td>Map(special-defense -> 68, defense -> 108, special-attack -> 50, attack -> 140, hp -> 154, speed -> 50)</td><td>List(fighting, electric)</td><td>3807</td></tr><tr><td>993</td><td>iron-jugulis</td><td>List(quark-drive)</td><td>285</td><td>13</td><td>Map(special-defense -> 80, defense -> 86, special-attack -> 122, attack -> 80, hp -> 94, speed -> 108)</td><td>List(dark, flying)</td><td>1110</td></tr><tr><td>994</td><td>iron-moth</td><td>List(quark-drive)</td><td>285</td><td>12</td><td>Map(special-defense -> 110, defense -> 60, special-attack -> 140, attack -> 70, hp -> 80, speed -> 110)</td><td>List(fire, poison)</td><td>360</td></tr><tr><td>995</td><td>iron-thorns</td><td>List(quark-drive)</td><td>285</td><td>16</td><td>Map(special-defense -> 84, defense -> 110, special-attack -> 70, attack -> 134, hp -> 100, speed -> 72)</td><td>List(rock, electric)</td><td>3030</td></tr><tr><td>996</td><td>frigibax</td><td>List(thermal-exchange, ice-body)</td><td>64</td><td>5</td><td>Map(special-defense -> 45, defense -> 45, special-attack -> 35, attack -> 75, hp -> 65, speed -> 55)</td><td>List(dragon, ice)</td><td>170</td></tr><tr><td>997</td><td>arctibax</td><td>List(thermal-exchange, ice-body)</td><td>148</td><td>8</td><td>Map(special-defense -> 65, defense -> 66, special-attack -> 45, attack -> 95, hp -> 90, speed -> 62)</td><td>List(dragon, ice)</td><td>300</td></tr><tr><td>998</td><td>baxcalibur</td><td>List(thermal-exchange, ice-body)</td><td>300</td><td>21</td><td>Map(special-defense -> 86, defense -> 92, special-attack -> 75, attack -> 145, hp -> 115, speed -> 87)</td><td>List(dragon, ice)</td><td>2100</td></tr><tr><td>999</td><td>gimmighoul</td><td>List(rattled)</td><td>60</td><td>3</td><td>Map(special-defense -> 70, defense -> 70, special-attack -> 75, attack -> 30, hp -> 45, speed -> 10)</td><td>List(ghost)</td><td>50</td></tr><tr><td>1000</td><td>gholdengo</td><td>List(good-as-gold)</td><td>275</td><td>12</td><td>Map(special-defense -> 91, defense -> 95, special-attack -> 133, attack -> 60, hp -> 87, speed -> 84)</td><td>List(steel, ghost)</td><td>300</td></tr><tr><td>1001</td><td>wo-chien</td><td>List(tablets-of-ruin)</td><td>285</td><td>15</td><td>Map(special-defense -> 135, defense -> 100, special-attack -> 95, attack -> 85, hp -> 85, speed -> 70)</td><td>List(dark, grass)</td><td>742</td></tr><tr><td>1002</td><td>chien-pao</td><td>List(sword-of-ruin)</td><td>285</td><td>19</td><td>Map(special-defense -> 65, defense -> 80, special-attack -> 90, attack -> 120, hp -> 80, speed -> 135)</td><td>List(dark, ice)</td><td>1522</td></tr><tr><td>1003</td><td>ting-lu</td><td>List(vessel-of-ruin)</td><td>285</td><td>27</td><td>Map(special-defense -> 80, defense -> 125, special-attack -> 55, attack -> 110, hp -> 155, speed -> 45)</td><td>List(dark, ground)</td><td>6997</td></tr><tr><td>1004</td><td>chi-yu</td><td>List(beads-of-ruin)</td><td>285</td><td>4</td><td>Map(special-defense -> 120, defense -> 80, special-attack -> 135, attack -> 80, hp -> 55, speed -> 100)</td><td>List(dark, fire)</td><td>49</td></tr><tr><td>1005</td><td>roaring-moon</td><td>List(protosynthesis)</td><td>295</td><td>20</td><td>Map(special-defense -> 101, defense -> 71, special-attack -> 55, attack -> 139, hp -> 105, speed -> 119)</td><td>List(dragon, dark)</td><td>3800</td></tr><tr><td>1006</td><td>iron-valiant</td><td>List(quark-drive)</td><td>295</td><td>14</td><td>Map(special-defense -> 60, defense -> 90, special-attack -> 120, attack -> 130, hp -> 74, speed -> 116)</td><td>List(fairy, fighting)</td><td>350</td></tr><tr><td>1007</td><td>koraidon</td><td>List(orichalcum-pulse)</td><td>335</td><td>25</td><td>Map(special-defense -> 100, defense -> 115, special-attack -> 85, attack -> 135, hp -> 100, speed -> 135)</td><td>List(fighting, dragon)</td><td>3030</td></tr><tr><td>1008</td><td>miraidon</td><td>List(hadron-engine)</td><td>335</td><td>35</td><td>Map(special-defense -> 115, defense -> 100, special-attack -> 135, attack -> 85, hp -> 100, speed -> 135)</td><td>List(electric, dragon)</td><td>2400</td></tr><tr><td>1009</td><td>walking-wake</td><td>List(protosynthesis)</td><td>295</td><td>35</td><td>Map(special-defense -> 83, defense -> 91, special-attack -> 125, attack -> 83, hp -> 99, speed -> 109)</td><td>List(water, dragon)</td><td>2800</td></tr><tr><td>1010</td><td>iron-leaves</td><td>List(quark-drive)</td><td>295</td><td>15</td><td>Map(special-defense -> 108, defense -> 88, special-attack -> 70, attack -> 130, hp -> 90, speed -> 104)</td><td>List(grass, psychic)</td><td>1250</td></tr><tr><td>1011</td><td>dipplin</td><td>List(supersweet-syrup, gluttony, sticky-hold)</td><td>170</td><td>4</td><td>Map(special-defense -> 80, defense -> 110, special-attack -> 95, attack -> 80, hp -> 80, speed -> 40)</td><td>List(grass, dragon)</td><td>97</td></tr><tr><td>1012</td><td>poltchageist</td><td>List(hospitality, heatproof)</td><td>62</td><td>1</td><td>Map(special-defense -> 54, defense -> 45, special-attack -> 74, attack -> 45, hp -> 40, speed -> 50)</td><td>List(grass, ghost)</td><td>11</td></tr><tr><td>1013</td><td>sinistcha</td><td>List(hospitality, heatproof)</td><td>178</td><td>2</td><td>Map(special-defense -> 80, defense -> 106, special-attack -> 121, attack -> 60, hp -> 71, speed -> 70)</td><td>List(grass, ghost)</td><td>22</td></tr><tr><td>1014</td><td>okidogi</td><td>List(toxic-chain, guard-dog)</td><td>278</td><td>18</td><td>Map(special-defense -> 86, defense -> 115, special-attack -> 58, attack -> 128, hp -> 88, speed -> 80)</td><td>List(poison, fighting)</td><td>922</td></tr><tr><td>1015</td><td>munkidori</td><td>List(toxic-chain, frisk)</td><td>278</td><td>10</td><td>Map(special-defense -> 90, defense -> 66, special-attack -> 130, attack -> 75, hp -> 88, speed -> 106)</td><td>List(poison, psychic)</td><td>122</td></tr><tr><td>1016</td><td>fezandipiti</td><td>List(toxic-chain, technician)</td><td>278</td><td>14</td><td>Map(special-defense -> 125, defense -> 82, special-attack -> 70, attack -> 91, hp -> 88, speed -> 99)</td><td>List(poison, fairy)</td><td>301</td></tr><tr><td>1017</td><td>ogerpon</td><td>List(defiant)</td><td>275</td><td>12</td><td>Map(special-defense -> 96, defense -> 84, special-attack -> 60, attack -> 120, hp -> 80, speed -> 110)</td><td>List(grass)</td><td>398</td></tr><tr><td>1018</td><td>archaludon</td><td>List(stamina, sturdy, stalwart)</td><td>300</td><td>20</td><td>Map(special-defense -> 65, defense -> 130, special-attack -> 125, attack -> 105, hp -> 90, speed -> 85)</td><td>List(steel, dragon)</td><td>600</td></tr><tr><td>1019</td><td>hydrapple</td><td>List(supersweet-syrup, regenerator, sticky-hold)</td><td>270</td><td>18</td><td>Map(special-defense -> 80, defense -> 110, special-attack -> 120, attack -> 80, hp -> 106, speed -> 44)</td><td>List(grass, dragon)</td><td>930</td></tr><tr><td>1020</td><td>gouging-fire</td><td>List(protosynthesis)</td><td>295</td><td>35</td><td>Map(special-defense -> 93, defense -> 121, special-attack -> 65, attack -> 115, hp -> 105, speed -> 91)</td><td>List(fire, dragon)</td><td>5900</td></tr><tr><td>1021</td><td>raging-bolt</td><td>List(protosynthesis)</td><td>295</td><td>52</td><td>Map(special-defense -> 89, defense -> 91, special-attack -> 137, attack -> 73, hp -> 125, speed -> 75)</td><td>List(electric, dragon)</td><td>4800</td></tr><tr><td>1022</td><td>iron-boulder</td><td>List(quark-drive)</td><td>295</td><td>15</td><td>Map(special-defense -> 108, defense -> 80, special-attack -> 68, attack -> 120, hp -> 90, speed -> 124)</td><td>List(rock, psychic)</td><td>1625</td></tr><tr><td>1023</td><td>iron-crown</td><td>List(quark-drive)</td><td>295</td><td>16</td><td>Map(special-defense -> 108, defense -> 100, special-attack -> 122, attack -> 72, hp -> 90, speed -> 98)</td><td>List(steel, psychic)</td><td>1560</td></tr><tr><td>1024</td><td>terapagos</td><td>List(tera-shift)</td><td>90</td><td>2</td><td>Map(special-defense -> 85, defense -> 85, special-attack -> 65, attack -> 65, hp -> 90, speed -> 60)</td><td>List(normal)</td><td>65</td></tr><tr><td>1025</td><td>pecharunt</td><td>List(poison-puppeteer)</td><td>300</td><td>3</td><td>Map(special-defense -> 88, defense -> 160, special-attack -> 88, attack -> 88, hp -> 88, speed -> 88)</td><td>List(poison, ghost)</td><td>3</td></tr><tr><td>10001</td><td>deoxys-attack</td><td>List(pressure)</td><td>270</td><td>17</td><td>Map(special-defense -> 20, defense -> 20, special-attack -> 180, attack -> 180, hp -> 50, speed -> 150)</td><td>List(psychic)</td><td>608</td></tr><tr><td>10002</td><td>deoxys-defense</td><td>List(pressure)</td><td>270</td><td>17</td><td>Map(special-defense -> 160, defense -> 160, special-attack -> 70, attack -> 70, hp -> 50, speed -> 90)</td><td>List(psychic)</td><td>608</td></tr><tr><td>10003</td><td>deoxys-speed</td><td>List(pressure)</td><td>270</td><td>17</td><td>Map(special-defense -> 90, defense -> 90, special-attack -> 95, attack -> 95, hp -> 50, speed -> 180)</td><td>List(psychic)</td><td>608</td></tr><tr><td>10004</td><td>wormadam-sandy</td><td>List(anticipation, overcoat)</td><td>148</td><td>5</td><td>Map(special-defense -> 85, defense -> 105, special-attack -> 59, attack -> 79, hp -> 60, speed -> 36)</td><td>List(bug, ground)</td><td>65</td></tr><tr><td>10005</td><td>wormadam-trash</td><td>List(anticipation, overcoat)</td><td>148</td><td>5</td><td>Map(special-defense -> 95, defense -> 95, special-attack -> 69, attack -> 69, hp -> 60, speed -> 36)</td><td>List(bug, steel)</td><td>65</td></tr><tr><td>10006</td><td>shaymin-sky</td><td>List(serene-grace)</td><td>270</td><td>4</td><td>Map(special-defense -> 75, defense -> 75, special-attack -> 120, attack -> 103, hp -> 100, speed -> 127)</td><td>List(grass, flying)</td><td>52</td></tr><tr><td>10007</td><td>giratina-origin</td><td>List(levitate)</td><td>340</td><td>69</td><td>Map(special-defense -> 100, defense -> 100, special-attack -> 120, attack -> 120, hp -> 150, speed -> 90)</td><td>List(ghost, dragon)</td><td>6500</td></tr><tr><td>10008</td><td>rotom-heat</td><td>List(levitate)</td><td>182</td><td>3</td><td>Map(special-defense -> 107, defense -> 107, special-attack -> 105, attack -> 65, hp -> 50, speed -> 86)</td><td>List(electric, fire)</td><td>3</td></tr><tr><td>10009</td><td>rotom-wash</td><td>List(levitate)</td><td>182</td><td>3</td><td>Map(special-defense -> 107, defense -> 107, special-attack -> 105, attack -> 65, hp -> 50, speed -> 86)</td><td>List(electric, water)</td><td>3</td></tr><tr><td>10010</td><td>rotom-frost</td><td>List(levitate)</td><td>182</td><td>3</td><td>Map(special-defense -> 107, defense -> 107, special-attack -> 105, attack -> 65, hp -> 50, speed -> 86)</td><td>List(electric, ice)</td><td>3</td></tr><tr><td>10011</td><td>rotom-fan</td><td>List(levitate)</td><td>182</td><td>3</td><td>Map(special-defense -> 107, defense -> 107, special-attack -> 105, attack -> 65, hp -> 50, speed -> 86)</td><td>List(electric, flying)</td><td>3</td></tr><tr><td>10012</td><td>rotom-mow</td><td>List(levitate)</td><td>182</td><td>3</td><td>Map(special-defense -> 107, defense -> 107, special-attack -> 105, attack -> 65, hp -> 50, speed -> 86)</td><td>List(electric, grass)</td><td>3</td></tr><tr><td>10013</td><td>castform-sunny</td><td>List(forecast)</td><td>147</td><td>3</td><td>Map(special-defense -> 70, defense -> 70, special-attack -> 70, attack -> 70, hp -> 70, speed -> 70)</td><td>List(fire)</td><td>8</td></tr><tr><td>10014</td><td>castform-rainy</td><td>List(forecast)</td><td>147</td><td>3</td><td>Map(special-defense -> 70, defense -> 70, special-attack -> 70, attack -> 70, hp -> 70, speed -> 70)</td><td>List(water)</td><td>8</td></tr><tr><td>10015</td><td>castform-snowy</td><td>List(forecast)</td><td>147</td><td>3</td><td>Map(special-defense -> 70, defense -> 70, special-attack -> 70, attack -> 70, hp -> 70, speed -> 70)</td><td>List(ice)</td><td>8</td></tr><tr><td>10016</td><td>basculin-blue-striped</td><td>List(rock-head, adaptability, mold-breaker)</td><td>161</td><td>10</td><td>Map(special-defense -> 55, defense -> 65, special-attack -> 80, attack -> 92, hp -> 70, speed -> 98)</td><td>List(water)</td><td>180</td></tr><tr><td>10017</td><td>darmanitan-zen</td><td>List(sheer-force, zen-mode)</td><td>189</td><td>13</td><td>Map(special-defense -> 105, defense -> 105, special-attack -> 140, attack -> 30, hp -> 105, speed -> 55)</td><td>List(fire, psychic)</td><td>929</td></tr><tr><td>10018</td><td>meloetta-pirouette</td><td>List(serene-grace)</td><td>270</td><td>6</td><td>Map(special-defense -> 77, defense -> 90, special-attack -> 77, attack -> 128, hp -> 100, speed -> 128)</td><td>List(normal, fighting)</td><td>65</td></tr><tr><td>10019</td><td>tornadus-therian</td><td>List(regenerator)</td><td>290</td><td>14</td><td>Map(special-defense -> 90, defense -> 80, special-attack -> 110, attack -> 100, hp -> 79, speed -> 121)</td><td>List(flying)</td><td>630</td></tr><tr><td>10020</td><td>thundurus-therian</td><td>List(volt-absorb)</td><td>290</td><td>30</td><td>Map(special-defense -> 80, defense -> 70, special-attack -> 145, attack -> 105, hp -> 79, speed -> 101)</td><td>List(electric, flying)</td><td>610</td></tr><tr><td>10021</td><td>landorus-therian</td><td>List(intimidate)</td><td>300</td><td>13</td><td>Map(special-defense -> 80, defense -> 90, special-attack -> 105, attack -> 145, hp -> 89, speed -> 91)</td><td>List(ground, flying)</td><td>680</td></tr><tr><td>10022</td><td>kyurem-black</td><td>List(teravolt)</td><td>350</td><td>33</td><td>Map(special-defense -> 90, defense -> 100, special-attack -> 120, attack -> 170, hp -> 125, speed -> 95)</td><td>List(dragon, ice)</td><td>3250</td></tr><tr><td>10023</td><td>kyurem-white</td><td>List(turboblaze)</td><td>350</td><td>36</td><td>Map(special-defense -> 100, defense -> 90, special-attack -> 170, attack -> 120, hp -> 125, speed -> 95)</td><td>List(dragon, ice)</td><td>3250</td></tr><tr><td>10024</td><td>keldeo-resolute</td><td>List(justified)</td><td>290</td><td>14</td><td>Map(special-defense -> 90, defense -> 90, special-attack -> 129, attack -> 72, hp -> 91, speed -> 108)</td><td>List(water, fighting)</td><td>485</td></tr><tr><td>10025</td><td>meowstic-female</td><td>List(keen-eye, infiltrator, competitive)</td><td>163</td><td>6</td><td>Map(special-defense -> 81, defense -> 76, special-attack -> 83, attack -> 48, hp -> 74, speed -> 104)</td><td>List(psychic)</td><td>85</td></tr><tr><td>10026</td><td>aegislash-blade</td><td>List(stance-change)</td><td>250</td><td>17</td><td>Map(special-defense -> 50, defense -> 50, special-attack -> 140, attack -> 140, hp -> 60, speed -> 60)</td><td>List(steel, ghost)</td><td>530</td></tr><tr><td>10027</td><td>pumpkaboo-small</td><td>List(pickup, frisk, insomnia)</td><td>67</td><td>3</td><td>Map(special-defense -> 55, defense -> 70, special-attack -> 44, attack -> 66, hp -> 44, speed -> 56)</td><td>List(ghost, grass)</td><td>35</td></tr><tr><td>10028</td><td>pumpkaboo-large</td><td>List(pickup, frisk, insomnia)</td><td>67</td><td>5</td><td>Map(special-defense -> 55, defense -> 70, special-attack -> 44, attack -> 66, hp -> 54, speed -> 46)</td><td>List(ghost, grass)</td><td>75</td></tr><tr><td>10029</td><td>pumpkaboo-super</td><td>List(pickup, frisk, insomnia)</td><td>67</td><td>8</td><td>Map(special-defense -> 55, defense -> 70, special-attack -> 44, attack -> 66, hp -> 59, speed -> 41)</td><td>List(ghost, grass)</td><td>150</td></tr><tr><td>10030</td><td>gourgeist-small</td><td>List(pickup, frisk, insomnia)</td><td>173</td><td>7</td><td>Map(special-defense -> 75, defense -> 122, special-attack -> 58, attack -> 85, hp -> 55, speed -> 99)</td><td>List(ghost, grass)</td><td>95</td></tr><tr><td>10031</td><td>gourgeist-large</td><td>List(pickup, frisk, insomnia)</td><td>173</td><td>11</td><td>Map(special-defense -> 75, defense -> 122, special-attack -> 58, attack -> 95, hp -> 75, speed -> 69)</td><td>List(ghost, grass)</td><td>140</td></tr><tr><td>10032</td><td>gourgeist-super</td><td>List(pickup, frisk, insomnia)</td><td>173</td><td>17</td><td>Map(special-defense -> 75, defense -> 122, special-attack -> 58, attack -> 100, hp -> 85, speed -> 54)</td><td>List(ghost, grass)</td><td>390</td></tr><tr><td>10033</td><td>venusaur-mega</td><td>List(thick-fat)</td><td>281</td><td>24</td><td>Map(special-defense -> 120, defense -> 123, special-attack -> 122, attack -> 100, hp -> 80, speed -> 80)</td><td>List(grass, poison)</td><td>1555</td></tr><tr><td>10034</td><td>charizard-mega-x</td><td>List(tough-claws)</td><td>285</td><td>17</td><td>Map(special-defense -> 85, defense -> 111, special-attack -> 130, attack -> 130, hp -> 78, speed -> 100)</td><td>List(fire, dragon)</td><td>1105</td></tr><tr><td>10035</td><td>charizard-mega-y</td><td>List(drought)</td><td>285</td><td>17</td><td>Map(special-defense -> 115, defense -> 78, special-attack -> 159, attack -> 104, hp -> 78, speed -> 100)</td><td>List(fire, flying)</td><td>1005</td></tr><tr><td>10036</td><td>blastoise-mega</td><td>List(mega-launcher)</td><td>284</td><td>16</td><td>Map(special-defense -> 115, defense -> 120, special-attack -> 135, attack -> 103, hp -> 79, speed -> 78)</td><td>List(water)</td><td>1011</td></tr><tr><td>10037</td><td>alakazam-mega</td><td>List(trace)</td><td>270</td><td>12</td><td>Map(special-defense -> 105, defense -> 65, special-attack -> 175, attack -> 50, hp -> 55, speed -> 150)</td><td>List(psychic)</td><td>480</td></tr><tr><td>10038</td><td>gengar-mega</td><td>List(shadow-tag)</td><td>270</td><td>14</td><td>Map(special-defense -> 95, defense -> 80, special-attack -> 170, attack -> 65, hp -> 60, speed -> 130)</td><td>List(ghost, poison)</td><td>405</td></tr><tr><td>10039</td><td>kangaskhan-mega</td><td>List(parental-bond)</td><td>207</td><td>22</td><td>Map(special-defense -> 100, defense -> 100, special-attack -> 60, attack -> 125, hp -> 105, speed -> 100)</td><td>List(normal)</td><td>1000</td></tr><tr><td>10040</td><td>pinsir-mega</td><td>List(aerilate)</td><td>210</td><td>17</td><td>Map(special-defense -> 90, defense -> 120, special-attack -> 65, attack -> 155, hp -> 65, speed -> 105)</td><td>List(bug, flying)</td><td>590</td></tr><tr><td>10041</td><td>gyarados-mega</td><td>List(mold-breaker)</td><td>224</td><td>65</td><td>Map(special-defense -> 130, defense -> 109, special-attack -> 70, attack -> 155, hp -> 95, speed -> 81)</td><td>List(water, dark)</td><td>3050</td></tr><tr><td>10042</td><td>aerodactyl-mega</td><td>List(tough-claws)</td><td>215</td><td>21</td><td>Map(special-defense -> 95, defense -> 85, special-attack -> 70, attack -> 135, hp -> 80, speed -> 150)</td><td>List(rock, flying)</td><td>790</td></tr><tr><td>10043</td><td>mewtwo-mega-x</td><td>List(steadfast)</td><td>351</td><td>23</td><td>Map(special-defense -> 100, defense -> 100, special-attack -> 154, attack -> 190, hp -> 106, speed -> 130)</td><td>List(psychic, fighting)</td><td>1270</td></tr><tr><td>10044</td><td>mewtwo-mega-y</td><td>List(insomnia)</td><td>351</td><td>15</td><td>Map(special-defense -> 120, defense -> 70, special-attack -> 194, attack -> 150, hp -> 106, speed -> 140)</td><td>List(psychic)</td><td>330</td></tr><tr><td>10045</td><td>ampharos-mega</td><td>List(mold-breaker)</td><td>275</td><td>14</td><td>Map(special-defense -> 110, defense -> 105, special-attack -> 165, attack -> 95, hp -> 90, speed -> 45)</td><td>List(electric, dragon)</td><td>615</td></tr><tr><td>10046</td><td>scizor-mega</td><td>List(technician)</td><td>210</td><td>20</td><td>Map(special-defense -> 100, defense -> 140, special-attack -> 65, attack -> 150, hp -> 70, speed -> 75)</td><td>List(bug, steel)</td><td>1250</td></tr><tr><td>10047</td><td>heracross-mega</td><td>List(skill-link)</td><td>210</td><td>17</td><td>Map(special-defense -> 105, defense -> 115, special-attack -> 40, attack -> 185, hp -> 80, speed -> 75)</td><td>List(bug, fighting)</td><td>625</td></tr><tr><td>10048</td><td>houndoom-mega</td><td>List(solar-power)</td><td>210</td><td>19</td><td>Map(special-defense -> 90, defense -> 90, special-attack -> 140, attack -> 90, hp -> 75, speed -> 115)</td><td>List(dark, fire)</td><td>495</td></tr><tr><td>10049</td><td>tyranitar-mega</td><td>List(sand-stream)</td><td>315</td><td>25</td><td>Map(special-defense -> 120, defense -> 150, special-attack -> 95, attack -> 164, hp -> 100, speed -> 71)</td><td>List(rock, dark)</td><td>2550</td></tr><tr><td>10050</td><td>blaziken-mega</td><td>List(speed-boost)</td><td>284</td><td>19</td><td>Map(special-defense -> 80, defense -> 80, special-attack -> 130, attack -> 160, hp -> 80, speed -> 100)</td><td>List(fire, fighting)</td><td>520</td></tr><tr><td>10051</td><td>gardevoir-mega</td><td>List(pixilate)</td><td>278</td><td>16</td><td>Map(special-defense -> 135, defense -> 65, special-attack -> 165, attack -> 85, hp -> 68, speed -> 100)</td><td>List(psychic, fairy)</td><td>484</td></tr><tr><td>10052</td><td>mawile-mega</td><td>List(huge-power)</td><td>168</td><td>10</td><td>Map(special-defense -> 95, defense -> 125, special-attack -> 55, attack -> 105, hp -> 50, speed -> 50)</td><td>List(steel, fairy)</td><td>235</td></tr><tr><td>10053</td><td>aggron-mega</td><td>List(filter)</td><td>284</td><td>22</td><td>Map(special-defense -> 80, defense -> 230, special-attack -> 60, attack -> 140, hp -> 70, speed -> 50)</td><td>List(steel)</td><td>3950</td></tr><tr><td>10054</td><td>medicham-mega</td><td>List(pure-power)</td><td>179</td><td>13</td><td>Map(special-defense -> 85, defense -> 85, special-attack -> 80, attack -> 100, hp -> 60, speed -> 100)</td><td>List(fighting, psychic)</td><td>315</td></tr><tr><td>10055</td><td>manectric-mega</td><td>List(intimidate)</td><td>201</td><td>18</td><td>Map(special-defense -> 80, defense -> 80, special-attack -> 135, attack -> 75, hp -> 70, speed -> 135)</td><td>List(electric)</td><td>440</td></tr><tr><td>10056</td><td>banette-mega</td><td>List(prankster)</td><td>194</td><td>12</td><td>Map(special-defense -> 83, defense -> 75, special-attack -> 93, attack -> 165, hp -> 64, speed -> 75)</td><td>List(ghost)</td><td>130</td></tr><tr><td>10057</td><td>absol-mega</td><td>List(magic-bounce)</td><td>198</td><td>12</td><td>Map(special-defense -> 60, defense -> 60, special-attack -> 115, attack -> 150, hp -> 65, speed -> 115)</td><td>List(dark)</td><td>490</td></tr><tr><td>10058</td><td>garchomp-mega</td><td>List(sand-force)</td><td>315</td><td>19</td><td>Map(special-defense -> 95, defense -> 115, special-attack -> 120, attack -> 170, hp -> 108, speed -> 92)</td><td>List(dragon, ground)</td><td>950</td></tr><tr><td>10059</td><td>lucario-mega</td><td>List(adaptability)</td><td>219</td><td>13</td><td>Map(special-defense -> 70, defense -> 88, special-attack -> 140, attack -> 145, hp -> 70, speed -> 112)</td><td>List(fighting, steel)</td><td>575</td></tr><tr><td>10060</td><td>abomasnow-mega</td><td>List(snow-warning)</td><td>208</td><td>27</td><td>Map(special-defense -> 105, defense -> 105, special-attack -> 132, attack -> 132, hp -> 90, speed -> 30)</td><td>List(grass, ice)</td><td>1850</td></tr><tr><td>10061</td><td>floette-eternal</td><td>List(flower-veil, symbiosis)</td><td>243</td><td>2</td><td>Map(special-defense -> 128, defense -> 67, special-attack -> 125, attack -> 65, hp -> 74, speed -> 92)</td><td>List(fairy)</td><td>9</td></tr><tr><td>10062</td><td>latias-mega</td><td>List(levitate)</td><td>315</td><td>18</td><td>Map(special-defense -> 150, defense -> 120, special-attack -> 140, attack -> 100, hp -> 80, speed -> 110)</td><td>List(dragon, psychic)</td><td>520</td></tr><tr><td>10063</td><td>latios-mega</td><td>List(levitate)</td><td>315</td><td>23</td><td>Map(special-defense -> 120, defense -> 100, special-attack -> 160, attack -> 130, hp -> 80, speed -> 110)</td><td>List(dragon, psychic)</td><td>700</td></tr><tr><td>10064</td><td>swampert-mega</td><td>List(swift-swim)</td><td>286</td><td>19</td><td>Map(special-defense -> 110, defense -> 110, special-attack -> 95, attack -> 150, hp -> 100, speed -> 70)</td><td>List(water, ground)</td><td>1020</td></tr><tr><td>10065</td><td>sceptile-mega</td><td>List(lightning-rod)</td><td>284</td><td>19</td><td>Map(special-defense -> 85, defense -> 75, special-attack -> 145, attack -> 110, hp -> 70, speed -> 145)</td><td>List(grass, dragon)</td><td>552</td></tr><tr><td>10066</td><td>sableye-mega</td><td>List(magic-bounce)</td><td>168</td><td>5</td><td>Map(special-defense -> 115, defense -> 125, special-attack -> 85, attack -> 85, hp -> 50, speed -> 20)</td><td>List(dark, ghost)</td><td>1610</td></tr><tr><td>10067</td><td>altaria-mega</td><td>List(pixilate)</td><td>207</td><td>15</td><td>Map(special-defense -> 105, defense -> 110, special-attack -> 110, attack -> 110, hp -> 75, speed -> 80)</td><td>List(dragon, fairy)</td><td>206</td></tr><tr><td>10068</td><td>gallade-mega</td><td>List(inner-focus)</td><td>278</td><td>16</td><td>Map(special-defense -> 115, defense -> 95, special-attack -> 65, attack -> 165, hp -> 68, speed -> 110)</td><td>List(psychic, fighting)</td><td>564</td></tr><tr><td>10069</td><td>audino-mega</td><td>List(healer)</td><td>425</td><td>15</td><td>Map(special-defense -> 126, defense -> 126, special-attack -> 80, attack -> 60, hp -> 103, speed -> 50)</td><td>List(normal, fairy)</td><td>320</td></tr><tr><td>10070</td><td>sharpedo-mega</td><td>List(strong-jaw)</td><td>196</td><td>25</td><td>Map(special-defense -> 65, defense -> 70, special-attack -> 110, attack -> 140, hp -> 70, speed -> 105)</td><td>List(water, dark)</td><td>1303</td></tr><tr><td>10071</td><td>slowbro-mega</td><td>List(shell-armor)</td><td>207</td><td>20</td><td>Map(special-defense -> 80, defense -> 180, special-attack -> 130, attack -> 75, hp -> 95, speed -> 30)</td><td>List(water, psychic)</td><td>1200</td></tr><tr><td>10072</td><td>steelix-mega</td><td>List(sand-force)</td><td>214</td><td>105</td><td>Map(special-defense -> 95, defense -> 230, special-attack -> 55, attack -> 125, hp -> 75, speed -> 30)</td><td>List(steel, ground)</td><td>7400</td></tr><tr><td>10073</td><td>pidgeot-mega</td><td>List(no-guard)</td><td>261</td><td>22</td><td>Map(special-defense -> 80, defense -> 80, special-attack -> 135, attack -> 80, hp -> 83, speed -> 121)</td><td>List(normal, flying)</td><td>505</td></tr><tr><td>10074</td><td>glalie-mega</td><td>List(refrigerate)</td><td>203</td><td>21</td><td>Map(special-defense -> 80, defense -> 80, special-attack -> 120, attack -> 120, hp -> 80, speed -> 100)</td><td>List(ice)</td><td>3502</td></tr><tr><td>10075</td><td>diancie-mega</td><td>List(magic-bounce)</td><td>315</td><td>11</td><td>Map(special-defense -> 110, defense -> 110, special-attack -> 160, attack -> 160, hp -> 50, speed -> 110)</td><td>List(rock, fairy)</td><td>278</td></tr><tr><td>10076</td><td>metagross-mega</td><td>List(tough-claws)</td><td>315</td><td>25</td><td>Map(special-defense -> 110, defense -> 150, special-attack -> 105, attack -> 145, hp -> 80, speed -> 110)</td><td>List(steel, psychic)</td><td>9429</td></tr><tr><td>10077</td><td>kyogre-primal</td><td>List(primordial-sea)</td><td>347</td><td>98</td><td>Map(special-defense -> 160, defense -> 90, special-attack -> 180, attack -> 150, hp -> 100, speed -> 90)</td><td>List(water)</td><td>4300</td></tr><tr><td>10078</td><td>groudon-primal</td><td>List(desolate-land)</td><td>347</td><td>50</td><td>Map(special-defense -> 90, defense -> 160, special-attack -> 150, attack -> 180, hp -> 100, speed -> 90)</td><td>List(ground, fire)</td><td>9997</td></tr><tr><td>10079</td><td>rayquaza-mega</td><td>List(delta-stream)</td><td>351</td><td>108</td><td>Map(special-defense -> 100, defense -> 100, special-attack -> 180, attack -> 180, hp -> 105, speed -> 115)</td><td>List(dragon, flying)</td><td>3920</td></tr><tr><td>10080</td><td>pikachu-rock-star</td><td>List(static, lightning-rod)</td><td>112</td><td>4</td><td>Map(special-defense -> 50, defense -> 40, special-attack -> 50, attack -> 55, hp -> 35, speed -> 90)</td><td>List(electric)</td><td>60</td></tr><tr><td>10081</td><td>pikachu-belle</td><td>List(static, lightning-rod)</td><td>112</td><td>4</td><td>Map(special-defense -> 50, defense -> 40, special-attack -> 50, attack -> 55, hp -> 35, speed -> 90)</td><td>List(electric)</td><td>60</td></tr><tr><td>10082</td><td>pikachu-pop-star</td><td>List(static, lightning-rod)</td><td>112</td><td>4</td><td>Map(special-defense -> 50, defense -> 40, special-attack -> 50, attack -> 55, hp -> 35, speed -> 90)</td><td>List(electric)</td><td>60</td></tr><tr><td>10083</td><td>pikachu-phd</td><td>List(static, lightning-rod)</td><td>112</td><td>4</td><td>Map(special-defense -> 50, defense -> 40, special-attack -> 50, attack -> 55, hp -> 35, speed -> 90)</td><td>List(electric)</td><td>60</td></tr><tr><td>10084</td><td>pikachu-libre</td><td>List(static, lightning-rod)</td><td>112</td><td>4</td><td>Map(special-defense -> 50, defense -> 40, special-attack -> 50, attack -> 55, hp -> 35, speed -> 90)</td><td>List(electric)</td><td>60</td></tr><tr><td>10085</td><td>pikachu-cosplay</td><td>List(static, lightning-rod)</td><td>112</td><td>4</td><td>Map(special-defense -> 50, defense -> 40, special-attack -> 50, attack -> 55, hp -> 35, speed -> 90)</td><td>List(electric)</td><td>60</td></tr><tr><td>10086</td><td>hoopa-unbound</td><td>List(magician)</td><td>306</td><td>65</td><td>Map(special-defense -> 130, defense -> 60, special-attack -> 170, attack -> 160, hp -> 80, speed -> 80)</td><td>List(psychic, dark)</td><td>4900</td></tr><tr><td>10087</td><td>camerupt-mega</td><td>List(sheer-force)</td><td>196</td><td>25</td><td>Map(special-defense -> 105, defense -> 100, special-attack -> 145, attack -> 120, hp -> 70, speed -> 20)</td><td>List(fire, ground)</td><td>3205</td></tr><tr><td>10088</td><td>lopunny-mega</td><td>List(scrappy)</td><td>203</td><td>13</td><td>Map(special-defense -> 96, defense -> 94, special-attack -> 54, attack -> 136, hp -> 65, speed -> 135)</td><td>List(normal, fighting)</td><td>283</td></tr><tr><td>10089</td><td>salamence-mega</td><td>List(aerilate)</td><td>315</td><td>18</td><td>Map(special-defense -> 90, defense -> 130, special-attack -> 120, attack -> 145, hp -> 95, speed -> 120)</td><td>List(dragon, flying)</td><td>1126</td></tr><tr><td>10090</td><td>beedrill-mega</td><td>List(adaptability)</td><td>223</td><td>14</td><td>Map(special-defense -> 80, defense -> 40, special-attack -> 15, attack -> 150, hp -> 65, speed -> 145)</td><td>List(bug, poison)</td><td>405</td></tr><tr><td>10091</td><td>rattata-alola</td><td>List(gluttony, hustle, thick-fat)</td><td>51</td><td>3</td><td>Map(special-defense -> 35, defense -> 35, special-attack -> 25, attack -> 56, hp -> 30, speed -> 72)</td><td>List(dark, normal)</td><td>38</td></tr><tr><td>10092</td><td>raticate-alola</td><td>List(gluttony, hustle, thick-fat)</td><td>145</td><td>7</td><td>Map(special-defense -> 80, defense -> 70, special-attack -> 40, attack -> 71, hp -> 75, speed -> 77)</td><td>List(dark, normal)</td><td>255</td></tr><tr><td>10093</td><td>raticate-totem-alola</td><td>List(gluttony, hustle, thick-fat)</td><td>145</td><td>14</td><td>Map(special-defense -> 80, defense -> 70, special-attack -> 40, attack -> 71, hp -> 75, speed -> 77)</td><td>List(dark, normal)</td><td>1050</td></tr><tr><td>10094</td><td>pikachu-original-cap</td><td>List(static, lightning-rod)</td><td>112</td><td>4</td><td>Map(special-defense -> 50, defense -> 40, special-attack -> 50, attack -> 55, hp -> 35, speed -> 90)</td><td>List(electric)</td><td>60</td></tr><tr><td>10095</td><td>pikachu-hoenn-cap</td><td>List(static, lightning-rod)</td><td>112</td><td>4</td><td>Map(special-defense -> 50, defense -> 40, special-attack -> 50, attack -> 55, hp -> 35, speed -> 90)</td><td>List(electric)</td><td>60</td></tr><tr><td>10096</td><td>pikachu-sinnoh-cap</td><td>List(static, lightning-rod)</td><td>112</td><td>4</td><td>Map(special-defense -> 50, defense -> 40, special-attack -> 50, attack -> 55, hp -> 35, speed -> 90)</td><td>List(electric)</td><td>60</td></tr><tr><td>10097</td><td>pikachu-unova-cap</td><td>List(static, lightning-rod)</td><td>112</td><td>4</td><td>Map(special-defense -> 50, defense -> 40, special-attack -> 50, attack -> 55, hp -> 35, speed -> 90)</td><td>List(electric)</td><td>60</td></tr><tr><td>10098</td><td>pikachu-kalos-cap</td><td>List(static, lightning-rod)</td><td>112</td><td>4</td><td>Map(special-defense -> 50, defense -> 40, special-attack -> 50, attack -> 55, hp -> 35, speed -> 90)</td><td>List(electric)</td><td>60</td></tr><tr><td>10099</td><td>pikachu-alola-cap</td><td>List(static, lightning-rod)</td><td>112</td><td>4</td><td>Map(special-defense -> 50, defense -> 40, special-attack -> 50, attack -> 55, hp -> 35, speed -> 90)</td><td>List(electric)</td><td>60</td></tr><tr><td>10100</td><td>raichu-alola</td><td>List(surge-surfer)</td><td>243</td><td>7</td><td>Map(special-defense -> 85, defense -> 50, special-attack -> 95, attack -> 85, hp -> 60, speed -> 110)</td><td>List(electric, psychic)</td><td>210</td></tr><tr><td>10101</td><td>sandshrew-alola</td><td>List(snow-cloak, slush-rush)</td><td>60</td><td>7</td><td>Map(special-defense -> 35, defense -> 90, special-attack -> 10, attack -> 75, hp -> 50, speed -> 40)</td><td>List(ice, steel)</td><td>400</td></tr><tr><td>10102</td><td>sandslash-alola</td><td>List(snow-cloak, slush-rush)</td><td>158</td><td>12</td><td>Map(special-defense -> 65, defense -> 120, special-attack -> 25, attack -> 100, hp -> 75, speed -> 65)</td><td>List(ice, steel)</td><td>550</td></tr><tr><td>10103</td><td>vulpix-alola</td><td>List(snow-cloak, snow-warning)</td><td>60</td><td>6</td><td>Map(special-defense -> 65, defense -> 40, special-attack -> 50, attack -> 41, hp -> 38, speed -> 65)</td><td>List(ice)</td><td>99</td></tr><tr><td>10104</td><td>ninetales-alola</td><td>List(snow-cloak, snow-warning)</td><td>177</td><td>11</td><td>Map(special-defense -> 100, defense -> 75, special-attack -> 81, attack -> 67, hp -> 73, speed -> 109)</td><td>List(ice, fairy)</td><td>199</td></tr><tr><td>10105</td><td>diglett-alola</td><td>List(sand-veil, tangling-hair, sand-force)</td><td>53</td><td>2</td><td>Map(special-defense -> 45, defense -> 30, special-attack -> 35, attack -> 55, hp -> 10, speed -> 90)</td><td>List(ground, steel)</td><td>10</td></tr><tr><td>10106</td><td>dugtrio-alola</td><td>List(sand-veil, tangling-hair, sand-force)</td><td>149</td><td>7</td><td>Map(special-defense -> 70, defense -> 60, special-attack -> 50, attack -> 100, hp -> 35, speed -> 110)</td><td>List(ground, steel)</td><td>666</td></tr><tr><td>10107</td><td>meowth-alola</td><td>List(pickup, technician, rattled)</td><td>58</td><td>4</td><td>Map(special-defense -> 40, defense -> 35, special-attack -> 50, attack -> 35, hp -> 40, speed -> 90)</td><td>List(dark)</td><td>42</td></tr><tr><td>10108</td><td>persian-alola</td><td>List(fur-coat, technician, rattled)</td><td>154</td><td>11</td><td>Map(special-defense -> 65, defense -> 60, special-attack -> 75, attack -> 60, hp -> 65, speed -> 115)</td><td>List(dark)</td><td>330</td></tr><tr><td>10109</td><td>geodude-alola</td><td>List(magnet-pull, sturdy, galvanize)</td><td>60</td><td>4</td><td>Map(special-defense -> 30, defense -> 100, special-attack -> 30, attack -> 80, hp -> 40, speed -> 20)</td><td>List(rock, electric)</td><td>203</td></tr><tr><td>10110</td><td>graveler-alola</td><td>List(magnet-pull, sturdy, galvanize)</td><td>137</td><td>10</td><td>Map(special-defense -> 45, defense -> 115, special-attack -> 45, attack -> 95, hp -> 55, speed -> 35)</td><td>List(rock, electric)</td><td>1100</td></tr><tr><td>10111</td><td>golem-alola</td><td>List(magnet-pull, sturdy, galvanize)</td><td>223</td><td>17</td><td>Map(special-defense -> 65, defense -> 130, special-attack -> 55, attack -> 120, hp -> 80, speed -> 45)</td><td>List(rock, electric)</td><td>3160</td></tr><tr><td>10112</td><td>grimer-alola</td><td>List(poison-touch, gluttony, power-of-alchemy)</td><td>65</td><td>7</td><td>Map(special-defense -> 50, defense -> 50, special-attack -> 40, attack -> 80, hp -> 80, speed -> 25)</td><td>List(poison, dark)</td><td>420</td></tr><tr><td>10113</td><td>muk-alola</td><td>List(poison-touch, gluttony, power-of-alchemy)</td><td>175</td><td>10</td><td>Map(special-defense -> 100, defense -> 75, special-attack -> 65, attack -> 105, hp -> 105, speed -> 50)</td><td>List(poison, dark)</td><td>520</td></tr><tr><td>10114</td><td>exeggutor-alola</td><td>List(frisk, harvest)</td><td>186</td><td>109</td><td>Map(special-defense -> 75, defense -> 85, special-attack -> 125, attack -> 105, hp -> 95, speed -> 45)</td><td>List(grass, dragon)</td><td>4156</td></tr><tr><td>10115</td><td>marowak-alola</td><td>List(cursed-body, lightning-rod, rock-head)</td><td>149</td><td>10</td><td>Map(special-defense -> 80, defense -> 110, special-attack -> 50, attack -> 80, hp -> 60, speed -> 45)</td><td>List(fire, ghost)</td><td>340</td></tr><tr><td>10116</td><td>greninja-battle-bond</td><td>List(battle-bond)</td><td>239</td><td>15</td><td>Map(special-defense -> 71, defense -> 67, special-attack -> 103, attack -> 95, hp -> 72, speed -> 122)</td><td>List(water, dark)</td><td>400</td></tr><tr><td>10117</td><td>greninja-ash</td><td>List(battle-bond)</td><td>288</td><td>15</td><td>Map(special-defense -> 71, defense -> 67, special-attack -> 153, attack -> 145, hp -> 72, speed -> 132)</td><td>List(water, dark)</td><td>400</td></tr><tr><td>10118</td><td>zygarde-10-power-construct</td><td>List(power-construct)</td><td>243</td><td>12</td><td>Map(special-defense -> 85, defense -> 71, special-attack -> 61, attack -> 100, hp -> 54, speed -> 115)</td><td>List(dragon, ground)</td><td>335</td></tr><tr><td>10119</td><td>zygarde-50-power-construct</td><td>List(power-construct)</td><td>300</td><td>50</td><td>Map(special-defense -> 95, defense -> 121, special-attack -> 81, attack -> 100, hp -> 108, speed -> 95)</td><td>List(dragon, ground)</td><td>3050</td></tr><tr><td>10120</td><td>zygarde-complete</td><td>List(power-construct)</td><td>354</td><td>45</td><td>Map(special-defense -> 95, defense -> 121, special-attack -> 91, attack -> 100, hp -> 216, speed -> 85)</td><td>List(dragon, ground)</td><td>6100</td></tr><tr><td>10121</td><td>gumshoos-totem</td><td>List(stakeout, strong-jaw, adaptability)</td><td>146</td><td>14</td><td>Map(special-defense -> 60, defense -> 60, special-attack -> 55, attack -> 110, hp -> 88, speed -> 45)</td><td>List(normal)</td><td>600</td></tr><tr><td>10122</td><td>vikavolt-totem</td><td>List(levitate)</td><td>225</td><td>26</td><td>Map(special-defense -> 75, defense -> 90, special-attack -> 145, attack -> 70, hp -> 77, speed -> 43)</td><td>List(bug, electric)</td><td>1475</td></tr><tr><td>10123</td><td>oricorio-pom-pom</td><td>List(dancer)</td><td>167</td><td>6</td><td>Map(special-defense -> 70, defense -> 70, special-attack -> 98, attack -> 70, hp -> 75, speed -> 93)</td><td>List(electric, flying)</td><td>34</td></tr><tr><td>10124</td><td>oricorio-pau</td><td>List(dancer)</td><td>167</td><td>6</td><td>Map(special-defense -> 70, defense -> 70, special-attack -> 98, attack -> 70, hp -> 75, speed -> 93)</td><td>List(psychic, flying)</td><td>34</td></tr><tr><td>10125</td><td>oricorio-sensu</td><td>List(dancer)</td><td>167</td><td>6</td><td>Map(special-defense -> 70, defense -> 70, special-attack -> 98, attack -> 70, hp -> 75, speed -> 93)</td><td>List(ghost, flying)</td><td>34</td></tr><tr><td>10126</td><td>lycanroc-midnight</td><td>List(keen-eye, vital-spirit, no-guard)</td><td>170</td><td>11</td><td>Map(special-defense -> 75, defense -> 75, special-attack -> 55, attack -> 115, hp -> 85, speed -> 82)</td><td>List(rock)</td><td>250</td></tr><tr><td>10127</td><td>wishiwashi-school</td><td>List(schooling)</td><td>217</td><td>82</td><td>Map(special-defense -> 135, defense -> 130, special-attack -> 140, attack -> 140, hp -> 45, speed -> 30)</td><td>List(water)</td><td>786</td></tr><tr><td>10128</td><td>lurantis-totem</td><td>List(leaf-guard, contrary)</td><td>168</td><td>15</td><td>Map(special-defense -> 90, defense -> 90, special-attack -> 80, attack -> 105, hp -> 70, speed -> 45)</td><td>List(grass)</td><td>580</td></tr><tr><td>10129</td><td>salazzle-totem</td><td>List(corrosion, oblivious)</td><td>168</td><td>21</td><td>Map(special-defense -> 60, defense -> 60, special-attack -> 111, attack -> 64, hp -> 68, speed -> 117)</td><td>List(poison, fire)</td><td>810</td></tr><tr><td>10130</td><td>minior-orange-meteor</td><td>List(shields-down)</td><td>154</td><td>3</td><td>Map(special-defense -> 100, defense -> 100, special-attack -> 60, attack -> 60, hp -> 60, speed -> 60)</td><td>List(rock, flying)</td><td>400</td></tr><tr><td>10131</td><td>minior-yellow-meteor</td><td>List(shields-down)</td><td>154</td><td>3</td><td>Map(special-defense -> 100, defense -> 100, special-attack -> 60, attack -> 60, hp -> 60, speed -> 60)</td><td>List(rock, flying)</td><td>400</td></tr><tr><td>10132</td><td>minior-green-meteor</td><td>List(shields-down)</td><td>154</td><td>3</td><td>Map(special-defense -> 100, defense -> 100, special-attack -> 60, attack -> 60, hp -> 60, speed -> 60)</td><td>List(rock, flying)</td><td>400</td></tr><tr><td>10133</td><td>minior-blue-meteor</td><td>List(shields-down)</td><td>154</td><td>3</td><td>Map(special-defense -> 100, defense -> 100, special-attack -> 60, attack -> 60, hp -> 60, speed -> 60)</td><td>List(rock, flying)</td><td>400</td></tr><tr><td>10134</td><td>minior-indigo-meteor</td><td>List(shields-down)</td><td>154</td><td>3</td><td>Map(special-defense -> 100, defense -> 100, special-attack -> 60, attack -> 60, hp -> 60, speed -> 60)</td><td>List(rock, flying)</td><td>400</td></tr><tr><td>10135</td><td>minior-violet-meteor</td><td>List(shields-down)</td><td>154</td><td>3</td><td>Map(special-defense -> 100, defense -> 100, special-attack -> 60, attack -> 60, hp -> 60, speed -> 60)</td><td>List(rock, flying)</td><td>400</td></tr><tr><td>10136</td><td>minior-red</td><td>List(shields-down)</td><td>175</td><td>3</td><td>Map(special-defense -> 60, defense -> 60, special-attack -> 100, attack -> 100, hp -> 60, speed -> 120)</td><td>List(rock, flying)</td><td>3</td></tr><tr><td>10137</td><td>minior-orange</td><td>List(shields-down)</td><td>175</td><td>3</td><td>Map(special-defense -> 60, defense -> 60, special-attack -> 100, attack -> 100, hp -> 60, speed -> 120)</td><td>List(rock, flying)</td><td>3</td></tr><tr><td>10138</td><td>minior-yellow</td><td>List(shields-down)</td><td>175</td><td>3</td><td>Map(special-defense -> 60, defense -> 60, special-attack -> 100, attack -> 100, hp -> 60, speed -> 120)</td><td>List(rock, flying)</td><td>3</td></tr><tr><td>10139</td><td>minior-green</td><td>List(shields-down)</td><td>175</td><td>3</td><td>Map(special-defense -> 60, defense -> 60, special-attack -> 100, attack -> 100, hp -> 60, speed -> 120)</td><td>List(rock, flying)</td><td>3</td></tr><tr><td>10140</td><td>minior-blue</td><td>List(shields-down)</td><td>175</td><td>3</td><td>Map(special-defense -> 60, defense -> 60, special-attack -> 100, attack -> 100, hp -> 60, speed -> 120)</td><td>List(rock, flying)</td><td>3</td></tr><tr><td>10141</td><td>minior-indigo</td><td>List(shields-down)</td><td>175</td><td>3</td><td>Map(special-defense -> 60, defense -> 60, special-attack -> 100, attack -> 100, hp -> 60, speed -> 120)</td><td>List(rock, flying)</td><td>3</td></tr><tr><td>10142</td><td>minior-violet</td><td>List(shields-down)</td><td>175</td><td>3</td><td>Map(special-defense -> 60, defense -> 60, special-attack -> 100, attack -> 100, hp -> 60, speed -> 120)</td><td>List(rock, flying)</td><td>3</td></tr><tr><td>10143</td><td>mimikyu-busted</td><td>List(disguise)</td><td>167</td><td>2</td><td>Map(special-defense -> 105, defense -> 80, special-attack -> 50, attack -> 90, hp -> 55, speed -> 96)</td><td>List(ghost, fairy)</td><td>7</td></tr><tr><td>10144</td><td>mimikyu-totem-disguised</td><td>List(disguise)</td><td>167</td><td>4</td><td>Map(special-defense -> 105, defense -> 80, special-attack -> 50, attack -> 90, hp -> 55, speed -> 96)</td><td>List(ghost, fairy)</td><td>28</td></tr><tr><td>10145</td><td>mimikyu-totem-busted</td><td>List(disguise)</td><td>167</td><td>4</td><td>Map(special-defense -> 105, defense -> 80, special-attack -> 50, attack -> 90, hp -> 55, speed -> 96)</td><td>List(ghost, fairy)</td><td>28</td></tr><tr><td>10146</td><td>kommo-o-totem</td><td>List(bulletproof, soundproof, overcoat)</td><td>270</td><td>24</td><td>Map(special-defense -> 105, defense -> 125, special-attack -> 100, attack -> 110, hp -> 75, speed -> 85)</td><td>List(dragon, fighting)</td><td>2075</td></tr><tr><td>10147</td><td>magearna-original</td><td>List(soul-heart)</td><td>300</td><td>10</td><td>Map(special-defense -> 115, defense -> 115, special-attack -> 130, attack -> 95, hp -> 80, speed -> 65)</td><td>List(steel, fairy)</td><td>805</td></tr><tr><td>10148</td><td>pikachu-partner-cap</td><td>List(static, lightning-rod)</td><td>112</td><td>4</td><td>Map(special-defense -> 50, defense -> 40, special-attack -> 50, attack -> 55, hp -> 35, speed -> 90)</td><td>List(electric)</td><td>60</td></tr><tr><td>10149</td><td>marowak-totem</td><td>List(cursed-body, lightning-rod, rock-head)</td><td>149</td><td>17</td><td>Map(special-defense -> 80, defense -> 110, special-attack -> 50, attack -> 80, hp -> 60, speed -> 45)</td><td>List(fire, ghost)</td><td>980</td></tr><tr><td>10150</td><td>ribombee-totem</td><td>List(honey-gather, shield-dust, sweet-veil)</td><td>162</td><td>4</td><td>Map(special-defense -> 70, defense -> 60, special-attack -> 95, attack -> 55, hp -> 60, speed -> 124)</td><td>List(bug, fairy)</td><td>20</td></tr><tr><td>10151</td><td>rockruff-own-tempo</td><td>List(own-tempo)</td><td>56</td><td>5</td><td>Map(special-defense -> 40, defense -> 40, special-attack -> 30, attack -> 65, hp -> 45, speed -> 60)</td><td>List(rock)</td><td>92</td></tr><tr><td>10152</td><td>lycanroc-dusk</td><td>List(tough-claws)</td><td>170</td><td>8</td><td>Map(special-defense -> 65, defense -> 65, special-attack -> 55, attack -> 117, hp -> 75, speed -> 110)</td><td>List(rock)</td><td>250</td></tr><tr><td>10153</td><td>araquanid-totem</td><td>List(water-bubble, water-absorb)</td><td>159</td><td>31</td><td>Map(special-defense -> 132, defense -> 92, special-attack -> 50, attack -> 70, hp -> 68, speed -> 42)</td><td>List(water, bug)</td><td>2175</td></tr><tr><td>10154</td><td>togedemaru-totem</td><td>List(iron-barbs, lightning-rod, sturdy)</td><td>152</td><td>6</td><td>Map(special-defense -> 73, defense -> 63, special-attack -> 40, attack -> 98, hp -> 65, speed -> 96)</td><td>List(electric, steel)</td><td>130</td></tr><tr><td>10155</td><td>necrozma-dusk</td><td>List(prism-armor)</td><td>340</td><td>38</td><td>Map(special-defense -> 109, defense -> 127, special-attack -> 113, attack -> 157, hp -> 97, speed -> 77)</td><td>List(psychic, steel)</td><td>4600</td></tr><tr><td>10156</td><td>necrozma-dawn</td><td>List(prism-armor)</td><td>340</td><td>42</td><td>Map(special-defense -> 127, defense -> 109, special-attack -> 157, attack -> 113, hp -> 97, speed -> 77)</td><td>List(psychic, ghost)</td><td>3500</td></tr><tr><td>10157</td><td>necrozma-ultra</td><td>List(neuroforce)</td><td>339</td><td>75</td><td>Map(special-defense -> 97, defense -> 97, special-attack -> 167, attack -> 167, hp -> 97, speed -> 129)</td><td>List(psychic, dragon)</td><td>2300</td></tr><tr><td>10158</td><td>pikachu-starter</td><td>List(static, lightning-rod)</td><td>86</td><td>4</td><td>Map(special-defense -> 60, defense -> 50, special-attack -> 75, attack -> 80, hp -> 45, speed -> 120)</td><td>List(electric)</td><td>60</td></tr><tr><td>10159</td><td>eevee-starter</td><td>List(run-away, adaptability, anticipation)</td><td>87</td><td>3</td><td>Map(special-defense -> 85, defense -> 70, special-attack -> 65, attack -> 75, hp -> 65, speed -> 75)</td><td>List(normal)</td><td>65</td></tr><tr><td>10160</td><td>pikachu-world-cap</td><td>List(static, lightning-rod)</td><td>112</td><td>4</td><td>Map(special-defense -> 50, defense -> 40, special-attack -> 50, attack -> 55, hp -> 35, speed -> 90)</td><td>List(electric)</td><td>60</td></tr><tr><td>10161</td><td>meowth-galar</td><td>List(pickup, tough-claws, unnerve)</td><td>58</td><td>4</td><td>Map(special-defense -> 40, defense -> 55, special-attack -> 40, attack -> 65, hp -> 50, speed -> 40)</td><td>List(steel)</td><td>75</td></tr><tr><td>10162</td><td>ponyta-galar</td><td>List(run-away, pastel-veil, anticipation)</td><td>82</td><td>8</td><td>Map(special-defense -> 65, defense -> 55, special-attack -> 65, attack -> 85, hp -> 50, speed -> 90)</td><td>List(psychic)</td><td>240</td></tr><tr><td>10163</td><td>rapidash-galar</td><td>List(run-away, pastel-veil, anticipation)</td><td>175</td><td>17</td><td>Map(special-defense -> 80, defense -> 70, special-attack -> 80, attack -> 100, hp -> 65, speed -> 105)</td><td>List(psychic, fairy)</td><td>800</td></tr><tr><td>10164</td><td>slowpoke-galar</td><td>List(gluttony, own-tempo, regenerator)</td><td>63</td><td>12</td><td>Map(special-defense -> 40, defense -> 65, special-attack -> 40, attack -> 65, hp -> 90, speed -> 15)</td><td>List(psychic)</td><td>360</td></tr><tr><td>10165</td><td>slowbro-galar</td><td>List(quick-draw, own-tempo, regenerator)</td><td>172</td><td>16</td><td>Map(special-defense -> 70, defense -> 95, special-attack -> 100, attack -> 100, hp -> 95, speed -> 30)</td><td>List(poison, psychic)</td><td>705</td></tr><tr><td>10166</td><td>farfetchd-galar</td><td>List(steadfast, scrappy)</td><td>132</td><td>8</td><td>Map(special-defense -> 62, defense -> 55, special-attack -> 58, attack -> 95, hp -> 52, speed -> 55)</td><td>List(fighting)</td><td>420</td></tr><tr><td>10167</td><td>weezing-galar</td><td>List(levitate, neutralizing-gas, misty-surge)</td><td>172</td><td>30</td><td>Map(special-defense -> 70, defense -> 120, special-attack -> 85, attack -> 90, hp -> 65, speed -> 60)</td><td>List(poison, fairy)</td><td>160</td></tr><tr><td>10168</td><td>mr-mime-galar</td><td>List(vital-spirit, screen-cleaner, ice-body)</td><td>161</td><td>14</td><td>Map(special-defense -> 90, defense -> 65, special-attack -> 90, attack -> 65, hp -> 50, speed -> 100)</td><td>List(ice, psychic)</td><td>568</td></tr><tr><td>10169</td><td>articuno-galar</td><td>List(competitive)</td><td>290</td><td>17</td><td>Map(special-defense -> 100, defense -> 85, special-attack -> 125, attack -> 85, hp -> 90, speed -> 95)</td><td>List(psychic, flying)</td><td>509</td></tr><tr><td>10170</td><td>zapdos-galar</td><td>List(defiant)</td><td>290</td><td>16</td><td>Map(special-defense -> 90, defense -> 90, special-attack -> 85, attack -> 125, hp -> 90, speed -> 100)</td><td>List(fighting, flying)</td><td>582</td></tr><tr><td>10171</td><td>moltres-galar</td><td>List(berserk)</td><td>290</td><td>20</td><td>Map(special-defense -> 125, defense -> 90, special-attack -> 100, attack -> 85, hp -> 90, speed -> 90)</td><td>List(dark, flying)</td><td>660</td></tr><tr><td>10172</td><td>slowking-galar</td><td>List(curious-medicine, own-tempo, regenerator)</td><td>172</td><td>18</td><td>Map(special-defense -> 110, defense -> 80, special-attack -> 110, attack -> 65, hp -> 95, speed -> 30)</td><td>List(poison, psychic)</td><td>795</td></tr><tr><td>10173</td><td>corsola-galar</td><td>List(weak-armor, cursed-body)</td><td>144</td><td>6</td><td>Map(special-defense -> 100, defense -> 100, special-attack -> 65, attack -> 55, hp -> 60, speed -> 30)</td><td>List(ghost)</td><td>5</td></tr><tr><td>10174</td><td>zigzagoon-galar</td><td>List(pickup, gluttony, quick-feet)</td><td>56</td><td>4</td><td>Map(special-defense -> 41, defense -> 41, special-attack -> 30, attack -> 30, hp -> 38, speed -> 60)</td><td>List(dark, normal)</td><td>175</td></tr><tr><td>10175</td><td>linoone-galar</td><td>List(pickup, gluttony, quick-feet)</td><td>147</td><td>5</td><td>Map(special-defense -> 61, defense -> 61, special-attack -> 50, attack -> 70, hp -> 78, speed -> 100)</td><td>List(dark, normal)</td><td>325</td></tr><tr><td>10176</td><td>darumaka-galar</td><td>List(hustle, inner-focus)</td><td>63</td><td>7</td><td>Map(special-defense -> 45, defense -> 45, special-attack -> 15, attack -> 90, hp -> 70, speed -> 50)</td><td>List(ice)</td><td>400</td></tr><tr><td>10177</td><td>darmanitan-galar-standard</td><td>List(gorilla-tactics, zen-mode)</td><td>168</td><td>17</td><td>Map(special-defense -> 55, defense -> 55, special-attack -> 30, attack -> 140, hp -> 105, speed -> 95)</td><td>List(ice)</td><td>1200</td></tr><tr><td>10178</td><td>darmanitan-galar-zen</td><td>List(gorilla-tactics, zen-mode)</td><td>189</td><td>17</td><td>Map(special-defense -> 55, defense -> 55, special-attack -> 30, attack -> 160, hp -> 105, speed -> 135)</td><td>List(ice, fire)</td><td>1200</td></tr><tr><td>10179</td><td>yamask-galar</td><td>List(wandering-spirit)</td><td>61</td><td>5</td><td>Map(special-defense -> 65, defense -> 85, special-attack -> 30, attack -> 55, hp -> 38, speed -> 30)</td><td>List(ground, ghost)</td><td>15</td></tr><tr><td>10180</td><td>stunfisk-galar</td><td>List(mimicry)</td><td>165</td><td>7</td><td>Map(special-defense -> 84, defense -> 99, special-attack -> 66, attack -> 81, hp -> 109, speed -> 32)</td><td>List(ground, steel)</td><td>205</td></tr><tr><td>10181</td><td>zygarde-10</td><td>List(aura-break)</td><td>243</td><td>12</td><td>Map(special-defense -> 85, defense -> 71, special-attack -> 61, attack -> 100, hp -> 54, speed -> 115)</td><td>List(dragon, ground)</td><td>335</td></tr><tr><td>10182</td><td>cramorant-gulping</td><td>List(gulp-missile)</td><td>166</td><td>8</td><td>Map(special-defense -> 95, defense -> 55, special-attack -> 85, attack -> 85, hp -> 70, speed -> 85)</td><td>List(flying, water)</td><td>180</td></tr><tr><td>10183</td><td>cramorant-gorging</td><td>List(gulp-missile)</td><td>166</td><td>8</td><td>Map(special-defense -> 95, defense -> 55, special-attack -> 85, attack -> 85, hp -> 70, speed -> 85)</td><td>List(flying, water)</td><td>180</td></tr><tr><td>10184</td><td>toxtricity-low-key</td><td>List(punk-rock, minus, technician)</td><td>176</td><td>16</td><td>Map(special-defense -> 70, defense -> 70, special-attack -> 114, attack -> 98, hp -> 75, speed -> 75)</td><td>List(electric, poison)</td><td>400</td></tr><tr><td>10185</td><td>eiscue-noice</td><td>List(ice-face)</td><td>165</td><td>14</td><td>Map(special-defense -> 50, defense -> 70, special-attack -> 65, attack -> 80, hp -> 75, speed -> 130)</td><td>List(ice)</td><td>890</td></tr><tr><td>10186</td><td>indeedee-female</td><td>List(own-tempo, synchronize, psychic-surge)</td><td>166</td><td>9</td><td>Map(special-defense -> 105, defense -> 65, special-attack -> 95, attack -> 55, hp -> 70, speed -> 85)</td><td>List(psychic, normal)</td><td>280</td></tr><tr><td>10187</td><td>morpeko-hangry</td><td>List(hunger-switch)</td><td>153</td><td>3</td><td>Map(special-defense -> 58, defense -> 58, special-attack -> 70, attack -> 95, hp -> 58, speed -> 97)</td><td>List(electric, dark)</td><td>30</td></tr><tr><td>10188</td><td>zacian-crowned</td><td>List(intrepid-sword)</td><td>360</td><td>28</td><td>Map(special-defense -> 115, defense -> 115, special-attack -> 80, attack -> 150, hp -> 92, speed -> 148)</td><td>List(fairy, steel)</td><td>3550</td></tr><tr><td>10189</td><td>zamazenta-crowned</td><td>List(dauntless-shield)</td><td>360</td><td>29</td><td>Map(special-defense -> 140, defense -> 140, special-attack -> 80, attack -> 120, hp -> 92, speed -> 128)</td><td>List(fighting, steel)</td><td>7850</td></tr><tr><td>10190</td><td>eternatus-eternamax</td><td>List(pressure)</td><td>563</td><td>1000</td><td>Map(special-defense -> 250, defense -> 250, special-attack -> 125, attack -> 115, hp -> 255, speed -> 130)</td><td>List(poison, dragon)</td><td>0</td></tr><tr><td>10191</td><td>urshifu-rapid-strike</td><td>List(unseen-fist)</td><td>275</td><td>19</td><td>Map(special-defense -> 60, defense -> 100, special-attack -> 63, attack -> 130, hp -> 100, speed -> 97)</td><td>List(fighting, water)</td><td>1050</td></tr><tr><td>10192</td><td>zarude-dada</td><td>List(leaf-guard)</td><td>300</td><td>18</td><td>Map(special-defense -> 95, defense -> 105, special-attack -> 70, attack -> 120, hp -> 105, speed -> 105)</td><td>List(dark, grass)</td><td>700</td></tr><tr><td>10193</td><td>calyrex-ice</td><td>List(as-one-glastrier)</td><td>340</td><td>24</td><td>Map(special-defense -> 130, defense -> 150, special-attack -> 85, attack -> 165, hp -> 100, speed -> 50)</td><td>List(psychic, ice)</td><td>8091</td></tr><tr><td>10194</td><td>calyrex-shadow</td><td>List(as-one-spectrier)</td><td>340</td><td>24</td><td>Map(special-defense -> 100, defense -> 80, special-attack -> 165, attack -> 85, hp -> 100, speed -> 150)</td><td>List(psychic, ghost)</td><td>536</td></tr><tr><td>10195</td><td>venusaur-gmax</td><td>List(overgrow, chlorophyll)</td><td>236</td><td>240</td><td>Map(special-defense -> 100, defense -> 83, special-attack -> 100, attack -> 82, hp -> 80, speed -> 80)</td><td>List(grass, poison)</td><td>10000</td></tr><tr><td>10196</td><td>charizard-gmax</td><td>List(blaze, solar-power)</td><td>240</td><td>280</td><td>Map(special-defense -> 85, defense -> 78, special-attack -> 109, attack -> 84, hp -> 78, speed -> 100)</td><td>List(fire, flying)</td><td>10000</td></tr><tr><td>10197</td><td>blastoise-gmax</td><td>List(torrent, rain-dish)</td><td>239</td><td>250</td><td>Map(special-defense -> 105, defense -> 100, special-attack -> 85, attack -> 83, hp -> 79, speed -> 78)</td><td>List(water)</td><td>10000</td></tr><tr><td>10198</td><td>butterfree-gmax</td><td>List(compound-eyes, tinted-lens)</td><td>178</td><td>170</td><td>Map(special-defense -> 80, defense -> 50, special-attack -> 90, attack -> 45, hp -> 60, speed -> 70)</td><td>List(bug, flying)</td><td>10000</td></tr><tr><td>10199</td><td>pikachu-gmax</td><td>List(static, lightning-rod)</td><td>112</td><td>210</td><td>Map(special-defense -> 50, defense -> 40, special-attack -> 50, attack -> 55, hp -> 35, speed -> 90)</td><td>List(electric)</td><td>10000</td></tr><tr><td>10200</td><td>meowth-gmax</td><td>List(pickup, technician, unnerve)</td><td>58</td><td>330</td><td>Map(special-defense -> 40, defense -> 35, special-attack -> 40, attack -> 45, hp -> 40, speed -> 90)</td><td>List(normal)</td><td>10000</td></tr><tr><td>10201</td><td>machamp-gmax</td><td>List(guts, no-guard, steadfast)</td><td>227</td><td>250</td><td>Map(special-defense -> 85, defense -> 80, special-attack -> 65, attack -> 130, hp -> 90, speed -> 55)</td><td>List(fighting)</td><td>10000</td></tr><tr><td>10202</td><td>gengar-gmax</td><td>List(cursed-body)</td><td>225</td><td>200</td><td>Map(special-defense -> 75, defense -> 60, special-attack -> 130, attack -> 65, hp -> 60, speed -> 110)</td><td>List(ghost, poison)</td><td>10000</td></tr><tr><td>10203</td><td>kingler-gmax</td><td>List(hyper-cutter, shell-armor, sheer-force)</td><td>166</td><td>190</td><td>Map(special-defense -> 50, defense -> 115, special-attack -> 50, attack -> 130, hp -> 55, speed -> 75)</td><td>List(water)</td><td>10000</td></tr><tr><td>10204</td><td>lapras-gmax</td><td>List(water-absorb, shell-armor, hydration)</td><td>187</td><td>240</td><td>Map(special-defense -> 95, defense -> 80, special-attack -> 85, attack -> 85, hp -> 130, speed -> 60)</td><td>List(water, ice)</td><td>10000</td></tr><tr><td>10205</td><td>eevee-gmax</td><td>List(run-away, adaptability, anticipation)</td><td>65</td><td>180</td><td>Map(special-defense -> 65, defense -> 50, special-attack -> 45, attack -> 55, hp -> 55, speed -> 55)</td><td>List(normal)</td><td>10000</td></tr><tr><td>10206</td><td>snorlax-gmax</td><td>List(immunity, thick-fat, gluttony)</td><td>189</td><td>350</td><td>Map(special-defense -> 110, defense -> 65, special-attack -> 65, attack -> 110, hp -> 160, speed -> 30)</td><td>List(normal)</td><td>10000</td></tr><tr><td>10207</td><td>garbodor-gmax</td><td>List(stench, weak-armor, aftermath)</td><td>166</td><td>210</td><td>Map(special-defense -> 82, defense -> 82, special-attack -> 60, attack -> 95, hp -> 80, speed -> 75)</td><td>List(poison)</td><td>10000</td></tr><tr><td>10208</td><td>melmetal-gmax</td><td>List(iron-fist)</td><td>270</td><td>250</td><td>Map(special-defense -> 65, defense -> 143, special-attack -> 80, attack -> 143, hp -> 135, speed -> 34)</td><td>List(steel)</td><td>10000</td></tr><tr><td>10209</td><td>rillaboom-gmax</td><td>List(overgrow, grassy-surge)</td><td>265</td><td>280</td><td>Map(special-defense -> 70, defense -> 90, special-attack -> 60, attack -> 125, hp -> 100, speed -> 85)</td><td>List(grass)</td><td>10000</td></tr><tr><td>10210</td><td>cinderace-gmax</td><td>List(blaze, libero)</td><td>265</td><td>270</td><td>Map(special-defense -> 75, defense -> 75, special-attack -> 65, attack -> 116, hp -> 80, speed -> 119)</td><td>List(fire)</td><td>10000</td></tr><tr><td>10211</td><td>inteleon-gmax</td><td>List(torrent, sniper)</td><td>265</td><td>400</td><td>Map(special-defense -> 65, defense -> 65, special-attack -> 125, attack -> 85, hp -> 70, speed -> 120)</td><td>List(water)</td><td>10000</td></tr><tr><td>10212</td><td>corviknight-gmax</td><td>List(pressure, unnerve, mirror-armor)</td><td>248</td><td>140</td><td>Map(special-defense -> 85, defense -> 105, special-attack -> 53, attack -> 87, hp -> 98, speed -> 67)</td><td>List(flying, steel)</td><td>10000</td></tr><tr><td>10213</td><td>orbeetle-gmax</td><td>List(swarm, frisk, telepathy)</td><td>253</td><td>140</td><td>Map(special-defense -> 120, defense -> 110, special-attack -> 80, attack -> 45, hp -> 60, speed -> 90)</td><td>List(bug, psychic)</td><td>10000</td></tr><tr><td>10214</td><td>drednaw-gmax</td><td>List(strong-jaw, shell-armor, swift-swim)</td><td>170</td><td>240</td><td>Map(special-defense -> 68, defense -> 90, special-attack -> 48, attack -> 115, hp -> 90, speed -> 74)</td><td>List(water, rock)</td><td>10000</td></tr><tr><td>10215</td><td>coalossal-gmax</td><td>List(steam-engine, flame-body, flash-fire)</td><td>255</td><td>420</td><td>Map(special-defense -> 90, defense -> 120, special-attack -> 80, attack -> 80, hp -> 110, speed -> 30)</td><td>List(rock, fire)</td><td>10000</td></tr><tr><td>10216</td><td>flapple-gmax</td><td>List(ripen, gluttony, hustle)</td><td>170</td><td>240</td><td>Map(special-defense -> 60, defense -> 80, special-attack -> 95, attack -> 110, hp -> 70, speed -> 70)</td><td>List(grass, dragon)</td><td>10000</td></tr><tr><td>10217</td><td>appletun-gmax</td><td>List(ripen, gluttony, thick-fat)</td><td>170</td><td>240</td><td>Map(special-defense -> 80, defense -> 80, special-attack -> 100, attack -> 85, hp -> 110, speed -> 30)</td><td>List(grass, dragon)</td><td>10000</td></tr><tr><td>10218</td><td>sandaconda-gmax</td><td>List(sand-spit, shed-skin, sand-veil)</td><td>179</td><td>220</td><td>Map(special-defense -> 70, defense -> 125, special-attack -> 65, attack -> 107, hp -> 72, speed -> 71)</td><td>List(ground)</td><td>10000</td></tr><tr><td>10219</td><td>toxtricity-amped-gmax</td><td>List(punk-rock, plus, technician)</td><td>176</td><td>240</td><td>Map(special-defense -> 70, defense -> 70, special-attack -> 114, attack -> 98, hp -> 75, speed -> 75)</td><td>List(electric, poison)</td><td>10000</td></tr><tr><td>10220</td><td>centiskorch-gmax</td><td>List(flash-fire, white-smoke, flame-body)</td><td>184</td><td>750</td><td>Map(special-defense -> 90, defense -> 65, special-attack -> 90, attack -> 115, hp -> 100, speed -> 65)</td><td>List(fire, bug)</td><td>10000</td></tr><tr><td>10221</td><td>hatterene-gmax</td><td>List(healer, anticipation, magic-bounce)</td><td>255</td><td>260</td><td>Map(special-defense -> 103, defense -> 95, special-attack -> 136, attack -> 90, hp -> 57, speed -> 29)</td><td>List(psychic, fairy)</td><td>10000</td></tr><tr><td>10222</td><td>grimmsnarl-gmax</td><td>List(prankster, frisk, pickpocket)</td><td>255</td><td>320</td><td>Map(special-defense -> 75, defense -> 65, special-attack -> 95, attack -> 120, hp -> 95, speed -> 60)</td><td>List(dark, fairy)</td><td>10000</td></tr><tr><td>10223</td><td>alcremie-gmax</td><td>List(sweet-veil, aroma-veil)</td><td>173</td><td>300</td><td>Map(special-defense -> 121, defense -> 75, special-attack -> 110, attack -> 60, hp -> 65, speed -> 64)</td><td>List(fairy)</td><td>10000</td></tr><tr><td>10224</td><td>copperajah-gmax</td><td>List(sheer-force, heavy-metal)</td><td>175</td><td>230</td><td>Map(special-defense -> 69, defense -> 69, special-attack -> 80, attack -> 130, hp -> 122, speed -> 30)</td><td>List(steel)</td><td>10000</td></tr><tr><td>10225</td><td>duraludon-gmax</td><td>List(light-metal, heavy-metal, stalwart)</td><td>187</td><td>430</td><td>Map(special-defense -> 50, defense -> 115, special-attack -> 120, attack -> 95, hp -> 70, speed -> 85)</td><td>List(steel, dragon)</td><td>10000</td></tr><tr><td>10226</td><td>urshifu-single-strike-gmax</td><td>List(unseen-fist)</td><td>275</td><td>290</td><td>Map(special-defense -> 60, defense -> 100, special-attack -> 63, attack -> 130, hp -> 100, speed -> 97)</td><td>List(fighting, dark)</td><td>10000</td></tr><tr><td>10227</td><td>urshifu-rapid-strike-gmax</td><td>List(unseen-fist)</td><td>275</td><td>260</td><td>Map(special-defense -> 60, defense -> 100, special-attack -> 63, attack -> 130, hp -> 100, speed -> 97)</td><td>List(fighting, water)</td><td>10000</td></tr><tr><td>10228</td><td>toxtricity-low-key-gmax</td><td>List(punk-rock, minus, technician)</td><td>176</td><td>240</td><td>Map(special-defense -> 70, defense -> 70, special-attack -> 114, attack -> 98, hp -> 75, speed -> 75)</td><td>List(electric, poison)</td><td>10000</td></tr><tr><td>10229</td><td>growlithe-hisui</td><td>List(intimidate, flash-fire, rock-head)</td><td>70</td><td>8</td><td>Map(special-defense -> 50, defense -> 45, special-attack -> 65, attack -> 75, hp -> 60, speed -> 55)</td><td>List(fire, rock)</td><td>227</td></tr><tr><td>10230</td><td>arcanine-hisui</td><td>List(intimidate, flash-fire, rock-head)</td><td>194</td><td>20</td><td>Map(special-defense -> 80, defense -> 80, special-attack -> 95, attack -> 115, hp -> 95, speed -> 90)</td><td>List(fire, rock)</td><td>1680</td></tr><tr><td>10231</td><td>voltorb-hisui</td><td>List(soundproof, static, aftermath)</td><td>66</td><td>5</td><td>Map(special-defense -> 55, defense -> 50, special-attack -> 55, attack -> 30, hp -> 40, speed -> 100)</td><td>List(electric, grass)</td><td>130</td></tr><tr><td>10232</td><td>electrode-hisui</td><td>List(soundproof, static, aftermath)</td><td>172</td><td>12</td><td>Map(special-defense -> 80, defense -> 70, special-attack -> 80, attack -> 50, hp -> 60, speed -> 150)</td><td>List(electric, grass)</td><td>710</td></tr><tr><td>10233</td><td>typhlosion-hisui</td><td>List(blaze, frisk)</td><td>240</td><td>16</td><td>Map(special-defense -> 85, defense -> 78, special-attack -> 119, attack -> 84, hp -> 73, speed -> 95)</td><td>List(fire, ghost)</td><td>698</td></tr><tr><td>10234</td><td>qwilfish-hisui</td><td>List(poison-point, swift-swim, intimidate)</td><td>88</td><td>5</td><td>Map(special-defense -> 55, defense -> 85, special-attack -> 55, attack -> 95, hp -> 65, speed -> 85)</td><td>List(dark, poison)</td><td>39</td></tr><tr><td>10235</td><td>sneasel-hisui</td><td>List(inner-focus, keen-eye, pickpocket)</td><td>86</td><td>9</td><td>Map(special-defense -> 75, defense -> 55, special-attack -> 35, attack -> 95, hp -> 55, speed -> 115)</td><td>List(fighting, poison)</td><td>270</td></tr><tr><td>10236</td><td>samurott-hisui</td><td>List(torrent, sharpness)</td><td>238</td><td>15</td><td>Map(special-defense -> 65, defense -> 80, special-attack -> 100, attack -> 108, hp -> 90, speed -> 85)</td><td>List(water, dark)</td><td>582</td></tr><tr><td>10237</td><td>lilligant-hisui</td><td>List(chlorophyll, hustle, leaf-guard)</td><td>168</td><td>12</td><td>Map(special-defense -> 75, defense -> 75, special-attack -> 50, attack -> 105, hp -> 70, speed -> 105)</td><td>List(grass, fighting)</td><td>192</td></tr><tr><td>10238</td><td>zorua-hisui</td><td>List(illusion)</td><td>66</td><td>7</td><td>Map(special-defense -> 40, defense -> 40, special-attack -> 85, attack -> 60, hp -> 35, speed -> 70)</td><td>List(normal, ghost)</td><td>125</td></tr><tr><td>10239</td><td>zoroark-hisui</td><td>List(illusion)</td><td>179</td><td>16</td><td>Map(special-defense -> 60, defense -> 60, special-attack -> 125, attack -> 100, hp -> 55, speed -> 110)</td><td>List(normal, ghost)</td><td>730</td></tr><tr><td>10240</td><td>braviary-hisui</td><td>List(keen-eye, sheer-force, tinted-lens)</td><td>179</td><td>17</td><td>Map(special-defense -> 70, defense -> 70, special-attack -> 112, attack -> 83, hp -> 110, speed -> 65)</td><td>List(psychic, flying)</td><td>434</td></tr><tr><td>10241</td><td>sliggoo-hisui</td><td>List(sap-sipper, shell-armor, gooey)</td><td>158</td><td>7</td><td>Map(special-defense -> 113, defense -> 83, special-attack -> 83, attack -> 75, hp -> 58, speed -> 40)</td><td>List(steel, dragon)</td><td>685</td></tr><tr><td>10242</td><td>goodra-hisui</td><td>List(sap-sipper, shell-armor, gooey)</td><td>270</td><td>17</td><td>Map(special-defense -> 150, defense -> 100, special-attack -> 110, attack -> 100, hp -> 80, speed -> 60)</td><td>List(steel, dragon)</td><td>3341</td></tr><tr><td>10243</td><td>avalugg-hisui</td><td>List(strong-jaw, ice-body, sturdy)</td><td>180</td><td>14</td><td>Map(special-defense -> 36, defense -> 184, special-attack -> 34, attack -> 127, hp -> 95, speed -> 38)</td><td>List(ice, rock)</td><td>2624</td></tr><tr><td>10244</td><td>decidueye-hisui</td><td>List(overgrow, scrappy)</td><td>239</td><td>16</td><td>Map(special-defense -> 95, defense -> 80, special-attack -> 95, attack -> 112, hp -> 88, speed -> 60)</td><td>List(grass, fighting)</td><td>370</td></tr><tr><td>10245</td><td>dialga-origin</td><td>List(pressure, telepathy)</td><td>306</td><td>70</td><td>Map(special-defense -> 120, defense -> 120, special-attack -> 150, attack -> 100, hp -> 100, speed -> 90)</td><td>List(steel, dragon)</td><td>8487</td></tr><tr><td>10246</td><td>palkia-origin</td><td>List(pressure, telepathy)</td><td>306</td><td>63</td><td>Map(special-defense -> 120, defense -> 100, special-attack -> 150, attack -> 100, hp -> 90, speed -> 120)</td><td>List(water, dragon)</td><td>6590</td></tr><tr><td>10247</td><td>basculin-white-striped</td><td>List(rattled, adaptability, mold-breaker)</td><td>161</td><td>10</td><td>Map(special-defense -> 55, defense -> 65, special-attack -> 80, attack -> 92, hp -> 70, speed -> 98)</td><td>List(water)</td><td>180</td></tr><tr><td>10248</td><td>basculegion-female</td><td>List(swift-swim, adaptability, mold-breaker)</td><td>265</td><td>30</td><td>Map(special-defense -> 75, defense -> 65, special-attack -> 100, attack -> 92, hp -> 120, speed -> 78)</td><td>List(water, ghost)</td><td>1100</td></tr><tr><td>10249</td><td>enamorus-therian</td><td>List(overcoat)</td><td>116</td><td>16</td><td>Map(special-defense -> 100, defense -> 110, special-attack -> 135, attack -> 115, hp -> 74, speed -> 46)</td><td>List(fairy, flying)</td><td>480</td></tr><tr><td>10250</td><td>tauros-paldea-combat-breed</td><td>List(intimidate, anger-point, cud-chew)</td><td>172</td><td>14</td><td>Map(special-defense -> 70, defense -> 105, special-attack -> 30, attack -> 110, hp -> 75, speed -> 100)</td><td>List(fighting)</td><td>1150</td></tr><tr><td>10251</td><td>tauros-paldea-blaze-breed</td><td>List(intimidate, anger-point, cud-chew)</td><td>172</td><td>14</td><td>Map(special-defense -> 70, defense -> 105, special-attack -> 30, attack -> 110, hp -> 75, speed -> 100)</td><td>List(fighting, fire)</td><td>850</td></tr><tr><td>10252</td><td>tauros-paldea-aqua-breed</td><td>List(intimidate, anger-point, cud-chew)</td><td>172</td><td>14</td><td>Map(special-defense -> 70, defense -> 105, special-attack -> 30, attack -> 110, hp -> 75, speed -> 100)</td><td>List(fighting, water)</td><td>1100</td></tr><tr><td>10253</td><td>wooper-paldea</td><td>List(poison-point, water-absorb, unaware)</td><td>42</td><td>4</td><td>Map(special-defense -> 25, defense -> 45, special-attack -> 25, attack -> 45, hp -> 55, speed -> 15)</td><td>List(poison, ground)</td><td>110</td></tr><tr><td>10254</td><td>oinkologne-female</td><td>List(aroma-veil, gluttony, thick-fat)</td><td>171</td><td>10</td><td>Map(special-defense -> 90, defense -> 70, special-attack -> 59, attack -> 90, hp -> 115, speed -> 65)</td><td>List(normal)</td><td>1200</td></tr><tr><td>10255</td><td>dudunsparce-three-segment</td><td>List(serene-grace, run-away, rattled)</td><td>182</td><td>45</td><td>Map(special-defense -> 75, defense -> 80, special-attack -> 85, attack -> 100, hp -> 125, speed -> 55)</td><td>List(normal)</td><td>474</td></tr><tr><td>10256</td><td>palafin-hero</td><td>List(zero-to-hero, zero-to-hero)</td><td>160</td><td>18</td><td>Map(special-defense -> 87, defense -> 97, special-attack -> 106, attack -> 160, hp -> 100, speed -> 100)</td><td>List(water)</td><td>974</td></tr><tr><td>10257</td><td>maushold-family-of-three</td><td>List(friend-guard, cheek-pouch, technician)</td><td>165</td><td>3</td><td>Map(special-defense -> 75, defense -> 70, special-attack -> 65, attack -> 75, hp -> 74, speed -> 111)</td><td>List(normal)</td><td>28</td></tr><tr><td>10258</td><td>tatsugiri-droopy</td><td>List(commander, storm-drain)</td><td>166</td><td>3</td><td>Map(special-defense -> 95, defense -> 60, special-attack -> 120, attack -> 50, hp -> 68, speed -> 82)</td><td>List(dragon, water)</td><td>80</td></tr><tr><td>10259</td><td>tatsugiri-stretchy</td><td>List(commander, storm-drain)</td><td>166</td><td>3</td><td>Map(special-defense -> 95, defense -> 60, special-attack -> 120, attack -> 50, hp -> 68, speed -> 82)</td><td>List(dragon, water)</td><td>80</td></tr><tr><td>10260</td><td>squawkabilly-blue-plumage</td><td>List(intimidate, hustle, guts)</td><td>146</td><td>6</td><td>Map(special-defense -> 51, defense -> 51, special-attack -> 45, attack -> 96, hp -> 82, speed -> 92)</td><td>List(normal, flying)</td><td>24</td></tr><tr><td>10261</td><td>squawkabilly-yellow-plumage</td><td>List(intimidate, hustle, sheer-force)</td><td>146</td><td>6</td><td>Map(special-defense -> 51, defense -> 51, special-attack -> 45, attack -> 96, hp -> 82, speed -> 92)</td><td>List(normal, flying)</td><td>24</td></tr><tr><td>10262</td><td>squawkabilly-white-plumage</td><td>List(intimidate, hustle, sheer-force)</td><td>146</td><td>6</td><td>Map(special-defense -> 51, defense -> 51, special-attack -> 45, attack -> 96, hp -> 82, speed -> 92)</td><td>List(normal, flying)</td><td>24</td></tr><tr><td>10263</td><td>gimmighoul-roaming</td><td>List(run-away, run-away)</td><td>60</td><td>1</td><td>Map(special-defense -> 45, defense -> 25, special-attack -> 75, attack -> 30, hp -> 45, speed -> 80)</td><td>List(ghost)</td><td>10</td></tr><tr><td>10264</td><td>koraidon-limited-build</td><td>List(orichalcum-pulse, orichalcum-pulse)</td><td>335</td><td>35</td><td>Map(special-defense -> 100, defense -> 115, special-attack -> 85, attack -> 135, hp -> 100, speed -> 135)</td><td>List(fighting, dragon)</td><td>3030</td></tr><tr><td>10265</td><td>koraidon-sprinting-build</td><td>List(orichalcum-pulse, orichalcum-pulse)</td><td>335</td><td>35</td><td>Map(special-defense -> 100, defense -> 115, special-attack -> 85, attack -> 135, hp -> 100, speed -> 135)</td><td>List(fighting, dragon)</td><td>3030</td></tr><tr><td>10266</td><td>koraidon-swimming-build</td><td>List(orichalcum-pulse, orichalcum-pulse)</td><td>335</td><td>35</td><td>Map(special-defense -> 100, defense -> 115, special-attack -> 85, attack -> 135, hp -> 100, speed -> 135)</td><td>List(fighting, dragon)</td><td>3030</td></tr><tr><td>10267</td><td>koraidon-gliding-build</td><td>List(orichalcum-pulse, orichalcum-pulse)</td><td>335</td><td>35</td><td>Map(special-defense -> 100, defense -> 115, special-attack -> 85, attack -> 135, hp -> 100, speed -> 135)</td><td>List(fighting, dragon)</td><td>3030</td></tr><tr><td>10268</td><td>miraidon-low-power-mode</td><td>List(hadron-engine, hadron-engine)</td><td>335</td><td>28</td><td>Map(special-defense -> 115, defense -> 100, special-attack -> 135, attack -> 85, hp -> 100, speed -> 135)</td><td>List(electric, dragon)</td><td>2400</td></tr><tr><td>10269</td><td>miraidon-drive-mode</td><td>List(hadron-engine, hadron-engine)</td><td>335</td><td>28</td><td>Map(special-defense -> 115, defense -> 100, special-attack -> 135, attack -> 85, hp -> 100, speed -> 135)</td><td>List(electric, dragon)</td><td>2400</td></tr><tr><td>10270</td><td>miraidon-aquatic-mode</td><td>List(hadron-engine, hadron-engine)</td><td>335</td><td>28</td><td>Map(special-defense -> 115, defense -> 100, special-attack -> 135, attack -> 85, hp -> 100, speed -> 135)</td><td>List(electric, dragon)</td><td>2400</td></tr><tr><td>10271</td><td>miraidon-glide-mode</td><td>List(hadron-engine, hadron-engine)</td><td>335</td><td>28</td><td>Map(special-defense -> 115, defense -> 100, special-attack -> 135, attack -> 85, hp -> 100, speed -> 135)</td><td>List(electric, dragon)</td><td>2400</td></tr><tr><td>10272</td><td>ursaluna-bloodmoon</td><td>List(minds-eye)</td><td>275</td><td>24</td><td>Map(special-defense -> 65, defense -> 120, special-attack -> 135, attack -> 70, hp -> 113, speed -> 52)</td><td>List(ground, normal)</td><td>2900</td></tr><tr><td>10273</td><td>ogerpon-wellspring-mask</td><td>List(water-absorb)</td><td>275</td><td>12</td><td>Map(special-defense -> 96, defense -> 84, special-attack -> 60, attack -> 120, hp -> 80, speed -> 110)</td><td>List(grass, water)</td><td>398</td></tr><tr><td>10274</td><td>ogerpon-hearthflame-mask</td><td>List(mold-breaker)</td><td>275</td><td>12</td><td>Map(special-defense -> 96, defense -> 84, special-attack -> 60, attack -> 120, hp -> 80, speed -> 110)</td><td>List(grass, fire)</td><td>398</td></tr><tr><td>10275</td><td>ogerpon-cornerstone-mask</td><td>List(sturdy)</td><td>275</td><td>12</td><td>Map(special-defense -> 96, defense -> 84, special-attack -> 60, attack -> 120, hp -> 80, speed -> 110)</td><td>List(grass, rock)</td><td>398</td></tr><tr><td>10276</td><td>terapagos-terastal</td><td>List(tera-shell)</td><td>90</td><td>3</td><td>Map(special-defense -> 110, defense -> 110, special-attack -> 105, attack -> 95, hp -> 95, speed -> 85)</td><td>List(normal)</td><td>160</td></tr><tr><td>10277</td><td>terapagos-stellar</td><td>List(teraform-zero)</td><td>90</td><td>17</td><td>Map(special-defense -> 110, defense -> 110, special-attack -> 130, attack -> 105, hp -> 160, speed -> 85)</td><td>List(normal)</td><td>770</td></tr></tbody></table></div>"
      ]
     },
     "metadata": {
      "application/vnd.databricks.v1+output": {
       "addedWidgets": {},
       "aggData": [],
       "aggError": "",
       "aggOverflow": false,
       "aggSchema": [],
       "aggSeriesLimitReached": false,
       "aggType": "",
       "arguments": {},
       "columnCustomDisplayInfos": {},
       "data": [
        [
         1,
         "bulbasaur",
         [
          "overgrow",
          "chlorophyll"
         ],
         64,
         7,
         {
          "attack": 49,
          "defense": 49,
          "hp": 45,
          "special-attack": 65,
          "special-defense": 65,
          "speed": 45
         },
         [
          "grass",
          "poison"
         ],
         69
        ],
        [
         2,
         "ivysaur",
         [
          "overgrow",
          "chlorophyll"
         ],
         142,
         10,
         {
          "attack": 62,
          "defense": 63,
          "hp": 60,
          "special-attack": 80,
          "special-defense": 80,
          "speed": 60
         },
         [
          "grass",
          "poison"
         ],
         130
        ],
        [
         3,
         "venusaur",
         [
          "overgrow",
          "chlorophyll"
         ],
         263,
         20,
         {
          "attack": 82,
          "defense": 83,
          "hp": 80,
          "special-attack": 100,
          "special-defense": 100,
          "speed": 80
         },
         [
          "grass",
          "poison"
         ],
         1000
        ],
        [
         4,
         "charmander",
         [
          "blaze",
          "solar-power"
         ],
         62,
         6,
         {
          "attack": 52,
          "defense": 43,
          "hp": 39,
          "special-attack": 60,
          "special-defense": 50,
          "speed": 65
         },
         [
          "fire"
         ],
         85
        ],
        [
         5,
         "charmeleon",
         [
          "blaze",
          "solar-power"
         ],
         142,
         11,
         {
          "attack": 64,
          "defense": 58,
          "hp": 58,
          "special-attack": 80,
          "special-defense": 65,
          "speed": 80
         },
         [
          "fire"
         ],
         190
        ],
        [
         6,
         "charizard",
         [
          "blaze",
          "solar-power"
         ],
         267,
         17,
         {
          "attack": 84,
          "defense": 78,
          "hp": 78,
          "special-attack": 109,
          "special-defense": 85,
          "speed": 100
         },
         [
          "fire",
          "flying"
         ],
         905
        ],
        [
         7,
         "squirtle",
         [
          "torrent",
          "rain-dish"
         ],
         63,
         5,
         {
          "attack": 48,
          "defense": 65,
          "hp": 44,
          "special-attack": 50,
          "special-defense": 64,
          "speed": 43
         },
         [
          "water"
         ],
         90
        ],
        [
         8,
         "wartortle",
         [
          "torrent",
          "rain-dish"
         ],
         142,
         10,
         {
          "attack": 63,
          "defense": 80,
          "hp": 59,
          "special-attack": 65,
          "special-defense": 80,
          "speed": 58
         },
         [
          "water"
         ],
         225
        ],
        [
         9,
         "blastoise",
         [
          "torrent",
          "rain-dish"
         ],
         265,
         16,
         {
          "attack": 83,
          "defense": 100,
          "hp": 79,
          "special-attack": 85,
          "special-defense": 105,
          "speed": 78
         },
         [
          "water"
         ],
         855
        ],
        [
         10,
         "caterpie",
         [
          "shield-dust",
          "run-away"
         ],
         39,
         3,
         {
          "attack": 30,
          "defense": 35,
          "hp": 45,
          "special-attack": 20,
          "special-defense": 20,
          "speed": 45
         },
         [
          "bug"
         ],
         29
        ],
        [
         11,
         "metapod",
         [
          "shed-skin"
         ],
         72,
         7,
         {
          "attack": 20,
          "defense": 55,
          "hp": 50,
          "special-attack": 25,
          "special-defense": 25,
          "speed": 30
         },
         [
          "bug"
         ],
         99
        ],
        [
         12,
         "butterfree",
         [
          "compound-eyes",
          "tinted-lens"
         ],
         198,
         11,
         {
          "attack": 45,
          "defense": 50,
          "hp": 60,
          "special-attack": 90,
          "special-defense": 80,
          "speed": 70
         },
         [
          "bug",
          "flying"
         ],
         320
        ],
        [
         13,
         "weedle",
         [
          "shield-dust",
          "run-away"
         ],
         39,
         3,
         {
          "attack": 35,
          "defense": 30,
          "hp": 40,
          "special-attack": 20,
          "special-defense": 20,
          "speed": 50
         },
         [
          "bug",
          "poison"
         ],
         32
        ],
        [
         14,
         "kakuna",
         [
          "shed-skin"
         ],
         72,
         6,
         {
          "attack": 25,
          "defense": 50,
          "hp": 45,
          "special-attack": 25,
          "special-defense": 25,
          "speed": 35
         },
         [
          "bug",
          "poison"
         ],
         100
        ],
        [
         15,
         "beedrill",
         [
          "swarm",
          "sniper"
         ],
         178,
         10,
         {
          "attack": 90,
          "defense": 40,
          "hp": 65,
          "special-attack": 45,
          "special-defense": 80,
          "speed": 75
         },
         [
          "bug",
          "poison"
         ],
         295
        ],
        [
         16,
         "pidgey",
         [
          "keen-eye",
          "tangled-feet",
          "big-pecks"
         ],
         50,
         3,
         {
          "attack": 45,
          "defense": 40,
          "hp": 40,
          "special-attack": 35,
          "special-defense": 35,
          "speed": 56
         },
         [
          "normal",
          "flying"
         ],
         18
        ],
        [
         17,
         "pidgeotto",
         [
          "keen-eye",
          "tangled-feet",
          "big-pecks"
         ],
         122,
         11,
         {
          "attack": 60,
          "defense": 55,
          "hp": 63,
          "special-attack": 50,
          "special-defense": 50,
          "speed": 71
         },
         [
          "normal",
          "flying"
         ],
         300
        ],
        [
         18,
         "pidgeot",
         [
          "keen-eye",
          "tangled-feet",
          "big-pecks"
         ],
         216,
         15,
         {
          "attack": 80,
          "defense": 75,
          "hp": 83,
          "special-attack": 70,
          "special-defense": 70,
          "speed": 101
         },
         [
          "normal",
          "flying"
         ],
         395
        ],
        [
         19,
         "rattata",
         [
          "run-away",
          "guts",
          "hustle"
         ],
         51,
         3,
         {
          "attack": 56,
          "defense": 35,
          "hp": 30,
          "special-attack": 25,
          "special-defense": 35,
          "speed": 72
         },
         [
          "normal"
         ],
         35
        ],
        [
         20,
         "raticate",
         [
          "run-away",
          "guts",
          "hustle"
         ],
         145,
         7,
         {
          "attack": 81,
          "defense": 60,
          "hp": 55,
          "special-attack": 50,
          "special-defense": 70,
          "speed": 97
         },
         [
          "normal"
         ],
         185
        ],
        [
         21,
         "spearow",
         [
          "keen-eye",
          "sniper"
         ],
         52,
         3,
         {
          "attack": 60,
          "defense": 30,
          "hp": 40,
          "special-attack": 31,
          "special-defense": 31,
          "speed": 70
         },
         [
          "normal",
          "flying"
         ],
         20
        ],
        [
         22,
         "fearow",
         [
          "keen-eye",
          "sniper"
         ],
         155,
         12,
         {
          "attack": 90,
          "defense": 65,
          "hp": 65,
          "special-attack": 61,
          "special-defense": 61,
          "speed": 100
         },
         [
          "normal",
          "flying"
         ],
         380
        ],
        [
         23,
         "ekans",
         [
          "intimidate",
          "shed-skin",
          "unnerve"
         ],
         58,
         20,
         {
          "attack": 60,
          "defense": 44,
          "hp": 35,
          "special-attack": 40,
          "special-defense": 54,
          "speed": 55
         },
         [
          "poison"
         ],
         69
        ],
        [
         24,
         "arbok",
         [
          "intimidate",
          "shed-skin",
          "unnerve"
         ],
         157,
         35,
         {
          "attack": 95,
          "defense": 69,
          "hp": 60,
          "special-attack": 65,
          "special-defense": 79,
          "speed": 80
         },
         [
          "poison"
         ],
         650
        ],
        [
         25,
         "pikachu",
         [
          "static",
          "lightning-rod"
         ],
         112,
         4,
         {
          "attack": 55,
          "defense": 40,
          "hp": 35,
          "special-attack": 50,
          "special-defense": 50,
          "speed": 90
         },
         [
          "electric"
         ],
         60
        ],
        [
         26,
         "raichu",
         [
          "static",
          "lightning-rod"
         ],
         243,
         8,
         {
          "attack": 90,
          "defense": 55,
          "hp": 60,
          "special-attack": 90,
          "special-defense": 80,
          "speed": 110
         },
         [
          "electric"
         ],
         300
        ],
        [
         27,
         "sandshrew",
         [
          "sand-veil",
          "sand-rush"
         ],
         60,
         6,
         {
          "attack": 75,
          "defense": 85,
          "hp": 50,
          "special-attack": 20,
          "special-defense": 30,
          "speed": 40
         },
         [
          "ground"
         ],
         120
        ],
        [
         28,
         "sandslash",
         [
          "sand-veil",
          "sand-rush"
         ],
         158,
         10,
         {
          "attack": 100,
          "defense": 110,
          "hp": 75,
          "special-attack": 45,
          "special-defense": 55,
          "speed": 65
         },
         [
          "ground"
         ],
         295
        ],
        [
         29,
         "nidoran-f",
         [
          "poison-point",
          "rivalry",
          "hustle"
         ],
         55,
         4,
         {
          "attack": 47,
          "defense": 52,
          "hp": 55,
          "special-attack": 40,
          "special-defense": 40,
          "speed": 41
         },
         [
          "poison"
         ],
         70
        ],
        [
         30,
         "nidorina",
         [
          "poison-point",
          "rivalry",
          "hustle"
         ],
         128,
         8,
         {
          "attack": 62,
          "defense": 67,
          "hp": 70,
          "special-attack": 55,
          "special-defense": 55,
          "speed": 56
         },
         [
          "poison"
         ],
         200
        ],
        [
         31,
         "nidoqueen",
         [
          "poison-point",
          "rivalry",
          "sheer-force"
         ],
         253,
         13,
         {
          "attack": 92,
          "defense": 87,
          "hp": 90,
          "special-attack": 75,
          "special-defense": 85,
          "speed": 76
         },
         [
          "poison",
          "ground"
         ],
         600
        ],
        [
         32,
         "nidoran-m",
         [
          "poison-point",
          "rivalry",
          "hustle"
         ],
         55,
         5,
         {
          "attack": 57,
          "defense": 40,
          "hp": 46,
          "special-attack": 40,
          "special-defense": 40,
          "speed": 50
         },
         [
          "poison"
         ],
         90
        ],
        [
         33,
         "nidorino",
         [
          "poison-point",
          "rivalry",
          "hustle"
         ],
         128,
         9,
         {
          "attack": 72,
          "defense": 57,
          "hp": 61,
          "special-attack": 55,
          "special-defense": 55,
          "speed": 65
         },
         [
          "poison"
         ],
         195
        ],
        [
         34,
         "nidoking",
         [
          "poison-point",
          "rivalry",
          "sheer-force"
         ],
         253,
         14,
         {
          "attack": 102,
          "defense": 77,
          "hp": 81,
          "special-attack": 85,
          "special-defense": 75,
          "speed": 85
         },
         [
          "poison",
          "ground"
         ],
         620
        ],
        [
         35,
         "clefairy",
         [
          "cute-charm",
          "magic-guard",
          "friend-guard"
         ],
         113,
         6,
         {
          "attack": 45,
          "defense": 48,
          "hp": 70,
          "special-attack": 60,
          "special-defense": 65,
          "speed": 35
         },
         [
          "fairy"
         ],
         75
        ],
        [
         36,
         "clefable",
         [
          "cute-charm",
          "magic-guard",
          "unaware"
         ],
         242,
         13,
         {
          "attack": 70,
          "defense": 73,
          "hp": 95,
          "special-attack": 95,
          "special-defense": 90,
          "speed": 60
         },
         [
          "fairy"
         ],
         400
        ],
        [
         37,
         "vulpix",
         [
          "flash-fire",
          "drought"
         ],
         60,
         6,
         {
          "attack": 41,
          "defense": 40,
          "hp": 38,
          "special-attack": 50,
          "special-defense": 65,
          "speed": 65
         },
         [
          "fire"
         ],
         99
        ],
        [
         38,
         "ninetales",
         [
          "flash-fire",
          "drought"
         ],
         177,
         11,
         {
          "attack": 76,
          "defense": 75,
          "hp": 73,
          "special-attack": 81,
          "special-defense": 100,
          "speed": 100
         },
         [
          "fire"
         ],
         199
        ],
        [
         39,
         "jigglypuff",
         [
          "cute-charm",
          "competitive",
          "friend-guard"
         ],
         95,
         5,
         {
          "attack": 45,
          "defense": 20,
          "hp": 115,
          "special-attack": 45,
          "special-defense": 25,
          "speed": 20
         },
         [
          "normal",
          "fairy"
         ],
         55
        ],
        [
         40,
         "wigglytuff",
         [
          "cute-charm",
          "competitive",
          "frisk"
         ],
         218,
         10,
         {
          "attack": 70,
          "defense": 45,
          "hp": 140,
          "special-attack": 85,
          "special-defense": 50,
          "speed": 45
         },
         [
          "normal",
          "fairy"
         ],
         120
        ],
        [
         41,
         "zubat",
         [
          "inner-focus",
          "infiltrator"
         ],
         49,
         8,
         {
          "attack": 45,
          "defense": 35,
          "hp": 40,
          "special-attack": 30,
          "special-defense": 40,
          "speed": 55
         },
         [
          "poison",
          "flying"
         ],
         75
        ],
        [
         42,
         "golbat",
         [
          "inner-focus",
          "infiltrator"
         ],
         159,
         16,
         {
          "attack": 80,
          "defense": 70,
          "hp": 75,
          "special-attack": 65,
          "special-defense": 75,
          "speed": 90
         },
         [
          "poison",
          "flying"
         ],
         550
        ],
        [
         43,
         "oddish",
         [
          "chlorophyll",
          "run-away"
         ],
         64,
         5,
         {
          "attack": 50,
          "defense": 55,
          "hp": 45,
          "special-attack": 75,
          "special-defense": 65,
          "speed": 30
         },
         [
          "grass",
          "poison"
         ],
         54
        ],
        [
         44,
         "gloom",
         [
          "chlorophyll",
          "stench"
         ],
         138,
         8,
         {
          "attack": 65,
          "defense": 70,
          "hp": 60,
          "special-attack": 85,
          "special-defense": 75,
          "speed": 40
         },
         [
          "grass",
          "poison"
         ],
         86
        ],
        [
         45,
         "vileplume",
         [
          "chlorophyll",
          "effect-spore"
         ],
         245,
         12,
         {
          "attack": 80,
          "defense": 85,
          "hp": 75,
          "special-attack": 110,
          "special-defense": 90,
          "speed": 50
         },
         [
          "grass",
          "poison"
         ],
         186
        ],
        [
         46,
         "paras",
         [
          "effect-spore",
          "dry-skin",
          "damp"
         ],
         57,
         3,
         {
          "attack": 70,
          "defense": 55,
          "hp": 35,
          "special-attack": 45,
          "special-defense": 55,
          "speed": 25
         },
         [
          "bug",
          "grass"
         ],
         54
        ],
        [
         47,
         "parasect",
         [
          "effect-spore",
          "dry-skin",
          "damp"
         ],
         142,
         10,
         {
          "attack": 95,
          "defense": 80,
          "hp": 60,
          "special-attack": 60,
          "special-defense": 80,
          "speed": 30
         },
         [
          "bug",
          "grass"
         ],
         295
        ],
        [
         48,
         "venonat",
         [
          "compound-eyes",
          "tinted-lens",
          "run-away"
         ],
         61,
         10,
         {
          "attack": 55,
          "defense": 50,
          "hp": 60,
          "special-attack": 40,
          "special-defense": 55,
          "speed": 45
         },
         [
          "bug",
          "poison"
         ],
         300
        ],
        [
         49,
         "venomoth",
         [
          "shield-dust",
          "tinted-lens",
          "wonder-skin"
         ],
         158,
         15,
         {
          "attack": 65,
          "defense": 60,
          "hp": 70,
          "special-attack": 90,
          "special-defense": 75,
          "speed": 90
         },
         [
          "bug",
          "poison"
         ],
         125
        ],
        [
         50,
         "diglett",
         [
          "sand-veil",
          "arena-trap",
          "sand-force"
         ],
         53,
         2,
         {
          "attack": 55,
          "defense": 25,
          "hp": 10,
          "special-attack": 35,
          "special-defense": 45,
          "speed": 95
         },
         [
          "ground"
         ],
         8
        ],
        [
         51,
         "dugtrio",
         [
          "sand-veil",
          "arena-trap",
          "sand-force"
         ],
         149,
         7,
         {
          "attack": 100,
          "defense": 50,
          "hp": 35,
          "special-attack": 50,
          "special-defense": 70,
          "speed": 120
         },
         [
          "ground"
         ],
         333
        ],
        [
         52,
         "meowth",
         [
          "pickup",
          "technician",
          "unnerve"
         ],
         58,
         4,
         {
          "attack": 45,
          "defense": 35,
          "hp": 40,
          "special-attack": 40,
          "special-defense": 40,
          "speed": 90
         },
         [
          "normal"
         ],
         42
        ],
        [
         53,
         "persian",
         [
          "limber",
          "technician",
          "unnerve"
         ],
         154,
         10,
         {
          "attack": 70,
          "defense": 60,
          "hp": 65,
          "special-attack": 65,
          "special-defense": 65,
          "speed": 115
         },
         [
          "normal"
         ],
         320
        ],
        [
         54,
         "psyduck",
         [
          "damp",
          "cloud-nine",
          "swift-swim"
         ],
         64,
         8,
         {
          "attack": 52,
          "defense": 48,
          "hp": 50,
          "special-attack": 65,
          "special-defense": 50,
          "speed": 55
         },
         [
          "water"
         ],
         196
        ],
        [
         55,
         "golduck",
         [
          "damp",
          "cloud-nine",
          "swift-swim"
         ],
         175,
         17,
         {
          "attack": 82,
          "defense": 78,
          "hp": 80,
          "special-attack": 95,
          "special-defense": 80,
          "speed": 85
         },
         [
          "water"
         ],
         766
        ],
        [
         56,
         "mankey",
         [
          "vital-spirit",
          "anger-point",
          "defiant"
         ],
         61,
         5,
         {
          "attack": 80,
          "defense": 35,
          "hp": 40,
          "special-attack": 35,
          "special-defense": 45,
          "speed": 70
         },
         [
          "fighting"
         ],
         280
        ],
        [
         57,
         "primeape",
         [
          "vital-spirit",
          "anger-point",
          "defiant"
         ],
         159,
         10,
         {
          "attack": 105,
          "defense": 60,
          "hp": 65,
          "special-attack": 60,
          "special-defense": 70,
          "speed": 95
         },
         [
          "fighting"
         ],
         320
        ],
        [
         58,
         "growlithe",
         [
          "intimidate",
          "flash-fire",
          "justified"
         ],
         70,
         7,
         {
          "attack": 70,
          "defense": 45,
          "hp": 55,
          "special-attack": 70,
          "special-defense": 50,
          "speed": 60
         },
         [
          "fire"
         ],
         190
        ],
        [
         59,
         "arcanine",
         [
          "intimidate",
          "flash-fire",
          "justified"
         ],
         194,
         19,
         {
          "attack": 110,
          "defense": 80,
          "hp": 90,
          "special-attack": 100,
          "special-defense": 80,
          "speed": 95
         },
         [
          "fire"
         ],
         1550
        ],
        [
         60,
         "poliwag",
         [
          "water-absorb",
          "damp",
          "swift-swim"
         ],
         60,
         6,
         {
          "attack": 50,
          "defense": 40,
          "hp": 40,
          "special-attack": 40,
          "special-defense": 40,
          "speed": 90
         },
         [
          "water"
         ],
         124
        ],
        [
         61,
         "poliwhirl",
         [
          "water-absorb",
          "damp",
          "swift-swim"
         ],
         135,
         10,
         {
          "attack": 65,
          "defense": 65,
          "hp": 65,
          "special-attack": 50,
          "special-defense": 50,
          "speed": 90
         },
         [
          "water"
         ],
         200
        ],
        [
         62,
         "poliwrath",
         [
          "water-absorb",
          "damp",
          "swift-swim"
         ],
         255,
         13,
         {
          "attack": 95,
          "defense": 95,
          "hp": 90,
          "special-attack": 70,
          "special-defense": 90,
          "speed": 70
         },
         [
          "water",
          "fighting"
         ],
         540
        ],
        [
         63,
         "abra",
         [
          "synchronize",
          "inner-focus",
          "magic-guard"
         ],
         62,
         9,
         {
          "attack": 20,
          "defense": 15,
          "hp": 25,
          "special-attack": 105,
          "special-defense": 55,
          "speed": 90
         },
         [
          "psychic"
         ],
         195
        ],
        [
         64,
         "kadabra",
         [
          "synchronize",
          "inner-focus",
          "magic-guard"
         ],
         140,
         13,
         {
          "attack": 35,
          "defense": 30,
          "hp": 40,
          "special-attack": 120,
          "special-defense": 70,
          "speed": 105
         },
         [
          "psychic"
         ],
         565
        ],
        [
         65,
         "alakazam",
         [
          "synchronize",
          "inner-focus",
          "magic-guard"
         ],
         250,
         15,
         {
          "attack": 50,
          "defense": 45,
          "hp": 55,
          "special-attack": 135,
          "special-defense": 95,
          "speed": 120
         },
         [
          "psychic"
         ],
         480
        ],
        [
         66,
         "machop",
         [
          "guts",
          "no-guard",
          "steadfast"
         ],
         61,
         8,
         {
          "attack": 80,
          "defense": 50,
          "hp": 70,
          "special-attack": 35,
          "special-defense": 35,
          "speed": 35
         },
         [
          "fighting"
         ],
         195
        ],
        [
         67,
         "machoke",
         [
          "guts",
          "no-guard",
          "steadfast"
         ],
         142,
         15,
         {
          "attack": 100,
          "defense": 70,
          "hp": 80,
          "special-attack": 50,
          "special-defense": 60,
          "speed": 45
         },
         [
          "fighting"
         ],
         705
        ],
        [
         68,
         "machamp",
         [
          "guts",
          "no-guard",
          "steadfast"
         ],
         253,
         16,
         {
          "attack": 130,
          "defense": 80,
          "hp": 90,
          "special-attack": 65,
          "special-defense": 85,
          "speed": 55
         },
         [
          "fighting"
         ],
         1300
        ],
        [
         69,
         "bellsprout",
         [
          "chlorophyll",
          "gluttony"
         ],
         60,
         7,
         {
          "attack": 75,
          "defense": 35,
          "hp": 50,
          "special-attack": 70,
          "special-defense": 30,
          "speed": 40
         },
         [
          "grass",
          "poison"
         ],
         40
        ],
        [
         70,
         "weepinbell",
         [
          "chlorophyll",
          "gluttony"
         ],
         137,
         10,
         {
          "attack": 90,
          "defense": 50,
          "hp": 65,
          "special-attack": 85,
          "special-defense": 45,
          "speed": 55
         },
         [
          "grass",
          "poison"
         ],
         64
        ],
        [
         71,
         "victreebel",
         [
          "chlorophyll",
          "gluttony"
         ],
         221,
         17,
         {
          "attack": 105,
          "defense": 65,
          "hp": 80,
          "special-attack": 100,
          "special-defense": 70,
          "speed": 70
         },
         [
          "grass",
          "poison"
         ],
         155
        ],
        [
         72,
         "tentacool",
         [
          "clear-body",
          "liquid-ooze",
          "rain-dish"
         ],
         67,
         9,
         {
          "attack": 40,
          "defense": 35,
          "hp": 40,
          "special-attack": 50,
          "special-defense": 100,
          "speed": 70
         },
         [
          "water",
          "poison"
         ],
         455
        ],
        [
         73,
         "tentacruel",
         [
          "clear-body",
          "liquid-ooze",
          "rain-dish"
         ],
         180,
         16,
         {
          "attack": 70,
          "defense": 65,
          "hp": 80,
          "special-attack": 80,
          "special-defense": 120,
          "speed": 100
         },
         [
          "water",
          "poison"
         ],
         550
        ],
        [
         74,
         "geodude",
         [
          "rock-head",
          "sturdy",
          "sand-veil"
         ],
         60,
         4,
         {
          "attack": 80,
          "defense": 100,
          "hp": 40,
          "special-attack": 30,
          "special-defense": 30,
          "speed": 20
         },
         [
          "rock",
          "ground"
         ],
         200
        ],
        [
         75,
         "graveler",
         [
          "rock-head",
          "sturdy",
          "sand-veil"
         ],
         137,
         10,
         {
          "attack": 95,
          "defense": 115,
          "hp": 55,
          "special-attack": 45,
          "special-defense": 45,
          "speed": 35
         },
         [
          "rock",
          "ground"
         ],
         1050
        ],
        [
         76,
         "golem",
         [
          "rock-head",
          "sturdy",
          "sand-veil"
         ],
         223,
         14,
         {
          "attack": 120,
          "defense": 130,
          "hp": 80,
          "special-attack": 55,
          "special-defense": 65,
          "speed": 45
         },
         [
          "rock",
          "ground"
         ],
         3000
        ],
        [
         77,
         "ponyta",
         [
          "run-away",
          "flash-fire",
          "flame-body"
         ],
         82,
         10,
         {
          "attack": 85,
          "defense": 55,
          "hp": 50,
          "special-attack": 65,
          "special-defense": 65,
          "speed": 90
         },
         [
          "fire"
         ],
         300
        ],
        [
         78,
         "rapidash",
         [
          "run-away",
          "flash-fire",
          "flame-body"
         ],
         175,
         17,
         {
          "attack": 100,
          "defense": 70,
          "hp": 65,
          "special-attack": 80,
          "special-defense": 80,
          "speed": 105
         },
         [
          "fire"
         ],
         950
        ],
        [
         79,
         "slowpoke",
         [
          "oblivious",
          "own-tempo",
          "regenerator"
         ],
         63,
         12,
         {
          "attack": 65,
          "defense": 65,
          "hp": 90,
          "special-attack": 40,
          "special-defense": 40,
          "speed": 15
         },
         [
          "water",
          "psychic"
         ],
         360
        ],
        [
         80,
         "slowbro",
         [
          "oblivious",
          "own-tempo",
          "regenerator"
         ],
         172,
         16,
         {
          "attack": 75,
          "defense": 110,
          "hp": 95,
          "special-attack": 100,
          "special-defense": 80,
          "speed": 30
         },
         [
          "water",
          "psychic"
         ],
         785
        ],
        [
         81,
         "magnemite",
         [
          "magnet-pull",
          "sturdy",
          "analytic"
         ],
         65,
         3,
         {
          "attack": 35,
          "defense": 70,
          "hp": 25,
          "special-attack": 95,
          "special-defense": 55,
          "speed": 45
         },
         [
          "electric",
          "steel"
         ],
         60
        ],
        [
         82,
         "magneton",
         [
          "magnet-pull",
          "sturdy",
          "analytic"
         ],
         163,
         10,
         {
          "attack": 60,
          "defense": 95,
          "hp": 50,
          "special-attack": 120,
          "special-defense": 70,
          "speed": 70
         },
         [
          "electric",
          "steel"
         ],
         600
        ],
        [
         83,
         "farfetchd",
         [
          "keen-eye",
          "inner-focus",
          "defiant"
         ],
         132,
         8,
         {
          "attack": 90,
          "defense": 55,
          "hp": 52,
          "special-attack": 58,
          "special-defense": 62,
          "speed": 60
         },
         [
          "normal",
          "flying"
         ],
         150
        ],
        [
         84,
         "doduo",
         [
          "run-away",
          "early-bird",
          "tangled-feet"
         ],
         62,
         14,
         {
          "attack": 85,
          "defense": 45,
          "hp": 35,
          "special-attack": 35,
          "special-defense": 35,
          "speed": 75
         },
         [
          "normal",
          "flying"
         ],
         392
        ],
        [
         85,
         "dodrio",
         [
          "run-away",
          "early-bird",
          "tangled-feet"
         ],
         165,
         18,
         {
          "attack": 110,
          "defense": 70,
          "hp": 60,
          "special-attack": 60,
          "special-defense": 60,
          "speed": 110
         },
         [
          "normal",
          "flying"
         ],
         852
        ],
        [
         86,
         "seel",
         [
          "thick-fat",
          "hydration",
          "ice-body"
         ],
         65,
         11,
         {
          "attack": 45,
          "defense": 55,
          "hp": 65,
          "special-attack": 45,
          "special-defense": 70,
          "speed": 45
         },
         [
          "water"
         ],
         900
        ],
        [
         87,
         "dewgong",
         [
          "thick-fat",
          "hydration",
          "ice-body"
         ],
         166,
         17,
         {
          "attack": 70,
          "defense": 80,
          "hp": 90,
          "special-attack": 70,
          "special-defense": 95,
          "speed": 70
         },
         [
          "water",
          "ice"
         ],
         1200
        ],
        [
         88,
         "grimer",
         [
          "stench",
          "sticky-hold",
          "poison-touch"
         ],
         65,
         9,
         {
          "attack": 80,
          "defense": 50,
          "hp": 80,
          "special-attack": 40,
          "special-defense": 50,
          "speed": 25
         },
         [
          "poison"
         ],
         300
        ],
        [
         89,
         "muk",
         [
          "stench",
          "sticky-hold",
          "poison-touch"
         ],
         175,
         12,
         {
          "attack": 105,
          "defense": 75,
          "hp": 105,
          "special-attack": 65,
          "special-defense": 100,
          "speed": 50
         },
         [
          "poison"
         ],
         300
        ],
        [
         90,
         "shellder",
         [
          "shell-armor",
          "skill-link",
          "overcoat"
         ],
         61,
         3,
         {
          "attack": 65,
          "defense": 100,
          "hp": 30,
          "special-attack": 45,
          "special-defense": 25,
          "speed": 40
         },
         [
          "water"
         ],
         40
        ],
        [
         91,
         "cloyster",
         [
          "shell-armor",
          "skill-link",
          "overcoat"
         ],
         184,
         15,
         {
          "attack": 95,
          "defense": 180,
          "hp": 50,
          "special-attack": 85,
          "special-defense": 45,
          "speed": 70
         },
         [
          "water",
          "ice"
         ],
         1325
        ],
        [
         92,
         "gastly",
         [
          "levitate"
         ],
         62,
         13,
         {
          "attack": 35,
          "defense": 30,
          "hp": 30,
          "special-attack": 100,
          "special-defense": 35,
          "speed": 80
         },
         [
          "ghost",
          "poison"
         ],
         1
        ],
        [
         93,
         "haunter",
         [
          "levitate"
         ],
         142,
         16,
         {
          "attack": 50,
          "defense": 45,
          "hp": 45,
          "special-attack": 115,
          "special-defense": 55,
          "speed": 95
         },
         [
          "ghost",
          "poison"
         ],
         1
        ],
        [
         94,
         "gengar",
         [
          "cursed-body"
         ],
         250,
         15,
         {
          "attack": 65,
          "defense": 60,
          "hp": 60,
          "special-attack": 130,
          "special-defense": 75,
          "speed": 110
         },
         [
          "ghost",
          "poison"
         ],
         405
        ],
        [
         95,
         "onix",
         [
          "rock-head",
          "sturdy",
          "weak-armor"
         ],
         77,
         88,
         {
          "attack": 45,
          "defense": 160,
          "hp": 35,
          "special-attack": 30,
          "special-defense": 45,
          "speed": 70
         },
         [
          "rock",
          "ground"
         ],
         2100
        ],
        [
         96,
         "drowzee",
         [
          "insomnia",
          "forewarn",
          "inner-focus"
         ],
         66,
         10,
         {
          "attack": 48,
          "defense": 45,
          "hp": 60,
          "special-attack": 43,
          "special-defense": 90,
          "speed": 42
         },
         [
          "psychic"
         ],
         324
        ],
        [
         97,
         "hypno",
         [
          "insomnia",
          "forewarn",
          "inner-focus"
         ],
         169,
         16,
         {
          "attack": 73,
          "defense": 70,
          "hp": 85,
          "special-attack": 73,
          "special-defense": 115,
          "speed": 67
         },
         [
          "psychic"
         ],
         756
        ],
        [
         98,
         "krabby",
         [
          "hyper-cutter",
          "shell-armor",
          "sheer-force"
         ],
         65,
         4,
         {
          "attack": 105,
          "defense": 90,
          "hp": 30,
          "special-attack": 25,
          "special-defense": 25,
          "speed": 50
         },
         [
          "water"
         ],
         65
        ],
        [
         99,
         "kingler",
         [
          "hyper-cutter",
          "shell-armor",
          "sheer-force"
         ],
         166,
         13,
         {
          "attack": 130,
          "defense": 115,
          "hp": 55,
          "special-attack": 50,
          "special-defense": 50,
          "speed": 75
         },
         [
          "water"
         ],
         600
        ],
        [
         100,
         "voltorb",
         [
          "soundproof",
          "static",
          "aftermath"
         ],
         66,
         5,
         {
          "attack": 30,
          "defense": 50,
          "hp": 40,
          "special-attack": 55,
          "special-defense": 55,
          "speed": 100
         },
         [
          "electric"
         ],
         104
        ],
        [
         101,
         "electrode",
         [
          "soundproof",
          "static",
          "aftermath"
         ],
         172,
         12,
         {
          "attack": 50,
          "defense": 70,
          "hp": 60,
          "special-attack": 80,
          "special-defense": 80,
          "speed": 150
         },
         [
          "electric"
         ],
         666
        ],
        [
         102,
         "exeggcute",
         [
          "chlorophyll",
          "harvest"
         ],
         65,
         4,
         {
          "attack": 40,
          "defense": 80,
          "hp": 60,
          "special-attack": 60,
          "special-defense": 45,
          "speed": 40
         },
         [
          "grass",
          "psychic"
         ],
         25
        ],
        [
         103,
         "exeggutor",
         [
          "chlorophyll",
          "harvest"
         ],
         186,
         20,
         {
          "attack": 95,
          "defense": 85,
          "hp": 95,
          "special-attack": 125,
          "special-defense": 75,
          "speed": 55
         },
         [
          "grass",
          "psychic"
         ],
         1200
        ],
        [
         104,
         "cubone",
         [
          "rock-head",
          "lightning-rod",
          "battle-armor"
         ],
         64,
         4,
         {
          "attack": 50,
          "defense": 95,
          "hp": 50,
          "special-attack": 40,
          "special-defense": 50,
          "speed": 35
         },
         [
          "ground"
         ],
         65
        ],
        [
         105,
         "marowak",
         [
          "rock-head",
          "lightning-rod",
          "battle-armor"
         ],
         149,
         10,
         {
          "attack": 80,
          "defense": 110,
          "hp": 60,
          "special-attack": 50,
          "special-defense": 80,
          "speed": 45
         },
         [
          "ground"
         ],
         450
        ],
        [
         106,
         "hitmonlee",
         [
          "limber",
          "reckless",
          "unburden"
         ],
         159,
         15,
         {
          "attack": 120,
          "defense": 53,
          "hp": 50,
          "special-attack": 35,
          "special-defense": 110,
          "speed": 87
         },
         [
          "fighting"
         ],
         498
        ],
        [
         107,
         "hitmonchan",
         [
          "keen-eye",
          "iron-fist",
          "inner-focus"
         ],
         159,
         14,
         {
          "attack": 105,
          "defense": 79,
          "hp": 50,
          "special-attack": 35,
          "special-defense": 110,
          "speed": 76
         },
         [
          "fighting"
         ],
         502
        ],
        [
         108,
         "lickitung",
         [
          "own-tempo",
          "oblivious",
          "cloud-nine"
         ],
         77,
         12,
         {
          "attack": 55,
          "defense": 75,
          "hp": 90,
          "special-attack": 60,
          "special-defense": 75,
          "speed": 30
         },
         [
          "normal"
         ],
         655
        ],
        [
         109,
         "koffing",
         [
          "levitate",
          "neutralizing-gas",
          "stench"
         ],
         68,
         6,
         {
          "attack": 65,
          "defense": 95,
          "hp": 40,
          "special-attack": 60,
          "special-defense": 45,
          "speed": 35
         },
         [
          "poison"
         ],
         10
        ],
        [
         110,
         "weezing",
         [
          "levitate",
          "neutralizing-gas",
          "stench"
         ],
         172,
         12,
         {
          "attack": 90,
          "defense": 120,
          "hp": 65,
          "special-attack": 85,
          "special-defense": 70,
          "speed": 60
         },
         [
          "poison"
         ],
         95
        ],
        [
         111,
         "rhyhorn",
         [
          "lightning-rod",
          "rock-head",
          "reckless"
         ],
         69,
         10,
         {
          "attack": 85,
          "defense": 95,
          "hp": 80,
          "special-attack": 30,
          "special-defense": 30,
          "speed": 25
         },
         [
          "ground",
          "rock"
         ],
         1150
        ],
        [
         112,
         "rhydon",
         [
          "lightning-rod",
          "rock-head",
          "reckless"
         ],
         170,
         19,
         {
          "attack": 130,
          "defense": 120,
          "hp": 105,
          "special-attack": 45,
          "special-defense": 45,
          "speed": 40
         },
         [
          "ground",
          "rock"
         ],
         1200
        ],
        [
         113,
         "chansey",
         [
          "natural-cure",
          "serene-grace",
          "healer"
         ],
         395,
         11,
         {
          "attack": 5,
          "defense": 5,
          "hp": 250,
          "special-attack": 35,
          "special-defense": 105,
          "speed": 50
         },
         [
          "normal"
         ],
         346
        ],
        [
         114,
         "tangela",
         [
          "chlorophyll",
          "leaf-guard",
          "regenerator"
         ],
         87,
         10,
         {
          "attack": 55,
          "defense": 115,
          "hp": 65,
          "special-attack": 100,
          "special-defense": 40,
          "speed": 60
         },
         [
          "grass"
         ],
         350
        ],
        [
         115,
         "kangaskhan",
         [
          "early-bird",
          "scrappy",
          "inner-focus"
         ],
         172,
         22,
         {
          "attack": 95,
          "defense": 80,
          "hp": 105,
          "special-attack": 40,
          "special-defense": 80,
          "speed": 90
         },
         [
          "normal"
         ],
         800
        ],
        [
         116,
         "horsea",
         [
          "swift-swim",
          "sniper",
          "damp"
         ],
         59,
         4,
         {
          "attack": 40,
          "defense": 70,
          "hp": 30,
          "special-attack": 70,
          "special-defense": 25,
          "speed": 60
         },
         [
          "water"
         ],
         80
        ],
        [
         117,
         "seadra",
         [
          "poison-point",
          "sniper",
          "damp"
         ],
         154,
         12,
         {
          "attack": 65,
          "defense": 95,
          "hp": 55,
          "special-attack": 95,
          "special-defense": 45,
          "speed": 85
         },
         [
          "water"
         ],
         250
        ],
        [
         118,
         "goldeen",
         [
          "swift-swim",
          "water-veil",
          "lightning-rod"
         ],
         64,
         6,
         {
          "attack": 67,
          "defense": 60,
          "hp": 45,
          "special-attack": 35,
          "special-defense": 50,
          "speed": 63
         },
         [
          "water"
         ],
         150
        ],
        [
         119,
         "seaking",
         [
          "swift-swim",
          "water-veil",
          "lightning-rod"
         ],
         158,
         13,
         {
          "attack": 92,
          "defense": 65,
          "hp": 80,
          "special-attack": 65,
          "special-defense": 80,
          "speed": 68
         },
         [
          "water"
         ],
         390
        ],
        [
         120,
         "staryu",
         [
          "illuminate",
          "natural-cure",
          "analytic"
         ],
         68,
         8,
         {
          "attack": 45,
          "defense": 55,
          "hp": 30,
          "special-attack": 70,
          "special-defense": 55,
          "speed": 85
         },
         [
          "water"
         ],
         345
        ],
        [
         121,
         "starmie",
         [
          "illuminate",
          "natural-cure",
          "analytic"
         ],
         182,
         11,
         {
          "attack": 75,
          "defense": 85,
          "hp": 60,
          "special-attack": 100,
          "special-defense": 85,
          "speed": 115
         },
         [
          "water",
          "psychic"
         ],
         800
        ],
        [
         122,
         "mr-mime",
         [
          "soundproof",
          "filter",
          "technician"
         ],
         161,
         13,
         {
          "attack": 45,
          "defense": 65,
          "hp": 40,
          "special-attack": 100,
          "special-defense": 120,
          "speed": 90
         },
         [
          "psychic",
          "fairy"
         ],
         545
        ],
        [
         123,
         "scyther",
         [
          "swarm",
          "technician",
          "steadfast"
         ],
         100,
         15,
         {
          "attack": 110,
          "defense": 80,
          "hp": 70,
          "special-attack": 55,
          "special-defense": 80,
          "speed": 105
         },
         [
          "bug",
          "flying"
         ],
         560
        ],
        [
         124,
         "jynx",
         [
          "oblivious",
          "forewarn",
          "dry-skin"
         ],
         159,
         14,
         {
          "attack": 50,
          "defense": 35,
          "hp": 65,
          "special-attack": 115,
          "special-defense": 95,
          "speed": 95
         },
         [
          "ice",
          "psychic"
         ],
         406
        ],
        [
         125,
         "electabuzz",
         [
          "static",
          "vital-spirit"
         ],
         172,
         11,
         {
          "attack": 83,
          "defense": 57,
          "hp": 65,
          "special-attack": 95,
          "special-defense": 85,
          "speed": 105
         },
         [
          "electric"
         ],
         300
        ],
        [
         126,
         "magmar",
         [
          "flame-body",
          "vital-spirit"
         ],
         173,
         13,
         {
          "attack": 95,
          "defense": 57,
          "hp": 65,
          "special-attack": 100,
          "special-defense": 85,
          "speed": 93
         },
         [
          "fire"
         ],
         445
        ],
        [
         127,
         "pinsir",
         [
          "hyper-cutter",
          "mold-breaker",
          "moxie"
         ],
         175,
         15,
         {
          "attack": 125,
          "defense": 100,
          "hp": 65,
          "special-attack": 55,
          "special-defense": 70,
          "speed": 85
         },
         [
          "bug"
         ],
         550
        ],
        [
         128,
         "tauros",
         [
          "intimidate",
          "anger-point",
          "sheer-force"
         ],
         172,
         14,
         {
          "attack": 100,
          "defense": 95,
          "hp": 75,
          "special-attack": 40,
          "special-defense": 70,
          "speed": 110
         },
         [
          "normal"
         ],
         884
        ],
        [
         129,
         "magikarp",
         [
          "swift-swim",
          "rattled"
         ],
         40,
         9,
         {
          "attack": 10,
          "defense": 55,
          "hp": 20,
          "special-attack": 15,
          "special-defense": 20,
          "speed": 80
         },
         [
          "water"
         ],
         100
        ],
        [
         130,
         "gyarados",
         [
          "intimidate",
          "moxie"
         ],
         189,
         65,
         {
          "attack": 125,
          "defense": 79,
          "hp": 95,
          "special-attack": 60,
          "special-defense": 100,
          "speed": 81
         },
         [
          "water",
          "flying"
         ],
         2350
        ],
        [
         131,
         "lapras",
         [
          "water-absorb",
          "shell-armor",
          "hydration"
         ],
         187,
         25,
         {
          "attack": 85,
          "defense": 80,
          "hp": 130,
          "special-attack": 85,
          "special-defense": 95,
          "speed": 60
         },
         [
          "water",
          "ice"
         ],
         2200
        ],
        [
         132,
         "ditto",
         [
          "limber",
          "imposter"
         ],
         101,
         3,
         {
          "attack": 48,
          "defense": 48,
          "hp": 48,
          "special-attack": 48,
          "special-defense": 48,
          "speed": 48
         },
         [
          "normal"
         ],
         40
        ],
        [
         133,
         "eevee",
         [
          "run-away",
          "adaptability",
          "anticipation"
         ],
         65,
         3,
         {
          "attack": 55,
          "defense": 50,
          "hp": 55,
          "special-attack": 45,
          "special-defense": 65,
          "speed": 55
         },
         [
          "normal"
         ],
         65
        ],
        [
         134,
         "vaporeon",
         [
          "water-absorb",
          "hydration"
         ],
         184,
         10,
         {
          "attack": 65,
          "defense": 60,
          "hp": 130,
          "special-attack": 110,
          "special-defense": 95,
          "speed": 65
         },
         [
          "water"
         ],
         290
        ],
        [
         135,
         "jolteon",
         [
          "volt-absorb",
          "quick-feet"
         ],
         184,
         8,
         {
          "attack": 65,
          "defense": 60,
          "hp": 65,
          "special-attack": 110,
          "special-defense": 95,
          "speed": 130
         },
         [
          "electric"
         ],
         245
        ],
        [
         136,
         "flareon",
         [
          "flash-fire",
          "guts"
         ],
         184,
         9,
         {
          "attack": 130,
          "defense": 60,
          "hp": 65,
          "special-attack": 95,
          "special-defense": 110,
          "speed": 65
         },
         [
          "fire"
         ],
         250
        ],
        [
         137,
         "porygon",
         [
          "trace",
          "download",
          "analytic"
         ],
         79,
         8,
         {
          "attack": 60,
          "defense": 70,
          "hp": 65,
          "special-attack": 85,
          "special-defense": 75,
          "speed": 40
         },
         [
          "normal"
         ],
         365
        ],
        [
         138,
         "omanyte",
         [
          "swift-swim",
          "shell-armor",
          "weak-armor"
         ],
         71,
         4,
         {
          "attack": 40,
          "defense": 100,
          "hp": 35,
          "special-attack": 90,
          "special-defense": 55,
          "speed": 35
         },
         [
          "rock",
          "water"
         ],
         75
        ],
        [
         139,
         "omastar",
         [
          "swift-swim",
          "shell-armor",
          "weak-armor"
         ],
         173,
         10,
         {
          "attack": 60,
          "defense": 125,
          "hp": 70,
          "special-attack": 115,
          "special-defense": 70,
          "speed": 55
         },
         [
          "rock",
          "water"
         ],
         350
        ],
        [
         140,
         "kabuto",
         [
          "swift-swim",
          "battle-armor",
          "weak-armor"
         ],
         71,
         5,
         {
          "attack": 80,
          "defense": 90,
          "hp": 30,
          "special-attack": 55,
          "special-defense": 45,
          "speed": 55
         },
         [
          "rock",
          "water"
         ],
         115
        ],
        [
         141,
         "kabutops",
         [
          "swift-swim",
          "battle-armor",
          "weak-armor"
         ],
         173,
         13,
         {
          "attack": 115,
          "defense": 105,
          "hp": 60,
          "special-attack": 65,
          "special-defense": 70,
          "speed": 80
         },
         [
          "rock",
          "water"
         ],
         405
        ],
        [
         142,
         "aerodactyl",
         [
          "rock-head",
          "pressure",
          "unnerve"
         ],
         180,
         18,
         {
          "attack": 105,
          "defense": 65,
          "hp": 80,
          "special-attack": 60,
          "special-defense": 75,
          "speed": 130
         },
         [
          "rock",
          "flying"
         ],
         590
        ],
        [
         143,
         "snorlax",
         [
          "immunity",
          "thick-fat",
          "gluttony"
         ],
         189,
         21,
         {
          "attack": 110,
          "defense": 65,
          "hp": 160,
          "special-attack": 65,
          "special-defense": 110,
          "speed": 30
         },
         [
          "normal"
         ],
         4600
        ],
        [
         144,
         "articuno",
         [
          "pressure",
          "snow-cloak"
         ],
         290,
         17,
         {
          "attack": 85,
          "defense": 100,
          "hp": 90,
          "special-attack": 95,
          "special-defense": 125,
          "speed": 85
         },
         [
          "ice",
          "flying"
         ],
         554
        ],
        [
         145,
         "zapdos",
         [
          "pressure",
          "static"
         ],
         290,
         16,
         {
          "attack": 90,
          "defense": 85,
          "hp": 90,
          "special-attack": 125,
          "special-defense": 90,
          "speed": 100
         },
         [
          "electric",
          "flying"
         ],
         526
        ],
        [
         146,
         "moltres",
         [
          "pressure",
          "flame-body"
         ],
         290,
         20,
         {
          "attack": 100,
          "defense": 90,
          "hp": 90,
          "special-attack": 125,
          "special-defense": 85,
          "speed": 90
         },
         [
          "fire",
          "flying"
         ],
         600
        ],
        [
         147,
         "dratini",
         [
          "shed-skin",
          "marvel-scale"
         ],
         60,
         18,
         {
          "attack": 64,
          "defense": 45,
          "hp": 41,
          "special-attack": 50,
          "special-defense": 50,
          "speed": 50
         },
         [
          "dragon"
         ],
         33
        ],
        [
         148,
         "dragonair",
         [
          "shed-skin",
          "marvel-scale"
         ],
         147,
         40,
         {
          "attack": 84,
          "defense": 65,
          "hp": 61,
          "special-attack": 70,
          "special-defense": 70,
          "speed": 70
         },
         [
          "dragon"
         ],
         165
        ],
        [
         149,
         "dragonite",
         [
          "inner-focus",
          "multiscale"
         ],
         300,
         22,
         {
          "attack": 134,
          "defense": 95,
          "hp": 91,
          "special-attack": 100,
          "special-defense": 100,
          "speed": 80
         },
         [
          "dragon",
          "flying"
         ],
         2100
        ],
        [
         150,
         "mewtwo",
         [
          "pressure",
          "unnerve"
         ],
         340,
         20,
         {
          "attack": 110,
          "defense": 90,
          "hp": 106,
          "special-attack": 154,
          "special-defense": 90,
          "speed": 130
         },
         [
          "psychic"
         ],
         1220
        ],
        [
         151,
         "mew",
         [
          "synchronize"
         ],
         300,
         4,
         {
          "attack": 100,
          "defense": 100,
          "hp": 100,
          "special-attack": 100,
          "special-defense": 100,
          "speed": 100
         },
         [
          "psychic"
         ],
         40
        ],
        [
         152,
         "chikorita",
         [
          "overgrow",
          "leaf-guard"
         ],
         64,
         9,
         {
          "attack": 49,
          "defense": 65,
          "hp": 45,
          "special-attack": 49,
          "special-defense": 65,
          "speed": 45
         },
         [
          "grass"
         ],
         64
        ],
        [
         153,
         "bayleef",
         [
          "overgrow",
          "leaf-guard"
         ],
         142,
         12,
         {
          "attack": 62,
          "defense": 80,
          "hp": 60,
          "special-attack": 63,
          "special-defense": 80,
          "speed": 60
         },
         [
          "grass"
         ],
         158
        ],
        [
         154,
         "meganium",
         [
          "overgrow",
          "leaf-guard"
         ],
         236,
         18,
         {
          "attack": 82,
          "defense": 100,
          "hp": 80,
          "special-attack": 83,
          "special-defense": 100,
          "speed": 80
         },
         [
          "grass"
         ],
         1005
        ],
        [
         155,
         "cyndaquil",
         [
          "blaze",
          "flash-fire"
         ],
         62,
         5,
         {
          "attack": 52,
          "defense": 43,
          "hp": 39,
          "special-attack": 60,
          "special-defense": 50,
          "speed": 65
         },
         [
          "fire"
         ],
         79
        ],
        [
         156,
         "quilava",
         [
          "blaze",
          "flash-fire"
         ],
         142,
         9,
         {
          "attack": 64,
          "defense": 58,
          "hp": 58,
          "special-attack": 80,
          "special-defense": 65,
          "speed": 80
         },
         [
          "fire"
         ],
         190
        ],
        [
         157,
         "typhlosion",
         [
          "blaze",
          "flash-fire"
         ],
         240,
         17,
         {
          "attack": 84,
          "defense": 78,
          "hp": 78,
          "special-attack": 109,
          "special-defense": 85,
          "speed": 100
         },
         [
          "fire"
         ],
         795
        ],
        [
         158,
         "totodile",
         [
          "torrent",
          "sheer-force"
         ],
         63,
         6,
         {
          "attack": 65,
          "defense": 64,
          "hp": 50,
          "special-attack": 44,
          "special-defense": 48,
          "speed": 43
         },
         [
          "water"
         ],
         95
        ],
        [
         159,
         "croconaw",
         [
          "torrent",
          "sheer-force"
         ],
         142,
         11,
         {
          "attack": 80,
          "defense": 80,
          "hp": 65,
          "special-attack": 59,
          "special-defense": 63,
          "speed": 58
         },
         [
          "water"
         ],
         250
        ],
        [
         160,
         "feraligatr",
         [
          "torrent",
          "sheer-force"
         ],
         239,
         23,
         {
          "attack": 105,
          "defense": 100,
          "hp": 85,
          "special-attack": 79,
          "special-defense": 83,
          "speed": 78
         },
         [
          "water"
         ],
         888
        ],
        [
         161,
         "sentret",
         [
          "run-away",
          "keen-eye",
          "frisk"
         ],
         43,
         8,
         {
          "attack": 46,
          "defense": 34,
          "hp": 35,
          "special-attack": 35,
          "special-defense": 45,
          "speed": 20
         },
         [
          "normal"
         ],
         60
        ],
        [
         162,
         "furret",
         [
          "run-away",
          "keen-eye",
          "frisk"
         ],
         145,
         18,
         {
          "attack": 76,
          "defense": 64,
          "hp": 85,
          "special-attack": 45,
          "special-defense": 55,
          "speed": 90
         },
         [
          "normal"
         ],
         325
        ],
        [
         163,
         "hoothoot",
         [
          "insomnia",
          "keen-eye",
          "tinted-lens"
         ],
         52,
         7,
         {
          "attack": 30,
          "defense": 30,
          "hp": 60,
          "special-attack": 36,
          "special-defense": 56,
          "speed": 50
         },
         [
          "normal",
          "flying"
         ],
         212
        ],
        [
         164,
         "noctowl",
         [
          "insomnia",
          "keen-eye",
          "tinted-lens"
         ],
         158,
         16,
         {
          "attack": 50,
          "defense": 50,
          "hp": 100,
          "special-attack": 86,
          "special-defense": 96,
          "speed": 70
         },
         [
          "normal",
          "flying"
         ],
         408
        ],
        [
         165,
         "ledyba",
         [
          "swarm",
          "early-bird",
          "rattled"
         ],
         53,
         10,
         {
          "attack": 20,
          "defense": 30,
          "hp": 40,
          "special-attack": 40,
          "special-defense": 80,
          "speed": 55
         },
         [
          "bug",
          "flying"
         ],
         108
        ],
        [
         166,
         "ledian",
         [
          "swarm",
          "early-bird",
          "iron-fist"
         ],
         137,
         14,
         {
          "attack": 35,
          "defense": 50,
          "hp": 55,
          "special-attack": 55,
          "special-defense": 110,
          "speed": 85
         },
         [
          "bug",
          "flying"
         ],
         356
        ],
        [
         167,
         "spinarak",
         [
          "swarm",
          "insomnia",
          "sniper"
         ],
         50,
         5,
         {
          "attack": 60,
          "defense": 40,
          "hp": 40,
          "special-attack": 40,
          "special-defense": 40,
          "speed": 30
         },
         [
          "bug",
          "poison"
         ],
         85
        ],
        [
         168,
         "ariados",
         [
          "swarm",
          "insomnia",
          "sniper"
         ],
         140,
         11,
         {
          "attack": 90,
          "defense": 70,
          "hp": 70,
          "special-attack": 60,
          "special-defense": 70,
          "speed": 40
         },
         [
          "bug",
          "poison"
         ],
         335
        ],
        [
         169,
         "crobat",
         [
          "inner-focus",
          "infiltrator"
         ],
         268,
         18,
         {
          "attack": 90,
          "defense": 80,
          "hp": 85,
          "special-attack": 70,
          "special-defense": 80,
          "speed": 130
         },
         [
          "poison",
          "flying"
         ],
         750
        ],
        [
         170,
         "chinchou",
         [
          "volt-absorb",
          "illuminate",
          "water-absorb"
         ],
         66,
         5,
         {
          "attack": 38,
          "defense": 38,
          "hp": 75,
          "special-attack": 56,
          "special-defense": 56,
          "speed": 67
         },
         [
          "water",
          "electric"
         ],
         120
        ],
        [
         171,
         "lanturn",
         [
          "volt-absorb",
          "illuminate",
          "water-absorb"
         ],
         161,
         12,
         {
          "attack": 58,
          "defense": 58,
          "hp": 125,
          "special-attack": 76,
          "special-defense": 76,
          "speed": 67
         },
         [
          "water",
          "electric"
         ],
         225
        ],
        [
         172,
         "pichu",
         [
          "static",
          "lightning-rod"
         ],
         41,
         3,
         {
          "attack": 40,
          "defense": 15,
          "hp": 20,
          "special-attack": 35,
          "special-defense": 35,
          "speed": 60
         },
         [
          "electric"
         ],
         20
        ],
        [
         173,
         "cleffa",
         [
          "cute-charm",
          "magic-guard",
          "friend-guard"
         ],
         44,
         3,
         {
          "attack": 25,
          "defense": 28,
          "hp": 50,
          "special-attack": 45,
          "special-defense": 55,
          "speed": 15
         },
         [
          "fairy"
         ],
         30
        ],
        [
         174,
         "igglybuff",
         [
          "cute-charm",
          "competitive",
          "friend-guard"
         ],
         42,
         3,
         {
          "attack": 30,
          "defense": 15,
          "hp": 90,
          "special-attack": 40,
          "special-defense": 20,
          "speed": 15
         },
         [
          "normal",
          "fairy"
         ],
         10
        ],
        [
         175,
         "togepi",
         [
          "hustle",
          "serene-grace",
          "super-luck"
         ],
         49,
         3,
         {
          "attack": 20,
          "defense": 65,
          "hp": 35,
          "special-attack": 40,
          "special-defense": 65,
          "speed": 20
         },
         [
          "fairy"
         ],
         15
        ],
        [
         176,
         "togetic",
         [
          "hustle",
          "serene-grace",
          "super-luck"
         ],
         142,
         6,
         {
          "attack": 40,
          "defense": 85,
          "hp": 55,
          "special-attack": 80,
          "special-defense": 105,
          "speed": 40
         },
         [
          "fairy",
          "flying"
         ],
         32
        ],
        [
         177,
         "natu",
         [
          "synchronize",
          "early-bird",
          "magic-bounce"
         ],
         64,
         2,
         {
          "attack": 50,
          "defense": 45,
          "hp": 40,
          "special-attack": 70,
          "special-defense": 45,
          "speed": 70
         },
         [
          "psychic",
          "flying"
         ],
         20
        ],
        [
         178,
         "xatu",
         [
          "synchronize",
          "early-bird",
          "magic-bounce"
         ],
         165,
         15,
         {
          "attack": 75,
          "defense": 70,
          "hp": 65,
          "special-attack": 95,
          "special-defense": 70,
          "speed": 95
         },
         [
          "psychic",
          "flying"
         ],
         150
        ],
        [
         179,
         "mareep",
         [
          "static",
          "plus"
         ],
         56,
         6,
         {
          "attack": 40,
          "defense": 40,
          "hp": 55,
          "special-attack": 65,
          "special-defense": 45,
          "speed": 35
         },
         [
          "electric"
         ],
         78
        ],
        [
         180,
         "flaaffy",
         [
          "static",
          "plus"
         ],
         128,
         8,
         {
          "attack": 55,
          "defense": 55,
          "hp": 70,
          "special-attack": 80,
          "special-defense": 60,
          "speed": 45
         },
         [
          "electric"
         ],
         133
        ],
        [
         181,
         "ampharos",
         [
          "static",
          "plus"
         ],
         230,
         14,
         {
          "attack": 75,
          "defense": 85,
          "hp": 90,
          "special-attack": 115,
          "special-defense": 90,
          "speed": 55
         },
         [
          "electric"
         ],
         615
        ],
        [
         182,
         "bellossom",
         [
          "chlorophyll",
          "healer"
         ],
         245,
         4,
         {
          "attack": 80,
          "defense": 95,
          "hp": 75,
          "special-attack": 90,
          "special-defense": 100,
          "speed": 50
         },
         [
          "grass"
         ],
         58
        ],
        [
         183,
         "marill",
         [
          "thick-fat",
          "huge-power",
          "sap-sipper"
         ],
         88,
         4,
         {
          "attack": 20,
          "defense": 50,
          "hp": 70,
          "special-attack": 20,
          "special-defense": 50,
          "speed": 40
         },
         [
          "water",
          "fairy"
         ],
         85
        ],
        [
         184,
         "azumarill",
         [
          "thick-fat",
          "huge-power",
          "sap-sipper"
         ],
         210,
         8,
         {
          "attack": 50,
          "defense": 80,
          "hp": 100,
          "special-attack": 60,
          "special-defense": 80,
          "speed": 50
         },
         [
          "water",
          "fairy"
         ],
         285
        ],
        [
         185,
         "sudowoodo",
         [
          "sturdy",
          "rock-head",
          "rattled"
         ],
         144,
         12,
         {
          "attack": 100,
          "defense": 115,
          "hp": 70,
          "special-attack": 30,
          "special-defense": 65,
          "speed": 30
         },
         [
          "rock"
         ],
         380
        ],
        [
         186,
         "politoed",
         [
          "water-absorb",
          "damp",
          "drizzle"
         ],
         250,
         11,
         {
          "attack": 75,
          "defense": 75,
          "hp": 90,
          "special-attack": 90,
          "special-defense": 100,
          "speed": 70
         },
         [
          "water"
         ],
         339
        ],
        [
         187,
         "hoppip",
         [
          "chlorophyll",
          "leaf-guard",
          "infiltrator"
         ],
         50,
         4,
         {
          "attack": 35,
          "defense": 40,
          "hp": 35,
          "special-attack": 35,
          "special-defense": 55,
          "speed": 50
         },
         [
          "grass",
          "flying"
         ],
         5
        ],
        [
         188,
         "skiploom",
         [
          "chlorophyll",
          "leaf-guard",
          "infiltrator"
         ],
         119,
         6,
         {
          "attack": 45,
          "defense": 50,
          "hp": 55,
          "special-attack": 45,
          "special-defense": 65,
          "speed": 80
         },
         [
          "grass",
          "flying"
         ],
         10
        ],
        [
         189,
         "jumpluff",
         [
          "chlorophyll",
          "leaf-guard",
          "infiltrator"
         ],
         207,
         8,
         {
          "attack": 55,
          "defense": 70,
          "hp": 75,
          "special-attack": 55,
          "special-defense": 95,
          "speed": 110
         },
         [
          "grass",
          "flying"
         ],
         30
        ],
        [
         190,
         "aipom",
         [
          "run-away",
          "pickup",
          "skill-link"
         ],
         72,
         8,
         {
          "attack": 70,
          "defense": 55,
          "hp": 55,
          "special-attack": 40,
          "special-defense": 55,
          "speed": 85
         },
         [
          "normal"
         ],
         115
        ],
        [
         191,
         "sunkern",
         [
          "chlorophyll",
          "solar-power",
          "early-bird"
         ],
         36,
         3,
         {
          "attack": 30,
          "defense": 30,
          "hp": 30,
          "special-attack": 30,
          "special-defense": 30,
          "speed": 30
         },
         [
          "grass"
         ],
         18
        ],
        [
         192,
         "sunflora",
         [
          "chlorophyll",
          "solar-power",
          "early-bird"
         ],
         149,
         8,
         {
          "attack": 75,
          "defense": 55,
          "hp": 75,
          "special-attack": 105,
          "special-defense": 85,
          "speed": 30
         },
         [
          "grass"
         ],
         85
        ],
        [
         193,
         "yanma",
         [
          "speed-boost",
          "compound-eyes",
          "frisk"
         ],
         78,
         12,
         {
          "attack": 65,
          "defense": 45,
          "hp": 65,
          "special-attack": 75,
          "special-defense": 45,
          "speed": 95
         },
         [
          "bug",
          "flying"
         ],
         380
        ],
        [
         194,
         "wooper",
         [
          "damp",
          "water-absorb",
          "unaware"
         ],
         42,
         4,
         {
          "attack": 45,
          "defense": 45,
          "hp": 55,
          "special-attack": 25,
          "special-defense": 25,
          "speed": 15
         },
         [
          "water",
          "ground"
         ],
         85
        ],
        [
         195,
         "quagsire",
         [
          "damp",
          "water-absorb",
          "unaware"
         ],
         151,
         14,
         {
          "attack": 85,
          "defense": 85,
          "hp": 95,
          "special-attack": 65,
          "special-defense": 65,
          "speed": 35
         },
         [
          "water",
          "ground"
         ],
         750
        ],
        [
         196,
         "espeon",
         [
          "synchronize",
          "magic-bounce"
         ],
         184,
         9,
         {
          "attack": 65,
          "defense": 60,
          "hp": 65,
          "special-attack": 130,
          "special-defense": 95,
          "speed": 110
         },
         [
          "psychic"
         ],
         265
        ],
        [
         197,
         "umbreon",
         [
          "synchronize",
          "inner-focus"
         ],
         184,
         10,
         {
          "attack": 65,
          "defense": 110,
          "hp": 95,
          "special-attack": 60,
          "special-defense": 130,
          "speed": 65
         },
         [
          "dark"
         ],
         270
        ],
        [
         198,
         "murkrow",
         [
          "insomnia",
          "super-luck",
          "prankster"
         ],
         81,
         5,
         {
          "attack": 85,
          "defense": 42,
          "hp": 60,
          "special-attack": 85,
          "special-defense": 42,
          "speed": 91
         },
         [
          "dark",
          "flying"
         ],
         21
        ],
        [
         199,
         "slowking",
         [
          "oblivious",
          "own-tempo",
          "regenerator"
         ],
         172,
         20,
         {
          "attack": 75,
          "defense": 80,
          "hp": 95,
          "special-attack": 100,
          "special-defense": 110,
          "speed": 30
         },
         [
          "water",
          "psychic"
         ],
         795
        ],
        [
         200,
         "misdreavus",
         [
          "levitate"
         ],
         87,
         7,
         {
          "attack": 60,
          "defense": 60,
          "hp": 60,
          "special-attack": 85,
          "special-defense": 85,
          "speed": 85
         },
         [
          "ghost"
         ],
         10
        ],
        [
         201,
         "unown",
         [
          "levitate"
         ],
         118,
         5,
         {
          "attack": 72,
          "defense": 48,
          "hp": 48,
          "special-attack": 72,
          "special-defense": 48,
          "speed": 48
         },
         [
          "psychic"
         ],
         50
        ],
        [
         202,
         "wobbuffet",
         [
          "shadow-tag",
          "telepathy"
         ],
         142,
         13,
         {
          "attack": 33,
          "defense": 58,
          "hp": 190,
          "special-attack": 33,
          "special-defense": 58,
          "speed": 33
         },
         [
          "psychic"
         ],
         285
        ],
        [
         203,
         "girafarig",
         [
          "inner-focus",
          "early-bird",
          "sap-sipper"
         ],
         159,
         15,
         {
          "attack": 80,
          "defense": 65,
          "hp": 70,
          "special-attack": 90,
          "special-defense": 65,
          "speed": 85
         },
         [
          "normal",
          "psychic"
         ],
         415
        ],
        [
         204,
         "pineco",
         [
          "sturdy",
          "overcoat"
         ],
         58,
         6,
         {
          "attack": 65,
          "defense": 90,
          "hp": 50,
          "special-attack": 35,
          "special-defense": 35,
          "speed": 15
         },
         [
          "bug"
         ],
         72
        ],
        [
         205,
         "forretress",
         [
          "sturdy",
          "overcoat"
         ],
         163,
         12,
         {
          "attack": 90,
          "defense": 140,
          "hp": 75,
          "special-attack": 60,
          "special-defense": 60,
          "speed": 40
         },
         [
          "bug",
          "steel"
         ],
         1258
        ],
        [
         206,
         "dunsparce",
         [
          "serene-grace",
          "run-away",
          "rattled"
         ],
         145,
         15,
         {
          "attack": 70,
          "defense": 70,
          "hp": 100,
          "special-attack": 65,
          "special-defense": 65,
          "speed": 45
         },
         [
          "normal"
         ],
         140
        ],
        [
         207,
         "gligar",
         [
          "hyper-cutter",
          "sand-veil",
          "immunity"
         ],
         86,
         11,
         {
          "attack": 75,
          "defense": 105,
          "hp": 65,
          "special-attack": 35,
          "special-defense": 65,
          "speed": 85
         },
         [
          "ground",
          "flying"
         ],
         648
        ],
        [
         208,
         "steelix",
         [
          "rock-head",
          "sturdy",
          "sheer-force"
         ],
         179,
         92,
         {
          "attack": 85,
          "defense": 200,
          "hp": 75,
          "special-attack": 55,
          "special-defense": 65,
          "speed": 30
         },
         [
          "steel",
          "ground"
         ],
         4000
        ],
        [
         209,
         "snubbull",
         [
          "intimidate",
          "run-away",
          "rattled"
         ],
         60,
         6,
         {
          "attack": 80,
          "defense": 50,
          "hp": 60,
          "special-attack": 40,
          "special-defense": 40,
          "speed": 30
         },
         [
          "fairy"
         ],
         78
        ],
        [
         210,
         "granbull",
         [
          "intimidate",
          "quick-feet",
          "rattled"
         ],
         158,
         14,
         {
          "attack": 120,
          "defense": 75,
          "hp": 90,
          "special-attack": 60,
          "special-defense": 60,
          "speed": 45
         },
         [
          "fairy"
         ],
         487
        ],
        [
         211,
         "qwilfish",
         [
          "poison-point",
          "swift-swim",
          "intimidate"
         ],
         88,
         5,
         {
          "attack": 95,
          "defense": 85,
          "hp": 65,
          "special-attack": 55,
          "special-defense": 55,
          "speed": 85
         },
         [
          "water",
          "poison"
         ],
         39
        ],
        [
         212,
         "scizor",
         [
          "swarm",
          "technician",
          "light-metal"
         ],
         175,
         18,
         {
          "attack": 130,
          "defense": 100,
          "hp": 70,
          "special-attack": 55,
          "special-defense": 80,
          "speed": 65
         },
         [
          "bug",
          "steel"
         ],
         1180
        ],
        [
         213,
         "shuckle",
         [
          "sturdy",
          "gluttony",
          "contrary"
         ],
         177,
         6,
         {
          "attack": 10,
          "defense": 230,
          "hp": 20,
          "special-attack": 10,
          "special-defense": 230,
          "speed": 5
         },
         [
          "bug",
          "rock"
         ],
         205
        ],
        [
         214,
         "heracross",
         [
          "swarm",
          "guts",
          "moxie"
         ],
         175,
         15,
         {
          "attack": 125,
          "defense": 75,
          "hp": 80,
          "special-attack": 40,
          "special-defense": 95,
          "speed": 85
         },
         [
          "bug",
          "fighting"
         ],
         540
        ],
        [
         215,
         "sneasel",
         [
          "inner-focus",
          "keen-eye",
          "pickpocket"
         ],
         86,
         9,
         {
          "attack": 95,
          "defense": 55,
          "hp": 55,
          "special-attack": 35,
          "special-defense": 75,
          "speed": 115
         },
         [
          "dark",
          "ice"
         ],
         280
        ],
        [
         216,
         "teddiursa",
         [
          "pickup",
          "quick-feet",
          "honey-gather"
         ],
         66,
         6,
         {
          "attack": 80,
          "defense": 50,
          "hp": 60,
          "special-attack": 50,
          "special-defense": 50,
          "speed": 40
         },
         [
          "normal"
         ],
         88
        ],
        [
         217,
         "ursaring",
         [
          "guts",
          "quick-feet",
          "unnerve"
         ],
         175,
         18,
         {
          "attack": 130,
          "defense": 75,
          "hp": 90,
          "special-attack": 75,
          "special-defense": 75,
          "speed": 55
         },
         [
          "normal"
         ],
         1258
        ],
        [
         218,
         "slugma",
         [
          "magma-armor",
          "flame-body",
          "weak-armor"
         ],
         50,
         7,
         {
          "attack": 40,
          "defense": 40,
          "hp": 40,
          "special-attack": 70,
          "special-defense": 40,
          "speed": 20
         },
         [
          "fire"
         ],
         350
        ],
        [
         219,
         "magcargo",
         [
          "magma-armor",
          "flame-body",
          "weak-armor"
         ],
         151,
         8,
         {
          "attack": 50,
          "defense": 120,
          "hp": 60,
          "special-attack": 90,
          "special-defense": 80,
          "speed": 30
         },
         [
          "fire",
          "rock"
         ],
         550
        ],
        [
         220,
         "swinub",
         [
          "oblivious",
          "snow-cloak",
          "thick-fat"
         ],
         50,
         4,
         {
          "attack": 50,
          "defense": 40,
          "hp": 50,
          "special-attack": 30,
          "special-defense": 30,
          "speed": 50
         },
         [
          "ice",
          "ground"
         ],
         65
        ],
        [
         221,
         "piloswine",
         [
          "oblivious",
          "snow-cloak",
          "thick-fat"
         ],
         158,
         11,
         {
          "attack": 100,
          "defense": 80,
          "hp": 100,
          "special-attack": 60,
          "special-defense": 60,
          "speed": 50
         },
         [
          "ice",
          "ground"
         ],
         558
        ],
        [
         222,
         "corsola",
         [
          "hustle",
          "natural-cure",
          "regenerator"
         ],
         144,
         6,
         {
          "attack": 55,
          "defense": 95,
          "hp": 65,
          "special-attack": 65,
          "special-defense": 95,
          "speed": 35
         },
         [
          "water",
          "rock"
         ],
         50
        ],
        [
         223,
         "remoraid",
         [
          "hustle",
          "sniper",
          "moody"
         ],
         60,
         6,
         {
          "attack": 65,
          "defense": 35,
          "hp": 35,
          "special-attack": 65,
          "special-defense": 35,
          "speed": 65
         },
         [
          "water"
         ],
         120
        ],
        [
         224,
         "octillery",
         [
          "suction-cups",
          "sniper",
          "moody"
         ],
         168,
         9,
         {
          "attack": 105,
          "defense": 75,
          "hp": 75,
          "special-attack": 105,
          "special-defense": 75,
          "speed": 45
         },
         [
          "water"
         ],
         285
        ],
        [
         225,
         "delibird",
         [
          "vital-spirit",
          "hustle",
          "insomnia"
         ],
         116,
         9,
         {
          "attack": 55,
          "defense": 45,
          "hp": 45,
          "special-attack": 65,
          "special-defense": 45,
          "speed": 75
         },
         [
          "ice",
          "flying"
         ],
         160
        ],
        [
         226,
         "mantine",
         [
          "swift-swim",
          "water-absorb",
          "water-veil"
         ],
         170,
         21,
         {
          "attack": 40,
          "defense": 70,
          "hp": 85,
          "special-attack": 80,
          "special-defense": 140,
          "speed": 70
         },
         [
          "water",
          "flying"
         ],
         2200
        ],
        [
         227,
         "skarmory",
         [
          "keen-eye",
          "sturdy",
          "weak-armor"
         ],
         163,
         17,
         {
          "attack": 80,
          "defense": 140,
          "hp": 65,
          "special-attack": 40,
          "special-defense": 70,
          "speed": 70
         },
         [
          "steel",
          "flying"
         ],
         505
        ],
        [
         228,
         "houndour",
         [
          "early-bird",
          "flash-fire",
          "unnerve"
         ],
         66,
         6,
         {
          "attack": 60,
          "defense": 30,
          "hp": 45,
          "special-attack": 80,
          "special-defense": 50,
          "speed": 65
         },
         [
          "dark",
          "fire"
         ],
         108
        ],
        [
         229,
         "houndoom",
         [
          "early-bird",
          "flash-fire",
          "unnerve"
         ],
         175,
         14,
         {
          "attack": 90,
          "defense": 50,
          "hp": 75,
          "special-attack": 110,
          "special-defense": 80,
          "speed": 95
         },
         [
          "dark",
          "fire"
         ],
         350
        ],
        [
         230,
         "kingdra",
         [
          "swift-swim",
          "sniper",
          "damp"
         ],
         270,
         18,
         {
          "attack": 95,
          "defense": 95,
          "hp": 75,
          "special-attack": 95,
          "special-defense": 95,
          "speed": 85
         },
         [
          "water",
          "dragon"
         ],
         1520
        ],
        [
         231,
         "phanpy",
         [
          "pickup",
          "sand-veil"
         ],
         66,
         5,
         {
          "attack": 60,
          "defense": 60,
          "hp": 90,
          "special-attack": 40,
          "special-defense": 40,
          "speed": 40
         },
         [
          "ground"
         ],
         335
        ],
        [
         232,
         "donphan",
         [
          "sturdy",
          "sand-veil"
         ],
         175,
         11,
         {
          "attack": 120,
          "defense": 120,
          "hp": 90,
          "special-attack": 60,
          "special-defense": 60,
          "speed": 50
         },
         [
          "ground"
         ],
         1200
        ],
        [
         233,
         "porygon2",
         [
          "trace",
          "download",
          "analytic"
         ],
         180,
         6,
         {
          "attack": 80,
          "defense": 90,
          "hp": 85,
          "special-attack": 105,
          "special-defense": 95,
          "speed": 60
         },
         [
          "normal"
         ],
         325
        ],
        [
         234,
         "stantler",
         [
          "intimidate",
          "frisk",
          "sap-sipper"
         ],
         163,
         14,
         {
          "attack": 95,
          "defense": 62,
          "hp": 73,
          "special-attack": 85,
          "special-defense": 65,
          "speed": 85
         },
         [
          "normal"
         ],
         712
        ],
        [
         235,
         "smeargle",
         [
          "own-tempo",
          "technician",
          "moody"
         ],
         88,
         12,
         {
          "attack": 20,
          "defense": 35,
          "hp": 55,
          "special-attack": 20,
          "special-defense": 45,
          "speed": 75
         },
         [
          "normal"
         ],
         580
        ],
        [
         236,
         "tyrogue",
         [
          "guts",
          "steadfast",
          "vital-spirit"
         ],
         42,
         7,
         {
          "attack": 35,
          "defense": 35,
          "hp": 35,
          "special-attack": 35,
          "special-defense": 35,
          "speed": 35
         },
         [
          "fighting"
         ],
         210
        ],
        [
         237,
         "hitmontop",
         [
          "intimidate",
          "technician",
          "steadfast"
         ],
         159,
         14,
         {
          "attack": 95,
          "defense": 95,
          "hp": 50,
          "special-attack": 35,
          "special-defense": 110,
          "speed": 70
         },
         [
          "fighting"
         ],
         480
        ],
        [
         238,
         "smoochum",
         [
          "oblivious",
          "forewarn",
          "hydration"
         ],
         61,
         4,
         {
          "attack": 30,
          "defense": 15,
          "hp": 45,
          "special-attack": 85,
          "special-defense": 65,
          "speed": 65
         },
         [
          "ice",
          "psychic"
         ],
         60
        ],
        [
         239,
         "elekid",
         [
          "static",
          "vital-spirit"
         ],
         72,
         6,
         {
          "attack": 63,
          "defense": 37,
          "hp": 45,
          "special-attack": 65,
          "special-defense": 55,
          "speed": 95
         },
         [
          "electric"
         ],
         235
        ],
        [
         240,
         "magby",
         [
          "flame-body",
          "vital-spirit"
         ],
         73,
         7,
         {
          "attack": 75,
          "defense": 37,
          "hp": 45,
          "special-attack": 70,
          "special-defense": 55,
          "speed": 83
         },
         [
          "fire"
         ],
         214
        ],
        [
         241,
         "miltank",
         [
          "thick-fat",
          "scrappy",
          "sap-sipper"
         ],
         172,
         12,
         {
          "attack": 80,
          "defense": 105,
          "hp": 95,
          "special-attack": 40,
          "special-defense": 70,
          "speed": 100
         },
         [
          "normal"
         ],
         755
        ],
        [
         242,
         "blissey",
         [
          "natural-cure",
          "serene-grace",
          "healer"
         ],
         635,
         15,
         {
          "attack": 10,
          "defense": 10,
          "hp": 255,
          "special-attack": 75,
          "special-defense": 135,
          "speed": 55
         },
         [
          "normal"
         ],
         468
        ],
        [
         243,
         "raikou",
         [
          "pressure",
          "inner-focus"
         ],
         290,
         19,
         {
          "attack": 85,
          "defense": 75,
          "hp": 90,
          "special-attack": 115,
          "special-defense": 100,
          "speed": 115
         },
         [
          "electric"
         ],
         1780
        ],
        [
         244,
         "entei",
         [
          "pressure",
          "inner-focus"
         ],
         290,
         21,
         {
          "attack": 115,
          "defense": 85,
          "hp": 115,
          "special-attack": 90,
          "special-defense": 75,
          "speed": 100
         },
         [
          "fire"
         ],
         1980
        ],
        [
         245,
         "suicune",
         [
          "pressure",
          "inner-focus"
         ],
         290,
         20,
         {
          "attack": 75,
          "defense": 115,
          "hp": 100,
          "special-attack": 90,
          "special-defense": 115,
          "speed": 85
         },
         [
          "water"
         ],
         1870
        ],
        [
         246,
         "larvitar",
         [
          "guts",
          "sand-veil"
         ],
         60,
         6,
         {
          "attack": 64,
          "defense": 50,
          "hp": 50,
          "special-attack": 45,
          "special-defense": 50,
          "speed": 41
         },
         [
          "rock",
          "ground"
         ],
         720
        ],
        [
         247,
         "pupitar",
         [
          "shed-skin"
         ],
         144,
         12,
         {
          "attack": 84,
          "defense": 70,
          "hp": 70,
          "special-attack": 65,
          "special-defense": 70,
          "speed": 51
         },
         [
          "rock",
          "ground"
         ],
         1520
        ],
        [
         248,
         "tyranitar",
         [
          "sand-stream",
          "unnerve"
         ],
         300,
         20,
         {
          "attack": 134,
          "defense": 110,
          "hp": 100,
          "special-attack": 95,
          "special-defense": 100,
          "speed": 61
         },
         [
          "rock",
          "dark"
         ],
         2020
        ],
        [
         249,
         "lugia",
         [
          "pressure",
          "multiscale"
         ],
         340,
         52,
         {
          "attack": 90,
          "defense": 130,
          "hp": 106,
          "special-attack": 90,
          "special-defense": 154,
          "speed": 110
         },
         [
          "psychic",
          "flying"
         ],
         2160
        ],
        [
         250,
         "ho-oh",
         [
          "pressure",
          "regenerator"
         ],
         340,
         38,
         {
          "attack": 130,
          "defense": 90,
          "hp": 106,
          "special-attack": 110,
          "special-defense": 154,
          "speed": 90
         },
         [
          "fire",
          "flying"
         ],
         1990
        ],
        [
         251,
         "celebi",
         [
          "natural-cure"
         ],
         300,
         6,
         {
          "attack": 100,
          "defense": 100,
          "hp": 100,
          "special-attack": 100,
          "special-defense": 100,
          "speed": 100
         },
         [
          "psychic",
          "grass"
         ],
         50
        ],
        [
         252,
         "treecko",
         [
          "overgrow",
          "unburden"
         ],
         62,
         5,
         {
          "attack": 45,
          "defense": 35,
          "hp": 40,
          "special-attack": 65,
          "special-defense": 55,
          "speed": 70
         },
         [
          "grass"
         ],
         50
        ],
        [
         253,
         "grovyle",
         [
          "overgrow",
          "unburden"
         ],
         142,
         9,
         {
          "attack": 65,
          "defense": 45,
          "hp": 50,
          "special-attack": 85,
          "special-defense": 65,
          "speed": 95
         },
         [
          "grass"
         ],
         216
        ],
        [
         254,
         "sceptile",
         [
          "overgrow",
          "unburden"
         ],
         265,
         17,
         {
          "attack": 85,
          "defense": 65,
          "hp": 70,
          "special-attack": 105,
          "special-defense": 85,
          "speed": 120
         },
         [
          "grass"
         ],
         522
        ],
        [
         255,
         "torchic",
         [
          "blaze",
          "speed-boost"
         ],
         62,
         4,
         {
          "attack": 60,
          "defense": 40,
          "hp": 45,
          "special-attack": 70,
          "special-defense": 50,
          "speed": 45
         },
         [
          "fire"
         ],
         25
        ],
        [
         256,
         "combusken",
         [
          "blaze",
          "speed-boost"
         ],
         142,
         9,
         {
          "attack": 85,
          "defense": 60,
          "hp": 60,
          "special-attack": 85,
          "special-defense": 60,
          "speed": 55
         },
         [
          "fire",
          "fighting"
         ],
         195
        ],
        [
         257,
         "blaziken",
         [
          "blaze",
          "speed-boost"
         ],
         265,
         19,
         {
          "attack": 120,
          "defense": 70,
          "hp": 80,
          "special-attack": 110,
          "special-defense": 70,
          "speed": 80
         },
         [
          "fire",
          "fighting"
         ],
         520
        ],
        [
         258,
         "mudkip",
         [
          "torrent",
          "damp"
         ],
         62,
         4,
         {
          "attack": 70,
          "defense": 50,
          "hp": 50,
          "special-attack": 50,
          "special-defense": 50,
          "speed": 40
         },
         [
          "water"
         ],
         76
        ],
        [
         259,
         "marshtomp",
         [
          "torrent",
          "damp"
         ],
         142,
         7,
         {
          "attack": 85,
          "defense": 70,
          "hp": 70,
          "special-attack": 60,
          "special-defense": 70,
          "speed": 50
         },
         [
          "water",
          "ground"
         ],
         280
        ],
        [
         260,
         "swampert",
         [
          "torrent",
          "damp"
         ],
         268,
         15,
         {
          "attack": 110,
          "defense": 90,
          "hp": 100,
          "special-attack": 85,
          "special-defense": 90,
          "speed": 60
         },
         [
          "water",
          "ground"
         ],
         819
        ],
        [
         261,
         "poochyena",
         [
          "run-away",
          "quick-feet",
          "rattled"
         ],
         56,
         5,
         {
          "attack": 55,
          "defense": 35,
          "hp": 35,
          "special-attack": 30,
          "special-defense": 30,
          "speed": 35
         },
         [
          "dark"
         ],
         136
        ],
        [
         262,
         "mightyena",
         [
          "intimidate",
          "quick-feet",
          "moxie"
         ],
         147,
         10,
         {
          "attack": 90,
          "defense": 70,
          "hp": 70,
          "special-attack": 60,
          "special-defense": 60,
          "speed": 70
         },
         [
          "dark"
         ],
         370
        ],
        [
         263,
         "zigzagoon",
         [
          "pickup",
          "gluttony",
          "quick-feet"
         ],
         56,
         4,
         {
          "attack": 30,
          "defense": 41,
          "hp": 38,
          "special-attack": 30,
          "special-defense": 41,
          "speed": 60
         },
         [
          "normal"
         ],
         175
        ],
        [
         264,
         "linoone",
         [
          "pickup",
          "gluttony",
          "quick-feet"
         ],
         147,
         5,
         {
          "attack": 70,
          "defense": 61,
          "hp": 78,
          "special-attack": 50,
          "special-defense": 61,
          "speed": 100
         },
         [
          "normal"
         ],
         325
        ],
        [
         265,
         "wurmple",
         [
          "shield-dust",
          "run-away"
         ],
         56,
         3,
         {
          "attack": 45,
          "defense": 35,
          "hp": 45,
          "special-attack": 20,
          "special-defense": 30,
          "speed": 20
         },
         [
          "bug"
         ],
         36
        ],
        [
         266,
         "silcoon",
         [
          "shed-skin"
         ],
         72,
         6,
         {
          "attack": 35,
          "defense": 55,
          "hp": 50,
          "special-attack": 25,
          "special-defense": 25,
          "speed": 15
         },
         [
          "bug"
         ],
         100
        ],
        [
         267,
         "beautifly",
         [
          "swarm",
          "rivalry"
         ],
         178,
         10,
         {
          "attack": 70,
          "defense": 50,
          "hp": 60,
          "special-attack": 100,
          "special-defense": 50,
          "speed": 65
         },
         [
          "bug",
          "flying"
         ],
         284
        ],
        [
         268,
         "cascoon",
         [
          "shed-skin"
         ],
         72,
         7,
         {
          "attack": 35,
          "defense": 55,
          "hp": 50,
          "special-attack": 25,
          "special-defense": 25,
          "speed": 15
         },
         [
          "bug"
         ],
         115
        ],
        [
         269,
         "dustox",
         [
          "shield-dust",
          "compound-eyes"
         ],
         173,
         12,
         {
          "attack": 50,
          "defense": 70,
          "hp": 60,
          "special-attack": 50,
          "special-defense": 90,
          "speed": 65
         },
         [
          "bug",
          "poison"
         ],
         316
        ],
        [
         270,
         "lotad",
         [
          "swift-swim",
          "rain-dish",
          "own-tempo"
         ],
         44,
         5,
         {
          "attack": 30,
          "defense": 30,
          "hp": 40,
          "special-attack": 40,
          "special-defense": 50,
          "speed": 30
         },
         [
          "water",
          "grass"
         ],
         26
        ],
        [
         271,
         "lombre",
         [
          "swift-swim",
          "rain-dish",
          "own-tempo"
         ],
         119,
         12,
         {
          "attack": 50,
          "defense": 50,
          "hp": 60,
          "special-attack": 60,
          "special-defense": 70,
          "speed": 50
         },
         [
          "water",
          "grass"
         ],
         325
        ],
        [
         272,
         "ludicolo",
         [
          "swift-swim",
          "rain-dish",
          "own-tempo"
         ],
         240,
         15,
         {
          "attack": 70,
          "defense": 70,
          "hp": 80,
          "special-attack": 90,
          "special-defense": 100,
          "speed": 70
         },
         [
          "water",
          "grass"
         ],
         550
        ],
        [
         273,
         "seedot",
         [
          "chlorophyll",
          "early-bird",
          "pickpocket"
         ],
         44,
         5,
         {
          "attack": 40,
          "defense": 50,
          "hp": 40,
          "special-attack": 30,
          "special-defense": 30,
          "speed": 30
         },
         [
          "grass"
         ],
         40
        ],
        [
         274,
         "nuzleaf",
         [
          "chlorophyll",
          "early-bird",
          "pickpocket"
         ],
         119,
         10,
         {
          "attack": 70,
          "defense": 40,
          "hp": 70,
          "special-attack": 60,
          "special-defense": 40,
          "speed": 60
         },
         [
          "grass",
          "dark"
         ],
         280
        ],
        [
         275,
         "shiftry",
         [
          "chlorophyll",
          "wind-rider",
          "pickpocket"
         ],
         240,
         13,
         {
          "attack": 100,
          "defense": 60,
          "hp": 90,
          "special-attack": 90,
          "special-defense": 60,
          "speed": 80
         },
         [
          "grass",
          "dark"
         ],
         596
        ],
        [
         276,
         "taillow",
         [
          "guts",
          "scrappy"
         ],
         54,
         3,
         {
          "attack": 55,
          "defense": 30,
          "hp": 40,
          "special-attack": 30,
          "special-defense": 30,
          "speed": 85
         },
         [
          "normal",
          "flying"
         ],
         23
        ],
        [
         277,
         "swellow",
         [
          "guts",
          "scrappy"
         ],
         159,
         7,
         {
          "attack": 85,
          "defense": 60,
          "hp": 60,
          "special-attack": 75,
          "special-defense": 50,
          "speed": 125
         },
         [
          "normal",
          "flying"
         ],
         198
        ],
        [
         278,
         "wingull",
         [
          "keen-eye",
          "hydration",
          "rain-dish"
         ],
         54,
         6,
         {
          "attack": 30,
          "defense": 30,
          "hp": 40,
          "special-attack": 55,
          "special-defense": 30,
          "speed": 85
         },
         [
          "water",
          "flying"
         ],
         95
        ],
        [
         279,
         "pelipper",
         [
          "keen-eye",
          "drizzle",
          "rain-dish"
         ],
         154,
         12,
         {
          "attack": 50,
          "defense": 100,
          "hp": 60,
          "special-attack": 95,
          "special-defense": 70,
          "speed": 65
         },
         [
          "water",
          "flying"
         ],
         280
        ],
        [
         280,
         "ralts",
         [
          "synchronize",
          "trace",
          "telepathy"
         ],
         40,
         4,
         {
          "attack": 25,
          "defense": 25,
          "hp": 28,
          "special-attack": 45,
          "special-defense": 35,
          "speed": 40
         },
         [
          "psychic",
          "fairy"
         ],
         66
        ],
        [
         281,
         "kirlia",
         [
          "synchronize",
          "trace",
          "telepathy"
         ],
         97,
         8,
         {
          "attack": 35,
          "defense": 35,
          "hp": 38,
          "special-attack": 65,
          "special-defense": 55,
          "speed": 50
         },
         [
          "psychic",
          "fairy"
         ],
         202
        ],
        [
         282,
         "gardevoir",
         [
          "synchronize",
          "trace",
          "telepathy"
         ],
         259,
         16,
         {
          "attack": 65,
          "defense": 65,
          "hp": 68,
          "special-attack": 125,
          "special-defense": 115,
          "speed": 80
         },
         [
          "psychic",
          "fairy"
         ],
         484
        ],
        [
         283,
         "surskit",
         [
          "swift-swim",
          "rain-dish"
         ],
         54,
         5,
         {
          "attack": 30,
          "defense": 32,
          "hp": 40,
          "special-attack": 50,
          "special-defense": 52,
          "speed": 65
         },
         [
          "bug",
          "water"
         ],
         17
        ],
        [
         284,
         "masquerain",
         [
          "intimidate",
          "unnerve"
         ],
         159,
         8,
         {
          "attack": 60,
          "defense": 62,
          "hp": 70,
          "special-attack": 100,
          "special-defense": 82,
          "speed": 80
         },
         [
          "bug",
          "flying"
         ],
         36
        ],
        [
         285,
         "shroomish",
         [
          "effect-spore",
          "poison-heal",
          "quick-feet"
         ],
         59,
         4,
         {
          "attack": 40,
          "defense": 60,
          "hp": 60,
          "special-attack": 40,
          "special-defense": 60,
          "speed": 35
         },
         [
          "grass"
         ],
         45
        ],
        [
         286,
         "breloom",
         [
          "effect-spore",
          "poison-heal",
          "technician"
         ],
         161,
         12,
         {
          "attack": 130,
          "defense": 80,
          "hp": 60,
          "special-attack": 60,
          "special-defense": 60,
          "speed": 70
         },
         [
          "grass",
          "fighting"
         ],
         392
        ],
        [
         287,
         "slakoth",
         [
          "truant"
         ],
         56,
         8,
         {
          "attack": 60,
          "defense": 60,
          "hp": 60,
          "special-attack": 35,
          "special-defense": 35,
          "speed": 30
         },
         [
          "normal"
         ],
         240
        ],
        [
         288,
         "vigoroth",
         [
          "vital-spirit"
         ],
         154,
         14,
         {
          "attack": 80,
          "defense": 80,
          "hp": 80,
          "special-attack": 55,
          "special-defense": 55,
          "speed": 90
         },
         [
          "normal"
         ],
         465
        ],
        [
         289,
         "slaking",
         [
          "truant"
         ],
         252,
         20,
         {
          "attack": 160,
          "defense": 100,
          "hp": 150,
          "special-attack": 95,
          "special-defense": 65,
          "speed": 100
         },
         [
          "normal"
         ],
         1305
        ],
        [
         290,
         "nincada",
         [
          "compound-eyes",
          "run-away"
         ],
         53,
         5,
         {
          "attack": 45,
          "defense": 90,
          "hp": 31,
          "special-attack": 30,
          "special-defense": 30,
          "speed": 40
         },
         [
          "bug",
          "ground"
         ],
         55
        ],
        [
         291,
         "ninjask",
         [
          "speed-boost",
          "infiltrator"
         ],
         160,
         8,
         {
          "attack": 90,
          "defense": 45,
          "hp": 61,
          "special-attack": 50,
          "special-defense": 50,
          "speed": 160
         },
         [
          "bug",
          "flying"
         ],
         120
        ],
        [
         292,
         "shedinja",
         [
          "wonder-guard"
         ],
         83,
         8,
         {
          "attack": 90,
          "defense": 45,
          "hp": 1,
          "special-attack": 30,
          "special-defense": 30,
          "speed": 40
         },
         [
          "bug",
          "ghost"
         ],
         12
        ],
        [
         293,
         "whismur",
         [
          "soundproof",
          "rattled"
         ],
         48,
         6,
         {
          "attack": 51,
          "defense": 23,
          "hp": 64,
          "special-attack": 51,
          "special-defense": 23,
          "speed": 28
         },
         [
          "normal"
         ],
         163
        ],
        [
         294,
         "loudred",
         [
          "soundproof",
          "scrappy"
         ],
         126,
         10,
         {
          "attack": 71,
          "defense": 43,
          "hp": 84,
          "special-attack": 71,
          "special-defense": 43,
          "speed": 48
         },
         [
          "normal"
         ],
         405
        ],
        [
         295,
         "exploud",
         [
          "soundproof",
          "scrappy"
         ],
         245,
         15,
         {
          "attack": 91,
          "defense": 63,
          "hp": 104,
          "special-attack": 91,
          "special-defense": 73,
          "speed": 68
         },
         [
          "normal"
         ],
         840
        ],
        [
         296,
         "makuhita",
         [
          "thick-fat",
          "guts",
          "sheer-force"
         ],
         47,
         10,
         {
          "attack": 60,
          "defense": 30,
          "hp": 72,
          "special-attack": 20,
          "special-defense": 30,
          "speed": 25
         },
         [
          "fighting"
         ],
         864
        ],
        [
         297,
         "hariyama",
         [
          "thick-fat",
          "guts",
          "sheer-force"
         ],
         166,
         23,
         {
          "attack": 120,
          "defense": 60,
          "hp": 144,
          "special-attack": 40,
          "special-defense": 60,
          "speed": 50
         },
         [
          "fighting"
         ],
         2538
        ],
        [
         298,
         "azurill",
         [
          "thick-fat",
          "huge-power",
          "sap-sipper"
         ],
         38,
         2,
         {
          "attack": 20,
          "defense": 40,
          "hp": 50,
          "special-attack": 20,
          "special-defense": 40,
          "speed": 20
         },
         [
          "normal",
          "fairy"
         ],
         20
        ],
        [
         299,
         "nosepass",
         [
          "sturdy",
          "magnet-pull",
          "sand-force"
         ],
         75,
         10,
         {
          "attack": 45,
          "defense": 135,
          "hp": 30,
          "special-attack": 45,
          "special-defense": 90,
          "speed": 30
         },
         [
          "rock"
         ],
         970
        ],
        [
         300,
         "skitty",
         [
          "cute-charm",
          "normalize",
          "wonder-skin"
         ],
         52,
         6,
         {
          "attack": 45,
          "defense": 45,
          "hp": 50,
          "special-attack": 35,
          "special-defense": 35,
          "speed": 50
         },
         [
          "normal"
         ],
         110
        ],
        [
         301,
         "delcatty",
         [
          "cute-charm",
          "normalize",
          "wonder-skin"
         ],
         140,
         11,
         {
          "attack": 65,
          "defense": 65,
          "hp": 70,
          "special-attack": 55,
          "special-defense": 55,
          "speed": 90
         },
         [
          "normal"
         ],
         326
        ],
        [
         302,
         "sableye",
         [
          "keen-eye",
          "stall",
          "prankster"
         ],
         133,
         5,
         {
          "attack": 75,
          "defense": 75,
          "hp": 50,
          "special-attack": 65,
          "special-defense": 65,
          "speed": 50
         },
         [
          "dark",
          "ghost"
         ],
         110
        ],
        [
         303,
         "mawile",
         [
          "hyper-cutter",
          "intimidate",
          "sheer-force"
         ],
         133,
         6,
         {
          "attack": 85,
          "defense": 85,
          "hp": 50,
          "special-attack": 55,
          "special-defense": 55,
          "speed": 50
         },
         [
          "steel",
          "fairy"
         ],
         115
        ],
        [
         304,
         "aron",
         [
          "sturdy",
          "rock-head",
          "heavy-metal"
         ],
         66,
         4,
         {
          "attack": 70,
          "defense": 100,
          "hp": 50,
          "special-attack": 40,
          "special-defense": 40,
          "speed": 30
         },
         [
          "steel",
          "rock"
         ],
         600
        ],
        [
         305,
         "lairon",
         [
          "sturdy",
          "rock-head",
          "heavy-metal"
         ],
         151,
         9,
         {
          "attack": 90,
          "defense": 140,
          "hp": 60,
          "special-attack": 50,
          "special-defense": 50,
          "speed": 40
         },
         [
          "steel",
          "rock"
         ],
         1200
        ],
        [
         306,
         "aggron",
         [
          "sturdy",
          "rock-head",
          "heavy-metal"
         ],
         265,
         21,
         {
          "attack": 110,
          "defense": 180,
          "hp": 70,
          "special-attack": 60,
          "special-defense": 60,
          "speed": 50
         },
         [
          "steel",
          "rock"
         ],
         3600
        ],
        [
         307,
         "meditite",
         [
          "pure-power",
          "telepathy"
         ],
         56,
         6,
         {
          "attack": 40,
          "defense": 55,
          "hp": 30,
          "special-attack": 40,
          "special-defense": 55,
          "speed": 60
         },
         [
          "fighting",
          "psychic"
         ],
         112
        ],
        [
         308,
         "medicham",
         [
          "pure-power",
          "telepathy"
         ],
         144,
         13,
         {
          "attack": 60,
          "defense": 75,
          "hp": 60,
          "special-attack": 60,
          "special-defense": 75,
          "speed": 80
         },
         [
          "fighting",
          "psychic"
         ],
         315
        ],
        [
         309,
         "electrike",
         [
          "static",
          "lightning-rod",
          "minus"
         ],
         59,
         6,
         {
          "attack": 45,
          "defense": 40,
          "hp": 40,
          "special-attack": 65,
          "special-defense": 40,
          "speed": 65
         },
         [
          "electric"
         ],
         152
        ],
        [
         310,
         "manectric",
         [
          "static",
          "lightning-rod",
          "minus"
         ],
         166,
         15,
         {
          "attack": 75,
          "defense": 60,
          "hp": 70,
          "special-attack": 105,
          "special-defense": 60,
          "speed": 105
         },
         [
          "electric"
         ],
         402
        ],
        [
         311,
         "plusle",
         [
          "plus",
          "lightning-rod"
         ],
         142,
         4,
         {
          "attack": 50,
          "defense": 40,
          "hp": 60,
          "special-attack": 85,
          "special-defense": 75,
          "speed": 95
         },
         [
          "electric"
         ],
         42
        ],
        [
         312,
         "minun",
         [
          "minus",
          "volt-absorb"
         ],
         142,
         4,
         {
          "attack": 40,
          "defense": 50,
          "hp": 60,
          "special-attack": 75,
          "special-defense": 85,
          "speed": 95
         },
         [
          "electric"
         ],
         42
        ],
        [
         313,
         "volbeat",
         [
          "illuminate",
          "swarm",
          "prankster"
         ],
         151,
         7,
         {
          "attack": 73,
          "defense": 75,
          "hp": 65,
          "special-attack": 47,
          "special-defense": 85,
          "speed": 85
         },
         [
          "bug"
         ],
         177
        ],
        [
         314,
         "illumise",
         [
          "oblivious",
          "tinted-lens",
          "prankster"
         ],
         151,
         6,
         {
          "attack": 47,
          "defense": 75,
          "hp": 65,
          "special-attack": 73,
          "special-defense": 85,
          "speed": 85
         },
         [
          "bug"
         ],
         177
        ],
        [
         315,
         "roselia",
         [
          "natural-cure",
          "poison-point",
          "leaf-guard"
         ],
         140,
         3,
         {
          "attack": 60,
          "defense": 45,
          "hp": 50,
          "special-attack": 100,
          "special-defense": 80,
          "speed": 65
         },
         [
          "grass",
          "poison"
         ],
         20
        ],
        [
         316,
         "gulpin",
         [
          "liquid-ooze",
          "sticky-hold",
          "gluttony"
         ],
         60,
         4,
         {
          "attack": 43,
          "defense": 53,
          "hp": 70,
          "special-attack": 43,
          "special-defense": 53,
          "speed": 40
         },
         [
          "poison"
         ],
         103
        ],
        [
         317,
         "swalot",
         [
          "liquid-ooze",
          "sticky-hold",
          "gluttony"
         ],
         163,
         17,
         {
          "attack": 73,
          "defense": 83,
          "hp": 100,
          "special-attack": 73,
          "special-defense": 83,
          "speed": 55
         },
         [
          "poison"
         ],
         800
        ],
        [
         318,
         "carvanha",
         [
          "rough-skin",
          "speed-boost"
         ],
         61,
         8,
         {
          "attack": 90,
          "defense": 20,
          "hp": 45,
          "special-attack": 65,
          "special-defense": 20,
          "speed": 65
         },
         [
          "water",
          "dark"
         ],
         208
        ],
        [
         319,
         "sharpedo",
         [
          "rough-skin",
          "speed-boost"
         ],
         161,
         18,
         {
          "attack": 120,
          "defense": 40,
          "hp": 70,
          "special-attack": 95,
          "special-defense": 40,
          "speed": 95
         },
         [
          "water",
          "dark"
         ],
         888
        ],
        [
         320,
         "wailmer",
         [
          "water-veil",
          "oblivious",
          "pressure"
         ],
         80,
         20,
         {
          "attack": 70,
          "defense": 35,
          "hp": 130,
          "special-attack": 70,
          "special-defense": 35,
          "speed": 60
         },
         [
          "water"
         ],
         1300
        ],
        [
         321,
         "wailord",
         [
          "water-veil",
          "oblivious",
          "pressure"
         ],
         175,
         145,
         {
          "attack": 90,
          "defense": 45,
          "hp": 170,
          "special-attack": 90,
          "special-defense": 45,
          "speed": 60
         },
         [
          "water"
         ],
         3980
        ],
        [
         322,
         "numel",
         [
          "oblivious",
          "simple",
          "own-tempo"
         ],
         61,
         7,
         {
          "attack": 60,
          "defense": 40,
          "hp": 60,
          "special-attack": 65,
          "special-defense": 45,
          "speed": 35
         },
         [
          "fire",
          "ground"
         ],
         240
        ],
        [
         323,
         "camerupt",
         [
          "magma-armor",
          "solid-rock",
          "anger-point"
         ],
         161,
         19,
         {
          "attack": 100,
          "defense": 70,
          "hp": 70,
          "special-attack": 105,
          "special-defense": 75,
          "speed": 40
         },
         [
          "fire",
          "ground"
         ],
         2200
        ],
        [
         324,
         "torkoal",
         [
          "white-smoke",
          "drought",
          "shell-armor"
         ],
         165,
         5,
         {
          "attack": 85,
          "defense": 140,
          "hp": 70,
          "special-attack": 85,
          "special-defense": 70,
          "speed": 20
         },
         [
          "fire"
         ],
         804
        ],
        [
         325,
         "spoink",
         [
          "thick-fat",
          "own-tempo",
          "gluttony"
         ],
         66,
         7,
         {
          "attack": 25,
          "defense": 35,
          "hp": 60,
          "special-attack": 70,
          "special-defense": 80,
          "speed": 60
         },
         [
          "psychic"
         ],
         306
        ],
        [
         326,
         "grumpig",
         [
          "thick-fat",
          "own-tempo",
          "gluttony"
         ],
         165,
         9,
         {
          "attack": 45,
          "defense": 65,
          "hp": 80,
          "special-attack": 90,
          "special-defense": 110,
          "speed": 80
         },
         [
          "psychic"
         ],
         715
        ],
        [
         327,
         "spinda",
         [
          "own-tempo",
          "tangled-feet",
          "contrary"
         ],
         126,
         11,
         {
          "attack": 60,
          "defense": 60,
          "hp": 60,
          "special-attack": 60,
          "special-defense": 60,
          "speed": 60
         },
         [
          "normal"
         ],
         50
        ],
        [
         328,
         "trapinch",
         [
          "hyper-cutter",
          "arena-trap",
          "sheer-force"
         ],
         58,
         7,
         {
          "attack": 100,
          "defense": 45,
          "hp": 45,
          "special-attack": 45,
          "special-defense": 45,
          "speed": 10
         },
         [
          "ground"
         ],
         150
        ],
        [
         329,
         "vibrava",
         [
          "levitate"
         ],
         119,
         11,
         {
          "attack": 70,
          "defense": 50,
          "hp": 50,
          "special-attack": 50,
          "special-defense": 50,
          "speed": 70
         },
         [
          "ground",
          "dragon"
         ],
         153
        ],
        [
         330,
         "flygon",
         [
          "levitate"
         ],
         260,
         20,
         {
          "attack": 100,
          "defense": 80,
          "hp": 80,
          "special-attack": 80,
          "special-defense": 80,
          "speed": 100
         },
         [
          "ground",
          "dragon"
         ],
         820
        ],
        [
         331,
         "cacnea",
         [
          "sand-veil",
          "water-absorb"
         ],
         67,
         4,
         {
          "attack": 85,
          "defense": 40,
          "hp": 50,
          "special-attack": 85,
          "special-defense": 40,
          "speed": 35
         },
         [
          "grass"
         ],
         513
        ],
        [
         332,
         "cacturne",
         [
          "sand-veil",
          "water-absorb"
         ],
         166,
         13,
         {
          "attack": 115,
          "defense": 60,
          "hp": 70,
          "special-attack": 115,
          "special-defense": 60,
          "speed": 55
         },
         [
          "grass",
          "dark"
         ],
         774
        ],
        [
         333,
         "swablu",
         [
          "natural-cure",
          "cloud-nine"
         ],
         62,
         4,
         {
          "attack": 40,
          "defense": 60,
          "hp": 45,
          "special-attack": 40,
          "special-defense": 75,
          "speed": 50
         },
         [
          "normal",
          "flying"
         ],
         12
        ],
        [
         334,
         "altaria",
         [
          "natural-cure",
          "cloud-nine"
         ],
         172,
         11,
         {
          "attack": 70,
          "defense": 90,
          "hp": 75,
          "special-attack": 70,
          "special-defense": 105,
          "speed": 80
         },
         [
          "dragon",
          "flying"
         ],
         206
        ],
        [
         335,
         "zangoose",
         [
          "immunity",
          "toxic-boost"
         ],
         160,
         13,
         {
          "attack": 115,
          "defense": 60,
          "hp": 73,
          "special-attack": 60,
          "special-defense": 60,
          "speed": 90
         },
         [
          "normal"
         ],
         403
        ],
        [
         336,
         "seviper",
         [
          "shed-skin",
          "infiltrator"
         ],
         160,
         27,
         {
          "attack": 100,
          "defense": 60,
          "hp": 73,
          "special-attack": 100,
          "special-defense": 60,
          "speed": 65
         },
         [
          "poison"
         ],
         525
        ],
        [
         337,
         "lunatone",
         [
          "levitate"
         ],
         161,
         10,
         {
          "attack": 55,
          "defense": 65,
          "hp": 90,
          "special-attack": 95,
          "special-defense": 85,
          "speed": 70
         },
         [
          "rock",
          "psychic"
         ],
         1680
        ],
        [
         338,
         "solrock",
         [
          "levitate"
         ],
         161,
         12,
         {
          "attack": 95,
          "defense": 85,
          "hp": 90,
          "special-attack": 55,
          "special-defense": 65,
          "speed": 70
         },
         [
          "rock",
          "psychic"
         ],
         1540
        ],
        [
         339,
         "barboach",
         [
          "oblivious",
          "anticipation",
          "hydration"
         ],
         58,
         4,
         {
          "attack": 48,
          "defense": 43,
          "hp": 50,
          "special-attack": 46,
          "special-defense": 41,
          "speed": 60
         },
         [
          "water",
          "ground"
         ],
         19
        ],
        [
         340,
         "whiscash",
         [
          "oblivious",
          "anticipation",
          "hydration"
         ],
         164,
         9,
         {
          "attack": 78,
          "defense": 73,
          "hp": 110,
          "special-attack": 76,
          "special-defense": 71,
          "speed": 60
         },
         [
          "water",
          "ground"
         ],
         236
        ],
        [
         341,
         "corphish",
         [
          "hyper-cutter",
          "shell-armor",
          "adaptability"
         ],
         62,
         6,
         {
          "attack": 80,
          "defense": 65,
          "hp": 43,
          "special-attack": 50,
          "special-defense": 35,
          "speed": 35
         },
         [
          "water"
         ],
         115
        ],
        [
         342,
         "crawdaunt",
         [
          "hyper-cutter",
          "shell-armor",
          "adaptability"
         ],
         164,
         11,
         {
          "attack": 120,
          "defense": 85,
          "hp": 63,
          "special-attack": 90,
          "special-defense": 55,
          "speed": 55
         },
         [
          "water",
          "dark"
         ],
         328
        ],
        [
         343,
         "baltoy",
         [
          "levitate"
         ],
         60,
         5,
         {
          "attack": 40,
          "defense": 55,
          "hp": 40,
          "special-attack": 40,
          "special-defense": 70,
          "speed": 55
         },
         [
          "ground",
          "psychic"
         ],
         215
        ],
        [
         344,
         "claydol",
         [
          "levitate"
         ],
         175,
         15,
         {
          "attack": 70,
          "defense": 105,
          "hp": 60,
          "special-attack": 70,
          "special-defense": 120,
          "speed": 75
         },
         [
          "ground",
          "psychic"
         ],
         1080
        ],
        [
         345,
         "lileep",
         [
          "suction-cups",
          "storm-drain"
         ],
         71,
         10,
         {
          "attack": 41,
          "defense": 77,
          "hp": 66,
          "special-attack": 61,
          "special-defense": 87,
          "speed": 23
         },
         [
          "rock",
          "grass"
         ],
         238
        ],
        [
         346,
         "cradily",
         [
          "suction-cups",
          "storm-drain"
         ],
         173,
         15,
         {
          "attack": 81,
          "defense": 97,
          "hp": 86,
          "special-attack": 81,
          "special-defense": 107,
          "speed": 43
         },
         [
          "rock",
          "grass"
         ],
         604
        ],
        [
         347,
         "anorith",
         [
          "battle-armor",
          "swift-swim"
         ],
         71,
         7,
         {
          "attack": 95,
          "defense": 50,
          "hp": 45,
          "special-attack": 40,
          "special-defense": 50,
          "speed": 75
         },
         [
          "rock",
          "bug"
         ],
         125
        ],
        [
         348,
         "armaldo",
         [
          "battle-armor",
          "swift-swim"
         ],
         173,
         15,
         {
          "attack": 125,
          "defense": 100,
          "hp": 75,
          "special-attack": 70,
          "special-defense": 80,
          "speed": 45
         },
         [
          "rock",
          "bug"
         ],
         682
        ],
        [
         349,
         "feebas",
         [
          "swift-swim",
          "oblivious",
          "adaptability"
         ],
         40,
         6,
         {
          "attack": 15,
          "defense": 20,
          "hp": 20,
          "special-attack": 10,
          "special-defense": 55,
          "speed": 80
         },
         [
          "water"
         ],
         74
        ],
        [
         350,
         "milotic",
         [
          "marvel-scale",
          "competitive",
          "cute-charm"
         ],
         189,
         62,
         {
          "attack": 60,
          "defense": 79,
          "hp": 95,
          "special-attack": 100,
          "special-defense": 125,
          "speed": 81
         },
         [
          "water"
         ],
         1620
        ],
        [
         351,
         "castform",
         [
          "forecast"
         ],
         147,
         3,
         {
          "attack": 70,
          "defense": 70,
          "hp": 70,
          "special-attack": 70,
          "special-defense": 70,
          "speed": 70
         },
         [
          "normal"
         ],
         8
        ],
        [
         352,
         "kecleon",
         [
          "color-change",
          "protean"
         ],
         154,
         10,
         {
          "attack": 90,
          "defense": 70,
          "hp": 60,
          "special-attack": 60,
          "special-defense": 120,
          "speed": 40
         },
         [
          "normal"
         ],
         220
        ],
        [
         353,
         "shuppet",
         [
          "insomnia",
          "frisk",
          "cursed-body"
         ],
         59,
         6,
         {
          "attack": 75,
          "defense": 35,
          "hp": 44,
          "special-attack": 63,
          "special-defense": 33,
          "speed": 45
         },
         [
          "ghost"
         ],
         23
        ],
        [
         354,
         "banette",
         [
          "insomnia",
          "frisk",
          "cursed-body"
         ],
         159,
         11,
         {
          "attack": 115,
          "defense": 65,
          "hp": 64,
          "special-attack": 83,
          "special-defense": 63,
          "speed": 65
         },
         [
          "ghost"
         ],
         125
        ],
        [
         355,
         "duskull",
         [
          "levitate",
          "frisk"
         ],
         59,
         8,
         {
          "attack": 40,
          "defense": 90,
          "hp": 20,
          "special-attack": 30,
          "special-defense": 90,
          "speed": 25
         },
         [
          "ghost"
         ],
         150
        ],
        [
         356,
         "dusclops",
         [
          "pressure",
          "frisk"
         ],
         159,
         16,
         {
          "attack": 70,
          "defense": 130,
          "hp": 40,
          "special-attack": 60,
          "special-defense": 130,
          "speed": 25
         },
         [
          "ghost"
         ],
         306
        ],
        [
         357,
         "tropius",
         [
          "chlorophyll",
          "solar-power",
          "harvest"
         ],
         161,
         20,
         {
          "attack": 68,
          "defense": 83,
          "hp": 99,
          "special-attack": 72,
          "special-defense": 87,
          "speed": 51
         },
         [
          "grass",
          "flying"
         ],
         1000
        ],
        [
         358,
         "chimecho",
         [
          "levitate"
         ],
         159,
         6,
         {
          "attack": 50,
          "defense": 80,
          "hp": 75,
          "special-attack": 95,
          "special-defense": 90,
          "speed": 65
         },
         [
          "psychic"
         ],
         10
        ],
        [
         359,
         "absol",
         [
          "pressure",
          "super-luck",
          "justified"
         ],
         163,
         12,
         {
          "attack": 130,
          "defense": 60,
          "hp": 65,
          "special-attack": 75,
          "special-defense": 60,
          "speed": 75
         },
         [
          "dark"
         ],
         470
        ],
        [
         360,
         "wynaut",
         [
          "shadow-tag",
          "telepathy"
         ],
         52,
         6,
         {
          "attack": 23,
          "defense": 48,
          "hp": 95,
          "special-attack": 23,
          "special-defense": 48,
          "speed": 23
         },
         [
          "psychic"
         ],
         140
        ],
        [
         361,
         "snorunt",
         [
          "inner-focus",
          "ice-body",
          "moody"
         ],
         60,
         7,
         {
          "attack": 50,
          "defense": 50,
          "hp": 50,
          "special-attack": 50,
          "special-defense": 50,
          "speed": 50
         },
         [
          "ice"
         ],
         168
        ],
        [
         362,
         "glalie",
         [
          "inner-focus",
          "ice-body",
          "moody"
         ],
         168,
         15,
         {
          "attack": 80,
          "defense": 80,
          "hp": 80,
          "special-attack": 80,
          "special-defense": 80,
          "speed": 80
         },
         [
          "ice"
         ],
         2565
        ],
        [
         363,
         "spheal",
         [
          "thick-fat",
          "ice-body",
          "oblivious"
         ],
         58,
         8,
         {
          "attack": 40,
          "defense": 50,
          "hp": 70,
          "special-attack": 55,
          "special-defense": 50,
          "speed": 25
         },
         [
          "ice",
          "water"
         ],
         395
        ],
        [
         364,
         "sealeo",
         [
          "thick-fat",
          "ice-body",
          "oblivious"
         ],
         144,
         11,
         {
          "attack": 60,
          "defense": 70,
          "hp": 90,
          "special-attack": 75,
          "special-defense": 70,
          "speed": 45
         },
         [
          "ice",
          "water"
         ],
         876
        ],
        [
         365,
         "walrein",
         [
          "thick-fat",
          "ice-body",
          "oblivious"
         ],
         265,
         14,
         {
          "attack": 80,
          "defense": 90,
          "hp": 110,
          "special-attack": 95,
          "special-defense": 90,
          "speed": 65
         },
         [
          "ice",
          "water"
         ],
         1506
        ],
        [
         366,
         "clamperl",
         [
          "shell-armor",
          "rattled"
         ],
         69,
         4,
         {
          "attack": 64,
          "defense": 85,
          "hp": 35,
          "special-attack": 74,
          "special-defense": 55,
          "speed": 32
         },
         [
          "water"
         ],
         525
        ],
        [
         367,
         "huntail",
         [
          "swift-swim",
          "water-veil"
         ],
         170,
         17,
         {
          "attack": 104,
          "defense": 105,
          "hp": 55,
          "special-attack": 94,
          "special-defense": 75,
          "speed": 52
         },
         [
          "water"
         ],
         270
        ],
        [
         368,
         "gorebyss",
         [
          "swift-swim",
          "hydration"
         ],
         170,
         18,
         {
          "attack": 84,
          "defense": 105,
          "hp": 55,
          "special-attack": 114,
          "special-defense": 75,
          "speed": 52
         },
         [
          "water"
         ],
         226
        ],
        [
         369,
         "relicanth",
         [
          "swift-swim",
          "rock-head",
          "sturdy"
         ],
         170,
         10,
         {
          "attack": 90,
          "defense": 130,
          "hp": 100,
          "special-attack": 45,
          "special-defense": 65,
          "speed": 55
         },
         [
          "water",
          "rock"
         ],
         234
        ],
        [
         370,
         "luvdisc",
         [
          "swift-swim",
          "hydration"
         ],
         116,
         6,
         {
          "attack": 30,
          "defense": 55,
          "hp": 43,
          "special-attack": 40,
          "special-defense": 65,
          "speed": 97
         },
         [
          "water"
         ],
         87
        ],
        [
         371,
         "bagon",
         [
          "rock-head",
          "sheer-force"
         ],
         60,
         6,
         {
          "attack": 75,
          "defense": 60,
          "hp": 45,
          "special-attack": 40,
          "special-defense": 30,
          "speed": 50
         },
         [
          "dragon"
         ],
         421
        ],
        [
         372,
         "shelgon",
         [
          "rock-head",
          "overcoat"
         ],
         147,
         11,
         {
          "attack": 95,
          "defense": 100,
          "hp": 65,
          "special-attack": 60,
          "special-defense": 50,
          "speed": 50
         },
         [
          "dragon"
         ],
         1105
        ],
        [
         373,
         "salamence",
         [
          "intimidate",
          "moxie"
         ],
         300,
         15,
         {
          "attack": 135,
          "defense": 80,
          "hp": 95,
          "special-attack": 110,
          "special-defense": 80,
          "speed": 100
         },
         [
          "dragon",
          "flying"
         ],
         1026
        ],
        [
         374,
         "beldum",
         [
          "clear-body",
          "light-metal"
         ],
         60,
         6,
         {
          "attack": 55,
          "defense": 80,
          "hp": 40,
          "special-attack": 35,
          "special-defense": 60,
          "speed": 30
         },
         [
          "steel",
          "psychic"
         ],
         952
        ],
        [
         375,
         "metang",
         [
          "clear-body",
          "light-metal"
         ],
         147,
         12,
         {
          "attack": 75,
          "defense": 100,
          "hp": 60,
          "special-attack": 55,
          "special-defense": 80,
          "speed": 50
         },
         [
          "steel",
          "psychic"
         ],
         2025
        ],
        [
         376,
         "metagross",
         [
          "clear-body",
          "light-metal"
         ],
         300,
         16,
         {
          "attack": 135,
          "defense": 130,
          "hp": 80,
          "special-attack": 95,
          "special-defense": 90,
          "speed": 70
         },
         [
          "steel",
          "psychic"
         ],
         5500
        ],
        [
         377,
         "regirock",
         [
          "clear-body",
          "sturdy"
         ],
         290,
         17,
         {
          "attack": 100,
          "defense": 200,
          "hp": 80,
          "special-attack": 50,
          "special-defense": 100,
          "speed": 50
         },
         [
          "rock"
         ],
         2300
        ],
        [
         378,
         "regice",
         [
          "clear-body",
          "ice-body"
         ],
         290,
         18,
         {
          "attack": 50,
          "defense": 100,
          "hp": 80,
          "special-attack": 100,
          "special-defense": 200,
          "speed": 50
         },
         [
          "ice"
         ],
         1750
        ],
        [
         379,
         "registeel",
         [
          "clear-body",
          "light-metal"
         ],
         290,
         19,
         {
          "attack": 75,
          "defense": 150,
          "hp": 80,
          "special-attack": 75,
          "special-defense": 150,
          "speed": 50
         },
         [
          "steel"
         ],
         2050
        ],
        [
         380,
         "latias",
         [
          "levitate"
         ],
         300,
         14,
         {
          "attack": 80,
          "defense": 90,
          "hp": 80,
          "special-attack": 110,
          "special-defense": 130,
          "speed": 110
         },
         [
          "dragon",
          "psychic"
         ],
         400
        ],
        [
         381,
         "latios",
         [
          "levitate"
         ],
         300,
         20,
         {
          "attack": 90,
          "defense": 80,
          "hp": 80,
          "special-attack": 130,
          "special-defense": 110,
          "speed": 110
         },
         [
          "dragon",
          "psychic"
         ],
         600
        ],
        [
         382,
         "kyogre",
         [
          "drizzle"
         ],
         335,
         45,
         {
          "attack": 100,
          "defense": 90,
          "hp": 100,
          "special-attack": 150,
          "special-defense": 140,
          "speed": 90
         },
         [
          "water"
         ],
         3520
        ],
        [
         383,
         "groudon",
         [
          "drought"
         ],
         335,
         35,
         {
          "attack": 150,
          "defense": 140,
          "hp": 100,
          "special-attack": 100,
          "special-defense": 90,
          "speed": 90
         },
         [
          "ground"
         ],
         9500
        ],
        [
         384,
         "rayquaza",
         [
          "air-lock"
         ],
         340,
         70,
         {
          "attack": 150,
          "defense": 90,
          "hp": 105,
          "special-attack": 150,
          "special-defense": 90,
          "speed": 95
         },
         [
          "dragon",
          "flying"
         ],
         2065
        ],
        [
         385,
         "jirachi",
         [
          "serene-grace"
         ],
         300,
         3,
         {
          "attack": 100,
          "defense": 100,
          "hp": 100,
          "special-attack": 100,
          "special-defense": 100,
          "speed": 100
         },
         [
          "steel",
          "psychic"
         ],
         11
        ],
        [
         386,
         "deoxys-normal",
         [
          "pressure"
         ],
         270,
         17,
         {
          "attack": 150,
          "defense": 50,
          "hp": 50,
          "special-attack": 150,
          "special-defense": 50,
          "speed": 150
         },
         [
          "psychic"
         ],
         608
        ],
        [
         387,
         "turtwig",
         [
          "overgrow",
          "shell-armor"
         ],
         64,
         4,
         {
          "attack": 68,
          "defense": 64,
          "hp": 55,
          "special-attack": 45,
          "special-defense": 55,
          "speed": 31
         },
         [
          "grass"
         ],
         102
        ],
        [
         388,
         "grotle",
         [
          "overgrow",
          "shell-armor"
         ],
         142,
         11,
         {
          "attack": 89,
          "defense": 85,
          "hp": 75,
          "special-attack": 55,
          "special-defense": 65,
          "speed": 36
         },
         [
          "grass"
         ],
         970
        ],
        [
         389,
         "torterra",
         [
          "overgrow",
          "shell-armor"
         ],
         236,
         22,
         {
          "attack": 109,
          "defense": 105,
          "hp": 95,
          "special-attack": 75,
          "special-defense": 85,
          "speed": 56
         },
         [
          "grass",
          "ground"
         ],
         3100
        ],
        [
         390,
         "chimchar",
         [
          "blaze",
          "iron-fist"
         ],
         62,
         5,
         {
          "attack": 58,
          "defense": 44,
          "hp": 44,
          "special-attack": 58,
          "special-defense": 44,
          "speed": 61
         },
         [
          "fire"
         ],
         62
        ],
        [
         391,
         "monferno",
         [
          "blaze",
          "iron-fist"
         ],
         142,
         9,
         {
          "attack": 78,
          "defense": 52,
          "hp": 64,
          "special-attack": 78,
          "special-defense": 52,
          "speed": 81
         },
         [
          "fire",
          "fighting"
         ],
         220
        ],
        [
         392,
         "infernape",
         [
          "blaze",
          "iron-fist"
         ],
         240,
         12,
         {
          "attack": 104,
          "defense": 71,
          "hp": 76,
          "special-attack": 104,
          "special-defense": 71,
          "speed": 108
         },
         [
          "fire",
          "fighting"
         ],
         550
        ],
        [
         393,
         "piplup",
         [
          "torrent",
          "competitive"
         ],
         63,
         4,
         {
          "attack": 51,
          "defense": 53,
          "hp": 53,
          "special-attack": 61,
          "special-defense": 56,
          "speed": 40
         },
         [
          "water"
         ],
         52
        ],
        [
         394,
         "prinplup",
         [
          "torrent",
          "competitive"
         ],
         142,
         8,
         {
          "attack": 66,
          "defense": 68,
          "hp": 64,
          "special-attack": 81,
          "special-defense": 76,
          "speed": 50
         },
         [
          "water"
         ],
         230
        ],
        [
         395,
         "empoleon",
         [
          "torrent",
          "competitive"
         ],
         239,
         17,
         {
          "attack": 86,
          "defense": 88,
          "hp": 84,
          "special-attack": 111,
          "special-defense": 101,
          "speed": 60
         },
         [
          "water",
          "steel"
         ],
         845
        ],
        [
         396,
         "starly",
         [
          "keen-eye",
          "reckless"
         ],
         49,
         3,
         {
          "attack": 55,
          "defense": 30,
          "hp": 40,
          "special-attack": 30,
          "special-defense": 30,
          "speed": 60
         },
         [
          "normal",
          "flying"
         ],
         20
        ],
        [
         397,
         "staravia",
         [
          "intimidate",
          "reckless"
         ],
         119,
         6,
         {
          "attack": 75,
          "defense": 50,
          "hp": 55,
          "special-attack": 40,
          "special-defense": 40,
          "speed": 80
         },
         [
          "normal",
          "flying"
         ],
         155
        ],
        [
         398,
         "staraptor",
         [
          "intimidate",
          "reckless"
         ],
         218,
         12,
         {
          "attack": 120,
          "defense": 70,
          "hp": 85,
          "special-attack": 50,
          "special-defense": 60,
          "speed": 100
         },
         [
          "normal",
          "flying"
         ],
         249
        ],
        [
         399,
         "bidoof",
         [
          "simple",
          "unaware",
          "moody"
         ],
         50,
         5,
         {
          "attack": 45,
          "defense": 40,
          "hp": 59,
          "special-attack": 35,
          "special-defense": 40,
          "speed": 31
         },
         [
          "normal"
         ],
         200
        ],
        [
         400,
         "bibarel",
         [
          "simple",
          "unaware",
          "moody"
         ],
         144,
         10,
         {
          "attack": 85,
          "defense": 60,
          "hp": 79,
          "special-attack": 55,
          "special-defense": 60,
          "speed": 71
         },
         [
          "normal",
          "water"
         ],
         315
        ],
        [
         401,
         "kricketot",
         [
          "shed-skin",
          "run-away"
         ],
         39,
         3,
         {
          "attack": 25,
          "defense": 41,
          "hp": 37,
          "special-attack": 25,
          "special-defense": 41,
          "speed": 25
         },
         [
          "bug"
         ],
         22
        ],
        [
         402,
         "kricketune",
         [
          "swarm",
          "technician"
         ],
         134,
         10,
         {
          "attack": 85,
          "defense": 51,
          "hp": 77,
          "special-attack": 55,
          "special-defense": 51,
          "speed": 65
         },
         [
          "bug"
         ],
         255
        ],
        [
         403,
         "shinx",
         [
          "rivalry",
          "intimidate",
          "guts"
         ],
         53,
         5,
         {
          "attack": 65,
          "defense": 34,
          "hp": 45,
          "special-attack": 40,
          "special-defense": 34,
          "speed": 45
         },
         [
          "electric"
         ],
         95
        ],
        [
         404,
         "luxio",
         [
          "rivalry",
          "intimidate",
          "guts"
         ],
         127,
         9,
         {
          "attack": 85,
          "defense": 49,
          "hp": 60,
          "special-attack": 60,
          "special-defense": 49,
          "speed": 60
         },
         [
          "electric"
         ],
         305
        ],
        [
         405,
         "luxray",
         [
          "rivalry",
          "intimidate",
          "guts"
         ],
         262,
         14,
         {
          "attack": 120,
          "defense": 79,
          "hp": 80,
          "special-attack": 95,
          "special-defense": 79,
          "speed": 70
         },
         [
          "electric"
         ],
         420
        ],
        [
         406,
         "budew",
         [
          "natural-cure",
          "poison-point",
          "leaf-guard"
         ],
         56,
         2,
         {
          "attack": 30,
          "defense": 35,
          "hp": 40,
          "special-attack": 50,
          "special-defense": 70,
          "speed": 55
         },
         [
          "grass",
          "poison"
         ],
         12
        ],
        [
         407,
         "roserade",
         [
          "natural-cure",
          "poison-point",
          "technician"
         ],
         258,
         9,
         {
          "attack": 70,
          "defense": 65,
          "hp": 60,
          "special-attack": 125,
          "special-defense": 105,
          "speed": 90
         },
         [
          "grass",
          "poison"
         ],
         145
        ],
        [
         408,
         "cranidos",
         [
          "mold-breaker",
          "sheer-force"
         ],
         70,
         9,
         {
          "attack": 125,
          "defense": 40,
          "hp": 67,
          "special-attack": 30,
          "special-defense": 30,
          "speed": 58
         },
         [
          "rock"
         ],
         315
        ],
        [
         409,
         "rampardos",
         [
          "mold-breaker",
          "sheer-force"
         ],
         173,
         16,
         {
          "attack": 165,
          "defense": 60,
          "hp": 97,
          "special-attack": 65,
          "special-defense": 50,
          "speed": 58
         },
         [
          "rock"
         ],
         1025
        ],
        [
         410,
         "shieldon",
         [
          "sturdy",
          "soundproof"
         ],
         70,
         5,
         {
          "attack": 42,
          "defense": 118,
          "hp": 30,
          "special-attack": 42,
          "special-defense": 88,
          "speed": 30
         },
         [
          "rock",
          "steel"
         ],
         570
        ],
        [
         411,
         "bastiodon",
         [
          "sturdy",
          "soundproof"
         ],
         173,
         13,
         {
          "attack": 52,
          "defense": 168,
          "hp": 60,
          "special-attack": 47,
          "special-defense": 138,
          "speed": 30
         },
         [
          "rock",
          "steel"
         ],
         1495
        ],
        [
         412,
         "burmy",
         [
          "shed-skin",
          "overcoat"
         ],
         45,
         2,
         {
          "attack": 29,
          "defense": 45,
          "hp": 40,
          "special-attack": 29,
          "special-defense": 45,
          "speed": 36
         },
         [
          "bug"
         ],
         34
        ],
        [
         413,
         "wormadam-plant",
         [
          "anticipation",
          "overcoat"
         ],
         148,
         5,
         {
          "attack": 59,
          "defense": 85,
          "hp": 60,
          "special-attack": 79,
          "special-defense": 105,
          "speed": 36
         },
         [
          "bug",
          "grass"
         ],
         65
        ],
        [
         414,
         "mothim",
         [
          "swarm",
          "tinted-lens"
         ],
         148,
         9,
         {
          "attack": 94,
          "defense": 50,
          "hp": 70,
          "special-attack": 94,
          "special-defense": 50,
          "speed": 66
         },
         [
          "bug",
          "flying"
         ],
         233
        ],
        [
         415,
         "combee",
         [
          "honey-gather",
          "hustle"
         ],
         49,
         3,
         {
          "attack": 30,
          "defense": 42,
          "hp": 30,
          "special-attack": 30,
          "special-defense": 42,
          "speed": 70
         },
         [
          "bug",
          "flying"
         ],
         55
        ],
        [
         416,
         "vespiquen",
         [
          "pressure",
          "unnerve"
         ],
         166,
         12,
         {
          "attack": 80,
          "defense": 102,
          "hp": 70,
          "special-attack": 80,
          "special-defense": 102,
          "speed": 40
         },
         [
          "bug",
          "flying"
         ],
         385
        ],
        [
         417,
         "pachirisu",
         [
          "run-away",
          "pickup",
          "volt-absorb"
         ],
         142,
         4,
         {
          "attack": 45,
          "defense": 70,
          "hp": 60,
          "special-attack": 45,
          "special-defense": 90,
          "speed": 95
         },
         [
          "electric"
         ],
         39
        ],
        [
         418,
         "buizel",
         [
          "swift-swim",
          "water-veil"
         ],
         66,
         7,
         {
          "attack": 65,
          "defense": 35,
          "hp": 55,
          "special-attack": 60,
          "special-defense": 30,
          "speed": 85
         },
         [
          "water"
         ],
         295
        ],
        [
         419,
         "floatzel",
         [
          "swift-swim",
          "water-veil"
         ],
         173,
         11,
         {
          "attack": 105,
          "defense": 55,
          "hp": 85,
          "special-attack": 85,
          "special-defense": 50,
          "speed": 115
         },
         [
          "water"
         ],
         335
        ],
        [
         420,
         "cherubi",
         [
          "chlorophyll"
         ],
         55,
         4,
         {
          "attack": 35,
          "defense": 45,
          "hp": 45,
          "special-attack": 62,
          "special-defense": 53,
          "speed": 35
         },
         [
          "grass"
         ],
         33
        ],
        [
         421,
         "cherrim",
         [
          "flower-gift"
         ],
         158,
         5,
         {
          "attack": 60,
          "defense": 70,
          "hp": 70,
          "special-attack": 87,
          "special-defense": 78,
          "speed": 85
         },
         [
          "grass"
         ],
         93
        ],
        [
         422,
         "shellos",
         [
          "sticky-hold",
          "storm-drain",
          "sand-force"
         ],
         65,
         3,
         {
          "attack": 48,
          "defense": 48,
          "hp": 76,
          "special-attack": 57,
          "special-defense": 62,
          "speed": 34
         },
         [
          "water"
         ],
         63
        ],
        [
         423,
         "gastrodon",
         [
          "sticky-hold",
          "storm-drain",
          "sand-force"
         ],
         166,
         9,
         {
          "attack": 83,
          "defense": 68,
          "hp": 111,
          "special-attack": 92,
          "special-defense": 82,
          "speed": 39
         },
         [
          "water",
          "ground"
         ],
         299
        ],
        [
         424,
         "ambipom",
         [
          "technician",
          "pickup",
          "skill-link"
         ],
         169,
         12,
         {
          "attack": 100,
          "defense": 66,
          "hp": 75,
          "special-attack": 60,
          "special-defense": 66,
          "speed": 115
         },
         [
          "normal"
         ],
         203
        ],
        [
         425,
         "drifloon",
         [
          "aftermath",
          "unburden",
          "flare-boost"
         ],
         70,
         4,
         {
          "attack": 50,
          "defense": 34,
          "hp": 90,
          "special-attack": 60,
          "special-defense": 44,
          "speed": 70
         },
         [
          "ghost",
          "flying"
         ],
         12
        ],
        [
         426,
         "drifblim",
         [
          "aftermath",
          "unburden",
          "flare-boost"
         ],
         174,
         12,
         {
          "attack": 80,
          "defense": 44,
          "hp": 150,
          "special-attack": 90,
          "special-defense": 54,
          "speed": 80
         },
         [
          "ghost",
          "flying"
         ],
         150
        ],
        [
         427,
         "buneary",
         [
          "run-away",
          "klutz",
          "limber"
         ],
         70,
         4,
         {
          "attack": 66,
          "defense": 44,
          "hp": 55,
          "special-attack": 44,
          "special-defense": 56,
          "speed": 85
         },
         [
          "normal"
         ],
         55
        ],
        [
         428,
         "lopunny",
         [
          "cute-charm",
          "klutz",
          "limber"
         ],
         168,
         12,
         {
          "attack": 76,
          "defense": 84,
          "hp": 65,
          "special-attack": 54,
          "special-defense": 96,
          "speed": 105
         },
         [
          "normal"
         ],
         333
        ],
        [
         429,
         "mismagius",
         [
          "levitate"
         ],
         173,
         9,
         {
          "attack": 60,
          "defense": 60,
          "hp": 60,
          "special-attack": 105,
          "special-defense": 105,
          "speed": 105
         },
         [
          "ghost"
         ],
         44
        ],
        [
         430,
         "honchkrow",
         [
          "insomnia",
          "super-luck",
          "moxie"
         ],
         177,
         9,
         {
          "attack": 125,
          "defense": 52,
          "hp": 100,
          "special-attack": 105,
          "special-defense": 52,
          "speed": 71
         },
         [
          "dark",
          "flying"
         ],
         273
        ],
        [
         431,
         "glameow",
         [
          "limber",
          "own-tempo",
          "keen-eye"
         ],
         62,
         5,
         {
          "attack": 55,
          "defense": 42,
          "hp": 49,
          "special-attack": 42,
          "special-defense": 37,
          "speed": 85
         },
         [
          "normal"
         ],
         39
        ],
        [
         432,
         "purugly",
         [
          "thick-fat",
          "own-tempo",
          "defiant"
         ],
         158,
         10,
         {
          "attack": 82,
          "defense": 64,
          "hp": 71,
          "special-attack": 64,
          "special-defense": 59,
          "speed": 112
         },
         [
          "normal"
         ],
         438
        ],
        [
         433,
         "chingling",
         [
          "levitate"
         ],
         57,
         2,
         {
          "attack": 30,
          "defense": 50,
          "hp": 45,
          "special-attack": 65,
          "special-defense": 50,
          "speed": 45
         },
         [
          "psychic"
         ],
         6
        ],
        [
         434,
         "stunky",
         [
          "stench",
          "aftermath",
          "keen-eye"
         ],
         66,
         4,
         {
          "attack": 63,
          "defense": 47,
          "hp": 63,
          "special-attack": 41,
          "special-defense": 41,
          "speed": 74
         },
         [
          "poison",
          "dark"
         ],
         192
        ],
        [
         435,
         "skuntank",
         [
          "stench",
          "aftermath",
          "keen-eye"
         ],
         168,
         10,
         {
          "attack": 93,
          "defense": 67,
          "hp": 103,
          "special-attack": 71,
          "special-defense": 61,
          "speed": 84
         },
         [
          "poison",
          "dark"
         ],
         380
        ],
        [
         436,
         "bronzor",
         [
          "levitate",
          "heatproof",
          "heavy-metal"
         ],
         60,
         5,
         {
          "attack": 24,
          "defense": 86,
          "hp": 57,
          "special-attack": 24,
          "special-defense": 86,
          "speed": 23
         },
         [
          "steel",
          "psychic"
         ],
         605
        ],
        [
         437,
         "bronzong",
         [
          "levitate",
          "heatproof",
          "heavy-metal"
         ],
         175,
         13,
         {
          "attack": 89,
          "defense": 116,
          "hp": 67,
          "special-attack": 79,
          "special-defense": 116,
          "speed": 33
         },
         [
          "steel",
          "psychic"
         ],
         1870
        ],
        [
         438,
         "bonsly",
         [
          "sturdy",
          "rock-head",
          "rattled"
         ],
         58,
         5,
         {
          "attack": 80,
          "defense": 95,
          "hp": 50,
          "special-attack": 10,
          "special-defense": 45,
          "speed": 10
         },
         [
          "rock"
         ],
         150
        ],
        [
         439,
         "mime-jr",
         [
          "soundproof",
          "filter",
          "technician"
         ],
         62,
         6,
         {
          "attack": 25,
          "defense": 45,
          "hp": 20,
          "special-attack": 70,
          "special-defense": 90,
          "speed": 60
         },
         [
          "psychic",
          "fairy"
         ],
         130
        ],
        [
         440,
         "happiny",
         [
          "natural-cure",
          "serene-grace",
          "friend-guard"
         ],
         110,
         6,
         {
          "attack": 5,
          "defense": 5,
          "hp": 100,
          "special-attack": 15,
          "special-defense": 65,
          "speed": 30
         },
         [
          "normal"
         ],
         244
        ],
        [
         441,
         "chatot",
         [
          "keen-eye",
          "tangled-feet",
          "big-pecks"
         ],
         144,
         5,
         {
          "attack": 65,
          "defense": 45,
          "hp": 76,
          "special-attack": 92,
          "special-defense": 42,
          "speed": 91
         },
         [
          "normal",
          "flying"
         ],
         19
        ],
        [
         442,
         "spiritomb",
         [
          "pressure",
          "infiltrator"
         ],
         170,
         10,
         {
          "attack": 92,
          "defense": 108,
          "hp": 50,
          "special-attack": 92,
          "special-defense": 108,
          "speed": 35
         },
         [
          "ghost",
          "dark"
         ],
         1080
        ],
        [
         443,
         "gible",
         [
          "sand-veil",
          "rough-skin"
         ],
         60,
         7,
         {
          "attack": 70,
          "defense": 45,
          "hp": 58,
          "special-attack": 40,
          "special-defense": 45,
          "speed": 42
         },
         [
          "dragon",
          "ground"
         ],
         205
        ],
        [
         444,
         "gabite",
         [
          "sand-veil",
          "rough-skin"
         ],
         144,
         14,
         {
          "attack": 90,
          "defense": 65,
          "hp": 68,
          "special-attack": 50,
          "special-defense": 55,
          "speed": 82
         },
         [
          "dragon",
          "ground"
         ],
         560
        ],
        [
         445,
         "garchomp",
         [
          "sand-veil",
          "rough-skin"
         ],
         300,
         19,
         {
          "attack": 130,
          "defense": 95,
          "hp": 108,
          "special-attack": 80,
          "special-defense": 85,
          "speed": 102
         },
         [
          "dragon",
          "ground"
         ],
         950
        ],
        [
         446,
         "munchlax",
         [
          "pickup",
          "thick-fat",
          "gluttony"
         ],
         78,
         6,
         {
          "attack": 85,
          "defense": 40,
          "hp": 135,
          "special-attack": 40,
          "special-defense": 85,
          "speed": 5
         },
         [
          "normal"
         ],
         1050
        ],
        [
         447,
         "riolu",
         [
          "steadfast",
          "inner-focus",
          "prankster"
         ],
         57,
         7,
         {
          "attack": 70,
          "defense": 40,
          "hp": 40,
          "special-attack": 35,
          "special-defense": 40,
          "speed": 60
         },
         [
          "fighting"
         ],
         202
        ],
        [
         448,
         "lucario",
         [
          "steadfast",
          "inner-focus",
          "justified"
         ],
         184,
         12,
         {
          "attack": 110,
          "defense": 70,
          "hp": 70,
          "special-attack": 115,
          "special-defense": 70,
          "speed": 90
         },
         [
          "fighting",
          "steel"
         ],
         540
        ],
        [
         449,
         "hippopotas",
         [
          "sand-stream",
          "sand-force"
         ],
         66,
         8,
         {
          "attack": 72,
          "defense": 78,
          "hp": 68,
          "special-attack": 38,
          "special-defense": 42,
          "speed": 32
         },
         [
          "ground"
         ],
         495
        ],
        [
         450,
         "hippowdon",
         [
          "sand-stream",
          "sand-force"
         ],
         184,
         20,
         {
          "attack": 112,
          "defense": 118,
          "hp": 108,
          "special-attack": 68,
          "special-defense": 72,
          "speed": 47
         },
         [
          "ground"
         ],
         3000
        ],
        [
         451,
         "skorupi",
         [
          "battle-armor",
          "sniper",
          "keen-eye"
         ],
         66,
         8,
         {
          "attack": 50,
          "defense": 90,
          "hp": 40,
          "special-attack": 30,
          "special-defense": 55,
          "speed": 65
         },
         [
          "poison",
          "bug"
         ],
         120
        ],
        [
         452,
         "drapion",
         [
          "battle-armor",
          "sniper",
          "keen-eye"
         ],
         175,
         13,
         {
          "attack": 90,
          "defense": 110,
          "hp": 70,
          "special-attack": 60,
          "special-defense": 75,
          "speed": 95
         },
         [
          "poison",
          "dark"
         ],
         615
        ],
        [
         453,
         "croagunk",
         [
          "anticipation",
          "dry-skin",
          "poison-touch"
         ],
         60,
         7,
         {
          "attack": 61,
          "defense": 40,
          "hp": 48,
          "special-attack": 61,
          "special-defense": 40,
          "speed": 50
         },
         [
          "poison",
          "fighting"
         ],
         230
        ],
        [
         454,
         "toxicroak",
         [
          "anticipation",
          "dry-skin",
          "poison-touch"
         ],
         172,
         13,
         {
          "attack": 106,
          "defense": 65,
          "hp": 83,
          "special-attack": 86,
          "special-defense": 65,
          "speed": 85
         },
         [
          "poison",
          "fighting"
         ],
         444
        ],
        [
         455,
         "carnivine",
         [
          "levitate"
         ],
         159,
         14,
         {
          "attack": 100,
          "defense": 72,
          "hp": 74,
          "special-attack": 90,
          "special-defense": 72,
          "speed": 46
         },
         [
          "grass"
         ],
         270
        ],
        [
         456,
         "finneon",
         [
          "swift-swim",
          "storm-drain",
          "water-veil"
         ],
         66,
         4,
         {
          "attack": 49,
          "defense": 56,
          "hp": 49,
          "special-attack": 49,
          "special-defense": 61,
          "speed": 66
         },
         [
          "water"
         ],
         70
        ],
        [
         457,
         "lumineon",
         [
          "swift-swim",
          "storm-drain",
          "water-veil"
         ],
         161,
         12,
         {
          "attack": 69,
          "defense": 76,
          "hp": 69,
          "special-attack": 69,
          "special-defense": 86,
          "speed": 91
         },
         [
          "water"
         ],
         240
        ],
        [
         458,
         "mantyke",
         [
          "swift-swim",
          "water-absorb",
          "water-veil"
         ],
         69,
         10,
         {
          "attack": 20,
          "defense": 50,
          "hp": 45,
          "special-attack": 60,
          "special-defense": 120,
          "speed": 50
         },
         [
          "water",
          "flying"
         ],
         650
        ],
        [
         459,
         "snover",
         [
          "snow-warning",
          "soundproof"
         ],
         67,
         10,
         {
          "attack": 62,
          "defense": 50,
          "hp": 60,
          "special-attack": 62,
          "special-defense": 60,
          "speed": 40
         },
         [
          "grass",
          "ice"
         ],
         505
        ],
        [
         460,
         "abomasnow",
         [
          "snow-warning",
          "soundproof"
         ],
         173,
         22,
         {
          "attack": 92,
          "defense": 75,
          "hp": 90,
          "special-attack": 92,
          "special-defense": 85,
          "speed": 60
         },
         [
          "grass",
          "ice"
         ],
         1355
        ],
        [
         461,
         "weavile",
         [
          "pressure",
          "pickpocket"
         ],
         179,
         11,
         {
          "attack": 120,
          "defense": 65,
          "hp": 70,
          "special-attack": 45,
          "special-defense": 85,
          "speed": 125
         },
         [
          "dark",
          "ice"
         ],
         340
        ],
        [
         462,
         "magnezone",
         [
          "magnet-pull",
          "sturdy",
          "analytic"
         ],
         268,
         12,
         {
          "attack": 70,
          "defense": 115,
          "hp": 70,
          "special-attack": 130,
          "special-defense": 90,
          "speed": 60
         },
         [
          "electric",
          "steel"
         ],
         1800
        ],
        [
         463,
         "lickilicky",
         [
          "own-tempo",
          "oblivious",
          "cloud-nine"
         ],
         180,
         17,
         {
          "attack": 85,
          "defense": 95,
          "hp": 110,
          "special-attack": 80,
          "special-defense": 95,
          "speed": 50
         },
         [
          "normal"
         ],
         1400
        ],
        [
         464,
         "rhyperior",
         [
          "lightning-rod",
          "solid-rock",
          "reckless"
         ],
         268,
         24,
         {
          "attack": 140,
          "defense": 130,
          "hp": 115,
          "special-attack": 55,
          "special-defense": 55,
          "speed": 40
         },
         [
          "ground",
          "rock"
         ],
         2828
        ],
        [
         465,
         "tangrowth",
         [
          "chlorophyll",
          "leaf-guard",
          "regenerator"
         ],
         187,
         20,
         {
          "attack": 100,
          "defense": 125,
          "hp": 100,
          "special-attack": 110,
          "special-defense": 50,
          "speed": 50
         },
         [
          "grass"
         ],
         1286
        ],
        [
         466,
         "electivire",
         [
          "motor-drive",
          "vital-spirit"
         ],
         270,
         18,
         {
          "attack": 123,
          "defense": 67,
          "hp": 75,
          "special-attack": 95,
          "special-defense": 85,
          "speed": 95
         },
         [
          "electric"
         ],
         1386
        ],
        [
         467,
         "magmortar",
         [
          "flame-body",
          "vital-spirit"
         ],
         270,
         16,
         {
          "attack": 95,
          "defense": 67,
          "hp": 75,
          "special-attack": 125,
          "special-defense": 95,
          "speed": 83
         },
         [
          "fire"
         ],
         680
        ],
        [
         468,
         "togekiss",
         [
          "hustle",
          "serene-grace",
          "super-luck"
         ],
         273,
         15,
         {
          "attack": 50,
          "defense": 95,
          "hp": 85,
          "special-attack": 120,
          "special-defense": 115,
          "speed": 80
         },
         [
          "fairy",
          "flying"
         ],
         380
        ],
        [
         469,
         "yanmega",
         [
          "speed-boost",
          "tinted-lens",
          "frisk"
         ],
         180,
         19,
         {
          "attack": 76,
          "defense": 86,
          "hp": 86,
          "special-attack": 116,
          "special-defense": 56,
          "speed": 95
         },
         [
          "bug",
          "flying"
         ],
         515
        ],
        [
         470,
         "leafeon",
         [
          "leaf-guard",
          "chlorophyll"
         ],
         184,
         10,
         {
          "attack": 110,
          "defense": 130,
          "hp": 65,
          "special-attack": 60,
          "special-defense": 65,
          "speed": 95
         },
         [
          "grass"
         ],
         255
        ],
        [
         471,
         "glaceon",
         [
          "snow-cloak",
          "ice-body"
         ],
         184,
         8,
         {
          "attack": 60,
          "defense": 110,
          "hp": 65,
          "special-attack": 130,
          "special-defense": 95,
          "speed": 65
         },
         [
          "ice"
         ],
         259
        ],
        [
         472,
         "gliscor",
         [
          "hyper-cutter",
          "sand-veil",
          "poison-heal"
         ],
         179,
         20,
         {
          "attack": 95,
          "defense": 125,
          "hp": 75,
          "special-attack": 45,
          "special-defense": 75,
          "speed": 95
         },
         [
          "ground",
          "flying"
         ],
         425
        ],
        [
         473,
         "mamoswine",
         [
          "oblivious",
          "snow-cloak",
          "thick-fat"
         ],
         265,
         25,
         {
          "attack": 130,
          "defense": 80,
          "hp": 110,
          "special-attack": 70,
          "special-defense": 60,
          "speed": 80
         },
         [
          "ice",
          "ground"
         ],
         2910
        ],
        [
         474,
         "porygon-z",
         [
          "adaptability",
          "download",
          "analytic"
         ],
         268,
         9,
         {
          "attack": 80,
          "defense": 70,
          "hp": 85,
          "special-attack": 135,
          "special-defense": 75,
          "speed": 90
         },
         [
          "normal"
         ],
         340
        ],
        [
         475,
         "gallade",
         [
          "steadfast",
          "sharpness",
          "justified"
         ],
         259,
         16,
         {
          "attack": 125,
          "defense": 65,
          "hp": 68,
          "special-attack": 65,
          "special-defense": 115,
          "speed": 80
         },
         [
          "psychic",
          "fighting"
         ],
         520
        ],
        [
         476,
         "probopass",
         [
          "sturdy",
          "magnet-pull",
          "sand-force"
         ],
         184,
         14,
         {
          "attack": 55,
          "defense": 145,
          "hp": 60,
          "special-attack": 75,
          "special-defense": 150,
          "speed": 40
         },
         [
          "rock",
          "steel"
         ],
         3400
        ],
        [
         477,
         "dusknoir",
         [
          "pressure",
          "frisk"
         ],
         263,
         22,
         {
          "attack": 100,
          "defense": 135,
          "hp": 45,
          "special-attack": 65,
          "special-defense": 135,
          "speed": 45
         },
         [
          "ghost"
         ],
         1066
        ],
        [
         478,
         "froslass",
         [
          "snow-cloak",
          "cursed-body"
         ],
         168,
         13,
         {
          "attack": 80,
          "defense": 70,
          "hp": 70,
          "special-attack": 80,
          "special-defense": 70,
          "speed": 110
         },
         [
          "ice",
          "ghost"
         ],
         266
        ],
        [
         479,
         "rotom",
         [
          "levitate"
         ],
         154,
         3,
         {
          "attack": 50,
          "defense": 77,
          "hp": 50,
          "special-attack": 95,
          "special-defense": 77,
          "speed": 91
         },
         [
          "electric",
          "ghost"
         ],
         3
        ],
        [
         480,
         "uxie",
         [
          "levitate"
         ],
         290,
         3,
         {
          "attack": 75,
          "defense": 130,
          "hp": 75,
          "special-attack": 75,
          "special-defense": 130,
          "speed": 95
         },
         [
          "psychic"
         ],
         3
        ],
        [
         481,
         "mesprit",
         [
          "levitate"
         ],
         290,
         3,
         {
          "attack": 105,
          "defense": 105,
          "hp": 80,
          "special-attack": 105,
          "special-defense": 105,
          "speed": 80
         },
         [
          "psychic"
         ],
         3
        ],
        [
         482,
         "azelf",
         [
          "levitate"
         ],
         290,
         3,
         {
          "attack": 125,
          "defense": 70,
          "hp": 75,
          "special-attack": 125,
          "special-defense": 70,
          "speed": 115
         },
         [
          "psychic"
         ],
         3
        ],
        [
         483,
         "dialga",
         [
          "pressure",
          "telepathy"
         ],
         340,
         54,
         {
          "attack": 120,
          "defense": 120,
          "hp": 100,
          "special-attack": 150,
          "special-defense": 100,
          "speed": 90
         },
         [
          "steel",
          "dragon"
         ],
         6830
        ],
        [
         484,
         "palkia",
         [
          "pressure",
          "telepathy"
         ],
         340,
         42,
         {
          "attack": 120,
          "defense": 100,
          "hp": 90,
          "special-attack": 150,
          "special-defense": 120,
          "speed": 100
         },
         [
          "water",
          "dragon"
         ],
         3360
        ],
        [
         485,
         "heatran",
         [
          "flash-fire",
          "flame-body"
         ],
         300,
         17,
         {
          "attack": 90,
          "defense": 106,
          "hp": 91,
          "special-attack": 130,
          "special-defense": 106,
          "speed": 77
         },
         [
          "fire",
          "steel"
         ],
         4300
        ],
        [
         486,
         "regigigas",
         [
          "slow-start"
         ],
         335,
         37,
         {
          "attack": 160,
          "defense": 110,
          "hp": 110,
          "special-attack": 80,
          "special-defense": 110,
          "speed": 100
         },
         [
          "normal"
         ],
         4200
        ],
        [
         487,
         "giratina-altered",
         [
          "pressure",
          "telepathy"
         ],
         340,
         45,
         {
          "attack": 100,
          "defense": 120,
          "hp": 150,
          "special-attack": 100,
          "special-defense": 120,
          "speed": 90
         },
         [
          "ghost",
          "dragon"
         ],
         7500
        ],
        [
         488,
         "cresselia",
         [
          "levitate"
         ],
         300,
         15,
         {
          "attack": 70,
          "defense": 110,
          "hp": 120,
          "special-attack": 75,
          "special-defense": 120,
          "speed": 85
         },
         [
          "psychic"
         ],
         856
        ],
        [
         489,
         "phione",
         [
          "hydration"
         ],
         216,
         4,
         {
          "attack": 80,
          "defense": 80,
          "hp": 80,
          "special-attack": 80,
          "special-defense": 80,
          "speed": 80
         },
         [
          "water"
         ],
         31
        ],
        [
         490,
         "manaphy",
         [
          "hydration"
         ],
         270,
         3,
         {
          "attack": 100,
          "defense": 100,
          "hp": 100,
          "special-attack": 100,
          "special-defense": 100,
          "speed": 100
         },
         [
          "water"
         ],
         14
        ],
        [
         491,
         "darkrai",
         [
          "bad-dreams"
         ],
         270,
         15,
         {
          "attack": 90,
          "defense": 90,
          "hp": 70,
          "special-attack": 135,
          "special-defense": 90,
          "speed": 125
         },
         [
          "dark"
         ],
         505
        ],
        [
         492,
         "shaymin-land",
         [
          "natural-cure"
         ],
         270,
         2,
         {
          "attack": 100,
          "defense": 100,
          "hp": 100,
          "special-attack": 100,
          "special-defense": 100,
          "speed": 100
         },
         [
          "grass"
         ],
         21
        ],
        [
         493,
         "arceus",
         [
          "multitype"
         ],
         324,
         32,
         {
          "attack": 120,
          "defense": 120,
          "hp": 120,
          "special-attack": 120,
          "special-defense": 120,
          "speed": 120
         },
         [
          "normal"
         ],
         3200
        ],
        [
         494,
         "victini",
         [
          "victory-star"
         ],
         300,
         4,
         {
          "attack": 100,
          "defense": 100,
          "hp": 100,
          "special-attack": 100,
          "special-defense": 100,
          "speed": 100
         },
         [
          "psychic",
          "fire"
         ],
         40
        ],
        [
         495,
         "snivy",
         [
          "overgrow",
          "contrary"
         ],
         62,
         6,
         {
          "attack": 45,
          "defense": 55,
          "hp": 45,
          "special-attack": 45,
          "special-defense": 55,
          "speed": 63
         },
         [
          "grass"
         ],
         81
        ],
        [
         496,
         "servine",
         [
          "overgrow",
          "contrary"
         ],
         145,
         8,
         {
          "attack": 60,
          "defense": 75,
          "hp": 60,
          "special-attack": 60,
          "special-defense": 75,
          "speed": 83
         },
         [
          "grass"
         ],
         160
        ],
        [
         497,
         "serperior",
         [
          "overgrow",
          "contrary"
         ],
         238,
         33,
         {
          "attack": 75,
          "defense": 95,
          "hp": 75,
          "special-attack": 75,
          "special-defense": 95,
          "speed": 113
         },
         [
          "grass"
         ],
         630
        ],
        [
         498,
         "tepig",
         [
          "blaze",
          "thick-fat"
         ],
         62,
         5,
         {
          "attack": 63,
          "defense": 45,
          "hp": 65,
          "special-attack": 45,
          "special-defense": 45,
          "speed": 45
         },
         [
          "fire"
         ],
         99
        ],
        [
         499,
         "pignite",
         [
          "blaze",
          "thick-fat"
         ],
         146,
         10,
         {
          "attack": 93,
          "defense": 55,
          "hp": 90,
          "special-attack": 70,
          "special-defense": 55,
          "speed": 55
         },
         [
          "fire",
          "fighting"
         ],
         555
        ],
        [
         500,
         "emboar",
         [
          "blaze",
          "reckless"
         ],
         238,
         16,
         {
          "attack": 123,
          "defense": 65,
          "hp": 110,
          "special-attack": 100,
          "special-defense": 65,
          "speed": 65
         },
         [
          "fire",
          "fighting"
         ],
         1500
        ],
        [
         501,
         "oshawott",
         [
          "torrent",
          "shell-armor"
         ],
         62,
         5,
         {
          "attack": 55,
          "defense": 45,
          "hp": 55,
          "special-attack": 63,
          "special-defense": 45,
          "speed": 45
         },
         [
          "water"
         ],
         59
        ],
        [
         502,
         "dewott",
         [
          "torrent",
          "shell-armor"
         ],
         145,
         8,
         {
          "attack": 75,
          "defense": 60,
          "hp": 75,
          "special-attack": 83,
          "special-defense": 60,
          "speed": 60
         },
         [
          "water"
         ],
         245
        ],
        [
         503,
         "samurott",
         [
          "torrent",
          "shell-armor"
         ],
         238,
         15,
         {
          "attack": 100,
          "defense": 85,
          "hp": 95,
          "special-attack": 108,
          "special-defense": 70,
          "speed": 70
         },
         [
          "water"
         ],
         946
        ],
        [
         504,
         "patrat",
         [
          "run-away",
          "keen-eye",
          "analytic"
         ],
         51,
         5,
         {
          "attack": 55,
          "defense": 39,
          "hp": 45,
          "special-attack": 35,
          "special-defense": 39,
          "speed": 42
         },
         [
          "normal"
         ],
         116
        ],
        [
         505,
         "watchog",
         [
          "illuminate",
          "keen-eye",
          "analytic"
         ],
         147,
         11,
         {
          "attack": 85,
          "defense": 69,
          "hp": 60,
          "special-attack": 60,
          "special-defense": 69,
          "speed": 77
         },
         [
          "normal"
         ],
         270
        ],
        [
         506,
         "lillipup",
         [
          "vital-spirit",
          "pickup",
          "run-away"
         ],
         55,
         4,
         {
          "attack": 60,
          "defense": 45,
          "hp": 45,
          "special-attack": 25,
          "special-defense": 45,
          "speed": 55
         },
         [
          "normal"
         ],
         41
        ],
        [
         507,
         "herdier",
         [
          "intimidate",
          "sand-rush",
          "scrappy"
         ],
         130,
         9,
         {
          "attack": 80,
          "defense": 65,
          "hp": 65,
          "special-attack": 35,
          "special-defense": 65,
          "speed": 60
         },
         [
          "normal"
         ],
         147
        ],
        [
         508,
         "stoutland",
         [
          "intimidate",
          "sand-rush",
          "scrappy"
         ],
         250,
         12,
         {
          "attack": 110,
          "defense": 90,
          "hp": 85,
          "special-attack": 45,
          "special-defense": 90,
          "speed": 80
         },
         [
          "normal"
         ],
         610
        ],
        [
         509,
         "purrloin",
         [
          "limber",
          "unburden",
          "prankster"
         ],
         56,
         4,
         {
          "attack": 50,
          "defense": 37,
          "hp": 41,
          "special-attack": 50,
          "special-defense": 37,
          "speed": 66
         },
         [
          "dark"
         ],
         101
        ],
        [
         510,
         "liepard",
         [
          "limber",
          "unburden",
          "prankster"
         ],
         156,
         11,
         {
          "attack": 88,
          "defense": 50,
          "hp": 64,
          "special-attack": 88,
          "special-defense": 50,
          "speed": 106
         },
         [
          "dark"
         ],
         375
        ],
        [
         511,
         "pansage",
         [
          "gluttony",
          "overgrow"
         ],
         63,
         6,
         {
          "attack": 53,
          "defense": 48,
          "hp": 50,
          "special-attack": 53,
          "special-defense": 48,
          "speed": 64
         },
         [
          "grass"
         ],
         105
        ],
        [
         512,
         "simisage",
         [
          "gluttony",
          "overgrow"
         ],
         174,
         11,
         {
          "attack": 98,
          "defense": 63,
          "hp": 75,
          "special-attack": 98,
          "special-defense": 63,
          "speed": 101
         },
         [
          "grass"
         ],
         305
        ],
        [
         513,
         "pansear",
         [
          "gluttony",
          "blaze"
         ],
         63,
         6,
         {
          "attack": 53,
          "defense": 48,
          "hp": 50,
          "special-attack": 53,
          "special-defense": 48,
          "speed": 64
         },
         [
          "fire"
         ],
         110
        ],
        [
         514,
         "simisear",
         [
          "gluttony",
          "blaze"
         ],
         174,
         10,
         {
          "attack": 98,
          "defense": 63,
          "hp": 75,
          "special-attack": 98,
          "special-defense": 63,
          "speed": 101
         },
         [
          "fire"
         ],
         280
        ],
        [
         515,
         "panpour",
         [
          "gluttony",
          "torrent"
         ],
         63,
         6,
         {
          "attack": 53,
          "defense": 48,
          "hp": 50,
          "special-attack": 53,
          "special-defense": 48,
          "speed": 64
         },
         [
          "water"
         ],
         135
        ],
        [
         516,
         "simipour",
         [
          "gluttony",
          "torrent"
         ],
         174,
         10,
         {
          "attack": 98,
          "defense": 63,
          "hp": 75,
          "special-attack": 98,
          "special-defense": 63,
          "speed": 101
         },
         [
          "water"
         ],
         290
        ],
        [
         517,
         "munna",
         [
          "forewarn",
          "synchronize",
          "telepathy"
         ],
         58,
         6,
         {
          "attack": 25,
          "defense": 45,
          "hp": 76,
          "special-attack": 67,
          "special-defense": 55,
          "speed": 24
         },
         [
          "psychic"
         ],
         233
        ],
        [
         518,
         "musharna",
         [
          "forewarn",
          "synchronize",
          "telepathy"
         ],
         170,
         11,
         {
          "attack": 55,
          "defense": 85,
          "hp": 116,
          "special-attack": 107,
          "special-defense": 95,
          "speed": 29
         },
         [
          "psychic"
         ],
         605
        ],
        [
         519,
         "pidove",
         [
          "big-pecks",
          "super-luck",
          "rivalry"
         ],
         53,
         3,
         {
          "attack": 55,
          "defense": 50,
          "hp": 50,
          "special-attack": 36,
          "special-defense": 30,
          "speed": 43
         },
         [
          "normal",
          "flying"
         ],
         21
        ],
        [
         520,
         "tranquill",
         [
          "big-pecks",
          "super-luck",
          "rivalry"
         ],
         125,
         6,
         {
          "attack": 77,
          "defense": 62,
          "hp": 62,
          "special-attack": 50,
          "special-defense": 42,
          "speed": 65
         },
         [
          "normal",
          "flying"
         ],
         150
        ],
        [
         521,
         "unfezant",
         [
          "big-pecks",
          "super-luck",
          "rivalry"
         ],
         244,
         12,
         {
          "attack": 115,
          "defense": 80,
          "hp": 80,
          "special-attack": 65,
          "special-defense": 55,
          "speed": 93
         },
         [
          "normal",
          "flying"
         ],
         290
        ],
        [
         522,
         "blitzle",
         [
          "lightning-rod",
          "motor-drive",
          "sap-sipper"
         ],
         59,
         8,
         {
          "attack": 60,
          "defense": 32,
          "hp": 45,
          "special-attack": 50,
          "special-defense": 32,
          "speed": 76
         },
         [
          "electric"
         ],
         298
        ],
        [
         523,
         "zebstrika",
         [
          "lightning-rod",
          "motor-drive",
          "sap-sipper"
         ],
         174,
         16,
         {
          "attack": 100,
          "defense": 63,
          "hp": 75,
          "special-attack": 80,
          "special-defense": 63,
          "speed": 116
         },
         [
          "electric"
         ],
         795
        ],
        [
         524,
         "roggenrola",
         [
          "sturdy",
          "weak-armor",
          "sand-force"
         ],
         56,
         4,
         {
          "attack": 75,
          "defense": 85,
          "hp": 55,
          "special-attack": 25,
          "special-defense": 25,
          "speed": 15
         },
         [
          "rock"
         ],
         180
        ],
        [
         525,
         "boldore",
         [
          "sturdy",
          "weak-armor",
          "sand-force"
         ],
         137,
         9,
         {
          "attack": 105,
          "defense": 105,
          "hp": 70,
          "special-attack": 50,
          "special-defense": 40,
          "speed": 20
         },
         [
          "rock"
         ],
         1020
        ],
        [
         526,
         "gigalith",
         [
          "sturdy",
          "sand-stream",
          "sand-force"
         ],
         258,
         17,
         {
          "attack": 135,
          "defense": 130,
          "hp": 85,
          "special-attack": 60,
          "special-defense": 80,
          "speed": 25
         },
         [
          "rock"
         ],
         2600
        ],
        [
         527,
         "woobat",
         [
          "unaware",
          "klutz",
          "simple"
         ],
         65,
         4,
         {
          "attack": 45,
          "defense": 43,
          "hp": 65,
          "special-attack": 55,
          "special-defense": 43,
          "speed": 72
         },
         [
          "psychic",
          "flying"
         ],
         21
        ],
        [
         528,
         "swoobat",
         [
          "unaware",
          "klutz",
          "simple"
         ],
         149,
         9,
         {
          "attack": 57,
          "defense": 55,
          "hp": 67,
          "special-attack": 77,
          "special-defense": 55,
          "speed": 114
         },
         [
          "psychic",
          "flying"
         ],
         105
        ],
        [
         529,
         "drilbur",
         [
          "sand-rush",
          "sand-force",
          "mold-breaker"
         ],
         66,
         3,
         {
          "attack": 85,
          "defense": 40,
          "hp": 60,
          "special-attack": 30,
          "special-defense": 45,
          "speed": 68
         },
         [
          "ground"
         ],
         85
        ],
        [
         530,
         "excadrill",
         [
          "sand-rush",
          "sand-force",
          "mold-breaker"
         ],
         178,
         7,
         {
          "attack": 135,
          "defense": 60,
          "hp": 110,
          "special-attack": 50,
          "special-defense": 65,
          "speed": 88
         },
         [
          "ground",
          "steel"
         ],
         404
        ],
        [
         531,
         "audino",
         [
          "healer",
          "regenerator",
          "klutz"
         ],
         390,
         11,
         {
          "attack": 60,
          "defense": 86,
          "hp": 103,
          "special-attack": 60,
          "special-defense": 86,
          "speed": 50
         },
         [
          "normal"
         ],
         310
        ],
        [
         532,
         "timburr",
         [
          "guts",
          "sheer-force",
          "iron-fist"
         ],
         61,
         6,
         {
          "attack": 80,
          "defense": 55,
          "hp": 75,
          "special-attack": 25,
          "special-defense": 35,
          "speed": 35
         },
         [
          "fighting"
         ],
         125
        ],
        [
         533,
         "gurdurr",
         [
          "guts",
          "sheer-force",
          "iron-fist"
         ],
         142,
         12,
         {
          "attack": 105,
          "defense": 85,
          "hp": 85,
          "special-attack": 40,
          "special-defense": 50,
          "speed": 40
         },
         [
          "fighting"
         ],
         400
        ],
        [
         534,
         "conkeldurr",
         [
          "guts",
          "sheer-force",
          "iron-fist"
         ],
         253,
         14,
         {
          "attack": 140,
          "defense": 95,
          "hp": 105,
          "special-attack": 55,
          "special-defense": 65,
          "speed": 45
         },
         [
          "fighting"
         ],
         870
        ],
        [
         535,
         "tympole",
         [
          "swift-swim",
          "hydration",
          "water-absorb"
         ],
         59,
         5,
         {
          "attack": 50,
          "defense": 40,
          "hp": 50,
          "special-attack": 50,
          "special-defense": 40,
          "speed": 64
         },
         [
          "water"
         ],
         45
        ],
        [
         536,
         "palpitoad",
         [
          "swift-swim",
          "hydration",
          "water-absorb"
         ],
         134,
         8,
         {
          "attack": 65,
          "defense": 55,
          "hp": 75,
          "special-attack": 65,
          "special-defense": 55,
          "speed": 69
         },
         [
          "water",
          "ground"
         ],
         170
        ],
        [
         537,
         "seismitoad",
         [
          "swift-swim",
          "poison-touch",
          "water-absorb"
         ],
         255,
         15,
         {
          "attack": 95,
          "defense": 75,
          "hp": 105,
          "special-attack": 85,
          "special-defense": 75,
          "speed": 74
         },
         [
          "water",
          "ground"
         ],
         620
        ],
        [
         538,
         "throh",
         [
          "guts",
          "inner-focus",
          "mold-breaker"
         ],
         163,
         13,
         {
          "attack": 100,
          "defense": 85,
          "hp": 120,
          "special-attack": 30,
          "special-defense": 85,
          "speed": 45
         },
         [
          "fighting"
         ],
         555
        ],
        [
         539,
         "sawk",
         [
          "sturdy",
          "inner-focus",
          "mold-breaker"
         ],
         163,
         14,
         {
          "attack": 125,
          "defense": 75,
          "hp": 75,
          "special-attack": 30,
          "special-defense": 75,
          "speed": 85
         },
         [
          "fighting"
         ],
         510
        ],
        [
         540,
         "sewaddle",
         [
          "swarm",
          "chlorophyll",
          "overcoat"
         ],
         62,
         3,
         {
          "attack": 53,
          "defense": 70,
          "hp": 45,
          "special-attack": 40,
          "special-defense": 60,
          "speed": 42
         },
         [
          "bug",
          "grass"
         ],
         25
        ],
        [
         541,
         "swadloon",
         [
          "leaf-guard",
          "chlorophyll",
          "overcoat"
         ],
         133,
         5,
         {
          "attack": 63,
          "defense": 90,
          "hp": 55,
          "special-attack": 50,
          "special-defense": 80,
          "speed": 42
         },
         [
          "bug",
          "grass"
         ],
         73
        ],
        [
         542,
         "leavanny",
         [
          "swarm",
          "chlorophyll",
          "overcoat"
         ],
         225,
         12,
         {
          "attack": 103,
          "defense": 80,
          "hp": 75,
          "special-attack": 70,
          "special-defense": 80,
          "speed": 92
         },
         [
          "bug",
          "grass"
         ],
         205
        ],
        [
         543,
         "venipede",
         [
          "poison-point",
          "swarm",
          "speed-boost"
         ],
         52,
         4,
         {
          "attack": 45,
          "defense": 59,
          "hp": 30,
          "special-attack": 30,
          "special-defense": 39,
          "speed": 57
         },
         [
          "bug",
          "poison"
         ],
         53
        ],
        [
         544,
         "whirlipede",
         [
          "poison-point",
          "swarm",
          "speed-boost"
         ],
         126,
         12,
         {
          "attack": 55,
          "defense": 99,
          "hp": 40,
          "special-attack": 40,
          "special-defense": 79,
          "speed": 47
         },
         [
          "bug",
          "poison"
         ],
         585
        ],
        [
         545,
         "scolipede",
         [
          "poison-point",
          "swarm",
          "speed-boost"
         ],
         243,
         25,
         {
          "attack": 100,
          "defense": 89,
          "hp": 60,
          "special-attack": 55,
          "special-defense": 69,
          "speed": 112
         },
         [
          "bug",
          "poison"
         ],
         2005
        ],
        [
         546,
         "cottonee",
         [
          "prankster",
          "infiltrator",
          "chlorophyll"
         ],
         56,
         3,
         {
          "attack": 27,
          "defense": 60,
          "hp": 40,
          "special-attack": 37,
          "special-defense": 50,
          "speed": 66
         },
         [
          "grass",
          "fairy"
         ],
         6
        ],
        [
         547,
         "whimsicott",
         [
          "prankster",
          "infiltrator",
          "chlorophyll"
         ],
         168,
         7,
         {
          "attack": 67,
          "defense": 85,
          "hp": 60,
          "special-attack": 77,
          "special-defense": 75,
          "speed": 116
         },
         [
          "grass",
          "fairy"
         ],
         66
        ],
        [
         548,
         "petilil",
         [
          "chlorophyll",
          "own-tempo",
          "leaf-guard"
         ],
         56,
         5,
         {
          "attack": 35,
          "defense": 50,
          "hp": 45,
          "special-attack": 70,
          "special-defense": 50,
          "speed": 30
         },
         [
          "grass"
         ],
         66
        ],
        [
         549,
         "lilligant",
         [
          "chlorophyll",
          "own-tempo",
          "leaf-guard"
         ],
         168,
         11,
         {
          "attack": 60,
          "defense": 75,
          "hp": 70,
          "special-attack": 110,
          "special-defense": 75,
          "speed": 90
         },
         [
          "grass"
         ],
         163
        ],
        [
         550,
         "basculin-red-striped",
         [
          "reckless",
          "adaptability",
          "mold-breaker"
         ],
         161,
         10,
         {
          "attack": 92,
          "defense": 65,
          "hp": 70,
          "special-attack": 80,
          "special-defense": 55,
          "speed": 98
         },
         [
          "water"
         ],
         180
        ],
        [
         551,
         "sandile",
         [
          "intimidate",
          "moxie",
          "anger-point"
         ],
         58,
         7,
         {
          "attack": 72,
          "defense": 35,
          "hp": 50,
          "special-attack": 35,
          "special-defense": 35,
          "speed": 65
         },
         [
          "ground",
          "dark"
         ],
         152
        ],
        [
         552,
         "krokorok",
         [
          "intimidate",
          "moxie",
          "anger-point"
         ],
         123,
         10,
         {
          "attack": 82,
          "defense": 45,
          "hp": 60,
          "special-attack": 45,
          "special-defense": 45,
          "speed": 74
         },
         [
          "ground",
          "dark"
         ],
         334
        ],
        [
         553,
         "krookodile",
         [
          "intimidate",
          "moxie",
          "anger-point"
         ],
         260,
         15,
         {
          "attack": 117,
          "defense": 80,
          "hp": 95,
          "special-attack": 65,
          "special-defense": 70,
          "speed": 92
         },
         [
          "ground",
          "dark"
         ],
         963
        ],
        [
         554,
         "darumaka",
         [
          "hustle",
          "inner-focus"
         ],
         63,
         6,
         {
          "attack": 90,
          "defense": 45,
          "hp": 70,
          "special-attack": 15,
          "special-defense": 45,
          "speed": 50
         },
         [
          "fire"
         ],
         375
        ],
        [
         555,
         "darmanitan-standard",
         [
          "sheer-force",
          "zen-mode"
         ],
         168,
         13,
         {
          "attack": 140,
          "defense": 55,
          "hp": 105,
          "special-attack": 30,
          "special-defense": 55,
          "speed": 95
         },
         [
          "fire"
         ],
         929
        ],
        [
         556,
         "maractus",
         [
          "water-absorb",
          "chlorophyll",
          "storm-drain"
         ],
         161,
         10,
         {
          "attack": 86,
          "defense": 67,
          "hp": 75,
          "special-attack": 106,
          "special-defense": 67,
          "speed": 60
         },
         [
          "grass"
         ],
         280
        ],
        [
         557,
         "dwebble",
         [
          "sturdy",
          "shell-armor",
          "weak-armor"
         ],
         65,
         3,
         {
          "attack": 65,
          "defense": 85,
          "hp": 50,
          "special-attack": 35,
          "special-defense": 35,
          "speed": 55
         },
         [
          "bug",
          "rock"
         ],
         145
        ],
        [
         558,
         "crustle",
         [
          "sturdy",
          "shell-armor",
          "weak-armor"
         ],
         170,
         14,
         {
          "attack": 105,
          "defense": 125,
          "hp": 70,
          "special-attack": 65,
          "special-defense": 75,
          "speed": 45
         },
         [
          "bug",
          "rock"
         ],
         2000
        ],
        [
         559,
         "scraggy",
         [
          "shed-skin",
          "moxie",
          "intimidate"
         ],
         70,
         6,
         {
          "attack": 75,
          "defense": 70,
          "hp": 50,
          "special-attack": 35,
          "special-defense": 70,
          "speed": 48
         },
         [
          "dark",
          "fighting"
         ],
         118
        ],
        [
         560,
         "scrafty",
         [
          "shed-skin",
          "moxie",
          "intimidate"
         ],
         171,
         11,
         {
          "attack": 90,
          "defense": 115,
          "hp": 65,
          "special-attack": 45,
          "special-defense": 115,
          "speed": 58
         },
         [
          "dark",
          "fighting"
         ],
         300
        ],
        [
         561,
         "sigilyph",
         [
          "wonder-skin",
          "magic-guard",
          "tinted-lens"
         ],
         172,
         14,
         {
          "attack": 58,
          "defense": 80,
          "hp": 72,
          "special-attack": 103,
          "special-defense": 80,
          "speed": 97
         },
         [
          "psychic",
          "flying"
         ],
         140
        ],
        [
         562,
         "yamask",
         [
          "mummy"
         ],
         61,
         5,
         {
          "attack": 30,
          "defense": 85,
          "hp": 38,
          "special-attack": 55,
          "special-defense": 65,
          "speed": 30
         },
         [
          "ghost"
         ],
         15
        ],
        [
         563,
         "cofagrigus",
         [
          "mummy"
         ],
         169,
         17,
         {
          "attack": 50,
          "defense": 145,
          "hp": 58,
          "special-attack": 95,
          "special-defense": 105,
          "speed": 30
         },
         [
          "ghost"
         ],
         765
        ],
        [
         564,
         "tirtouga",
         [
          "solid-rock",
          "sturdy",
          "swift-swim"
         ],
         71,
         7,
         {
          "attack": 78,
          "defense": 103,
          "hp": 54,
          "special-attack": 53,
          "special-defense": 45,
          "speed": 22
         },
         [
          "water",
          "rock"
         ],
         165
        ],
        [
         565,
         "carracosta",
         [
          "solid-rock",
          "sturdy",
          "swift-swim"
         ],
         173,
         12,
         {
          "attack": 108,
          "defense": 133,
          "hp": 74,
          "special-attack": 83,
          "special-defense": 65,
          "speed": 32
         },
         [
          "water",
          "rock"
         ],
         810
        ],
        [
         566,
         "archen",
         [
          "defeatist"
         ],
         71,
         5,
         {
          "attack": 112,
          "defense": 45,
          "hp": 55,
          "special-attack": 74,
          "special-defense": 45,
          "speed": 70
         },
         [
          "rock",
          "flying"
         ],
         95
        ],
        [
         567,
         "archeops",
         [
          "defeatist"
         ],
         177,
         14,
         {
          "attack": 140,
          "defense": 65,
          "hp": 75,
          "special-attack": 112,
          "special-defense": 65,
          "speed": 110
         },
         [
          "rock",
          "flying"
         ],
         320
        ],
        [
         568,
         "trubbish",
         [
          "stench",
          "sticky-hold",
          "aftermath"
         ],
         66,
         6,
         {
          "attack": 50,
          "defense": 62,
          "hp": 50,
          "special-attack": 40,
          "special-defense": 62,
          "speed": 65
         },
         [
          "poison"
         ],
         310
        ],
        [
         569,
         "garbodor",
         [
          "stench",
          "weak-armor",
          "aftermath"
         ],
         166,
         19,
         {
          "attack": 95,
          "defense": 82,
          "hp": 80,
          "special-attack": 60,
          "special-defense": 82,
          "speed": 75
         },
         [
          "poison"
         ],
         1073
        ],
        [
         570,
         "zorua",
         [
          "illusion"
         ],
         66,
         7,
         {
          "attack": 65,
          "defense": 40,
          "hp": 40,
          "special-attack": 80,
          "special-defense": 40,
          "speed": 65
         },
         [
          "dark"
         ],
         125
        ],
        [
         571,
         "zoroark",
         [
          "illusion"
         ],
         179,
         16,
         {
          "attack": 105,
          "defense": 60,
          "hp": 60,
          "special-attack": 120,
          "special-defense": 60,
          "speed": 105
         },
         [
          "dark"
         ],
         811
        ],
        [
         572,
         "minccino",
         [
          "cute-charm",
          "technician",
          "skill-link"
         ],
         60,
         4,
         {
          "attack": 50,
          "defense": 40,
          "hp": 55,
          "special-attack": 40,
          "special-defense": 40,
          "speed": 75
         },
         [
          "normal"
         ],
         58
        ],
        [
         573,
         "cinccino",
         [
          "cute-charm",
          "technician",
          "skill-link"
         ],
         165,
         5,
         {
          "attack": 95,
          "defense": 60,
          "hp": 75,
          "special-attack": 65,
          "special-defense": 60,
          "speed": 115
         },
         [
          "normal"
         ],
         75
        ],
        [
         574,
         "gothita",
         [
          "frisk",
          "competitive",
          "shadow-tag"
         ],
         58,
         4,
         {
          "attack": 30,
          "defense": 50,
          "hp": 45,
          "special-attack": 55,
          "special-defense": 65,
          "speed": 45
         },
         [
          "psychic"
         ],
         58
        ],
        [
         575,
         "gothorita",
         [
          "frisk",
          "competitive",
          "shadow-tag"
         ],
         137,
         7,
         {
          "attack": 45,
          "defense": 70,
          "hp": 60,
          "special-attack": 75,
          "special-defense": 85,
          "speed": 55
         },
         [
          "psychic"
         ],
         180
        ],
        [
         576,
         "gothitelle",
         [
          "frisk",
          "competitive",
          "shadow-tag"
         ],
         245,
         15,
         {
          "attack": 55,
          "defense": 95,
          "hp": 70,
          "special-attack": 95,
          "special-defense": 110,
          "speed": 65
         },
         [
          "psychic"
         ],
         440
        ],
        [
         577,
         "solosis",
         [
          "overcoat",
          "magic-guard",
          "regenerator"
         ],
         58,
         3,
         {
          "attack": 30,
          "defense": 40,
          "hp": 45,
          "special-attack": 105,
          "special-defense": 50,
          "speed": 20
         },
         [
          "psychic"
         ],
         10
        ],
        [
         578,
         "duosion",
         [
          "overcoat",
          "magic-guard",
          "regenerator"
         ],
         130,
         6,
         {
          "attack": 40,
          "defense": 50,
          "hp": 65,
          "special-attack": 125,
          "special-defense": 60,
          "speed": 30
         },
         [
          "psychic"
         ],
         80
        ],
        [
         579,
         "reuniclus",
         [
          "overcoat",
          "magic-guard",
          "regenerator"
         ],
         245,
         10,
         {
          "attack": 65,
          "defense": 75,
          "hp": 110,
          "special-attack": 125,
          "special-defense": 85,
          "speed": 30
         },
         [
          "psychic"
         ],
         201
        ],
        [
         580,
         "ducklett",
         [
          "keen-eye",
          "big-pecks",
          "hydration"
         ],
         61,
         5,
         {
          "attack": 44,
          "defense": 50,
          "hp": 62,
          "special-attack": 44,
          "special-defense": 50,
          "speed": 55
         },
         [
          "water",
          "flying"
         ],
         55
        ],
        [
         581,
         "swanna",
         [
          "keen-eye",
          "big-pecks",
          "hydration"
         ],
         166,
         13,
         {
          "attack": 87,
          "defense": 63,
          "hp": 75,
          "special-attack": 87,
          "special-defense": 63,
          "speed": 98
         },
         [
          "water",
          "flying"
         ],
         242
        ],
        [
         582,
         "vanillite",
         [
          "ice-body",
          "snow-cloak",
          "weak-armor"
         ],
         61,
         4,
         {
          "attack": 50,
          "defense": 50,
          "hp": 36,
          "special-attack": 65,
          "special-defense": 60,
          "speed": 44
         },
         [
          "ice"
         ],
         57
        ],
        [
         583,
         "vanillish",
         [
          "ice-body",
          "snow-cloak",
          "weak-armor"
         ],
         138,
         11,
         {
          "attack": 65,
          "defense": 65,
          "hp": 51,
          "special-attack": 80,
          "special-defense": 75,
          "speed": 59
         },
         [
          "ice"
         ],
         410
        ],
        [
         584,
         "vanilluxe",
         [
          "ice-body",
          "snow-warning",
          "weak-armor"
         ],
         268,
         13,
         {
          "attack": 95,
          "defense": 85,
          "hp": 71,
          "special-attack": 110,
          "special-defense": 95,
          "speed": 79
         },
         [
          "ice"
         ],
         575
        ],
        [
         585,
         "deerling",
         [
          "chlorophyll",
          "sap-sipper",
          "serene-grace"
         ],
         67,
         6,
         {
          "attack": 60,
          "defense": 50,
          "hp": 60,
          "special-attack": 40,
          "special-defense": 50,
          "speed": 75
         },
         [
          "normal",
          "grass"
         ],
         195
        ],
        [
         586,
         "sawsbuck",
         [
          "chlorophyll",
          "sap-sipper",
          "serene-grace"
         ],
         166,
         19,
         {
          "attack": 100,
          "defense": 70,
          "hp": 80,
          "special-attack": 60,
          "special-defense": 70,
          "speed": 95
         },
         [
          "normal",
          "grass"
         ],
         925
        ],
        [
         587,
         "emolga",
         [
          "static",
          "motor-drive"
         ],
         150,
         4,
         {
          "attack": 75,
          "defense": 60,
          "hp": 55,
          "special-attack": 75,
          "special-defense": 60,
          "speed": 103
         },
         [
          "electric",
          "flying"
         ],
         50
        ],
        [
         588,
         "karrablast",
         [
          "swarm",
          "shed-skin",
          "no-guard"
         ],
         63,
         5,
         {
          "attack": 75,
          "defense": 45,
          "hp": 50,
          "special-attack": 40,
          "special-defense": 45,
          "speed": 60
         },
         [
          "bug"
         ],
         59
        ],
        [
         589,
         "escavalier",
         [
          "swarm",
          "shell-armor",
          "overcoat"
         ],
         173,
         10,
         {
          "attack": 135,
          "defense": 105,
          "hp": 70,
          "special-attack": 60,
          "special-defense": 105,
          "speed": 20
         },
         [
          "bug",
          "steel"
         ],
         330
        ],
        [
         590,
         "foongus",
         [
          "effect-spore",
          "regenerator"
         ],
         59,
         2,
         {
          "attack": 55,
          "defense": 45,
          "hp": 69,
          "special-attack": 55,
          "special-defense": 55,
          "speed": 15
         },
         [
          "grass",
          "poison"
         ],
         10
        ],
        [
         591,
         "amoonguss",
         [
          "effect-spore",
          "regenerator"
         ],
         162,
         6,
         {
          "attack": 85,
          "defense": 70,
          "hp": 114,
          "special-attack": 85,
          "special-defense": 80,
          "speed": 30
         },
         [
          "grass",
          "poison"
         ],
         105
        ],
        [
         592,
         "frillish",
         [
          "water-absorb",
          "cursed-body",
          "damp"
         ],
         67,
         12,
         {
          "attack": 40,
          "defense": 50,
          "hp": 55,
          "special-attack": 65,
          "special-defense": 85,
          "speed": 40
         },
         [
          "water",
          "ghost"
         ],
         330
        ],
        [
         593,
         "jellicent",
         [
          "water-absorb",
          "cursed-body",
          "damp"
         ],
         168,
         22,
         {
          "attack": 60,
          "defense": 70,
          "hp": 100,
          "special-attack": 85,
          "special-defense": 105,
          "speed": 60
         },
         [
          "water",
          "ghost"
         ],
         1350
        ],
        [
         594,
         "alomomola",
         [
          "healer",
          "hydration",
          "regenerator"
         ],
         165,
         12,
         {
          "attack": 75,
          "defense": 80,
          "hp": 165,
          "special-attack": 40,
          "special-defense": 45,
          "speed": 65
         },
         [
          "water"
         ],
         316
        ],
        [
         595,
         "joltik",
         [
          "compound-eyes",
          "unnerve",
          "swarm"
         ],
         64,
         1,
         {
          "attack": 47,
          "defense": 50,
          "hp": 50,
          "special-attack": 57,
          "special-defense": 50,
          "speed": 65
         },
         [
          "bug",
          "electric"
         ],
         6
        ],
        [
         596,
         "galvantula",
         [
          "compound-eyes",
          "unnerve",
          "swarm"
         ],
         165,
         8,
         {
          "attack": 77,
          "defense": 60,
          "hp": 70,
          "special-attack": 97,
          "special-defense": 60,
          "speed": 108
         },
         [
          "bug",
          "electric"
         ],
         143
        ],
        [
         597,
         "ferroseed",
         [
          "iron-barbs"
         ],
         61,
         6,
         {
          "attack": 50,
          "defense": 91,
          "hp": 44,
          "special-attack": 24,
          "special-defense": 86,
          "speed": 10
         },
         [
          "grass",
          "steel"
         ],
         188
        ],
        [
         598,
         "ferrothorn",
         [
          "iron-barbs",
          "anticipation"
         ],
         171,
         10,
         {
          "attack": 94,
          "defense": 131,
          "hp": 74,
          "special-attack": 54,
          "special-defense": 116,
          "speed": 20
         },
         [
          "grass",
          "steel"
         ],
         1100
        ],
        [
         599,
         "klink",
         [
          "plus",
          "minus",
          "clear-body"
         ],
         60,
         3,
         {
          "attack": 55,
          "defense": 70,
          "hp": 40,
          "special-attack": 45,
          "special-defense": 60,
          "speed": 30
         },
         [
          "steel"
         ],
         210
        ],
        [
         600,
         "klang",
         [
          "plus",
          "minus",
          "clear-body"
         ],
         154,
         6,
         {
          "attack": 80,
          "defense": 95,
          "hp": 60,
          "special-attack": 70,
          "special-defense": 85,
          "speed": 50
         },
         [
          "steel"
         ],
         510
        ],
        [
         601,
         "klinklang",
         [
          "plus",
          "minus",
          "clear-body"
         ],
         260,
         6,
         {
          "attack": 100,
          "defense": 115,
          "hp": 60,
          "special-attack": 70,
          "special-defense": 85,
          "speed": 90
         },
         [
          "steel"
         ],
         810
        ],
        [
         602,
         "tynamo",
         [
          "levitate"
         ],
         55,
         2,
         {
          "attack": 55,
          "defense": 40,
          "hp": 35,
          "special-attack": 45,
          "special-defense": 40,
          "speed": 60
         },
         [
          "electric"
         ],
         3
        ],
        [
         603,
         "eelektrik",
         [
          "levitate"
         ],
         142,
         12,
         {
          "attack": 85,
          "defense": 70,
          "hp": 65,
          "special-attack": 75,
          "special-defense": 70,
          "speed": 40
         },
         [
          "electric"
         ],
         220
        ],
        [
         604,
         "eelektross",
         [
          "levitate"
         ],
         232,
         21,
         {
          "attack": 115,
          "defense": 80,
          "hp": 85,
          "special-attack": 105,
          "special-defense": 80,
          "speed": 50
         },
         [
          "electric"
         ],
         805
        ],
        [
         605,
         "elgyem",
         [
          "telepathy",
          "synchronize",
          "analytic"
         ],
         67,
         5,
         {
          "attack": 55,
          "defense": 55,
          "hp": 55,
          "special-attack": 85,
          "special-defense": 55,
          "speed": 30
         },
         [
          "psychic"
         ],
         90
        ],
        [
         606,
         "beheeyem",
         [
          "telepathy",
          "synchronize",
          "analytic"
         ],
         170,
         10,
         {
          "attack": 75,
          "defense": 75,
          "hp": 75,
          "special-attack": 125,
          "special-defense": 95,
          "speed": 40
         },
         [
          "psychic"
         ],
         345
        ],
        [
         607,
         "litwick",
         [
          "flash-fire",
          "flame-body",
          "infiltrator"
         ],
         55,
         3,
         {
          "attack": 30,
          "defense": 55,
          "hp": 50,
          "special-attack": 65,
          "special-defense": 55,
          "speed": 20
         },
         [
          "ghost",
          "fire"
         ],
         31
        ],
        [
         608,
         "lampent",
         [
          "flash-fire",
          "flame-body",
          "infiltrator"
         ],
         130,
         6,
         {
          "attack": 40,
          "defense": 60,
          "hp": 60,
          "special-attack": 95,
          "special-defense": 60,
          "speed": 55
         },
         [
          "ghost",
          "fire"
         ],
         130
        ],
        [
         609,
         "chandelure",
         [
          "flash-fire",
          "flame-body",
          "infiltrator"
         ],
         260,
         10,
         {
          "attack": 55,
          "defense": 90,
          "hp": 60,
          "special-attack": 145,
          "special-defense": 90,
          "speed": 80
         },
         [
          "ghost",
          "fire"
         ],
         343
        ],
        [
         610,
         "axew",
         [
          "rivalry",
          "mold-breaker",
          "unnerve"
         ],
         64,
         6,
         {
          "attack": 87,
          "defense": 60,
          "hp": 46,
          "special-attack": 30,
          "special-defense": 40,
          "speed": 57
         },
         [
          "dragon"
         ],
         180
        ],
        [
         611,
         "fraxure",
         [
          "rivalry",
          "mold-breaker",
          "unnerve"
         ],
         144,
         10,
         {
          "attack": 117,
          "defense": 70,
          "hp": 66,
          "special-attack": 40,
          "special-defense": 50,
          "speed": 67
         },
         [
          "dragon"
         ],
         360
        ],
        [
         612,
         "haxorus",
         [
          "rivalry",
          "mold-breaker",
          "unnerve"
         ],
         270,
         18,
         {
          "attack": 147,
          "defense": 90,
          "hp": 76,
          "special-attack": 60,
          "special-defense": 70,
          "speed": 97
         },
         [
          "dragon"
         ],
         1055
        ],
        [
         613,
         "cubchoo",
         [
          "snow-cloak",
          "slush-rush",
          "rattled"
         ],
         61,
         5,
         {
          "attack": 70,
          "defense": 40,
          "hp": 55,
          "special-attack": 60,
          "special-defense": 40,
          "speed": 40
         },
         [
          "ice"
         ],
         85
        ],
        [
         614,
         "beartic",
         [
          "snow-cloak",
          "slush-rush",
          "swift-swim"
         ],
         177,
         26,
         {
          "attack": 130,
          "defense": 80,
          "hp": 95,
          "special-attack": 70,
          "special-defense": 80,
          "speed": 50
         },
         [
          "ice"
         ],
         2600
        ],
        [
         615,
         "cryogonal",
         [
          "levitate"
         ],
         180,
         11,
         {
          "attack": 50,
          "defense": 50,
          "hp": 80,
          "special-attack": 95,
          "special-defense": 135,
          "speed": 105
         },
         [
          "ice"
         ],
         1480
        ],
        [
         616,
         "shelmet",
         [
          "hydration",
          "shell-armor",
          "overcoat"
         ],
         61,
         4,
         {
          "attack": 40,
          "defense": 85,
          "hp": 50,
          "special-attack": 40,
          "special-defense": 65,
          "speed": 25
         },
         [
          "bug"
         ],
         77
        ],
        [
         617,
         "accelgor",
         [
          "hydration",
          "sticky-hold",
          "unburden"
         ],
         173,
         8,
         {
          "attack": 70,
          "defense": 40,
          "hp": 80,
          "special-attack": 100,
          "special-defense": 60,
          "speed": 145
         },
         [
          "bug"
         ],
         253
        ],
        [
         618,
         "stunfisk",
         [
          "static",
          "limber",
          "sand-veil"
         ],
         165,
         7,
         {
          "attack": 66,
          "defense": 84,
          "hp": 109,
          "special-attack": 81,
          "special-defense": 99,
          "speed": 32
         },
         [
          "ground",
          "electric"
         ],
         110
        ],
        [
         619,
         "mienfoo",
         [
          "inner-focus",
          "regenerator",
          "reckless"
         ],
         70,
         9,
         {
          "attack": 85,
          "defense": 50,
          "hp": 45,
          "special-attack": 55,
          "special-defense": 50,
          "speed": 65
         },
         [
          "fighting"
         ],
         200
        ],
        [
         620,
         "mienshao",
         [
          "inner-focus",
          "regenerator",
          "reckless"
         ],
         179,
         14,
         {
          "attack": 125,
          "defense": 60,
          "hp": 65,
          "special-attack": 95,
          "special-defense": 60,
          "speed": 105
         },
         [
          "fighting"
         ],
         355
        ],
        [
         621,
         "druddigon",
         [
          "rough-skin",
          "sheer-force",
          "mold-breaker"
         ],
         170,
         16,
         {
          "attack": 120,
          "defense": 90,
          "hp": 77,
          "special-attack": 60,
          "special-defense": 90,
          "speed": 48
         },
         [
          "dragon"
         ],
         1390
        ],
        [
         622,
         "golett",
         [
          "iron-fist",
          "klutz",
          "no-guard"
         ],
         61,
         10,
         {
          "attack": 74,
          "defense": 50,
          "hp": 59,
          "special-attack": 35,
          "special-defense": 50,
          "speed": 35
         },
         [
          "ground",
          "ghost"
         ],
         920
        ],
        [
         623,
         "golurk",
         [
          "iron-fist",
          "klutz",
          "no-guard"
         ],
         169,
         28,
         {
          "attack": 124,
          "defense": 80,
          "hp": 89,
          "special-attack": 55,
          "special-defense": 80,
          "speed": 55
         },
         [
          "ground",
          "ghost"
         ],
         3300
        ],
        [
         624,
         "pawniard",
         [
          "defiant",
          "inner-focus",
          "pressure"
         ],
         68,
         5,
         {
          "attack": 85,
          "defense": 70,
          "hp": 45,
          "special-attack": 40,
          "special-defense": 40,
          "speed": 60
         },
         [
          "dark",
          "steel"
         ],
         102
        ],
        [
         625,
         "bisharp",
         [
          "defiant",
          "inner-focus",
          "pressure"
         ],
         172,
         16,
         {
          "attack": 125,
          "defense": 100,
          "hp": 65,
          "special-attack": 60,
          "special-defense": 70,
          "speed": 70
         },
         [
          "dark",
          "steel"
         ],
         700
        ],
        [
         626,
         "bouffalant",
         [
          "reckless",
          "sap-sipper",
          "soundproof"
         ],
         172,
         16,
         {
          "attack": 110,
          "defense": 95,
          "hp": 95,
          "special-attack": 40,
          "special-defense": 95,
          "speed": 55
         },
         [
          "normal"
         ],
         946
        ],
        [
         627,
         "rufflet",
         [
          "keen-eye",
          "sheer-force",
          "hustle"
         ],
         70,
         5,
         {
          "attack": 83,
          "defense": 50,
          "hp": 70,
          "special-attack": 37,
          "special-defense": 50,
          "speed": 60
         },
         [
          "normal",
          "flying"
         ],
         105
        ],
        [
         628,
         "braviary",
         [
          "keen-eye",
          "sheer-force",
          "defiant"
         ],
         179,
         15,
         {
          "attack": 123,
          "defense": 75,
          "hp": 100,
          "special-attack": 57,
          "special-defense": 75,
          "speed": 80
         },
         [
          "normal",
          "flying"
         ],
         410
        ],
        [
         629,
         "vullaby",
         [
          "big-pecks",
          "overcoat",
          "weak-armor"
         ],
         74,
         5,
         {
          "attack": 55,
          "defense": 75,
          "hp": 70,
          "special-attack": 45,
          "special-defense": 65,
          "speed": 60
         },
         [
          "dark",
          "flying"
         ],
         90
        ],
        [
         630,
         "mandibuzz",
         [
          "big-pecks",
          "overcoat",
          "weak-armor"
         ],
         179,
         12,
         {
          "attack": 65,
          "defense": 105,
          "hp": 110,
          "special-attack": 55,
          "special-defense": 95,
          "speed": 80
         },
         [
          "dark",
          "flying"
         ],
         395
        ],
        [
         631,
         "heatmor",
         [
          "gluttony",
          "flash-fire",
          "white-smoke"
         ],
         169,
         14,
         {
          "attack": 97,
          "defense": 66,
          "hp": 85,
          "special-attack": 105,
          "special-defense": 66,
          "speed": 65
         },
         [
          "fire"
         ],
         580
        ],
        [
         632,
         "durant",
         [
          "swarm",
          "hustle",
          "truant"
         ],
         169,
         3,
         {
          "attack": 109,
          "defense": 112,
          "hp": 58,
          "special-attack": 48,
          "special-defense": 48,
          "speed": 109
         },
         [
          "bug",
          "steel"
         ],
         330
        ],
        [
         633,
         "deino",
         [
          "hustle"
         ],
         60,
         8,
         {
          "attack": 65,
          "defense": 50,
          "hp": 52,
          "special-attack": 45,
          "special-defense": 50,
          "speed": 38
         },
         [
          "dark",
          "dragon"
         ],
         173
        ],
        [
         634,
         "zweilous",
         [
          "hustle"
         ],
         147,
         14,
         {
          "attack": 85,
          "defense": 70,
          "hp": 72,
          "special-attack": 65,
          "special-defense": 70,
          "speed": 58
         },
         [
          "dark",
          "dragon"
         ],
         500
        ],
        [
         635,
         "hydreigon",
         [
          "levitate"
         ],
         300,
         18,
         {
          "attack": 105,
          "defense": 90,
          "hp": 92,
          "special-attack": 125,
          "special-defense": 90,
          "speed": 98
         },
         [
          "dark",
          "dragon"
         ],
         1600
        ],
        [
         636,
         "larvesta",
         [
          "flame-body",
          "swarm"
         ],
         72,
         11,
         {
          "attack": 85,
          "defense": 55,
          "hp": 55,
          "special-attack": 50,
          "special-defense": 55,
          "speed": 60
         },
         [
          "bug",
          "fire"
         ],
         288
        ],
        [
         637,
         "volcarona",
         [
          "flame-body",
          "swarm"
         ],
         275,
         16,
         {
          "attack": 60,
          "defense": 65,
          "hp": 85,
          "special-attack": 135,
          "special-defense": 105,
          "speed": 100
         },
         [
          "bug",
          "fire"
         ],
         460
        ],
        [
         638,
         "cobalion",
         [
          "justified"
         ],
         290,
         21,
         {
          "attack": 90,
          "defense": 129,
          "hp": 91,
          "special-attack": 90,
          "special-defense": 72,
          "speed": 108
         },
         [
          "steel",
          "fighting"
         ],
         2500
        ],
        [
         639,
         "terrakion",
         [
          "justified"
         ],
         290,
         19,
         {
          "attack": 129,
          "defense": 90,
          "hp": 91,
          "special-attack": 72,
          "special-defense": 90,
          "speed": 108
         },
         [
          "rock",
          "fighting"
         ],
         2600
        ],
        [
         640,
         "virizion",
         [
          "justified"
         ],
         290,
         20,
         {
          "attack": 90,
          "defense": 72,
          "hp": 91,
          "special-attack": 90,
          "special-defense": 129,
          "speed": 108
         },
         [
          "grass",
          "fighting"
         ],
         2000
        ],
        [
         641,
         "tornadus-incarnate",
         [
          "prankster",
          "defiant"
         ],
         290,
         15,
         {
          "attack": 115,
          "defense": 70,
          "hp": 79,
          "special-attack": 125,
          "special-defense": 80,
          "speed": 111
         },
         [
          "flying"
         ],
         630
        ],
        [
         642,
         "thundurus-incarnate",
         [
          "prankster",
          "defiant"
         ],
         290,
         15,
         {
          "attack": 115,
          "defense": 70,
          "hp": 79,
          "special-attack": 125,
          "special-defense": 80,
          "speed": 111
         },
         [
          "electric",
          "flying"
         ],
         610
        ],
        [
         643,
         "reshiram",
         [
          "turboblaze"
         ],
         340,
         32,
         {
          "attack": 120,
          "defense": 100,
          "hp": 100,
          "special-attack": 150,
          "special-defense": 120,
          "speed": 90
         },
         [
          "dragon",
          "fire"
         ],
         3300
        ],
        [
         644,
         "zekrom",
         [
          "teravolt"
         ],
         340,
         29,
         {
          "attack": 150,
          "defense": 120,
          "hp": 100,
          "special-attack": 120,
          "special-defense": 100,
          "speed": 90
         },
         [
          "dragon",
          "electric"
         ],
         3450
        ],
        [
         645,
         "landorus-incarnate",
         [
          "sand-force",
          "sheer-force"
         ],
         300,
         15,
         {
          "attack": 125,
          "defense": 90,
          "hp": 89,
          "special-attack": 115,
          "special-defense": 80,
          "speed": 101
         },
         [
          "ground",
          "flying"
         ],
         680
        ],
        [
         646,
         "kyurem",
         [
          "pressure"
         ],
         330,
         30,
         {
          "attack": 130,
          "defense": 90,
          "hp": 125,
          "special-attack": 130,
          "special-defense": 90,
          "speed": 95
         },
         [
          "dragon",
          "ice"
         ],
         3250
        ],
        [
         647,
         "keldeo-ordinary",
         [
          "justified"
         ],
         290,
         14,
         {
          "attack": 72,
          "defense": 90,
          "hp": 91,
          "special-attack": 129,
          "special-defense": 90,
          "speed": 108
         },
         [
          "water",
          "fighting"
         ],
         485
        ],
        [
         648,
         "meloetta-aria",
         [
          "serene-grace"
         ],
         270,
         6,
         {
          "attack": 77,
          "defense": 77,
          "hp": 100,
          "special-attack": 128,
          "special-defense": 128,
          "speed": 90
         },
         [
          "normal",
          "psychic"
         ],
         65
        ],
        [
         649,
         "genesect",
         [
          "download"
         ],
         300,
         15,
         {
          "attack": 120,
          "defense": 95,
          "hp": 71,
          "special-attack": 120,
          "special-defense": 95,
          "speed": 99
         },
         [
          "bug",
          "steel"
         ],
         825
        ],
        [
         650,
         "chespin",
         [
          "overgrow",
          "bulletproof"
         ],
         63,
         4,
         {
          "attack": 61,
          "defense": 65,
          "hp": 56,
          "special-attack": 48,
          "special-defense": 45,
          "speed": 38
         },
         [
          "grass"
         ],
         90
        ],
        [
         651,
         "quilladin",
         [
          "overgrow",
          "bulletproof"
         ],
         142,
         7,
         {
          "attack": 78,
          "defense": 95,
          "hp": 61,
          "special-attack": 56,
          "special-defense": 58,
          "speed": 57
         },
         [
          "grass"
         ],
         290
        ],
        [
         652,
         "chesnaught",
         [
          "overgrow",
          "bulletproof"
         ],
         239,
         16,
         {
          "attack": 107,
          "defense": 122,
          "hp": 88,
          "special-attack": 74,
          "special-defense": 75,
          "speed": 64
         },
         [
          "grass",
          "fighting"
         ],
         900
        ],
        [
         653,
         "fennekin",
         [
          "blaze",
          "magician"
         ],
         61,
         4,
         {
          "attack": 45,
          "defense": 40,
          "hp": 40,
          "special-attack": 62,
          "special-defense": 60,
          "speed": 60
         },
         [
          "fire"
         ],
         94
        ],
        [
         654,
         "braixen",
         [
          "blaze",
          "magician"
         ],
         143,
         10,
         {
          "attack": 59,
          "defense": 58,
          "hp": 59,
          "special-attack": 90,
          "special-defense": 70,
          "speed": 73
         },
         [
          "fire"
         ],
         145
        ],
        [
         655,
         "delphox",
         [
          "blaze",
          "magician"
         ],
         240,
         15,
         {
          "attack": 69,
          "defense": 72,
          "hp": 75,
          "special-attack": 114,
          "special-defense": 100,
          "speed": 104
         },
         [
          "fire",
          "psychic"
         ],
         390
        ],
        [
         656,
         "froakie",
         [
          "torrent",
          "protean"
         ],
         63,
         3,
         {
          "attack": 56,
          "defense": 40,
          "hp": 41,
          "special-attack": 62,
          "special-defense": 44,
          "speed": 71
         },
         [
          "water"
         ],
         70
        ],
        [
         657,
         "frogadier",
         [
          "torrent",
          "protean"
         ],
         142,
         6,
         {
          "attack": 63,
          "defense": 52,
          "hp": 54,
          "special-attack": 83,
          "special-defense": 56,
          "speed": 97
         },
         [
          "water"
         ],
         109
        ],
        [
         658,
         "greninja",
         [
          "torrent",
          "protean"
         ],
         239,
         15,
         {
          "attack": 95,
          "defense": 67,
          "hp": 72,
          "special-attack": 103,
          "special-defense": 71,
          "speed": 122
         },
         [
          "water",
          "dark"
         ],
         400
        ],
        [
         659,
         "bunnelby",
         [
          "pickup",
          "cheek-pouch",
          "huge-power"
         ],
         47,
         4,
         {
          "attack": 36,
          "defense": 38,
          "hp": 38,
          "special-attack": 32,
          "special-defense": 36,
          "speed": 57
         },
         [
          "normal"
         ],
         50
        ],
        [
         660,
         "diggersby",
         [
          "pickup",
          "cheek-pouch",
          "huge-power"
         ],
         148,
         10,
         {
          "attack": 56,
          "defense": 77,
          "hp": 85,
          "special-attack": 50,
          "special-defense": 77,
          "speed": 78
         },
         [
          "normal",
          "ground"
         ],
         424
        ],
        [
         661,
         "fletchling",
         [
          "big-pecks",
          "gale-wings"
         ],
         56,
         3,
         {
          "attack": 50,
          "defense": 43,
          "hp": 45,
          "special-attack": 40,
          "special-defense": 38,
          "speed": 62
         },
         [
          "normal",
          "flying"
         ],
         17
        ],
        [
         662,
         "fletchinder",
         [
          "flame-body",
          "gale-wings"
         ],
         134,
         7,
         {
          "attack": 73,
          "defense": 55,
          "hp": 62,
          "special-attack": 56,
          "special-defense": 52,
          "speed": 84
         },
         [
          "fire",
          "flying"
         ],
         160
        ],
        [
         663,
         "talonflame",
         [
          "flame-body",
          "gale-wings"
         ],
         175,
         12,
         {
          "attack": 81,
          "defense": 71,
          "hp": 78,
          "special-attack": 74,
          "special-defense": 69,
          "speed": 126
         },
         [
          "fire",
          "flying"
         ],
         245
        ],
        [
         664,
         "scatterbug",
         [
          "shield-dust",
          "compound-eyes",
          "friend-guard"
         ],
         40,
         3,
         {
          "attack": 35,
          "defense": 40,
          "hp": 38,
          "special-attack": 27,
          "special-defense": 25,
          "speed": 35
         },
         [
          "bug"
         ],
         25
        ],
        [
         665,
         "spewpa",
         [
          "shed-skin",
          "friend-guard"
         ],
         75,
         3,
         {
          "attack": 22,
          "defense": 60,
          "hp": 45,
          "special-attack": 27,
          "special-defense": 30,
          "speed": 29
         },
         [
          "bug"
         ],
         84
        ],
        [
         666,
         "vivillon",
         [
          "shield-dust",
          "compound-eyes",
          "friend-guard"
         ],
         185,
         12,
         {
          "attack": 52,
          "defense": 50,
          "hp": 80,
          "special-attack": 90,
          "special-defense": 50,
          "speed": 89
         },
         [
          "bug",
          "flying"
         ],
         170
        ],
        [
         667,
         "litleo",
         [
          "rivalry",
          "unnerve",
          "moxie"
         ],
         74,
         6,
         {
          "attack": 50,
          "defense": 58,
          "hp": 62,
          "special-attack": 73,
          "special-defense": 54,
          "speed": 72
         },
         [
          "fire",
          "normal"
         ],
         135
        ],
        [
         668,
         "pyroar",
         [
          "rivalry",
          "unnerve",
          "moxie"
         ],
         177,
         15,
         {
          "attack": 68,
          "defense": 72,
          "hp": 86,
          "special-attack": 109,
          "special-defense": 66,
          "speed": 106
         },
         [
          "fire",
          "normal"
         ],
         815
        ],
        [
         669,
         "flabebe",
         [
          "flower-veil",
          "symbiosis"
         ],
         61,
         1,
         {
          "attack": 38,
          "defense": 39,
          "hp": 44,
          "special-attack": 61,
          "special-defense": 79,
          "speed": 42
         },
         [
          "fairy"
         ],
         1
        ],
        [
         670,
         "floette",
         [
          "flower-veil",
          "symbiosis"
         ],
         130,
         2,
         {
          "attack": 45,
          "defense": 47,
          "hp": 54,
          "special-attack": 75,
          "special-defense": 98,
          "speed": 52
         },
         [
          "fairy"
         ],
         9
        ],
        [
         671,
         "florges",
         [
          "flower-veil",
          "symbiosis"
         ],
         248,
         11,
         {
          "attack": 65,
          "defense": 68,
          "hp": 78,
          "special-attack": 112,
          "special-defense": 154,
          "speed": 75
         },
         [
          "fairy"
         ],
         100
        ],
        [
         672,
         "skiddo",
         [
          "sap-sipper",
          "grass-pelt"
         ],
         70,
         9,
         {
          "attack": 65,
          "defense": 48,
          "hp": 66,
          "special-attack": 62,
          "special-defense": 57,
          "speed": 52
         },
         [
          "grass"
         ],
         310
        ],
        [
         673,
         "gogoat",
         [
          "sap-sipper",
          "grass-pelt"
         ],
         186,
         17,
         {
          "attack": 100,
          "defense": 62,
          "hp": 123,
          "special-attack": 97,
          "special-defense": 81,
          "speed": 68
         },
         [
          "grass"
         ],
         910
        ],
        [
         674,
         "pancham",
         [
          "iron-fist",
          "mold-breaker",
          "scrappy"
         ],
         70,
         6,
         {
          "attack": 82,
          "defense": 62,
          "hp": 67,
          "special-attack": 46,
          "special-defense": 48,
          "speed": 43
         },
         [
          "fighting"
         ],
         80
        ],
        [
         675,
         "pangoro",
         [
          "iron-fist",
          "mold-breaker",
          "scrappy"
         ],
         173,
         21,
         {
          "attack": 124,
          "defense": 78,
          "hp": 95,
          "special-attack": 69,
          "special-defense": 71,
          "speed": 58
         },
         [
          "fighting",
          "dark"
         ],
         1360
        ],
        [
         676,
         "furfrou",
         [
          "fur-coat"
         ],
         165,
         12,
         {
          "attack": 80,
          "defense": 60,
          "hp": 75,
          "special-attack": 65,
          "special-defense": 90,
          "speed": 102
         },
         [
          "normal"
         ],
         280
        ],
        [
         677,
         "espurr",
         [
          "keen-eye",
          "infiltrator",
          "own-tempo"
         ],
         71,
         3,
         {
          "attack": 48,
          "defense": 54,
          "hp": 62,
          "special-attack": 63,
          "special-defense": 60,
          "speed": 68
         },
         [
          "psychic"
         ],
         35
        ],
        [
         678,
         "meowstic-male",
         [
          "keen-eye",
          "infiltrator",
          "prankster"
         ],
         163,
         6,
         {
          "attack": 48,
          "defense": 76,
          "hp": 74,
          "special-attack": 83,
          "special-defense": 81,
          "speed": 104
         },
         [
          "psychic"
         ],
         85
        ],
        [
         679,
         "honedge",
         [
          "no-guard"
         ],
         65,
         8,
         {
          "attack": 80,
          "defense": 100,
          "hp": 45,
          "special-attack": 35,
          "special-defense": 37,
          "speed": 28
         },
         [
          "steel",
          "ghost"
         ],
         20
        ],
        [
         680,
         "doublade",
         [
          "no-guard"
         ],
         157,
         8,
         {
          "attack": 110,
          "defense": 150,
          "hp": 59,
          "special-attack": 45,
          "special-defense": 49,
          "speed": 35
         },
         [
          "steel",
          "ghost"
         ],
         45
        ],
        [
         681,
         "aegislash-shield",
         [
          "stance-change"
         ],
         250,
         17,
         {
          "attack": 50,
          "defense": 140,
          "hp": 60,
          "special-attack": 50,
          "special-defense": 140,
          "speed": 60
         },
         [
          "steel",
          "ghost"
         ],
         530
        ],
        [
         682,
         "spritzee",
         [
          "healer",
          "aroma-veil"
         ],
         68,
         2,
         {
          "attack": 52,
          "defense": 60,
          "hp": 78,
          "special-attack": 63,
          "special-defense": 65,
          "speed": 23
         },
         [
          "fairy"
         ],
         5
        ],
        [
         683,
         "aromatisse",
         [
          "healer",
          "aroma-veil"
         ],
         162,
         8,
         {
          "attack": 72,
          "defense": 72,
          "hp": 101,
          "special-attack": 99,
          "special-defense": 89,
          "speed": 29
         },
         [
          "fairy"
         ],
         155
        ],
        [
         684,
         "swirlix",
         [
          "sweet-veil",
          "unburden"
         ],
         68,
         4,
         {
          "attack": 48,
          "defense": 66,
          "hp": 62,
          "special-attack": 59,
          "special-defense": 57,
          "speed": 49
         },
         [
          "fairy"
         ],
         35
        ],
        [
         685,
         "slurpuff",
         [
          "sweet-veil",
          "unburden"
         ],
         168,
         8,
         {
          "attack": 80,
          "defense": 86,
          "hp": 82,
          "special-attack": 85,
          "special-defense": 75,
          "speed": 72
         },
         [
          "fairy"
         ],
         50
        ],
        [
         686,
         "inkay",
         [
          "contrary",
          "suction-cups",
          "infiltrator"
         ],
         58,
         4,
         {
          "attack": 54,
          "defense": 53,
          "hp": 53,
          "special-attack": 37,
          "special-defense": 46,
          "speed": 45
         },
         [
          "dark",
          "psychic"
         ],
         35
        ],
        [
         687,
         "malamar",
         [
          "contrary",
          "suction-cups",
          "infiltrator"
         ],
         169,
         15,
         {
          "attack": 92,
          "defense": 88,
          "hp": 86,
          "special-attack": 68,
          "special-defense": 75,
          "speed": 73
         },
         [
          "dark",
          "psychic"
         ],
         470
        ],
        [
         688,
         "binacle",
         [
          "tough-claws",
          "sniper",
          "pickpocket"
         ],
         61,
         5,
         {
          "attack": 52,
          "defense": 67,
          "hp": 42,
          "special-attack": 39,
          "special-defense": 56,
          "speed": 50
         },
         [
          "rock",
          "water"
         ],
         310
        ],
        [
         689,
         "barbaracle",
         [
          "tough-claws",
          "sniper",
          "pickpocket"
         ],
         175,
         13,
         {
          "attack": 105,
          "defense": 115,
          "hp": 72,
          "special-attack": 54,
          "special-defense": 86,
          "speed": 68
         },
         [
          "rock",
          "water"
         ],
         960
        ],
        [
         690,
         "skrelp",
         [
          "poison-point",
          "poison-touch",
          "adaptability"
         ],
         64,
         5,
         {
          "attack": 60,
          "defense": 60,
          "hp": 50,
          "special-attack": 60,
          "special-defense": 60,
          "speed": 30
         },
         [
          "poison",
          "water"
         ],
         73
        ],
        [
         691,
         "dragalge",
         [
          "poison-point",
          "poison-touch",
          "adaptability"
         ],
         173,
         18,
         {
          "attack": 75,
          "defense": 90,
          "hp": 65,
          "special-attack": 97,
          "special-defense": 123,
          "speed": 44
         },
         [
          "poison",
          "dragon"
         ],
         815
        ],
        [
         692,
         "clauncher",
         [
          "mega-launcher"
         ],
         66,
         5,
         {
          "attack": 53,
          "defense": 62,
          "hp": 50,
          "special-attack": 58,
          "special-defense": 63,
          "speed": 44
         },
         [
          "water"
         ],
         83
        ],
        [
         693,
         "clawitzer",
         [
          "mega-launcher"
         ],
         100,
         13,
         {
          "attack": 73,
          "defense": 88,
          "hp": 71,
          "special-attack": 120,
          "special-defense": 89,
          "speed": 59
         },
         [
          "water"
         ],
         353
        ],
        [
         694,
         "helioptile",
         [
          "dry-skin",
          "sand-veil",
          "solar-power"
         ],
         58,
         5,
         {
          "attack": 38,
          "defense": 33,
          "hp": 44,
          "special-attack": 61,
          "special-defense": 43,
          "speed": 70
         },
         [
          "electric",
          "normal"
         ],
         60
        ],
        [
         695,
         "heliolisk",
         [
          "dry-skin",
          "sand-veil",
          "solar-power"
         ],
         168,
         10,
         {
          "attack": 55,
          "defense": 52,
          "hp": 62,
          "special-attack": 109,
          "special-defense": 94,
          "speed": 109
         },
         [
          "electric",
          "normal"
         ],
         210
        ],
        [
         696,
         "tyrunt",
         [
          "strong-jaw",
          "sturdy"
         ],
         72,
         8,
         {
          "attack": 89,
          "defense": 77,
          "hp": 58,
          "special-attack": 45,
          "special-defense": 45,
          "speed": 48
         },
         [
          "rock",
          "dragon"
         ],
         260
        ],
        [
         697,
         "tyrantrum",
         [
          "strong-jaw",
          "rock-head"
         ],
         182,
         25,
         {
          "attack": 121,
          "defense": 119,
          "hp": 82,
          "special-attack": 69,
          "special-defense": 59,
          "speed": 71
         },
         [
          "rock",
          "dragon"
         ],
         2700
        ],
        [
         698,
         "amaura",
         [
          "refrigerate",
          "snow-warning"
         ],
         72,
         13,
         {
          "attack": 59,
          "defense": 50,
          "hp": 77,
          "special-attack": 67,
          "special-defense": 63,
          "speed": 46
         },
         [
          "rock",
          "ice"
         ],
         252
        ],
        [
         699,
         "aurorus",
         [
          "refrigerate",
          "snow-warning"
         ],
         104,
         27,
         {
          "attack": 77,
          "defense": 72,
          "hp": 123,
          "special-attack": 99,
          "special-defense": 92,
          "speed": 58
         },
         [
          "rock",
          "ice"
         ],
         2250
        ],
        [
         700,
         "sylveon",
         [
          "cute-charm",
          "pixilate"
         ],
         184,
         10,
         {
          "attack": 65,
          "defense": 65,
          "hp": 95,
          "special-attack": 110,
          "special-defense": 130,
          "speed": 60
         },
         [
          "fairy"
         ],
         235
        ],
        [
         701,
         "hawlucha",
         [
          "limber",
          "unburden",
          "mold-breaker"
         ],
         175,
         8,
         {
          "attack": 92,
          "defense": 75,
          "hp": 78,
          "special-attack": 74,
          "special-defense": 63,
          "speed": 118
         },
         [
          "fighting",
          "flying"
         ],
         215
        ],
        [
         702,
         "dedenne",
         [
          "cheek-pouch",
          "pickup",
          "plus"
         ],
         151,
         2,
         {
          "attack": 58,
          "defense": 57,
          "hp": 67,
          "special-attack": 81,
          "special-defense": 67,
          "speed": 101
         },
         [
          "electric",
          "fairy"
         ],
         22
        ],
        [
         703,
         "carbink",
         [
          "clear-body",
          "sturdy"
         ],
         100,
         3,
         {
          "attack": 50,
          "defense": 150,
          "hp": 50,
          "special-attack": 50,
          "special-defense": 150,
          "speed": 50
         },
         [
          "rock",
          "fairy"
         ],
         57
        ],
        [
         704,
         "goomy",
         [
          "sap-sipper",
          "hydration",
          "gooey"
         ],
         60,
         3,
         {
          "attack": 50,
          "defense": 35,
          "hp": 45,
          "special-attack": 55,
          "special-defense": 75,
          "speed": 40
         },
         [
          "dragon"
         ],
         28
        ],
        [
         705,
         "sliggoo",
         [
          "sap-sipper",
          "hydration",
          "gooey"
         ],
         158,
         8,
         {
          "attack": 75,
          "defense": 53,
          "hp": 68,
          "special-attack": 83,
          "special-defense": 113,
          "speed": 60
         },
         [
          "dragon"
         ],
         175
        ],
        [
         706,
         "goodra",
         [
          "sap-sipper",
          "hydration",
          "gooey"
         ],
         300,
         20,
         {
          "attack": 100,
          "defense": 70,
          "hp": 90,
          "special-attack": 110,
          "special-defense": 150,
          "speed": 80
         },
         [
          "dragon"
         ],
         1505
        ],
        [
         707,
         "klefki",
         [
          "prankster",
          "magician"
         ],
         165,
         2,
         {
          "attack": 80,
          "defense": 91,
          "hp": 57,
          "special-attack": 80,
          "special-defense": 87,
          "speed": 75
         },
         [
          "steel",
          "fairy"
         ],
         30
        ],
        [
         708,
         "phantump",
         [
          "natural-cure",
          "frisk",
          "harvest"
         ],
         62,
         4,
         {
          "attack": 70,
          "defense": 48,
          "hp": 43,
          "special-attack": 50,
          "special-defense": 60,
          "speed": 38
         },
         [
          "ghost",
          "grass"
         ],
         70
        ],
        [
         709,
         "trevenant",
         [
          "natural-cure",
          "frisk",
          "harvest"
         ],
         166,
         15,
         {
          "attack": 110,
          "defense": 76,
          "hp": 85,
          "special-attack": 65,
          "special-defense": 82,
          "speed": 56
         },
         [
          "ghost",
          "grass"
         ],
         710
        ],
        [
         710,
         "pumpkaboo-average",
         [
          "pickup",
          "frisk",
          "insomnia"
         ],
         67,
         4,
         {
          "attack": 66,
          "defense": 70,
          "hp": 49,
          "special-attack": 44,
          "special-defense": 55,
          "speed": 51
         },
         [
          "ghost",
          "grass"
         ],
         50
        ],
        [
         711,
         "gourgeist-average",
         [
          "pickup",
          "frisk",
          "insomnia"
         ],
         173,
         9,
         {
          "attack": 90,
          "defense": 122,
          "hp": 65,
          "special-attack": 58,
          "special-defense": 75,
          "speed": 84
         },
         [
          "ghost",
          "grass"
         ],
         125
        ],
        [
         712,
         "bergmite",
         [
          "own-tempo",
          "ice-body",
          "sturdy"
         ],
         61,
         10,
         {
          "attack": 69,
          "defense": 85,
          "hp": 55,
          "special-attack": 32,
          "special-defense": 35,
          "speed": 28
         },
         [
          "ice"
         ],
         995
        ],
        [
         713,
         "avalugg",
         [
          "own-tempo",
          "ice-body",
          "sturdy"
         ],
         180,
         20,
         {
          "attack": 117,
          "defense": 184,
          "hp": 95,
          "special-attack": 44,
          "special-defense": 46,
          "speed": 28
         },
         [
          "ice"
         ],
         5050
        ],
        [
         714,
         "noibat",
         [
          "frisk",
          "infiltrator",
          "telepathy"
         ],
         49,
         5,
         {
          "attack": 30,
          "defense": 35,
          "hp": 40,
          "special-attack": 45,
          "special-defense": 40,
          "speed": 55
         },
         [
          "flying",
          "dragon"
         ],
         80
        ],
        [
         715,
         "noivern",
         [
          "frisk",
          "infiltrator",
          "telepathy"
         ],
         187,
         15,
         {
          "attack": 70,
          "defense": 80,
          "hp": 85,
          "special-attack": 97,
          "special-defense": 80,
          "speed": 123
         },
         [
          "flying",
          "dragon"
         ],
         850
        ],
        [
         716,
         "xerneas",
         [
          "fairy-aura"
         ],
         340,
         30,
         {
          "attack": 131,
          "defense": 95,
          "hp": 126,
          "special-attack": 131,
          "special-defense": 98,
          "speed": 99
         },
         [
          "fairy"
         ],
         2150
        ],
        [
         717,
         "yveltal",
         [
          "dark-aura"
         ],
         340,
         58,
         {
          "attack": 131,
          "defense": 95,
          "hp": 126,
          "special-attack": 131,
          "special-defense": 98,
          "speed": 99
         },
         [
          "dark",
          "flying"
         ],
         2030
        ],
        [
         718,
         "zygarde-50",
         [
          "aura-break"
         ],
         300,
         50,
         {
          "attack": 100,
          "defense": 121,
          "hp": 108,
          "special-attack": 81,
          "special-defense": 95,
          "speed": 95
         },
         [
          "dragon",
          "ground"
         ],
         3050
        ],
        [
         719,
         "diancie",
         [
          "clear-body"
         ],
         300,
         7,
         {
          "attack": 100,
          "defense": 150,
          "hp": 50,
          "special-attack": 100,
          "special-defense": 150,
          "speed": 50
         },
         [
          "rock",
          "fairy"
         ],
         88
        ],
        [
         720,
         "hoopa",
         [
          "magician"
         ],
         270,
         5,
         {
          "attack": 110,
          "defense": 60,
          "hp": 80,
          "special-attack": 150,
          "special-defense": 130,
          "speed": 70
         },
         [
          "psychic",
          "ghost"
         ],
         90
        ],
        [
         721,
         "volcanion",
         [
          "water-absorb"
         ],
         300,
         17,
         {
          "attack": 110,
          "defense": 120,
          "hp": 80,
          "special-attack": 130,
          "special-defense": 90,
          "speed": 70
         },
         [
          "fire",
          "water"
         ],
         1950
        ],
        [
         722,
         "rowlet",
         [
          "overgrow",
          "long-reach"
         ],
         64,
         3,
         {
          "attack": 55,
          "defense": 55,
          "hp": 68,
          "special-attack": 50,
          "special-defense": 50,
          "speed": 42
         },
         [
          "grass",
          "flying"
         ],
         15
        ],
        [
         723,
         "dartrix",
         [
          "overgrow",
          "long-reach"
         ],
         147,
         7,
         {
          "attack": 75,
          "defense": 75,
          "hp": 78,
          "special-attack": 70,
          "special-defense": 70,
          "speed": 52
         },
         [
          "grass",
          "flying"
         ],
         160
        ],
        [
         724,
         "decidueye",
         [
          "overgrow",
          "long-reach"
         ],
         265,
         16,
         {
          "attack": 107,
          "defense": 75,
          "hp": 78,
          "special-attack": 100,
          "special-defense": 100,
          "speed": 70
         },
         [
          "grass",
          "ghost"
         ],
         366
        ],
        [
         725,
         "litten",
         [
          "blaze",
          "intimidate"
         ],
         64,
         4,
         {
          "attack": 65,
          "defense": 40,
          "hp": 45,
          "special-attack": 60,
          "special-defense": 40,
          "speed": 70
         },
         [
          "fire"
         ],
         43
        ],
        [
         726,
         "torracat",
         [
          "blaze",
          "intimidate"
         ],
         147,
         7,
         {
          "attack": 85,
          "defense": 50,
          "hp": 65,
          "special-attack": 80,
          "special-defense": 50,
          "speed": 90
         },
         [
          "fire"
         ],
         250
        ],
        [
         727,
         "incineroar",
         [
          "blaze",
          "intimidate"
         ],
         265,
         18,
         {
          "attack": 115,
          "defense": 90,
          "hp": 95,
          "special-attack": 80,
          "special-defense": 90,
          "speed": 60
         },
         [
          "fire",
          "dark"
         ],
         830
        ],
        [
         728,
         "popplio",
         [
          "torrent",
          "liquid-voice"
         ],
         64,
         4,
         {
          "attack": 54,
          "defense": 54,
          "hp": 50,
          "special-attack": 66,
          "special-defense": 56,
          "speed": 40
         },
         [
          "water"
         ],
         75
        ],
        [
         729,
         "brionne",
         [
          "torrent",
          "liquid-voice"
         ],
         147,
         6,
         {
          "attack": 69,
          "defense": 69,
          "hp": 60,
          "special-attack": 91,
          "special-defense": 81,
          "speed": 50
         },
         [
          "water"
         ],
         175
        ],
        [
         730,
         "primarina",
         [
          "torrent",
          "liquid-voice"
         ],
         265,
         18,
         {
          "attack": 74,
          "defense": 74,
          "hp": 80,
          "special-attack": 126,
          "special-defense": 116,
          "speed": 60
         },
         [
          "water",
          "fairy"
         ],
         440
        ],
        [
         731,
         "pikipek",
         [
          "keen-eye",
          "skill-link",
          "pickup"
         ],
         53,
         3,
         {
          "attack": 75,
          "defense": 30,
          "hp": 35,
          "special-attack": 30,
          "special-defense": 30,
          "speed": 65
         },
         [
          "normal",
          "flying"
         ],
         12
        ],
        [
         732,
         "trumbeak",
         [
          "keen-eye",
          "skill-link",
          "pickup"
         ],
         124,
         6,
         {
          "attack": 85,
          "defense": 50,
          "hp": 55,
          "special-attack": 40,
          "special-defense": 50,
          "speed": 75
         },
         [
          "normal",
          "flying"
         ],
         148
        ],
        [
         733,
         "toucannon",
         [
          "keen-eye",
          "skill-link",
          "sheer-force"
         ],
         218,
         11,
         {
          "attack": 120,
          "defense": 75,
          "hp": 80,
          "special-attack": 75,
          "special-defense": 75,
          "speed": 60
         },
         [
          "normal",
          "flying"
         ],
         260
        ],
        [
         734,
         "yungoos",
         [
          "stakeout",
          "strong-jaw",
          "adaptability"
         ],
         51,
         4,
         {
          "attack": 70,
          "defense": 30,
          "hp": 48,
          "special-attack": 30,
          "special-defense": 30,
          "speed": 45
         },
         [
          "normal"
         ],
         60
        ],
        [
         735,
         "gumshoos",
         [
          "stakeout",
          "strong-jaw",
          "adaptability"
         ],
         146,
         7,
         {
          "attack": 110,
          "defense": 60,
          "hp": 88,
          "special-attack": 55,
          "special-defense": 60,
          "speed": 45
         },
         [
          "normal"
         ],
         142
        ],
        [
         736,
         "grubbin",
         [
          "swarm"
         ],
         60,
         4,
         {
          "attack": 62,
          "defense": 45,
          "hp": 47,
          "special-attack": 55,
          "special-defense": 45,
          "speed": 46
         },
         [
          "bug"
         ],
         44
        ],
        [
         737,
         "charjabug",
         [
          "battery"
         ],
         140,
         5,
         {
          "attack": 82,
          "defense": 95,
          "hp": 57,
          "special-attack": 55,
          "special-defense": 75,
          "speed": 36
         },
         [
          "bug",
          "electric"
         ],
         105
        ],
        [
         738,
         "vikavolt",
         [
          "levitate"
         ],
         250,
         15,
         {
          "attack": 70,
          "defense": 90,
          "hp": 77,
          "special-attack": 145,
          "special-defense": 75,
          "speed": 43
         },
         [
          "bug",
          "electric"
         ],
         450
        ],
        [
         739,
         "crabrawler",
         [
          "hyper-cutter",
          "iron-fist",
          "anger-point"
         ],
         68,
         6,
         {
          "attack": 82,
          "defense": 57,
          "hp": 47,
          "special-attack": 42,
          "special-defense": 47,
          "speed": 63
         },
         [
          "fighting"
         ],
         70
        ],
        [
         740,
         "crabominable",
         [
          "hyper-cutter",
          "iron-fist",
          "anger-point"
         ],
         167,
         17,
         {
          "attack": 132,
          "defense": 77,
          "hp": 97,
          "special-attack": 62,
          "special-defense": 67,
          "speed": 43
         },
         [
          "fighting",
          "ice"
         ],
         1800
        ],
        [
         741,
         "oricorio-baile",
         [
          "dancer"
         ],
         167,
         6,
         {
          "attack": 70,
          "defense": 70,
          "hp": 75,
          "special-attack": 98,
          "special-defense": 70,
          "speed": 93
         },
         [
          "fire",
          "flying"
         ],
         34
        ],
        [
         742,
         "cutiefly",
         [
          "honey-gather",
          "shield-dust",
          "sweet-veil"
         ],
         61,
         1,
         {
          "attack": 45,
          "defense": 40,
          "hp": 40,
          "special-attack": 55,
          "special-defense": 40,
          "speed": 84
         },
         [
          "bug",
          "fairy"
         ],
         2
        ],
        [
         743,
         "ribombee",
         [
          "honey-gather",
          "shield-dust",
          "sweet-veil"
         ],
         162,
         2,
         {
          "attack": 55,
          "defense": 60,
          "hp": 60,
          "special-attack": 95,
          "special-defense": 70,
          "speed": 124
         },
         [
          "bug",
          "fairy"
         ],
         5
        ],
        [
         744,
         "rockruff",
         [
          "keen-eye",
          "vital-spirit",
          "steadfast"
         ],
         56,
         5,
         {
          "attack": 65,
          "defense": 40,
          "hp": 45,
          "special-attack": 30,
          "special-defense": 40,
          "speed": 60
         },
         [
          "rock"
         ],
         92
        ],
        [
         745,
         "lycanroc-midday",
         [
          "keen-eye",
          "sand-rush",
          "steadfast"
         ],
         170,
         8,
         {
          "attack": 115,
          "defense": 65,
          "hp": 75,
          "special-attack": 55,
          "special-defense": 65,
          "speed": 112
         },
         [
          "rock"
         ],
         250
        ],
        [
         746,
         "wishiwashi-solo",
         [
          "schooling"
         ],
         61,
         2,
         {
          "attack": 20,
          "defense": 20,
          "hp": 45,
          "special-attack": 25,
          "special-defense": 25,
          "speed": 40
         },
         [
          "water"
         ],
         3
        ],
        [
         747,
         "mareanie",
         [
          "merciless",
          "limber",
          "regenerator"
         ],
         61,
         4,
         {
          "attack": 53,
          "defense": 62,
          "hp": 50,
          "special-attack": 43,
          "special-defense": 52,
          "speed": 45
         },
         [
          "poison",
          "water"
         ],
         80
        ],
        [
         748,
         "toxapex",
         [
          "merciless",
          "limber",
          "regenerator"
         ],
         173,
         7,
         {
          "attack": 63,
          "defense": 152,
          "hp": 50,
          "special-attack": 53,
          "special-defense": 142,
          "speed": 35
         },
         [
          "poison",
          "water"
         ],
         145
        ],
        [
         749,
         "mudbray",
         [
          "own-tempo",
          "stamina",
          "inner-focus"
         ],
         77,
         10,
         {
          "attack": 100,
          "defense": 70,
          "hp": 70,
          "special-attack": 45,
          "special-defense": 55,
          "speed": 45
         },
         [
          "ground"
         ],
         1100
        ],
        [
         750,
         "mudsdale",
         [
          "own-tempo",
          "stamina",
          "inner-focus"
         ],
         175,
         25,
         {
          "attack": 125,
          "defense": 100,
          "hp": 100,
          "special-attack": 55,
          "special-defense": 85,
          "speed": 35
         },
         [
          "ground"
         ],
         9200
        ],
        [
         751,
         "dewpider",
         [
          "water-bubble",
          "water-absorb"
         ],
         54,
         3,
         {
          "attack": 40,
          "defense": 52,
          "hp": 38,
          "special-attack": 40,
          "special-defense": 72,
          "speed": 27
         },
         [
          "water",
          "bug"
         ],
         40
        ],
        [
         752,
         "araquanid",
         [
          "water-bubble",
          "water-absorb"
         ],
         159,
         18,
         {
          "attack": 70,
          "defense": 92,
          "hp": 68,
          "special-attack": 50,
          "special-defense": 132,
          "speed": 42
         },
         [
          "water",
          "bug"
         ],
         820
        ],
        [
         753,
         "fomantis",
         [
          "leaf-guard",
          "contrary"
         ],
         50,
         3,
         {
          "attack": 55,
          "defense": 35,
          "hp": 40,
          "special-attack": 50,
          "special-defense": 35,
          "speed": 35
         },
         [
          "grass"
         ],
         15
        ],
        [
         754,
         "lurantis",
         [
          "leaf-guard",
          "contrary"
         ],
         168,
         9,
         {
          "attack": 105,
          "defense": 90,
          "hp": 70,
          "special-attack": 80,
          "special-defense": 90,
          "speed": 45
         },
         [
          "grass"
         ],
         185
        ],
        [
         755,
         "morelull",
         [
          "illuminate",
          "effect-spore",
          "rain-dish"
         ],
         57,
         2,
         {
          "attack": 35,
          "defense": 55,
          "hp": 40,
          "special-attack": 65,
          "special-defense": 75,
          "speed": 15
         },
         [
          "grass",
          "fairy"
         ],
         15
        ],
        [
         756,
         "shiinotic",
         [
          "illuminate",
          "effect-spore",
          "rain-dish"
         ],
         142,
         10,
         {
          "attack": 45,
          "defense": 80,
          "hp": 60,
          "special-attack": 90,
          "special-defense": 100,
          "speed": 30
         },
         [
          "grass",
          "fairy"
         ],
         115
        ],
        [
         757,
         "salandit",
         [
          "corrosion",
          "oblivious"
         ],
         64,
         6,
         {
          "attack": 44,
          "defense": 40,
          "hp": 48,
          "special-attack": 71,
          "special-defense": 40,
          "speed": 77
         },
         [
          "poison",
          "fire"
         ],
         48
        ],
        [
         758,
         "salazzle",
         [
          "corrosion",
          "oblivious"
         ],
         168,
         12,
         {
          "attack": 64,
          "defense": 60,
          "hp": 68,
          "special-attack": 111,
          "special-defense": 60,
          "speed": 117
         },
         [
          "poison",
          "fire"
         ],
         222
        ],
        [
         759,
         "stufful",
         [
          "fluffy",
          "klutz",
          "cute-charm"
         ],
         68,
         5,
         {
          "attack": 75,
          "defense": 50,
          "hp": 70,
          "special-attack": 45,
          "special-defense": 50,
          "speed": 50
         },
         [
          "normal",
          "fighting"
         ],
         68
        ],
        [
         760,
         "bewear",
         [
          "fluffy",
          "klutz",
          "unnerve"
         ],
         175,
         21,
         {
          "attack": 125,
          "defense": 80,
          "hp": 120,
          "special-attack": 55,
          "special-defense": 60,
          "speed": 60
         },
         [
          "normal",
          "fighting"
         ],
         1350
        ],
        [
         761,
         "bounsweet",
         [
          "leaf-guard",
          "oblivious",
          "sweet-veil"
         ],
         42,
         3,
         {
          "attack": 30,
          "defense": 38,
          "hp": 42,
          "special-attack": 30,
          "special-defense": 38,
          "speed": 32
         },
         [
          "grass"
         ],
         32
        ],
        [
         762,
         "steenee",
         [
          "leaf-guard",
          "oblivious",
          "sweet-veil"
         ],
         102,
         7,
         {
          "attack": 40,
          "defense": 48,
          "hp": 52,
          "special-attack": 40,
          "special-defense": 48,
          "speed": 62
         },
         [
          "grass"
         ],
         82
        ],
        [
         763,
         "tsareena",
         [
          "leaf-guard",
          "queenly-majesty",
          "sweet-veil"
         ],
         255,
         12,
         {
          "attack": 120,
          "defense": 98,
          "hp": 72,
          "special-attack": 50,
          "special-defense": 98,
          "speed": 72
         },
         [
          "grass"
         ],
         214
        ],
        [
         764,
         "comfey",
         [
          "flower-veil",
          "triage",
          "natural-cure"
         ],
         170,
         1,
         {
          "attack": 52,
          "defense": 90,
          "hp": 51,
          "special-attack": 82,
          "special-defense": 110,
          "speed": 100
         },
         [
          "fairy"
         ],
         3
        ],
        [
         765,
         "oranguru",
         [
          "inner-focus",
          "telepathy",
          "symbiosis"
         ],
         172,
         15,
         {
          "attack": 60,
          "defense": 80,
          "hp": 90,
          "special-attack": 90,
          "special-defense": 110,
          "speed": 60
         },
         [
          "normal",
          "psychic"
         ],
         760
        ],
        [
         766,
         "passimian",
         [
          "receiver",
          "defiant"
         ],
         172,
         20,
         {
          "attack": 120,
          "defense": 90,
          "hp": 100,
          "special-attack": 40,
          "special-defense": 60,
          "speed": 80
         },
         [
          "fighting"
         ],
         828
        ],
        [
         767,
         "wimpod",
         [
          "wimp-out"
         ],
         46,
         5,
         {
          "attack": 35,
          "defense": 40,
          "hp": 25,
          "special-attack": 20,
          "special-defense": 30,
          "speed": 80
         },
         [
          "bug",
          "water"
         ],
         120
        ],
        [
         768,
         "golisopod",
         [
          "emergency-exit"
         ],
         186,
         20,
         {
          "attack": 125,
          "defense": 140,
          "hp": 75,
          "special-attack": 60,
          "special-defense": 90,
          "speed": 40
         },
         [
          "bug",
          "water"
         ],
         1080
        ],
        [
         769,
         "sandygast",
         [
          "water-compaction",
          "sand-veil"
         ],
         64,
         5,
         {
          "attack": 55,
          "defense": 80,
          "hp": 55,
          "special-attack": 70,
          "special-defense": 45,
          "speed": 15
         },
         [
          "ghost",
          "ground"
         ],
         700
        ],
        [
         770,
         "palossand",
         [
          "water-compaction",
          "sand-veil"
         ],
         168,
         13,
         {
          "attack": 75,
          "defense": 110,
          "hp": 85,
          "special-attack": 100,
          "special-defense": 75,
          "speed": 35
         },
         [
          "ghost",
          "ground"
         ],
         2500
        ],
        [
         771,
         "pyukumuku",
         [
          "innards-out",
          "unaware"
         ],
         144,
         3,
         {
          "attack": 60,
          "defense": 130,
          "hp": 55,
          "special-attack": 30,
          "special-defense": 130,
          "speed": 5
         },
         [
          "water"
         ],
         12
        ],
        [
         772,
         "type-null",
         [
          "battle-armor"
         ],
         107,
         19,
         {
          "attack": 95,
          "defense": 95,
          "hp": 95,
          "special-attack": 95,
          "special-defense": 95,
          "speed": 59
         },
         [
          "normal"
         ],
         1205
        ],
        [
         773,
         "silvally",
         [
          "rks-system"
         ],
         285,
         23,
         {
          "attack": 95,
          "defense": 95,
          "hp": 95,
          "special-attack": 95,
          "special-defense": 95,
          "speed": 95
         },
         [
          "normal"
         ],
         1005
        ],
        [
         774,
         "minior-red-meteor",
         [
          "shields-down"
         ],
         154,
         3,
         {
          "attack": 60,
          "defense": 100,
          "hp": 60,
          "special-attack": 60,
          "special-defense": 100,
          "speed": 60
         },
         [
          "rock",
          "flying"
         ],
         400
        ],
        [
         775,
         "komala",
         [
          "comatose"
         ],
         168,
         4,
         {
          "attack": 115,
          "defense": 65,
          "hp": 65,
          "special-attack": 75,
          "special-defense": 95,
          "speed": 65
         },
         [
          "normal"
         ],
         199
        ],
        [
         776,
         "turtonator",
         [
          "shell-armor"
         ],
         170,
         20,
         {
          "attack": 78,
          "defense": 135,
          "hp": 60,
          "special-attack": 91,
          "special-defense": 85,
          "speed": 36
         },
         [
          "fire",
          "dragon"
         ],
         2120
        ],
        [
         777,
         "togedemaru",
         [
          "iron-barbs",
          "lightning-rod",
          "sturdy"
         ],
         152,
         3,
         {
          "attack": 98,
          "defense": 63,
          "hp": 65,
          "special-attack": 40,
          "special-defense": 73,
          "speed": 96
         },
         [
          "electric",
          "steel"
         ],
         33
        ],
        [
         778,
         "mimikyu-disguised",
         [
          "disguise"
         ],
         167,
         2,
         {
          "attack": 90,
          "defense": 80,
          "hp": 55,
          "special-attack": 50,
          "special-defense": 105,
          "speed": 96
         },
         [
          "ghost",
          "fairy"
         ],
         7
        ],
        [
         779,
         "bruxish",
         [
          "dazzling",
          "strong-jaw",
          "wonder-skin"
         ],
         166,
         9,
         {
          "attack": 105,
          "defense": 70,
          "hp": 68,
          "special-attack": 70,
          "special-defense": 70,
          "speed": 92
         },
         [
          "water",
          "psychic"
         ],
         190
        ],
        [
         780,
         "drampa",
         [
          "berserk",
          "sap-sipper",
          "cloud-nine"
         ],
         170,
         30,
         {
          "attack": 60,
          "defense": 85,
          "hp": 78,
          "special-attack": 135,
          "special-defense": 91,
          "speed": 36
         },
         [
          "normal",
          "dragon"
         ],
         1850
        ],
        [
         781,
         "dhelmise",
         [
          "steelworker"
         ],
         181,
         39,
         {
          "attack": 131,
          "defense": 100,
          "hp": 70,
          "special-attack": 86,
          "special-defense": 90,
          "speed": 40
         },
         [
          "ghost",
          "grass"
         ],
         2100
        ],
        [
         782,
         "jangmo-o",
         [
          "bulletproof",
          "soundproof",
          "overcoat"
         ],
         60,
         6,
         {
          "attack": 55,
          "defense": 65,
          "hp": 45,
          "special-attack": 45,
          "special-defense": 45,
          "speed": 45
         },
         [
          "dragon"
         ],
         297
        ],
        [
         783,
         "hakamo-o",
         [
          "bulletproof",
          "soundproof",
          "overcoat"
         ],
         147,
         12,
         {
          "attack": 75,
          "defense": 90,
          "hp": 55,
          "special-attack": 65,
          "special-defense": 70,
          "speed": 65
         },
         [
          "dragon",
          "fighting"
         ],
         470
        ],
        [
         784,
         "kommo-o",
         [
          "bulletproof",
          "soundproof",
          "overcoat"
         ],
         300,
         16,
         {
          "attack": 110,
          "defense": 125,
          "hp": 75,
          "special-attack": 100,
          "special-defense": 105,
          "speed": 85
         },
         [
          "dragon",
          "fighting"
         ],
         782
        ],
        [
         785,
         "tapu-koko",
         [
          "electric-surge",
          "telepathy"
         ],
         285,
         18,
         {
          "attack": 115,
          "defense": 85,
          "hp": 70,
          "special-attack": 95,
          "special-defense": 75,
          "speed": 130
         },
         [
          "electric",
          "fairy"
         ],
         205
        ],
        [
         786,
         "tapu-lele",
         [
          "psychic-surge",
          "telepathy"
         ],
         285,
         12,
         {
          "attack": 85,
          "defense": 75,
          "hp": 70,
          "special-attack": 130,
          "special-defense": 115,
          "speed": 95
         },
         [
          "psychic",
          "fairy"
         ],
         186
        ],
        [
         787,
         "tapu-bulu",
         [
          "grassy-surge",
          "telepathy"
         ],
         285,
         19,
         {
          "attack": 130,
          "defense": 115,
          "hp": 70,
          "special-attack": 85,
          "special-defense": 95,
          "speed": 75
         },
         [
          "grass",
          "fairy"
         ],
         455
        ],
        [
         788,
         "tapu-fini",
         [
          "misty-surge",
          "telepathy"
         ],
         285,
         13,
         {
          "attack": 75,
          "defense": 115,
          "hp": 70,
          "special-attack": 95,
          "special-defense": 130,
          "speed": 85
         },
         [
          "water",
          "fairy"
         ],
         212
        ],
        [
         789,
         "cosmog",
         [
          "unaware"
         ],
         40,
         2,
         {
          "attack": 29,
          "defense": 31,
          "hp": 43,
          "special-attack": 29,
          "special-defense": 31,
          "speed": 37
         },
         [
          "psychic"
         ],
         1
        ],
        [
         790,
         "cosmoem",
         [
          "sturdy"
         ],
         140,
         1,
         {
          "attack": 29,
          "defense": 131,
          "hp": 43,
          "special-attack": 29,
          "special-defense": 131,
          "speed": 37
         },
         [
          "psychic"
         ],
         9999
        ],
        [
         791,
         "solgaleo",
         [
          "full-metal-body"
         ],
         340,
         34,
         {
          "attack": 137,
          "defense": 107,
          "hp": 137,
          "special-attack": 113,
          "special-defense": 89,
          "speed": 97
         },
         [
          "psychic",
          "steel"
         ],
         2300
        ],
        [
         792,
         "lunala",
         [
          "shadow-shield"
         ],
         340,
         40,
         {
          "attack": 113,
          "defense": 89,
          "hp": 137,
          "special-attack": 137,
          "special-defense": 107,
          "speed": 97
         },
         [
          "psychic",
          "ghost"
         ],
         1200
        ],
        [
         793,
         "nihilego",
         [
          "beast-boost"
         ],
         285,
         12,
         {
          "attack": 53,
          "defense": 47,
          "hp": 109,
          "special-attack": 127,
          "special-defense": 131,
          "speed": 103
         },
         [
          "rock",
          "poison"
         ],
         555
        ],
        [
         794,
         "buzzwole",
         [
          "beast-boost"
         ],
         285,
         24,
         {
          "attack": 139,
          "defense": 139,
          "hp": 107,
          "special-attack": 53,
          "special-defense": 53,
          "speed": 79
         },
         [
          "bug",
          "fighting"
         ],
         3336
        ],
        [
         795,
         "pheromosa",
         [
          "beast-boost"
         ],
         285,
         18,
         {
          "attack": 137,
          "defense": 37,
          "hp": 71,
          "special-attack": 137,
          "special-defense": 37,
          "speed": 151
         },
         [
          "bug",
          "fighting"
         ],
         250
        ],
        [
         796,
         "xurkitree",
         [
          "beast-boost"
         ],
         285,
         38,
         {
          "attack": 89,
          "defense": 71,
          "hp": 83,
          "special-attack": 173,
          "special-defense": 71,
          "speed": 83
         },
         [
          "electric"
         ],
         1000
        ],
        [
         797,
         "celesteela",
         [
          "beast-boost"
         ],
         285,
         92,
         {
          "attack": 101,
          "defense": 103,
          "hp": 97,
          "special-attack": 107,
          "special-defense": 101,
          "speed": 61
         },
         [
          "steel",
          "flying"
         ],
         9999
        ],
        [
         798,
         "kartana",
         [
          "beast-boost"
         ],
         285,
         3,
         {
          "attack": 181,
          "defense": 131,
          "hp": 59,
          "special-attack": 59,
          "special-defense": 31,
          "speed": 109
         },
         [
          "grass",
          "steel"
         ],
         1
        ],
        [
         799,
         "guzzlord",
         [
          "beast-boost"
         ],
         285,
         55,
         {
          "attack": 101,
          "defense": 53,
          "hp": 223,
          "special-attack": 97,
          "special-defense": 53,
          "speed": 43
         },
         [
          "dark",
          "dragon"
         ],
         8880
        ],
        [
         800,
         "necrozma",
         [
          "prism-armor"
         ],
         300,
         24,
         {
          "attack": 107,
          "defense": 101,
          "hp": 97,
          "special-attack": 127,
          "special-defense": 89,
          "speed": 79
         },
         [
          "psychic"
         ],
         2300
        ],
        [
         801,
         "magearna",
         [
          "soul-heart"
         ],
         300,
         10,
         {
          "attack": 95,
          "defense": 115,
          "hp": 80,
          "special-attack": 130,
          "special-defense": 115,
          "speed": 65
         },
         [
          "steel",
          "fairy"
         ],
         805
        ],
        [
         802,
         "marshadow",
         [
          "technician"
         ],
         300,
         7,
         {
          "attack": 125,
          "defense": 80,
          "hp": 90,
          "special-attack": 90,
          "special-defense": 90,
          "speed": 125
         },
         [
          "fighting",
          "ghost"
         ],
         222
        ],
        [
         803,
         "poipole",
         [
          "beast-boost"
         ],
         210,
         6,
         {
          "attack": 73,
          "defense": 67,
          "hp": 67,
          "special-attack": 73,
          "special-defense": 67,
          "speed": 73
         },
         [
          "poison"
         ],
         18
        ],
        [
         804,
         "naganadel",
         [
          "beast-boost"
         ],
         270,
         36,
         {
          "attack": 73,
          "defense": 73,
          "hp": 73,
          "special-attack": 127,
          "special-defense": 73,
          "speed": 121
         },
         [
          "poison",
          "dragon"
         ],
         1500
        ],
        [
         805,
         "stakataka",
         [
          "beast-boost"
         ],
         285,
         55,
         {
          "attack": 131,
          "defense": 211,
          "hp": 61,
          "special-attack": 53,
          "special-defense": 101,
          "speed": 13
         },
         [
          "rock",
          "steel"
         ],
         8200
        ],
        [
         806,
         "blacephalon",
         [
          "beast-boost"
         ],
         285,
         18,
         {
          "attack": 127,
          "defense": 53,
          "hp": 53,
          "special-attack": 151,
          "special-defense": 79,
          "speed": 107
         },
         [
          "fire",
          "ghost"
         ],
         130
        ],
        [
         807,
         "zeraora",
         [
          "volt-absorb"
         ],
         300,
         15,
         {
          "attack": 112,
          "defense": 75,
          "hp": 88,
          "special-attack": 102,
          "special-defense": 80,
          "speed": 143
         },
         [
          "electric"
         ],
         445
        ],
        [
         808,
         "meltan",
         [
          "magnet-pull"
         ],
         150,
         2,
         {
          "attack": 65,
          "defense": 65,
          "hp": 46,
          "special-attack": 55,
          "special-defense": 35,
          "speed": 34
         },
         [
          "steel"
         ],
         80
        ],
        [
         809,
         "melmetal",
         [
          "iron-fist"
         ],
         300,
         25,
         {
          "attack": 143,
          "defense": 143,
          "hp": 135,
          "special-attack": 80,
          "special-defense": 65,
          "speed": 34
         },
         [
          "steel"
         ],
         8000
        ],
        [
         810,
         "grookey",
         [
          "overgrow",
          "grassy-surge"
         ],
         62,
         3,
         {
          "attack": 65,
          "defense": 50,
          "hp": 50,
          "special-attack": 40,
          "special-defense": 40,
          "speed": 65
         },
         [
          "grass"
         ],
         50
        ],
        [
         811,
         "thwackey",
         [
          "overgrow",
          "grassy-surge"
         ],
         147,
         7,
         {
          "attack": 85,
          "defense": 70,
          "hp": 70,
          "special-attack": 55,
          "special-defense": 60,
          "speed": 80
         },
         [
          "grass"
         ],
         140
        ],
        [
         812,
         "rillaboom",
         [
          "overgrow",
          "grassy-surge"
         ],
         265,
         21,
         {
          "attack": 125,
          "defense": 90,
          "hp": 100,
          "special-attack": 60,
          "special-defense": 70,
          "speed": 85
         },
         [
          "grass"
         ],
         900
        ],
        [
         813,
         "scorbunny",
         [
          "blaze",
          "libero"
         ],
         62,
         3,
         {
          "attack": 71,
          "defense": 40,
          "hp": 50,
          "special-attack": 40,
          "special-defense": 40,
          "speed": 69
         },
         [
          "fire"
         ],
         45
        ],
        [
         814,
         "raboot",
         [
          "blaze",
          "libero"
         ],
         147,
         6,
         {
          "attack": 86,
          "defense": 60,
          "hp": 65,
          "special-attack": 55,
          "special-defense": 60,
          "speed": 94
         },
         [
          "fire"
         ],
         90
        ],
        [
         815,
         "cinderace",
         [
          "blaze",
          "libero"
         ],
         265,
         14,
         {
          "attack": 116,
          "defense": 75,
          "hp": 80,
          "special-attack": 65,
          "special-defense": 75,
          "speed": 119
         },
         [
          "fire"
         ],
         330
        ],
        [
         816,
         "sobble",
         [
          "torrent",
          "sniper"
         ],
         62,
         3,
         {
          "attack": 40,
          "defense": 40,
          "hp": 50,
          "special-attack": 70,
          "special-defense": 40,
          "speed": 70
         },
         [
          "water"
         ],
         40
        ],
        [
         817,
         "drizzile",
         [
          "torrent",
          "sniper"
         ],
         147,
         7,
         {
          "attack": 60,
          "defense": 55,
          "hp": 65,
          "special-attack": 95,
          "special-defense": 55,
          "speed": 90
         },
         [
          "water"
         ],
         115
        ],
        [
         818,
         "inteleon",
         [
          "torrent",
          "sniper"
         ],
         265,
         19,
         {
          "attack": 85,
          "defense": 65,
          "hp": 70,
          "special-attack": 125,
          "special-defense": 65,
          "speed": 120
         },
         [
          "water"
         ],
         452
        ],
        [
         819,
         "skwovet",
         [
          "cheek-pouch",
          "gluttony"
         ],
         55,
         3,
         {
          "attack": 55,
          "defense": 55,
          "hp": 70,
          "special-attack": 35,
          "special-defense": 35,
          "speed": 25
         },
         [
          "normal"
         ],
         25
        ],
        [
         820,
         "greedent",
         [
          "cheek-pouch",
          "gluttony"
         ],
         161,
         6,
         {
          "attack": 95,
          "defense": 95,
          "hp": 120,
          "special-attack": 55,
          "special-defense": 75,
          "speed": 20
         },
         [
          "normal"
         ],
         60
        ],
        [
         821,
         "rookidee",
         [
          "keen-eye",
          "unnerve",
          "big-pecks"
         ],
         49,
         2,
         {
          "attack": 47,
          "defense": 35,
          "hp": 38,
          "special-attack": 33,
          "special-defense": 35,
          "speed": 57
         },
         [
          "flying"
         ],
         18
        ],
        [
         822,
         "corvisquire",
         [
          "keen-eye",
          "unnerve",
          "big-pecks"
         ],
         128,
         8,
         {
          "attack": 67,
          "defense": 55,
          "hp": 68,
          "special-attack": 43,
          "special-defense": 55,
          "speed": 77
         },
         [
          "flying"
         ],
         160
        ],
        [
         823,
         "corviknight",
         [
          "pressure",
          "unnerve",
          "mirror-armor"
         ],
         248,
         22,
         {
          "attack": 87,
          "defense": 105,
          "hp": 98,
          "special-attack": 53,
          "special-defense": 85,
          "speed": 67
         },
         [
          "flying",
          "steel"
         ],
         750
        ],
        [
         824,
         "blipbug",
         [
          "swarm",
          "compound-eyes",
          "telepathy"
         ],
         36,
         4,
         {
          "attack": 20,
          "defense": 20,
          "hp": 25,
          "special-attack": 25,
          "special-defense": 45,
          "speed": 45
         },
         [
          "bug"
         ],
         80
        ],
        [
         825,
         "dottler",
         [
          "swarm",
          "compound-eyes",
          "telepathy"
         ],
         117,
         4,
         {
          "attack": 35,
          "defense": 80,
          "hp": 50,
          "special-attack": 50,
          "special-defense": 90,
          "speed": 30
         },
         [
          "bug",
          "psychic"
         ],
         195
        ],
        [
         826,
         "orbeetle",
         [
          "swarm",
          "frisk",
          "telepathy"
         ],
         253,
         4,
         {
          "attack": 45,
          "defense": 110,
          "hp": 60,
          "special-attack": 80,
          "special-defense": 120,
          "speed": 90
         },
         [
          "bug",
          "psychic"
         ],
         408
        ],
        [
         827,
         "nickit",
         [
          "run-away",
          "unburden",
          "stakeout"
         ],
         49,
         6,
         {
          "attack": 28,
          "defense": 28,
          "hp": 40,
          "special-attack": 47,
          "special-defense": 52,
          "speed": 50
         },
         [
          "dark"
         ],
         89
        ],
        [
         828,
         "thievul",
         [
          "run-away",
          "unburden",
          "stakeout"
         ],
         159,
         12,
         {
          "attack": 58,
          "defense": 58,
          "hp": 70,
          "special-attack": 87,
          "special-defense": 92,
          "speed": 90
         },
         [
          "dark"
         ],
         199
        ],
        [
         829,
         "gossifleur",
         [
          "cotton-down",
          "regenerator",
          "effect-spore"
         ],
         50,
         4,
         {
          "attack": 40,
          "defense": 60,
          "hp": 40,
          "special-attack": 40,
          "special-defense": 60,
          "speed": 10
         },
         [
          "grass"
         ],
         22
        ],
        [
         830,
         "eldegoss",
         [
          "cotton-down",
          "regenerator",
          "effect-spore"
         ],
         161,
         5,
         {
          "attack": 50,
          "defense": 90,
          "hp": 60,
          "special-attack": 80,
          "special-defense": 120,
          "speed": 60
         },
         [
          "grass"
         ],
         25
        ],
        [
         831,
         "wooloo",
         [
          "fluffy",
          "run-away",
          "bulletproof"
         ],
         122,
         6,
         {
          "attack": 40,
          "defense": 55,
          "hp": 42,
          "special-attack": 40,
          "special-defense": 45,
          "speed": 48
         },
         [
          "normal"
         ],
         60
        ],
        [
         832,
         "dubwool",
         [
          "fluffy",
          "steadfast",
          "bulletproof"
         ],
         172,
         13,
         {
          "attack": 80,
          "defense": 100,
          "hp": 72,
          "special-attack": 60,
          "special-defense": 90,
          "speed": 88
         },
         [
          "normal"
         ],
         430
        ],
        [
         833,
         "chewtle",
         [
          "strong-jaw",
          "shell-armor",
          "swift-swim"
         ],
         57,
         3,
         {
          "attack": 64,
          "defense": 50,
          "hp": 50,
          "special-attack": 38,
          "special-defense": 38,
          "speed": 44
         },
         [
          "water"
         ],
         85
        ],
        [
         834,
         "drednaw",
         [
          "strong-jaw",
          "shell-armor",
          "swift-swim"
         ],
         170,
         10,
         {
          "attack": 115,
          "defense": 90,
          "hp": 90,
          "special-attack": 48,
          "special-defense": 68,
          "speed": 74
         },
         [
          "water",
          "rock"
         ],
         1155
        ],
        [
         835,
         "yamper",
         [
          "ball-fetch",
          "rattled"
         ],
         54,
         3,
         {
          "attack": 45,
          "defense": 50,
          "hp": 59,
          "special-attack": 40,
          "special-defense": 50,
          "speed": 26
         },
         [
          "electric"
         ],
         135
        ],
        [
         836,
         "boltund",
         [
          "strong-jaw",
          "competitive"
         ],
         172,
         10,
         {
          "attack": 90,
          "defense": 60,
          "hp": 69,
          "special-attack": 90,
          "special-defense": 60,
          "speed": 121
         },
         [
          "electric"
         ],
         340
        ],
        [
         837,
         "rolycoly",
         [
          "steam-engine",
          "heatproof",
          "flash-fire"
         ],
         48,
         3,
         {
          "attack": 40,
          "defense": 50,
          "hp": 30,
          "special-attack": 40,
          "special-defense": 50,
          "speed": 30
         },
         [
          "rock"
         ],
         120
        ],
        [
         838,
         "carkol",
         [
          "steam-engine",
          "flame-body",
          "flash-fire"
         ],
         144,
         11,
         {
          "attack": 60,
          "defense": 90,
          "hp": 80,
          "special-attack": 60,
          "special-defense": 70,
          "speed": 50
         },
         [
          "rock",
          "fire"
         ],
         780
        ],
        [
         839,
         "coalossal",
         [
          "steam-engine",
          "flame-body",
          "flash-fire"
         ],
         255,
         28,
         {
          "attack": 80,
          "defense": 120,
          "hp": 110,
          "special-attack": 80,
          "special-defense": 90,
          "speed": 30
         },
         [
          "rock",
          "fire"
         ],
         3105
        ],
        [
         840,
         "applin",
         [
          "ripen",
          "gluttony",
          "bulletproof"
         ],
         52,
         2,
         {
          "attack": 40,
          "defense": 80,
          "hp": 40,
          "special-attack": 40,
          "special-defense": 40,
          "speed": 20
         },
         [
          "grass",
          "dragon"
         ],
         5
        ],
        [
         841,
         "flapple",
         [
          "ripen",
          "gluttony",
          "hustle"
         ],
         170,
         3,
         {
          "attack": 110,
          "defense": 80,
          "hp": 70,
          "special-attack": 95,
          "special-defense": 60,
          "speed": 70
         },
         [
          "grass",
          "dragon"
         ],
         10
        ],
        [
         842,
         "appletun",
         [
          "ripen",
          "gluttony",
          "thick-fat"
         ],
         170,
         4,
         {
          "attack": 85,
          "defense": 80,
          "hp": 110,
          "special-attack": 100,
          "special-defense": 80,
          "speed": 30
         },
         [
          "grass",
          "dragon"
         ],
         130
        ],
        [
         843,
         "silicobra",
         [
          "sand-spit",
          "shed-skin",
          "sand-veil"
         ],
         63,
         22,
         {
          "attack": 57,
          "defense": 75,
          "hp": 52,
          "special-attack": 35,
          "special-defense": 50,
          "speed": 46
         },
         [
          "ground"
         ],
         76
        ],
        [
         844,
         "sandaconda",
         [
          "sand-spit",
          "shed-skin",
          "sand-veil"
         ],
         179,
         38,
         {
          "attack": 107,
          "defense": 125,
          "hp": 72,
          "special-attack": 65,
          "special-defense": 70,
          "speed": 71
         },
         [
          "ground"
         ],
         655
        ],
        [
         845,
         "cramorant",
         [
          "gulp-missile"
         ],
         166,
         8,
         {
          "attack": 85,
          "defense": 55,
          "hp": 70,
          "special-attack": 85,
          "special-defense": 95,
          "speed": 85
         },
         [
          "flying",
          "water"
         ],
         180
        ],
        [
         846,
         "arrokuda",
         [
          "swift-swim",
          "propeller-tail"
         ],
         56,
         5,
         {
          "attack": 63,
          "defense": 40,
          "hp": 41,
          "special-attack": 40,
          "special-defense": 30,
          "speed": 66
         },
         [
          "water"
         ],
         10
        ],
        [
         847,
         "barraskewda",
         [
          "swift-swim",
          "propeller-tail"
         ],
         172,
         13,
         {
          "attack": 123,
          "defense": 60,
          "hp": 61,
          "special-attack": 60,
          "special-defense": 50,
          "speed": 136
         },
         [
          "water"
         ],
         300
        ],
        [
         848,
         "toxel",
         [
          "rattled",
          "static",
          "klutz"
         ],
         48,
         4,
         {
          "attack": 38,
          "defense": 35,
          "hp": 40,
          "special-attack": 54,
          "special-defense": 35,
          "speed": 40
         },
         [
          "electric",
          "poison"
         ],
         110
        ],
        [
         849,
         "toxtricity-amped",
         [
          "punk-rock",
          "plus",
          "technician"
         ],
         176,
         16,
         {
          "attack": 98,
          "defense": 70,
          "hp": 75,
          "special-attack": 114,
          "special-defense": 70,
          "speed": 75
         },
         [
          "electric",
          "poison"
         ],
         400
        ],
        [
         850,
         "sizzlipede",
         [
          "flash-fire",
          "white-smoke",
          "flame-body"
         ],
         61,
         7,
         {
          "attack": 65,
          "defense": 45,
          "hp": 50,
          "special-attack": 50,
          "special-defense": 50,
          "speed": 45
         },
         [
          "fire",
          "bug"
         ],
         10
        ],
        [
         851,
         "centiskorch",
         [
          "flash-fire",
          "white-smoke",
          "flame-body"
         ],
         184,
         30,
         {
          "attack": 115,
          "defense": 65,
          "hp": 100,
          "special-attack": 90,
          "special-defense": 90,
          "speed": 65
         },
         [
          "fire",
          "bug"
         ],
         1200
        ],
        [
         852,
         "clobbopus",
         [
          "limber",
          "technician"
         ],
         62,
         6,
         {
          "attack": 68,
          "defense": 60,
          "hp": 50,
          "special-attack": 50,
          "special-defense": 50,
          "speed": 32
         },
         [
          "fighting"
         ],
         40
        ],
        [
         853,
         "grapploct",
         [
          "limber",
          "technician"
         ],
         168,
         16,
         {
          "attack": 118,
          "defense": 90,
          "hp": 80,
          "special-attack": 70,
          "special-defense": 80,
          "speed": 42
         },
         [
          "fighting"
         ],
         390
        ],
        [
         854,
         "sinistea",
         [
          "weak-armor",
          "cursed-body"
         ],
         62,
         1,
         {
          "attack": 45,
          "defense": 45,
          "hp": 40,
          "special-attack": 74,
          "special-defense": 54,
          "speed": 50
         },
         [
          "ghost"
         ],
         2
        ],
        [
         855,
         "polteageist",
         [
          "weak-armor",
          "cursed-body"
         ],
         178,
         2,
         {
          "attack": 65,
          "defense": 65,
          "hp": 60,
          "special-attack": 134,
          "special-defense": 114,
          "speed": 70
         },
         [
          "ghost"
         ],
         4
        ],
        [
         856,
         "hatenna",
         [
          "healer",
          "anticipation",
          "magic-bounce"
         ],
         53,
         4,
         {
          "attack": 30,
          "defense": 45,
          "hp": 42,
          "special-attack": 56,
          "special-defense": 53,
          "speed": 39
         },
         [
          "psychic"
         ],
         34
        ],
        [
         857,
         "hattrem",
         [
          "healer",
          "anticipation",
          "magic-bounce"
         ],
         130,
         6,
         {
          "attack": 40,
          "defense": 65,
          "hp": 57,
          "special-attack": 86,
          "special-defense": 73,
          "speed": 49
         },
         [
          "psychic"
         ],
         48
        ],
        [
         858,
         "hatterene",
         [
          "healer",
          "anticipation",
          "magic-bounce"
         ],
         255,
         21,
         {
          "attack": 90,
          "defense": 95,
          "hp": 57,
          "special-attack": 136,
          "special-defense": 103,
          "speed": 29
         },
         [
          "psychic",
          "fairy"
         ],
         51
        ],
        [
         859,
         "impidimp",
         [
          "prankster",
          "frisk",
          "pickpocket"
         ],
         53,
         4,
         {
          "attack": 45,
          "defense": 30,
          "hp": 45,
          "special-attack": 55,
          "special-defense": 40,
          "speed": 50
         },
         [
          "dark",
          "fairy"
         ],
         55
        ],
        [
         860,
         "morgrem",
         [
          "prankster",
          "frisk",
          "pickpocket"
         ],
         130,
         8,
         {
          "attack": 60,
          "defense": 45,
          "hp": 65,
          "special-attack": 75,
          "special-defense": 55,
          "speed": 70
         },
         [
          "dark",
          "fairy"
         ],
         125
        ],
        [
         861,
         "grimmsnarl",
         [
          "prankster",
          "frisk",
          "pickpocket"
         ],
         255,
         15,
         {
          "attack": 120,
          "defense": 65,
          "hp": 95,
          "special-attack": 95,
          "special-defense": 75,
          "speed": 60
         },
         [
          "dark",
          "fairy"
         ],
         610
        ],
        [
         862,
         "obstagoon",
         [
          "reckless",
          "guts",
          "defiant"
         ],
         260,
         16,
         {
          "attack": 90,
          "defense": 101,
          "hp": 93,
          "special-attack": 60,
          "special-defense": 81,
          "speed": 95
         },
         [
          "dark",
          "normal"
         ],
         460
        ],
        [
         863,
         "perrserker",
         [
          "battle-armor",
          "tough-claws",
          "steely-spirit"
         ],
         154,
         8,
         {
          "attack": 110,
          "defense": 100,
          "hp": 70,
          "special-attack": 50,
          "special-defense": 60,
          "speed": 50
         },
         [
          "steel"
         ],
         280
        ],
        [
         864,
         "cursola",
         [
          "weak-armor",
          "perish-body"
         ],
         179,
         10,
         {
          "attack": 95,
          "defense": 50,
          "hp": 60,
          "special-attack": 145,
          "special-defense": 130,
          "speed": 30
         },
         [
          "ghost"
         ],
         4
        ],
        [
         865,
         "sirfetchd",
         [
          "steadfast",
          "scrappy"
         ],
         177,
         8,
         {
          "attack": 135,
          "defense": 95,
          "hp": 62,
          "special-attack": 68,
          "special-defense": 82,
          "speed": 65
         },
         [
          "fighting"
         ],
         1170
        ],
        [
         866,
         "mr-rime",
         [
          "tangled-feet",
          "screen-cleaner",
          "ice-body"
         ],
         182,
         15,
         {
          "attack": 85,
          "defense": 75,
          "hp": 80,
          "special-attack": 110,
          "special-defense": 100,
          "speed": 70
         },
         [
          "ice",
          "psychic"
         ],
         582
        ],
        [
         867,
         "runerigus",
         [
          "wandering-spirit"
         ],
         169,
         16,
         {
          "attack": 95,
          "defense": 145,
          "hp": 58,
          "special-attack": 50,
          "special-defense": 105,
          "speed": 30
         },
         [
          "ground",
          "ghost"
         ],
         666
        ],
        [
         868,
         "milcery",
         [
          "sweet-veil",
          "aroma-veil"
         ],
         54,
         2,
         {
          "attack": 40,
          "defense": 40,
          "hp": 45,
          "special-attack": 50,
          "special-defense": 61,
          "speed": 34
         },
         [
          "fairy"
         ],
         3
        ],
        [
         869,
         "alcremie",
         [
          "sweet-veil",
          "aroma-veil"
         ],
         173,
         3,
         {
          "attack": 60,
          "defense": 75,
          "hp": 65,
          "special-attack": 110,
          "special-defense": 121,
          "speed": 64
         },
         [
          "fairy"
         ],
         5
        ],
        [
         870,
         "falinks",
         [
          "battle-armor",
          "defiant"
         ],
         165,
         30,
         {
          "attack": 100,
          "defense": 100,
          "hp": 65,
          "special-attack": 70,
          "special-defense": 60,
          "speed": 75
         },
         [
          "fighting"
         ],
         620
        ],
        [
         871,
         "pincurchin",
         [
          "lightning-rod",
          "electric-surge"
         ],
         152,
         3,
         {
          "attack": 101,
          "defense": 95,
          "hp": 48,
          "special-attack": 91,
          "special-defense": 85,
          "speed": 15
         },
         [
          "electric"
         ],
         10
        ],
        [
         872,
         "snom",
         [
          "shield-dust",
          "ice-scales"
         ],
         37,
         3,
         {
          "attack": 25,
          "defense": 35,
          "hp": 30,
          "special-attack": 45,
          "special-defense": 30,
          "speed": 20
         },
         [
          "ice",
          "bug"
         ],
         38
        ],
        [
         873,
         "frosmoth",
         [
          "shield-dust",
          "ice-scales"
         ],
         166,
         13,
         {
          "attack": 65,
          "defense": 60,
          "hp": 70,
          "special-attack": 125,
          "special-defense": 90,
          "speed": 65
         },
         [
          "ice",
          "bug"
         ],
         420
        ],
        [
         874,
         "stonjourner",
         [
          "power-spot"
         ],
         165,
         25,
         {
          "attack": 125,
          "defense": 135,
          "hp": 100,
          "special-attack": 20,
          "special-defense": 20,
          "speed": 70
         },
         [
          "rock"
         ],
         5200
        ],
        [
         875,
         "eiscue-ice",
         [
          "ice-face"
         ],
         165,
         14,
         {
          "attack": 80,
          "defense": 110,
          "hp": 75,
          "special-attack": 65,
          "special-defense": 90,
          "speed": 50
         },
         [
          "ice"
         ],
         890
        ],
        [
         876,
         "indeedee-male",
         [
          "inner-focus",
          "synchronize",
          "psychic-surge"
         ],
         166,
         9,
         {
          "attack": 65,
          "defense": 55,
          "hp": 60,
          "special-attack": 105,
          "special-defense": 95,
          "speed": 95
         },
         [
          "psychic",
          "normal"
         ],
         280
        ],
        [
         877,
         "morpeko-full-belly",
         [
          "hunger-switch"
         ],
         153,
         3,
         {
          "attack": 95,
          "defense": 58,
          "hp": 58,
          "special-attack": 70,
          "special-defense": 58,
          "speed": 97
         },
         [
          "electric",
          "dark"
         ],
         30
        ],
        [
         878,
         "cufant",
         [
          "sheer-force",
          "heavy-metal"
         ],
         66,
         12,
         {
          "attack": 80,
          "defense": 49,
          "hp": 72,
          "special-attack": 40,
          "special-defense": 49,
          "speed": 40
         },
         [
          "steel"
         ],
         1000
        ],
        [
         879,
         "copperajah",
         [
          "sheer-force",
          "heavy-metal"
         ],
         175,
         30,
         {
          "attack": 130,
          "defense": 69,
          "hp": 122,
          "special-attack": 80,
          "special-defense": 69,
          "speed": 30
         },
         [
          "steel"
         ],
         6500
        ],
        [
         880,
         "dracozolt",
         [
          "volt-absorb",
          "hustle",
          "sand-rush"
         ],
         177,
         18,
         {
          "attack": 100,
          "defense": 90,
          "hp": 90,
          "special-attack": 80,
          "special-defense": 70,
          "speed": 75
         },
         [
          "electric",
          "dragon"
         ],
         1900
        ],
        [
         881,
         "arctozolt",
         [
          "volt-absorb",
          "static",
          "slush-rush"
         ],
         177,
         23,
         {
          "attack": 100,
          "defense": 90,
          "hp": 90,
          "special-attack": 90,
          "special-defense": 80,
          "speed": 55
         },
         [
          "electric",
          "ice"
         ],
         1500
        ],
        [
         882,
         "dracovish",
         [
          "water-absorb",
          "strong-jaw",
          "sand-rush"
         ],
         177,
         23,
         {
          "attack": 90,
          "defense": 100,
          "hp": 90,
          "special-attack": 70,
          "special-defense": 80,
          "speed": 75
         },
         [
          "water",
          "dragon"
         ],
         2150
        ],
        [
         883,
         "arctovish",
         [
          "water-absorb",
          "ice-body",
          "slush-rush"
         ],
         177,
         20,
         {
          "attack": 90,
          "defense": 100,
          "hp": 90,
          "special-attack": 80,
          "special-defense": 90,
          "speed": 55
         },
         [
          "water",
          "ice"
         ],
         1750
        ],
        [
         884,
         "duraludon",
         [
          "light-metal",
          "heavy-metal",
          "stalwart"
         ],
         187,
         18,
         {
          "attack": 95,
          "defense": 115,
          "hp": 70,
          "special-attack": 120,
          "special-defense": 50,
          "speed": 85
         },
         [
          "steel",
          "dragon"
         ],
         400
        ],
        [
         885,
         "dreepy",
         [
          "clear-body",
          "infiltrator",
          "cursed-body"
         ],
         54,
         5,
         {
          "attack": 60,
          "defense": 30,
          "hp": 28,
          "special-attack": 40,
          "special-defense": 30,
          "speed": 82
         },
         [
          "dragon",
          "ghost"
         ],
         20
        ],
        [
         886,
         "drakloak",
         [
          "clear-body",
          "infiltrator",
          "cursed-body"
         ],
         144,
         14,
         {
          "attack": 80,
          "defense": 50,
          "hp": 68,
          "special-attack": 60,
          "special-defense": 50,
          "speed": 102
         },
         [
          "dragon",
          "ghost"
         ],
         110
        ],
        [
         887,
         "dragapult",
         [
          "clear-body",
          "infiltrator",
          "cursed-body"
         ],
         300,
         30,
         {
          "attack": 120,
          "defense": 75,
          "hp": 88,
          "special-attack": 100,
          "special-defense": 75,
          "speed": 142
         },
         [
          "dragon",
          "ghost"
         ],
         500
        ],
        [
         888,
         "zacian",
         [
          "intrepid-sword"
         ],
         335,
         28,
         {
          "attack": 120,
          "defense": 115,
          "hp": 92,
          "special-attack": 80,
          "special-defense": 115,
          "speed": 138
         },
         [
          "fairy"
         ],
         1100
        ],
        [
         889,
         "zamazenta",
         [
          "dauntless-shield"
         ],
         335,
         29,
         {
          "attack": 120,
          "defense": 115,
          "hp": 92,
          "special-attack": 80,
          "special-defense": 115,
          "speed": 138
         },
         [
          "fighting"
         ],
         2100
        ],
        [
         890,
         "eternatus",
         [
          "pressure"
         ],
         345,
         200,
         {
          "attack": 85,
          "defense": 95,
          "hp": 140,
          "special-attack": 145,
          "special-defense": 95,
          "speed": 130
         },
         [
          "poison",
          "dragon"
         ],
         9500
        ],
        [
         891,
         "kubfu",
         [
          "inner-focus"
         ],
         77,
         6,
         {
          "attack": 90,
          "defense": 60,
          "hp": 60,
          "special-attack": 53,
          "special-defense": 50,
          "speed": 72
         },
         [
          "fighting"
         ],
         120
        ],
        [
         892,
         "urshifu-single-strike",
         [
          "unseen-fist"
         ],
         275,
         19,
         {
          "attack": 130,
          "defense": 100,
          "hp": 100,
          "special-attack": 63,
          "special-defense": 60,
          "speed": 97
         },
         [
          "fighting",
          "dark"
         ],
         1050
        ],
        [
         893,
         "zarude",
         [
          "leaf-guard"
         ],
         300,
         18,
         {
          "attack": 120,
          "defense": 105,
          "hp": 105,
          "special-attack": 70,
          "special-defense": 95,
          "speed": 105
         },
         [
          "dark",
          "grass"
         ],
         700
        ],
        [
         894,
         "regieleki",
         [
          "transistor"
         ],
         290,
         12,
         {
          "attack": 100,
          "defense": 50,
          "hp": 80,
          "special-attack": 100,
          "special-defense": 50,
          "speed": 200
         },
         [
          "electric"
         ],
         1450
        ],
        [
         895,
         "regidrago",
         [
          "dragons-maw"
         ],
         290,
         21,
         {
          "attack": 100,
          "defense": 50,
          "hp": 200,
          "special-attack": 100,
          "special-defense": 50,
          "speed": 80
         },
         [
          "dragon"
         ],
         2000
        ],
        [
         896,
         "glastrier",
         [
          "chilling-neigh"
         ],
         290,
         22,
         {
          "attack": 145,
          "defense": 130,
          "hp": 100,
          "special-attack": 65,
          "special-defense": 110,
          "speed": 30
         },
         [
          "ice"
         ],
         8000
        ],
        [
         897,
         "spectrier",
         [
          "grim-neigh"
         ],
         290,
         20,
         {
          "attack": 65,
          "defense": 60,
          "hp": 100,
          "special-attack": 145,
          "special-defense": 80,
          "speed": 130
         },
         [
          "ghost"
         ],
         445
        ],
        [
         898,
         "calyrex",
         [
          "unnerve"
         ],
         250,
         11,
         {
          "attack": 80,
          "defense": 80,
          "hp": 100,
          "special-attack": 80,
          "special-defense": 80,
          "speed": 80
         },
         [
          "psychic",
          "grass"
         ],
         77
        ],
        [
         899,
         "wyrdeer",
         [
          "intimidate",
          "frisk",
          "sap-sipper"
         ],
         263,
         18,
         {
          "attack": 105,
          "defense": 72,
          "hp": 103,
          "special-attack": 105,
          "special-defense": 75,
          "speed": 65
         },
         [
          "normal",
          "psychic"
         ],
         951
        ],
        [
         900,
         "kleavor",
         [
          "swarm",
          "sheer-force",
          "sharpness"
         ],
         175,
         18,
         {
          "attack": 135,
          "defense": 95,
          "hp": 70,
          "special-attack": 45,
          "special-defense": 70,
          "speed": 85
         },
         [
          "bug",
          "rock"
         ],
         890
        ],
        [
         901,
         "ursaluna",
         [
          "guts",
          "bulletproof",
          "unnerve"
         ],
         275,
         24,
         {
          "attack": 140,
          "defense": 105,
          "hp": 130,
          "special-attack": 45,
          "special-defense": 80,
          "speed": 50
         },
         [
          "ground",
          "normal"
         ],
         2900
        ],
        [
         902,
         "basculegion-male",
         [
          "swift-swim",
          "adaptability",
          "mold-breaker"
         ],
         265,
         30,
         {
          "attack": 112,
          "defense": 65,
          "hp": 120,
          "special-attack": 80,
          "special-defense": 75,
          "speed": 78
         },
         [
          "water",
          "ghost"
         ],
         1100
        ],
        [
         903,
         "sneasler",
         [
          "pressure",
          "unburden",
          "poison-touch"
         ],
         102,
         13,
         {
          "attack": 130,
          "defense": 60,
          "hp": 80,
          "special-attack": 40,
          "special-defense": 80,
          "speed": 120
         },
         [
          "fighting",
          "poison"
         ],
         430
        ],
        [
         904,
         "overqwil",
         [
          "poison-point",
          "swift-swim",
          "intimidate"
         ],
         179,
         25,
         {
          "attack": 115,
          "defense": 95,
          "hp": 85,
          "special-attack": 65,
          "special-defense": 65,
          "speed": 85
         },
         [
          "dark",
          "poison"
         ],
         605
        ],
        [
         905,
         "enamorus-incarnate",
         [
          "cute-charm",
          "contrary"
         ],
         116,
         16,
         {
          "attack": 115,
          "defense": 70,
          "hp": 74,
          "special-attack": 135,
          "special-defense": 80,
          "speed": 106
         },
         [
          "fairy",
          "flying"
         ],
         480
        ],
        [
         906,
         "sprigatito",
         [
          "overgrow",
          "protean"
         ],
         62,
         4,
         {
          "attack": 61,
          "defense": 54,
          "hp": 40,
          "special-attack": 45,
          "special-defense": 45,
          "speed": 65
         },
         [
          "grass"
         ],
         41
        ],
        [
         907,
         "floragato",
         [
          "overgrow",
          "protean"
         ],
         144,
         9,
         {
          "attack": 80,
          "defense": 63,
          "hp": 61,
          "special-attack": 60,
          "special-defense": 63,
          "speed": 83
         },
         [
          "grass"
         ],
         122
        ],
        [
         908,
         "meowscarada",
         [
          "overgrow",
          "protean"
         ],
         265,
         15,
         {
          "attack": 110,
          "defense": 70,
          "hp": 76,
          "special-attack": 81,
          "special-defense": 70,
          "speed": 123
         },
         [
          "grass",
          "dark"
         ],
         312
        ],
        [
         909,
         "fuecoco",
         [
          "blaze",
          "unaware"
         ],
         62,
         4,
         {
          "attack": 45,
          "defense": 59,
          "hp": 67,
          "special-attack": 63,
          "special-defense": 40,
          "speed": 36
         },
         [
          "fire"
         ],
         98
        ],
        [
         910,
         "crocalor",
         [
          "blaze",
          "unaware"
         ],
         144,
         10,
         {
          "attack": 55,
          "defense": 78,
          "hp": 81,
          "special-attack": 90,
          "special-defense": 58,
          "speed": 49
         },
         [
          "fire"
         ],
         307
        ],
        [
         911,
         "skeledirge",
         [
          "blaze",
          "unaware"
         ],
         265,
         16,
         {
          "attack": 75,
          "defense": 100,
          "hp": 104,
          "special-attack": 110,
          "special-defense": 75,
          "speed": 66
         },
         [
          "fire",
          "ghost"
         ],
         3265
        ],
        [
         912,
         "quaxly",
         [
          "torrent",
          "moxie"
         ],
         62,
         5,
         {
          "attack": 65,
          "defense": 45,
          "hp": 55,
          "special-attack": 50,
          "special-defense": 45,
          "speed": 50
         },
         [
          "water"
         ],
         61
        ],
        [
         913,
         "quaxwell",
         [
          "torrent",
          "moxie"
         ],
         144,
         12,
         {
          "attack": 85,
          "defense": 65,
          "hp": 70,
          "special-attack": 65,
          "special-defense": 60,
          "speed": 65
         },
         [
          "water"
         ],
         215
        ],
        [
         914,
         "quaquaval",
         [
          "torrent",
          "moxie"
         ],
         265,
         18,
         {
          "attack": 120,
          "defense": 80,
          "hp": 85,
          "special-attack": 85,
          "special-defense": 75,
          "speed": 85
         },
         [
          "water",
          "fighting"
         ],
         619
        ],
        [
         915,
         "lechonk",
         [
          "aroma-veil",
          "gluttony",
          "thick-fat"
         ],
         51,
         5,
         {
          "attack": 45,
          "defense": 40,
          "hp": 54,
          "special-attack": 35,
          "special-defense": 45,
          "speed": 35
         },
         [
          "normal"
         ],
         102
        ],
        [
         916,
         "oinkologne-male",
         [
          "lingering-aroma",
          "gluttony",
          "thick-fat"
         ],
         171,
         10,
         {
          "attack": 100,
          "defense": 75,
          "hp": 110,
          "special-attack": 59,
          "special-defense": 80,
          "speed": 65
         },
         [
          "normal"
         ],
         1200
        ],
        [
         917,
         "tarountula",
         [
          "insomnia",
          "stakeout"
         ],
         42,
         3,
         {
          "attack": 41,
          "defense": 45,
          "hp": 35,
          "special-attack": 29,
          "special-defense": 40,
          "speed": 20
         },
         [
          "bug"
         ],
         40
        ],
        [
         918,
         "spidops",
         [
          "insomnia",
          "stakeout"
         ],
         141,
         10,
         {
          "attack": 79,
          "defense": 92,
          "hp": 60,
          "special-attack": 52,
          "special-defense": 86,
          "speed": 35
         },
         [
          "bug"
         ],
         165
        ],
        [
         919,
         "nymble",
         [
          "swarm",
          "tinted-lens"
         ],
         42,
         2,
         {
          "attack": 46,
          "defense": 40,
          "hp": 33,
          "special-attack": 21,
          "special-defense": 25,
          "speed": 45
         },
         [
          "bug"
         ],
         10
        ],
        [
         920,
         "lokix",
         [
          "swarm",
          "tinted-lens"
         ],
         158,
         10,
         {
          "attack": 102,
          "defense": 78,
          "hp": 71,
          "special-attack": 52,
          "special-defense": 55,
          "speed": 92
         },
         [
          "bug",
          "dark"
         ],
         175
        ],
        [
         921,
         "pawmi",
         [
          "static",
          "natural-cure",
          "iron-fist"
         ],
         48,
         3,
         {
          "attack": 50,
          "defense": 20,
          "hp": 45,
          "special-attack": 40,
          "special-defense": 25,
          "speed": 60
         },
         [
          "electric"
         ],
         25
        ],
        [
         922,
         "pawmo",
         [
          "volt-absorb",
          "natural-cure",
          "iron-fist"
         ],
         123,
         4,
         {
          "attack": 75,
          "defense": 40,
          "hp": 60,
          "special-attack": 50,
          "special-defense": 40,
          "speed": 85
         },
         [
          "electric",
          "fighting"
         ],
         65
        ],
        [
         923,
         "pawmot",
         [
          "volt-absorb",
          "natural-cure",
          "iron-fist"
         ],
         245,
         9,
         {
          "attack": 115,
          "defense": 70,
          "hp": 70,
          "special-attack": 70,
          "special-defense": 60,
          "speed": 105
         },
         [
          "electric",
          "fighting"
         ],
         410
        ],
        [
         924,
         "tandemaus",
         [
          "run-away",
          "pickup",
          "own-tempo"
         ],
         61,
         3,
         {
          "attack": 50,
          "defense": 45,
          "hp": 50,
          "special-attack": 40,
          "special-defense": 45,
          "speed": 75
         },
         [
          "normal"
         ],
         18
        ],
        [
         925,
         "maushold-family-of-four",
         [
          "friend-guard",
          "cheek-pouch",
          "technician"
         ],
         165,
         3,
         {
          "attack": 75,
          "defense": 70,
          "hp": 74,
          "special-attack": 65,
          "special-defense": 75,
          "speed": 111
         },
         [
          "normal"
         ],
         23
        ],
        [
         926,
         "fidough",
         [
          "own-tempo",
          "klutz"
         ],
         62,
         3,
         {
          "attack": 55,
          "defense": 70,
          "hp": 37,
          "special-attack": 30,
          "special-defense": 55,
          "speed": 65
         },
         [
          "fairy"
         ],
         109
        ],
        [
         927,
         "dachsbun",
         [
          "well-baked-body",
          "aroma-veil"
         ],
         167,
         5,
         {
          "attack": 80,
          "defense": 115,
          "hp": 57,
          "special-attack": 50,
          "special-defense": 80,
          "speed": 95
         },
         [
          "fairy"
         ],
         149
        ],
        [
         928,
         "smoliv",
         [
          "early-bird",
          "harvest"
         ],
         52,
         3,
         {
          "attack": 35,
          "defense": 45,
          "hp": 41,
          "special-attack": 58,
          "special-defense": 51,
          "speed": 30
         },
         [
          "grass",
          "normal"
         ],
         65
        ],
        [
         929,
         "dolliv",
         [
          "early-bird",
          "harvest"
         ],
         124,
         6,
         {
          "attack": 53,
          "defense": 60,
          "hp": 52,
          "special-attack": 78,
          "special-defense": 78,
          "speed": 33
         },
         [
          "grass",
          "normal"
         ],
         119
        ],
        [
         930,
         "arboliva",
         [
          "seed-sower",
          "harvest"
         ],
         255,
         14,
         {
          "attack": 69,
          "defense": 90,
          "hp": 78,
          "special-attack": 125,
          "special-defense": 109,
          "speed": 39
         },
         [
          "grass",
          "normal"
         ],
         482
        ],
        [
         931,
         "squawkabilly-green-plumage",
         [
          "intimidate",
          "hustle",
          "guts"
         ],
         146,
         6,
         {
          "attack": 96,
          "defense": 51,
          "hp": 82,
          "special-attack": 45,
          "special-defense": 51,
          "speed": 92
         },
         [
          "normal",
          "flying"
         ],
         24
        ],
        [
         932,
         "nacli",
         [
          "purifying-salt",
          "sturdy",
          "clear-body"
         ],
         56,
         4,
         {
          "attack": 55,
          "defense": 75,
          "hp": 55,
          "special-attack": 35,
          "special-defense": 35,
          "speed": 25
         },
         [
          "rock"
         ],
         160
        ],
        [
         933,
         "naclstack",
         [
          "purifying-salt",
          "sturdy",
          "clear-body"
         ],
         124,
         6,
         {
          "attack": 60,
          "defense": 100,
          "hp": 60,
          "special-attack": 35,
          "special-defense": 65,
          "speed": 35
         },
         [
          "rock"
         ],
         1050
        ],
        [
         934,
         "garganacl",
         [
          "purifying-salt",
          "sturdy",
          "clear-body"
         ],
         250,
         23,
         {
          "attack": 100,
          "defense": 130,
          "hp": 100,
          "special-attack": 45,
          "special-defense": 90,
          "speed": 35
         },
         [
          "rock"
         ],
         2400
        ],
        [
         935,
         "charcadet",
         [
          "flash-fire",
          "flame-body"
         ],
         51,
         6,
         {
          "attack": 50,
          "defense": 40,
          "hp": 40,
          "special-attack": 50,
          "special-defense": 40,
          "speed": 35
         },
         [
          "fire"
         ],
         105
        ],
        [
         936,
         "armarouge",
         [
          "flash-fire",
          "weak-armor"
         ],
         263,
         15,
         {
          "attack": 60,
          "defense": 100,
          "hp": 85,
          "special-attack": 125,
          "special-defense": 80,
          "speed": 75
         },
         [
          "fire",
          "psychic"
         ],
         850
        ],
        [
         937,
         "ceruledge",
         [
          "flash-fire",
          "weak-armor"
         ],
         263,
         16,
         {
          "attack": 125,
          "defense": 80,
          "hp": 75,
          "special-attack": 60,
          "special-defense": 100,
          "speed": 85
         },
         [
          "fire",
          "ghost"
         ],
         620
        ],
        [
         938,
         "tadbulb",
         [
          "own-tempo",
          "static",
          "damp"
         ],
         54,
         3,
         {
          "attack": 31,
          "defense": 41,
          "hp": 61,
          "special-attack": 59,
          "special-defense": 35,
          "speed": 45
         },
         [
          "electric"
         ],
         4
        ],
        [
         939,
         "bellibolt",
         [
          "electromorphosis",
          "static",
          "damp"
         ],
         173,
         12,
         {
          "attack": 64,
          "defense": 91,
          "hp": 109,
          "special-attack": 103,
          "special-defense": 83,
          "speed": 45
         },
         [
          "electric"
         ],
         1130
        ],
        [
         940,
         "wattrel",
         [
          "wind-power",
          "volt-absorb",
          "competitive"
         ],
         56,
         4,
         {
          "attack": 40,
          "defense": 35,
          "hp": 40,
          "special-attack": 55,
          "special-defense": 40,
          "speed": 70
         },
         [
          "electric",
          "flying"
         ],
         36
        ],
        [
         941,
         "kilowattrel",
         [
          "wind-power",
          "volt-absorb",
          "competitive"
         ],
         172,
         14,
         {
          "attack": 70,
          "defense": 60,
          "hp": 70,
          "special-attack": 105,
          "special-defense": 60,
          "speed": 125
         },
         [
          "electric",
          "flying"
         ],
         386
        ],
        [
         942,
         "maschiff",
         [
          "intimidate",
          "run-away",
          "stakeout"
         ],
         68,
         5,
         {
          "attack": 78,
          "defense": 60,
          "hp": 60,
          "special-attack": 40,
          "special-defense": 51,
          "speed": 51
         },
         [
          "dark"
         ],
         160
        ],
        [
         943,
         "mabosstiff",
         [
          "intimidate",
          "guard-dog",
          "stakeout"
         ],
         177,
         11,
         {
          "attack": 120,
          "defense": 90,
          "hp": 80,
          "special-attack": 60,
          "special-defense": 70,
          "speed": 85
         },
         [
          "dark"
         ],
         610
        ],
        [
         944,
         "shroodle",
         [
          "unburden",
          "pickpocket",
          "prankster"
         ],
         58,
         2,
         {
          "attack": 65,
          "defense": 35,
          "hp": 40,
          "special-attack": 40,
          "special-defense": 35,
          "speed": 75
         },
         [
          "poison",
          "normal"
         ],
         7
        ],
        [
         945,
         "grafaiai",
         [
          "unburden",
          "poison-touch",
          "prankster"
         ],
         170,
         7,
         {
          "attack": 95,
          "defense": 65,
          "hp": 63,
          "special-attack": 80,
          "special-defense": 72,
          "speed": 110
         },
         [
          "poison",
          "normal"
         ],
         272
        ],
        [
         946,
         "bramblin",
         [
          "wind-rider",
          "infiltrator"
         ],
         55,
         6,
         {
          "attack": 65,
          "defense": 30,
          "hp": 40,
          "special-attack": 45,
          "special-defense": 35,
          "speed": 60
         },
         [
          "grass",
          "ghost"
         ],
         6
        ],
        [
         947,
         "brambleghast",
         [
          "wind-rider",
          "infiltrator"
         ],
         168,
         12,
         {
          "attack": 115,
          "defense": 70,
          "hp": 55,
          "special-attack": 80,
          "special-defense": 70,
          "speed": 90
         },
         [
          "grass",
          "ghost"
         ],
         60
        ],
        [
         948,
         "toedscool",
         [
          "mycelium-might",
          "mycelium-might"
         ],
         67,
         9,
         {
          "attack": 40,
          "defense": 35,
          "hp": 40,
          "special-attack": 50,
          "special-defense": 100,
          "speed": 70
         },
         [
          "ground",
          "grass"
         ],
         330
        ],
        [
         949,
         "toedscruel",
         [
          "mycelium-might",
          "mycelium-might"
         ],
         180,
         19,
         {
          "attack": 70,
          "defense": 65,
          "hp": 80,
          "special-attack": 80,
          "special-defense": 120,
          "speed": 100
         },
         [
          "ground",
          "grass"
         ],
         580
        ],
        [
         950,
         "klawf",
         [
          "anger-shell",
          "shell-armor",
          "regenerator"
         ],
         158,
         13,
         {
          "attack": 100,
          "defense": 115,
          "hp": 70,
          "special-attack": 35,
          "special-defense": 55,
          "speed": 75
         },
         [
          "rock"
         ],
         790
        ],
        [
         951,
         "capsakid",
         [
          "chlorophyll",
          "insomnia",
          "klutz"
         ],
         61,
         3,
         {
          "attack": 62,
          "defense": 40,
          "hp": 50,
          "special-attack": 62,
          "special-defense": 40,
          "speed": 50
         },
         [
          "grass"
         ],
         30
        ],
        [
         952,
         "scovillain",
         [
          "chlorophyll",
          "insomnia",
          "moody"
         ],
         170,
         9,
         {
          "attack": 108,
          "defense": 65,
          "hp": 65,
          "special-attack": 108,
          "special-defense": 65,
          "speed": 75
         },
         [
          "grass",
          "fire"
         ],
         150
        ],
        [
         953,
         "rellor",
         [
          "compound-eyes",
          "shed-skin"
         ],
         54,
         2,
         {
          "attack": 50,
          "defense": 60,
          "hp": 41,
          "special-attack": 31,
          "special-defense": 58,
          "speed": 30
         },
         [
          "bug"
         ],
         10
        ],
        [
         954,
         "rabsca",
         [
          "synchronize",
          "telepathy"
         ],
         165,
         3,
         {
          "attack": 50,
          "defense": 85,
          "hp": 75,
          "special-attack": 115,
          "special-defense": 100,
          "speed": 45
         },
         [
          "bug",
          "psychic"
         ],
         35
        ],
        [
         955,
         "flittle",
         [
          "anticipation",
          "frisk",
          "speed-boost"
         ],
         51,
         2,
         {
          "attack": 35,
          "defense": 30,
          "hp": 30,
          "special-attack": 55,
          "special-defense": 30,
          "speed": 75
         },
         [
          "psychic"
         ],
         15
        ],
        [
         956,
         "espathra",
         [
          "opportunist",
          "frisk",
          "speed-boost"
         ],
         168,
         19,
         {
          "attack": 60,
          "defense": 60,
          "hp": 95,
          "special-attack": 101,
          "special-defense": 60,
          "speed": 105
         },
         [
          "psychic"
         ],
         900
        ],
        [
         957,
         "tinkatink",
         [
          "mold-breaker",
          "own-tempo",
          "pickpocket"
         ],
         59,
         4,
         {
          "attack": 45,
          "defense": 45,
          "hp": 50,
          "special-attack": 35,
          "special-defense": 64,
          "speed": 58
         },
         [
          "fairy",
          "steel"
         ],
         89
        ],
        [
         958,
         "tinkatuff",
         [
          "mold-breaker",
          "own-tempo",
          "pickpocket"
         ],
         133,
         7,
         {
          "attack": 55,
          "defense": 55,
          "hp": 65,
          "special-attack": 45,
          "special-defense": 82,
          "speed": 78
         },
         [
          "fairy",
          "steel"
         ],
         591
        ],
        [
         959,
         "tinkaton",
         [
          "mold-breaker",
          "own-tempo",
          "pickpocket"
         ],
         253,
         7,
         {
          "attack": 75,
          "defense": 77,
          "hp": 85,
          "special-attack": 70,
          "special-defense": 105,
          "speed": 94
         },
         [
          "fairy",
          "steel"
         ],
         1128
        ],
        [
         960,
         "wiglett",
         [
          "gooey",
          "rattled",
          "sand-veil"
         ],
         49,
         12,
         {
          "attack": 55,
          "defense": 25,
          "hp": 10,
          "special-attack": 35,
          "special-defense": 25,
          "speed": 95
         },
         [
          "water"
         ],
         18
        ],
        [
         961,
         "wugtrio",
         [
          "gooey",
          "rattled",
          "sand-veil"
         ],
         149,
         12,
         {
          "attack": 100,
          "defense": 50,
          "hp": 35,
          "special-attack": 50,
          "special-defense": 70,
          "speed": 120
         },
         [
          "water"
         ],
         54
        ],
        [
         962,
         "bombirdier",
         [
          "big-pecks",
          "keen-eye",
          "rocky-payload"
         ],
         243,
         15,
         {
          "attack": 103,
          "defense": 85,
          "hp": 70,
          "special-attack": 60,
          "special-defense": 85,
          "speed": 82
         },
         [
          "flying",
          "dark"
         ],
         429
        ],
        [
         963,
         "finizen",
         [
          "water-veil",
          "water-veil"
         ],
         63,
         13,
         {
          "attack": 45,
          "defense": 40,
          "hp": 70,
          "special-attack": 45,
          "special-defense": 40,
          "speed": 75
         },
         [
          "water"
         ],
         602
        ],
        [
         964,
         "palafin-zero",
         [
          "zero-to-hero",
          "zero-to-hero"
         ],
         160,
         13,
         {
          "attack": 70,
          "defense": 72,
          "hp": 100,
          "special-attack": 53,
          "special-defense": 62,
          "speed": 100
         },
         [
          "water"
         ],
         602
        ],
        [
         965,
         "varoom",
         [
          "overcoat",
          "slow-start"
         ],
         60,
         10,
         {
          "attack": 70,
          "defense": 63,
          "hp": 45,
          "special-attack": 30,
          "special-defense": 45,
          "speed": 47
         },
         [
          "steel",
          "poison"
         ],
         350
        ],
        [
         966,
         "revavroom",
         [
          "overcoat",
          "filter"
         ],
         175,
         18,
         {
          "attack": 119,
          "defense": 90,
          "hp": 80,
          "special-attack": 54,
          "special-defense": 67,
          "speed": 90
         },
         [
          "steel",
          "poison"
         ],
         1200
        ],
        [
         967,
         "cyclizar",
         [
          "shed-skin",
          "regenerator"
         ],
         175,
         16,
         {
          "attack": 95,
          "defense": 65,
          "hp": 70,
          "special-attack": 85,
          "special-defense": 65,
          "speed": 121
         },
         [
          "dragon",
          "normal"
         ],
         630
        ],
        [
         968,
         "orthworm",
         [
          "earth-eater",
          "sand-veil"
         ],
         240,
         25,
         {
          "attack": 85,
          "defense": 145,
          "hp": 70,
          "special-attack": 60,
          "special-defense": 55,
          "speed": 65
         },
         [
          "steel"
         ],
         3100
        ],
        [
         969,
         "glimmet",
         [
          "toxic-debris",
          "corrosion"
         ],
         70,
         7,
         {
          "attack": 35,
          "defense": 42,
          "hp": 48,
          "special-attack": 105,
          "special-defense": 60,
          "speed": 60
         },
         [
          "rock",
          "poison"
         ],
         80
        ],
        [
         970,
         "glimmora",
         [
          "toxic-debris",
          "corrosion"
         ],
         184,
         15,
         {
          "attack": 55,
          "defense": 90,
          "hp": 83,
          "special-attack": 130,
          "special-defense": 81,
          "speed": 86
         },
         [
          "rock",
          "poison"
         ],
         450
        ],
        [
         971,
         "greavard",
         [
          "pickup",
          "fluffy"
         ],
         58,
         6,
         {
          "attack": 61,
          "defense": 60,
          "hp": 50,
          "special-attack": 30,
          "special-defense": 55,
          "speed": 34
         },
         [
          "ghost"
         ],
         350
        ],
        [
         972,
         "houndstone",
         [
          "sand-rush",
          "fluffy"
         ],
         171,
         20,
         {
          "attack": 101,
          "defense": 100,
          "hp": 72,
          "special-attack": 50,
          "special-defense": 97,
          "speed": 68
         },
         [
          "ghost"
         ],
         150
        ],
        [
         973,
         "flamigo",
         [
          "scrappy",
          "tangled-feet",
          "costar"
         ],
         175,
         16,
         {
          "attack": 115,
          "defense": 74,
          "hp": 82,
          "special-attack": 75,
          "special-defense": 64,
          "speed": 90
         },
         [
          "flying",
          "fighting"
         ],
         370
        ],
        [
         974,
         "cetoddle",
         [
          "thick-fat",
          "snow-cloak",
          "sheer-force"
         ],
         67,
         12,
         {
          "attack": 68,
          "defense": 45,
          "hp": 108,
          "special-attack": 30,
          "special-defense": 40,
          "speed": 43
         },
         [
          "ice"
         ],
         450
        ],
        [
         975,
         "cetitan",
         [
          "thick-fat",
          "slush-rush",
          "sheer-force"
         ],
         182,
         45,
         {
          "attack": 113,
          "defense": 65,
          "hp": 170,
          "special-attack": 45,
          "special-defense": 55,
          "speed": 73
         },
         [
          "ice"
         ],
         7000
        ],
        [
         976,
         "veluza",
         [
          "mold-breaker",
          "sharpness"
         ],
         167,
         25,
         {
          "attack": 102,
          "defense": 73,
          "hp": 90,
          "special-attack": 78,
          "special-defense": 65,
          "speed": 70
         },
         [
          "water",
          "psychic"
         ],
         900
        ],
        [
         977,
         "dondozo",
         [
          "unaware",
          "oblivious",
          "water-veil"
         ],
         265,
         120,
         {
          "attack": 100,
          "defense": 115,
          "hp": 150,
          "special-attack": 65,
          "special-defense": 65,
          "speed": 35
         },
         [
          "water"
         ],
         2200
        ],
        [
         978,
         "tatsugiri-curly",
         [
          "commander",
          "storm-drain"
         ],
         166,
         3,
         {
          "attack": 50,
          "defense": 60,
          "hp": 68,
          "special-attack": 120,
          "special-defense": 95,
          "speed": 82
         },
         [
          "dragon",
          "water"
         ],
         80
        ],
        [
         979,
         "annihilape",
         [
          "vital-spirit",
          "inner-focus",
          "defiant"
         ],
         268,
         12,
         {
          "attack": 115,
          "defense": 80,
          "hp": 110,
          "special-attack": 50,
          "special-defense": 90,
          "speed": 90
         },
         [
          "fighting",
          "ghost"
         ],
         560
        ],
        [
         980,
         "clodsire",
         [
          "poison-point",
          "water-absorb",
          "unaware"
         ],
         151,
         18,
         {
          "attack": 75,
          "defense": 60,
          "hp": 130,
          "special-attack": 45,
          "special-defense": 100,
          "speed": 20
         },
         [
          "poison",
          "ground"
         ],
         2230
        ],
        [
         981,
         "farigiraf",
         [
          "cud-chew",
          "armor-tail",
          "sap-sipper"
         ],
         260,
         32,
         {
          "attack": 90,
          "defense": 70,
          "hp": 120,
          "special-attack": 110,
          "special-defense": 70,
          "speed": 60
         },
         [
          "normal",
          "psychic"
         ],
         1600
        ],
        [
         982,
         "dudunsparce-two-segment",
         [
          "serene-grace",
          "run-away",
          "rattled"
         ],
         182,
         36,
         {
          "attack": 100,
          "defense": 80,
          "hp": 125,
          "special-attack": 85,
          "special-defense": 75,
          "speed": 55
         },
         [
          "normal"
         ],
         392
        ],
        [
         983,
         "kingambit",
         [
          "defiant",
          "supreme-overlord",
          "pressure"
         ],
         275,
         20,
         {
          "attack": 135,
          "defense": 120,
          "hp": 100,
          "special-attack": 60,
          "special-defense": 85,
          "speed": 50
         },
         [
          "dark",
          "steel"
         ],
         1200
        ],
        [
         984,
         "great-tusk",
         [
          "protosynthesis"
         ],
         285,
         22,
         {
          "attack": 131,
          "defense": 131,
          "hp": 115,
          "special-attack": 53,
          "special-defense": 53,
          "speed": 87
         },
         [
          "ground",
          "fighting"
         ],
         3200
        ],
        [
         985,
         "scream-tail",
         [
          "protosynthesis"
         ],
         285,
         12,
         {
          "attack": 65,
          "defense": 99,
          "hp": 115,
          "special-attack": 65,
          "special-defense": 115,
          "speed": 111
         },
         [
          "fairy",
          "psychic"
         ],
         80
        ],
        [
         986,
         "brute-bonnet",
         [
          "protosynthesis"
         ],
         285,
         12,
         {
          "attack": 127,
          "defense": 99,
          "hp": 111,
          "special-attack": 79,
          "special-defense": 99,
          "speed": 55
         },
         [
          "grass",
          "dark"
         ],
         210
        ],
        [
         987,
         "flutter-mane",
         [
          "protosynthesis"
         ],
         285,
         14,
         {
          "attack": 55,
          "defense": 55,
          "hp": 55,
          "special-attack": 135,
          "special-defense": 135,
          "speed": 135
         },
         [
          "ghost",
          "fairy"
         ],
         40
        ],
        [
         988,
         "slither-wing",
         [
          "protosynthesis"
         ],
         285,
         32,
         {
          "attack": 135,
          "defense": 79,
          "hp": 85,
          "special-attack": 85,
          "special-defense": 105,
          "speed": 81
         },
         [
          "bug",
          "fighting"
         ],
         920
        ],
        [
         989,
         "sandy-shocks",
         [
          "protosynthesis"
         ],
         285,
         23,
         {
          "attack": 81,
          "defense": 97,
          "hp": 85,
          "special-attack": 121,
          "special-defense": 85,
          "speed": 101
         },
         [
          "electric",
          "ground"
         ],
         600
        ],
        [
         990,
         "iron-treads",
         [
          "quark-drive"
         ],
         285,
         9,
         {
          "attack": 112,
          "defense": 120,
          "hp": 90,
          "special-attack": 72,
          "special-defense": 70,
          "speed": 106
         },
         [
          "ground",
          "steel"
         ],
         2400
        ],
        [
         991,
         "iron-bundle",
         [
          "quark-drive"
         ],
         285,
         6,
         {
          "attack": 80,
          "defense": 114,
          "hp": 56,
          "special-attack": 124,
          "special-defense": 60,
          "speed": 136
         },
         [
          "ice",
          "water"
         ],
         110
        ],
        [
         992,
         "iron-hands",
         [
          "quark-drive"
         ],
         285,
         18,
         {
          "attack": 140,
          "defense": 108,
          "hp": 154,
          "special-attack": 50,
          "special-defense": 68,
          "speed": 50
         },
         [
          "fighting",
          "electric"
         ],
         3807
        ],
        [
         993,
         "iron-jugulis",
         [
          "quark-drive"
         ],
         285,
         13,
         {
          "attack": 80,
          "defense": 86,
          "hp": 94,
          "special-attack": 122,
          "special-defense": 80,
          "speed": 108
         },
         [
          "dark",
          "flying"
         ],
         1110
        ],
        [
         994,
         "iron-moth",
         [
          "quark-drive"
         ],
         285,
         12,
         {
          "attack": 70,
          "defense": 60,
          "hp": 80,
          "special-attack": 140,
          "special-defense": 110,
          "speed": 110
         },
         [
          "fire",
          "poison"
         ],
         360
        ],
        [
         995,
         "iron-thorns",
         [
          "quark-drive"
         ],
         285,
         16,
         {
          "attack": 134,
          "defense": 110,
          "hp": 100,
          "special-attack": 70,
          "special-defense": 84,
          "speed": 72
         },
         [
          "rock",
          "electric"
         ],
         3030
        ],
        [
         996,
         "frigibax",
         [
          "thermal-exchange",
          "ice-body"
         ],
         64,
         5,
         {
          "attack": 75,
          "defense": 45,
          "hp": 65,
          "special-attack": 35,
          "special-defense": 45,
          "speed": 55
         },
         [
          "dragon",
          "ice"
         ],
         170
        ],
        [
         997,
         "arctibax",
         [
          "thermal-exchange",
          "ice-body"
         ],
         148,
         8,
         {
          "attack": 95,
          "defense": 66,
          "hp": 90,
          "special-attack": 45,
          "special-defense": 65,
          "speed": 62
         },
         [
          "dragon",
          "ice"
         ],
         300
        ],
        [
         998,
         "baxcalibur",
         [
          "thermal-exchange",
          "ice-body"
         ],
         300,
         21,
         {
          "attack": 145,
          "defense": 92,
          "hp": 115,
          "special-attack": 75,
          "special-defense": 86,
          "speed": 87
         },
         [
          "dragon",
          "ice"
         ],
         2100
        ],
        [
         999,
         "gimmighoul",
         [
          "rattled"
         ],
         60,
         3,
         {
          "attack": 30,
          "defense": 70,
          "hp": 45,
          "special-attack": 75,
          "special-defense": 70,
          "speed": 10
         },
         [
          "ghost"
         ],
         50
        ],
        [
         1000,
         "gholdengo",
         [
          "good-as-gold"
         ],
         275,
         12,
         {
          "attack": 60,
          "defense": 95,
          "hp": 87,
          "special-attack": 133,
          "special-defense": 91,
          "speed": 84
         },
         [
          "steel",
          "ghost"
         ],
         300
        ],
        [
         1001,
         "wo-chien",
         [
          "tablets-of-ruin"
         ],
         285,
         15,
         {
          "attack": 85,
          "defense": 100,
          "hp": 85,
          "special-attack": 95,
          "special-defense": 135,
          "speed": 70
         },
         [
          "dark",
          "grass"
         ],
         742
        ],
        [
         1002,
         "chien-pao",
         [
          "sword-of-ruin"
         ],
         285,
         19,
         {
          "attack": 120,
          "defense": 80,
          "hp": 80,
          "special-attack": 90,
          "special-defense": 65,
          "speed": 135
         },
         [
          "dark",
          "ice"
         ],
         1522
        ],
        [
         1003,
         "ting-lu",
         [
          "vessel-of-ruin"
         ],
         285,
         27,
         {
          "attack": 110,
          "defense": 125,
          "hp": 155,
          "special-attack": 55,
          "special-defense": 80,
          "speed": 45
         },
         [
          "dark",
          "ground"
         ],
         6997
        ],
        [
         1004,
         "chi-yu",
         [
          "beads-of-ruin"
         ],
         285,
         4,
         {
          "attack": 80,
          "defense": 80,
          "hp": 55,
          "special-attack": 135,
          "special-defense": 120,
          "speed": 100
         },
         [
          "dark",
          "fire"
         ],
         49
        ],
        [
         1005,
         "roaring-moon",
         [
          "protosynthesis"
         ],
         295,
         20,
         {
          "attack": 139,
          "defense": 71,
          "hp": 105,
          "special-attack": 55,
          "special-defense": 101,
          "speed": 119
         },
         [
          "dragon",
          "dark"
         ],
         3800
        ],
        [
         1006,
         "iron-valiant",
         [
          "quark-drive"
         ],
         295,
         14,
         {
          "attack": 130,
          "defense": 90,
          "hp": 74,
          "special-attack": 120,
          "special-defense": 60,
          "speed": 116
         },
         [
          "fairy",
          "fighting"
         ],
         350
        ],
        [
         1007,
         "koraidon",
         [
          "orichalcum-pulse"
         ],
         335,
         25,
         {
          "attack": 135,
          "defense": 115,
          "hp": 100,
          "special-attack": 85,
          "special-defense": 100,
          "speed": 135
         },
         [
          "fighting",
          "dragon"
         ],
         3030
        ],
        [
         1008,
         "miraidon",
         [
          "hadron-engine"
         ],
         335,
         35,
         {
          "attack": 85,
          "defense": 100,
          "hp": 100,
          "special-attack": 135,
          "special-defense": 115,
          "speed": 135
         },
         [
          "electric",
          "dragon"
         ],
         2400
        ],
        [
         1009,
         "walking-wake",
         [
          "protosynthesis"
         ],
         295,
         35,
         {
          "attack": 83,
          "defense": 91,
          "hp": 99,
          "special-attack": 125,
          "special-defense": 83,
          "speed": 109
         },
         [
          "water",
          "dragon"
         ],
         2800
        ],
        [
         1010,
         "iron-leaves",
         [
          "quark-drive"
         ],
         295,
         15,
         {
          "attack": 130,
          "defense": 88,
          "hp": 90,
          "special-attack": 70,
          "special-defense": 108,
          "speed": 104
         },
         [
          "grass",
          "psychic"
         ],
         1250
        ],
        [
         1011,
         "dipplin",
         [
          "supersweet-syrup",
          "gluttony",
          "sticky-hold"
         ],
         170,
         4,
         {
          "attack": 80,
          "defense": 110,
          "hp": 80,
          "special-attack": 95,
          "special-defense": 80,
          "speed": 40
         },
         [
          "grass",
          "dragon"
         ],
         97
        ],
        [
         1012,
         "poltchageist",
         [
          "hospitality",
          "heatproof"
         ],
         62,
         1,
         {
          "attack": 45,
          "defense": 45,
          "hp": 40,
          "special-attack": 74,
          "special-defense": 54,
          "speed": 50
         },
         [
          "grass",
          "ghost"
         ],
         11
        ],
        [
         1013,
         "sinistcha",
         [
          "hospitality",
          "heatproof"
         ],
         178,
         2,
         {
          "attack": 60,
          "defense": 106,
          "hp": 71,
          "special-attack": 121,
          "special-defense": 80,
          "speed": 70
         },
         [
          "grass",
          "ghost"
         ],
         22
        ],
        [
         1014,
         "okidogi",
         [
          "toxic-chain",
          "guard-dog"
         ],
         278,
         18,
         {
          "attack": 128,
          "defense": 115,
          "hp": 88,
          "special-attack": 58,
          "special-defense": 86,
          "speed": 80
         },
         [
          "poison",
          "fighting"
         ],
         922
        ],
        [
         1015,
         "munkidori",
         [
          "toxic-chain",
          "frisk"
         ],
         278,
         10,
         {
          "attack": 75,
          "defense": 66,
          "hp": 88,
          "special-attack": 130,
          "special-defense": 90,
          "speed": 106
         },
         [
          "poison",
          "psychic"
         ],
         122
        ],
        [
         1016,
         "fezandipiti",
         [
          "toxic-chain",
          "technician"
         ],
         278,
         14,
         {
          "attack": 91,
          "defense": 82,
          "hp": 88,
          "special-attack": 70,
          "special-defense": 125,
          "speed": 99
         },
         [
          "poison",
          "fairy"
         ],
         301
        ],
        [
         1017,
         "ogerpon",
         [
          "defiant"
         ],
         275,
         12,
         {
          "attack": 120,
          "defense": 84,
          "hp": 80,
          "special-attack": 60,
          "special-defense": 96,
          "speed": 110
         },
         [
          "grass"
         ],
         398
        ],
        [
         1018,
         "archaludon",
         [
          "stamina",
          "sturdy",
          "stalwart"
         ],
         300,
         20,
         {
          "attack": 105,
          "defense": 130,
          "hp": 90,
          "special-attack": 125,
          "special-defense": 65,
          "speed": 85
         },
         [
          "steel",
          "dragon"
         ],
         600
        ],
        [
         1019,
         "hydrapple",
         [
          "supersweet-syrup",
          "regenerator",
          "sticky-hold"
         ],
         270,
         18,
         {
          "attack": 80,
          "defense": 110,
          "hp": 106,
          "special-attack": 120,
          "special-defense": 80,
          "speed": 44
         },
         [
          "grass",
          "dragon"
         ],
         930
        ],
        [
         1020,
         "gouging-fire",
         [
          "protosynthesis"
         ],
         295,
         35,
         {
          "attack": 115,
          "defense": 121,
          "hp": 105,
          "special-attack": 65,
          "special-defense": 93,
          "speed": 91
         },
         [
          "fire",
          "dragon"
         ],
         5900
        ],
        [
         1021,
         "raging-bolt",
         [
          "protosynthesis"
         ],
         295,
         52,
         {
          "attack": 73,
          "defense": 91,
          "hp": 125,
          "special-attack": 137,
          "special-defense": 89,
          "speed": 75
         },
         [
          "electric",
          "dragon"
         ],
         4800
        ],
        [
         1022,
         "iron-boulder",
         [
          "quark-drive"
         ],
         295,
         15,
         {
          "attack": 120,
          "defense": 80,
          "hp": 90,
          "special-attack": 68,
          "special-defense": 108,
          "speed": 124
         },
         [
          "rock",
          "psychic"
         ],
         1625
        ],
        [
         1023,
         "iron-crown",
         [
          "quark-drive"
         ],
         295,
         16,
         {
          "attack": 72,
          "defense": 100,
          "hp": 90,
          "special-attack": 122,
          "special-defense": 108,
          "speed": 98
         },
         [
          "steel",
          "psychic"
         ],
         1560
        ],
        [
         1024,
         "terapagos",
         [
          "tera-shift"
         ],
         90,
         2,
         {
          "attack": 65,
          "defense": 85,
          "hp": 90,
          "special-attack": 65,
          "special-defense": 85,
          "speed": 60
         },
         [
          "normal"
         ],
         65
        ],
        [
         1025,
         "pecharunt",
         [
          "poison-puppeteer"
         ],
         300,
         3,
         {
          "attack": 88,
          "defense": 160,
          "hp": 88,
          "special-attack": 88,
          "special-defense": 88,
          "speed": 88
         },
         [
          "poison",
          "ghost"
         ],
         3
        ],
        [
         10001,
         "deoxys-attack",
         [
          "pressure"
         ],
         270,
         17,
         {
          "attack": 180,
          "defense": 20,
          "hp": 50,
          "special-attack": 180,
          "special-defense": 20,
          "speed": 150
         },
         [
          "psychic"
         ],
         608
        ],
        [
         10002,
         "deoxys-defense",
         [
          "pressure"
         ],
         270,
         17,
         {
          "attack": 70,
          "defense": 160,
          "hp": 50,
          "special-attack": 70,
          "special-defense": 160,
          "speed": 90
         },
         [
          "psychic"
         ],
         608
        ],
        [
         10003,
         "deoxys-speed",
         [
          "pressure"
         ],
         270,
         17,
         {
          "attack": 95,
          "defense": 90,
          "hp": 50,
          "special-attack": 95,
          "special-defense": 90,
          "speed": 180
         },
         [
          "psychic"
         ],
         608
        ],
        [
         10004,
         "wormadam-sandy",
         [
          "anticipation",
          "overcoat"
         ],
         148,
         5,
         {
          "attack": 79,
          "defense": 105,
          "hp": 60,
          "special-attack": 59,
          "special-defense": 85,
          "speed": 36
         },
         [
          "bug",
          "ground"
         ],
         65
        ],
        [
         10005,
         "wormadam-trash",
         [
          "anticipation",
          "overcoat"
         ],
         148,
         5,
         {
          "attack": 69,
          "defense": 95,
          "hp": 60,
          "special-attack": 69,
          "special-defense": 95,
          "speed": 36
         },
         [
          "bug",
          "steel"
         ],
         65
        ],
        [
         10006,
         "shaymin-sky",
         [
          "serene-grace"
         ],
         270,
         4,
         {
          "attack": 103,
          "defense": 75,
          "hp": 100,
          "special-attack": 120,
          "special-defense": 75,
          "speed": 127
         },
         [
          "grass",
          "flying"
         ],
         52
        ],
        [
         10007,
         "giratina-origin",
         [
          "levitate"
         ],
         340,
         69,
         {
          "attack": 120,
          "defense": 100,
          "hp": 150,
          "special-attack": 120,
          "special-defense": 100,
          "speed": 90
         },
         [
          "ghost",
          "dragon"
         ],
         6500
        ],
        [
         10008,
         "rotom-heat",
         [
          "levitate"
         ],
         182,
         3,
         {
          "attack": 65,
          "defense": 107,
          "hp": 50,
          "special-attack": 105,
          "special-defense": 107,
          "speed": 86
         },
         [
          "electric",
          "fire"
         ],
         3
        ],
        [
         10009,
         "rotom-wash",
         [
          "levitate"
         ],
         182,
         3,
         {
          "attack": 65,
          "defense": 107,
          "hp": 50,
          "special-attack": 105,
          "special-defense": 107,
          "speed": 86
         },
         [
          "electric",
          "water"
         ],
         3
        ],
        [
         10010,
         "rotom-frost",
         [
          "levitate"
         ],
         182,
         3,
         {
          "attack": 65,
          "defense": 107,
          "hp": 50,
          "special-attack": 105,
          "special-defense": 107,
          "speed": 86
         },
         [
          "electric",
          "ice"
         ],
         3
        ],
        [
         10011,
         "rotom-fan",
         [
          "levitate"
         ],
         182,
         3,
         {
          "attack": 65,
          "defense": 107,
          "hp": 50,
          "special-attack": 105,
          "special-defense": 107,
          "speed": 86
         },
         [
          "electric",
          "flying"
         ],
         3
        ],
        [
         10012,
         "rotom-mow",
         [
          "levitate"
         ],
         182,
         3,
         {
          "attack": 65,
          "defense": 107,
          "hp": 50,
          "special-attack": 105,
          "special-defense": 107,
          "speed": 86
         },
         [
          "electric",
          "grass"
         ],
         3
        ],
        [
         10013,
         "castform-sunny",
         [
          "forecast"
         ],
         147,
         3,
         {
          "attack": 70,
          "defense": 70,
          "hp": 70,
          "special-attack": 70,
          "special-defense": 70,
          "speed": 70
         },
         [
          "fire"
         ],
         8
        ],
        [
         10014,
         "castform-rainy",
         [
          "forecast"
         ],
         147,
         3,
         {
          "attack": 70,
          "defense": 70,
          "hp": 70,
          "special-attack": 70,
          "special-defense": 70,
          "speed": 70
         },
         [
          "water"
         ],
         8
        ],
        [
         10015,
         "castform-snowy",
         [
          "forecast"
         ],
         147,
         3,
         {
          "attack": 70,
          "defense": 70,
          "hp": 70,
          "special-attack": 70,
          "special-defense": 70,
          "speed": 70
         },
         [
          "ice"
         ],
         8
        ],
        [
         10016,
         "basculin-blue-striped",
         [
          "rock-head",
          "adaptability",
          "mold-breaker"
         ],
         161,
         10,
         {
          "attack": 92,
          "defense": 65,
          "hp": 70,
          "special-attack": 80,
          "special-defense": 55,
          "speed": 98
         },
         [
          "water"
         ],
         180
        ],
        [
         10017,
         "darmanitan-zen",
         [
          "sheer-force",
          "zen-mode"
         ],
         189,
         13,
         {
          "attack": 30,
          "defense": 105,
          "hp": 105,
          "special-attack": 140,
          "special-defense": 105,
          "speed": 55
         },
         [
          "fire",
          "psychic"
         ],
         929
        ],
        [
         10018,
         "meloetta-pirouette",
         [
          "serene-grace"
         ],
         270,
         6,
         {
          "attack": 128,
          "defense": 90,
          "hp": 100,
          "special-attack": 77,
          "special-defense": 77,
          "speed": 128
         },
         [
          "normal",
          "fighting"
         ],
         65
        ],
        [
         10019,
         "tornadus-therian",
         [
          "regenerator"
         ],
         290,
         14,
         {
          "attack": 100,
          "defense": 80,
          "hp": 79,
          "special-attack": 110,
          "special-defense": 90,
          "speed": 121
         },
         [
          "flying"
         ],
         630
        ],
        [
         10020,
         "thundurus-therian",
         [
          "volt-absorb"
         ],
         290,
         30,
         {
          "attack": 105,
          "defense": 70,
          "hp": 79,
          "special-attack": 145,
          "special-defense": 80,
          "speed": 101
         },
         [
          "electric",
          "flying"
         ],
         610
        ],
        [
         10021,
         "landorus-therian",
         [
          "intimidate"
         ],
         300,
         13,
         {
          "attack": 145,
          "defense": 90,
          "hp": 89,
          "special-attack": 105,
          "special-defense": 80,
          "speed": 91
         },
         [
          "ground",
          "flying"
         ],
         680
        ],
        [
         10022,
         "kyurem-black",
         [
          "teravolt"
         ],
         350,
         33,
         {
          "attack": 170,
          "defense": 100,
          "hp": 125,
          "special-attack": 120,
          "special-defense": 90,
          "speed": 95
         },
         [
          "dragon",
          "ice"
         ],
         3250
        ],
        [
         10023,
         "kyurem-white",
         [
          "turboblaze"
         ],
         350,
         36,
         {
          "attack": 120,
          "defense": 90,
          "hp": 125,
          "special-attack": 170,
          "special-defense": 100,
          "speed": 95
         },
         [
          "dragon",
          "ice"
         ],
         3250
        ],
        [
         10024,
         "keldeo-resolute",
         [
          "justified"
         ],
         290,
         14,
         {
          "attack": 72,
          "defense": 90,
          "hp": 91,
          "special-attack": 129,
          "special-defense": 90,
          "speed": 108
         },
         [
          "water",
          "fighting"
         ],
         485
        ],
        [
         10025,
         "meowstic-female",
         [
          "keen-eye",
          "infiltrator",
          "competitive"
         ],
         163,
         6,
         {
          "attack": 48,
          "defense": 76,
          "hp": 74,
          "special-attack": 83,
          "special-defense": 81,
          "speed": 104
         },
         [
          "psychic"
         ],
         85
        ],
        [
         10026,
         "aegislash-blade",
         [
          "stance-change"
         ],
         250,
         17,
         {
          "attack": 140,
          "defense": 50,
          "hp": 60,
          "special-attack": 140,
          "special-defense": 50,
          "speed": 60
         },
         [
          "steel",
          "ghost"
         ],
         530
        ],
        [
         10027,
         "pumpkaboo-small",
         [
          "pickup",
          "frisk",
          "insomnia"
         ],
         67,
         3,
         {
          "attack": 66,
          "defense": 70,
          "hp": 44,
          "special-attack": 44,
          "special-defense": 55,
          "speed": 56
         },
         [
          "ghost",
          "grass"
         ],
         35
        ],
        [
         10028,
         "pumpkaboo-large",
         [
          "pickup",
          "frisk",
          "insomnia"
         ],
         67,
         5,
         {
          "attack": 66,
          "defense": 70,
          "hp": 54,
          "special-attack": 44,
          "special-defense": 55,
          "speed": 46
         },
         [
          "ghost",
          "grass"
         ],
         75
        ],
        [
         10029,
         "pumpkaboo-super",
         [
          "pickup",
          "frisk",
          "insomnia"
         ],
         67,
         8,
         {
          "attack": 66,
          "defense": 70,
          "hp": 59,
          "special-attack": 44,
          "special-defense": 55,
          "speed": 41
         },
         [
          "ghost",
          "grass"
         ],
         150
        ],
        [
         10030,
         "gourgeist-small",
         [
          "pickup",
          "frisk",
          "insomnia"
         ],
         173,
         7,
         {
          "attack": 85,
          "defense": 122,
          "hp": 55,
          "special-attack": 58,
          "special-defense": 75,
          "speed": 99
         },
         [
          "ghost",
          "grass"
         ],
         95
        ],
        [
         10031,
         "gourgeist-large",
         [
          "pickup",
          "frisk",
          "insomnia"
         ],
         173,
         11,
         {
          "attack": 95,
          "defense": 122,
          "hp": 75,
          "special-attack": 58,
          "special-defense": 75,
          "speed": 69
         },
         [
          "ghost",
          "grass"
         ],
         140
        ],
        [
         10032,
         "gourgeist-super",
         [
          "pickup",
          "frisk",
          "insomnia"
         ],
         173,
         17,
         {
          "attack": 100,
          "defense": 122,
          "hp": 85,
          "special-attack": 58,
          "special-defense": 75,
          "speed": 54
         },
         [
          "ghost",
          "grass"
         ],
         390
        ],
        [
         10033,
         "venusaur-mega",
         [
          "thick-fat"
         ],
         281,
         24,
         {
          "attack": 100,
          "defense": 123,
          "hp": 80,
          "special-attack": 122,
          "special-defense": 120,
          "speed": 80
         },
         [
          "grass",
          "poison"
         ],
         1555
        ],
        [
         10034,
         "charizard-mega-x",
         [
          "tough-claws"
         ],
         285,
         17,
         {
          "attack": 130,
          "defense": 111,
          "hp": 78,
          "special-attack": 130,
          "special-defense": 85,
          "speed": 100
         },
         [
          "fire",
          "dragon"
         ],
         1105
        ],
        [
         10035,
         "charizard-mega-y",
         [
          "drought"
         ],
         285,
         17,
         {
          "attack": 104,
          "defense": 78,
          "hp": 78,
          "special-attack": 159,
          "special-defense": 115,
          "speed": 100
         },
         [
          "fire",
          "flying"
         ],
         1005
        ],
        [
         10036,
         "blastoise-mega",
         [
          "mega-launcher"
         ],
         284,
         16,
         {
          "attack": 103,
          "defense": 120,
          "hp": 79,
          "special-attack": 135,
          "special-defense": 115,
          "speed": 78
         },
         [
          "water"
         ],
         1011
        ],
        [
         10037,
         "alakazam-mega",
         [
          "trace"
         ],
         270,
         12,
         {
          "attack": 50,
          "defense": 65,
          "hp": 55,
          "special-attack": 175,
          "special-defense": 105,
          "speed": 150
         },
         [
          "psychic"
         ],
         480
        ],
        [
         10038,
         "gengar-mega",
         [
          "shadow-tag"
         ],
         270,
         14,
         {
          "attack": 65,
          "defense": 80,
          "hp": 60,
          "special-attack": 170,
          "special-defense": 95,
          "speed": 130
         },
         [
          "ghost",
          "poison"
         ],
         405
        ],
        [
         10039,
         "kangaskhan-mega",
         [
          "parental-bond"
         ],
         207,
         22,
         {
          "attack": 125,
          "defense": 100,
          "hp": 105,
          "special-attack": 60,
          "special-defense": 100,
          "speed": 100
         },
         [
          "normal"
         ],
         1000
        ],
        [
         10040,
         "pinsir-mega",
         [
          "aerilate"
         ],
         210,
         17,
         {
          "attack": 155,
          "defense": 120,
          "hp": 65,
          "special-attack": 65,
          "special-defense": 90,
          "speed": 105
         },
         [
          "bug",
          "flying"
         ],
         590
        ],
        [
         10041,
         "gyarados-mega",
         [
          "mold-breaker"
         ],
         224,
         65,
         {
          "attack": 155,
          "defense": 109,
          "hp": 95,
          "special-attack": 70,
          "special-defense": 130,
          "speed": 81
         },
         [
          "water",
          "dark"
         ],
         3050
        ],
        [
         10042,
         "aerodactyl-mega",
         [
          "tough-claws"
         ],
         215,
         21,
         {
          "attack": 135,
          "defense": 85,
          "hp": 80,
          "special-attack": 70,
          "special-defense": 95,
          "speed": 150
         },
         [
          "rock",
          "flying"
         ],
         790
        ],
        [
         10043,
         "mewtwo-mega-x",
         [
          "steadfast"
         ],
         351,
         23,
         {
          "attack": 190,
          "defense": 100,
          "hp": 106,
          "special-attack": 154,
          "special-defense": 100,
          "speed": 130
         },
         [
          "psychic",
          "fighting"
         ],
         1270
        ],
        [
         10044,
         "mewtwo-mega-y",
         [
          "insomnia"
         ],
         351,
         15,
         {
          "attack": 150,
          "defense": 70,
          "hp": 106,
          "special-attack": 194,
          "special-defense": 120,
          "speed": 140
         },
         [
          "psychic"
         ],
         330
        ],
        [
         10045,
         "ampharos-mega",
         [
          "mold-breaker"
         ],
         275,
         14,
         {
          "attack": 95,
          "defense": 105,
          "hp": 90,
          "special-attack": 165,
          "special-defense": 110,
          "speed": 45
         },
         [
          "electric",
          "dragon"
         ],
         615
        ],
        [
         10046,
         "scizor-mega",
         [
          "technician"
         ],
         210,
         20,
         {
          "attack": 150,
          "defense": 140,
          "hp": 70,
          "special-attack": 65,
          "special-defense": 100,
          "speed": 75
         },
         [
          "bug",
          "steel"
         ],
         1250
        ],
        [
         10047,
         "heracross-mega",
         [
          "skill-link"
         ],
         210,
         17,
         {
          "attack": 185,
          "defense": 115,
          "hp": 80,
          "special-attack": 40,
          "special-defense": 105,
          "speed": 75
         },
         [
          "bug",
          "fighting"
         ],
         625
        ],
        [
         10048,
         "houndoom-mega",
         [
          "solar-power"
         ],
         210,
         19,
         {
          "attack": 90,
          "defense": 90,
          "hp": 75,
          "special-attack": 140,
          "special-defense": 90,
          "speed": 115
         },
         [
          "dark",
          "fire"
         ],
         495
        ],
        [
         10049,
         "tyranitar-mega",
         [
          "sand-stream"
         ],
         315,
         25,
         {
          "attack": 164,
          "defense": 150,
          "hp": 100,
          "special-attack": 95,
          "special-defense": 120,
          "speed": 71
         },
         [
          "rock",
          "dark"
         ],
         2550
        ],
        [
         10050,
         "blaziken-mega",
         [
          "speed-boost"
         ],
         284,
         19,
         {
          "attack": 160,
          "defense": 80,
          "hp": 80,
          "special-attack": 130,
          "special-defense": 80,
          "speed": 100
         },
         [
          "fire",
          "fighting"
         ],
         520
        ],
        [
         10051,
         "gardevoir-mega",
         [
          "pixilate"
         ],
         278,
         16,
         {
          "attack": 85,
          "defense": 65,
          "hp": 68,
          "special-attack": 165,
          "special-defense": 135,
          "speed": 100
         },
         [
          "psychic",
          "fairy"
         ],
         484
        ],
        [
         10052,
         "mawile-mega",
         [
          "huge-power"
         ],
         168,
         10,
         {
          "attack": 105,
          "defense": 125,
          "hp": 50,
          "special-attack": 55,
          "special-defense": 95,
          "speed": 50
         },
         [
          "steel",
          "fairy"
         ],
         235
        ],
        [
         10053,
         "aggron-mega",
         [
          "filter"
         ],
         284,
         22,
         {
          "attack": 140,
          "defense": 230,
          "hp": 70,
          "special-attack": 60,
          "special-defense": 80,
          "speed": 50
         },
         [
          "steel"
         ],
         3950
        ],
        [
         10054,
         "medicham-mega",
         [
          "pure-power"
         ],
         179,
         13,
         {
          "attack": 100,
          "defense": 85,
          "hp": 60,
          "special-attack": 80,
          "special-defense": 85,
          "speed": 100
         },
         [
          "fighting",
          "psychic"
         ],
         315
        ],
        [
         10055,
         "manectric-mega",
         [
          "intimidate"
         ],
         201,
         18,
         {
          "attack": 75,
          "defense": 80,
          "hp": 70,
          "special-attack": 135,
          "special-defense": 80,
          "speed": 135
         },
         [
          "electric"
         ],
         440
        ],
        [
         10056,
         "banette-mega",
         [
          "prankster"
         ],
         194,
         12,
         {
          "attack": 165,
          "defense": 75,
          "hp": 64,
          "special-attack": 93,
          "special-defense": 83,
          "speed": 75
         },
         [
          "ghost"
         ],
         130
        ],
        [
         10057,
         "absol-mega",
         [
          "magic-bounce"
         ],
         198,
         12,
         {
          "attack": 150,
          "defense": 60,
          "hp": 65,
          "special-attack": 115,
          "special-defense": 60,
          "speed": 115
         },
         [
          "dark"
         ],
         490
        ],
        [
         10058,
         "garchomp-mega",
         [
          "sand-force"
         ],
         315,
         19,
         {
          "attack": 170,
          "defense": 115,
          "hp": 108,
          "special-attack": 120,
          "special-defense": 95,
          "speed": 92
         },
         [
          "dragon",
          "ground"
         ],
         950
        ],
        [
         10059,
         "lucario-mega",
         [
          "adaptability"
         ],
         219,
         13,
         {
          "attack": 145,
          "defense": 88,
          "hp": 70,
          "special-attack": 140,
          "special-defense": 70,
          "speed": 112
         },
         [
          "fighting",
          "steel"
         ],
         575
        ],
        [
         10060,
         "abomasnow-mega",
         [
          "snow-warning"
         ],
         208,
         27,
         {
          "attack": 132,
          "defense": 105,
          "hp": 90,
          "special-attack": 132,
          "special-defense": 105,
          "speed": 30
         },
         [
          "grass",
          "ice"
         ],
         1850
        ],
        [
         10061,
         "floette-eternal",
         [
          "flower-veil",
          "symbiosis"
         ],
         243,
         2,
         {
          "attack": 65,
          "defense": 67,
          "hp": 74,
          "special-attack": 125,
          "special-defense": 128,
          "speed": 92
         },
         [
          "fairy"
         ],
         9
        ],
        [
         10062,
         "latias-mega",
         [
          "levitate"
         ],
         315,
         18,
         {
          "attack": 100,
          "defense": 120,
          "hp": 80,
          "special-attack": 140,
          "special-defense": 150,
          "speed": 110
         },
         [
          "dragon",
          "psychic"
         ],
         520
        ],
        [
         10063,
         "latios-mega",
         [
          "levitate"
         ],
         315,
         23,
         {
          "attack": 130,
          "defense": 100,
          "hp": 80,
          "special-attack": 160,
          "special-defense": 120,
          "speed": 110
         },
         [
          "dragon",
          "psychic"
         ],
         700
        ],
        [
         10064,
         "swampert-mega",
         [
          "swift-swim"
         ],
         286,
         19,
         {
          "attack": 150,
          "defense": 110,
          "hp": 100,
          "special-attack": 95,
          "special-defense": 110,
          "speed": 70
         },
         [
          "water",
          "ground"
         ],
         1020
        ],
        [
         10065,
         "sceptile-mega",
         [
          "lightning-rod"
         ],
         284,
         19,
         {
          "attack": 110,
          "defense": 75,
          "hp": 70,
          "special-attack": 145,
          "special-defense": 85,
          "speed": 145
         },
         [
          "grass",
          "dragon"
         ],
         552
        ],
        [
         10066,
         "sableye-mega",
         [
          "magic-bounce"
         ],
         168,
         5,
         {
          "attack": 85,
          "defense": 125,
          "hp": 50,
          "special-attack": 85,
          "special-defense": 115,
          "speed": 20
         },
         [
          "dark",
          "ghost"
         ],
         1610
        ],
        [
         10067,
         "altaria-mega",
         [
          "pixilate"
         ],
         207,
         15,
         {
          "attack": 110,
          "defense": 110,
          "hp": 75,
          "special-attack": 110,
          "special-defense": 105,
          "speed": 80
         },
         [
          "dragon",
          "fairy"
         ],
         206
        ],
        [
         10068,
         "gallade-mega",
         [
          "inner-focus"
         ],
         278,
         16,
         {
          "attack": 165,
          "defense": 95,
          "hp": 68,
          "special-attack": 65,
          "special-defense": 115,
          "speed": 110
         },
         [
          "psychic",
          "fighting"
         ],
         564
        ],
        [
         10069,
         "audino-mega",
         [
          "healer"
         ],
         425,
         15,
         {
          "attack": 60,
          "defense": 126,
          "hp": 103,
          "special-attack": 80,
          "special-defense": 126,
          "speed": 50
         },
         [
          "normal",
          "fairy"
         ],
         320
        ],
        [
         10070,
         "sharpedo-mega",
         [
          "strong-jaw"
         ],
         196,
         25,
         {
          "attack": 140,
          "defense": 70,
          "hp": 70,
          "special-attack": 110,
          "special-defense": 65,
          "speed": 105
         },
         [
          "water",
          "dark"
         ],
         1303
        ],
        [
         10071,
         "slowbro-mega",
         [
          "shell-armor"
         ],
         207,
         20,
         {
          "attack": 75,
          "defense": 180,
          "hp": 95,
          "special-attack": 130,
          "special-defense": 80,
          "speed": 30
         },
         [
          "water",
          "psychic"
         ],
         1200
        ],
        [
         10072,
         "steelix-mega",
         [
          "sand-force"
         ],
         214,
         105,
         {
          "attack": 125,
          "defense": 230,
          "hp": 75,
          "special-attack": 55,
          "special-defense": 95,
          "speed": 30
         },
         [
          "steel",
          "ground"
         ],
         7400
        ],
        [
         10073,
         "pidgeot-mega",
         [
          "no-guard"
         ],
         261,
         22,
         {
          "attack": 80,
          "defense": 80,
          "hp": 83,
          "special-attack": 135,
          "special-defense": 80,
          "speed": 121
         },
         [
          "normal",
          "flying"
         ],
         505
        ],
        [
         10074,
         "glalie-mega",
         [
          "refrigerate"
         ],
         203,
         21,
         {
          "attack": 120,
          "defense": 80,
          "hp": 80,
          "special-attack": 120,
          "special-defense": 80,
          "speed": 100
         },
         [
          "ice"
         ],
         3502
        ],
        [
         10075,
         "diancie-mega",
         [
          "magic-bounce"
         ],
         315,
         11,
         {
          "attack": 160,
          "defense": 110,
          "hp": 50,
          "special-attack": 160,
          "special-defense": 110,
          "speed": 110
         },
         [
          "rock",
          "fairy"
         ],
         278
        ],
        [
         10076,
         "metagross-mega",
         [
          "tough-claws"
         ],
         315,
         25,
         {
          "attack": 145,
          "defense": 150,
          "hp": 80,
          "special-attack": 105,
          "special-defense": 110,
          "speed": 110
         },
         [
          "steel",
          "psychic"
         ],
         9429
        ],
        [
         10077,
         "kyogre-primal",
         [
          "primordial-sea"
         ],
         347,
         98,
         {
          "attack": 150,
          "defense": 90,
          "hp": 100,
          "special-attack": 180,
          "special-defense": 160,
          "speed": 90
         },
         [
          "water"
         ],
         4300
        ],
        [
         10078,
         "groudon-primal",
         [
          "desolate-land"
         ],
         347,
         50,
         {
          "attack": 180,
          "defense": 160,
          "hp": 100,
          "special-attack": 150,
          "special-defense": 90,
          "speed": 90
         },
         [
          "ground",
          "fire"
         ],
         9997
        ],
        [
         10079,
         "rayquaza-mega",
         [
          "delta-stream"
         ],
         351,
         108,
         {
          "attack": 180,
          "defense": 100,
          "hp": 105,
          "special-attack": 180,
          "special-defense": 100,
          "speed": 115
         },
         [
          "dragon",
          "flying"
         ],
         3920
        ],
        [
         10080,
         "pikachu-rock-star",
         [
          "static",
          "lightning-rod"
         ],
         112,
         4,
         {
          "attack": 55,
          "defense": 40,
          "hp": 35,
          "special-attack": 50,
          "special-defense": 50,
          "speed": 90
         },
         [
          "electric"
         ],
         60
        ],
        [
         10081,
         "pikachu-belle",
         [
          "static",
          "lightning-rod"
         ],
         112,
         4,
         {
          "attack": 55,
          "defense": 40,
          "hp": 35,
          "special-attack": 50,
          "special-defense": 50,
          "speed": 90
         },
         [
          "electric"
         ],
         60
        ],
        [
         10082,
         "pikachu-pop-star",
         [
          "static",
          "lightning-rod"
         ],
         112,
         4,
         {
          "attack": 55,
          "defense": 40,
          "hp": 35,
          "special-attack": 50,
          "special-defense": 50,
          "speed": 90
         },
         [
          "electric"
         ],
         60
        ],
        [
         10083,
         "pikachu-phd",
         [
          "static",
          "lightning-rod"
         ],
         112,
         4,
         {
          "attack": 55,
          "defense": 40,
          "hp": 35,
          "special-attack": 50,
          "special-defense": 50,
          "speed": 90
         },
         [
          "electric"
         ],
         60
        ],
        [
         10084,
         "pikachu-libre",
         [
          "static",
          "lightning-rod"
         ],
         112,
         4,
         {
          "attack": 55,
          "defense": 40,
          "hp": 35,
          "special-attack": 50,
          "special-defense": 50,
          "speed": 90
         },
         [
          "electric"
         ],
         60
        ],
        [
         10085,
         "pikachu-cosplay",
         [
          "static",
          "lightning-rod"
         ],
         112,
         4,
         {
          "attack": 55,
          "defense": 40,
          "hp": 35,
          "special-attack": 50,
          "special-defense": 50,
          "speed": 90
         },
         [
          "electric"
         ],
         60
        ],
        [
         10086,
         "hoopa-unbound",
         [
          "magician"
         ],
         306,
         65,
         {
          "attack": 160,
          "defense": 60,
          "hp": 80,
          "special-attack": 170,
          "special-defense": 130,
          "speed": 80
         },
         [
          "psychic",
          "dark"
         ],
         4900
        ],
        [
         10087,
         "camerupt-mega",
         [
          "sheer-force"
         ],
         196,
         25,
         {
          "attack": 120,
          "defense": 100,
          "hp": 70,
          "special-attack": 145,
          "special-defense": 105,
          "speed": 20
         },
         [
          "fire",
          "ground"
         ],
         3205
        ],
        [
         10088,
         "lopunny-mega",
         [
          "scrappy"
         ],
         203,
         13,
         {
          "attack": 136,
          "defense": 94,
          "hp": 65,
          "special-attack": 54,
          "special-defense": 96,
          "speed": 135
         },
         [
          "normal",
          "fighting"
         ],
         283
        ],
        [
         10089,
         "salamence-mega",
         [
          "aerilate"
         ],
         315,
         18,
         {
          "attack": 145,
          "defense": 130,
          "hp": 95,
          "special-attack": 120,
          "special-defense": 90,
          "speed": 120
         },
         [
          "dragon",
          "flying"
         ],
         1126
        ],
        [
         10090,
         "beedrill-mega",
         [
          "adaptability"
         ],
         223,
         14,
         {
          "attack": 150,
          "defense": 40,
          "hp": 65,
          "special-attack": 15,
          "special-defense": 80,
          "speed": 145
         },
         [
          "bug",
          "poison"
         ],
         405
        ],
        [
         10091,
         "rattata-alola",
         [
          "gluttony",
          "hustle",
          "thick-fat"
         ],
         51,
         3,
         {
          "attack": 56,
          "defense": 35,
          "hp": 30,
          "special-attack": 25,
          "special-defense": 35,
          "speed": 72
         },
         [
          "dark",
          "normal"
         ],
         38
        ],
        [
         10092,
         "raticate-alola",
         [
          "gluttony",
          "hustle",
          "thick-fat"
         ],
         145,
         7,
         {
          "attack": 71,
          "defense": 70,
          "hp": 75,
          "special-attack": 40,
          "special-defense": 80,
          "speed": 77
         },
         [
          "dark",
          "normal"
         ],
         255
        ],
        [
         10093,
         "raticate-totem-alola",
         [
          "gluttony",
          "hustle",
          "thick-fat"
         ],
         145,
         14,
         {
          "attack": 71,
          "defense": 70,
          "hp": 75,
          "special-attack": 40,
          "special-defense": 80,
          "speed": 77
         },
         [
          "dark",
          "normal"
         ],
         1050
        ],
        [
         10094,
         "pikachu-original-cap",
         [
          "static",
          "lightning-rod"
         ],
         112,
         4,
         {
          "attack": 55,
          "defense": 40,
          "hp": 35,
          "special-attack": 50,
          "special-defense": 50,
          "speed": 90
         },
         [
          "electric"
         ],
         60
        ],
        [
         10095,
         "pikachu-hoenn-cap",
         [
          "static",
          "lightning-rod"
         ],
         112,
         4,
         {
          "attack": 55,
          "defense": 40,
          "hp": 35,
          "special-attack": 50,
          "special-defense": 50,
          "speed": 90
         },
         [
          "electric"
         ],
         60
        ],
        [
         10096,
         "pikachu-sinnoh-cap",
         [
          "static",
          "lightning-rod"
         ],
         112,
         4,
         {
          "attack": 55,
          "defense": 40,
          "hp": 35,
          "special-attack": 50,
          "special-defense": 50,
          "speed": 90
         },
         [
          "electric"
         ],
         60
        ],
        [
         10097,
         "pikachu-unova-cap",
         [
          "static",
          "lightning-rod"
         ],
         112,
         4,
         {
          "attack": 55,
          "defense": 40,
          "hp": 35,
          "special-attack": 50,
          "special-defense": 50,
          "speed": 90
         },
         [
          "electric"
         ],
         60
        ],
        [
         10098,
         "pikachu-kalos-cap",
         [
          "static",
          "lightning-rod"
         ],
         112,
         4,
         {
          "attack": 55,
          "defense": 40,
          "hp": 35,
          "special-attack": 50,
          "special-defense": 50,
          "speed": 90
         },
         [
          "electric"
         ],
         60
        ],
        [
         10099,
         "pikachu-alola-cap",
         [
          "static",
          "lightning-rod"
         ],
         112,
         4,
         {
          "attack": 55,
          "defense": 40,
          "hp": 35,
          "special-attack": 50,
          "special-defense": 50,
          "speed": 90
         },
         [
          "electric"
         ],
         60
        ],
        [
         10100,
         "raichu-alola",
         [
          "surge-surfer"
         ],
         243,
         7,
         {
          "attack": 85,
          "defense": 50,
          "hp": 60,
          "special-attack": 95,
          "special-defense": 85,
          "speed": 110
         },
         [
          "electric",
          "psychic"
         ],
         210
        ],
        [
         10101,
         "sandshrew-alola",
         [
          "snow-cloak",
          "slush-rush"
         ],
         60,
         7,
         {
          "attack": 75,
          "defense": 90,
          "hp": 50,
          "special-attack": 10,
          "special-defense": 35,
          "speed": 40
         },
         [
          "ice",
          "steel"
         ],
         400
        ],
        [
         10102,
         "sandslash-alola",
         [
          "snow-cloak",
          "slush-rush"
         ],
         158,
         12,
         {
          "attack": 100,
          "defense": 120,
          "hp": 75,
          "special-attack": 25,
          "special-defense": 65,
          "speed": 65
         },
         [
          "ice",
          "steel"
         ],
         550
        ],
        [
         10103,
         "vulpix-alola",
         [
          "snow-cloak",
          "snow-warning"
         ],
         60,
         6,
         {
          "attack": 41,
          "defense": 40,
          "hp": 38,
          "special-attack": 50,
          "special-defense": 65,
          "speed": 65
         },
         [
          "ice"
         ],
         99
        ],
        [
         10104,
         "ninetales-alola",
         [
          "snow-cloak",
          "snow-warning"
         ],
         177,
         11,
         {
          "attack": 67,
          "defense": 75,
          "hp": 73,
          "special-attack": 81,
          "special-defense": 100,
          "speed": 109
         },
         [
          "ice",
          "fairy"
         ],
         199
        ],
        [
         10105,
         "diglett-alola",
         [
          "sand-veil",
          "tangling-hair",
          "sand-force"
         ],
         53,
         2,
         {
          "attack": 55,
          "defense": 30,
          "hp": 10,
          "special-attack": 35,
          "special-defense": 45,
          "speed": 90
         },
         [
          "ground",
          "steel"
         ],
         10
        ],
        [
         10106,
         "dugtrio-alola",
         [
          "sand-veil",
          "tangling-hair",
          "sand-force"
         ],
         149,
         7,
         {
          "attack": 100,
          "defense": 60,
          "hp": 35,
          "special-attack": 50,
          "special-defense": 70,
          "speed": 110
         },
         [
          "ground",
          "steel"
         ],
         666
        ],
        [
         10107,
         "meowth-alola",
         [
          "pickup",
          "technician",
          "rattled"
         ],
         58,
         4,
         {
          "attack": 35,
          "defense": 35,
          "hp": 40,
          "special-attack": 50,
          "special-defense": 40,
          "speed": 90
         },
         [
          "dark"
         ],
         42
        ],
        [
         10108,
         "persian-alola",
         [
          "fur-coat",
          "technician",
          "rattled"
         ],
         154,
         11,
         {
          "attack": 60,
          "defense": 60,
          "hp": 65,
          "special-attack": 75,
          "special-defense": 65,
          "speed": 115
         },
         [
          "dark"
         ],
         330
        ],
        [
         10109,
         "geodude-alola",
         [
          "magnet-pull",
          "sturdy",
          "galvanize"
         ],
         60,
         4,
         {
          "attack": 80,
          "defense": 100,
          "hp": 40,
          "special-attack": 30,
          "special-defense": 30,
          "speed": 20
         },
         [
          "rock",
          "electric"
         ],
         203
        ],
        [
         10110,
         "graveler-alola",
         [
          "magnet-pull",
          "sturdy",
          "galvanize"
         ],
         137,
         10,
         {
          "attack": 95,
          "defense": 115,
          "hp": 55,
          "special-attack": 45,
          "special-defense": 45,
          "speed": 35
         },
         [
          "rock",
          "electric"
         ],
         1100
        ],
        [
         10111,
         "golem-alola",
         [
          "magnet-pull",
          "sturdy",
          "galvanize"
         ],
         223,
         17,
         {
          "attack": 120,
          "defense": 130,
          "hp": 80,
          "special-attack": 55,
          "special-defense": 65,
          "speed": 45
         },
         [
          "rock",
          "electric"
         ],
         3160
        ],
        [
         10112,
         "grimer-alola",
         [
          "poison-touch",
          "gluttony",
          "power-of-alchemy"
         ],
         65,
         7,
         {
          "attack": 80,
          "defense": 50,
          "hp": 80,
          "special-attack": 40,
          "special-defense": 50,
          "speed": 25
         },
         [
          "poison",
          "dark"
         ],
         420
        ],
        [
         10113,
         "muk-alola",
         [
          "poison-touch",
          "gluttony",
          "power-of-alchemy"
         ],
         175,
         10,
         {
          "attack": 105,
          "defense": 75,
          "hp": 105,
          "special-attack": 65,
          "special-defense": 100,
          "speed": 50
         },
         [
          "poison",
          "dark"
         ],
         520
        ],
        [
         10114,
         "exeggutor-alola",
         [
          "frisk",
          "harvest"
         ],
         186,
         109,
         {
          "attack": 105,
          "defense": 85,
          "hp": 95,
          "special-attack": 125,
          "special-defense": 75,
          "speed": 45
         },
         [
          "grass",
          "dragon"
         ],
         4156
        ],
        [
         10115,
         "marowak-alola",
         [
          "cursed-body",
          "lightning-rod",
          "rock-head"
         ],
         149,
         10,
         {
          "attack": 80,
          "defense": 110,
          "hp": 60,
          "special-attack": 50,
          "special-defense": 80,
          "speed": 45
         },
         [
          "fire",
          "ghost"
         ],
         340
        ],
        [
         10116,
         "greninja-battle-bond",
         [
          "battle-bond"
         ],
         239,
         15,
         {
          "attack": 95,
          "defense": 67,
          "hp": 72,
          "special-attack": 103,
          "special-defense": 71,
          "speed": 122
         },
         [
          "water",
          "dark"
         ],
         400
        ],
        [
         10117,
         "greninja-ash",
         [
          "battle-bond"
         ],
         288,
         15,
         {
          "attack": 145,
          "defense": 67,
          "hp": 72,
          "special-attack": 153,
          "special-defense": 71,
          "speed": 132
         },
         [
          "water",
          "dark"
         ],
         400
        ],
        [
         10118,
         "zygarde-10-power-construct",
         [
          "power-construct"
         ],
         243,
         12,
         {
          "attack": 100,
          "defense": 71,
          "hp": 54,
          "special-attack": 61,
          "special-defense": 85,
          "speed": 115
         },
         [
          "dragon",
          "ground"
         ],
         335
        ],
        [
         10119,
         "zygarde-50-power-construct",
         [
          "power-construct"
         ],
         300,
         50,
         {
          "attack": 100,
          "defense": 121,
          "hp": 108,
          "special-attack": 81,
          "special-defense": 95,
          "speed": 95
         },
         [
          "dragon",
          "ground"
         ],
         3050
        ],
        [
         10120,
         "zygarde-complete",
         [
          "power-construct"
         ],
         354,
         45,
         {
          "attack": 100,
          "defense": 121,
          "hp": 216,
          "special-attack": 91,
          "special-defense": 95,
          "speed": 85
         },
         [
          "dragon",
          "ground"
         ],
         6100
        ],
        [
         10121,
         "gumshoos-totem",
         [
          "stakeout",
          "strong-jaw",
          "adaptability"
         ],
         146,
         14,
         {
          "attack": 110,
          "defense": 60,
          "hp": 88,
          "special-attack": 55,
          "special-defense": 60,
          "speed": 45
         },
         [
          "normal"
         ],
         600
        ],
        [
         10122,
         "vikavolt-totem",
         [
          "levitate"
         ],
         225,
         26,
         {
          "attack": 70,
          "defense": 90,
          "hp": 77,
          "special-attack": 145,
          "special-defense": 75,
          "speed": 43
         },
         [
          "bug",
          "electric"
         ],
         1475
        ],
        [
         10123,
         "oricorio-pom-pom",
         [
          "dancer"
         ],
         167,
         6,
         {
          "attack": 70,
          "defense": 70,
          "hp": 75,
          "special-attack": 98,
          "special-defense": 70,
          "speed": 93
         },
         [
          "electric",
          "flying"
         ],
         34
        ],
        [
         10124,
         "oricorio-pau",
         [
          "dancer"
         ],
         167,
         6,
         {
          "attack": 70,
          "defense": 70,
          "hp": 75,
          "special-attack": 98,
          "special-defense": 70,
          "speed": 93
         },
         [
          "psychic",
          "flying"
         ],
         34
        ],
        [
         10125,
         "oricorio-sensu",
         [
          "dancer"
         ],
         167,
         6,
         {
          "attack": 70,
          "defense": 70,
          "hp": 75,
          "special-attack": 98,
          "special-defense": 70,
          "speed": 93
         },
         [
          "ghost",
          "flying"
         ],
         34
        ],
        [
         10126,
         "lycanroc-midnight",
         [
          "keen-eye",
          "vital-spirit",
          "no-guard"
         ],
         170,
         11,
         {
          "attack": 115,
          "defense": 75,
          "hp": 85,
          "special-attack": 55,
          "special-defense": 75,
          "speed": 82
         },
         [
          "rock"
         ],
         250
        ],
        [
         10127,
         "wishiwashi-school",
         [
          "schooling"
         ],
         217,
         82,
         {
          "attack": 140,
          "defense": 130,
          "hp": 45,
          "special-attack": 140,
          "special-defense": 135,
          "speed": 30
         },
         [
          "water"
         ],
         786
        ],
        [
         10128,
         "lurantis-totem",
         [
          "leaf-guard",
          "contrary"
         ],
         168,
         15,
         {
          "attack": 105,
          "defense": 90,
          "hp": 70,
          "special-attack": 80,
          "special-defense": 90,
          "speed": 45
         },
         [
          "grass"
         ],
         580
        ],
        [
         10129,
         "salazzle-totem",
         [
          "corrosion",
          "oblivious"
         ],
         168,
         21,
         {
          "attack": 64,
          "defense": 60,
          "hp": 68,
          "special-attack": 111,
          "special-defense": 60,
          "speed": 117
         },
         [
          "poison",
          "fire"
         ],
         810
        ],
        [
         10130,
         "minior-orange-meteor",
         [
          "shields-down"
         ],
         154,
         3,
         {
          "attack": 60,
          "defense": 100,
          "hp": 60,
          "special-attack": 60,
          "special-defense": 100,
          "speed": 60
         },
         [
          "rock",
          "flying"
         ],
         400
        ],
        [
         10131,
         "minior-yellow-meteor",
         [
          "shields-down"
         ],
         154,
         3,
         {
          "attack": 60,
          "defense": 100,
          "hp": 60,
          "special-attack": 60,
          "special-defense": 100,
          "speed": 60
         },
         [
          "rock",
          "flying"
         ],
         400
        ],
        [
         10132,
         "minior-green-meteor",
         [
          "shields-down"
         ],
         154,
         3,
         {
          "attack": 60,
          "defense": 100,
          "hp": 60,
          "special-attack": 60,
          "special-defense": 100,
          "speed": 60
         },
         [
          "rock",
          "flying"
         ],
         400
        ],
        [
         10133,
         "minior-blue-meteor",
         [
          "shields-down"
         ],
         154,
         3,
         {
          "attack": 60,
          "defense": 100,
          "hp": 60,
          "special-attack": 60,
          "special-defense": 100,
          "speed": 60
         },
         [
          "rock",
          "flying"
         ],
         400
        ],
        [
         10134,
         "minior-indigo-meteor",
         [
          "shields-down"
         ],
         154,
         3,
         {
          "attack": 60,
          "defense": 100,
          "hp": 60,
          "special-attack": 60,
          "special-defense": 100,
          "speed": 60
         },
         [
          "rock",
          "flying"
         ],
         400
        ],
        [
         10135,
         "minior-violet-meteor",
         [
          "shields-down"
         ],
         154,
         3,
         {
          "attack": 60,
          "defense": 100,
          "hp": 60,
          "special-attack": 60,
          "special-defense": 100,
          "speed": 60
         },
         [
          "rock",
          "flying"
         ],
         400
        ],
        [
         10136,
         "minior-red",
         [
          "shields-down"
         ],
         175,
         3,
         {
          "attack": 100,
          "defense": 60,
          "hp": 60,
          "special-attack": 100,
          "special-defense": 60,
          "speed": 120
         },
         [
          "rock",
          "flying"
         ],
         3
        ],
        [
         10137,
         "minior-orange",
         [
          "shields-down"
         ],
         175,
         3,
         {
          "attack": 100,
          "defense": 60,
          "hp": 60,
          "special-attack": 100,
          "special-defense": 60,
          "speed": 120
         },
         [
          "rock",
          "flying"
         ],
         3
        ],
        [
         10138,
         "minior-yellow",
         [
          "shields-down"
         ],
         175,
         3,
         {
          "attack": 100,
          "defense": 60,
          "hp": 60,
          "special-attack": 100,
          "special-defense": 60,
          "speed": 120
         },
         [
          "rock",
          "flying"
         ],
         3
        ],
        [
         10139,
         "minior-green",
         [
          "shields-down"
         ],
         175,
         3,
         {
          "attack": 100,
          "defense": 60,
          "hp": 60,
          "special-attack": 100,
          "special-defense": 60,
          "speed": 120
         },
         [
          "rock",
          "flying"
         ],
         3
        ],
        [
         10140,
         "minior-blue",
         [
          "shields-down"
         ],
         175,
         3,
         {
          "attack": 100,
          "defense": 60,
          "hp": 60,
          "special-attack": 100,
          "special-defense": 60,
          "speed": 120
         },
         [
          "rock",
          "flying"
         ],
         3
        ],
        [
         10141,
         "minior-indigo",
         [
          "shields-down"
         ],
         175,
         3,
         {
          "attack": 100,
          "defense": 60,
          "hp": 60,
          "special-attack": 100,
          "special-defense": 60,
          "speed": 120
         },
         [
          "rock",
          "flying"
         ],
         3
        ],
        [
         10142,
         "minior-violet",
         [
          "shields-down"
         ],
         175,
         3,
         {
          "attack": 100,
          "defense": 60,
          "hp": 60,
          "special-attack": 100,
          "special-defense": 60,
          "speed": 120
         },
         [
          "rock",
          "flying"
         ],
         3
        ],
        [
         10143,
         "mimikyu-busted",
         [
          "disguise"
         ],
         167,
         2,
         {
          "attack": 90,
          "defense": 80,
          "hp": 55,
          "special-attack": 50,
          "special-defense": 105,
          "speed": 96
         },
         [
          "ghost",
          "fairy"
         ],
         7
        ],
        [
         10144,
         "mimikyu-totem-disguised",
         [
          "disguise"
         ],
         167,
         4,
         {
          "attack": 90,
          "defense": 80,
          "hp": 55,
          "special-attack": 50,
          "special-defense": 105,
          "speed": 96
         },
         [
          "ghost",
          "fairy"
         ],
         28
        ],
        [
         10145,
         "mimikyu-totem-busted",
         [
          "disguise"
         ],
         167,
         4,
         {
          "attack": 90,
          "defense": 80,
          "hp": 55,
          "special-attack": 50,
          "special-defense": 105,
          "speed": 96
         },
         [
          "ghost",
          "fairy"
         ],
         28
        ],
        [
         10146,
         "kommo-o-totem",
         [
          "bulletproof",
          "soundproof",
          "overcoat"
         ],
         270,
         24,
         {
          "attack": 110,
          "defense": 125,
          "hp": 75,
          "special-attack": 100,
          "special-defense": 105,
          "speed": 85
         },
         [
          "dragon",
          "fighting"
         ],
         2075
        ],
        [
         10147,
         "magearna-original",
         [
          "soul-heart"
         ],
         300,
         10,
         {
          "attack": 95,
          "defense": 115,
          "hp": 80,
          "special-attack": 130,
          "special-defense": 115,
          "speed": 65
         },
         [
          "steel",
          "fairy"
         ],
         805
        ],
        [
         10148,
         "pikachu-partner-cap",
         [
          "static",
          "lightning-rod"
         ],
         112,
         4,
         {
          "attack": 55,
          "defense": 40,
          "hp": 35,
          "special-attack": 50,
          "special-defense": 50,
          "speed": 90
         },
         [
          "electric"
         ],
         60
        ],
        [
         10149,
         "marowak-totem",
         [
          "cursed-body",
          "lightning-rod",
          "rock-head"
         ],
         149,
         17,
         {
          "attack": 80,
          "defense": 110,
          "hp": 60,
          "special-attack": 50,
          "special-defense": 80,
          "speed": 45
         },
         [
          "fire",
          "ghost"
         ],
         980
        ],
        [
         10150,
         "ribombee-totem",
         [
          "honey-gather",
          "shield-dust",
          "sweet-veil"
         ],
         162,
         4,
         {
          "attack": 55,
          "defense": 60,
          "hp": 60,
          "special-attack": 95,
          "special-defense": 70,
          "speed": 124
         },
         [
          "bug",
          "fairy"
         ],
         20
        ],
        [
         10151,
         "rockruff-own-tempo",
         [
          "own-tempo"
         ],
         56,
         5,
         {
          "attack": 65,
          "defense": 40,
          "hp": 45,
          "special-attack": 30,
          "special-defense": 40,
          "speed": 60
         },
         [
          "rock"
         ],
         92
        ],
        [
         10152,
         "lycanroc-dusk",
         [
          "tough-claws"
         ],
         170,
         8,
         {
          "attack": 117,
          "defense": 65,
          "hp": 75,
          "special-attack": 55,
          "special-defense": 65,
          "speed": 110
         },
         [
          "rock"
         ],
         250
        ],
        [
         10153,
         "araquanid-totem",
         [
          "water-bubble",
          "water-absorb"
         ],
         159,
         31,
         {
          "attack": 70,
          "defense": 92,
          "hp": 68,
          "special-attack": 50,
          "special-defense": 132,
          "speed": 42
         },
         [
          "water",
          "bug"
         ],
         2175
        ],
        [
         10154,
         "togedemaru-totem",
         [
          "iron-barbs",
          "lightning-rod",
          "sturdy"
         ],
         152,
         6,
         {
          "attack": 98,
          "defense": 63,
          "hp": 65,
          "special-attack": 40,
          "special-defense": 73,
          "speed": 96
         },
         [
          "electric",
          "steel"
         ],
         130
        ],
        [
         10155,
         "necrozma-dusk",
         [
          "prism-armor"
         ],
         340,
         38,
         {
          "attack": 157,
          "defense": 127,
          "hp": 97,
          "special-attack": 113,
          "special-defense": 109,
          "speed": 77
         },
         [
          "psychic",
          "steel"
         ],
         4600
        ],
        [
         10156,
         "necrozma-dawn",
         [
          "prism-armor"
         ],
         340,
         42,
         {
          "attack": 113,
          "defense": 109,
          "hp": 97,
          "special-attack": 157,
          "special-defense": 127,
          "speed": 77
         },
         [
          "psychic",
          "ghost"
         ],
         3500
        ],
        [
         10157,
         "necrozma-ultra",
         [
          "neuroforce"
         ],
         339,
         75,
         {
          "attack": 167,
          "defense": 97,
          "hp": 97,
          "special-attack": 167,
          "special-defense": 97,
          "speed": 129
         },
         [
          "psychic",
          "dragon"
         ],
         2300
        ],
        [
         10158,
         "pikachu-starter",
         [
          "static",
          "lightning-rod"
         ],
         86,
         4,
         {
          "attack": 80,
          "defense": 50,
          "hp": 45,
          "special-attack": 75,
          "special-defense": 60,
          "speed": 120
         },
         [
          "electric"
         ],
         60
        ],
        [
         10159,
         "eevee-starter",
         [
          "run-away",
          "adaptability",
          "anticipation"
         ],
         87,
         3,
         {
          "attack": 75,
          "defense": 70,
          "hp": 65,
          "special-attack": 65,
          "special-defense": 85,
          "speed": 75
         },
         [
          "normal"
         ],
         65
        ],
        [
         10160,
         "pikachu-world-cap",
         [
          "static",
          "lightning-rod"
         ],
         112,
         4,
         {
          "attack": 55,
          "defense": 40,
          "hp": 35,
          "special-attack": 50,
          "special-defense": 50,
          "speed": 90
         },
         [
          "electric"
         ],
         60
        ],
        [
         10161,
         "meowth-galar",
         [
          "pickup",
          "tough-claws",
          "unnerve"
         ],
         58,
         4,
         {
          "attack": 65,
          "defense": 55,
          "hp": 50,
          "special-attack": 40,
          "special-defense": 40,
          "speed": 40
         },
         [
          "steel"
         ],
         75
        ],
        [
         10162,
         "ponyta-galar",
         [
          "run-away",
          "pastel-veil",
          "anticipation"
         ],
         82,
         8,
         {
          "attack": 85,
          "defense": 55,
          "hp": 50,
          "special-attack": 65,
          "special-defense": 65,
          "speed": 90
         },
         [
          "psychic"
         ],
         240
        ],
        [
         10163,
         "rapidash-galar",
         [
          "run-away",
          "pastel-veil",
          "anticipation"
         ],
         175,
         17,
         {
          "attack": 100,
          "defense": 70,
          "hp": 65,
          "special-attack": 80,
          "special-defense": 80,
          "speed": 105
         },
         [
          "psychic",
          "fairy"
         ],
         800
        ],
        [
         10164,
         "slowpoke-galar",
         [
          "gluttony",
          "own-tempo",
          "regenerator"
         ],
         63,
         12,
         {
          "attack": 65,
          "defense": 65,
          "hp": 90,
          "special-attack": 40,
          "special-defense": 40,
          "speed": 15
         },
         [
          "psychic"
         ],
         360
        ],
        [
         10165,
         "slowbro-galar",
         [
          "quick-draw",
          "own-tempo",
          "regenerator"
         ],
         172,
         16,
         {
          "attack": 100,
          "defense": 95,
          "hp": 95,
          "special-attack": 100,
          "special-defense": 70,
          "speed": 30
         },
         [
          "poison",
          "psychic"
         ],
         705
        ],
        [
         10166,
         "farfetchd-galar",
         [
          "steadfast",
          "scrappy"
         ],
         132,
         8,
         {
          "attack": 95,
          "defense": 55,
          "hp": 52,
          "special-attack": 58,
          "special-defense": 62,
          "speed": 55
         },
         [
          "fighting"
         ],
         420
        ],
        [
         10167,
         "weezing-galar",
         [
          "levitate",
          "neutralizing-gas",
          "misty-surge"
         ],
         172,
         30,
         {
          "attack": 90,
          "defense": 120,
          "hp": 65,
          "special-attack": 85,
          "special-defense": 70,
          "speed": 60
         },
         [
          "poison",
          "fairy"
         ],
         160
        ],
        [
         10168,
         "mr-mime-galar",
         [
          "vital-spirit",
          "screen-cleaner",
          "ice-body"
         ],
         161,
         14,
         {
          "attack": 65,
          "defense": 65,
          "hp": 50,
          "special-attack": 90,
          "special-defense": 90,
          "speed": 100
         },
         [
          "ice",
          "psychic"
         ],
         568
        ],
        [
         10169,
         "articuno-galar",
         [
          "competitive"
         ],
         290,
         17,
         {
          "attack": 85,
          "defense": 85,
          "hp": 90,
          "special-attack": 125,
          "special-defense": 100,
          "speed": 95
         },
         [
          "psychic",
          "flying"
         ],
         509
        ],
        [
         10170,
         "zapdos-galar",
         [
          "defiant"
         ],
         290,
         16,
         {
          "attack": 125,
          "defense": 90,
          "hp": 90,
          "special-attack": 85,
          "special-defense": 90,
          "speed": 100
         },
         [
          "fighting",
          "flying"
         ],
         582
        ],
        [
         10171,
         "moltres-galar",
         [
          "berserk"
         ],
         290,
         20,
         {
          "attack": 85,
          "defense": 90,
          "hp": 90,
          "special-attack": 100,
          "special-defense": 125,
          "speed": 90
         },
         [
          "dark",
          "flying"
         ],
         660
        ],
        [
         10172,
         "slowking-galar",
         [
          "curious-medicine",
          "own-tempo",
          "regenerator"
         ],
         172,
         18,
         {
          "attack": 65,
          "defense": 80,
          "hp": 95,
          "special-attack": 110,
          "special-defense": 110,
          "speed": 30
         },
         [
          "poison",
          "psychic"
         ],
         795
        ],
        [
         10173,
         "corsola-galar",
         [
          "weak-armor",
          "cursed-body"
         ],
         144,
         6,
         {
          "attack": 55,
          "defense": 100,
          "hp": 60,
          "special-attack": 65,
          "special-defense": 100,
          "speed": 30
         },
         [
          "ghost"
         ],
         5
        ],
        [
         10174,
         "zigzagoon-galar",
         [
          "pickup",
          "gluttony",
          "quick-feet"
         ],
         56,
         4,
         {
          "attack": 30,
          "defense": 41,
          "hp": 38,
          "special-attack": 30,
          "special-defense": 41,
          "speed": 60
         },
         [
          "dark",
          "normal"
         ],
         175
        ],
        [
         10175,
         "linoone-galar",
         [
          "pickup",
          "gluttony",
          "quick-feet"
         ],
         147,
         5,
         {
          "attack": 70,
          "defense": 61,
          "hp": 78,
          "special-attack": 50,
          "special-defense": 61,
          "speed": 100
         },
         [
          "dark",
          "normal"
         ],
         325
        ],
        [
         10176,
         "darumaka-galar",
         [
          "hustle",
          "inner-focus"
         ],
         63,
         7,
         {
          "attack": 90,
          "defense": 45,
          "hp": 70,
          "special-attack": 15,
          "special-defense": 45,
          "speed": 50
         },
         [
          "ice"
         ],
         400
        ],
        [
         10177,
         "darmanitan-galar-standard",
         [
          "gorilla-tactics",
          "zen-mode"
         ],
         168,
         17,
         {
          "attack": 140,
          "defense": 55,
          "hp": 105,
          "special-attack": 30,
          "special-defense": 55,
          "speed": 95
         },
         [
          "ice"
         ],
         1200
        ],
        [
         10178,
         "darmanitan-galar-zen",
         [
          "gorilla-tactics",
          "zen-mode"
         ],
         189,
         17,
         {
          "attack": 160,
          "defense": 55,
          "hp": 105,
          "special-attack": 30,
          "special-defense": 55,
          "speed": 135
         },
         [
          "ice",
          "fire"
         ],
         1200
        ],
        [
         10179,
         "yamask-galar",
         [
          "wandering-spirit"
         ],
         61,
         5,
         {
          "attack": 55,
          "defense": 85,
          "hp": 38,
          "special-attack": 30,
          "special-defense": 65,
          "speed": 30
         },
         [
          "ground",
          "ghost"
         ],
         15
        ],
        [
         10180,
         "stunfisk-galar",
         [
          "mimicry"
         ],
         165,
         7,
         {
          "attack": 81,
          "defense": 99,
          "hp": 109,
          "special-attack": 66,
          "special-defense": 84,
          "speed": 32
         },
         [
          "ground",
          "steel"
         ],
         205
        ],
        [
         10181,
         "zygarde-10",
         [
          "aura-break"
         ],
         243,
         12,
         {
          "attack": 100,
          "defense": 71,
          "hp": 54,
          "special-attack": 61,
          "special-defense": 85,
          "speed": 115
         },
         [
          "dragon",
          "ground"
         ],
         335
        ],
        [
         10182,
         "cramorant-gulping",
         [
          "gulp-missile"
         ],
         166,
         8,
         {
          "attack": 85,
          "defense": 55,
          "hp": 70,
          "special-attack": 85,
          "special-defense": 95,
          "speed": 85
         },
         [
          "flying",
          "water"
         ],
         180
        ],
        [
         10183,
         "cramorant-gorging",
         [
          "gulp-missile"
         ],
         166,
         8,
         {
          "attack": 85,
          "defense": 55,
          "hp": 70,
          "special-attack": 85,
          "special-defense": 95,
          "speed": 85
         },
         [
          "flying",
          "water"
         ],
         180
        ],
        [
         10184,
         "toxtricity-low-key",
         [
          "punk-rock",
          "minus",
          "technician"
         ],
         176,
         16,
         {
          "attack": 98,
          "defense": 70,
          "hp": 75,
          "special-attack": 114,
          "special-defense": 70,
          "speed": 75
         },
         [
          "electric",
          "poison"
         ],
         400
        ],
        [
         10185,
         "eiscue-noice",
         [
          "ice-face"
         ],
         165,
         14,
         {
          "attack": 80,
          "defense": 70,
          "hp": 75,
          "special-attack": 65,
          "special-defense": 50,
          "speed": 130
         },
         [
          "ice"
         ],
         890
        ],
        [
         10186,
         "indeedee-female",
         [
          "own-tempo",
          "synchronize",
          "psychic-surge"
         ],
         166,
         9,
         {
          "attack": 55,
          "defense": 65,
          "hp": 70,
          "special-attack": 95,
          "special-defense": 105,
          "speed": 85
         },
         [
          "psychic",
          "normal"
         ],
         280
        ],
        [
         10187,
         "morpeko-hangry",
         [
          "hunger-switch"
         ],
         153,
         3,
         {
          "attack": 95,
          "defense": 58,
          "hp": 58,
          "special-attack": 70,
          "special-defense": 58,
          "speed": 97
         },
         [
          "electric",
          "dark"
         ],
         30
        ],
        [
         10188,
         "zacian-crowned",
         [
          "intrepid-sword"
         ],
         360,
         28,
         {
          "attack": 150,
          "defense": 115,
          "hp": 92,
          "special-attack": 80,
          "special-defense": 115,
          "speed": 148
         },
         [
          "fairy",
          "steel"
         ],
         3550
        ],
        [
         10189,
         "zamazenta-crowned",
         [
          "dauntless-shield"
         ],
         360,
         29,
         {
          "attack": 120,
          "defense": 140,
          "hp": 92,
          "special-attack": 80,
          "special-defense": 140,
          "speed": 128
         },
         [
          "fighting",
          "steel"
         ],
         7850
        ],
        [
         10190,
         "eternatus-eternamax",
         [
          "pressure"
         ],
         563,
         1000,
         {
          "attack": 115,
          "defense": 250,
          "hp": 255,
          "special-attack": 125,
          "special-defense": 250,
          "speed": 130
         },
         [
          "poison",
          "dragon"
         ],
         0
        ],
        [
         10191,
         "urshifu-rapid-strike",
         [
          "unseen-fist"
         ],
         275,
         19,
         {
          "attack": 130,
          "defense": 100,
          "hp": 100,
          "special-attack": 63,
          "special-defense": 60,
          "speed": 97
         },
         [
          "fighting",
          "water"
         ],
         1050
        ],
        [
         10192,
         "zarude-dada",
         [
          "leaf-guard"
         ],
         300,
         18,
         {
          "attack": 120,
          "defense": 105,
          "hp": 105,
          "special-attack": 70,
          "special-defense": 95,
          "speed": 105
         },
         [
          "dark",
          "grass"
         ],
         700
        ],
        [
         10193,
         "calyrex-ice",
         [
          "as-one-glastrier"
         ],
         340,
         24,
         {
          "attack": 165,
          "defense": 150,
          "hp": 100,
          "special-attack": 85,
          "special-defense": 130,
          "speed": 50
         },
         [
          "psychic",
          "ice"
         ],
         8091
        ],
        [
         10194,
         "calyrex-shadow",
         [
          "as-one-spectrier"
         ],
         340,
         24,
         {
          "attack": 85,
          "defense": 80,
          "hp": 100,
          "special-attack": 165,
          "special-defense": 100,
          "speed": 150
         },
         [
          "psychic",
          "ghost"
         ],
         536
        ],
        [
         10195,
         "venusaur-gmax",
         [
          "overgrow",
          "chlorophyll"
         ],
         236,
         240,
         {
          "attack": 82,
          "defense": 83,
          "hp": 80,
          "special-attack": 100,
          "special-defense": 100,
          "speed": 80
         },
         [
          "grass",
          "poison"
         ],
         10000
        ],
        [
         10196,
         "charizard-gmax",
         [
          "blaze",
          "solar-power"
         ],
         240,
         280,
         {
          "attack": 84,
          "defense": 78,
          "hp": 78,
          "special-attack": 109,
          "special-defense": 85,
          "speed": 100
         },
         [
          "fire",
          "flying"
         ],
         10000
        ],
        [
         10197,
         "blastoise-gmax",
         [
          "torrent",
          "rain-dish"
         ],
         239,
         250,
         {
          "attack": 83,
          "defense": 100,
          "hp": 79,
          "special-attack": 85,
          "special-defense": 105,
          "speed": 78
         },
         [
          "water"
         ],
         10000
        ],
        [
         10198,
         "butterfree-gmax",
         [
          "compound-eyes",
          "tinted-lens"
         ],
         178,
         170,
         {
          "attack": 45,
          "defense": 50,
          "hp": 60,
          "special-attack": 90,
          "special-defense": 80,
          "speed": 70
         },
         [
          "bug",
          "flying"
         ],
         10000
        ],
        [
         10199,
         "pikachu-gmax",
         [
          "static",
          "lightning-rod"
         ],
         112,
         210,
         {
          "attack": 55,
          "defense": 40,
          "hp": 35,
          "special-attack": 50,
          "special-defense": 50,
          "speed": 90
         },
         [
          "electric"
         ],
         10000
        ],
        [
         10200,
         "meowth-gmax",
         [
          "pickup",
          "technician",
          "unnerve"
         ],
         58,
         330,
         {
          "attack": 45,
          "defense": 35,
          "hp": 40,
          "special-attack": 40,
          "special-defense": 40,
          "speed": 90
         },
         [
          "normal"
         ],
         10000
        ],
        [
         10201,
         "machamp-gmax",
         [
          "guts",
          "no-guard",
          "steadfast"
         ],
         227,
         250,
         {
          "attack": 130,
          "defense": 80,
          "hp": 90,
          "special-attack": 65,
          "special-defense": 85,
          "speed": 55
         },
         [
          "fighting"
         ],
         10000
        ],
        [
         10202,
         "gengar-gmax",
         [
          "cursed-body"
         ],
         225,
         200,
         {
          "attack": 65,
          "defense": 60,
          "hp": 60,
          "special-attack": 130,
          "special-defense": 75,
          "speed": 110
         },
         [
          "ghost",
          "poison"
         ],
         10000
        ],
        [
         10203,
         "kingler-gmax",
         [
          "hyper-cutter",
          "shell-armor",
          "sheer-force"
         ],
         166,
         190,
         {
          "attack": 130,
          "defense": 115,
          "hp": 55,
          "special-attack": 50,
          "special-defense": 50,
          "speed": 75
         },
         [
          "water"
         ],
         10000
        ],
        [
         10204,
         "lapras-gmax",
         [
          "water-absorb",
          "shell-armor",
          "hydration"
         ],
         187,
         240,
         {
          "attack": 85,
          "defense": 80,
          "hp": 130,
          "special-attack": 85,
          "special-defense": 95,
          "speed": 60
         },
         [
          "water",
          "ice"
         ],
         10000
        ],
        [
         10205,
         "eevee-gmax",
         [
          "run-away",
          "adaptability",
          "anticipation"
         ],
         65,
         180,
         {
          "attack": 55,
          "defense": 50,
          "hp": 55,
          "special-attack": 45,
          "special-defense": 65,
          "speed": 55
         },
         [
          "normal"
         ],
         10000
        ],
        [
         10206,
         "snorlax-gmax",
         [
          "immunity",
          "thick-fat",
          "gluttony"
         ],
         189,
         350,
         {
          "attack": 110,
          "defense": 65,
          "hp": 160,
          "special-attack": 65,
          "special-defense": 110,
          "speed": 30
         },
         [
          "normal"
         ],
         10000
        ],
        [
         10207,
         "garbodor-gmax",
         [
          "stench",
          "weak-armor",
          "aftermath"
         ],
         166,
         210,
         {
          "attack": 95,
          "defense": 82,
          "hp": 80,
          "special-attack": 60,
          "special-defense": 82,
          "speed": 75
         },
         [
          "poison"
         ],
         10000
        ],
        [
         10208,
         "melmetal-gmax",
         [
          "iron-fist"
         ],
         270,
         250,
         {
          "attack": 143,
          "defense": 143,
          "hp": 135,
          "special-attack": 80,
          "special-defense": 65,
          "speed": 34
         },
         [
          "steel"
         ],
         10000
        ],
        [
         10209,
         "rillaboom-gmax",
         [
          "overgrow",
          "grassy-surge"
         ],
         265,
         280,
         {
          "attack": 125,
          "defense": 90,
          "hp": 100,
          "special-attack": 60,
          "special-defense": 70,
          "speed": 85
         },
         [
          "grass"
         ],
         10000
        ],
        [
         10210,
         "cinderace-gmax",
         [
          "blaze",
          "libero"
         ],
         265,
         270,
         {
          "attack": 116,
          "defense": 75,
          "hp": 80,
          "special-attack": 65,
          "special-defense": 75,
          "speed": 119
         },
         [
          "fire"
         ],
         10000
        ],
        [
         10211,
         "inteleon-gmax",
         [
          "torrent",
          "sniper"
         ],
         265,
         400,
         {
          "attack": 85,
          "defense": 65,
          "hp": 70,
          "special-attack": 125,
          "special-defense": 65,
          "speed": 120
         },
         [
          "water"
         ],
         10000
        ],
        [
         10212,
         "corviknight-gmax",
         [
          "pressure",
          "unnerve",
          "mirror-armor"
         ],
         248,
         140,
         {
          "attack": 87,
          "defense": 105,
          "hp": 98,
          "special-attack": 53,
          "special-defense": 85,
          "speed": 67
         },
         [
          "flying",
          "steel"
         ],
         10000
        ],
        [
         10213,
         "orbeetle-gmax",
         [
          "swarm",
          "frisk",
          "telepathy"
         ],
         253,
         140,
         {
          "attack": 45,
          "defense": 110,
          "hp": 60,
          "special-attack": 80,
          "special-defense": 120,
          "speed": 90
         },
         [
          "bug",
          "psychic"
         ],
         10000
        ],
        [
         10214,
         "drednaw-gmax",
         [
          "strong-jaw",
          "shell-armor",
          "swift-swim"
         ],
         170,
         240,
         {
          "attack": 115,
          "defense": 90,
          "hp": 90,
          "special-attack": 48,
          "special-defense": 68,
          "speed": 74
         },
         [
          "water",
          "rock"
         ],
         10000
        ],
        [
         10215,
         "coalossal-gmax",
         [
          "steam-engine",
          "flame-body",
          "flash-fire"
         ],
         255,
         420,
         {
          "attack": 80,
          "defense": 120,
          "hp": 110,
          "special-attack": 80,
          "special-defense": 90,
          "speed": 30
         },
         [
          "rock",
          "fire"
         ],
         10000
        ],
        [
         10216,
         "flapple-gmax",
         [
          "ripen",
          "gluttony",
          "hustle"
         ],
         170,
         240,
         {
          "attack": 110,
          "defense": 80,
          "hp": 70,
          "special-attack": 95,
          "special-defense": 60,
          "speed": 70
         },
         [
          "grass",
          "dragon"
         ],
         10000
        ],
        [
         10217,
         "appletun-gmax",
         [
          "ripen",
          "gluttony",
          "thick-fat"
         ],
         170,
         240,
         {
          "attack": 85,
          "defense": 80,
          "hp": 110,
          "special-attack": 100,
          "special-defense": 80,
          "speed": 30
         },
         [
          "grass",
          "dragon"
         ],
         10000
        ],
        [
         10218,
         "sandaconda-gmax",
         [
          "sand-spit",
          "shed-skin",
          "sand-veil"
         ],
         179,
         220,
         {
          "attack": 107,
          "defense": 125,
          "hp": 72,
          "special-attack": 65,
          "special-defense": 70,
          "speed": 71
         },
         [
          "ground"
         ],
         10000
        ],
        [
         10219,
         "toxtricity-amped-gmax",
         [
          "punk-rock",
          "plus",
          "technician"
         ],
         176,
         240,
         {
          "attack": 98,
          "defense": 70,
          "hp": 75,
          "special-attack": 114,
          "special-defense": 70,
          "speed": 75
         },
         [
          "electric",
          "poison"
         ],
         10000
        ],
        [
         10220,
         "centiskorch-gmax",
         [
          "flash-fire",
          "white-smoke",
          "flame-body"
         ],
         184,
         750,
         {
          "attack": 115,
          "defense": 65,
          "hp": 100,
          "special-attack": 90,
          "special-defense": 90,
          "speed": 65
         },
         [
          "fire",
          "bug"
         ],
         10000
        ],
        [
         10221,
         "hatterene-gmax",
         [
          "healer",
          "anticipation",
          "magic-bounce"
         ],
         255,
         260,
         {
          "attack": 90,
          "defense": 95,
          "hp": 57,
          "special-attack": 136,
          "special-defense": 103,
          "speed": 29
         },
         [
          "psychic",
          "fairy"
         ],
         10000
        ],
        [
         10222,
         "grimmsnarl-gmax",
         [
          "prankster",
          "frisk",
          "pickpocket"
         ],
         255,
         320,
         {
          "attack": 120,
          "defense": 65,
          "hp": 95,
          "special-attack": 95,
          "special-defense": 75,
          "speed": 60
         },
         [
          "dark",
          "fairy"
         ],
         10000
        ],
        [
         10223,
         "alcremie-gmax",
         [
          "sweet-veil",
          "aroma-veil"
         ],
         173,
         300,
         {
          "attack": 60,
          "defense": 75,
          "hp": 65,
          "special-attack": 110,
          "special-defense": 121,
          "speed": 64
         },
         [
          "fairy"
         ],
         10000
        ],
        [
         10224,
         "copperajah-gmax",
         [
          "sheer-force",
          "heavy-metal"
         ],
         175,
         230,
         {
          "attack": 130,
          "defense": 69,
          "hp": 122,
          "special-attack": 80,
          "special-defense": 69,
          "speed": 30
         },
         [
          "steel"
         ],
         10000
        ],
        [
         10225,
         "duraludon-gmax",
         [
          "light-metal",
          "heavy-metal",
          "stalwart"
         ],
         187,
         430,
         {
          "attack": 95,
          "defense": 115,
          "hp": 70,
          "special-attack": 120,
          "special-defense": 50,
          "speed": 85
         },
         [
          "steel",
          "dragon"
         ],
         10000
        ],
        [
         10226,
         "urshifu-single-strike-gmax",
         [
          "unseen-fist"
         ],
         275,
         290,
         {
          "attack": 130,
          "defense": 100,
          "hp": 100,
          "special-attack": 63,
          "special-defense": 60,
          "speed": 97
         },
         [
          "fighting",
          "dark"
         ],
         10000
        ],
        [
         10227,
         "urshifu-rapid-strike-gmax",
         [
          "unseen-fist"
         ],
         275,
         260,
         {
          "attack": 130,
          "defense": 100,
          "hp": 100,
          "special-attack": 63,
          "special-defense": 60,
          "speed": 97
         },
         [
          "fighting",
          "water"
         ],
         10000
        ],
        [
         10228,
         "toxtricity-low-key-gmax",
         [
          "punk-rock",
          "minus",
          "technician"
         ],
         176,
         240,
         {
          "attack": 98,
          "defense": 70,
          "hp": 75,
          "special-attack": 114,
          "special-defense": 70,
          "speed": 75
         },
         [
          "electric",
          "poison"
         ],
         10000
        ],
        [
         10229,
         "growlithe-hisui",
         [
          "intimidate",
          "flash-fire",
          "rock-head"
         ],
         70,
         8,
         {
          "attack": 75,
          "defense": 45,
          "hp": 60,
          "special-attack": 65,
          "special-defense": 50,
          "speed": 55
         },
         [
          "fire",
          "rock"
         ],
         227
        ],
        [
         10230,
         "arcanine-hisui",
         [
          "intimidate",
          "flash-fire",
          "rock-head"
         ],
         194,
         20,
         {
          "attack": 115,
          "defense": 80,
          "hp": 95,
          "special-attack": 95,
          "special-defense": 80,
          "speed": 90
         },
         [
          "fire",
          "rock"
         ],
         1680
        ],
        [
         10231,
         "voltorb-hisui",
         [
          "soundproof",
          "static",
          "aftermath"
         ],
         66,
         5,
         {
          "attack": 30,
          "defense": 50,
          "hp": 40,
          "special-attack": 55,
          "special-defense": 55,
          "speed": 100
         },
         [
          "electric",
          "grass"
         ],
         130
        ],
        [
         10232,
         "electrode-hisui",
         [
          "soundproof",
          "static",
          "aftermath"
         ],
         172,
         12,
         {
          "attack": 50,
          "defense": 70,
          "hp": 60,
          "special-attack": 80,
          "special-defense": 80,
          "speed": 150
         },
         [
          "electric",
          "grass"
         ],
         710
        ],
        [
         10233,
         "typhlosion-hisui",
         [
          "blaze",
          "frisk"
         ],
         240,
         16,
         {
          "attack": 84,
          "defense": 78,
          "hp": 73,
          "special-attack": 119,
          "special-defense": 85,
          "speed": 95
         },
         [
          "fire",
          "ghost"
         ],
         698
        ],
        [
         10234,
         "qwilfish-hisui",
         [
          "poison-point",
          "swift-swim",
          "intimidate"
         ],
         88,
         5,
         {
          "attack": 95,
          "defense": 85,
          "hp": 65,
          "special-attack": 55,
          "special-defense": 55,
          "speed": 85
         },
         [
          "dark",
          "poison"
         ],
         39
        ],
        [
         10235,
         "sneasel-hisui",
         [
          "inner-focus",
          "keen-eye",
          "pickpocket"
         ],
         86,
         9,
         {
          "attack": 95,
          "defense": 55,
          "hp": 55,
          "special-attack": 35,
          "special-defense": 75,
          "speed": 115
         },
         [
          "fighting",
          "poison"
         ],
         270
        ],
        [
         10236,
         "samurott-hisui",
         [
          "torrent",
          "sharpness"
         ],
         238,
         15,
         {
          "attack": 108,
          "defense": 80,
          "hp": 90,
          "special-attack": 100,
          "special-defense": 65,
          "speed": 85
         },
         [
          "water",
          "dark"
         ],
         582
        ],
        [
         10237,
         "lilligant-hisui",
         [
          "chlorophyll",
          "hustle",
          "leaf-guard"
         ],
         168,
         12,
         {
          "attack": 105,
          "defense": 75,
          "hp": 70,
          "special-attack": 50,
          "special-defense": 75,
          "speed": 105
         },
         [
          "grass",
          "fighting"
         ],
         192
        ],
        [
         10238,
         "zorua-hisui",
         [
          "illusion"
         ],
         66,
         7,
         {
          "attack": 60,
          "defense": 40,
          "hp": 35,
          "special-attack": 85,
          "special-defense": 40,
          "speed": 70
         },
         [
          "normal",
          "ghost"
         ],
         125
        ],
        [
         10239,
         "zoroark-hisui",
         [
          "illusion"
         ],
         179,
         16,
         {
          "attack": 100,
          "defense": 60,
          "hp": 55,
          "special-attack": 125,
          "special-defense": 60,
          "speed": 110
         },
         [
          "normal",
          "ghost"
         ],
         730
        ],
        [
         10240,
         "braviary-hisui",
         [
          "keen-eye",
          "sheer-force",
          "tinted-lens"
         ],
         179,
         17,
         {
          "attack": 83,
          "defense": 70,
          "hp": 110,
          "special-attack": 112,
          "special-defense": 70,
          "speed": 65
         },
         [
          "psychic",
          "flying"
         ],
         434
        ],
        [
         10241,
         "sliggoo-hisui",
         [
          "sap-sipper",
          "shell-armor",
          "gooey"
         ],
         158,
         7,
         {
          "attack": 75,
          "defense": 83,
          "hp": 58,
          "special-attack": 83,
          "special-defense": 113,
          "speed": 40
         },
         [
          "steel",
          "dragon"
         ],
         685
        ],
        [
         10242,
         "goodra-hisui",
         [
          "sap-sipper",
          "shell-armor",
          "gooey"
         ],
         270,
         17,
         {
          "attack": 100,
          "defense": 100,
          "hp": 80,
          "special-attack": 110,
          "special-defense": 150,
          "speed": 60
         },
         [
          "steel",
          "dragon"
         ],
         3341
        ],
        [
         10243,
         "avalugg-hisui",
         [
          "strong-jaw",
          "ice-body",
          "sturdy"
         ],
         180,
         14,
         {
          "attack": 127,
          "defense": 184,
          "hp": 95,
          "special-attack": 34,
          "special-defense": 36,
          "speed": 38
         },
         [
          "ice",
          "rock"
         ],
         2624
        ],
        [
         10244,
         "decidueye-hisui",
         [
          "overgrow",
          "scrappy"
         ],
         239,
         16,
         {
          "attack": 112,
          "defense": 80,
          "hp": 88,
          "special-attack": 95,
          "special-defense": 95,
          "speed": 60
         },
         [
          "grass",
          "fighting"
         ],
         370
        ],
        [
         10245,
         "dialga-origin",
         [
          "pressure",
          "telepathy"
         ],
         306,
         70,
         {
          "attack": 100,
          "defense": 120,
          "hp": 100,
          "special-attack": 150,
          "special-defense": 120,
          "speed": 90
         },
         [
          "steel",
          "dragon"
         ],
         8487
        ],
        [
         10246,
         "palkia-origin",
         [
          "pressure",
          "telepathy"
         ],
         306,
         63,
         {
          "attack": 100,
          "defense": 100,
          "hp": 90,
          "special-attack": 150,
          "special-defense": 120,
          "speed": 120
         },
         [
          "water",
          "dragon"
         ],
         6590
        ],
        [
         10247,
         "basculin-white-striped",
         [
          "rattled",
          "adaptability",
          "mold-breaker"
         ],
         161,
         10,
         {
          "attack": 92,
          "defense": 65,
          "hp": 70,
          "special-attack": 80,
          "special-defense": 55,
          "speed": 98
         },
         [
          "water"
         ],
         180
        ],
        [
         10248,
         "basculegion-female",
         [
          "swift-swim",
          "adaptability",
          "mold-breaker"
         ],
         265,
         30,
         {
          "attack": 92,
          "defense": 65,
          "hp": 120,
          "special-attack": 100,
          "special-defense": 75,
          "speed": 78
         },
         [
          "water",
          "ghost"
         ],
         1100
        ],
        [
         10249,
         "enamorus-therian",
         [
          "overcoat"
         ],
         116,
         16,
         {
          "attack": 115,
          "defense": 110,
          "hp": 74,
          "special-attack": 135,
          "special-defense": 100,
          "speed": 46
         },
         [
          "fairy",
          "flying"
         ],
         480
        ],
        [
         10250,
         "tauros-paldea-combat-breed",
         [
          "intimidate",
          "anger-point",
          "cud-chew"
         ],
         172,
         14,
         {
          "attack": 110,
          "defense": 105,
          "hp": 75,
          "special-attack": 30,
          "special-defense": 70,
          "speed": 100
         },
         [
          "fighting"
         ],
         1150
        ],
        [
         10251,
         "tauros-paldea-blaze-breed",
         [
          "intimidate",
          "anger-point",
          "cud-chew"
         ],
         172,
         14,
         {
          "attack": 110,
          "defense": 105,
          "hp": 75,
          "special-attack": 30,
          "special-defense": 70,
          "speed": 100
         },
         [
          "fighting",
          "fire"
         ],
         850
        ],
        [
         10252,
         "tauros-paldea-aqua-breed",
         [
          "intimidate",
          "anger-point",
          "cud-chew"
         ],
         172,
         14,
         {
          "attack": 110,
          "defense": 105,
          "hp": 75,
          "special-attack": 30,
          "special-defense": 70,
          "speed": 100
         },
         [
          "fighting",
          "water"
         ],
         1100
        ],
        [
         10253,
         "wooper-paldea",
         [
          "poison-point",
          "water-absorb",
          "unaware"
         ],
         42,
         4,
         {
          "attack": 45,
          "defense": 45,
          "hp": 55,
          "special-attack": 25,
          "special-defense": 25,
          "speed": 15
         },
         [
          "poison",
          "ground"
         ],
         110
        ],
        [
         10254,
         "oinkologne-female",
         [
          "aroma-veil",
          "gluttony",
          "thick-fat"
         ],
         171,
         10,
         {
          "attack": 90,
          "defense": 70,
          "hp": 115,
          "special-attack": 59,
          "special-defense": 90,
          "speed": 65
         },
         [
          "normal"
         ],
         1200
        ],
        [
         10255,
         "dudunsparce-three-segment",
         [
          "serene-grace",
          "run-away",
          "rattled"
         ],
         182,
         45,
         {
          "attack": 100,
          "defense": 80,
          "hp": 125,
          "special-attack": 85,
          "special-defense": 75,
          "speed": 55
         },
         [
          "normal"
         ],
         474
        ],
        [
         10256,
         "palafin-hero",
         [
          "zero-to-hero",
          "zero-to-hero"
         ],
         160,
         18,
         {
          "attack": 160,
          "defense": 97,
          "hp": 100,
          "special-attack": 106,
          "special-defense": 87,
          "speed": 100
         },
         [
          "water"
         ],
         974
        ],
        [
         10257,
         "maushold-family-of-three",
         [
          "friend-guard",
          "cheek-pouch",
          "technician"
         ],
         165,
         3,
         {
          "attack": 75,
          "defense": 70,
          "hp": 74,
          "special-attack": 65,
          "special-defense": 75,
          "speed": 111
         },
         [
          "normal"
         ],
         28
        ],
        [
         10258,
         "tatsugiri-droopy",
         [
          "commander",
          "storm-drain"
         ],
         166,
         3,
         {
          "attack": 50,
          "defense": 60,
          "hp": 68,
          "special-attack": 120,
          "special-defense": 95,
          "speed": 82
         },
         [
          "dragon",
          "water"
         ],
         80
        ],
        [
         10259,
         "tatsugiri-stretchy",
         [
          "commander",
          "storm-drain"
         ],
         166,
         3,
         {
          "attack": 50,
          "defense": 60,
          "hp": 68,
          "special-attack": 120,
          "special-defense": 95,
          "speed": 82
         },
         [
          "dragon",
          "water"
         ],
         80
        ],
        [
         10260,
         "squawkabilly-blue-plumage",
         [
          "intimidate",
          "hustle",
          "guts"
         ],
         146,
         6,
         {
          "attack": 96,
          "defense": 51,
          "hp": 82,
          "special-attack": 45,
          "special-defense": 51,
          "speed": 92
         },
         [
          "normal",
          "flying"
         ],
         24
        ],
        [
         10261,
         "squawkabilly-yellow-plumage",
         [
          "intimidate",
          "hustle",
          "sheer-force"
         ],
         146,
         6,
         {
          "attack": 96,
          "defense": 51,
          "hp": 82,
          "special-attack": 45,
          "special-defense": 51,
          "speed": 92
         },
         [
          "normal",
          "flying"
         ],
         24
        ],
        [
         10262,
         "squawkabilly-white-plumage",
         [
          "intimidate",
          "hustle",
          "sheer-force"
         ],
         146,
         6,
         {
          "attack": 96,
          "defense": 51,
          "hp": 82,
          "special-attack": 45,
          "special-defense": 51,
          "speed": 92
         },
         [
          "normal",
          "flying"
         ],
         24
        ],
        [
         10263,
         "gimmighoul-roaming",
         [
          "run-away",
          "run-away"
         ],
         60,
         1,
         {
          "attack": 30,
          "defense": 25,
          "hp": 45,
          "special-attack": 75,
          "special-defense": 45,
          "speed": 80
         },
         [
          "ghost"
         ],
         10
        ],
        [
         10264,
         "koraidon-limited-build",
         [
          "orichalcum-pulse",
          "orichalcum-pulse"
         ],
         335,
         35,
         {
          "attack": 135,
          "defense": 115,
          "hp": 100,
          "special-attack": 85,
          "special-defense": 100,
          "speed": 135
         },
         [
          "fighting",
          "dragon"
         ],
         3030
        ],
        [
         10265,
         "koraidon-sprinting-build",
         [
          "orichalcum-pulse",
          "orichalcum-pulse"
         ],
         335,
         35,
         {
          "attack": 135,
          "defense": 115,
          "hp": 100,
          "special-attack": 85,
          "special-defense": 100,
          "speed": 135
         },
         [
          "fighting",
          "dragon"
         ],
         3030
        ],
        [
         10266,
         "koraidon-swimming-build",
         [
          "orichalcum-pulse",
          "orichalcum-pulse"
         ],
         335,
         35,
         {
          "attack": 135,
          "defense": 115,
          "hp": 100,
          "special-attack": 85,
          "special-defense": 100,
          "speed": 135
         },
         [
          "fighting",
          "dragon"
         ],
         3030
        ],
        [
         10267,
         "koraidon-gliding-build",
         [
          "orichalcum-pulse",
          "orichalcum-pulse"
         ],
         335,
         35,
         {
          "attack": 135,
          "defense": 115,
          "hp": 100,
          "special-attack": 85,
          "special-defense": 100,
          "speed": 135
         },
         [
          "fighting",
          "dragon"
         ],
         3030
        ],
        [
         10268,
         "miraidon-low-power-mode",
         [
          "hadron-engine",
          "hadron-engine"
         ],
         335,
         28,
         {
          "attack": 85,
          "defense": 100,
          "hp": 100,
          "special-attack": 135,
          "special-defense": 115,
          "speed": 135
         },
         [
          "electric",
          "dragon"
         ],
         2400
        ],
        [
         10269,
         "miraidon-drive-mode",
         [
          "hadron-engine",
          "hadron-engine"
         ],
         335,
         28,
         {
          "attack": 85,
          "defense": 100,
          "hp": 100,
          "special-attack": 135,
          "special-defense": 115,
          "speed": 135
         },
         [
          "electric",
          "dragon"
         ],
         2400
        ],
        [
         10270,
         "miraidon-aquatic-mode",
         [
          "hadron-engine",
          "hadron-engine"
         ],
         335,
         28,
         {
          "attack": 85,
          "defense": 100,
          "hp": 100,
          "special-attack": 135,
          "special-defense": 115,
          "speed": 135
         },
         [
          "electric",
          "dragon"
         ],
         2400
        ],
        [
         10271,
         "miraidon-glide-mode",
         [
          "hadron-engine",
          "hadron-engine"
         ],
         335,
         28,
         {
          "attack": 85,
          "defense": 100,
          "hp": 100,
          "special-attack": 135,
          "special-defense": 115,
          "speed": 135
         },
         [
          "electric",
          "dragon"
         ],
         2400
        ],
        [
         10272,
         "ursaluna-bloodmoon",
         [
          "minds-eye"
         ],
         275,
         24,
         {
          "attack": 70,
          "defense": 120,
          "hp": 113,
          "special-attack": 135,
          "special-defense": 65,
          "speed": 52
         },
         [
          "ground",
          "normal"
         ],
         2900
        ],
        [
         10273,
         "ogerpon-wellspring-mask",
         [
          "water-absorb"
         ],
         275,
         12,
         {
          "attack": 120,
          "defense": 84,
          "hp": 80,
          "special-attack": 60,
          "special-defense": 96,
          "speed": 110
         },
         [
          "grass",
          "water"
         ],
         398
        ],
        [
         10274,
         "ogerpon-hearthflame-mask",
         [
          "mold-breaker"
         ],
         275,
         12,
         {
          "attack": 120,
          "defense": 84,
          "hp": 80,
          "special-attack": 60,
          "special-defense": 96,
          "speed": 110
         },
         [
          "grass",
          "fire"
         ],
         398
        ],
        [
         10275,
         "ogerpon-cornerstone-mask",
         [
          "sturdy"
         ],
         275,
         12,
         {
          "attack": 120,
          "defense": 84,
          "hp": 80,
          "special-attack": 60,
          "special-defense": 96,
          "speed": 110
         },
         [
          "grass",
          "rock"
         ],
         398
        ],
        [
         10276,
         "terapagos-terastal",
         [
          "tera-shell"
         ],
         90,
         3,
         {
          "attack": 95,
          "defense": 110,
          "hp": 95,
          "special-attack": 105,
          "special-defense": 110,
          "speed": 85
         },
         [
          "normal"
         ],
         160
        ],
        [
         10277,
         "terapagos-stellar",
         [
          "teraform-zero"
         ],
         90,
         17,
         {
          "attack": 105,
          "defense": 110,
          "hp": 160,
          "special-attack": 130,
          "special-defense": 110,
          "speed": 85
         },
         [
          "normal"
         ],
         770
        ]
       ],
       "datasetInfos": [],
       "dbfsResultPath": null,
       "isJsonSchema": true,
       "metadata": {},
       "overflow": false,
       "plotOptions": {
        "customPlotOptions": {},
        "displayType": "table",
        "pivotAggregation": null,
        "pivotColumns": null,
        "xColumns": null,
        "yColumns": null
       },
       "removedWidgets": [],
       "schema": [
        {
         "metadata": "{}",
         "name": "id",
         "type": "\"long\""
        },
        {
         "metadata": "{}",
         "name": "name",
         "type": "\"string\""
        },
        {
         "metadata": "{}",
         "name": "abilities",
         "type": "{\"type\":\"array\",\"elementType\":\"string\",\"containsNull\":true}"
        },
        {
         "metadata": "{}",
         "name": "base_experience",
         "type": "\"long\""
        },
        {
         "metadata": "{}",
         "name": "height",
         "type": "\"long\""
        },
        {
         "metadata": "{}",
         "name": "stats",
         "type": "{\"type\":\"map\",\"keyType\":\"string\",\"valueType\":\"long\",\"valueContainsNull\":true}"
        },
        {
         "metadata": "{}",
         "name": "types",
         "type": "{\"type\":\"array\",\"elementType\":\"string\",\"containsNull\":true}"
        },
        {
         "metadata": "{}",
         "name": "weight",
         "type": "\"long\""
        }
       ],
       "type": "table"
      }
     },
     "output_type": "display_data"
    }
   ],
   "source": [
    "# Function to fetch data and normalize nested fields\n",
    "def fetch_data(url):\n",
    "    response = requests.get(url).json()\n",
    "\n",
    "    # Normalize abilities, types, and stats\n",
    "    abilities = [ability[\"ability\"][\"name\"] for ability in response.get(\"abilities\", [])]\n",
    "    types = [t[\"type\"][\"name\"] for t in response.get(\"types\", [])]\n",
    "    stats = {stat[\"stat\"][\"name\"]: stat[\"base_stat\"] for stat in response.get(\"stats\", [])}\n",
    "\n",
    "    return {\n",
    "        \"id\": response.get(\"id\"),\n",
    "        \"name\": response.get(\"name\"),\n",
    "        \"base_experience\": response.get(\"base_experience\"),\n",
    "        \"height\": response.get(\"height\"),\n",
    "        \"weight\": response.get(\"weight\"),\n",
    "        \"abilities\": abilities,\n",
    "        \"types\": types,\n",
    "        \"stats\": stats,\n",
    "    }\n",
    "\n",
    "# Fetch all Pokémon URLs (paginated API)\n",
    "def get_all_pokemon_urls():\n",
    "    base_url = \"https://pokeapi.co/api/v2/pokemon?limit=100\"\n",
    "    urls = []\n",
    "    next_url = base_url\n",
    "\n",
    "    while next_url:\n",
    "        response = requests.get(next_url).json()\n",
    "        urls.extend([pokemon[\"url\"] for pokemon in response[\"results\"]])\n",
    "        next_url = response.get(\"next\")  # Get the next page URL\n",
    "\n",
    "    return urls\n",
    "\n",
    "# Get all Pokémon URLs\n",
    "urls = get_all_pokemon_urls()\n",
    "\n",
    "# Use tqdm for progress bar and multiprocessing to fetch data\n",
    "with Pool(4) as p:\n",
    "    pokemon_data = list(tqdm(p.imap(fetch_data, urls), total=len(urls), desc=\"Fetching Pokémon Data\"))\n",
    "\n",
    "# Create Spark DataFrame with dynamically inferred schema\n",
    "pokemon_df = spark.createDataFrame(pokemon_data)\n",
    "\n",
    "# Reorder columns: id, name first, followed by others\n",
    "ordered_columns = [\"id\", \"name\"] + [col for col in pokemon_df.columns if col not in [\"id\", \"name\"]]\n",
    "pokemon_df = pokemon_df.select(ordered_columns)\n",
    "\n",
    "# Print the reordered schema\n",
    "print(\"Reordered schema of the Pokémon DataFrame:\")\n",
    "pokemon_df.printSchema()\n",
    "\n",
    "# Display the DataFrame\n",
    "pokemon_df.display()"
   ]
  },
  {
   "cell_type": "code",
   "execution_count": 0,
   "metadata": {
    "application/vnd.databricks.v1+cell": {
     "cellMetadata": {},
     "inputWidgets": {},
     "nuid": "d13d6de4-d6b2-46fc-aac0-95e8fb4fdb95",
     "showTitle": false,
     "tableResultSettingsMap": {},
     "title": ""
    }
   },
   "outputs": [],
   "source": []
  }
 ],
 "metadata": {
  "application/vnd.databricks.v1+notebook": {
   "computePreferences": null,
   "dashboards": [],
   "environmentMetadata": {
    "base_environment": "",
    "client": "1"
   },
   "language": "python",
   "notebookMetadata": {
    "pythonIndentUnit": 4
   },
   "notebookName": "extraction",
   "widgets": {}
  }
 },
 "nbformat": 4,
 "nbformat_minor": 0
}
